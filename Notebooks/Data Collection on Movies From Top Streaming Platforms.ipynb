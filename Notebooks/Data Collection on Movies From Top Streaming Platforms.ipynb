{
 "cells": [
  {
   "cell_type": "code",
   "execution_count": null,
   "id": "73d8a3de",
   "metadata": {},
   "outputs": [],
   "source": [
    "import pandas as pd\n",
    "import requests\n",
    "from bs4 import BeautifulSoup\n",
    "from selenium import webdriver\n",
    "from selenium.webdriver.common.by import By\n",
    "import time"
   ]
  },
  {
   "cell_type": "markdown",
   "id": "0dfda06f",
   "metadata": {},
   "source": [
    "## Data Collection for Netflix, AmazonPrime,Disney+ and Hulu Movies from [justwatch.com](https://www.justwatch.com)"
   ]
  },
  {
   "cell_type": "markdown",
   "id": "2acbdb7f",
   "metadata": {},
   "source": [
    "Web Scraping movies from streaming platfroms(Netflix,Amazon-Prime, Disney+ and Hulu) from a website 'justwatch.com'using selenium. The Movies scraped along with other information was about 1500+ and this would be used for further analysis"
   ]
  },
  {
   "cell_type": "code",
   "execution_count": 5,
   "id": "297419c9",
   "metadata": {},
   "outputs": [],
   "source": [
    "#create a function to scroll the webpage using selenium\n",
    "\n",
    "def scroll_down(driver):\n",
    "    # Scroll down to load more movies\n",
    "    for i in range(50):  # adjust range based on how many times you want to scroll down\n",
    "        driver.execute_script(\"window.scrollTo(0, document.body.scrollHeight);\")\n",
    "        time.sleep(8)\n",
    "        try:\n",
    "            driver.find_element(By.CSS_SELECTOR, \".custom-infinite-scroll.custom-infinite-scroll--hidden-spinner\").click()\n",
    "        except:\n",
    "            break\n",
    "\n",
    "    SCROLL_PAUSE_TIME = 10\n",
    "    last_height = driver.execute_script(\"return document.body.scrollHeight\")\n",
    "    while True:\n",
    "        driver.execute_script(\"window.scrollTo(0, document.body.scrollHeight);\")\n",
    "        time.sleep(SCROLL_PAUSE_TIME)\n",
    "        new_height = driver.execute_script(\"return document.body.scrollHeight\")\n",
    "        if new_height == last_height:\n",
    "            break\n",
    "        last_height = new_height "
   ]
  },
  {
   "cell_type": "markdown",
   "id": "2499ba54",
   "metadata": {},
   "source": [
    "## Getting all  Movies Data From 2013-2022"
   ]
  },
  {
   "cell_type": "code",
   "execution_count": 6,
   "id": "02f517ab",
   "metadata": {},
   "outputs": [
    {
     "ename": "NameError",
     "evalue": "name 'webdriver' is not defined",
     "output_type": "error",
     "traceback": [
      "\u001b[0;31m---------------------------------------------------------------------------\u001b[0m",
      "\u001b[0;31mNameError\u001b[0m                                 Traceback (most recent call last)",
      "\u001b[0;32m/var/folders/mp/37ndhfvn70xdgjmd9pxbyzm80000gn/T/ipykernel_3022/2348906667.py\u001b[0m in \u001b[0;36m<module>\u001b[0;34m\u001b[0m\n\u001b[1;32m     30\u001b[0m \u001b[0;34m\u001b[0m\u001b[0m\n\u001b[1;32m     31\u001b[0m \u001b[0;31m# Create empty lists for movie data\u001b[0m\u001b[0;34m\u001b[0m\u001b[0;34m\u001b[0m\u001b[0m\n\u001b[0;32m---> 32\u001b[0;31m \u001b[0murls\u001b[0m \u001b[0;34m=\u001b[0m \u001b[0mget_movies_data\u001b[0m\u001b[0;34m(\u001b[0m\u001b[0;34m)\u001b[0m\u001b[0;34m\u001b[0m\u001b[0;34m\u001b[0m\u001b[0m\n\u001b[0m\u001b[1;32m     33\u001b[0m \u001b[0mMovies\u001b[0m \u001b[0;34m=\u001b[0m \u001b[0;34m[\u001b[0m\u001b[0;34m]\u001b[0m\u001b[0;34m\u001b[0m\u001b[0;34m\u001b[0m\u001b[0m\n\u001b[1;32m     34\u001b[0m \u001b[0mReleased_year\u001b[0m \u001b[0;34m=\u001b[0m \u001b[0;34m[\u001b[0m\u001b[0;34m]\u001b[0m\u001b[0;34m\u001b[0m\u001b[0;34m\u001b[0m\u001b[0m\n",
      "\u001b[0;32m/var/folders/mp/37ndhfvn70xdgjmd9pxbyzm80000gn/T/ipykernel_3022/2348906667.py\u001b[0m in \u001b[0;36mget_movies_data\u001b[0;34m()\u001b[0m\n\u001b[1;32m      3\u001b[0m \u001b[0;32mdef\u001b[0m \u001b[0mget_movies_data\u001b[0m\u001b[0;34m(\u001b[0m\u001b[0;34m)\u001b[0m\u001b[0;34m:\u001b[0m\u001b[0;34m\u001b[0m\u001b[0;34m\u001b[0m\u001b[0m\n\u001b[1;32m      4\u001b[0m     \u001b[0;31m# Set up Selenium\u001b[0m\u001b[0;34m\u001b[0m\u001b[0;34m\u001b[0m\u001b[0m\n\u001b[0;32m----> 5\u001b[0;31m     \u001b[0mdriver\u001b[0m \u001b[0;34m=\u001b[0m \u001b[0mwebdriver\u001b[0m\u001b[0;34m.\u001b[0m\u001b[0mChrome\u001b[0m\u001b[0;34m(\u001b[0m\u001b[0;34m)\u001b[0m\u001b[0;34m\u001b[0m\u001b[0;34m\u001b[0m\u001b[0m\n\u001b[0m\u001b[1;32m      6\u001b[0m \u001b[0;34m\u001b[0m\u001b[0m\n\u001b[1;32m      7\u001b[0m     \u001b[0;31m# Send a request to the website\u001b[0m\u001b[0;34m\u001b[0m\u001b[0;34m\u001b[0m\u001b[0m\n",
      "\u001b[0;31mNameError\u001b[0m: name 'webdriver' is not defined"
     ]
    }
   ],
   "source": [
    "#create a Function to gather all the urls as well as the info needed(genres,titles,year,runtime etc)\n",
    "\n",
    "def get_movies_data():\n",
    "    # Set up Selenium\n",
    "    driver = webdriver.Chrome()\n",
    "\n",
    "    # Send a request to the website\n",
    "    url = 'https://www.justwatch.com/us/provider/amazon-prime-video/movies?release_year_from=2013&release_year_until=2022&sort_by=trending_7_day'\n",
    "    driver.get(url)\n",
    "\n",
    "    # Scroll down to load more movies\n",
    "    scroll_down(driver)\n",
    "\n",
    "    # Get the HTML content of the website\n",
    "    html = driver.page_source\n",
    "\n",
    "    # Parse the HTML using BeautifulSoup\n",
    "    soup = BeautifulSoup(html, 'html.parser')\n",
    "\n",
    "    # Extract the URLs of all movies\n",
    "    urls = []\n",
    "    imgs = soup.find_all('img', {'data-v-630d1f08': '', 'class': 'picture-comp__img'})\n",
    "    for img in imgs:\n",
    "        if 'alt' in img.attrs:\n",
    "            url = img.find_parent('a')['href']\n",
    "            urls.append('https://www.justwatch.com' + url)\n",
    "\n",
    "    # Return the list of URLs\n",
    "    return urls\n",
    "\n",
    "# Create empty lists for movie data\n",
    "urls = get_movies_data()\n",
    "Movies = []\n",
    "Released_year = []\n",
    "IMDB_Ratings = []\n",
    "Genres = []\n",
    "Age_Rating = []\n",
    "Runtimes = []\n",
    "Directors = []\n",
    "# Streaming_platforms = []\n",
    "\n",
    "# for url in urls:\n",
    "#     # Get the movie title\n",
    "#     response = requests.get(url)\n",
    "#     soup = BeautifulSoup(response.text, 'html.parser')\n",
    "#     title_block = soup.find('div', {'class': 'title-block'})\n",
    "#     title = title_block.find('h1').text.strip()\n",
    "#     Movies.append(title)\n",
    "#     print(f\"Title: {title}\")\n",
    "\n",
    "#     # Get the released year\n",
    "#     year_div = soup.find('div', {'class': 'title-block'}).find('span', {'class': 'text-muted'})\n",
    "#     year = year_div.text.strip()[1:5] if year_div else 'N/A'\n",
    "#     Released_year.append(year)\n",
    "#     print(f\"Released year: {year}\")\n",
    "\n",
    "#     # Get the IMDb rating\n",
    "#     def get_imdb_rating(url):\n",
    "#         response = requests.get(url)\n",
    "#         soup = BeautifulSoup(response.content, 'html.parser')\n",
    "#         try:\n",
    "#             imdb_tag = soup.find('a', {'class': '', 'href': True}).find('img', alt='IMDB').find_parent('a')\n",
    "#             rating = imdb_tag.text.strip().split()[0]\n",
    "#         except AttributeError:\n",
    "#             rating = 'N/A'\n",
    "#         return rating\n",
    "#     rating = get_imdb_rating(url)\n",
    "#     ratings_list.append(rating)\n",
    "#     print(f\"IMDb rating: {rating}\")\n",
    "\n",
    "#     # Get the TV age rating\n",
    "#     age_rating_div = soup.find('div', {'class': 'detail-infos__subheading'}, text='Age rating')\n",
    "#     if age_rating_div:\n",
    "#         age_rating = age_rating_div.find_next_sibling('div', {'class': 'detail-infos__value'}).text.strip()\n",
    "#     else:\n",
    "#         age_rating = 'N/A'\n",
    "#     Age_Rating.append(age_rating)\n",
    "#     print(f\"Age rating: {age_rating}\")\n",
    "    \n",
    "#     #get the movie genres\n",
    "#     response = requests.get(url)\n",
    "#     soup = BeautifulSoup(response.content, 'html.parser')\n",
    "#     genre_div = soup.find('div', {'class': 'detail-infos__subheading'}, text='Genres')\n",
    "#     try:\n",
    "#         genre = genre_div.find_next_sibling('div', {'class': 'detail-infos__value'}).text.strip()   \n",
    "#     except AttributeError:\n",
    "#         genre = 'N/A'\n",
    "#     genres.append(genre)\n",
    "#     print(f'Genres: {genre}')\n",
    "\n",
    "#     # Get the movie runtime\n",
    "#     runtime_div = soup.find('div', {'class': 'detail-infos__subheading'}, text='Runtime')\n",
    "#     runtime = runtime_div.find_next_sibling('div', {'class': 'detail-infos__value'}).text.strip()\n",
    "#     runtimes.append(runtime)\n",
    "#     print(f\"Runtime: {runtime}\")\n",
    "\n",
    "#     # Get the movie director\n",
    "#     director_div = soup.find('div', {'class': 'detail-infos__subheading'}, text='Director')\n",
    "#     if director_div:\n",
    "#         director_name = director_div.find_next_sibling('div', {'class': 'detail-infos__value'}).find('span').find('a', {'class': 'title-credit-name'}).text.strip()\n",
    "#         directors.append(director_name)\n",
    "#     else:\n",
    "#         directors.append('N/A')\n",
    "#     print(f\"Director: {director_name}\\n\")\n",
    "\n",
    "\n",
    "\n",
    "\n",
    "def scrape_movie_data(url):\n",
    "    # Function to scrape movie data from a given URL\n",
    "    response = requests.get(url)\n",
    "    soup = BeautifulSoup(response.text, 'html.parser')\n",
    "    title_block = soup.find('div', {'class': 'title-block'})\n",
    "    title = title_block.find('h1').text.strip()\n",
    "    year_div = soup.find('div', {'class': 'title-block'}).find('span', {'class': 'text-muted'})\n",
    "    year = year_div.text.strip()[1:5] if year_div else 'N/A'\n",
    "    age_rating_div = soup.find('div', {'class': 'detail-infos__subheading'}, text='Age rating')\n",
    "    age_rating = age_rating_div.find_next_sibling('div', {'class': 'detail-infos__value'}).text.strip() if age_rating_div else 'N/A'\n",
    "    genre_div = soup.find('div', {'class': 'detail-infos__subheading'}, text='Genres')\n",
    "    genre = genre_div.find_next_sibling('div', {'class': 'detail-infos__value'}).text.strip() if genre_div else 'N/A'\n",
    "    runtime_div = soup.find('div', {'class': 'detail-infos__subheading'}, text='Runtime')\n",
    "    runtime = runtime_div.find_next_sibling('div', {'class': 'detail-infos__value'}).text.strip()\n",
    "    director_div = soup.find('div', {'class': 'detail-infos__subheading'}, text='Director')\n",
    "    director_name = director_div.find_next_sibling('div', {'class': 'detail-infos__value'}).find('span').find('a', {'class': 'title-credit-name'}).text.strip() if director_div else 'N/A'\n",
    "    imdb_rating = get_imdb_rating(url)\n",
    "    streaming_platform_img = soup.find('img', {'class': 'offer__icon'})\n",
    "    streaming_platform = streaming_platform_img['alt'] if streaming_platform_img else 'N/A'\n",
    "\n",
    "    return {\n",
    "        \"Title\": title,\n",
    "        \"Released Year\": year,\n",
    "        \"Age Rating\": age_rating,\n",
    "        \"Genres\": genre,\n",
    "        \"Runtime\": runtime,\n",
    "        \"Director\": director_name,\n",
    "        \"IMDb Rating\": imdb_rating,\n",
    "        \"Streaming Platform\": streaming_platform\n",
    "    }\n"
   ]
  },
  {
   "cell_type": "code",
   "execution_count": null,
   "id": "731fc115",
   "metadata": {},
   "outputs": [],
   "source": [
    "# movie_data = {\n",
    "#     'title': Movies,\n",
    "#     'year': Released_year,\n",
    "#     'genre': Genres,\n",
    "#     'runtime': Runtimes,\n",
    "#     'rating': IMDB_Ratings,\n",
    "#     'age_rating': Age_Rating,\n",
    "#     'director_name':Directors\n",
    "# }\n",
    "\n",
    "movie_data = {\n",
    "    'title': Movies,\n",
    "    'year': Released_year,\n",
    "    'genre': Genres,\n",
    "    'runtime': Runtimes,\n",
    "    'rating': IMDB_Ratings,\n",
    "    'age_rating': Age_Rating,\n",
    "    'director_name':Directors,\n",
    "    'streaming_platform': Streaming_platforms\n",
    "}\n",
    "\n",
    "data_df = pd.DataFrame(movie_data)\n",
    "\n",
    "\n",
    "# urls = get_movies_data()\n",
    "# Movies = []\n",
    "# Released_year = []\n",
    "# IMDB_Ratings = []\n",
    "# Genres = []\n",
    "# Age_Rating = []\n",
    "# Runtimes = []\n",
    "# Directors = []\n",
    "# Streaming_platforms = []\n"
   ]
  },
  {
   "cell_type": "code",
   "execution_count": 7,
   "id": "45e06eb7",
   "metadata": {
    "scrolled": false
   },
   "outputs": [
    {
     "ename": "AttributeError",
     "evalue": "'NoneType' object has no attribute 'find'",
     "output_type": "error",
     "traceback": [
      "\u001b[0;31m---------------------------------------------------------------------------\u001b[0m",
      "\u001b[0;31mAttributeError\u001b[0m                            Traceback (most recent call last)",
      "\u001b[0;32m/var/folders/mp/37ndhfvn70xdgjmd9pxbyzm80000gn/T/ipykernel_3022/947879602.py\u001b[0m in \u001b[0;36m<module>\u001b[0;34m\u001b[0m\n\u001b[1;32m     67\u001b[0m \u001b[0;34m\u001b[0m\u001b[0m\n\u001b[1;32m     68\u001b[0m \u001b[0;31m# Example usage:\u001b[0m\u001b[0;34m\u001b[0m\u001b[0;34m\u001b[0m\u001b[0m\n\u001b[0;32m---> 69\u001b[0;31m \u001b[0mmovie_titles\u001b[0m\u001b[0;34m,\u001b[0m \u001b[0mimdb_rating_urls\u001b[0m \u001b[0;34m=\u001b[0m \u001b[0mextract_movie_titles_and_imdb_urls\u001b[0m\u001b[0;34m(\u001b[0m\u001b[0;34m)\u001b[0m\u001b[0;34m\u001b[0m\u001b[0;34m\u001b[0m\u001b[0m\n\u001b[0m\u001b[1;32m     70\u001b[0m \u001b[0;34m\u001b[0m\u001b[0m\n\u001b[1;32m     71\u001b[0m \u001b[0;31m# Print the movie titles and IMDb rating URLs\u001b[0m\u001b[0;34m\u001b[0m\u001b[0;34m\u001b[0m\u001b[0m\n",
      "\u001b[0;32m/var/folders/mp/37ndhfvn70xdgjmd9pxbyzm80000gn/T/ipykernel_3022/947879602.py\u001b[0m in \u001b[0;36mextract_movie_titles_and_imdb_urls\u001b[0;34m()\u001b[0m\n\u001b[1;32m     56\u001b[0m         \u001b[0;31m# Extract movie title\u001b[0m\u001b[0;34m\u001b[0m\u001b[0;34m\u001b[0m\u001b[0m\n\u001b[1;32m     57\u001b[0m         \u001b[0mtitle_block\u001b[0m \u001b[0;34m=\u001b[0m \u001b[0msoup\u001b[0m\u001b[0;34m.\u001b[0m\u001b[0mfind\u001b[0m\u001b[0;34m(\u001b[0m\u001b[0;34m'div'\u001b[0m\u001b[0;34m,\u001b[0m \u001b[0;34m{\u001b[0m\u001b[0;34m'class'\u001b[0m\u001b[0;34m:\u001b[0m \u001b[0;34m'title-block'\u001b[0m\u001b[0;34m}\u001b[0m\u001b[0;34m)\u001b[0m\u001b[0;34m\u001b[0m\u001b[0;34m\u001b[0m\u001b[0m\n\u001b[0;32m---> 58\u001b[0;31m         \u001b[0mtitle\u001b[0m \u001b[0;34m=\u001b[0m \u001b[0mtitle_block\u001b[0m\u001b[0;34m.\u001b[0m\u001b[0mfind\u001b[0m\u001b[0;34m(\u001b[0m\u001b[0;34m'h1'\u001b[0m\u001b[0;34m)\u001b[0m\u001b[0;34m.\u001b[0m\u001b[0mtext\u001b[0m\u001b[0;34m.\u001b[0m\u001b[0mstrip\u001b[0m\u001b[0;34m(\u001b[0m\u001b[0;34m)\u001b[0m\u001b[0;34m\u001b[0m\u001b[0;34m\u001b[0m\u001b[0m\n\u001b[0m\u001b[1;32m     59\u001b[0m         \u001b[0mtitles\u001b[0m\u001b[0;34m.\u001b[0m\u001b[0mappend\u001b[0m\u001b[0;34m(\u001b[0m\u001b[0mtitle\u001b[0m\u001b[0;34m)\u001b[0m\u001b[0;34m\u001b[0m\u001b[0;34m\u001b[0m\u001b[0m\n\u001b[1;32m     60\u001b[0m \u001b[0;34m\u001b[0m\u001b[0m\n",
      "\u001b[0;31mAttributeError\u001b[0m: 'NoneType' object has no attribute 'find'"
     ]
    }
   ],
   "source": [
    "import requests\n",
    "from bs4 import BeautifulSoup\n",
    "from selenium import webdriver\n",
    "import time\n",
    "\n",
    "# Function to scroll down and load more movies\n",
    "def scroll_down(driver):\n",
    "    for i in range(50):  # adjust range based on how many times you want to scroll down\n",
    "        driver.execute_script(\"window.scrollTo(0, document.body.scrollHeight);\")\n",
    "        time.sleep(8)\n",
    "        try:\n",
    "            driver.find_element(By.CSS_SELECTOR, \".custom-infinite-scroll.custom-infinite-scroll--hidden-spinner\").click()\n",
    "        except:\n",
    "            pass\n",
    "\n",
    "def get_movies_data():\n",
    "    # Set up Selenium\n",
    "    driver = webdriver.Chrome()\n",
    "\n",
    "    # Send a request to the website\n",
    "    url = 'https://www.justwatch.com/us/provider/netflix/movies?release_year_from=2013&release_year_until=2022&sort_by=trending_7_day'\n",
    "    driver.get(url)\n",
    "\n",
    "    # Scroll down to load more movies\n",
    "    scroll_down(driver)\n",
    "\n",
    "    # Get the HTML content of the website\n",
    "    html = driver.page_source\n",
    "\n",
    "    # Parse the HTML using BeautifulSoup\n",
    "    soup = BeautifulSoup(html, 'html.parser')\n",
    "\n",
    "    # Extract the URLs of all movies\n",
    "    urls = []\n",
    "    imgs = soup.find_all('img', {'data-v-630d1f08': '', 'class': 'picture-comp__img'})\n",
    "    for img in imgs:\n",
    "        if 'alt' in img.attrs:\n",
    "            url = img.find_parent('a')['href']\n",
    "            urls.append('https://www.justwatch.com' + url)\n",
    "\n",
    "    # Return the list of URLs\n",
    "    return urls\n",
    "\n",
    "def extract_movie_titles_and_imdb_urls():\n",
    "    # Create empty lists for movie titles and IMDb rating URLs\n",
    "    titles = []\n",
    "    imdb_urls = []\n",
    "\n",
    "    # Get the list of movie URLs\n",
    "    urls = get_movies_data()\n",
    "\n",
    "    for url in urls:\n",
    "        \n",
    "        response = requests.get(url)\n",
    "        soup = BeautifulSoup(response.text, 'html.parser')\n",
    "\n",
    "        # Extract movie title\n",
    "        title_block = soup.find('div', {'class': 'title-block'})\n",
    "        title = title_block.find('h1').text.strip()\n",
    "        titles.append(title)\n",
    "\n",
    "        # Extract IMDb rating URL\n",
    "#         imdb_url = soup.find('a', {'class': '', 'href': True})\n",
    "#         imdb_url = imdb_url['href'] if imdb_url and imdb_url.find('img', alt='IMDB') else 'N/A'\n",
    "#         imdb_urls.append(imdb_url)\n",
    "\n",
    "\n",
    "\n",
    "# Search for IMDb rating within the HTML content\n",
    "          imdb_rating_element = soup.find('img', alt='IMDB')\n",
    "    \n",
    "\n",
    "if imdb_rating_element:\n",
    "    # Extract the IMDb rating from the parent span\n",
    "    imdb_rating = imdb_rating_element.find_parent('span').text.strip()\n",
    "    print(f\"IMDb Rating: {imdb_rating}\")\n",
    "else:\n",
    "    print(\"IMDb rating element not found\")\n",
    "\n",
    "          \n",
    "\n",
    "    return titles, imdb_urls\n",
    "\n",
    "# Example usage:\n",
    "movie_titles, imdb_rating_urls = extract_movie_titles_and_imdb_urls()\n",
    "\n",
    "# Print the movie titles and IMDb rating URLs\n",
    "for title, imdb_url in zip(movie_titles, imdb_rating_urls):\n",
    "    print(f\"Movie Title: {title}\")\n",
    "    print(f\"IMDb Rating URL: {imdb_url}\")\n",
    "    print()\n",
    "\n"
   ]
  },
  {
   "cell_type": "code",
   "execution_count": 4,
   "id": "60d9f74e",
   "metadata": {},
   "outputs": [
    {
     "ename": "NameError",
     "evalue": "name 'webdriver' is not defined",
     "output_type": "error",
     "traceback": [
      "\u001b[0;31m---------------------------------------------------------------------------\u001b[0m",
      "\u001b[0;31mNameError\u001b[0m                                 Traceback (most recent call last)",
      "\u001b[0;32m/var/folders/mp/37ndhfvn70xdgjmd9pxbyzm80000gn/T/ipykernel_3022/1880490079.py\u001b[0m in \u001b[0;36m<module>\u001b[0;34m\u001b[0m\n\u001b[1;32m      1\u001b[0m \u001b[0murl\u001b[0m \u001b[0;34m=\u001b[0m \u001b[0;34m'https://www.justwatch.com/us/movie/jigsaw-2017'\u001b[0m\u001b[0;34m\u001b[0m\u001b[0;34m\u001b[0m\u001b[0m\n\u001b[0;32m----> 2\u001b[0;31m \u001b[0mdriver\u001b[0m \u001b[0;34m=\u001b[0m \u001b[0mwebdriver\u001b[0m\u001b[0;34m.\u001b[0m\u001b[0mChrome\u001b[0m\u001b[0;34m(\u001b[0m\u001b[0;34m)\u001b[0m\u001b[0;34m\u001b[0m\u001b[0;34m\u001b[0m\u001b[0m\n\u001b[0m\u001b[1;32m      3\u001b[0m \u001b[0mdriver\u001b[0m\u001b[0;34m.\u001b[0m\u001b[0mget\u001b[0m\u001b[0;34m(\u001b[0m\u001b[0murl\u001b[0m\u001b[0;34m)\u001b[0m\u001b[0;34m\u001b[0m\u001b[0;34m\u001b[0m\u001b[0m\n\u001b[1;32m      4\u001b[0m \u001b[0;34m\u001b[0m\u001b[0m\n\u001b[1;32m      5\u001b[0m     \u001b[0;31m# Scroll down to load more movies\u001b[0m\u001b[0;34m\u001b[0m\u001b[0;34m\u001b[0m\u001b[0m\n",
      "\u001b[0;31mNameError\u001b[0m: name 'webdriver' is not defined"
     ]
    }
   ],
   "source": [
    "url = 'https://www.justwatch.com/us/movie/jigsaw-2017'\n",
    "driver = webdriver.Chrome()\n",
    "driver.get(url)\n",
    "\n",
    "    # Scroll down to load more movies\n",
    "scroll_down(driver)\n",
    "\n",
    "html = driver.page_source\n",
    "response = requests.get(url)\n",
    "soup = BeautifulSoup(response.text, 'html.parser')\n",
    "title_block = soup.find('div', {'class': 'title-block'})\n",
    "title = title_block.find('h1').text.strip()\n",
    "year_div = soup.find('div', {'class': 'title-block'}).find('span', {'class': 'text-muted'})\n",
    "year = year_div.text.strip()[1:5] if year_div else 'N/A'\n",
    "age_rating_div = soup.find('div', {'class': 'detail-infos__subheading'}, text='Age rating')\n",
    "age_rating = age_rating_div.find_next_sibling('div', {'class': 'detail-infos__value'}).text.strip() if age_rating_div else 'N/A'\n",
    "genre_div = soup.find('div', {'class': 'detail-infos__subheading'}, text='Genres')\n",
    "genre = genre_div.find_next_sibling('div', {'class': 'detail-infos__value'}).text.strip() if genre_div else 'N/A'\n",
    "# runtime_div = soup.find('div', {'class': 'detail-infos__subheading'}, text='Runtime')\n",
    "# runtime = runtime_div.find_next_sibling('div', {'class': 'detail-infos__value'}).text.strip()\n",
    "director_div = soup.find('div', {'class': 'detail-infos__subheading'}, text='Director')\n",
    "director_name = director_div.find_next_sibling('div', {'class': 'detail-infos__value'}).find('span').find('a', {'class': 'title-credit-name'}).text.strip() if director_div else 'N/A'\n",
    "imdb_rating = get_imdb_rating(url)\n",
    "streaming_platform_img = soup.find('img', {'class': 'offer__icon'})\n",
    "streaming_platform = streaming_platform_img['alt'] if streaming_platform_img else 'N/A'\n",
    "# Get the HTML content of the website\n",
    "                "
   ]
  },
  {
   "cell_type": "code",
   "execution_count": null,
   "id": "1f0d0d4e",
   "metadata": {},
   "outputs": [],
   "source": []
  },
  {
   "cell_type": "code",
   "execution_count": null,
   "id": "ba536ad1",
   "metadata": {},
   "outputs": [],
   "source": []
  },
  {
   "cell_type": "code",
   "execution_count": null,
   "id": "3242c02a",
   "metadata": {},
   "outputs": [],
   "source": []
  },
  {
   "cell_type": "code",
   "execution_count": null,
   "id": "6e9f9edf",
   "metadata": {},
   "outputs": [],
   "source": [
    "# Return a dictionary with all the movie data\n",
    "\n",
    "\n",
    "\n",
    "\n",
    "movie_data = {\n",
    "    'title': Movies,\n",
    "    'year': Released_year,\n",
    "    'genre': genres,\n",
    "    'runtime': runtimes,\n",
    "    'rating': ratings_list,\n",
    "    'age_rating': Age_Rating,\n",
    "    'director_name':directors\n",
    "}\n",
    "\n",
    "\n",
    "Netflix_df = pd.DataFrame(movie_data)"
   ]
  },
  {
   "cell_type": "code",
   "execution_count": null,
   "id": "f5256a52",
   "metadata": {
    "scrolled": false
   },
   "outputs": [],
   "source": [
    "len(urls)"
   ]
  },
  {
   "cell_type": "code",
   "execution_count": null,
   "id": "ccea593e",
   "metadata": {
    "scrolled": false
   },
   "outputs": [],
   "source": [
    "a = get_movies_data()"
   ]
  },
  {
   "cell_type": "code",
   "execution_count": null,
   "id": "2f19a9a5",
   "metadata": {},
   "outputs": [],
   "source": [
    "# save the combined DataFrame as a CSV file\n",
    "Netflix_df.to_csv('Netflix_df.csv', index=False)"
   ]
  },
  {
   "cell_type": "markdown",
   "id": "6e32d995",
   "metadata": {},
   "source": [
    " ## Getting all AmazonPrime Movies Data From 2013-2022."
   ]
  },
  {
   "cell_type": "code",
   "execution_count": null,
   "id": "9964f4bb",
   "metadata": {},
   "outputs": [],
   "source": [
    "def get_movies_data():\n",
    "    # Set up Selenium\n",
    "    driver = webdriver.Chrome()\n",
    "\n",
    "    # Send a request to the website\n",
    "    url = 'https://www.justwatch.com/us/provider/amazon-prime-video/movies?release_year_from=2013&release_year_until=2022&sort_by=trending_7_day'\n",
    "    driver.get(url)\n",
    "\n",
    "    # Scroll down to load more movies\n",
    "    scroll_down(driver)\n",
    "\n",
    "    # Get the HTML content of the website\n",
    "    html = driver.page_source\n",
    "\n",
    "    # Parse the HTML using BeautifulSoup\n",
    "    soup = BeautifulSoup(html, 'html.parser')\n",
    "\n",
    "    # Extract the URLs of all movies\n",
    "    urls = []\n",
    "    imgs = soup.find_all('img', {'data-v-630d1f08': '', 'class': 'picture-comp__img'})\n",
    "    for img in imgs:\n",
    "        if 'alt' in img.attrs:\n",
    "            url = img.find_parent('a')['href']\n",
    "            urls.append('https://www.justwatch.com' + url)\n",
    "\n",
    "    # Return the list of URLs\n",
    "    return urls\n",
    "\n",
    "# Create empty lists for movie data\n",
    "urls = get_movies_data()\n",
    "Movies = []\n",
    "Released_year = []\n",
    "ratings_list = []\n",
    "genres = []\n",
    "Age_Rating = []\n",
    "runtimes = []\n",
    "directors = []\n",
    "\n",
    "for url in urls:\n",
    "    # Get the movie title\n",
    "    response = requests.get(url)\n",
    "    soup = BeautifulSoup(response.text, 'html.parser')\n",
    "    title_block = soup.find('div', {'class': 'title-block'})\n",
    "    title = title_block.find('h1').text.strip()\n",
    "    Movies.append(title)\n",
    "    print(f\"Title: {title}\")\n",
    "\n",
    "    # Get the released year\n",
    "    year_div = soup.find('div', {'class': 'title-block'}).find('span', {'class': 'text-muted'})\n",
    "    year = year_div.text.strip()[1:5] if year_div else 'N/A'\n",
    "    Released_year.append(year)\n",
    "    print(f\"Released year: {year}\")\n",
    "\n",
    "#     # Get the IMDb rating\n",
    "#     def get_imdb_rating(url):\n",
    "#         response = requests.get(url)\n",
    "#         soup = BeautifulSoup(response.content, 'html.parser')\n",
    "#         try:\n",
    "#             imdb_tag = soup.find('a', {'class': '', 'href': True}).find('img', alt='IMDB').find_parent('a')\n",
    "#             rating = imdb_tag.text.strip().split()[0]\n",
    "#         except AttributeError:\n",
    "#             rating = 'N/A'\n",
    "#         return rating\n",
    "#     rating = get_imdb_rating(url)\n",
    "#     ratings_list.append(rating)\n",
    "#     print(f\"IMDb rating: {rating}\")\n",
    "\n",
    "#     # Get the TV age rating\n",
    "#     age_rating_div = soup.find('div', {'class': 'detail-infos__subheading'}, text='Age rating')\n",
    "#     if age_rating_div:\n",
    "#         age_rating = age_rating_div.find_next_sibling('div', {'class': 'detail-infos__value'}).text.strip()\n",
    "#     else:\n",
    "#         age_rating = 'N/A'\n",
    "#     Age_Rating.append(age_rating)\n",
    "#     print(f\"Age rating: {age_rating}\")\n",
    "    \n",
    "#     #get the movie genres\n",
    "#     response = requests.get(url)\n",
    "#     soup = BeautifulSoup(response.content, 'html.parser')\n",
    "#     genre_div = soup.find('div', {'class': 'detail-infos__subheading'}, text='Genres')\n",
    "#     try:\n",
    "#         genre = genre_div.find_next_sibling('div', {'class': 'detail-infos__value'}).text.strip()   \n",
    "#     except AttributeError:\n",
    "#         genre = 'N/A'\n",
    "#     genres.append(genre)\n",
    "#     print(f'Genres: {genre}')\n",
    "\n",
    "#     # Get the movie runtime\n",
    "#     runtime_div = soup.find('div', {'class': 'detail-infos__subheading'}, text='Runtime')\n",
    "#     runtime = runtime_div.find_next_sibling('div', {'class': 'detail-infos__value'}).text.strip()\n",
    "#     runtimes.append(runtime)\n",
    "#     print(f\"Runtime: {runtime}\")\n",
    "\n",
    "#     # Get the movie director\n",
    "#     director_div = soup.find('div', {'class': 'detail-infos__subheading'}, text='Director')\n",
    "#     if director_div:\n",
    "#         director_name = director_div.find_next_sibling('div', {'class': 'detail-infos__value'}).find('span').find('a', {'class': 'title-credit-name'}).text.strip()\n",
    "#         directors.append(director_name)\n",
    "#     else:\n",
    "#         directors.append('N/A')\n",
    "#     print(f\"Director: {director_name}\\n\")\n",
    "\n"
   ]
  },
  {
   "cell_type": "code",
   "execution_count": null,
   "id": "48b8c1e5",
   "metadata": {
    "scrolled": false
   },
   "outputs": [],
   "source": [
    "len(urls)"
   ]
  },
  {
   "cell_type": "code",
   "execution_count": 6,
   "id": "eafee8b3",
   "metadata": {},
   "outputs": [
    {
     "name": "stdout",
     "output_type": "stream",
     "text": [
      "IMDb Rating: 80%\n",
      "Title Poster URL: None\n"
     ]
    }
   ],
   "source": [
    "from bs4 import BeautifulSoup\n",
    "from selenium import webdriver\n",
    "from selenium.webdriver.common.by import By\n",
    "\n",
    "# URL of the site\n",
    "url = 'https://www.justwatch.com/us/movie/violent-night'\n",
    "\n",
    "# Initialize a Selenium WebDriver (make sure you have the WebDriver installed and in your PATH)\n",
    "driver = webdriver.Chrome()\n",
    "\n",
    "# Open the webpage\n",
    "driver.get(url)\n",
    "\n",
    "# Wait for the page to load (adjust the time based on your internet speed)\n",
    "driver.implicitly_wait(10)\n",
    "\n",
    "# Get the HTML content after the page has fully loaded\n",
    "html = driver.page_source\n",
    "\n",
    "# Close the WebDriver as we have the HTML content\n",
    "driver.quit()\n",
    "\n",
    "# Parse the HTML using BeautifulSoup\n",
    "soup = BeautifulSoup(html, 'html.parser')\n",
    "\n",
    "# Find the IMDb rating\n",
    "rating_div = soup.find('div', class_='jw-scoring-listing__rating')\n",
    "imdb_rating = rating_div.find('span').text.strip()\n",
    "\n",
    "# Extract the IMDb rating value\n",
    "imdb_rating_value = imdb_rating.split()[0]\n",
    "\n",
    "# Extract the title poster URL\n",
    "imgs = soup.find_all('img', {'class': 'picture-comp__img'})\n",
    "title_poster_url = None\n",
    "for img in imgs:\n",
    "    if 'alt' in img.attrs and img['alt'] == 'Poster':\n",
    "        title_poster_url = img['src']\n",
    "        break\n",
    "\n",
    "# Print the results\n",
    "print('IMDb Rating:', imdb_rating_value)\n",
    "print('Title Poster URL:', title_poster_url)\n"
   ]
  },
  {
   "cell_type": "code",
   "execution_count": 8,
   "id": "f7df2a77",
   "metadata": {},
   "outputs": [
    {
     "name": "stdout",
     "output_type": "stream",
     "text": [
      "IMDb Rating: 80%\n",
      "Title Poster URL: None\n",
      "IMDb URL: None\n"
     ]
    }
   ],
   "source": [
    "from bs4 import BeautifulSoup\n",
    "from selenium import webdriver\n",
    "\n",
    "# URL of the site\n",
    "url = 'https://www.justwatch.com/us/movie/violent-night'\n",
    "\n",
    "# Initialize a Selenium WebDriver (make sure you have the WebDriver installed and in your PATH)\n",
    "driver = webdriver.Chrome()\n",
    "\n",
    "# Open the webpage\n",
    "driver.get(url)\n",
    "\n",
    "# Wait for the page to load (adjust the time based on your internet speed)\n",
    "driver.implicitly_wait(10)\n",
    "\n",
    "# Get the HTML content after the page has fully loaded\n",
    "html = driver.page_source\n",
    "\n",
    "# Close the WebDriver as we have the HTML content\n",
    "driver.quit()\n",
    "\n",
    "# Parse the HTML using BeautifulSoup\n",
    "soup = BeautifulSoup(html, 'html.parser')\n",
    "\n",
    "# Find the IMDb rating\n",
    "rating_div = soup.find('div', class_='jw-scoring-listing__rating')\n",
    "imdb_rating = rating_div.find('span').text.strip()\n",
    "\n",
    "# Extract the IMDb rating value\n",
    "imdb_rating_value = imdb_rating.split()[0]\n",
    "\n",
    "# Extract the title poster URL\n",
    "imgs = soup.find_all('img', {'class': 'picture-comp__img'})\n",
    "title_poster_url = None\n",
    "for img in imgs:\n",
    "    if 'alt' in img.attrs and img['alt'] == 'Poster':\n",
    "        title_poster_url = img['src']\n",
    "        break\n",
    "\n",
    "# Extract the IMDb URL based on the provided code\n",
    "imdb_url_tag = soup.find('a', {'class': '', 'href': True})\n",
    "imdb_url = imdb_url_tag['href'] if imdb_url_tag and imdb_url_tag.find('img', alt='IMDB') else None\n",
    "\n",
    "# Print the results\n",
    "print('IMDb Rating:', imdb_rating_value)\n",
    "print('Title Poster URL:', title_poster_url)\n",
    "print('IMDb URL:', imdb_url)\n"
   ]
  },
  {
   "cell_type": "code",
   "execution_count": 11,
   "id": "dfc82fa5",
   "metadata": {},
   "outputs": [
    {
     "name": "stdout",
     "output_type": "stream",
     "text": [
      "Title Poster Image URL: https://www.justwatch.com/images/backdrop/302258335/s1440/violent-night/violent-night\n",
      "IMDb Rating: None\n"
     ]
    }
   ],
   "source": [
    "from bs4 import BeautifulSoup\n",
    "from selenium import webdriver\n",
    "\n",
    "# Function to extract IMDb rating from the provided HTML tags\n",
    "def extract_imdb_rating(html_content):\n",
    "    soup = BeautifulSoup(html_content, 'html.parser')\n",
    "    imdb_rating_span = soup.find('span', {'tooltip': 'IMDB', 'class': 'lazyloaded'})\n",
    "    if imdb_rating_span:\n",
    "        imdb_rating = imdb_rating_span.text.strip()\n",
    "        return imdb_rating\n",
    "\n",
    "# URL of the site\n",
    "url = 'https://www.justwatch.com/us/movie/violent-night'\n",
    "\n",
    "# Set up Selenium WebDriver\n",
    "driver = webdriver.Chrome()\n",
    "driver.get(url)\n",
    "\n",
    "# Execute JavaScript to get title poster image URL\n",
    "poster_img_url = driver.execute_script('return document.querySelector(\".picture-comp__img\").src')\n",
    "\n",
    "# Get HTML content of the page\n",
    "html_content = driver.page_source\n",
    "\n",
    "# Extract IMDb rating using BeautifulSoup\n",
    "imdb_rating = extract_imdb_rating(html_content)\n",
    "\n",
    "# Close the Selenium WebDriver\n",
    "driver.quit()\n",
    "\n",
    "# Print results\n",
    "print(f'Title Poster Image URL: {poster_img_url}')\n",
    "print(f'IMDb Rating: {imdb_rating}')\n",
    "\n"
   ]
  },
  {
   "cell_type": "code",
   "execution_count": 12,
   "id": "60949cd7",
   "metadata": {},
   "outputs": [
    {
     "name": "stdout",
     "output_type": "stream",
     "text": [
      "Title Poster Image URL: https://www.justwatch.com/images/backdrop/302258335/s1440/violent-night/violent-night\n",
      "IMDb Rating: None\n"
     ]
    }
   ],
   "source": [
    "from bs4 import BeautifulSoup\n",
    "from selenium import webdriver\n",
    "\n",
    "# Function to extract IMDb rating from the provided HTML tags\n",
    "def extract_imdb_rating(html_content):\n",
    "    soup = BeautifulSoup(html_content, 'html.parser')\n",
    "    imdb_rating_span = soup.find('span', {'tooltip': 'IMDB', 'class': 'lazyloaded'})\n",
    "    if imdb_rating_span:\n",
    "        imdb_rating = imdb_rating_span.find('span').text.strip()\n",
    "        return imdb_rating\n",
    "\n",
    "# URL of the site\n",
    "url = 'https://www.justwatch.com/us/movie/violent-night'\n",
    "\n",
    "# Set up Selenium WebDriver\n",
    "driver = webdriver.Chrome()\n",
    "driver.get(url)\n",
    "\n",
    "# Execute JavaScript to get title poster image URL\n",
    "poster_img_url = driver.execute_script('return document.querySelector(\".picture-comp__img\").src')\n",
    "\n",
    "# Get HTML content of the page\n",
    "html_content = driver.page_source\n",
    "\n",
    "# Extract IMDb rating using BeautifulSoup\n",
    "imdb_rating = extract_imdb_rating(html_content)\n",
    "\n",
    "# Close the Selenium WebDriver\n",
    "driver.quit()\n",
    "\n",
    "# Print results\n",
    "print(f'Title Poster Image URL: {poster_img_url}')\n",
    "print(f'IMDb Rating: {imdb_rating}')\n"
   ]
  },
  {
   "cell_type": "code",
   "execution_count": null,
   "id": "96c25b84",
   "metadata": {},
   "outputs": [],
   "source": [
    "# Return a dictionary with all the movie data\n",
    "movie_data = {\n",
    "    'title': Movies,\n",
    "    'year': Released_year,\n",
    "    'genre': genres,\n",
    "    'runtime': runtimes,\n",
    "    'rating': ratings_list,\n",
    "    'age_rating': Age_Rating,\n",
    "    'director_name':directors\n",
    "}\n",
    "\n",
    "# Convert to a DataFrame        \n",
    "Amazonprime_df = pd.DataFrame(movie_data)"
   ]
  },
  {
   "cell_type": "code",
   "execution_count": null,
   "id": "d146314a",
   "metadata": {},
   "outputs": [],
   "source": [
    "Amazonprime_df"
   ]
  },
  {
   "cell_type": "code",
   "execution_count": null,
   "id": "a7918cf6",
   "metadata": {},
   "outputs": [],
   "source": [
    "Amazonprime_df.to_csv('Amazonprime.csv', index = False)"
   ]
  },
  {
   "cell_type": "markdown",
   "id": "83fd0f6c",
   "metadata": {},
   "source": [
    "## Getting all Disney+ Movies from 2013-2022"
   ]
  },
  {
   "cell_type": "code",
   "execution_count": null,
   "id": "21269114",
   "metadata": {},
   "outputs": [],
   "source": [
    "def get_movies_data():\n",
    "    # Set up Selenium\n",
    "    driver = webdriver.Chrome()\n",
    "\n",
    "    # Send a request to the website\n",
    "    url = 'https://www.justwatch.com/us/provider/disney-plus/movies?release_year_from=2013&release_year_until=2022&sort_by=trending_7_day'\n",
    "    driver.get(url)\n",
    "\n",
    "    # Scroll down to load more movies\n",
    "    scroll_down(driver)\n",
    "\n",
    "    # Get the HTML content of the website\n",
    "    html = driver.page_source\n",
    "\n",
    "    # Parse the HTML using BeautifulSoup\n",
    "    soup = BeautifulSoup(html, 'html.parser')\n",
    "\n",
    "    # Extract the URLs of all movies\n",
    "    urls = []\n",
    "    imgs = soup.find_all('img', {'data-v-630d1f08': '', 'class': 'picture-comp__img'})\n",
    "    for img in imgs:\n",
    "        if 'alt' in img.attrs:\n",
    "            url = img.find_parent('a')['href']\n",
    "            urls.append('https://www.justwatch.com' + url)\n",
    "\n",
    "    # Return the list of URLs\n",
    "    return urls\n",
    "\n",
    "# Create empty lists for movie data\n",
    "urls = get_movies_data()\n",
    "Movies = []\n",
    "Released_year = []\n",
    "ratings_list = []\n",
    "genres = []\n",
    "Age_Rating = []\n",
    "runtimes = []\n",
    "directors = []\n",
    "\n",
    "for url in urls:\n",
    "    # Get the movie title\n",
    "    response = requests.get(url)\n",
    "    soup = BeautifulSoup(response.text, 'html.parser')\n",
    "    title_block = soup.find('div', {'class': 'title-block'})\n",
    "    title = title_block.find('h1').text.strip()\n",
    "    Movies.append(title)\n",
    "    print(f\"Title: {title}\")\n",
    "\n",
    "    # Get the released year\n",
    "    year_div = soup.find('div', {'class': 'title-block'}).find('span', {'class': 'text-muted'})\n",
    "    year = year_div.text.strip()[1:5] if year_div else 'N/A'\n",
    "    Released_year.append(year)\n",
    "    print(f\"Released year: {year}\")\n",
    "\n",
    "    # Get the IMDb rating\n",
    "    def get_imdb_rating(url):\n",
    "        response = requests.get(url)\n",
    "        soup = BeautifulSoup(response.content, 'html.parser')\n",
    "        try:\n",
    "            imdb_tag = soup.find('a', {'class': '', 'href': True}).find('img', alt='IMDB').find_parent('a')\n",
    "            rating = imdb_tag.text.strip().split()[0]\n",
    "        except AttributeError:\n",
    "            rating = 'N/A'\n",
    "        return rating\n",
    "    rating = get_imdb_rating(url)\n",
    "    ratings_list.append(rating)\n",
    "    print(f\"IMDb rating: {rating}\")\n",
    "\n",
    "    # Get the TV age rating\n",
    "    age_rating_div = soup.find('div', {'class': 'detail-infos__subheading'}, text='Age rating')\n",
    "    if age_rating_div:\n",
    "        age_rating = age_rating_div.find_next_sibling('div', {'class': 'detail-infos__value'}).text.strip()\n",
    "    else:\n",
    "        age_rating = 'N/A'\n",
    "    Age_Rating.append(age_rating)\n",
    "    print(f\"Age rating: {age_rating}\")\n",
    "    \n",
    "    #get the movie genres\n",
    "    response = requests.get(url)\n",
    "    soup = BeautifulSoup(response.content, 'html.parser')\n",
    "    genre_div = soup.find('div', {'class': 'detail-infos__subheading'}, text='Genres')\n",
    "    try:\n",
    "        genre = genre_div.find_next_sibling('div', {'class': 'detail-infos__value'}).text.strip()   \n",
    "    except AttributeError:\n",
    "        genre = 'N/A'\n",
    "    genres.append(genre)\n",
    "    print(f'Genres: {genre}')\n",
    "\n",
    "    # Get the movie runtime\n",
    "    runtime_div = soup.find('div', {'class': 'detail-infos__subheading'}, text='Runtime')\n",
    "    runtime = runtime_div.find_next_sibling('div', {'class': 'detail-infos__value'}).text.strip()\n",
    "    runtimes.append(runtime)\n",
    "    print(f\"Runtime: {runtime}\")\n",
    "\n",
    "    # Get the movie director\n",
    "    director_div = soup.find('div', {'class': 'detail-infos__subheading'}, text='Director')\n",
    "    if director_div:\n",
    "        director_name = director_div.find_next_sibling('div', {'class': 'detail-infos__value'}).find('span').find('a', {'class': 'title-credit-name'}).text.strip()\n",
    "        directors.append(director_name)\n",
    "    else:\n",
    "        directors.append('N/A')\n",
    "    print(f\"Director: {director_name}\\n\")\n",
    "\n"
   ]
  },
  {
   "cell_type": "code",
   "execution_count": null,
   "id": "55ee3777",
   "metadata": {},
   "outputs": [],
   "source": [
    "# Return a dictionary with all the movie data\n",
    "movie_data = {\n",
    "    'title': Movies,\n",
    "    'year': Released_year,\n",
    "    'genre': genres,\n",
    "    'runtime': runtimes,\n",
    "    'rating': ratings_list,\n",
    "    'age_rating': Age_Rating,\n",
    "    'director_name':directors\n",
    "}\n",
    "\n",
    "# Convert to a DataFrame        \n",
    "disney_df = pd.DataFrame(movie_data)"
   ]
  },
  {
   "cell_type": "code",
   "execution_count": null,
   "id": "3b6e616a",
   "metadata": {},
   "outputs": [],
   "source": [
    "disney_df"
   ]
  },
  {
   "cell_type": "code",
   "execution_count": null,
   "id": "667fe0ae",
   "metadata": {},
   "outputs": [],
   "source": [
    "disney_df.to_csv('disney.csv', index = False)"
   ]
  },
  {
   "cell_type": "markdown",
   "id": "5adc605d",
   "metadata": {},
   "source": [
    "## Getting all Hulu movies from 2013-2022"
   ]
  },
  {
   "cell_type": "code",
   "execution_count": null,
   "id": "f862bcd1",
   "metadata": {},
   "outputs": [],
   "source": [
    "def get_movies_data():\n",
    "    # Set up Selenium\n",
    "    driver = webdriver.Chrome()\n",
    "    \n",
    "    # Send a request to the website\n",
    "    url =  'https://www.justwatch.com/us/provider/hulu/movies?release_year_from=2013&release_year_until=2022&sort_by=trending_7_day'\n",
    "    driver.get(url)\n",
    "\n",
    "    # Scroll down to load more movies\n",
    "    scroll_down(driver)\n",
    "\n",
    "    # Get the HTML content of the website\n",
    "    html = driver.page_source\n",
    "\n",
    "    # Parse the HTML using BeautifulSoup\n",
    "    soup = BeautifulSoup(html, 'html.parser')\n",
    "\n",
    "    # Extract the URLs of all movies\n",
    "    urls = []\n",
    "    imgs = soup.find_all('img', {'data-v-630d1f08': '', 'class': 'picture-comp__img'})\n",
    "    for img in imgs:\n",
    "        if 'alt' in img.attrs:\n",
    "            url = img.find_parent('a')['href']\n",
    "            urls.append('https://www.justwatch.com' + url)\n",
    "\n",
    "    # Return the list of URLs\n",
    "    return urls\n",
    "\n",
    "# Create empty lists for movie data\n",
    "urls = get_movies_data()\n",
    "Movies = []\n",
    "Released_year = []\n",
    "ratings_list = []\n",
    "genres = []\n",
    "Age_Rating = []\n",
    "runtimes = []\n",
    "directors = []\n",
    "\n",
    "for url in urls:\n",
    "    # Get the movie title\n",
    "    response = requests.get(url)\n",
    "    soup = BeautifulSoup(response.text, 'html.parser')\n",
    "    title_block = soup.find('div', {'class': 'title-block'})\n",
    "    title = title_block.find('h1').text.strip()\n",
    "    Movies.append(title)\n",
    "    print(f\"Title: {title}\")\n",
    "\n",
    "    # Get the released year\n",
    "    year_div = soup.find('div', {'class': 'title-block'}).find('span', {'class': 'text-muted'})\n",
    "    year = year_div.text.strip()[1:5] if year_div else 'N/A'\n",
    "    Released_year.append(year)\n",
    "    print(f\"Released year: {year}\")\n",
    "\n",
    "    # Get the IMDb rating\n",
    "    def get_imdb_rating(url):\n",
    "        response = requests.get(url)\n",
    "        soup = BeautifulSoup(response.content, 'html.parser')\n",
    "        try:\n",
    "            imdb_tag = soup.find('a', {'class': '', 'href': True}).find('img', alt='IMDB').find_parent('a')\n",
    "            rating = imdb_tag.text.strip().split()[0]\n",
    "        except AttributeError:\n",
    "            rating = 'N/A'\n",
    "        return rating\n",
    "    rating = get_imdb_rating(url)\n",
    "    ratings_list.append(rating)\n",
    "    print(f\"IMDb rating: {rating}\")\n",
    "\n",
    "    # Get the TV age rating\n",
    "    age_rating_div = soup.find('div', {'class': 'detail-infos__subheading'}, text='Age rating')\n",
    "    if age_rating_div:\n",
    "        age_rating = age_rating_div.find_next_sibling('div', {'class': 'detail-infos__value'}).text.strip()\n",
    "    else:\n",
    "        age_rating = 'N/A'\n",
    "    Age_Rating.append(age_rating)\n",
    "    print(f\"Age rating: {age_rating}\")\n",
    "    \n",
    "    #get the movie genres\n",
    "    response = requests.get(url)\n",
    "    soup = BeautifulSoup(response.content, 'html.parser')\n",
    "    genre_div = soup.find('div', {'class': 'detail-infos__subheading'}, text='Genres')\n",
    "    try:\n",
    "        genre = genre_div.find_next_sibling('div', {'class': 'detail-infos__value'}).text.strip()   \n",
    "    except AttributeError:\n",
    "        genre = 'N/A'\n",
    "    genres.append(genre)\n",
    "    print(f'Genres: {genre}')\n",
    "\n",
    "    # Get the movie runtime\n",
    "    runtime_div = soup.find('div', {'class': 'detail-infos__subheading'}, text='Runtime')\n",
    "    if runtime_div:\n",
    "        runtime = runtime_div.find_next_sibling('div', {'class': 'detail-infos__value'}).text.strip()   \n",
    "    else:\n",
    "        runtime = 'N/A'    \n",
    "    runtimes.append(runtime)\n",
    "    print(f\"Runtime: {runtime}\")\n",
    "\n",
    "\n",
    "    # Get the movie director\n",
    "    director_div = soup.find('div', {'class': 'detail-infos__subheading'}, text='Director')\n",
    "    if director_div:\n",
    "        director_name = director_div.find_next_sibling('div', {'class': 'detail-infos__value'}).find('span').find('a', {'class': 'title-credit-name'}).text.strip()\n",
    "        directors.append(director_name)\n",
    "    else:\n",
    "        directors.append('N/A')\n",
    "    print(f\"Director: {director_name}\\n\")\n",
    "\n"
   ]
  },
  {
   "cell_type": "code",
   "execution_count": null,
   "id": "3e7cae68",
   "metadata": {},
   "outputs": [],
   "source": [
    "# Return a dictionary with all the movie data\n",
    "movie_data = {\n",
    "    'title': Movies,\n",
    "    'year': Released_year,\n",
    "    'genre': genres,\n",
    "    'runtime': runtimes,\n",
    "    'rating': ratings_list,\n",
    "    'age_rating': Age_Rating,\n",
    "    'director_name':directors\n",
    "}\n",
    "\n",
    "# Convert to a DataFrame        \n",
    "Hulu_df = pd.DataFrame(movie_data)"
   ]
  },
  {
   "cell_type": "code",
   "execution_count": null,
   "id": "88180fa7",
   "metadata": {},
   "outputs": [],
   "source": [
    "Hulu_df"
   ]
  },
  {
   "cell_type": "code",
   "execution_count": null,
   "id": "8718099f",
   "metadata": {},
   "outputs": [],
   "source": [
    "Hulu_df.to_csv('Hulu.csv',index = False)"
   ]
  },
  {
   "cell_type": "code",
   "execution_count": null,
   "id": "c12c6484",
   "metadata": {},
   "outputs": [],
   "source": [
    "from bs4 import BeautifulSoup\n",
    "import requests\n",
    "\n",
    "url = 'https://www.justwatch.com/us/movie/midsommar'\n",
    "\n",
    "# Send a request to the website\n",
    "response = requests.get(url)\n",
    "soup = BeautifulSoup(response.text, 'html.parser')\n",
    "\n",
    "# Find the img tag with alt='Amazon Prime Video'\n",
    "amazon_prime_img = soup.find('img', {'alt': 'Amazon Prime Video'})\n",
    "\n",
    "# Extract the streaming platform from the alt attribute\n",
    "if amazon_prime_img:\n",
    "    streaming_platform = amazon_prime_img['alt']\n",
    "    print(f\"Streaming Platform: {streaming_platform}\")\n",
    "else:\n",
    "    print(\"Streaming Platform not found.\")\n"
   ]
  },
  {
   "cell_type": "code",
   "execution_count": null,
   "id": "e3a74b37",
   "metadata": {},
   "outputs": [],
   "source": [
    "from bs4 import BeautifulSoup\n",
    "import requests\n",
    "\n",
    "def scroll_down(driver):\n",
    "    # Add your scroll down logic here\n",
    "    pass\n",
    "\n",
    "def get_imdb_rating(url):\n",
    "    # Function to get IMDb rating from a given movie URL\n",
    "    response = requests.get(url)\n",
    "    soup = BeautifulSoup(response.content, 'html.parser')\n",
    "    try:\n",
    "        imdb_tag = soup.find('a', {'class': '', 'href': True}).find('img', alt='IMDB').find_parent('a')\n",
    "        rating = imdb_tag.text.strip().split()[0]\n",
    "    except AttributeError:\n",
    "        rating = 'N/A'\n",
    "    return rating\n",
    "\n",
    "def scrape_movie_data(url):\n",
    "    # Function to scrape movie data from a given URL\n",
    "    response = requests.get(url)\n",
    "    soup = BeautifulSoup(response.text, 'html.parser')\n",
    "    title_block = soup.find('div', {'class': 'title-block'})\n",
    "    title = title_block.find('h1').text.strip()\n",
    "    year_div = soup.find('div', {'class': 'title-block'}).find('span', {'class': 'text-muted'})\n",
    "    year = year_div.text.strip()[1:5] if year_div else 'N/A'\n",
    "    age_rating_div = soup.find('div', {'class': 'detail-infos__subheading'}, text='Age rating')\n",
    "    age_rating = age_rating_div.find_next_sibling('div', {'class': 'detail-infos__value'}).text.strip() if age_rating_div else 'N/A'\n",
    "    genre_div = soup.find('div', {'class': 'detail-infos__subheading'}, text='Genres')\n",
    "    genre = genre_div.find_next_sibling('div', {'class': 'detail-infos__value'}).text.strip() if genre_div else 'N/A'\n",
    "    runtime_div = soup.find('div', {'class': 'detail-infos__subheading'}, text='Runtime')\n",
    "    runtime = runtime_div.find_next_sibling('div', {'class': 'detail-infos__value'}).text.strip()\n",
    "    director_div = soup.find('div', {'class': 'detail-infos__subheading'}, text='Director')\n",
    "    director_name = director_div.find_next_sibling('div', {'class': 'detail-infos__value'}).find('span').find('a', {'class': 'title-credit-name'}).text.strip() if director_div else 'N/A'\n",
    "    imdb_rating = get_imdb_rating(url)\n",
    "\n",
    "    # Extract the streaming platform\n",
    "    streaming_platform_img = soup.find('img', {'alt': 'Amazon Prime Video'})  # Modify 'Amazon Prime Video' based on the platform\n",
    "    streaming_platform = streaming_platform_img['alt'] if streaming_platform_img else 'N/A'\n",
    "\n",
    "    return {\n",
    "        \"Title\": title,\n",
    "        \"Released Year\": year,\n",
    "        \"Age Rating\": age_rating,\n",
    "        \"Genres\": genre,\n",
    "        \"Runtime\": runtime,\n",
    "        \"Director\": director_name,\n",
    "        \"IMDb Rating\": imdb_rating,\n",
    "        \"Streaming Platform\": streaming_platform\n",
    "    }\n",
    "\n",
    "# Example usage:\n",
    "url = 'https://www.justwatch.com/us/movie/midsommar'\n",
    "movie_data = scrape_movie_data(url)\n",
    "print(movie_data)\n"
   ]
  },
  {
   "cell_type": "code",
   "execution_count": 31,
   "id": "4e739a4d",
   "metadata": {
    "scrolled": false
   },
   "outputs": [
    {
     "name": "stderr",
     "output_type": "stream",
     "text": [
      "2023-12-26 20:35:47,069 ERROR [imdbpy] /Users/mac/opt/anaconda3/lib/python3.9/site-packages/imdb/__init__.py:844: unknown information set \"certificates\"\n"
     ]
    },
    {
     "name": "stdout",
     "output_type": "stream",
     "text": [
      "Violent Night:\n",
      "{'Argentina': '16::(with warning)', 'Australia': 'MA15+', 'Belgium': '16', 'Brazil': '16', 'Canada': '13+::(Quebec)', 'Chile': '14', 'Colombia': '15', 'Denmark': '15', 'Ecuador': '15', 'Egypt': '16+', 'Finland': 'K-16', 'France': 'Tous publics avec avertissement', 'Germany': '16', 'Hong Kong': 'IIB', 'India': 'A', 'Indonesia': '17+', 'Ireland': '16', 'Israel': '14', 'Italy': 'VM14', 'Japan': 'R15+', 'Kuwait': '18+', 'Luxembourg': '16', 'Mexico': 'C', 'Netherlands': '16', 'Norway': '15', 'Philippines': 'R-16::(self-applied)', 'Poland': '15', 'Portugal': 'M/16', 'Singapore': 'M18', 'South Africa': '16', 'South Korea': '15', 'Spain': '16', 'Sweden': '15', 'Switzerland': '16', 'Taiwan': '6+', 'Thailand': '15+', 'Turkey': '16+', 'United Kingdom': '15', 'United States': 'R', 'United Arab Emirates': '15+', 'Vietnam': 'C18'}\n"
     ]
    },
    {
     "name": "stderr",
     "output_type": "stream",
     "text": [
      "2023-12-26 20:35:52,565 ERROR [imdbpy] /Users/mac/opt/anaconda3/lib/python3.9/site-packages/imdb/__init__.py:844: unknown information set \"certificates\"\n"
     ]
    },
    {
     "name": "stdout",
     "output_type": "stream",
     "text": [
      "Last Flag Flying:\n",
      "{'Argentina': '13', 'Australia': 'M', 'Brazil': '12', 'Canada': '14A::(British Columbia)', 'Colombia': '7', 'Germany': '18::(self-applied)', 'Hong Kong': 'IIB', 'Ireland': '15A', 'Israel': '12', 'Japan': 'G', 'Mexico': 'B', 'New Zealand': 'M', 'Portugal': 'M/14', 'Singapore': 'NC16', 'Spain': '12::(ICAA)', 'Turkey': '13+', 'United Kingdom': '15', 'United States': 'R', 'United Arab Emirates': '18+'}\n"
     ]
    },
    {
     "name": "stderr",
     "output_type": "stream",
     "text": [
      "2023-12-26 20:35:58,724 ERROR [imdbpy] /Users/mac/opt/anaconda3/lib/python3.9/site-packages/imdb/__init__.py:844: unknown information set \"certificates\"\n"
     ]
    },
    {
     "name": "stdout",
     "output_type": "stream",
     "text": [
      "Everything Everywhere All at Once:\n",
      "{'Argentina': '13::(with warning)', 'Australia': 'MA15+', 'Belgium': '14', 'Brazil': '14', 'Canada': '13+::(Quebec)', 'Chile': '14', 'Colombia': '12', 'Denmark': '15', 'Ecuador': 'Not Rated', 'Egypt': 'Not Rated', 'Finland': 'K-16', 'France': 'Tous publics', 'Germany': '16', 'Greece': 'K-15', 'Hong Kong': 'IIB', 'Iceland': 'Unrated', 'India': 'A', 'Indonesia': '17+', 'Ireland': '16', 'Israel': '16', 'Italy': '6+', 'Japan': 'G', 'Kuwait': '(Banned)', 'Malaysia': 'P13', 'Mexico': 'B::(authorization 19276-B)', 'Netherlands': '12', 'New Zealand': 'R13', 'Norway': '15::(cinema rating)', 'Peru': '14', 'Philippines': 'R-13', 'Poland': '16', 'Portugal': 'M/14', 'Russia': '18+', 'Saudi Arabia': '(Banned)', 'Singapore': 'M18', 'South Africa': '16', 'South Korea': '15', 'Spain': '12', 'Sweden': '15::(Viaplay self-rating)', 'Switzerland': '16', 'Taiwan': '12+', 'Thailand': 'G', 'Turkey': '13+', 'United Kingdom': '15', 'United States': 'R', 'United Arab Emirates': 'Not Rated', 'Vietnam': 'C18'}\n"
     ]
    },
    {
     "name": "stderr",
     "output_type": "stream",
     "text": [
      "2023-12-26 20:36:04,697 ERROR [imdbpy] /Users/mac/opt/anaconda3/lib/python3.9/site-packages/imdb/__init__.py:844: unknown information set \"certificates\"\n"
     ]
    },
    {
     "name": "stdout",
     "output_type": "stream",
     "text": [
      "Last Christmas:\n",
      "{'Argentina': 'Atp::(with warning)', 'Australia': 'M::(DVD rating)', 'Austria': '6', 'Belgium': 'KT/EA', 'Brazil': '12', 'Canada': 'G::(Quebec)', 'Chile': 'TE', 'Colombia': '7', 'Denmark': 'A::(DVD and Blu-ray rating)', 'Ecuador': '12::(self-applied)', 'Egypt': 'PG-13::(self-applied)', 'Finland': 'K-7::(DVD and Blu-ray rating)', 'France': 'Tous publics', 'Germany': '0', 'Hong Kong': 'IIA', 'Hungary': '12', 'Iceland': '10', 'India': 'UA', 'Indonesia': '17+', 'Ireland': '12A', 'Israel': 'ALL', 'Italy': 'T', 'Japan': 'G', 'Malaysia': 'P13', 'Malta': '12A', 'Mexico': 'B', 'Netherlands': '9::(DVD and Blu-ray rating)', 'New Zealand': 'M', 'Nigeria': '15', 'Norway': 'A::(cinema rating)', 'Philippines': 'PG-13', 'Poland': '13::(self-applied)', 'Portugal': 'M/12', 'Puerto Rico': 'PG-13', 'Singapore': 'NC16', 'South Africa': '13', 'South Korea': '12', 'Spain': '7::(ICAA)', 'Sweden': '7::(DVD and Blu-ray rating)', 'Switzerland': '0', 'Taiwan': 'U::(self-applied)', 'Thailand': 'u 13+::(self-applied)', 'Turkey': '13+', 'United Kingdom': '12::(DVD rating)', 'United States': 'PG-13', 'Ukraine': '12', 'United Arab Emirates': '13+::(self-applied)', 'Vietnam': 'C13'}\n"
     ]
    },
    {
     "name": "stderr",
     "output_type": "stream",
     "text": [
      "2023-12-26 20:36:09,957 ERROR [imdbpy] /Users/mac/opt/anaconda3/lib/python3.9/site-packages/imdb/__init__.py:844: unknown information set \"certificates\"\n"
     ]
    },
    {
     "name": "stdout",
     "output_type": "stream",
     "text": [
      "Honeymoon:\n",
      "{'Australia': 'MA15+', 'Canada': '13+::(Quebec)', 'France': '12', 'Germany': '16', 'Ireland': '16', 'Japan': 'PG12', 'New Zealand': 'R16', 'Philippines': 'R-16', 'Russia': '18+', 'South Korea': '15', 'United Kingdom': '15', 'United States': 'R'}\n"
     ]
    },
    {
     "name": "stderr",
     "output_type": "stream",
     "text": [
      "2023-12-26 20:36:15,019 ERROR [imdbpy] /Users/mac/opt/anaconda3/lib/python3.9/site-packages/imdb/__init__.py:844: unknown information set \"certificates\"\n"
     ]
    },
    {
     "name": "stdout",
     "output_type": "stream",
     "text": [
      "Better Watch Out:\n",
      "{'Australia': 'MA15+', 'Brazil': '16::(DVD rating)', 'Canada': '13+::(Quebec)', 'Egypt': '15+', 'France': '12::(DVD rating)', 'Germany': '16', 'Ireland': '18::(video rating)', 'Italy': 'VM14', 'Japan': 'R15+::(self-applied)', 'Mexico': 'B15', 'New Zealand': 'R16', 'Norway': '15::(iTunes rating)', 'Poland': '16::(self-applied)', 'Russia': '18+', 'South Africa': '16::(D, L, V)', 'South Korea': '18', 'Spain': '16::(TV rating)', 'Sweden': '15', 'Thailand': 'u 18+', 'United Kingdom': '15', 'United States': 'R', 'United Arab Emirates': '15+'}\n"
     ]
    },
    {
     "name": "stderr",
     "output_type": "stream",
     "text": [
      "2023-12-26 20:36:19,308 ERROR [imdbpy] /Users/mac/opt/anaconda3/lib/python3.9/site-packages/imdb/__init__.py:844: unknown information set \"certificates\"\n"
     ]
    },
    {
     "name": "stdout",
     "output_type": "stream",
     "text": [
      "2036 Origin Unknown:\n",
      "{'Argentina': '13', 'Germany': '12', 'Poland': '16::(self-applied)', 'South Korea': '12', 'United Kingdom': '12', 'United States': 'TV-14'}\n"
     ]
    },
    {
     "name": "stderr",
     "output_type": "stream",
     "text": [
      "2023-12-26 20:36:24,326 ERROR [imdbpy] /Users/mac/opt/anaconda3/lib/python3.9/site-packages/imdb/__init__.py:844: unknown information set \"certificates\"\n"
     ]
    },
    {
     "name": "stdout",
     "output_type": "stream",
     "text": [
      "The Man Who Invented Christmas:\n",
      "{'Australia': 'PG', 'Austria': '6', 'Canada': 'PG::(British Columbia)', 'Germany': '6', 'India': 'U', 'Ireland': 'PG', 'Italy': 'T', 'Japan': 'G', 'Netherlands': '9', 'New Zealand': 'PG', 'Portugal': 'M/12', 'Singapore': 'PG', 'South Africa': '7-9::(DVD rating)', 'South Korea': 'All', 'Spain': 'A::(ICAA)', 'United Kingdom': 'PG', 'United States': 'PG'}\n"
     ]
    },
    {
     "name": "stderr",
     "output_type": "stream",
     "text": [
      "2023-12-26 20:36:29,996 ERROR [imdbpy] /Users/mac/opt/anaconda3/lib/python3.9/site-packages/imdb/__init__.py:844: unknown information set \"certificates\"\n"
     ]
    },
    {
     "name": "stdout",
     "output_type": "stream",
     "text": [
      "A Christmas Carol:\n",
      "{'Argentina': '13', 'Australia': 'PG', 'Brazil': '10', 'Canada': 'G::(British Columbia/Quebec)', 'Chile': 'TE', 'Finland': 'K-11', 'France': 'Tous publics', 'Germany': '12', 'Hong Kong': 'IIA', 'Iceland': '7', 'India': 'U', 'Indonesia': 'PG::(self-applied)', 'Ireland': 'PG', 'Italy': 'T', 'Japan': 'G', 'Malaysia': 'U', 'Mexico': 'A', 'Netherlands': '9', 'New Zealand': 'M', 'Norway': '11::(cinema rating)', 'Philippines': 'G::(MTRCB)', 'Poland': '13', 'Portugal': 'M/12', 'Russia': '12+', 'Singapore': 'PG', 'South Africa': '10', 'South Korea': 'All', 'Spain': '7', 'Sweden': '11', 'Switzerland': '7::(canton of Vaud)', 'Taiwan': '0+', 'Thailand': 'PG::(self-applied)', 'Turkey': '7A::(self-applied)', 'United Kingdom': 'PG', 'United States': 'TV-14::(some scenes can shock)', 'United Arab Emirates': 'PG::(self-applied)'}\n"
     ]
    },
    {
     "name": "stderr",
     "output_type": "stream",
     "text": [
      "2023-12-26 20:36:35,857 ERROR [imdbpy] /Users/mac/opt/anaconda3/lib/python3.9/site-packages/imdb/__init__.py:844: unknown information set \"certificates\"\n"
     ]
    },
    {
     "name": "stdout",
     "output_type": "stream",
     "text": [
      "Extracurricular:\n",
      "{'Argentina': '16', 'Australia': 'MA15+', 'Brazil': '18', 'France': '16::(self-applied)', 'Germany': '16', 'Hong Kong': '16+::(self-applied)', 'India': '16::(self-applied)', 'Indonesia': '16+::(self-applied)', 'Italy': 'VM14::(self-applied)', 'Japan': 'R15+::(self-applied)', 'Netherlands': '16::(self-applied)', 'Philippines': '16+::(self-applied)', 'Poland': '16::(self-applied)', 'Singapore': 'R21', 'South Korea': '18', 'Spain': '16::(self-applied)', 'Sweden': '16+::(self-applied)', 'Thailand': '16+::(self-applied)', 'Turkey': '16+::(self-applied)', 'United Kingdom': '15', 'United States': 'TV-MA', 'United Arab Emirates': '16+::(self-applied)'}\n"
     ]
    },
    {
     "name": "stderr",
     "output_type": "stream",
     "text": [
      "2023-12-26 20:36:41,444 ERROR [imdbpy] /Users/mac/opt/anaconda3/lib/python3.9/site-packages/imdb/__init__.py:844: unknown information set \"certificates\"\n"
     ]
    },
    {
     "name": "stdout",
     "output_type": "stream",
     "text": [
      "The Green Knight:\n",
      "{'Argentina': '18', 'Australia': 'MA15+', 'Brazil': '16', 'Canada': '14A::(British Columbia)', 'Denmark': '11', 'Finland': 'K-12', 'France': '7', 'Germany': '16', 'India': 'UA', 'Ireland': '15::(video)', 'Israel': '14', 'Italy': 'VM14::(self-applied)', 'Japan': 'G', 'Mexico': '12+', 'Netherlands': '16', 'Norway': '12', 'Philippines': 'R-13::(self-applied)', 'Poland': '12', 'Portugal': 'M/14', 'Russia': '18+', 'Saudi Arabia': 'R15', 'Singapore': 'M18', 'South Korea': '15', 'Spain': '16', 'Sweden': '11', 'Switzerland': '16', 'Taiwan': '12+::(self-applied)', 'Thailand': '16+::(self-applied)', 'Turkey': '16+', 'United Kingdom': '15', 'United States': 'R', 'United Arab Emirates': 'PG-13'}\n"
     ]
    },
    {
     "name": "stderr",
     "output_type": "stream",
     "text": [
      "2023-12-26 20:36:47,397 ERROR [imdbpy] /Users/mac/opt/anaconda3/lib/python3.9/site-packages/imdb/__init__.py:844: unknown information set \"certificates\"\n"
     ]
    },
    {
     "name": "stdout",
     "output_type": "stream",
     "text": [
      "Butt Boy:\n",
      "{'Australia': 'MA15+', 'Netherlands': '16::(self-applied)', 'Poland': '16::(self-applied)', 'United Kingdom': '15', 'United States': 'TV-MA::(Tubi self-applied)'}\n"
     ]
    },
    {
     "name": "stderr",
     "output_type": "stream",
     "text": [
      "2023-12-26 20:36:55,273 ERROR [imdbpy] /Users/mac/opt/anaconda3/lib/python3.9/site-packages/imdb/__init__.py:844: unknown information set \"certificates\"\n"
     ]
    },
    {
     "name": "stdout",
     "output_type": "stream",
     "text": [
      "Vanilla:\n",
      "{'Argentina': '16', 'Australia': 'MA15+', 'Brazil': '14', 'Canada': '14A', 'Ecuador': 'Sin Calificación::(self-applied)', 'Egypt': 'Not Rated::(self-applied)', 'Finland': 'K-12', 'France': 'Tous publics', 'Germany': '16', 'Hong Kong': 'IIB', 'Hungary': '16::(DVD)', 'Iceland': '12', 'India': 'UA', 'Indonesia': '18+::(self-applied)', 'Ireland': '15', 'Israel': '17+::(self-applied)', 'Italy': 'T', 'Japan': 'G::(self-applied)', 'Mexico': 'B', 'Netherlands': '12', 'New Zealand': 'M', 'Nigeria': 'PG', 'Peru': '14', 'Philippines': 'R-18', 'Poland': '12::(self-applied)', 'Portugal': 'M/16', 'Russia': '16+', 'Singapore': 'M18', 'South Africa': '16', 'South Korea': '18', 'Spain': '13', 'Sweden': '11', 'Switzerland': '14::(canton of Vaud)', 'Taiwan': '12+', 'Thailand': 'u 18+::(self-applied)', 'Turkey': '15+', 'United Kingdom': '15', 'United States': 'R', 'United Arab Emirates': '18+::(self-applied)'}\n"
     ]
    },
    {
     "name": "stderr",
     "output_type": "stream",
     "text": [
      "2023-12-26 20:37:01,509 ERROR [imdbpy] /Users/mac/opt/anaconda3/lib/python3.9/site-packages/imdb/__init__.py:844: unknown information set \"certificates\"\n"
     ]
    },
    {
     "name": "stdout",
     "output_type": "stream",
     "text": [
      "Dead Zone:\n",
      "{'Argentina': '13', 'Australia': 'M', 'Belgium': '14::(recommended rating)', 'Brazil': '14::(DVD)', 'Bulgaria': 'D', 'Canada': '14+::(tv rating)', 'Ecuador': 'Not Rated', 'Finland': 'K-16', 'France': 'Tous publics', 'Germany': '16', 'Iceland': '16', 'India': 'UA', 'Ireland': '18::(DVD)', 'Italy': 'T', 'Japan': 'PG12', 'Maldives': '18+', 'Mexico': 'C', 'Netherlands': '16::(DVD rating)', 'New Zealand': 'PG', 'Norway': '16', 'Portugal': 'M/16', 'Singapore': 'NC-16', 'South Korea': '18', 'Spain': '13', 'Sweden': '15', 'United Kingdom': '18', 'United States': 'R', 'United Arab Emirates': 'Not Rated', 'West Germany': '16::(theatrical and VHS rating)'}\n"
     ]
    },
    {
     "name": "stderr",
     "output_type": "stream",
     "text": [
      "2023-12-26 20:37:08,564 ERROR [imdbpy] /Users/mac/opt/anaconda3/lib/python3.9/site-packages/imdb/__init__.py:844: unknown information set \"certificates\"\n"
     ]
    },
    {
     "name": "stdout",
     "output_type": "stream",
     "text": [
      "Summer of 85:\n",
      "{'Argentina': '16', 'Australia': 'MA15+', 'Belgium': 'KT', 'Brazil': '14::(video rating)', 'Canada': 'Not Rated', 'Chile': '16+', 'Colombia': '15', 'Denmark': '11', 'Ecuador': '16', 'France': 'Tous publics', 'Germany': '12', 'Hungary': '16', 'Iceland': 'Unrated', 'India': 'Not Rated', 'Italy': 'T', 'Japan': 'PG12', 'Netherlands': '12', 'New Zealand': 'R15', 'Norway': '12::(cinema rating)', 'Peru': '14', 'Poland': '12', 'Portugal': 'M/14', 'Russia': '18+', 'Saudi Arabia': 'Not Rated', 'Singapore': 'R21', 'South Korea': '15', 'Spain': '12', 'Sweden': '11', 'Switzerland': '14', 'Turkey': '15+::(self-applied)', 'United Kingdom': '15', 'United States': 'Not Rated'}\n",
      "\n",
      "DataFrame with Age Ratings for All Countries:\n",
      "                          Movie Title            Argentina        Australia  \\\n",
      "0                       Violent Night   16::(with warning)            MA15+   \n",
      "1                    Last Flag Flying                   13                M   \n",
      "2   Everything Everywhere All at Once   13::(with warning)            MA15+   \n",
      "3                      Last Christmas  Atp::(with warning)  M::(DVD rating)   \n",
      "4                           Honeymoon                  NaN            MA15+   \n",
      "5                    Better Watch Out                  NaN            MA15+   \n",
      "6                 2036 Origin Unknown                   13              NaN   \n",
      "7      The Man Who Invented Christmas                  NaN               PG   \n",
      "8                   A Christmas Carol                   13               PG   \n",
      "9                     Extracurricular                   16            MA15+   \n",
      "10                   The Green Knight                   18            MA15+   \n",
      "11                           Butt Boy                  NaN            MA15+   \n",
      "12                            Vanilla                   16            MA15+   \n",
      "13                          Dead Zone                   13                M   \n",
      "14                       Summer of 85                   16            MA15+   \n",
      "\n",
      "                     Belgium              Brazil  \\\n",
      "0                         16                  16   \n",
      "1                        NaN                  12   \n",
      "2                         14                  14   \n",
      "3                      KT/EA                  12   \n",
      "4                        NaN                 NaN   \n",
      "5                        NaN    16::(DVD rating)   \n",
      "6                        NaN                 NaN   \n",
      "7                        NaN                 NaN   \n",
      "8                        NaN                  10   \n",
      "9                        NaN                  18   \n",
      "10                       NaN                  16   \n",
      "11                       NaN                 NaN   \n",
      "12                       NaN                  14   \n",
      "13  14::(recommended rating)           14::(DVD)   \n",
      "14                        KT  14::(video rating)   \n",
      "\n",
      "                          Canada Chile Colombia                      Denmark  \\\n",
      "0                  13+::(Quebec)    14       15                           15   \n",
      "1        14A::(British Columbia)   NaN        7                          NaN   \n",
      "2                  13+::(Quebec)    14       12                           15   \n",
      "3                    G::(Quebec)    TE        7  A::(DVD and Blu-ray rating)   \n",
      "4                  13+::(Quebec)   NaN      NaN                          NaN   \n",
      "5                  13+::(Quebec)   NaN      NaN                          NaN   \n",
      "6                            NaN   NaN      NaN                          NaN   \n",
      "7         PG::(British Columbia)   NaN      NaN                          NaN   \n",
      "8   G::(British Columbia/Quebec)    TE      NaN                          NaN   \n",
      "9                            NaN   NaN      NaN                          NaN   \n",
      "10       14A::(British Columbia)   NaN      NaN                           11   \n",
      "11                           NaN   NaN      NaN                          NaN   \n",
      "12                           14A   NaN      NaN                          NaN   \n",
      "13              14+::(tv rating)   NaN      NaN                          NaN   \n",
      "14                     Not Rated   16+       15                           11   \n",
      "\n",
      "                             Ecuador  ... Saudi Arabia Austria    Hungary  \\\n",
      "0                                 15  ...          NaN     NaN        NaN   \n",
      "1                                NaN  ...          NaN     NaN        NaN   \n",
      "2                          Not Rated  ...     (Banned)     NaN        NaN   \n",
      "3                 12::(self-applied)  ...          NaN       6         12   \n",
      "4                                NaN  ...          NaN     NaN        NaN   \n",
      "5                                NaN  ...          NaN     NaN        NaN   \n",
      "6                                NaN  ...          NaN     NaN        NaN   \n",
      "7                                NaN  ...          NaN       6        NaN   \n",
      "8                                NaN  ...          NaN     NaN        NaN   \n",
      "9                                NaN  ...          NaN     NaN        NaN   \n",
      "10                               NaN  ...          R15     NaN        NaN   \n",
      "11                               NaN  ...          NaN     NaN        NaN   \n",
      "12  Sin Calificación::(self-applied)  ...          NaN     NaN  16::(DVD)   \n",
      "13                         Not Rated  ...          NaN     NaN        NaN   \n",
      "14                                16  ...    Not Rated     NaN         16   \n",
      "\n",
      "   Malta Nigeria Puerto Rico Ukraine Bulgaria Maldives  \\\n",
      "0    NaN     NaN         NaN     NaN      NaN      NaN   \n",
      "1    NaN     NaN         NaN     NaN      NaN      NaN   \n",
      "2    NaN     NaN         NaN     NaN      NaN      NaN   \n",
      "3    12A      15       PG-13      12      NaN      NaN   \n",
      "4    NaN     NaN         NaN     NaN      NaN      NaN   \n",
      "5    NaN     NaN         NaN     NaN      NaN      NaN   \n",
      "6    NaN     NaN         NaN     NaN      NaN      NaN   \n",
      "7    NaN     NaN         NaN     NaN      NaN      NaN   \n",
      "8    NaN     NaN         NaN     NaN      NaN      NaN   \n",
      "9    NaN     NaN         NaN     NaN      NaN      NaN   \n",
      "10   NaN     NaN         NaN     NaN      NaN      NaN   \n",
      "11   NaN     NaN         NaN     NaN      NaN      NaN   \n",
      "12   NaN      PG         NaN     NaN      NaN      NaN   \n",
      "13   NaN     NaN         NaN     NaN        D      18+   \n",
      "14   NaN     NaN         NaN     NaN      NaN      NaN   \n",
      "\n",
      "                       West Germany  \n",
      "0                               NaN  \n",
      "1                               NaN  \n",
      "2                               NaN  \n",
      "3                               NaN  \n",
      "4                               NaN  \n",
      "5                               NaN  \n",
      "6                               NaN  \n",
      "7                               NaN  \n",
      "8                               NaN  \n",
      "9                               NaN  \n",
      "10                              NaN  \n",
      "11                              NaN  \n",
      "12                              NaN  \n",
      "13  16::(theatrical and VHS rating)  \n",
      "14                              NaN  \n",
      "\n",
      "[15 rows x 58 columns]\n"
     ]
    }
   ],
   "source": [
    "import pandas as pd\n",
    "from imdb import IMDb\n",
    "\n",
    "# Function to get age ratings for all countries for a movie title\n",
    "def get_all_age_ratings(movie_title):\n",
    "    ia = IMDb()\n",
    "\n",
    "    # Search for the movie by title\n",
    "    search_results = ia.search_movie(movie_title)\n",
    "\n",
    "    if search_results:\n",
    "        # Get the first result (most relevant)\n",
    "        movie = search_results[0]\n",
    "\n",
    "        # Load detailed information about the movie\n",
    "        ia.update(movie, info=['main', 'certificates'])\n",
    "\n",
    "        # Get certificates for all countries\n",
    "        certificates = movie.get('certificates')\n",
    "\n",
    "        # Check if certificates is a string, convert it to a list\n",
    "        if isinstance(certificates, str):\n",
    "            certificates = [certificates]\n",
    "\n",
    "        # Create a dictionary to store age ratings for all countries\n",
    "        age_ratings = {}\n",
    "\n",
    "        for certificate in certificates:\n",
    "            # Extract country and rating information\n",
    "            country, *rating_parts = certificate.split(':')\n",
    "            rating = ':'.join(rating_parts).strip() if rating_parts else 'Not available'\n",
    "            age_ratings[country.strip()] = rating.strip()\n",
    "\n",
    "        return age_ratings\n",
    "    \n",
    "    return {'Not available': 'Not available'}\n",
    "\n",
    "# Your list of movie titles\n",
    "movie_titles = ['Violent Night', 'Last Flag Flying', 'Everything Everywhere All at Once', 'Last Christmas', 'Honeymoon', 'Better Watch Out', '2036 Origin Unknown', 'The Man Who Invented Christmas', 'A Christmas Carol', 'Extracurricular', 'The Green Knight', 'Butt Boy', 'Vanilla', 'Dead Zone', 'Summer of 85']\n",
    "# List to store age ratings for all countries\n",
    "all_age_ratings = []\n",
    "\n",
    "# Iterate through the movie titles to get age ratings for all countries\n",
    "for title in movie_titles:\n",
    "    age_rating_dict = get_all_age_ratings(title)\n",
    "    all_age_ratings.append(age_rating_dict)\n",
    "    \n",
    "    # Print the age ratings for the current movie\n",
    "    print(f\"{title}:\\n{age_rating_dict}\")\n",
    "\n",
    "# Create a DataFrame with age ratings for all countries\n",
    "df = pd.DataFrame(all_age_ratings)\n",
    "\n",
    "# Add a column for Movie Titles\n",
    "df['Movie Title'] = movie_titles\n",
    "\n",
    "# Reorder columns to have 'Movie Title' as the first column\n",
    "df = df[['Movie Title'] + [col for col in df.columns if col != 'Movie Title']]\n",
    "\n",
    "# Print the DataFrame\n",
    "print(\"\\nDataFrame with Age Ratings for All Countries:\")\n",
    "print(df)\n"
   ]
  },
  {
   "cell_type": "code",
   "execution_count": 37,
   "id": "80a0a7c0",
   "metadata": {
    "scrolled": false
   },
   "outputs": [
    {
     "name": "stderr",
     "output_type": "stream",
     "text": [
      "2023-12-27 10:12:58,734 ERROR [imdbpy] /Users/mac/opt/anaconda3/lib/python3.9/site-packages/imdb/__init__.py:844: unknown information set \"genres\"\n"
     ]
    },
    {
     "name": "stdout",
     "output_type": "stream",
     "text": [
      "Hours:\n",
      "Genres: ['Action', 'Drama', 'History', 'Thriller', 'War']\n"
     ]
    },
    {
     "name": "stderr",
     "output_type": "stream",
     "text": [
      "2023-12-27 10:13:11,502 ERROR [imdbpy] /Users/mac/opt/anaconda3/lib/python3.9/site-packages/imdb/__init__.py:844: unknown information set \"genres\"\n"
     ]
    },
    {
     "name": "stdout",
     "output_type": "stream",
     "text": [
      "The Grinch:\n",
      "Genres: ['Animation', 'Comedy', 'Family', 'Fantasy', 'Musical']\n"
     ]
    },
    {
     "name": "stderr",
     "output_type": "stream",
     "text": [
      "2023-12-27 10:13:19,542 ERROR [imdbpy] /Users/mac/opt/anaconda3/lib/python3.9/site-packages/imdb/__init__.py:844: unknown information set \"genres\"\n"
     ]
    },
    {
     "name": "stdout",
     "output_type": "stream",
     "text": [
      "In a World...:\n",
      "Genres: ['Comedy']\n"
     ]
    },
    {
     "name": "stderr",
     "output_type": "stream",
     "text": [
      "2023-12-27 10:13:30,949 ERROR [imdbpy] /Users/mac/opt/anaconda3/lib/python3.9/site-packages/imdb/__init__.py:844: unknown information set \"genres\"\n"
     ]
    },
    {
     "name": "stdout",
     "output_type": "stream",
     "text": [
      "All the Money in the World:\n",
      "Genres: ['Biography', 'Crime', 'Drama', 'Mystery', 'Thriller']\n"
     ]
    },
    {
     "name": "stderr",
     "output_type": "stream",
     "text": [
      "2023-12-27 10:13:37,599 ERROR [imdbpy] /Users/mac/opt/anaconda3/lib/python3.9/site-packages/imdb/__init__.py:844: unknown information set \"genres\"\n"
     ]
    },
    {
     "name": "stdout",
     "output_type": "stream",
     "text": [
      "Relic:\n",
      "Genres: ['Drama', 'Horror', 'Mystery', 'Thriller']\n"
     ]
    },
    {
     "name": "stderr",
     "output_type": "stream",
     "text": [
      "2023-12-27 10:13:47,703 ERROR [imdbpy] /Users/mac/opt/anaconda3/lib/python3.9/site-packages/imdb/__init__.py:844: unknown information set \"genres\"\n"
     ]
    },
    {
     "name": "stdout",
     "output_type": "stream",
     "text": [
      "The Night Before:\n",
      "Genres: ['Comedy', 'Fantasy']\n"
     ]
    },
    {
     "name": "stderr",
     "output_type": "stream",
     "text": [
      "2023-12-27 10:13:54,305 ERROR [imdbpy] /Users/mac/opt/anaconda3/lib/python3.9/site-packages/imdb/__init__.py:844: unknown information set \"genres\"\n"
     ]
    },
    {
     "name": "stdout",
     "output_type": "stream",
     "text": [
      "Bad Timing:\n",
      "Genres: ['Drama', 'Mystery', 'Thriller']\n"
     ]
    },
    {
     "name": "stderr",
     "output_type": "stream",
     "text": [
      "2023-12-27 10:14:06,165 ERROR [imdbpy] /Users/mac/opt/anaconda3/lib/python3.9/site-packages/imdb/__init__.py:844: unknown information set \"genres\"\n"
     ]
    },
    {
     "name": "stdout",
     "output_type": "stream",
     "text": [
      "A Vigilante:\n",
      "Genres: ['Crime', 'Drama', 'Mystery', 'Thriller']\n"
     ]
    },
    {
     "name": "stderr",
     "output_type": "stream",
     "text": [
      "2023-12-27 10:14:11,871 ERROR [imdbpy] /Users/mac/opt/anaconda3/lib/python3.9/site-packages/imdb/__init__.py:844: unknown information set \"genres\"\n"
     ]
    },
    {
     "name": "stdout",
     "output_type": "stream",
     "text": [
      "Last Flag Flying:\n",
      "Genres: ['Comedy', 'Drama', 'War']\n"
     ]
    },
    {
     "name": "stderr",
     "output_type": "stream",
     "text": [
      "2023-12-27 10:14:20,591 ERROR [imdbpy] /Users/mac/opt/anaconda3/lib/python3.9/site-packages/imdb/__init__.py:844: unknown information set \"genres\"\n"
     ]
    },
    {
     "name": "stdout",
     "output_type": "stream",
     "text": [
      "The Infiltrator:\n",
      "Genres: ['Biography', 'Crime', 'Drama', 'Thriller']\n"
     ]
    },
    {
     "name": "stderr",
     "output_type": "stream",
     "text": [
      "2023-12-27 10:14:26,276 ERROR [imdbpy] /Users/mac/opt/anaconda3/lib/python3.9/site-packages/imdb/__init__.py:844: unknown information set \"genres\"\n"
     ]
    },
    {
     "name": "stdout",
     "output_type": "stream",
     "text": [
      "Cry Macho:\n",
      "Genres: ['Adventure', 'Drama']\n"
     ]
    },
    {
     "name": "stderr",
     "output_type": "stream",
     "text": [
      "2023-12-27 10:14:31,704 ERROR [imdbpy] /Users/mac/opt/anaconda3/lib/python3.9/site-packages/imdb/__init__.py:844: unknown information set \"genres\"\n"
     ]
    },
    {
     "name": "stdout",
     "output_type": "stream",
     "text": [
      "Genius:\n",
      "Genres: ['Biography', 'Drama', 'History']\n"
     ]
    },
    {
     "name": "stderr",
     "output_type": "stream",
     "text": [
      "2023-12-27 10:14:38,565 ERROR [imdbpy] /Users/mac/opt/anaconda3/lib/python3.9/site-packages/imdb/__init__.py:844: unknown information set \"genres\"\n"
     ]
    },
    {
     "name": "stdout",
     "output_type": "stream",
     "text": [
      "A Beautiful Day in the Neighborhood:\n",
      "Genres: ['Biography', 'Drama']\n"
     ]
    },
    {
     "name": "stderr",
     "output_type": "stream",
     "text": [
      "2023-12-27 10:14:47,461 ERROR [imdbpy] /Users/mac/opt/anaconda3/lib/python3.9/site-packages/imdb/__init__.py:844: unknown information set \"genres\"\n"
     ]
    },
    {
     "name": "stdout",
     "output_type": "stream",
     "text": [
      "This Is the End:\n",
      "Genres: ['Comedy', 'Fantasy']\n"
     ]
    },
    {
     "name": "stderr",
     "output_type": "stream",
     "text": [
      "2023-12-27 10:14:53,335 ERROR [imdbpy] /Users/mac/opt/anaconda3/lib/python3.9/site-packages/imdb/__init__.py:844: unknown information set \"genres\"\n"
     ]
    },
    {
     "name": "stdout",
     "output_type": "stream",
     "text": [
      "Silent Night:\n",
      "Genres: ['Action', 'Thriller']\n"
     ]
    },
    {
     "name": "stderr",
     "output_type": "stream",
     "text": [
      "2023-12-27 10:15:00,948 ERROR [imdbpy] /Users/mac/opt/anaconda3/lib/python3.9/site-packages/imdb/__init__.py:844: unknown information set \"genres\"\n"
     ]
    },
    {
     "name": "stdout",
     "output_type": "stream",
     "text": [
      "Click & Collect:\n",
      "Genres: ['Comedy']\n"
     ]
    },
    {
     "name": "stderr",
     "output_type": "stream",
     "text": [
      "2023-12-27 10:15:12,109 ERROR [imdbpy] /Users/mac/opt/anaconda3/lib/python3.9/site-packages/imdb/__init__.py:844: unknown information set \"genres\"\n"
     ]
    },
    {
     "name": "stdout",
     "output_type": "stream",
     "text": [
      "The Little Mermaid:\n",
      "Genres: ['Adventure', 'Family', 'Fantasy', 'Musical', 'Romance']\n"
     ]
    },
    {
     "name": "stderr",
     "output_type": "stream",
     "text": [
      "2023-12-27 10:15:25,921 ERROR [imdbpy] /Users/mac/opt/anaconda3/lib/python3.9/site-packages/imdb/__init__.py:844: unknown information set \"genres\"\n"
     ]
    },
    {
     "name": "stdout",
     "output_type": "stream",
     "text": [
      "Don't Breathe 2:\n",
      "Genres: ['Action', 'Crime', 'Horror', 'Thriller']\n"
     ]
    },
    {
     "name": "stderr",
     "output_type": "stream",
     "text": [
      "2023-12-27 10:15:35,221 ERROR [imdbpy] /Users/mac/opt/anaconda3/lib/python3.9/site-packages/imdb/__init__.py:844: unknown information set \"genres\"\n"
     ]
    },
    {
     "name": "stdout",
     "output_type": "stream",
     "text": [
      "Daddy's Home 2:\n",
      "Genres: ['Comedy']\n"
     ]
    },
    {
     "name": "stderr",
     "output_type": "stream",
     "text": [
      "2023-12-27 10:15:43,371 ERROR [imdbpy] /Users/mac/opt/anaconda3/lib/python3.9/site-packages/imdb/__init__.py:844: unknown information set \"genres\"\n"
     ]
    },
    {
     "name": "stdout",
     "output_type": "stream",
     "text": [
      "We Still Kill the Old Way:\n",
      "Genres: ['Action', 'Comedy', 'Crime', 'Drama', 'Thriller']\n"
     ]
    },
    {
     "name": "stderr",
     "output_type": "stream",
     "text": [
      "2023-12-27 10:15:53,568 ERROR [imdbpy] /Users/mac/opt/anaconda3/lib/python3.9/site-packages/imdb/__init__.py:844: unknown information set \"genres\"\n"
     ]
    },
    {
     "name": "stdout",
     "output_type": "stream",
     "text": [
      "War Dogs:\n",
      "Genres: ['Biography', 'Comedy', 'Crime', 'Drama', 'War']\n"
     ]
    },
    {
     "name": "stderr",
     "output_type": "stream",
     "text": [
      "2023-12-27 10:16:03,140 ERROR [imdbpy] /Users/mac/opt/anaconda3/lib/python3.9/site-packages/imdb/__init__.py:844: unknown information set \"genres\"\n"
     ]
    },
    {
     "name": "stdout",
     "output_type": "stream",
     "text": [
      "The Fall of Usher:\n",
      "Genres: ['Drama', 'Horror', 'Mystery']\n"
     ]
    },
    {
     "name": "stderr",
     "output_type": "stream",
     "text": [
      "2023-12-27 10:16:18,931 ERROR [imdbpy] /Users/mac/opt/anaconda3/lib/python3.9/site-packages/imdb/__init__.py:844: unknown information set \"genres\"\n"
     ]
    },
    {
     "name": "stdout",
     "output_type": "stream",
     "text": [
      "Your Christmas or Mine?:\n",
      "Genres: ['Comedy', 'Romance']\n"
     ]
    },
    {
     "name": "stderr",
     "output_type": "stream",
     "text": [
      "2023-12-27 10:16:34,627 ERROR [imdbpy] /Users/mac/opt/anaconda3/lib/python3.9/site-packages/imdb/__init__.py:844: unknown information set \"genres\"\n"
     ]
    },
    {
     "name": "stdout",
     "output_type": "stream",
     "text": [
      "Rough Night:\n",
      "Genres: ['Comedy']\n"
     ]
    },
    {
     "name": "stderr",
     "output_type": "stream",
     "text": [
      "2023-12-27 10:16:46,016 ERROR [imdbpy] /Users/mac/opt/anaconda3/lib/python3.9/site-packages/imdb/__init__.py:844: unknown information set \"genres\"\n"
     ]
    },
    {
     "name": "stdout",
     "output_type": "stream",
     "text": [
      "Nurse 3-D:\n",
      "Genres: ['Horror', 'Thriller']\n"
     ]
    },
    {
     "name": "stderr",
     "output_type": "stream",
     "text": [
      "2023-12-27 10:16:57,751 ERROR [imdbpy] /Users/mac/opt/anaconda3/lib/python3.9/site-packages/imdb/__init__.py:844: unknown information set \"genres\"\n"
     ]
    },
    {
     "name": "stdout",
     "output_type": "stream",
     "text": [
      "Once Upon a Time… in Hollywood:\n",
      "Genres: ['Comedy', 'Drama']\n"
     ]
    },
    {
     "name": "stderr",
     "output_type": "stream",
     "text": [
      "2023-12-27 10:17:08,531 ERROR [imdbpy] /Users/mac/opt/anaconda3/lib/python3.9/site-packages/imdb/__init__.py:844: unknown information set \"genres\"\n"
     ]
    },
    {
     "name": "stdout",
     "output_type": "stream",
     "text": [
      "Rubikon:\n",
      "Genres: ['Drama', 'Sci-Fi', 'Thriller']\n"
     ]
    },
    {
     "name": "stderr",
     "output_type": "stream",
     "text": [
      "2023-12-27 10:17:17,210 ERROR [imdbpy] /Users/mac/opt/anaconda3/lib/python3.9/site-packages/imdb/__init__.py:844: unknown information set \"genres\"\n"
     ]
    },
    {
     "name": "stdout",
     "output_type": "stream",
     "text": [
      "The Craft: Legacy:\n",
      "Genres: ['Drama', 'Fantasy', 'Horror']\n"
     ]
    },
    {
     "name": "stderr",
     "output_type": "stream",
     "text": [
      "2023-12-27 10:17:26,744 ERROR [imdbpy] /Users/mac/opt/anaconda3/lib/python3.9/site-packages/imdb/__init__.py:844: unknown information set \"genres\"\n"
     ]
    },
    {
     "name": "stdout",
     "output_type": "stream",
     "text": [
      "When Darkness Falls:\n",
      "Genres: ['Crime', 'Mystery', 'Thriller']\n"
     ]
    },
    {
     "name": "stderr",
     "output_type": "stream",
     "text": [
      "2023-12-27 10:17:37,113 ERROR [imdbpy] /Users/mac/opt/anaconda3/lib/python3.9/site-packages/imdb/__init__.py:844: unknown information set \"genres\"\n"
     ]
    },
    {
     "name": "stdout",
     "output_type": "stream",
     "text": [
      "I Can Only Imagine:\n",
      "Genres: ['Biography', 'Drama', 'Family', 'Music']\n"
     ]
    },
    {
     "name": "stderr",
     "output_type": "stream",
     "text": [
      "2023-12-27 10:17:46,482 ERROR [imdbpy] /Users/mac/opt/anaconda3/lib/python3.9/site-packages/imdb/__init__.py:844: unknown information set \"genres\"\n"
     ]
    },
    {
     "name": "stdout",
     "output_type": "stream",
     "text": [
      "Dawn Breaks Behind the Eyes:\n",
      "Genres: ['Action', 'Horror', 'Mystery']\n"
     ]
    },
    {
     "name": "stderr",
     "output_type": "stream",
     "text": [
      "2023-12-27 10:17:56,600 ERROR [imdbpy] /Users/mac/opt/anaconda3/lib/python3.9/site-packages/imdb/__init__.py:844: unknown information set \"genres\"\n"
     ]
    },
    {
     "name": "stdout",
     "output_type": "stream",
     "text": [
      "A Simple Favor:\n",
      "Genres: ['Comedy', 'Crime', 'Mystery', 'Thriller']\n"
     ]
    },
    {
     "name": "stderr",
     "output_type": "stream",
     "text": [
      "2023-12-27 10:18:07,648 ERROR [imdbpy] /Users/mac/opt/anaconda3/lib/python3.9/site-packages/imdb/__init__.py:844: unknown information set \"genres\"\n"
     ]
    },
    {
     "name": "stdout",
     "output_type": "stream",
     "text": [
      "Kin:\n",
      "Genres: ['Crime', 'Drama']\n"
     ]
    },
    {
     "name": "stderr",
     "output_type": "stream",
     "text": [
      "2023-12-27 10:18:17,425 ERROR [imdbpy] /Users/mac/opt/anaconda3/lib/python3.9/site-packages/imdb/__init__.py:844: unknown information set \"genres\"\n"
     ]
    },
    {
     "name": "stdout",
     "output_type": "stream",
     "text": [
      "Kinsenas, Katapusan:\n",
      "Genres: ['Thriller']\n"
     ]
    },
    {
     "name": "stderr",
     "output_type": "stream",
     "text": [
      "2023-12-27 10:18:26,248 ERROR [imdbpy] /Users/mac/opt/anaconda3/lib/python3.9/site-packages/imdb/__init__.py:844: unknown information set \"genres\"\n"
     ]
    },
    {
     "name": "stdout",
     "output_type": "stream",
     "text": [
      "I Spit on Your Grave 2:\n",
      "Genres: ['Horror', 'Thriller']\n"
     ]
    },
    {
     "name": "stderr",
     "output_type": "stream",
     "text": [
      "2023-12-27 10:18:38,898 ERROR [imdbpy] /Users/mac/opt/anaconda3/lib/python3.9/site-packages/imdb/__init__.py:844: unknown information set \"genres\"\n"
     ]
    },
    {
     "name": "stdout",
     "output_type": "stream",
     "text": [
      "Edge of Tomorrow:\n",
      "Genres: ['Action', 'Adventure', 'Sci-Fi']\n"
     ]
    },
    {
     "name": "stderr",
     "output_type": "stream",
     "text": [
      "2023-12-27 10:18:50,451 ERROR [imdbpy] /Users/mac/opt/anaconda3/lib/python3.9/site-packages/imdb/__init__.py:844: unknown information set \"genres\"\n"
     ]
    },
    {
     "name": "stdout",
     "output_type": "stream",
     "text": [
      "Rabbit:\n",
      "Genres: ['Comedy', 'Drama', 'War']\n"
     ]
    },
    {
     "name": "stderr",
     "output_type": "stream",
     "text": [
      "2023-12-27 10:18:59,046 ERROR [imdbpy] /Users/mac/opt/anaconda3/lib/python3.9/site-packages/imdb/__init__.py:844: unknown information set \"genres\"\n"
     ]
    },
    {
     "name": "stdout",
     "output_type": "stream",
     "text": [
      "Sister Mary's Angel:\n",
      "Genres: ['Comedy', 'Drama', 'Romance']\n"
     ]
    },
    {
     "name": "stderr",
     "output_type": "stream",
     "text": [
      "2023-12-27 10:19:06,887 ERROR [imdbpy] /Users/mac/opt/anaconda3/lib/python3.9/site-packages/imdb/__init__.py:844: unknown information set \"genres\"\n"
     ]
    },
    {
     "name": "stdout",
     "output_type": "stream",
     "text": [
      "The Tiger:\n",
      "Genres: ['Action', 'Adventure', 'Thriller']\n"
     ]
    },
    {
     "name": "stderr",
     "output_type": "stream",
     "text": [
      "2023-12-27 10:19:21,717 ERROR [imdbpy] /Users/mac/opt/anaconda3/lib/python3.9/site-packages/imdb/__init__.py:844: unknown information set \"genres\"\n"
     ]
    },
    {
     "name": "stdout",
     "output_type": "stream",
     "text": [
      "Daddy's Home:\n",
      "Genres: ['Comedy']\n"
     ]
    },
    {
     "name": "stderr",
     "output_type": "stream",
     "text": [
      "2023-12-27 10:19:33,965 ERROR [imdbpy] /Users/mac/opt/anaconda3/lib/python3.9/site-packages/imdb/__init__.py:844: unknown information set \"genres\"\n"
     ]
    },
    {
     "name": "stdout",
     "output_type": "stream",
     "text": [
      "God's Petting You:\n",
      "Genres: ['Comedy', 'Crime']\n"
     ]
    },
    {
     "name": "stderr",
     "output_type": "stream",
     "text": [
      "2023-12-27 10:19:50,419 ERROR [imdbpy] /Users/mac/opt/anaconda3/lib/python3.9/site-packages/imdb/__init__.py:844: unknown information set \"genres\"\n"
     ]
    },
    {
     "name": "stdout",
     "output_type": "stream",
     "text": [
      "The Hunger Games: Mockingjay - Part 1:\n",
      "Genres: ['Action', 'Adventure', 'Sci-Fi', 'Thriller']\n"
     ]
    },
    {
     "name": "stderr",
     "output_type": "stream",
     "text": [
      "2023-12-27 10:19:59,751 ERROR [imdbpy] /Users/mac/opt/anaconda3/lib/python3.9/site-packages/imdb/__init__.py:844: unknown information set \"genres\"\n"
     ]
    },
    {
     "name": "stdout",
     "output_type": "stream",
     "text": [
      "Megan Leavey:\n",
      "Genres: ['Action', 'Biography', 'Drama', 'History', 'War']\n"
     ]
    },
    {
     "name": "stderr",
     "output_type": "stream",
     "text": [
      "2023-12-27 10:20:12,689 ERROR [imdbpy] /Users/mac/opt/anaconda3/lib/python3.9/site-packages/imdb/__init__.py:844: unknown information set \"genres\"\n"
     ]
    },
    {
     "name": "stdout",
     "output_type": "stream",
     "text": [
      "The To Do List:\n",
      "Genres: ['Comedy', 'Romance']\n"
     ]
    },
    {
     "name": "stderr",
     "output_type": "stream",
     "text": [
      "2023-12-27 10:20:26,463 ERROR [imdbpy] /Users/mac/opt/anaconda3/lib/python3.9/site-packages/imdb/__init__.py:844: unknown information set \"genres\"\n"
     ]
    },
    {
     "name": "stdout",
     "output_type": "stream",
     "text": [
      "A Bad Moms Christmas:\n",
      "Genres: ['Comedy']\n"
     ]
    },
    {
     "name": "stderr",
     "output_type": "stream",
     "text": [
      "2023-12-27 10:20:34,427 ERROR [imdbpy] /Users/mac/opt/anaconda3/lib/python3.9/site-packages/imdb/__init__.py:844: unknown information set \"genres\"\n"
     ]
    },
    {
     "name": "stdout",
     "output_type": "stream",
     "text": [
      "Pamasahe:\n",
      "Genres: ['Drama']\n"
     ]
    },
    {
     "name": "stderr",
     "output_type": "stream",
     "text": [
      "2023-12-27 10:20:42,807 ERROR [imdbpy] /Users/mac/opt/anaconda3/lib/python3.9/site-packages/imdb/__init__.py:844: unknown information set \"genres\"\n"
     ]
    },
    {
     "name": "stdout",
     "output_type": "stream",
     "text": [
      "Love the Coopers:\n",
      "Genres: ['Comedy', 'Fantasy', 'Romance']\n"
     ]
    },
    {
     "name": "stderr",
     "output_type": "stream",
     "text": [
      "2023-12-27 10:20:53,224 ERROR [imdbpy] /Users/mac/opt/anaconda3/lib/python3.9/site-packages/imdb/__init__.py:844: unknown information set \"genres\"\n"
     ]
    },
    {
     "name": "stdout",
     "output_type": "stream",
     "text": [
      "Spiral:\n",
      "Genres: ['Crime', 'Horror', 'Mystery', 'Thriller']\n"
     ]
    },
    {
     "name": "stderr",
     "output_type": "stream",
     "text": [
      "2023-12-27 10:21:00,467 ERROR [imdbpy] /Users/mac/opt/anaconda3/lib/python3.9/site-packages/imdb/__init__.py:844: unknown information set \"genres\"\n"
     ]
    },
    {
     "name": "stdout",
     "output_type": "stream",
     "text": [
      "The Long Night:\n",
      "Genres: ['Horror']\n"
     ]
    },
    {
     "name": "stderr",
     "output_type": "stream",
     "text": [
      "2023-12-27 10:21:08,735 ERROR [imdbpy] /Users/mac/opt/anaconda3/lib/python3.9/site-packages/imdb/__init__.py:844: unknown information set \"genres\"\n"
     ]
    },
    {
     "name": "stdout",
     "output_type": "stream",
     "text": [
      "Deadly Weekend:\n",
      "Genres: ['Horror', 'Thriller']\n"
     ]
    },
    {
     "name": "stderr",
     "output_type": "stream",
     "text": [
      "2023-12-27 10:21:20,843 ERROR [imdbpy] /Users/mac/opt/anaconda3/lib/python3.9/site-packages/imdb/__init__.py:844: unknown information set \"genres\"\n"
     ]
    },
    {
     "name": "stdout",
     "output_type": "stream",
     "text": [
      "Ghostbusters:\n",
      "Genres: ['Action', 'Comedy', 'Fantasy', 'Sci-Fi']\n"
     ]
    },
    {
     "name": "stderr",
     "output_type": "stream",
     "text": [
      "2023-12-27 10:21:32,682 ERROR [imdbpy] /Users/mac/opt/anaconda3/lib/python3.9/site-packages/imdb/__init__.py:844: unknown information set \"genres\"\n"
     ]
    },
    {
     "name": "stdout",
     "output_type": "stream",
     "text": [
      "How to Be Single:\n",
      "Genres: ['Comedy', 'Drama', 'Romance']\n"
     ]
    },
    {
     "name": "stderr",
     "output_type": "stream",
     "text": [
      "2023-12-27 10:21:42,244 ERROR [imdbpy] /Users/mac/opt/anaconda3/lib/python3.9/site-packages/imdb/__init__.py:844: unknown information set \"genres\"\n"
     ]
    },
    {
     "name": "stdout",
     "output_type": "stream",
     "text": [
      "Horns:\n",
      "Genres: ['Comedy', 'Fantasy', 'Horror', 'Mystery', 'Thriller']\n"
     ]
    },
    {
     "name": "stderr",
     "output_type": "stream",
     "text": [
      "2023-12-27 10:21:48,953 ERROR [imdbpy] /Users/mac/opt/anaconda3/lib/python3.9/site-packages/imdb/__init__.py:844: unknown information set \"genres\"\n"
     ]
    },
    {
     "name": "stdout",
     "output_type": "stream",
     "text": [
      "The Man Who Saved the World:\n",
      "Genres: ['Documentary', 'Biography', 'Drama', 'History', 'War']\n"
     ]
    },
    {
     "name": "stderr",
     "output_type": "stream",
     "text": [
      "2023-12-27 10:22:03,150 ERROR [imdbpy] /Users/mac/opt/anaconda3/lib/python3.9/site-packages/imdb/__init__.py:844: unknown information set \"genres\"\n"
     ]
    },
    {
     "name": "stdout",
     "output_type": "stream",
     "text": [
      "Passengers:\n",
      "Genres: ['Drama', 'Romance', 'Sci-Fi', 'Thriller']\n"
     ]
    },
    {
     "name": "stderr",
     "output_type": "stream",
     "text": [
      "2023-12-27 10:22:14,180 ERROR [imdbpy] /Users/mac/opt/anaconda3/lib/python3.9/site-packages/imdb/__init__.py:844: unknown information set \"genres\"\n"
     ]
    },
    {
     "name": "stdout",
     "output_type": "stream",
     "text": [
      "Sex Tape:\n",
      "Genres: ['Comedy', 'Romance']\n"
     ]
    },
    {
     "name": "stderr",
     "output_type": "stream",
     "text": [
      "2023-12-27 10:22:25,011 ERROR [imdbpy] /Users/mac/opt/anaconda3/lib/python3.9/site-packages/imdb/__init__.py:844: unknown information set \"genres\"\n"
     ]
    },
    {
     "name": "stdout",
     "output_type": "stream",
     "text": [
      "Mr. Jones:\n",
      "Genres: ['Biography', 'Drama', 'Thriller']\n"
     ]
    },
    {
     "name": "stderr",
     "output_type": "stream",
     "text": [
      "2023-12-27 10:22:33,055 ERROR [imdbpy] /Users/mac/opt/anaconda3/lib/python3.9/site-packages/imdb/__init__.py:844: unknown information set \"genres\"\n"
     ]
    },
    {
     "name": "stdout",
     "output_type": "stream",
     "text": [
      "My Salinger Year:\n",
      "Genres: ['Drama']\n"
     ]
    },
    {
     "name": "stderr",
     "output_type": "stream",
     "text": [
      "2023-12-27 10:22:42,351 ERROR [imdbpy] /Users/mac/opt/anaconda3/lib/python3.9/site-packages/imdb/__init__.py:844: unknown information set \"genres\"\n"
     ]
    },
    {
     "name": "stdout",
     "output_type": "stream",
     "text": [
      "Centigrade:\n",
      "Genres: ['Drama', 'Thriller']\n"
     ]
    },
    {
     "name": "stderr",
     "output_type": "stream",
     "text": [
      "2023-12-27 10:22:56,608 ERROR [imdbpy] /Users/mac/opt/anaconda3/lib/python3.9/site-packages/imdb/__init__.py:844: unknown information set \"genres\"\n"
     ]
    },
    {
     "name": "stdout",
     "output_type": "stream",
     "text": [
      "Into the Storm:\n",
      "Genres: ['Action', 'Adventure', 'Drama', 'Thriller']\n"
     ]
    },
    {
     "name": "stderr",
     "output_type": "stream",
     "text": [
      "2023-12-27 10:23:05,532 ERROR [imdbpy] /Users/mac/opt/anaconda3/lib/python3.9/site-packages/imdb/__init__.py:844: unknown information set \"genres\"\n"
     ]
    },
    {
     "name": "stdout",
     "output_type": "stream",
     "text": [
      "The Voices:\n",
      "Genres: ['Comedy', 'Crime', 'Horror', 'Thriller']\n"
     ]
    },
    {
     "name": "stderr",
     "output_type": "stream",
     "text": [
      "2023-12-27 10:23:14,085 ERROR [imdbpy] /Users/mac/opt/anaconda3/lib/python3.9/site-packages/imdb/__init__.py:844: unknown information set \"genres\"\n"
     ]
    },
    {
     "name": "stdout",
     "output_type": "stream",
     "text": [
      "Tahan:\n",
      "Genres: ['Drama', 'Thriller']\n"
     ]
    },
    {
     "name": "stderr",
     "output_type": "stream",
     "text": [
      "2023-12-27 10:23:21,055 ERROR [imdbpy] /Users/mac/opt/anaconda3/lib/python3.9/site-packages/imdb/__init__.py:844: unknown information set \"genres\"\n"
     ]
    },
    {
     "name": "stdout",
     "output_type": "stream",
     "text": [
      "Val (Feature):\n",
      "Genres: ['Action', 'Drama', 'History', 'Horror', 'Mystery', 'Thriller']\n"
     ]
    },
    {
     "name": "stderr",
     "output_type": "stream",
     "text": [
      "2023-12-27 10:23:29,177 ERROR [imdbpy] /Users/mac/opt/anaconda3/lib/python3.9/site-packages/imdb/__init__.py:844: unknown information set \"genres\"\n"
     ]
    },
    {
     "name": "stdout",
     "output_type": "stream",
     "text": [
      "Franklin's Comedy Book:\n",
      "Genres: ['Documentary', 'Biography', 'Comedy', 'Drama']\n"
     ]
    },
    {
     "name": "stderr",
     "output_type": "stream",
     "text": [
      "2023-12-27 10:23:40,578 ERROR [imdbpy] /Users/mac/opt/anaconda3/lib/python3.9/site-packages/imdb/__init__.py:844: unknown information set \"genres\"\n"
     ]
    },
    {
     "name": "stdout",
     "output_type": "stream",
     "text": [
      "Vanquish:\n",
      "Genres: ['Action', 'Thriller']\n"
     ]
    },
    {
     "name": "stderr",
     "output_type": "stream",
     "text": [
      "2023-12-27 10:23:51,965 ERROR [imdbpy] /Users/mac/opt/anaconda3/lib/python3.9/site-packages/imdb/__init__.py:844: unknown information set \"genres\"\n"
     ]
    },
    {
     "name": "stdout",
     "output_type": "stream",
     "text": [
      "300: Rise of an Empire:\n",
      "Genres: ['Action', 'Drama', 'War']\n"
     ]
    },
    {
     "name": "stderr",
     "output_type": "stream",
     "text": [
      "2023-12-27 10:23:57,607 ERROR [imdbpy] /Users/mac/opt/anaconda3/lib/python3.9/site-packages/imdb/__init__.py:844: unknown information set \"genres\"\n"
     ]
    },
    {
     "name": "stdout",
     "output_type": "stream",
     "text": [
      "Misogynist:\n",
      "Genres: ['Drama', 'Thriller']\n"
     ]
    },
    {
     "name": "stderr",
     "output_type": "stream",
     "text": [
      "2023-12-27 10:24:06,579 ERROR [imdbpy] /Users/mac/opt/anaconda3/lib/python3.9/site-packages/imdb/__init__.py:844: unknown information set \"genres\"\n"
     ]
    },
    {
     "name": "stdout",
     "output_type": "stream",
     "text": [
      "Honeydew:\n",
      "Genres: ['Horror']\n"
     ]
    },
    {
     "name": "stderr",
     "output_type": "stream",
     "text": [
      "2023-12-27 10:24:16,577 ERROR [imdbpy] /Users/mac/opt/anaconda3/lib/python3.9/site-packages/imdb/__init__.py:844: unknown information set \"genres\"\n"
     ]
    },
    {
     "name": "stdout",
     "output_type": "stream",
     "text": [
      "Olympus Has Fallen:\n",
      "Genres: ['Action', 'Thriller']\n"
     ]
    },
    {
     "name": "stderr",
     "output_type": "stream",
     "text": [
      "2023-12-27 10:24:29,012 ERROR [imdbpy] /Users/mac/opt/anaconda3/lib/python3.9/site-packages/imdb/__init__.py:844: unknown information set \"genres\"\n"
     ]
    },
    {
     "name": "stdout",
     "output_type": "stream",
     "text": [
      "Hungry Hearts:\n",
      "Genres: ['Drama', 'Romance', 'Thriller']\n"
     ]
    },
    {
     "name": "stderr",
     "output_type": "stream",
     "text": [
      "2023-12-27 10:24:39,443 ERROR [imdbpy] /Users/mac/opt/anaconda3/lib/python3.9/site-packages/imdb/__init__.py:844: unknown information set \"genres\"\n"
     ]
    },
    {
     "name": "stdout",
     "output_type": "stream",
     "text": [
      "Joe:\n",
      "Genres: ['Drama', 'Western']\n"
     ]
    },
    {
     "name": "stderr",
     "output_type": "stream",
     "text": [
      "2023-12-27 10:24:54,909 ERROR [imdbpy] /Users/mac/opt/anaconda3/lib/python3.9/site-packages/imdb/__init__.py:844: unknown information set \"genres\"\n"
     ]
    },
    {
     "name": "stdout",
     "output_type": "stream",
     "text": [
      "Lorelei:\n",
      "Genres: ['Drama']\n"
     ]
    },
    {
     "name": "stderr",
     "output_type": "stream",
     "text": [
      "2023-12-27 10:25:06,607 ERROR [imdbpy] /Users/mac/opt/anaconda3/lib/python3.9/site-packages/imdb/__init__.py:844: unknown information set \"genres\"\n"
     ]
    },
    {
     "name": "stdout",
     "output_type": "stream",
     "text": [
      "Hunt for the Wilderpeople:\n",
      "Genres: ['Adventure', 'Comedy', 'Drama']\n"
     ]
    },
    {
     "name": "stderr",
     "output_type": "stream",
     "text": [
      "2023-12-27 10:25:13,250 ERROR [imdbpy] /Users/mac/opt/anaconda3/lib/python3.9/site-packages/imdb/__init__.py:844: unknown information set \"genres\"\n"
     ]
    },
    {
     "name": "stdout",
     "output_type": "stream",
     "text": [
      "Project Wolf Hunting:\n",
      "Genres: ['Action', 'Crime', 'Horror', 'Sci-Fi']\n"
     ]
    },
    {
     "name": "stderr",
     "output_type": "stream",
     "text": [
      "2023-12-27 10:25:21,614 ERROR [imdbpy] /Users/mac/opt/anaconda3/lib/python3.9/site-packages/imdb/__init__.py:844: unknown information set \"genres\"\n"
     ]
    },
    {
     "name": "stdout",
     "output_type": "stream",
     "text": [
      "Carmen & Lola:\n",
      "Genres: ['Drama', 'Romance']\n"
     ]
    },
    {
     "name": "stderr",
     "output_type": "stream",
     "text": [
      "2023-12-27 10:25:56,756 CRITICAL [imdbpy] /Users/mac/opt/anaconda3/lib/python3.9/site-packages/imdb/_exceptions.py:32: IMDbDataAccessError exception raised; args: ({'errcode': None, 'errmsg': 'None', 'url': 'https://www.imdb.com/find/?q=Lucky+Bastard&s=tt', 'proxy': '', 'exception type': 'IOError', 'original exception': timeout('The read operation timed out')},); kwds: {}\n",
      "Traceback (most recent call last):\n",
      "  File \"/Users/mac/opt/anaconda3/lib/python3.9/site-packages/imdb/parser/http/__init__.py\", line 234, in retrieve_unicode\n",
      "    content = response.read()\n",
      "  File \"/Users/mac/opt/anaconda3/lib/python3.9/http/client.py\", line 469, in read\n",
      "    return self._readall_chunked()\n",
      "  File \"/Users/mac/opt/anaconda3/lib/python3.9/http/client.py\", line 576, in _readall_chunked\n",
      "    chunk_left = self._get_chunk_left()\n",
      "  File \"/Users/mac/opt/anaconda3/lib/python3.9/http/client.py\", line 559, in _get_chunk_left\n",
      "    chunk_left = self._read_next_chunk_size()\n",
      "  File \"/Users/mac/opt/anaconda3/lib/python3.9/http/client.py\", line 519, in _read_next_chunk_size\n",
      "    line = self.fp.readline(_MAXLINE + 1)\n",
      "  File \"/Users/mac/opt/anaconda3/lib/python3.9/socket.py\", line 704, in readinto\n",
      "    return self._sock.recv_into(b)\n",
      "  File \"/Users/mac/opt/anaconda3/lib/python3.9/ssl.py\", line 1241, in recv_into\n",
      "    return self.read(nbytes, buffer)\n",
      "  File \"/Users/mac/opt/anaconda3/lib/python3.9/ssl.py\", line 1099, in read\n",
      "    return self._sslobj.read(len, buffer)\n",
      "socket.timeout: The read operation timed out\n"
     ]
    },
    {
     "name": "stdout",
     "output_type": "stream",
     "text": [
      "Error: {'errcode': None, 'errmsg': 'None', 'url': 'https://www.imdb.com/find/?q=Lucky+Bastard&s=tt', 'proxy': '', 'exception type': 'IOError', 'original exception': timeout('The read operation timed out')}\n"
     ]
    },
    {
     "name": "stderr",
     "output_type": "stream",
     "text": [
      "2023-12-27 10:26:09,928 ERROR [imdbpy] /Users/mac/opt/anaconda3/lib/python3.9/site-packages/imdb/__init__.py:844: unknown information set \"genres\"\n"
     ]
    },
    {
     "name": "stdout",
     "output_type": "stream",
     "text": [
      "Lucky Bastard:\n",
      "Genres: ['Crime', 'Drama', 'Thriller']\n"
     ]
    },
    {
     "name": "stderr",
     "output_type": "stream",
     "text": [
      "2023-12-27 10:26:20,833 ERROR [imdbpy] /Users/mac/opt/anaconda3/lib/python3.9/site-packages/imdb/__init__.py:844: unknown information set \"genres\"\n"
     ]
    },
    {
     "name": "stdout",
     "output_type": "stream",
     "text": [
      "Episodes from Apocalypse:\n",
      "Genres: ['Action', 'Drama', 'Sci-Fi']\n"
     ]
    },
    {
     "name": "stderr",
     "output_type": "stream",
     "text": [
      "2023-12-27 10:26:27,395 ERROR [imdbpy] /Users/mac/opt/anaconda3/lib/python3.9/site-packages/imdb/__init__.py:844: unknown information set \"genres\"\n"
     ]
    },
    {
     "name": "stdout",
     "output_type": "stream",
     "text": [
      "The Quiet Ones:\n",
      "Genres: ['Horror', 'Mystery', 'Thriller']\n"
     ]
    },
    {
     "name": "stderr",
     "output_type": "stream",
     "text": [
      "2023-12-27 10:26:36,208 ERROR [imdbpy] /Users/mac/opt/anaconda3/lib/python3.9/site-packages/imdb/__init__.py:844: unknown information set \"genres\"\n"
     ]
    },
    {
     "name": "stdout",
     "output_type": "stream",
     "text": [
      "Bae Wolf:\n",
      "Genres: ['Comedy', 'Fantasy', 'Horror']\n"
     ]
    },
    {
     "name": "stderr",
     "output_type": "stream",
     "text": [
      "2023-12-27 10:26:54,484 ERROR [imdbpy] /Users/mac/opt/anaconda3/lib/python3.9/site-packages/imdb/__init__.py:844: unknown information set \"genres\"\n"
     ]
    },
    {
     "name": "stdout",
     "output_type": "stream",
     "text": [
      "In the Heart of the Sea:\n",
      "Genres: ['Action', 'Adventure', 'Biography', 'Drama', 'History']\n"
     ]
    },
    {
     "name": "stderr",
     "output_type": "stream",
     "text": [
      "2023-12-27 10:27:20,336 ERROR [imdbpy] /Users/mac/opt/anaconda3/lib/python3.9/site-packages/imdb/__init__.py:844: unknown information set \"genres\"\n"
     ]
    },
    {
     "name": "stdout",
     "output_type": "stream",
     "text": [
      "Life:\n",
      "Genres: ['Drama', 'Romance']\n"
     ]
    },
    {
     "name": "stderr",
     "output_type": "stream",
     "text": [
      "2023-12-27 10:27:47,274 ERROR [imdbpy] /Users/mac/opt/anaconda3/lib/python3.9/site-packages/imdb/__init__.py:844: unknown information set \"genres\"\n"
     ]
    },
    {
     "name": "stdout",
     "output_type": "stream",
     "text": [
      "Melody on Earth:\n",
      "Genres: ['Comedy', 'Drama', 'Sci-Fi']\n"
     ]
    },
    {
     "name": "stderr",
     "output_type": "stream",
     "text": [
      "2023-12-27 10:28:08,264 ERROR [imdbpy] /Users/mac/opt/anaconda3/lib/python3.9/site-packages/imdb/__init__.py:844: unknown information set \"genres\"\n"
     ]
    },
    {
     "name": "stdout",
     "output_type": "stream",
     "text": [
      "The Champions:\n",
      "Genres: ['Adventure', 'Sci-Fi', 'Thriller']\n"
     ]
    },
    {
     "name": "stderr",
     "output_type": "stream",
     "text": [
      "2023-12-27 10:28:23,573 ERROR [imdbpy] /Users/mac/opt/anaconda3/lib/python3.9/site-packages/imdb/__init__.py:844: unknown information set \"genres\"\n"
     ]
    },
    {
     "name": "stdout",
     "output_type": "stream",
     "text": [
      "Project Gemini:\n",
      "Genres: ['Adventure', 'Sci-Fi', 'Thriller']\n"
     ]
    },
    {
     "name": "stderr",
     "output_type": "stream",
     "text": [
      "2023-12-27 10:28:50,242 ERROR [imdbpy] /Users/mac/opt/anaconda3/lib/python3.9/site-packages/imdb/__init__.py:844: unknown information set \"genres\"\n"
     ]
    },
    {
     "name": "stdout",
     "output_type": "stream",
     "text": [
      "It’s Quieter in the Twilight:\n",
      "Genres: ['Documentary']\n"
     ]
    },
    {
     "name": "stderr",
     "output_type": "stream",
     "text": [
      "2023-12-27 10:29:04,072 ERROR [imdbpy] /Users/mac/opt/anaconda3/lib/python3.9/site-packages/imdb/__init__.py:844: unknown information set \"genres\"\n"
     ]
    },
    {
     "name": "stdout",
     "output_type": "stream",
     "text": [
      "24 Hours to Live:\n",
      "Genres: ['Action', 'Sci-Fi', 'Thriller']\n"
     ]
    },
    {
     "name": "stderr",
     "output_type": "stream",
     "text": [
      "2023-12-27 10:29:23,361 ERROR [imdbpy] /Users/mac/opt/anaconda3/lib/python3.9/site-packages/imdb/__init__.py:844: unknown information set \"genres\"\n"
     ]
    },
    {
     "name": "stdout",
     "output_type": "stream",
     "text": [
      "American Assassin:\n",
      "Genres: ['Action', 'Thriller']\n"
     ]
    },
    {
     "name": "stderr",
     "output_type": "stream",
     "text": [
      "2023-12-27 10:29:38,486 ERROR [imdbpy] /Users/mac/opt/anaconda3/lib/python3.9/site-packages/imdb/__init__.py:844: unknown information set \"genres\"\n"
     ]
    },
    {
     "name": "stdout",
     "output_type": "stream",
     "text": [
      "After Earth:\n",
      "Genres: ['Action', 'Adventure', 'Sci-Fi']\n"
     ]
    },
    {
     "name": "stderr",
     "output_type": "stream",
     "text": [
      "2023-12-27 10:29:52,107 ERROR [imdbpy] /Users/mac/opt/anaconda3/lib/python3.9/site-packages/imdb/__init__.py:844: unknown information set \"genres\"\n"
     ]
    },
    {
     "name": "stdout",
     "output_type": "stream",
     "text": [
      "Ode to Joy:\n",
      "Genres: ['Comedy', 'Romance']\n"
     ]
    },
    {
     "name": "stderr",
     "output_type": "stream",
     "text": [
      "2023-12-27 10:30:37,243 ERROR [imdbpy] /Users/mac/opt/anaconda3/lib/python3.9/site-packages/imdb/__init__.py:844: unknown information set \"genres\"\n"
     ]
    },
    {
     "name": "stdout",
     "output_type": "stream",
     "text": [
      "Coma:\n",
      "Genres: ['Drama', 'Mystery', 'Thriller']\n"
     ]
    },
    {
     "name": "stderr",
     "output_type": "stream",
     "text": [
      "2023-12-27 10:30:45,898 ERROR [imdbpy] /Users/mac/opt/anaconda3/lib/python3.9/site-packages/imdb/__init__.py:844: unknown information set \"genres\"\n"
     ]
    },
    {
     "name": "stdout",
     "output_type": "stream",
     "text": [
      "11th Hour Cleaning:\n",
      "Genres: ['Horror']\n"
     ]
    },
    {
     "name": "stderr",
     "output_type": "stream",
     "text": [
      "2023-12-27 10:31:09,001 ERROR [imdbpy] /Users/mac/opt/anaconda3/lib/python3.9/site-packages/imdb/__init__.py:844: unknown information set \"genres\"\n"
     ]
    },
    {
     "name": "stdout",
     "output_type": "stream",
     "text": [
      "Body Brokers:\n",
      "Genres: ['Drama', 'Thriller']\n"
     ]
    },
    {
     "name": "stderr",
     "output_type": "stream",
     "text": [
      "2023-12-27 10:31:39,998 ERROR [imdbpy] /Users/mac/opt/anaconda3/lib/python3.9/site-packages/imdb/__init__.py:844: unknown information set \"genres\"\n"
     ]
    },
    {
     "name": "stdout",
     "output_type": "stream",
     "text": [
      "Rules Don't Apply:\n",
      "Genres: ['Comedy', 'Drama', 'Romance']\n"
     ]
    },
    {
     "name": "stderr",
     "output_type": "stream",
     "text": [
      "2023-12-27 10:31:57,009 ERROR [imdbpy] /Users/mac/opt/anaconda3/lib/python3.9/site-packages/imdb/__init__.py:844: unknown information set \"genres\"\n"
     ]
    },
    {
     "name": "stdout",
     "output_type": "stream",
     "text": [
      "The Bromley Boys:\n",
      "Genres: ['Comedy']\n"
     ]
    },
    {
     "name": "stderr",
     "output_type": "stream",
     "text": [
      "2023-12-27 10:32:12,747 ERROR [imdbpy] /Users/mac/opt/anaconda3/lib/python3.9/site-packages/imdb/__init__.py:844: unknown information set \"genres\"\n"
     ]
    },
    {
     "name": "stdout",
     "output_type": "stream",
     "text": [
      "Triangle of Sadness:\n",
      "Genres: ['Comedy', 'Drama']\n"
     ]
    },
    {
     "name": "stderr",
     "output_type": "stream",
     "text": [
      "2023-12-27 10:32:24,833 ERROR [imdbpy] /Users/mac/opt/anaconda3/lib/python3.9/site-packages/imdb/__init__.py:844: unknown information set \"genres\"\n"
     ]
    },
    {
     "name": "stdout",
     "output_type": "stream",
     "text": [
      "God of Thunder:\n",
      "Genres: ['Action', 'Fantasy']\n"
     ]
    },
    {
     "name": "stderr",
     "output_type": "stream",
     "text": [
      "2023-12-27 10:32:52,745 ERROR [imdbpy] /Users/mac/opt/anaconda3/lib/python3.9/site-packages/imdb/__init__.py:844: unknown information set \"genres\"\n"
     ]
    },
    {
     "name": "stdout",
     "output_type": "stream",
     "text": [
      "Beyond Beyond:\n",
      "Genres: ['Animation', 'Adventure', 'Drama', 'Fantasy']\n"
     ]
    },
    {
     "name": "stderr",
     "output_type": "stream",
     "text": [
      "2023-12-27 10:33:11,999 ERROR [imdbpy] /Users/mac/opt/anaconda3/lib/python3.9/site-packages/imdb/__init__.py:844: unknown information set \"genres\"\n"
     ]
    },
    {
     "name": "stdout",
     "output_type": "stream",
     "text": [
      "Like Dogs:\n",
      "Genres: ['Horror', 'Thriller']\n"
     ]
    },
    {
     "name": "stderr",
     "output_type": "stream",
     "text": [
      "2023-12-27 10:33:33,480 ERROR [imdbpy] /Users/mac/opt/anaconda3/lib/python3.9/site-packages/imdb/__init__.py:844: unknown information set \"genres\"\n"
     ]
    },
    {
     "name": "stdout",
     "output_type": "stream",
     "text": [
      "Killing Ground:\n",
      "Genres: ['Horror', 'Thriller']\n"
     ]
    },
    {
     "name": "stderr",
     "output_type": "stream",
     "text": [
      "2023-12-27 10:34:09,290 ERROR [imdbpy] /Users/mac/opt/anaconda3/lib/python3.9/site-packages/imdb/__init__.py:844: unknown information set \"genres\"\n"
     ]
    },
    {
     "name": "stdout",
     "output_type": "stream",
     "text": [
      "Lapsis:\n",
      "Genres: ['Drama', 'Mystery', 'Sci-Fi', 'Thriller']\n"
     ]
    },
    {
     "name": "stderr",
     "output_type": "stream",
     "text": [
      "2023-12-27 10:35:16,377 ERROR [imdbpy] /Users/mac/opt/anaconda3/lib/python3.9/site-packages/imdb/__init__.py:844: unknown information set \"genres\"\n"
     ]
    },
    {
     "name": "stdout",
     "output_type": "stream",
     "text": [
      "Jumanji: Welcome to the Jungle:\n",
      "Genres: ['Action', 'Adventure', 'Comedy', 'Fantasy']\n"
     ]
    },
    {
     "name": "stderr",
     "output_type": "stream",
     "text": [
      "2023-12-27 10:35:53,307 ERROR [imdbpy] /Users/mac/opt/anaconda3/lib/python3.9/site-packages/imdb/__init__.py:844: unknown information set \"genres\"\n"
     ]
    },
    {
     "name": "stdout",
     "output_type": "stream",
     "text": [
      "Come As You Are:\n",
      "Genres: ['Comedy', 'Drama']\n"
     ]
    },
    {
     "name": "stderr",
     "output_type": "stream",
     "text": [
      "2023-12-27 10:36:25,022 CRITICAL [imdbpy] /Users/mac/opt/anaconda3/lib/python3.9/site-packages/imdb/_exceptions.py:32: IMDbDataAccessError exception raised; args: ({'errcode': None, 'errmsg': 'None', 'url': 'https://www.imdb.com/find/?q=In+Search+of+the+Last+Action+Heroes&s=tt', 'proxy': '', 'exception type': 'IOError', 'original exception': timeout('The read operation timed out')},); kwds: {}\n",
      "Traceback (most recent call last):\n",
      "  File \"/Users/mac/opt/anaconda3/lib/python3.9/site-packages/imdb/parser/http/__init__.py\", line 234, in retrieve_unicode\n",
      "    content = response.read()\n",
      "  File \"/Users/mac/opt/anaconda3/lib/python3.9/http/client.py\", line 469, in read\n",
      "    return self._readall_chunked()\n",
      "  File \"/Users/mac/opt/anaconda3/lib/python3.9/http/client.py\", line 576, in _readall_chunked\n",
      "    chunk_left = self._get_chunk_left()\n",
      "  File \"/Users/mac/opt/anaconda3/lib/python3.9/http/client.py\", line 559, in _get_chunk_left\n",
      "    chunk_left = self._read_next_chunk_size()\n",
      "  File \"/Users/mac/opt/anaconda3/lib/python3.9/http/client.py\", line 519, in _read_next_chunk_size\n",
      "    line = self.fp.readline(_MAXLINE + 1)\n",
      "  File \"/Users/mac/opt/anaconda3/lib/python3.9/socket.py\", line 704, in readinto\n",
      "    return self._sock.recv_into(b)\n",
      "  File \"/Users/mac/opt/anaconda3/lib/python3.9/ssl.py\", line 1241, in recv_into\n",
      "    return self.read(nbytes, buffer)\n",
      "  File \"/Users/mac/opt/anaconda3/lib/python3.9/ssl.py\", line 1099, in read\n",
      "    return self._sslobj.read(len, buffer)\n",
      "socket.timeout: The read operation timed out\n"
     ]
    },
    {
     "name": "stdout",
     "output_type": "stream",
     "text": [
      "Error: {'errcode': None, 'errmsg': 'None', 'url': 'https://www.imdb.com/find/?q=In+Search+of+the+Last+Action+Heroes&s=tt', 'proxy': '', 'exception type': 'IOError', 'original exception': timeout('The read operation timed out')}\n"
     ]
    },
    {
     "name": "stderr",
     "output_type": "stream",
     "text": [
      "2023-12-27 10:36:44,561 ERROR [imdbpy] /Users/mac/opt/anaconda3/lib/python3.9/site-packages/imdb/__init__.py:844: unknown information set \"genres\"\n"
     ]
    },
    {
     "name": "stdout",
     "output_type": "stream",
     "text": [
      "In Search of the Last Action Heroes:\n",
      "Genres: ['Documentary']\n"
     ]
    },
    {
     "name": "stderr",
     "output_type": "stream",
     "text": [
      "2023-12-27 10:37:02,318 ERROR [imdbpy] /Users/mac/opt/anaconda3/lib/python3.9/site-packages/imdb/__init__.py:844: unknown information set \"genres\"\n"
     ]
    },
    {
     "name": "stdout",
     "output_type": "stream",
     "text": [
      "Kidnapped to the Island:\n",
      "Genres: ['Crime', 'Drama', 'Thriller']\n"
     ]
    },
    {
     "name": "stderr",
     "output_type": "stream",
     "text": [
      "2023-12-27 10:37:23,021 ERROR [imdbpy] /Users/mac/opt/anaconda3/lib/python3.9/site-packages/imdb/__init__.py:844: unknown information set \"genres\"\n"
     ]
    },
    {
     "name": "stdout",
     "output_type": "stream",
     "text": [
      "The Wedding Guest:\n",
      "Genres: ['Thriller']\n"
     ]
    },
    {
     "name": "stderr",
     "output_type": "stream",
     "text": [
      "2023-12-27 10:37:50,003 ERROR [imdbpy] /Users/mac/opt/anaconda3/lib/python3.9/site-packages/imdb/__init__.py:844: unknown information set \"genres\"\n"
     ]
    },
    {
     "name": "stdout",
     "output_type": "stream",
     "text": [
      "Operation Avalanche:\n",
      "Genres: ['Comedy', 'Drama', 'Mystery']\n"
     ]
    },
    {
     "name": "stderr",
     "output_type": "stream",
     "text": [
      "2023-12-27 10:38:50,244 CRITICAL [imdbpy] /Users/mac/opt/anaconda3/lib/python3.9/site-packages/imdb/_exceptions.py:32: IMDbDataAccessError exception raised; args: ({'errcode': None, 'errmsg': 'None', 'url': 'https://www.imdb.com/title/tt1448754/reference', 'proxy': '', 'exception type': 'IOError', 'original exception': timeout('The read operation timed out')},); kwds: {}\n",
      "Traceback (most recent call last):\n",
      "  File \"/Users/mac/opt/anaconda3/lib/python3.9/site-packages/imdb/parser/http/__init__.py\", line 234, in retrieve_unicode\n",
      "    content = response.read()\n",
      "  File \"/Users/mac/opt/anaconda3/lib/python3.9/http/client.py\", line 469, in read\n",
      "    return self._readall_chunked()\n",
      "  File \"/Users/mac/opt/anaconda3/lib/python3.9/http/client.py\", line 576, in _readall_chunked\n",
      "    chunk_left = self._get_chunk_left()\n",
      "  File \"/Users/mac/opt/anaconda3/lib/python3.9/http/client.py\", line 559, in _get_chunk_left\n",
      "    chunk_left = self._read_next_chunk_size()\n",
      "  File \"/Users/mac/opt/anaconda3/lib/python3.9/http/client.py\", line 519, in _read_next_chunk_size\n",
      "    line = self.fp.readline(_MAXLINE + 1)\n",
      "  File \"/Users/mac/opt/anaconda3/lib/python3.9/socket.py\", line 704, in readinto\n",
      "    return self._sock.recv_into(b)\n",
      "  File \"/Users/mac/opt/anaconda3/lib/python3.9/ssl.py\", line 1241, in recv_into\n",
      "    return self.read(nbytes, buffer)\n",
      "  File \"/Users/mac/opt/anaconda3/lib/python3.9/ssl.py\", line 1099, in read\n",
      "    return self._sslobj.read(len, buffer)\n",
      "socket.timeout: The read operation timed out\n",
      "2023-12-27 10:38:50,245 CRITICAL [imdbpy] /Users/mac/opt/anaconda3/lib/python3.9/site-packages/imdb/__init__.py:850: caught an exception retrieving or parsing \"main\" info set for mopID \"1448754\" (accessSystem: http)\n",
      "Traceback (most recent call last):\n",
      "  File \"/Users/mac/opt/anaconda3/lib/python3.9/site-packages/imdb/parser/http/__init__.py\", line 234, in retrieve_unicode\n",
      "    content = response.read()\n",
      "  File \"/Users/mac/opt/anaconda3/lib/python3.9/http/client.py\", line 469, in read\n",
      "    return self._readall_chunked()\n",
      "  File \"/Users/mac/opt/anaconda3/lib/python3.9/http/client.py\", line 576, in _readall_chunked\n",
      "    chunk_left = self._get_chunk_left()\n",
      "  File \"/Users/mac/opt/anaconda3/lib/python3.9/http/client.py\", line 559, in _get_chunk_left\n",
      "    chunk_left = self._read_next_chunk_size()\n",
      "  File \"/Users/mac/opt/anaconda3/lib/python3.9/http/client.py\", line 519, in _read_next_chunk_size\n",
      "    line = self.fp.readline(_MAXLINE + 1)\n",
      "  File \"/Users/mac/opt/anaconda3/lib/python3.9/socket.py\", line 704, in readinto\n",
      "    return self._sock.recv_into(b)\n",
      "  File \"/Users/mac/opt/anaconda3/lib/python3.9/ssl.py\", line 1241, in recv_into\n",
      "    return self.read(nbytes, buffer)\n",
      "  File \"/Users/mac/opt/anaconda3/lib/python3.9/ssl.py\", line 1099, in read\n",
      "    return self._sslobj.read(len, buffer)\n",
      "socket.timeout: The read operation timed out\n",
      "\n",
      "During handling of the above exception, another exception occurred:\n",
      "\n",
      "Traceback (most recent call last):\n",
      "  File \"/Users/mac/opt/anaconda3/lib/python3.9/site-packages/imdb/__init__.py\", line 848, in update\n",
      "    ret = method(mopID)\n",
      "  File \"/Users/mac/opt/anaconda3/lib/python3.9/site-packages/imdb/parser/http/__init__.py\", line 481, in get_movie_main\n",
      "    cont = self._retrieve(self.urls['movie_main'] % movieID + 'reference')\n",
      "  File \"/Users/mac/opt/anaconda3/lib/python3.9/site-packages/imdb/parser/http/__init__.py\", line 392, in _retrieve\n",
      "    ret = self.urlOpener.retrieve_unicode(url, size=size)\n",
      "  File \"/Users/mac/opt/anaconda3/lib/python3.9/site-packages/imdb/parser/http/__init__.py\", line 261, in retrieve_unicode\n",
      "    raise IMDbDataAccessError(\n",
      "imdb._exceptions.IMDbDataAccessError: {'errcode': None, 'errmsg': 'None', 'url': 'https://www.imdb.com/title/tt1448754/reference', 'proxy': '', 'exception type': 'IOError', 'original exception': timeout('The read operation timed out')}\n"
     ]
    },
    {
     "name": "stdout",
     "output_type": "stream",
     "text": [
      "Error: {'errcode': None, 'errmsg': 'None', 'url': 'https://www.imdb.com/title/tt1448754/reference', 'proxy': '', 'exception type': 'IOError', 'original exception': timeout('The read operation timed out')}\n"
     ]
    },
    {
     "name": "stderr",
     "output_type": "stream",
     "text": [
      "2023-12-27 10:39:27,276 CRITICAL [imdbpy] /Users/mac/opt/anaconda3/lib/python3.9/site-packages/imdb/_exceptions.py:32: IMDbDataAccessError exception raised; args: ({'errcode': None, 'errmsg': 'None', 'url': 'https://www.imdb.com/find/?q=Black+Friday&s=tt', 'proxy': '', 'exception type': 'IOError', 'original exception': timeout('The read operation timed out')},); kwds: {}\n",
      "Traceback (most recent call last):\n",
      "  File \"/Users/mac/opt/anaconda3/lib/python3.9/site-packages/imdb/parser/http/__init__.py\", line 234, in retrieve_unicode\n",
      "    content = response.read()\n",
      "  File \"/Users/mac/opt/anaconda3/lib/python3.9/http/client.py\", line 469, in read\n",
      "    return self._readall_chunked()\n",
      "  File \"/Users/mac/opt/anaconda3/lib/python3.9/http/client.py\", line 579, in _readall_chunked\n",
      "    value.append(self._safe_read(chunk_left))\n",
      "  File \"/Users/mac/opt/anaconda3/lib/python3.9/http/client.py\", line 625, in _safe_read\n",
      "    chunk = self.fp.read(min(amt, MAXAMOUNT))\n",
      "  File \"/Users/mac/opt/anaconda3/lib/python3.9/socket.py\", line 704, in readinto\n",
      "    return self._sock.recv_into(b)\n",
      "  File \"/Users/mac/opt/anaconda3/lib/python3.9/ssl.py\", line 1241, in recv_into\n",
      "    return self.read(nbytes, buffer)\n",
      "  File \"/Users/mac/opt/anaconda3/lib/python3.9/ssl.py\", line 1099, in read\n",
      "    return self._sslobj.read(len, buffer)\n",
      "socket.timeout: The read operation timed out\n"
     ]
    },
    {
     "name": "stdout",
     "output_type": "stream",
     "text": [
      "Error: {'errcode': None, 'errmsg': 'None', 'url': 'https://www.imdb.com/find/?q=Black+Friday&s=tt', 'proxy': '', 'exception type': 'IOError', 'original exception': timeout('The read operation timed out')}\n"
     ]
    },
    {
     "name": "stderr",
     "output_type": "stream",
     "text": [
      "2023-12-27 10:39:52,462 ERROR [imdbpy] /Users/mac/opt/anaconda3/lib/python3.9/site-packages/imdb/__init__.py:844: unknown information set \"genres\"\n"
     ]
    },
    {
     "name": "stdout",
     "output_type": "stream",
     "text": [
      "Black Friday:\n",
      "Genres: ['Horror', 'Mystery', 'Thriller']\n"
     ]
    },
    {
     "name": "stderr",
     "output_type": "stream",
     "text": [
      "2023-12-27 10:40:07,791 ERROR [imdbpy] /Users/mac/opt/anaconda3/lib/python3.9/site-packages/imdb/__init__.py:844: unknown information set \"genres\"\n"
     ]
    },
    {
     "name": "stdout",
     "output_type": "stream",
     "text": [
      "Tom Petty, Somewhere You Feel Free:\n",
      "Genres: ['Documentary']\n"
     ]
    },
    {
     "name": "stderr",
     "output_type": "stream",
     "text": [
      "2023-12-27 10:40:38,986 ERROR [imdbpy] /Users/mac/opt/anaconda3/lib/python3.9/site-packages/imdb/__init__.py:844: unknown information set \"genres\"\n"
     ]
    },
    {
     "name": "stdout",
     "output_type": "stream",
     "text": [
      "The House:\n",
      "Genres: ['Drama', 'Horror', 'Mystery']\n"
     ]
    },
    {
     "name": "stderr",
     "output_type": "stream",
     "text": [
      "2023-12-27 10:41:02,898 ERROR [imdbpy] /Users/mac/opt/anaconda3/lib/python3.9/site-packages/imdb/__init__.py:844: unknown information set \"genres\"\n"
     ]
    },
    {
     "name": "stdout",
     "output_type": "stream",
     "text": [
      "A Family Man:\n",
      "Genres: ['Drama']\n"
     ]
    },
    {
     "name": "stderr",
     "output_type": "stream",
     "text": [
      "2023-12-27 10:41:23,251 ERROR [imdbpy] /Users/mac/opt/anaconda3/lib/python3.9/site-packages/imdb/__init__.py:844: unknown information set \"genres\"\n"
     ]
    },
    {
     "name": "stdout",
     "output_type": "stream",
     "text": [
      "The Parachute Murder Plot:\n",
      "Genres: ['Documentary', 'Crime']\n"
     ]
    },
    {
     "name": "stderr",
     "output_type": "stream",
     "text": [
      "2023-12-27 10:41:37,246 ERROR [imdbpy] /Users/mac/opt/anaconda3/lib/python3.9/site-packages/imdb/__init__.py:844: unknown information set \"genres\"\n"
     ]
    },
    {
     "name": "stdout",
     "output_type": "stream",
     "text": [
      "I Spit on Your Grave III: Vengeance Is Mine:\n",
      "Genres: ['Horror', 'Thriller']\n"
     ]
    },
    {
     "name": "stderr",
     "output_type": "stream",
     "text": [
      "2023-12-27 10:42:12,751 ERROR [imdbpy] /Users/mac/opt/anaconda3/lib/python3.9/site-packages/imdb/__init__.py:844: unknown information set \"genres\"\n"
     ]
    },
    {
     "name": "stdout",
     "output_type": "stream",
     "text": [
      "Hail to the Deadites:\n",
      "Genres: ['Documentary']\n"
     ]
    },
    {
     "name": "stderr",
     "output_type": "stream",
     "text": [
      "2023-12-27 10:42:46,484 ERROR [imdbpy] /Users/mac/opt/anaconda3/lib/python3.9/site-packages/imdb/__init__.py:844: unknown information set \"genres\"\n"
     ]
    },
    {
     "name": "stdout",
     "output_type": "stream",
     "text": [
      "The Big Short:\n",
      "Genres: ['Biography', 'Comedy', 'Drama', 'History']\n"
     ]
    },
    {
     "name": "stderr",
     "output_type": "stream",
     "text": [
      "2023-12-27 10:43:11,498 ERROR [imdbpy] /Users/mac/opt/anaconda3/lib/python3.9/site-packages/imdb/__init__.py:844: unknown information set \"genres\"\n"
     ]
    },
    {
     "name": "stdout",
     "output_type": "stream",
     "text": [
      "Focus:\n",
      "Genres: ['Comedy', 'Crime', 'Drama', 'Romance']\n"
     ]
    },
    {
     "name": "stderr",
     "output_type": "stream",
     "text": [
      "2023-12-27 10:43:31,684 ERROR [imdbpy] /Users/mac/opt/anaconda3/lib/python3.9/site-packages/imdb/__init__.py:844: unknown information set \"genres\"\n"
     ]
    },
    {
     "name": "stdout",
     "output_type": "stream",
     "text": [
      "Fortress:\n",
      "Genres: ['Action', 'Thriller']\n"
     ]
    },
    {
     "name": "stderr",
     "output_type": "stream",
     "text": [
      "2023-12-27 10:43:48,275 ERROR [imdbpy] /Users/mac/opt/anaconda3/lib/python3.9/site-packages/imdb/__init__.py:844: unknown information set \"genres\"\n"
     ]
    },
    {
     "name": "stdout",
     "output_type": "stream",
     "text": [
      "Submission:\n",
      "Genres: ['Drama', 'Mystery', 'Romance']\n"
     ]
    },
    {
     "name": "stderr",
     "output_type": "stream",
     "text": [
      "2023-12-27 10:44:08,967 ERROR [imdbpy] /Users/mac/opt/anaconda3/lib/python3.9/site-packages/imdb/__init__.py:844: unknown information set \"genres\"\n"
     ]
    },
    {
     "name": "stdout",
     "output_type": "stream",
     "text": [
      "Bohemian Rhapsody:\n",
      "Genres: ['Biography', 'Drama', 'Music']\n"
     ]
    },
    {
     "name": "stderr",
     "output_type": "stream",
     "text": [
      "2023-12-27 10:44:22,743 ERROR [imdbpy] /Users/mac/opt/anaconda3/lib/python3.9/site-packages/imdb/__init__.py:844: unknown information set \"genres\"\n"
     ]
    },
    {
     "name": "stdout",
     "output_type": "stream",
     "text": [
      "Green Room:\n",
      "Genres: ['Crime', 'Drama', 'Horror', 'Music', 'Thriller']\n"
     ]
    },
    {
     "name": "stderr",
     "output_type": "stream",
     "text": [
      "2023-12-27 10:44:55,611 ERROR [imdbpy] /Users/mac/opt/anaconda3/lib/python3.9/site-packages/imdb/__init__.py:844: unknown information set \"genres\"\n"
     ]
    },
    {
     "name": "stdout",
     "output_type": "stream",
     "text": [
      "Pinocchio:\n",
      "Genres: ['Animation', 'Drama', 'Family', 'Fantasy', 'Musical']\n"
     ]
    },
    {
     "name": "stderr",
     "output_type": "stream",
     "text": [
      "2023-12-27 10:45:15,438 ERROR [imdbpy] /Users/mac/opt/anaconda3/lib/python3.9/site-packages/imdb/__init__.py:844: unknown information set \"genres\"\n"
     ]
    },
    {
     "name": "stdout",
     "output_type": "stream",
     "text": [
      "Get a Job:\n",
      "Genres: ['Comedy']\n"
     ]
    },
    {
     "name": "stderr",
     "output_type": "stream",
     "text": [
      "2023-12-27 10:45:24,773 ERROR [imdbpy] /Users/mac/opt/anaconda3/lib/python3.9/site-packages/imdb/__init__.py:844: unknown information set \"genres\"\n"
     ]
    },
    {
     "name": "stdout",
     "output_type": "stream",
     "text": [
      "A Perfect 14:\n",
      "Genres: ['Documentary']\n"
     ]
    },
    {
     "name": "stderr",
     "output_type": "stream",
     "text": [
      "2023-12-27 10:45:47,705 ERROR [imdbpy] /Users/mac/opt/anaconda3/lib/python3.9/site-packages/imdb/__init__.py:844: unknown information set \"genres\"\n"
     ]
    },
    {
     "name": "stdout",
     "output_type": "stream",
     "text": [
      "The Otherworld:\n",
      "Genres: ['Fantasy']\n"
     ]
    },
    {
     "name": "stderr",
     "output_type": "stream",
     "text": [
      "2023-12-27 10:46:16,334 ERROR [imdbpy] /Users/mac/opt/anaconda3/lib/python3.9/site-packages/imdb/__init__.py:844: unknown information set \"genres\"\n"
     ]
    },
    {
     "name": "stdout",
     "output_type": "stream",
     "text": [
      "Freeze:\n",
      "Genres: ['Comedy', 'Horror']\n"
     ]
    },
    {
     "name": "stderr",
     "output_type": "stream",
     "text": [
      "2023-12-27 10:46:34,175 ERROR [imdbpy] /Users/mac/opt/anaconda3/lib/python3.9/site-packages/imdb/__init__.py:844: unknown information set \"genres\"\n"
     ]
    },
    {
     "name": "stdout",
     "output_type": "stream",
     "text": [
      "The Lodger:\n",
      "Genres: ['Crime', 'Drama', 'Mystery', 'Thriller']\n"
     ]
    },
    {
     "name": "stderr",
     "output_type": "stream",
     "text": [
      "2023-12-27 10:46:50,206 ERROR [imdbpy] /Users/mac/opt/anaconda3/lib/python3.9/site-packages/imdb/__init__.py:844: unknown information set \"genres\"\n"
     ]
    },
    {
     "name": "stdout",
     "output_type": "stream",
     "text": [
      "Creators: The Past:\n",
      "Genres: ['Fantasy', 'Sci-Fi']\n"
     ]
    },
    {
     "name": "stderr",
     "output_type": "stream",
     "text": [
      "2023-12-27 10:47:00,959 ERROR [imdbpy] /Users/mac/opt/anaconda3/lib/python3.9/site-packages/imdb/__init__.py:844: unknown information set \"genres\"\n"
     ]
    },
    {
     "name": "stdout",
     "output_type": "stream",
     "text": [
      "The Climb:\n",
      "Genres: ['Comedy', 'Drama']\n"
     ]
    },
    {
     "name": "stderr",
     "output_type": "stream",
     "text": [
      "2023-12-27 10:47:18,995 ERROR [imdbpy] /Users/mac/opt/anaconda3/lib/python3.9/site-packages/imdb/__init__.py:844: unknown information set \"genres\"\n"
     ]
    },
    {
     "name": "stdout",
     "output_type": "stream",
     "text": [
      "Strix:\n",
      "Genres: ['Horror', 'Mystery', 'Thriller']\n"
     ]
    },
    {
     "name": "stderr",
     "output_type": "stream",
     "text": [
      "2023-12-27 10:47:41,720 ERROR [imdbpy] /Users/mac/opt/anaconda3/lib/python3.9/site-packages/imdb/__init__.py:844: unknown information set \"genres\"\n"
     ]
    },
    {
     "name": "stdout",
     "output_type": "stream",
     "text": [
      "Father Figures:\n",
      "Genres: ['Comedy', 'Drama']\n"
     ]
    },
    {
     "name": "stderr",
     "output_type": "stream",
     "text": [
      "2023-12-27 10:48:00,042 ERROR [imdbpy] /Users/mac/opt/anaconda3/lib/python3.9/site-packages/imdb/__init__.py:844: unknown information set \"genres\"\n"
     ]
    },
    {
     "name": "stdout",
     "output_type": "stream",
     "text": [
      "The Big Hit:\n",
      "Genres: ['Action', 'Comedy', 'Crime', 'Thriller']\n"
     ]
    },
    {
     "name": "stderr",
     "output_type": "stream",
     "text": [
      "2023-12-27 10:48:25,389 ERROR [imdbpy] /Users/mac/opt/anaconda3/lib/python3.9/site-packages/imdb/__init__.py:844: unknown information set \"genres\"\n"
     ]
    },
    {
     "name": "stdout",
     "output_type": "stream",
     "text": [
      "Cabin Fever:\n",
      "Genres: ['Horror']\n"
     ]
    },
    {
     "name": "stderr",
     "output_type": "stream",
     "text": [
      "2023-12-27 10:48:44,830 ERROR [imdbpy] /Users/mac/opt/anaconda3/lib/python3.9/site-packages/imdb/__init__.py:844: unknown information set \"genres\"\n"
     ]
    },
    {
     "name": "stdout",
     "output_type": "stream",
     "text": [
      "All Is True:\n",
      "Genres: ['Biography', 'Drama', 'History']\n"
     ]
    },
    {
     "name": "stderr",
     "output_type": "stream",
     "text": [
      "2023-12-27 10:48:56,264 ERROR [imdbpy] /Users/mac/opt/anaconda3/lib/python3.9/site-packages/imdb/__init__.py:844: unknown information set \"genres\"\n"
     ]
    },
    {
     "name": "stdout",
     "output_type": "stream",
     "text": [
      "Immanence:\n",
      "Genres: ['Horror', 'Mystery', 'Thriller']\n"
     ]
    },
    {
     "name": "stderr",
     "output_type": "stream",
     "text": [
      "2023-12-27 10:49:19,373 ERROR [imdbpy] /Users/mac/opt/anaconda3/lib/python3.9/site-packages/imdb/__init__.py:844: unknown information set \"genres\"\n"
     ]
    },
    {
     "name": "stdout",
     "output_type": "stream",
     "text": [
      "A Brilliant Young Mind:\n",
      "Genres: ['Drama', 'Romance']\n"
     ]
    },
    {
     "name": "stderr",
     "output_type": "stream",
     "text": [
      "2023-12-27 10:49:46,928 ERROR [imdbpy] /Users/mac/opt/anaconda3/lib/python3.9/site-packages/imdb/__init__.py:844: unknown information set \"genres\"\n"
     ]
    },
    {
     "name": "stdout",
     "output_type": "stream",
     "text": [
      "Charlie's Angels:\n",
      "Genres: ['Action', 'Adventure', 'Comedy', 'Crime', 'Thriller']\n"
     ]
    },
    {
     "name": "stderr",
     "output_type": "stream",
     "text": [
      "2023-12-27 10:50:06,602 ERROR [imdbpy] /Users/mac/opt/anaconda3/lib/python3.9/site-packages/imdb/__init__.py:844: unknown information set \"genres\"\n"
     ]
    },
    {
     "name": "stdout",
     "output_type": "stream",
     "text": [
      "Sausage Party:\n",
      "Genres: ['Animation', 'Adventure', 'Comedy', 'Fantasy']\n"
     ]
    },
    {
     "name": "stderr",
     "output_type": "stream",
     "text": [
      "2023-12-27 10:50:21,839 ERROR [imdbpy] /Users/mac/opt/anaconda3/lib/python3.9/site-packages/imdb/__init__.py:844: unknown information set \"genres\"\n"
     ]
    },
    {
     "name": "stdout",
     "output_type": "stream",
     "text": [
      "Home Again:\n",
      "Genres: ['Comedy', 'Drama', 'Romance']\n"
     ]
    },
    {
     "name": "stderr",
     "output_type": "stream",
     "text": [
      "2023-12-27 10:50:28,394 ERROR [imdbpy] /Users/mac/opt/anaconda3/lib/python3.9/site-packages/imdb/__init__.py:844: unknown information set \"genres\"\n"
     ]
    },
    {
     "name": "stdout",
     "output_type": "stream",
     "text": [
      "The Whale:\n",
      "Genres: ['Drama']\n"
     ]
    },
    {
     "name": "stderr",
     "output_type": "stream",
     "text": [
      "2023-12-27 10:50:44,983 ERROR [imdbpy] /Users/mac/opt/anaconda3/lib/python3.9/site-packages/imdb/__init__.py:844: unknown information set \"genres\"\n"
     ]
    },
    {
     "name": "stdout",
     "output_type": "stream",
     "text": [
      "The Internet's Own Boy: The Story of Aaron Swartz:\n",
      "Genres: ['Documentary', 'Biography', 'Crime']\n"
     ]
    },
    {
     "name": "stderr",
     "output_type": "stream",
     "text": [
      "2023-12-27 10:51:09,346 ERROR [imdbpy] /Users/mac/opt/anaconda3/lib/python3.9/site-packages/imdb/__init__.py:844: unknown information set \"genres\"\n"
     ]
    },
    {
     "name": "stdout",
     "output_type": "stream",
     "text": [
      "Gravity:\n",
      "Genres: ['Drama', 'Sci-Fi', 'Thriller']\n"
     ]
    },
    {
     "name": "stderr",
     "output_type": "stream",
     "text": [
      "2023-12-27 10:51:22,881 ERROR [imdbpy] /Users/mac/opt/anaconda3/lib/python3.9/site-packages/imdb/__init__.py:844: unknown information set \"genres\"\n"
     ]
    },
    {
     "name": "stdout",
     "output_type": "stream",
     "text": [
      "Girl/Girl Scene: The Movie:\n",
      "Genres: ['Comedy', 'Drama', 'Romance']\n"
     ]
    },
    {
     "name": "stderr",
     "output_type": "stream",
     "text": [
      "2023-12-27 10:51:44,736 ERROR [imdbpy] /Users/mac/opt/anaconda3/lib/python3.9/site-packages/imdb/__init__.py:844: unknown information set \"genres\"\n"
     ]
    },
    {
     "name": "stdout",
     "output_type": "stream",
     "text": [
      "Elysium:\n",
      "Genres: ['Action', 'Drama', 'Sci-Fi', 'Thriller']\n"
     ]
    },
    {
     "name": "stderr",
     "output_type": "stream",
     "text": [
      "2023-12-27 10:51:55,558 ERROR [imdbpy] /Users/mac/opt/anaconda3/lib/python3.9/site-packages/imdb/__init__.py:844: unknown information set \"genres\"\n"
     ]
    },
    {
     "name": "stdout",
     "output_type": "stream",
     "text": [
      "Jiu Jitsu:\n",
      "Genres: ['Action', 'Sci-Fi', 'Thriller']\n"
     ]
    },
    {
     "name": "stderr",
     "output_type": "stream",
     "text": [
      "2023-12-27 10:52:09,836 ERROR [imdbpy] /Users/mac/opt/anaconda3/lib/python3.9/site-packages/imdb/__init__.py:844: unknown information set \"genres\"\n"
     ]
    },
    {
     "name": "stdout",
     "output_type": "stream",
     "text": [
      "Babysitter Must Die:\n",
      "Genres: ['Horror', 'Thriller']\n"
     ]
    },
    {
     "name": "stderr",
     "output_type": "stream",
     "text": [
      "2023-12-27 10:52:25,656 ERROR [imdbpy] /Users/mac/opt/anaconda3/lib/python3.9/site-packages/imdb/__init__.py:844: unknown information set \"genres\"\n"
     ]
    },
    {
     "name": "stdout",
     "output_type": "stream",
     "text": [
      "The Little Death:\n",
      "Genres: ['Comedy', 'Drama', 'Romance']\n"
     ]
    },
    {
     "name": "stderr",
     "output_type": "stream",
     "text": [
      "2023-12-27 10:52:39,054 ERROR [imdbpy] /Users/mac/opt/anaconda3/lib/python3.9/site-packages/imdb/__init__.py:844: unknown information set \"genres\"\n"
     ]
    },
    {
     "name": "stdout",
     "output_type": "stream",
     "text": [
      "Josie & Jack:\n",
      "Genres: ['Drama']\n"
     ]
    },
    {
     "name": "stderr",
     "output_type": "stream",
     "text": [
      "2023-12-27 10:52:57,789 ERROR [imdbpy] /Users/mac/opt/anaconda3/lib/python3.9/site-packages/imdb/__init__.py:844: unknown information set \"genres\"\n"
     ]
    },
    {
     "name": "stdout",
     "output_type": "stream",
     "text": [
      "Three Thousand Years of Longing:\n",
      "Genres: ['Drama', 'Fantasy', 'Romance']\n"
     ]
    },
    {
     "name": "stderr",
     "output_type": "stream",
     "text": [
      "2023-12-27 10:53:13,973 ERROR [imdbpy] /Users/mac/opt/anaconda3/lib/python3.9/site-packages/imdb/__init__.py:844: unknown information set \"genres\"\n"
     ]
    },
    {
     "name": "stdout",
     "output_type": "stream",
     "text": [
      "Matthew Bourne's Cinderella:\n",
      "Genres: ['Drama', 'Fantasy', 'Music', 'Romance']\n"
     ]
    },
    {
     "name": "stderr",
     "output_type": "stream",
     "text": [
      "2023-12-27 10:53:37,118 ERROR [imdbpy] /Users/mac/opt/anaconda3/lib/python3.9/site-packages/imdb/__init__.py:844: unknown information set \"genres\"\n"
     ]
    },
    {
     "name": "stdout",
     "output_type": "stream",
     "text": [
      "Clinton Road:\n",
      "Genres: ['Horror', 'Mystery']\n"
     ]
    },
    {
     "name": "stderr",
     "output_type": "stream",
     "text": [
      "2023-12-27 10:53:57,604 ERROR [imdbpy] /Users/mac/opt/anaconda3/lib/python3.9/site-packages/imdb/__init__.py:844: unknown information set \"genres\"\n"
     ]
    },
    {
     "name": "stdout",
     "output_type": "stream",
     "text": [
      "Here Before:\n",
      "Genres: ['Drama', 'Mystery', 'Thriller']\n"
     ]
    },
    {
     "name": "stderr",
     "output_type": "stream",
     "text": [
      "2023-12-27 10:54:08,708 ERROR [imdbpy] /Users/mac/opt/anaconda3/lib/python3.9/site-packages/imdb/__init__.py:844: unknown information set \"genres\"\n"
     ]
    },
    {
     "name": "stdout",
     "output_type": "stream",
     "text": [
      "My Body Is Not Obscene:\n",
      "Genres: ['Documentary']\n"
     ]
    },
    {
     "name": "stderr",
     "output_type": "stream",
     "text": [
      "2023-12-27 10:54:22,201 ERROR [imdbpy] /Users/mac/opt/anaconda3/lib/python3.9/site-packages/imdb/__init__.py:844: unknown information set \"genres\"\n"
     ]
    },
    {
     "name": "stdout",
     "output_type": "stream",
     "text": [
      "Come to Daddy:\n",
      "Genres: ['Comedy', 'Horror', 'Mystery', 'Thriller']\n"
     ]
    },
    {
     "name": "stderr",
     "output_type": "stream",
     "text": [
      "2023-12-27 10:54:32,894 ERROR [imdbpy] /Users/mac/opt/anaconda3/lib/python3.9/site-packages/imdb/__init__.py:844: unknown information set \"genres\"\n"
     ]
    },
    {
     "name": "stdout",
     "output_type": "stream",
     "text": [
      "Battle for Pandora:\n",
      "Genres: ['Action', 'Horror', 'Sci-Fi']\n"
     ]
    },
    {
     "name": "stderr",
     "output_type": "stream",
     "text": [
      "2023-12-27 10:54:45,673 ERROR [imdbpy] /Users/mac/opt/anaconda3/lib/python3.9/site-packages/imdb/__init__.py:844: unknown information set \"genres\"\n"
     ]
    },
    {
     "name": "stdout",
     "output_type": "stream",
     "text": [
      "Amityville Christmas Vacation:\n",
      "Genres: ['Comedy']\n"
     ]
    },
    {
     "name": "stderr",
     "output_type": "stream",
     "text": [
      "2023-12-27 10:55:00,922 ERROR [imdbpy] /Users/mac/opt/anaconda3/lib/python3.9/site-packages/imdb/__init__.py:844: unknown information set \"genres\"\n"
     ]
    },
    {
     "name": "stdout",
     "output_type": "stream",
     "text": [
      "The Revenant:\n",
      "Genres: ['Action', 'Adventure', 'Drama', 'Western']\n"
     ]
    },
    {
     "name": "stderr",
     "output_type": "stream",
     "text": [
      "2023-12-27 10:55:18,910 ERROR [imdbpy] /Users/mac/opt/anaconda3/lib/python3.9/site-packages/imdb/__init__.py:844: unknown information set \"genres\"\n"
     ]
    },
    {
     "name": "stdout",
     "output_type": "stream",
     "text": [
      "John Wick: Chapter 3 - Parabellum:\n",
      "Genres: ['Action', 'Crime', 'Thriller']\n"
     ]
    },
    {
     "name": "stderr",
     "output_type": "stream",
     "text": [
      "2023-12-27 10:55:42,017 ERROR [imdbpy] /Users/mac/opt/anaconda3/lib/python3.9/site-packages/imdb/__init__.py:844: unknown information set \"genres\"\n"
     ]
    },
    {
     "name": "stdout",
     "output_type": "stream",
     "text": [
      "Blood Father:\n",
      "Genres: ['Action', 'Crime', 'Drama', 'Thriller']\n"
     ]
    },
    {
     "name": "stderr",
     "output_type": "stream",
     "text": [
      "2023-12-27 10:55:52,788 ERROR [imdbpy] /Users/mac/opt/anaconda3/lib/python3.9/site-packages/imdb/__init__.py:844: unknown information set \"genres\"\n"
     ]
    },
    {
     "name": "stdout",
     "output_type": "stream",
     "text": [
      "Pennywise: The Story of IT:\n",
      "Genres: ['Documentary', 'Horror']\n"
     ]
    },
    {
     "name": "stderr",
     "output_type": "stream",
     "text": [
      "2023-12-27 10:56:21,359 ERROR [imdbpy] /Users/mac/opt/anaconda3/lib/python3.9/site-packages/imdb/__init__.py:844: unknown information set \"genres\"\n"
     ]
    },
    {
     "name": "stdout",
     "output_type": "stream",
     "text": [
      "Hero Mode:\n",
      "Genres: ['Adventure', 'Comedy', 'Family']\n"
     ]
    },
    {
     "name": "stderr",
     "output_type": "stream",
     "text": [
      "2023-12-27 10:56:35,190 ERROR [imdbpy] /Users/mac/opt/anaconda3/lib/python3.9/site-packages/imdb/__init__.py:844: unknown information set \"genres\"\n"
     ]
    },
    {
     "name": "stdout",
     "output_type": "stream",
     "text": [
      "Breach:\n",
      "Genres: ['Action', 'Horror', 'Sci-Fi']\n"
     ]
    },
    {
     "name": "stderr",
     "output_type": "stream",
     "text": [
      "2023-12-27 10:56:46,929 ERROR [imdbpy] /Users/mac/opt/anaconda3/lib/python3.9/site-packages/imdb/__init__.py:844: unknown information set \"genres\"\n"
     ]
    },
    {
     "name": "stdout",
     "output_type": "stream",
     "text": [
      "The Toll:\n",
      "Genres: ['Horror', 'Thriller']\n"
     ]
    },
    {
     "name": "stderr",
     "output_type": "stream",
     "text": [
      "2023-12-27 10:56:56,158 ERROR [imdbpy] /Users/mac/opt/anaconda3/lib/python3.9/site-packages/imdb/__init__.py:844: unknown information set \"genres\"\n"
     ]
    },
    {
     "name": "stdout",
     "output_type": "stream",
     "text": [
      "377:\n",
      "Genres: ['Drama']\n"
     ]
    },
    {
     "name": "stderr",
     "output_type": "stream",
     "text": [
      "2023-12-27 10:57:04,543 ERROR [imdbpy] /Users/mac/opt/anaconda3/lib/python3.9/site-packages/imdb/__init__.py:844: unknown information set \"genres\"\n"
     ]
    },
    {
     "name": "stdout",
     "output_type": "stream",
     "text": [
      "Expired:\n",
      "Genres: ['Action', 'Crime', 'Mystery', 'Romance', 'Sci-Fi']\n"
     ]
    },
    {
     "name": "stderr",
     "output_type": "stream",
     "text": [
      "2023-12-27 10:57:22,570 ERROR [imdbpy] /Users/mac/opt/anaconda3/lib/python3.9/site-packages/imdb/__init__.py:844: unknown information set \"genres\"\n"
     ]
    },
    {
     "name": "stdout",
     "output_type": "stream",
     "text": [
      "Emperor:\n",
      "Genres: ['Adventure', 'Thriller']\n"
     ]
    },
    {
     "name": "stderr",
     "output_type": "stream",
     "text": [
      "2023-12-27 10:57:36,968 ERROR [imdbpy] /Users/mac/opt/anaconda3/lib/python3.9/site-packages/imdb/__init__.py:844: unknown information set \"genres\"\n"
     ]
    },
    {
     "name": "stdout",
     "output_type": "stream",
     "text": [
      "Collateral Beauty:\n",
      "Genres: ['Drama', 'Romance']\n"
     ]
    },
    {
     "name": "stderr",
     "output_type": "stream",
     "text": [
      "2023-12-27 10:57:45,463 ERROR [imdbpy] /Users/mac/opt/anaconda3/lib/python3.9/site-packages/imdb/__init__.py:844: unknown information set \"genres\"\n"
     ]
    },
    {
     "name": "stdout",
     "output_type": "stream",
     "text": [
      "Film Stars Don't Die in Liverpool:\n",
      "Genres: ['Biography', 'Drama', 'Romance']\n"
     ]
    },
    {
     "name": "stderr",
     "output_type": "stream",
     "text": [
      "2023-12-27 10:57:54,645 ERROR [imdbpy] /Users/mac/opt/anaconda3/lib/python3.9/site-packages/imdb/__init__.py:844: unknown information set \"genres\"\n"
     ]
    },
    {
     "name": "stdout",
     "output_type": "stream",
     "text": [
      "Tuftland:\n",
      "Genres: ['Drama', 'Horror', 'Mystery', 'Thriller']\n"
     ]
    },
    {
     "name": "stderr",
     "output_type": "stream",
     "text": [
      "2023-12-27 10:58:05,029 ERROR [imdbpy] /Users/mac/opt/anaconda3/lib/python3.9/site-packages/imdb/__init__.py:844: unknown information set \"genres\"\n"
     ]
    },
    {
     "name": "stdout",
     "output_type": "stream",
     "text": [
      "This Game's Called Murder:\n",
      "Genres: ['Action', 'Adventure', 'Comedy', 'Mystery', 'Thriller']\n"
     ]
    },
    {
     "name": "stderr",
     "output_type": "stream",
     "text": [
      "2023-12-27 10:58:16,590 ERROR [imdbpy] /Users/mac/opt/anaconda3/lib/python3.9/site-packages/imdb/__init__.py:844: unknown information set \"genres\"\n"
     ]
    },
    {
     "name": "stdout",
     "output_type": "stream",
     "text": [
      "Bloody Hell:\n",
      "Genres: ['Action', 'Comedy', 'Horror', 'Mystery', 'Thriller']\n"
     ]
    },
    {
     "name": "stderr",
     "output_type": "stream",
     "text": [
      "2023-12-27 10:58:42,484 ERROR [imdbpy] /Users/mac/opt/anaconda3/lib/python3.9/site-packages/imdb/__init__.py:844: unknown information set \"genres\"\n"
     ]
    },
    {
     "name": "stdout",
     "output_type": "stream",
     "text": [
      "The Last of the Winthrops:\n",
      "Genres: ['Documentary', 'Drama', 'Mystery']\n"
     ]
    },
    {
     "name": "stderr",
     "output_type": "stream",
     "text": [
      "2023-12-27 10:58:58,415 ERROR [imdbpy] /Users/mac/opt/anaconda3/lib/python3.9/site-packages/imdb/__init__.py:844: unknown information set \"genres\"\n"
     ]
    },
    {
     "name": "stdout",
     "output_type": "stream",
     "text": [
      "The Pond:\n",
      "Genres: ['Drama', 'Horror', 'Mystery']\n"
     ]
    },
    {
     "name": "stderr",
     "output_type": "stream",
     "text": [
      "2023-12-27 10:59:10,379 ERROR [imdbpy] /Users/mac/opt/anaconda3/lib/python3.9/site-packages/imdb/__init__.py:844: unknown information set \"genres\"\n"
     ]
    },
    {
     "name": "stdout",
     "output_type": "stream",
     "text": [
      "Held:\n",
      "Genres: ['Horror', 'Mystery', 'Thriller']\n"
     ]
    },
    {
     "name": "stderr",
     "output_type": "stream",
     "text": [
      "2023-12-27 10:59:29,813 ERROR [imdbpy] /Users/mac/opt/anaconda3/lib/python3.9/site-packages/imdb/__init__.py:844: unknown information set \"genres\"\n"
     ]
    },
    {
     "name": "stdout",
     "output_type": "stream",
     "text": [
      "The Hunger Games: Mockingjay - Part 2:\n",
      "Genres: ['Action', 'Adventure', 'Sci-Fi', 'Thriller']\n"
     ]
    },
    {
     "name": "stderr",
     "output_type": "stream",
     "text": [
      "2023-12-27 10:59:42,770 ERROR [imdbpy] /Users/mac/opt/anaconda3/lib/python3.9/site-packages/imdb/__init__.py:844: unknown information set \"genres\"\n"
     ]
    },
    {
     "name": "stdout",
     "output_type": "stream",
     "text": [
      "Night of Something Strange:\n",
      "Genres: ['Comedy', 'Horror']\n"
     ]
    },
    {
     "name": "stderr",
     "output_type": "stream",
     "text": [
      "2023-12-27 10:59:54,050 ERROR [imdbpy] /Users/mac/opt/anaconda3/lib/python3.9/site-packages/imdb/__init__.py:844: unknown information set \"genres\"\n"
     ]
    },
    {
     "name": "stdout",
     "output_type": "stream",
     "text": [
      "The Other Side of the Ring:\n",
      "Genres: ['Documentary']\n"
     ]
    },
    {
     "name": "stderr",
     "output_type": "stream",
     "text": [
      "2023-12-27 11:00:08,377 ERROR [imdbpy] /Users/mac/opt/anaconda3/lib/python3.9/site-packages/imdb/__init__.py:844: unknown information set \"genres\"\n"
     ]
    },
    {
     "name": "stdout",
     "output_type": "stream",
     "text": [
      "Run All Night:\n",
      "Genres: ['Action', 'Crime', 'Thriller']\n"
     ]
    },
    {
     "name": "stderr",
     "output_type": "stream",
     "text": [
      "2023-12-27 11:00:35,306 ERROR [imdbpy] /Users/mac/opt/anaconda3/lib/python3.9/site-packages/imdb/__init__.py:844: unknown information set \"genres\"\n"
     ]
    },
    {
     "name": "stdout",
     "output_type": "stream",
     "text": [
      "Just Girls:\n",
      "Genres: ['Documentary']\n"
     ]
    },
    {
     "name": "stderr",
     "output_type": "stream",
     "text": [
      "2023-12-27 11:00:46,249 ERROR [imdbpy] /Users/mac/opt/anaconda3/lib/python3.9/site-packages/imdb/__init__.py:844: unknown information set \"genres\"\n"
     ]
    },
    {
     "name": "stdout",
     "output_type": "stream",
     "text": [
      "21 Bridges:\n",
      "Genres: ['Action', 'Adventure', 'Crime', 'Drama', 'Mystery', 'Thriller']\n"
     ]
    },
    {
     "name": "stderr",
     "output_type": "stream",
     "text": [
      "2023-12-27 11:00:54,344 ERROR [imdbpy] /Users/mac/opt/anaconda3/lib/python3.9/site-packages/imdb/__init__.py:844: unknown information set \"genres\"\n"
     ]
    },
    {
     "name": "stdout",
     "output_type": "stream",
     "text": [
      "Terror Trips:\n",
      "Genres: ['Horror']\n"
     ]
    },
    {
     "name": "stderr",
     "output_type": "stream",
     "text": [
      "2023-12-27 11:01:09,008 ERROR [imdbpy] /Users/mac/opt/anaconda3/lib/python3.9/site-packages/imdb/__init__.py:844: unknown information set \"genres\"\n"
     ]
    },
    {
     "name": "stdout",
     "output_type": "stream",
     "text": [
      "303 Squadron:\n",
      "Genres: ['Drama', 'War']\n"
     ]
    },
    {
     "name": "stderr",
     "output_type": "stream",
     "text": [
      "2023-12-27 11:01:24,125 ERROR [imdbpy] /Users/mac/opt/anaconda3/lib/python3.9/site-packages/imdb/__init__.py:844: unknown information set \"genres\"\n"
     ]
    },
    {
     "name": "stdout",
     "output_type": "stream",
     "text": [
      "Palm Springs:\n",
      "Genres: ['Comedy', 'Fantasy', 'Mystery', 'Romance']\n"
     ]
    },
    {
     "name": "stderr",
     "output_type": "stream",
     "text": [
      "2023-12-27 11:01:36,152 ERROR [imdbpy] /Users/mac/opt/anaconda3/lib/python3.9/site-packages/imdb/__init__.py:844: unknown information set \"genres\"\n"
     ]
    },
    {
     "name": "stdout",
     "output_type": "stream",
     "text": [
      "The Killing Tree:\n",
      "Genres: ['Comedy', 'Horror']\n"
     ]
    },
    {
     "name": "stderr",
     "output_type": "stream",
     "text": [
      "2023-12-27 11:01:56,775 ERROR [imdbpy] /Users/mac/opt/anaconda3/lib/python3.9/site-packages/imdb/__init__.py:844: unknown information set \"genres\"\n"
     ]
    },
    {
     "name": "stdout",
     "output_type": "stream",
     "text": [
      "Flunk: The Sleepover:\n",
      "Genres: ['Drama', 'Romance']\n"
     ]
    },
    {
     "name": "stderr",
     "output_type": "stream",
     "text": [
      "2023-12-27 11:02:08,991 ERROR [imdbpy] /Users/mac/opt/anaconda3/lib/python3.9/site-packages/imdb/__init__.py:844: unknown information set \"genres\"\n"
     ]
    },
    {
     "name": "stdout",
     "output_type": "stream",
     "text": [
      "Strip Club Massacre:\n",
      "Genres: ['Horror', 'Thriller']\n"
     ]
    },
    {
     "name": "stderr",
     "output_type": "stream",
     "text": [
      "2023-12-27 11:02:19,499 ERROR [imdbpy] /Users/mac/opt/anaconda3/lib/python3.9/site-packages/imdb/__init__.py:844: unknown information set \"genres\"\n"
     ]
    },
    {
     "name": "stdout",
     "output_type": "stream",
     "text": [
      "Bill:\n",
      "Genres: ['Action', 'Crime', 'Thriller']\n"
     ]
    },
    {
     "name": "stderr",
     "output_type": "stream",
     "text": [
      "2023-12-27 11:02:32,481 ERROR [imdbpy] /Users/mac/opt/anaconda3/lib/python3.9/site-packages/imdb/__init__.py:844: unknown information set \"genres\"\n"
     ]
    },
    {
     "name": "stdout",
     "output_type": "stream",
     "text": [
      "Unfinished Business:\n",
      "Genres: ['Comedy', 'Drama']\n"
     ]
    },
    {
     "name": "stderr",
     "output_type": "stream",
     "text": [
      "2023-12-27 11:02:44,925 ERROR [imdbpy] /Users/mac/opt/anaconda3/lib/python3.9/site-packages/imdb/__init__.py:844: unknown information set \"genres\"\n"
     ]
    },
    {
     "name": "stdout",
     "output_type": "stream",
     "text": [
      "A Quiet Place:\n",
      "Genres: ['Drama', 'Horror', 'Sci-Fi']\n"
     ]
    },
    {
     "name": "stderr",
     "output_type": "stream",
     "text": [
      "2023-12-27 11:02:57,009 ERROR [imdbpy] /Users/mac/opt/anaconda3/lib/python3.9/site-packages/imdb/__init__.py:844: unknown information set \"genres\"\n"
     ]
    },
    {
     "name": "stdout",
     "output_type": "stream",
     "text": [
      "Welcome Home:\n",
      "Genres: ['Drama', 'Horror', 'Mystery', 'Thriller']\n"
     ]
    },
    {
     "name": "stderr",
     "output_type": "stream",
     "text": [
      "2023-12-27 11:03:07,008 ERROR [imdbpy] /Users/mac/opt/anaconda3/lib/python3.9/site-packages/imdb/__init__.py:844: unknown information set \"genres\"\n"
     ]
    },
    {
     "name": "stdout",
     "output_type": "stream",
     "text": [
      "Angel Azul:\n",
      "Genres: ['Family', 'Fantasy', 'Romance']\n"
     ]
    },
    {
     "name": "stderr",
     "output_type": "stream",
     "text": [
      "2023-12-27 11:03:20,611 ERROR [imdbpy] /Users/mac/opt/anaconda3/lib/python3.9/site-packages/imdb/__init__.py:844: unknown information set \"genres\"\n"
     ]
    },
    {
     "name": "stdout",
     "output_type": "stream",
     "text": [
      "Ghost in the Shell:\n",
      "Genres: ['Action', 'Crime', 'Drama', 'Mystery', 'Sci-Fi', 'Thriller']\n"
     ]
    },
    {
     "name": "stderr",
     "output_type": "stream",
     "text": [
      "2023-12-27 11:03:41,607 ERROR [imdbpy] /Users/mac/opt/anaconda3/lib/python3.9/site-packages/imdb/__init__.py:844: unknown information set \"genres\"\n"
     ]
    },
    {
     "name": "stdout",
     "output_type": "stream",
     "text": [
      "The Sixth Secret:\n",
      "Genres: ['Comedy', 'Horror', 'Mystery']\n"
     ]
    },
    {
     "name": "stderr",
     "output_type": "stream",
     "text": [
      "2023-12-27 11:03:52,658 ERROR [imdbpy] /Users/mac/opt/anaconda3/lib/python3.9/site-packages/imdb/__init__.py:844: unknown information set \"genres\"\n"
     ]
    },
    {
     "name": "stdout",
     "output_type": "stream",
     "text": [
      "Rock Camp: The Movie:\n",
      "Genres: ['Talk-Show']\n"
     ]
    },
    {
     "name": "stderr",
     "output_type": "stream",
     "text": [
      "2023-12-27 11:04:03,227 ERROR [imdbpy] /Users/mac/opt/anaconda3/lib/python3.9/site-packages/imdb/__init__.py:844: unknown information set \"genres\"\n"
     ]
    },
    {
     "name": "stdout",
     "output_type": "stream",
     "text": [
      "Beyond the Gates of Hell:\n",
      "Genres: ['Fantasy', 'Horror', 'Thriller']\n"
     ]
    },
    {
     "name": "stderr",
     "output_type": "stream",
     "text": [
      "2023-12-27 11:04:18,021 ERROR [imdbpy] /Users/mac/opt/anaconda3/lib/python3.9/site-packages/imdb/__init__.py:844: unknown information set \"genres\"\n"
     ]
    },
    {
     "name": "stdout",
     "output_type": "stream",
     "text": [
      "Blue Ruin:\n",
      "Genres: ['Crime', 'Drama', 'Thriller']\n"
     ]
    },
    {
     "name": "stderr",
     "output_type": "stream",
     "text": [
      "2023-12-27 11:04:38,419 ERROR [imdbpy] /Users/mac/opt/anaconda3/lib/python3.9/site-packages/imdb/__init__.py:844: unknown information set \"genres\"\n"
     ]
    },
    {
     "name": "stdout",
     "output_type": "stream",
     "text": [
      "The Hobbit: The Desolation of Smaug:\n",
      "Genres: ['Adventure', 'Drama', 'Fantasy']\n"
     ]
    },
    {
     "name": "stderr",
     "output_type": "stream",
     "text": [
      "2023-12-27 11:05:23,161 CRITICAL [imdbpy] /Users/mac/opt/anaconda3/lib/python3.9/site-packages/imdb/_exceptions.py:32: IMDbDataAccessError exception raised; args: ({'errcode': None, 'errmsg': 'None', 'url': 'https://www.imdb.com/find/?q=The+5th+Wave&s=tt', 'proxy': '', 'exception type': 'IOError', 'original exception': timeout('The read operation timed out')},); kwds: {}\n",
      "Traceback (most recent call last):\n",
      "  File \"/Users/mac/opt/anaconda3/lib/python3.9/site-packages/imdb/parser/http/__init__.py\", line 234, in retrieve_unicode\n",
      "    content = response.read()\n",
      "  File \"/Users/mac/opt/anaconda3/lib/python3.9/http/client.py\", line 469, in read\n",
      "    return self._readall_chunked()\n",
      "  File \"/Users/mac/opt/anaconda3/lib/python3.9/http/client.py\", line 576, in _readall_chunked\n",
      "    chunk_left = self._get_chunk_left()\n",
      "  File \"/Users/mac/opt/anaconda3/lib/python3.9/http/client.py\", line 559, in _get_chunk_left\n",
      "    chunk_left = self._read_next_chunk_size()\n",
      "  File \"/Users/mac/opt/anaconda3/lib/python3.9/http/client.py\", line 519, in _read_next_chunk_size\n",
      "    line = self.fp.readline(_MAXLINE + 1)\n",
      "  File \"/Users/mac/opt/anaconda3/lib/python3.9/socket.py\", line 704, in readinto\n",
      "    return self._sock.recv_into(b)\n",
      "  File \"/Users/mac/opt/anaconda3/lib/python3.9/ssl.py\", line 1241, in recv_into\n",
      "    return self.read(nbytes, buffer)\n",
      "  File \"/Users/mac/opt/anaconda3/lib/python3.9/ssl.py\", line 1099, in read\n",
      "    return self._sslobj.read(len, buffer)\n",
      "socket.timeout: The read operation timed out\n"
     ]
    },
    {
     "name": "stdout",
     "output_type": "stream",
     "text": [
      "Error: {'errcode': None, 'errmsg': 'None', 'url': 'https://www.imdb.com/find/?q=The+5th+Wave&s=tt', 'proxy': '', 'exception type': 'IOError', 'original exception': timeout('The read operation timed out')}\n"
     ]
    },
    {
     "name": "stderr",
     "output_type": "stream",
     "text": [
      "2023-12-27 11:06:27,570 ERROR [imdbpy] /Users/mac/opt/anaconda3/lib/python3.9/site-packages/imdb/__init__.py:844: unknown information set \"genres\"\n"
     ]
    },
    {
     "name": "stdout",
     "output_type": "stream",
     "text": [
      "The 5th Wave:\n",
      "Genres: ['Action', 'Adventure', 'Sci-Fi', 'Thriller']\n"
     ]
    },
    {
     "name": "stderr",
     "output_type": "stream",
     "text": [
      "2023-12-27 11:06:49,505 ERROR [imdbpy] /Users/mac/opt/anaconda3/lib/python3.9/site-packages/imdb/__init__.py:844: unknown information set \"genres\"\n"
     ]
    },
    {
     "name": "stdout",
     "output_type": "stream",
     "text": [
      "Rooney:\n",
      "Genres: ['Documentary', 'Sport']\n"
     ]
    },
    {
     "name": "stderr",
     "output_type": "stream",
     "text": [
      "2023-12-27 11:07:05,223 ERROR [imdbpy] /Users/mac/opt/anaconda3/lib/python3.9/site-packages/imdb/__init__.py:844: unknown information set \"genres\"\n"
     ]
    },
    {
     "name": "stdout",
     "output_type": "stream",
     "text": [
      "Angel Has Fallen:\n",
      "Genres: ['Action', 'Thriller']\n"
     ]
    },
    {
     "name": "stderr",
     "output_type": "stream",
     "text": [
      "2023-12-27 11:07:17,239 ERROR [imdbpy] /Users/mac/opt/anaconda3/lib/python3.9/site-packages/imdb/__init__.py:844: unknown information set \"genres\"\n"
     ]
    },
    {
     "name": "stdout",
     "output_type": "stream",
     "text": [
      "Hot Air:\n",
      "Genres: ['Not available']\n"
     ]
    },
    {
     "name": "stderr",
     "output_type": "stream",
     "text": [
      "2023-12-27 11:07:31,813 ERROR [imdbpy] /Users/mac/opt/anaconda3/lib/python3.9/site-packages/imdb/__init__.py:844: unknown information set \"genres\"\n"
     ]
    },
    {
     "name": "stdout",
     "output_type": "stream",
     "text": [
      "Fruitvale Station:\n",
      "Genres: ['Biography', 'Crime', 'Drama', 'Romance']\n"
     ]
    },
    {
     "name": "stderr",
     "output_type": "stream",
     "text": [
      "2023-12-27 11:07:46,230 ERROR [imdbpy] /Users/mac/opt/anaconda3/lib/python3.9/site-packages/imdb/__init__.py:844: unknown information set \"genres\"\n"
     ]
    },
    {
     "name": "stdout",
     "output_type": "stream",
     "text": [
      "Journey's End:\n",
      "Genres: ['Animation', 'Adventure', 'Drama', 'Fantasy']\n"
     ]
    },
    {
     "name": "stderr",
     "output_type": "stream",
     "text": [
      "2023-12-27 11:07:59,738 ERROR [imdbpy] /Users/mac/opt/anaconda3/lib/python3.9/site-packages/imdb/__init__.py:844: unknown information set \"genres\"\n"
     ]
    },
    {
     "name": "stdout",
     "output_type": "stream",
     "text": [
      "1000km of Chaos:\n",
      "Genres: ['Not available']\n"
     ]
    },
    {
     "name": "stderr",
     "output_type": "stream",
     "text": [
      "2023-12-27 11:08:15,448 ERROR [imdbpy] /Users/mac/opt/anaconda3/lib/python3.9/site-packages/imdb/__init__.py:844: unknown information set \"genres\"\n"
     ]
    },
    {
     "name": "stdout",
     "output_type": "stream",
     "text": [
      "Dug Up:\n",
      "Genres: ['Comedy', 'Horror']\n"
     ]
    },
    {
     "name": "stderr",
     "output_type": "stream",
     "text": [
      "2023-12-27 11:08:27,555 ERROR [imdbpy] /Users/mac/opt/anaconda3/lib/python3.9/site-packages/imdb/__init__.py:844: unknown information set \"genres\"\n"
     ]
    },
    {
     "name": "stdout",
     "output_type": "stream",
     "text": [
      "Women Talking:\n",
      "Genres: ['Drama']\n"
     ]
    },
    {
     "name": "stderr",
     "output_type": "stream",
     "text": [
      "2023-12-27 11:08:41,933 ERROR [imdbpy] /Users/mac/opt/anaconda3/lib/python3.9/site-packages/imdb/__init__.py:844: unknown information set \"genres\"\n"
     ]
    },
    {
     "name": "stdout",
     "output_type": "stream",
     "text": [
      "The Nice Guys:\n",
      "Genres: ['Action', 'Comedy', 'Crime', 'Thriller']\n"
     ]
    },
    {
     "name": "stderr",
     "output_type": "stream",
     "text": [
      "2023-12-27 11:08:54,940 ERROR [imdbpy] /Users/mac/opt/anaconda3/lib/python3.9/site-packages/imdb/__init__.py:844: unknown information set \"genres\"\n"
     ]
    },
    {
     "name": "stdout",
     "output_type": "stream",
     "text": [
      "Ghost Note:\n",
      "Genres: ['Horror', 'Thriller']\n"
     ]
    },
    {
     "name": "stderr",
     "output_type": "stream",
     "text": [
      "2023-12-27 11:09:07,110 ERROR [imdbpy] /Users/mac/opt/anaconda3/lib/python3.9/site-packages/imdb/__init__.py:844: unknown information set \"genres\"\n"
     ]
    },
    {
     "name": "stdout",
     "output_type": "stream",
     "text": [
      "The Devil's Candy:\n",
      "Genres: ['Drama', 'Horror', 'Thriller']\n"
     ]
    },
    {
     "name": "stderr",
     "output_type": "stream",
     "text": [
      "2023-12-27 11:09:13,495 ERROR [imdbpy] /Users/mac/opt/anaconda3/lib/python3.9/site-packages/imdb/__init__.py:844: unknown information set \"genres\"\n"
     ]
    },
    {
     "name": "stdout",
     "output_type": "stream",
     "text": [
      "Slumber Party Massacre:\n",
      "Genres: ['Horror']\n"
     ]
    },
    {
     "name": "stderr",
     "output_type": "stream",
     "text": [
      "2023-12-27 11:09:21,150 ERROR [imdbpy] /Users/mac/opt/anaconda3/lib/python3.9/site-packages/imdb/__init__.py:844: unknown information set \"genres\"\n"
     ]
    },
    {
     "name": "stdout",
     "output_type": "stream",
     "text": [
      "Other People's Children:\n",
      "Genres: ['Comedy', 'Drama', 'Romance']\n"
     ]
    },
    {
     "name": "stderr",
     "output_type": "stream",
     "text": [
      "2023-12-27 11:09:29,167 ERROR [imdbpy] /Users/mac/opt/anaconda3/lib/python3.9/site-packages/imdb/__init__.py:844: unknown information set \"genres\"\n"
     ]
    },
    {
     "name": "stdout",
     "output_type": "stream",
     "text": [
      "Detective Knight: Redemption:\n",
      "Genres: ['Action', 'Adventure', 'Mystery', 'Thriller']\n"
     ]
    },
    {
     "name": "stderr",
     "output_type": "stream",
     "text": [
      "2023-12-27 11:09:37,811 ERROR [imdbpy] /Users/mac/opt/anaconda3/lib/python3.9/site-packages/imdb/__init__.py:844: unknown information set \"genres\"\n"
     ]
    },
    {
     "name": "stdout",
     "output_type": "stream",
     "text": [
      "Pawn Shop Chronicles:\n",
      "Genres: ['Action', 'Comedy', 'Crime']\n"
     ]
    },
    {
     "name": "stderr",
     "output_type": "stream",
     "text": [
      "2023-12-27 11:09:47,293 ERROR [imdbpy] /Users/mac/opt/anaconda3/lib/python3.9/site-packages/imdb/__init__.py:844: unknown information set \"genres\"\n"
     ]
    },
    {
     "name": "stdout",
     "output_type": "stream",
     "text": [
      "Lovelace:\n",
      "Genres: ['Biography', 'Drama']\n"
     ]
    },
    {
     "name": "stderr",
     "output_type": "stream",
     "text": [
      "2023-12-27 11:09:55,763 ERROR [imdbpy] /Users/mac/opt/anaconda3/lib/python3.9/site-packages/imdb/__init__.py:844: unknown information set \"genres\"\n"
     ]
    },
    {
     "name": "stdout",
     "output_type": "stream",
     "text": [
      "Last Three Days:\n",
      "Genres: ['Action', 'Crime', 'Mystery', 'Thriller']\n"
     ]
    },
    {
     "name": "stderr",
     "output_type": "stream",
     "text": [
      "2023-12-27 11:10:03,998 ERROR [imdbpy] /Users/mac/opt/anaconda3/lib/python3.9/site-packages/imdb/__init__.py:844: unknown information set \"genres\"\n"
     ]
    },
    {
     "name": "stdout",
     "output_type": "stream",
     "text": [
      "Flames of Fury:\n",
      "Genres: ['Drama']\n"
     ]
    },
    {
     "name": "stderr",
     "output_type": "stream",
     "text": [
      "2023-12-27 11:10:11,149 ERROR [imdbpy] /Users/mac/opt/anaconda3/lib/python3.9/site-packages/imdb/__init__.py:844: unknown information set \"genres\"\n"
     ]
    },
    {
     "name": "stdout",
     "output_type": "stream",
     "text": [
      "Sniper: The White Raven:\n",
      "Genres: ['Drama', 'War']\n"
     ]
    },
    {
     "name": "stderr",
     "output_type": "stream",
     "text": [
      "2023-12-27 11:10:21,045 ERROR [imdbpy] /Users/mac/opt/anaconda3/lib/python3.9/site-packages/imdb/__init__.py:844: unknown information set \"genres\"\n"
     ]
    },
    {
     "name": "stdout",
     "output_type": "stream",
     "text": [
      "Hippopotamus:\n",
      "Genres: ['Drama', 'Thriller']\n"
     ]
    },
    {
     "name": "stderr",
     "output_type": "stream",
     "text": [
      "2023-12-27 11:10:31,946 ERROR [imdbpy] /Users/mac/opt/anaconda3/lib/python3.9/site-packages/imdb/__init__.py:844: unknown information set \"genres\"\n"
     ]
    },
    {
     "name": "stdout",
     "output_type": "stream",
     "text": [
      "Deinfluencer:\n",
      "Genres: ['Horror', 'Thriller']\n"
     ]
    },
    {
     "name": "stderr",
     "output_type": "stream",
     "text": [
      "2023-12-27 11:11:18,590 CRITICAL [imdbpy] /Users/mac/opt/anaconda3/lib/python3.9/site-packages/imdb/_exceptions.py:32: IMDbDataAccessError exception raised; args: ({'errcode': None, 'errmsg': 'None', 'url': 'https://www.imdb.com/find/?q=Horrible+Bosses+2&s=tt', 'proxy': '', 'exception type': 'IOError', 'original exception': timeout('The read operation timed out')},); kwds: {}\n",
      "Traceback (most recent call last):\n",
      "  File \"/Users/mac/opt/anaconda3/lib/python3.9/site-packages/imdb/parser/http/__init__.py\", line 234, in retrieve_unicode\n",
      "    content = response.read()\n",
      "  File \"/Users/mac/opt/anaconda3/lib/python3.9/http/client.py\", line 469, in read\n",
      "    return self._readall_chunked()\n",
      "  File \"/Users/mac/opt/anaconda3/lib/python3.9/http/client.py\", line 576, in _readall_chunked\n",
      "    chunk_left = self._get_chunk_left()\n",
      "  File \"/Users/mac/opt/anaconda3/lib/python3.9/http/client.py\", line 559, in _get_chunk_left\n",
      "    chunk_left = self._read_next_chunk_size()\n",
      "  File \"/Users/mac/opt/anaconda3/lib/python3.9/http/client.py\", line 519, in _read_next_chunk_size\n",
      "    line = self.fp.readline(_MAXLINE + 1)\n",
      "  File \"/Users/mac/opt/anaconda3/lib/python3.9/socket.py\", line 704, in readinto\n",
      "    return self._sock.recv_into(b)\n",
      "  File \"/Users/mac/opt/anaconda3/lib/python3.9/ssl.py\", line 1241, in recv_into\n",
      "    return self.read(nbytes, buffer)\n",
      "  File \"/Users/mac/opt/anaconda3/lib/python3.9/ssl.py\", line 1099, in read\n",
      "    return self._sslobj.read(len, buffer)\n",
      "socket.timeout: The read operation timed out\n"
     ]
    },
    {
     "name": "stdout",
     "output_type": "stream",
     "text": [
      "Error: {'errcode': None, 'errmsg': 'None', 'url': 'https://www.imdb.com/find/?q=Horrible+Bosses+2&s=tt', 'proxy': '', 'exception type': 'IOError', 'original exception': timeout('The read operation timed out')}\n"
     ]
    },
    {
     "name": "stderr",
     "output_type": "stream",
     "text": [
      "2023-12-27 11:11:34,918 ERROR [imdbpy] /Users/mac/opt/anaconda3/lib/python3.9/site-packages/imdb/__init__.py:844: unknown information set \"genres\"\n"
     ]
    },
    {
     "name": "stdout",
     "output_type": "stream",
     "text": [
      "Horrible Bosses 2:\n",
      "Genres: ['Comedy', 'Crime']\n"
     ]
    },
    {
     "name": "stderr",
     "output_type": "stream",
     "text": [
      "2023-12-27 11:11:50,972 ERROR [imdbpy] /Users/mac/opt/anaconda3/lib/python3.9/site-packages/imdb/__init__.py:844: unknown information set \"genres\"\n"
     ]
    },
    {
     "name": "stdout",
     "output_type": "stream",
     "text": [
      "Spinster:\n",
      "Genres: ['Comedy']\n"
     ]
    },
    {
     "name": "stderr",
     "output_type": "stream",
     "text": [
      "2023-12-27 11:12:07,844 ERROR [imdbpy] /Users/mac/opt/anaconda3/lib/python3.9/site-packages/imdb/__init__.py:844: unknown information set \"genres\"\n"
     ]
    },
    {
     "name": "stdout",
     "output_type": "stream",
     "text": [
      "Stereoscope:\n",
      "Genres: ['Horror']\n"
     ]
    },
    {
     "name": "stderr",
     "output_type": "stream",
     "text": [
      "2023-12-27 11:12:18,148 ERROR [imdbpy] /Users/mac/opt/anaconda3/lib/python3.9/site-packages/imdb/__init__.py:844: unknown information set \"genres\"\n"
     ]
    },
    {
     "name": "stdout",
     "output_type": "stream",
     "text": [
      "Warsaw: A City Divided:\n",
      "Genres: ['Documentary', 'History', 'War']\n"
     ]
    },
    {
     "name": "stderr",
     "output_type": "stream",
     "text": [
      "2023-12-27 11:12:35,936 ERROR [imdbpy] /Users/mac/opt/anaconda3/lib/python3.9/site-packages/imdb/__init__.py:844: unknown information set \"genres\"\n"
     ]
    },
    {
     "name": "stdout",
     "output_type": "stream",
     "text": [
      "The Artist's Wife:\n",
      "Genres: ['Drama']\n"
     ]
    },
    {
     "name": "stderr",
     "output_type": "stream",
     "text": [
      "2023-12-27 11:12:45,362 ERROR [imdbpy] /Users/mac/opt/anaconda3/lib/python3.9/site-packages/imdb/__init__.py:844: unknown information set \"genres\"\n"
     ]
    },
    {
     "name": "stdout",
     "output_type": "stream",
     "text": [
      "Suspiria:\n",
      "Genres: ['Drama', 'Fantasy', 'Horror', 'Mystery', 'Thriller']\n"
     ]
    },
    {
     "name": "stderr",
     "output_type": "stream",
     "text": [
      "2023-12-27 11:13:01,365 ERROR [imdbpy] /Users/mac/opt/anaconda3/lib/python3.9/site-packages/imdb/__init__.py:844: unknown information set \"genres\"\n"
     ]
    },
    {
     "name": "stdout",
     "output_type": "stream",
     "text": [
      "The Justice of Bunny King:\n",
      "Genres: ['Drama']\n"
     ]
    },
    {
     "name": "stderr",
     "output_type": "stream",
     "text": [
      "2023-12-27 11:13:27,447 ERROR [imdbpy] /Users/mac/opt/anaconda3/lib/python3.9/site-packages/imdb/__init__.py:844: unknown information set \"genres\"\n"
     ]
    },
    {
     "name": "stdout",
     "output_type": "stream",
     "text": [
      "Monster:\n",
      "Genres: ['Drama', 'Thriller']\n"
     ]
    },
    {
     "name": "stderr",
     "output_type": "stream",
     "text": [
      "2023-12-27 11:13:41,157 ERROR [imdbpy] /Users/mac/opt/anaconda3/lib/python3.9/site-packages/imdb/__init__.py:844: unknown information set \"genres\"\n"
     ]
    },
    {
     "name": "stdout",
     "output_type": "stream",
     "text": [
      "On the Count of Three:\n",
      "Genres: ['Comedy', 'Crime', 'Drama']\n"
     ]
    },
    {
     "name": "stderr",
     "output_type": "stream",
     "text": [
      "2023-12-27 11:14:01,531 ERROR [imdbpy] /Users/mac/opt/anaconda3/lib/python3.9/site-packages/imdb/__init__.py:844: unknown information set \"genres\"\n"
     ]
    },
    {
     "name": "stdout",
     "output_type": "stream",
     "text": [
      "VHS Massacre Too:\n",
      "Genres: ['Documentary']\n"
     ]
    },
    {
     "name": "stderr",
     "output_type": "stream",
     "text": [
      "2023-12-27 11:14:12,496 ERROR [imdbpy] /Users/mac/opt/anaconda3/lib/python3.9/site-packages/imdb/__init__.py:844: unknown information set \"genres\"\n"
     ]
    },
    {
     "name": "stdout",
     "output_type": "stream",
     "text": [
      "The Magic Pill:\n",
      "Genres: ['Documentary']\n"
     ]
    },
    {
     "name": "stderr",
     "output_type": "stream",
     "text": [
      "2023-12-27 11:14:23,849 ERROR [imdbpy] /Users/mac/opt/anaconda3/lib/python3.9/site-packages/imdb/__init__.py:844: unknown information set \"genres\"\n"
     ]
    },
    {
     "name": "stdout",
     "output_type": "stream",
     "text": [
      "The Lady in the Van:\n",
      "Genres: ['Biography', 'Comedy', 'Drama']\n"
     ]
    },
    {
     "name": "stderr",
     "output_type": "stream",
     "text": [
      "2023-12-27 11:14:34,861 ERROR [imdbpy] /Users/mac/opt/anaconda3/lib/python3.9/site-packages/imdb/__init__.py:844: unknown information set \"genres\"\n"
     ]
    },
    {
     "name": "stdout",
     "output_type": "stream",
     "text": [
      "Sex Doll:\n",
      "Genres: ['Thriller']\n"
     ]
    },
    {
     "name": "stderr",
     "output_type": "stream",
     "text": [
      "2023-12-27 11:14:45,062 ERROR [imdbpy] /Users/mac/opt/anaconda3/lib/python3.9/site-packages/imdb/__init__.py:844: unknown information set \"genres\"\n"
     ]
    },
    {
     "name": "stdout",
     "output_type": "stream",
     "text": [
      "Sing Street:\n",
      "Genres: ['Comedy', 'Drama', 'Music', 'Romance']\n"
     ]
    },
    {
     "name": "stderr",
     "output_type": "stream",
     "text": [
      "2023-12-27 11:14:56,838 ERROR [imdbpy] /Users/mac/opt/anaconda3/lib/python3.9/site-packages/imdb/__init__.py:844: unknown information set \"genres\"\n"
     ]
    },
    {
     "name": "stdout",
     "output_type": "stream",
     "text": [
      "When the Mist Clears:\n",
      "Genres: ['Drama', 'Romance']\n"
     ]
    },
    {
     "name": "stderr",
     "output_type": "stream",
     "text": [
      "2023-12-27 11:15:15,553 ERROR [imdbpy] /Users/mac/opt/anaconda3/lib/python3.9/site-packages/imdb/__init__.py:844: unknown information set \"genres\"\n"
     ]
    },
    {
     "name": "stdout",
     "output_type": "stream",
     "text": [
      "Rifftrax: Stitches:\n",
      "Genres: ['Comedy']\n"
     ]
    },
    {
     "name": "stderr",
     "output_type": "stream",
     "text": [
      "2023-12-27 11:15:35,209 ERROR [imdbpy] /Users/mac/opt/anaconda3/lib/python3.9/site-packages/imdb/__init__.py:844: unknown information set \"genres\"\n"
     ]
    },
    {
     "name": "stdout",
     "output_type": "stream",
     "text": [
      "Hunting Elephants:\n",
      "Genres: ['Comedy', 'Crime', 'Drama']\n"
     ]
    },
    {
     "name": "stderr",
     "output_type": "stream",
     "text": [
      "2023-12-27 11:15:45,460 ERROR [imdbpy] /Users/mac/opt/anaconda3/lib/python3.9/site-packages/imdb/__init__.py:844: unknown information set \"genres\"\n"
     ]
    },
    {
     "name": "stdout",
     "output_type": "stream",
     "text": [
      "I'll Follow You Down:\n",
      "Genres: ['Drama', 'Mystery', 'Sci-Fi']\n"
     ]
    },
    {
     "name": "stderr",
     "output_type": "stream",
     "text": [
      "2023-12-27 11:15:53,501 ERROR [imdbpy] /Users/mac/opt/anaconda3/lib/python3.9/site-packages/imdb/__init__.py:844: unknown information set \"genres\"\n"
     ]
    },
    {
     "name": "stdout",
     "output_type": "stream",
     "text": [
      "Living:\n",
      "Genres: ['Drama']\n"
     ]
    },
    {
     "name": "stderr",
     "output_type": "stream",
     "text": [
      "2023-12-27 11:16:00,771 ERROR [imdbpy] /Users/mac/opt/anaconda3/lib/python3.9/site-packages/imdb/__init__.py:844: unknown information set \"genres\"\n"
     ]
    },
    {
     "name": "stdout",
     "output_type": "stream",
     "text": [
      "The Babadook:\n",
      "Genres: ['Horror', 'Mystery']\n"
     ]
    },
    {
     "name": "stderr",
     "output_type": "stream",
     "text": [
      "2023-12-27 11:16:11,464 ERROR [imdbpy] /Users/mac/opt/anaconda3/lib/python3.9/site-packages/imdb/__init__.py:844: unknown information set \"genres\"\n"
     ]
    },
    {
     "name": "stdout",
     "output_type": "stream",
     "text": [
      "Censor:\n",
      "Genres: ['Horror', 'Mystery']\n"
     ]
    },
    {
     "name": "stderr",
     "output_type": "stream",
     "text": [
      "2023-12-27 11:16:49,453 ERROR [imdbpy] /Users/mac/opt/anaconda3/lib/python3.9/site-packages/imdb/__init__.py:844: unknown information set \"genres\"\n"
     ]
    },
    {
     "name": "stdout",
     "output_type": "stream",
     "text": [
      "Low Tide:\n",
      "Genres: ['Drama', 'Thriller']\n"
     ]
    },
    {
     "name": "stderr",
     "output_type": "stream",
     "text": [
      "2023-12-27 11:17:33,364 ERROR [imdbpy] /Users/mac/opt/anaconda3/lib/python3.9/site-packages/imdb/__init__.py:844: unknown information set \"genres\"\n"
     ]
    },
    {
     "name": "stdout",
     "output_type": "stream",
     "text": [
      "Hell or High Seas:\n",
      "Genres: ['Documentary']\n"
     ]
    },
    {
     "name": "stderr",
     "output_type": "stream",
     "text": [
      "2023-12-27 11:18:00,419 ERROR [imdbpy] /Users/mac/opt/anaconda3/lib/python3.9/site-packages/imdb/__init__.py:844: unknown information set \"genres\"\n"
     ]
    },
    {
     "name": "stdout",
     "output_type": "stream",
     "text": [
      "The Green Knight:\n",
      "Genres: ['Adventure', 'Drama', 'Fantasy']\n"
     ]
    },
    {
     "name": "stderr",
     "output_type": "stream",
     "text": [
      "2023-12-27 11:18:47,772 ERROR [imdbpy] /Users/mac/opt/anaconda3/lib/python3.9/site-packages/imdb/__init__.py:844: unknown information set \"genres\"\n"
     ]
    },
    {
     "name": "stdout",
     "output_type": "stream",
     "text": [
      "Summer Camp:\n",
      "Genres: ['Comedy']\n"
     ]
    },
    {
     "name": "stderr",
     "output_type": "stream",
     "text": [
      "2023-12-27 11:19:12,305 ERROR [imdbpy] /Users/mac/opt/anaconda3/lib/python3.9/site-packages/imdb/__init__.py:844: unknown information set \"genres\"\n"
     ]
    },
    {
     "name": "stdout",
     "output_type": "stream",
     "text": [
      "Tone-Deaf:\n",
      "Genres: ['Comedy', 'Horror', 'Thriller']\n"
     ]
    },
    {
     "name": "stderr",
     "output_type": "stream",
     "text": [
      "2023-12-27 11:20:02,573 CRITICAL [imdbpy] /Users/mac/opt/anaconda3/lib/python3.9/site-packages/imdb/_exceptions.py:32: IMDbDataAccessError exception raised; args: ({'errcode': None, 'errmsg': 'None', 'url': 'https://www.imdb.com/title/tt2836376/reference', 'proxy': '', 'exception type': 'IOError', 'original exception': URLError(timeout('_ssl.c:1112: The handshake operation timed out'))},); kwds: {}\n",
      "Traceback (most recent call last):\n",
      "  File \"/Users/mac/opt/anaconda3/lib/python3.9/urllib/request.py\", line 1346, in do_open\n",
      "    h.request(req.get_method(), req.selector, req.data, headers,\n",
      "  File \"/Users/mac/opt/anaconda3/lib/python3.9/http/client.py\", line 1279, in request\n",
      "    self._send_request(method, url, body, headers, encode_chunked)\n",
      "  File \"/Users/mac/opt/anaconda3/lib/python3.9/http/client.py\", line 1325, in _send_request\n",
      "    self.endheaders(body, encode_chunked=encode_chunked)\n",
      "  File \"/Users/mac/opt/anaconda3/lib/python3.9/http/client.py\", line 1274, in endheaders\n",
      "    self._send_output(message_body, encode_chunked=encode_chunked)\n",
      "  File \"/Users/mac/opt/anaconda3/lib/python3.9/http/client.py\", line 1034, in _send_output\n",
      "    self.send(msg)\n",
      "  File \"/Users/mac/opt/anaconda3/lib/python3.9/http/client.py\", line 974, in send\n",
      "    self.connect()\n",
      "  File \"/Users/mac/opt/anaconda3/lib/python3.9/http/client.py\", line 1448, in connect\n",
      "    self.sock = self._context.wrap_socket(self.sock,\n",
      "  File \"/Users/mac/opt/anaconda3/lib/python3.9/ssl.py\", line 500, in wrap_socket\n",
      "    return self.sslsocket_class._create(\n",
      "  File \"/Users/mac/opt/anaconda3/lib/python3.9/ssl.py\", line 1040, in _create\n",
      "    self.do_handshake()\n",
      "  File \"/Users/mac/opt/anaconda3/lib/python3.9/ssl.py\", line 1309, in do_handshake\n",
      "    self._sslobj.do_handshake()\n",
      "socket.timeout: _ssl.c:1112: The handshake operation timed out\n",
      "\n",
      "During handling of the above exception, another exception occurred:\n",
      "\n",
      "Traceback (most recent call last):\n",
      "  File \"/Users/mac/opt/anaconda3/lib/python3.9/site-packages/imdb/parser/http/__init__.py\", line 233, in retrieve_unicode\n",
      "    response = uopener.open(url)\n",
      "  File \"/Users/mac/opt/anaconda3/lib/python3.9/urllib/request.py\", line 517, in open\n",
      "    response = self._open(req, data)\n",
      "  File \"/Users/mac/opt/anaconda3/lib/python3.9/urllib/request.py\", line 534, in _open\n",
      "    result = self._call_chain(self.handle_open, protocol, protocol +\n",
      "  File \"/Users/mac/opt/anaconda3/lib/python3.9/urllib/request.py\", line 494, in _call_chain\n",
      "    result = func(*args)\n",
      "  File \"/Users/mac/opt/anaconda3/lib/python3.9/urllib/request.py\", line 1389, in https_open\n",
      "    return self.do_open(http.client.HTTPSConnection, req,\n",
      "  File \"/Users/mac/opt/anaconda3/lib/python3.9/urllib/request.py\", line 1349, in do_open\n",
      "    raise URLError(err)\n",
      "urllib.error.URLError: <urlopen error _ssl.c:1112: The handshake operation timed out>\n",
      "2023-12-27 11:20:02,578 CRITICAL [imdbpy] /Users/mac/opt/anaconda3/lib/python3.9/site-packages/imdb/__init__.py:850: caught an exception retrieving or parsing \"main\" info set for mopID \"2836376\" (accessSystem: http)\n",
      "Traceback (most recent call last):\n",
      "  File \"/Users/mac/opt/anaconda3/lib/python3.9/urllib/request.py\", line 1346, in do_open\n",
      "    h.request(req.get_method(), req.selector, req.data, headers,\n",
      "  File \"/Users/mac/opt/anaconda3/lib/python3.9/http/client.py\", line 1279, in request\n",
      "    self._send_request(method, url, body, headers, encode_chunked)\n",
      "  File \"/Users/mac/opt/anaconda3/lib/python3.9/http/client.py\", line 1325, in _send_request\n",
      "    self.endheaders(body, encode_chunked=encode_chunked)\n",
      "  File \"/Users/mac/opt/anaconda3/lib/python3.9/http/client.py\", line 1274, in endheaders\n",
      "    self._send_output(message_body, encode_chunked=encode_chunked)\n",
      "  File \"/Users/mac/opt/anaconda3/lib/python3.9/http/client.py\", line 1034, in _send_output\n",
      "    self.send(msg)\n",
      "  File \"/Users/mac/opt/anaconda3/lib/python3.9/http/client.py\", line 974, in send\n",
      "    self.connect()\n",
      "  File \"/Users/mac/opt/anaconda3/lib/python3.9/http/client.py\", line 1448, in connect\n",
      "    self.sock = self._context.wrap_socket(self.sock,\n",
      "  File \"/Users/mac/opt/anaconda3/lib/python3.9/ssl.py\", line 500, in wrap_socket\n",
      "    return self.sslsocket_class._create(\n",
      "  File \"/Users/mac/opt/anaconda3/lib/python3.9/ssl.py\", line 1040, in _create\n",
      "    self.do_handshake()\n",
      "  File \"/Users/mac/opt/anaconda3/lib/python3.9/ssl.py\", line 1309, in do_handshake\n",
      "    self._sslobj.do_handshake()\n",
      "socket.timeout: _ssl.c:1112: The handshake operation timed out\n",
      "\n",
      "During handling of the above exception, another exception occurred:\n",
      "\n",
      "Traceback (most recent call last):\n",
      "  File \"/Users/mac/opt/anaconda3/lib/python3.9/site-packages/imdb/parser/http/__init__.py\", line 233, in retrieve_unicode\n",
      "    response = uopener.open(url)\n",
      "  File \"/Users/mac/opt/anaconda3/lib/python3.9/urllib/request.py\", line 517, in open\n",
      "    response = self._open(req, data)\n",
      "  File \"/Users/mac/opt/anaconda3/lib/python3.9/urllib/request.py\", line 534, in _open\n",
      "    result = self._call_chain(self.handle_open, protocol, protocol +\n",
      "  File \"/Users/mac/opt/anaconda3/lib/python3.9/urllib/request.py\", line 494, in _call_chain\n",
      "    result = func(*args)\n",
      "  File \"/Users/mac/opt/anaconda3/lib/python3.9/urllib/request.py\", line 1389, in https_open\n",
      "    return self.do_open(http.client.HTTPSConnection, req,\n",
      "  File \"/Users/mac/opt/anaconda3/lib/python3.9/urllib/request.py\", line 1349, in do_open\n",
      "    raise URLError(err)\n",
      "urllib.error.URLError: <urlopen error _ssl.c:1112: The handshake operation timed out>\n",
      "\n",
      "During handling of the above exception, another exception occurred:\n",
      "\n",
      "Traceback (most recent call last):\n",
      "  File \"/Users/mac/opt/anaconda3/lib/python3.9/site-packages/imdb/__init__.py\", line 848, in update\n",
      "    ret = method(mopID)\n",
      "  File \"/Users/mac/opt/anaconda3/lib/python3.9/site-packages/imdb/parser/http/__init__.py\", line 481, in get_movie_main\n",
      "    cont = self._retrieve(self.urls['movie_main'] % movieID + 'reference')\n",
      "  File \"/Users/mac/opt/anaconda3/lib/python3.9/site-packages/imdb/parser/http/__init__.py\", line 392, in _retrieve\n",
      "    ret = self.urlOpener.retrieve_unicode(url, size=size)\n",
      "  File \"/Users/mac/opt/anaconda3/lib/python3.9/site-packages/imdb/parser/http/__init__.py\", line 261, in retrieve_unicode\n",
      "    raise IMDbDataAccessError(\n",
      "imdb._exceptions.IMDbDataAccessError: {'errcode': None, 'errmsg': 'None', 'url': 'https://www.imdb.com/title/tt2836376/reference', 'proxy': '', 'exception type': 'IOError', 'original exception': URLError(timeout('_ssl.c:1112: The handshake operation timed out'))}\n"
     ]
    },
    {
     "name": "stdout",
     "output_type": "stream",
     "text": [
      "Error: {'errcode': None, 'errmsg': 'None', 'url': 'https://www.imdb.com/title/tt2836376/reference', 'proxy': '', 'exception type': 'IOError', 'original exception': URLError(timeout('_ssl.c:1112: The handshake operation timed out'))}\n"
     ]
    },
    {
     "name": "stderr",
     "output_type": "stream",
     "text": [
      "2023-12-27 11:20:22,316 ERROR [imdbpy] /Users/mac/opt/anaconda3/lib/python3.9/site-packages/imdb/__init__.py:844: unknown information set \"genres\"\n"
     ]
    },
    {
     "name": "stdout",
     "output_type": "stream",
     "text": [
      "Iliza Shlesinger: War Paint:\n",
      "Genres: ['Comedy']\n"
     ]
    },
    {
     "name": "stderr",
     "output_type": "stream",
     "text": [
      "2023-12-27 11:20:56,745 ERROR [imdbpy] /Users/mac/opt/anaconda3/lib/python3.9/site-packages/imdb/__init__.py:844: unknown information set \"genres\"\n"
     ]
    },
    {
     "name": "stdout",
     "output_type": "stream",
     "text": [
      "The Nanny's Night:\n",
      "Genres: ['Comedy', 'Horror']\n"
     ]
    },
    {
     "name": "stderr",
     "output_type": "stream",
     "text": [
      "2023-12-27 11:21:24,420 ERROR [imdbpy] /Users/mac/opt/anaconda3/lib/python3.9/site-packages/imdb/__init__.py:844: unknown information set \"genres\"\n"
     ]
    },
    {
     "name": "stdout",
     "output_type": "stream",
     "text": [
      "Nocturnal:\n",
      "Genres: ['Drama', 'Thriller']\n"
     ]
    },
    {
     "name": "stderr",
     "output_type": "stream",
     "text": [
      "2023-12-27 11:21:42,224 ERROR [imdbpy] /Users/mac/opt/anaconda3/lib/python3.9/site-packages/imdb/__init__.py:844: unknown information set \"genres\"\n"
     ]
    },
    {
     "name": "stdout",
     "output_type": "stream",
     "text": [
      "Plan 9:\n",
      "Genres: ['Horror', 'Sci-Fi']\n"
     ]
    },
    {
     "name": "stderr",
     "output_type": "stream",
     "text": [
      "2023-12-27 11:21:52,492 ERROR [imdbpy] /Users/mac/opt/anaconda3/lib/python3.9/site-packages/imdb/__init__.py:844: unknown information set \"genres\"\n"
     ]
    },
    {
     "name": "stdout",
     "output_type": "stream",
     "text": [
      "No One Lives:\n",
      "Genres: ['Horror', 'Thriller']\n"
     ]
    },
    {
     "name": "stderr",
     "output_type": "stream",
     "text": [
      "2023-12-27 11:22:01,307 ERROR [imdbpy] /Users/mac/opt/anaconda3/lib/python3.9/site-packages/imdb/__init__.py:844: unknown information set \"genres\"\n"
     ]
    },
    {
     "name": "stdout",
     "output_type": "stream",
     "text": [
      "Once Upon a River:\n",
      "Genres: ['Drama']\n"
     ]
    },
    {
     "name": "stderr",
     "output_type": "stream",
     "text": [
      "2023-12-27 11:22:08,405 ERROR [imdbpy] /Users/mac/opt/anaconda3/lib/python3.9/site-packages/imdb/__init__.py:844: unknown information set \"genres\"\n"
     ]
    },
    {
     "name": "stdout",
     "output_type": "stream",
     "text": [
      "VHS Massacre: Cult Films and the Decline of Physical Media:\n",
      "Genres: ['Documentary', 'Comedy', 'History', 'Horror', 'Sci-Fi']\n"
     ]
    },
    {
     "name": "stderr",
     "output_type": "stream",
     "text": [
      "2023-12-27 11:22:32,616 ERROR [imdbpy] /Users/mac/opt/anaconda3/lib/python3.9/site-packages/imdb/__init__.py:844: unknown information set \"genres\"\n"
     ]
    },
    {
     "name": "stdout",
     "output_type": "stream",
     "text": [
      "Wildflower:\n",
      "Genres: ['Comedy', 'Drama']\n"
     ]
    },
    {
     "name": "stderr",
     "output_type": "stream",
     "text": [
      "2023-12-27 11:23:13,937 ERROR [imdbpy] /Users/mac/opt/anaconda3/lib/python3.9/site-packages/imdb/__init__.py:844: unknown information set \"genres\"\n"
     ]
    },
    {
     "name": "stdout",
     "output_type": "stream",
     "text": [
      "The Tomorrow War:\n",
      "Genres: ['Action', 'Adventure', 'Drama', 'Sci-Fi', 'Thriller']\n"
     ]
    },
    {
     "name": "stderr",
     "output_type": "stream",
     "text": [
      "2023-12-27 11:23:35,831 ERROR [imdbpy] /Users/mac/opt/anaconda3/lib/python3.9/site-packages/imdb/__init__.py:844: unknown information set \"genres\"\n"
     ]
    },
    {
     "name": "stdout",
     "output_type": "stream",
     "text": [
      "Once I Was a Beehive:\n",
      "Genres: ['Comedy', 'Drama', 'Family']\n"
     ]
    },
    {
     "name": "stderr",
     "output_type": "stream",
     "text": [
      "2023-12-27 11:23:56,808 ERROR [imdbpy] /Users/mac/opt/anaconda3/lib/python3.9/site-packages/imdb/__init__.py:844: unknown information set \"genres\"\n"
     ]
    },
    {
     "name": "stdout",
     "output_type": "stream",
     "text": [
      "Draft Day:\n",
      "Genres: ['Drama', 'Sport']\n"
     ]
    },
    {
     "name": "stderr",
     "output_type": "stream",
     "text": [
      "2023-12-27 11:24:10,939 ERROR [imdbpy] /Users/mac/opt/anaconda3/lib/python3.9/site-packages/imdb/__init__.py:844: unknown information set \"genres\"\n"
     ]
    },
    {
     "name": "stdout",
     "output_type": "stream",
     "text": [
      "The Undamaged:\n",
      "Genres: ['Documentary']\n"
     ]
    },
    {
     "name": "stderr",
     "output_type": "stream",
     "text": [
      "2023-12-27 11:24:20,380 ERROR [imdbpy] /Users/mac/opt/anaconda3/lib/python3.9/site-packages/imdb/__init__.py:844: unknown information set \"genres\"\n"
     ]
    },
    {
     "name": "stdout",
     "output_type": "stream",
     "text": [
      "The Last Scout:\n",
      "Genres: ['Action', 'Comedy', 'Crime', 'Thriller']\n"
     ]
    },
    {
     "name": "stderr",
     "output_type": "stream",
     "text": [
      "2023-12-27 11:24:34,841 ERROR [imdbpy] /Users/mac/opt/anaconda3/lib/python3.9/site-packages/imdb/__init__.py:844: unknown information set \"genres\"\n"
     ]
    },
    {
     "name": "stdout",
     "output_type": "stream",
     "text": [
      "Hotel Transylvania: Transformania:\n",
      "Genres: ['Animation', 'Adventure', 'Comedy', 'Family', 'Fantasy', 'Horror']\n"
     ]
    },
    {
     "name": "stderr",
     "output_type": "stream",
     "text": [
      "2023-12-27 11:24:47,303 ERROR [imdbpy] /Users/mac/opt/anaconda3/lib/python3.9/site-packages/imdb/__init__.py:844: unknown information set \"genres\"\n"
     ]
    },
    {
     "name": "stdout",
     "output_type": "stream",
     "text": [
      "Congratulations!:\n",
      "Genres: ['Drama', 'Family']\n"
     ]
    },
    {
     "name": "stderr",
     "output_type": "stream",
     "text": [
      "2023-12-27 11:25:05,518 ERROR [imdbpy] /Users/mac/opt/anaconda3/lib/python3.9/site-packages/imdb/__init__.py:844: unknown information set \"genres\"\n"
     ]
    },
    {
     "name": "stdout",
     "output_type": "stream",
     "text": [
      "Monolith:\n",
      "Genres: ['Mystery', 'Sci-Fi', 'Thriller']\n"
     ]
    },
    {
     "name": "stderr",
     "output_type": "stream",
     "text": [
      "2023-12-27 11:25:26,273 ERROR [imdbpy] /Users/mac/opt/anaconda3/lib/python3.9/site-packages/imdb/__init__.py:844: unknown information set \"genres\"\n"
     ]
    },
    {
     "name": "stdout",
     "output_type": "stream",
     "text": [
      "Beauty Factory:\n",
      "Genres: ['Documentary', 'Drama']\n"
     ]
    },
    {
     "name": "stderr",
     "output_type": "stream",
     "text": [
      "2023-12-27 11:25:45,112 ERROR [imdbpy] /Users/mac/opt/anaconda3/lib/python3.9/site-packages/imdb/__init__.py:844: unknown information set \"genres\"\n"
     ]
    },
    {
     "name": "stdout",
     "output_type": "stream",
     "text": [
      "The Last Stop:\n",
      "Genres: ['Documentary', 'Biography', 'Drama']\n"
     ]
    },
    {
     "name": "stderr",
     "output_type": "stream",
     "text": [
      "2023-12-27 11:25:56,302 ERROR [imdbpy] /Users/mac/opt/anaconda3/lib/python3.9/site-packages/imdb/__init__.py:844: unknown information set \"genres\"\n"
     ]
    },
    {
     "name": "stdout",
     "output_type": "stream",
     "text": [
      "The Matrix Resurrections:\n",
      "Genres: ['Action', 'Sci-Fi']\n"
     ]
    },
    {
     "name": "stderr",
     "output_type": "stream",
     "text": [
      "2023-12-27 11:26:06,342 ERROR [imdbpy] /Users/mac/opt/anaconda3/lib/python3.9/site-packages/imdb/__init__.py:844: unknown information set \"genres\"\n"
     ]
    },
    {
     "name": "stdout",
     "output_type": "stream",
     "text": [
      "Secret Societies:\n",
      "Genres: ['Documentary', 'Mystery']\n"
     ]
    },
    {
     "name": "stderr",
     "output_type": "stream",
     "text": [
      "2023-12-27 11:26:16,747 ERROR [imdbpy] /Users/mac/opt/anaconda3/lib/python3.9/site-packages/imdb/__init__.py:844: unknown information set \"genres\"\n"
     ]
    },
    {
     "name": "stdout",
     "output_type": "stream",
     "text": [
      "The Last Heist:\n",
      "Genres: ['Crime']\n"
     ]
    },
    {
     "name": "stderr",
     "output_type": "stream",
     "text": [
      "2023-12-27 11:26:25,773 ERROR [imdbpy] /Users/mac/opt/anaconda3/lib/python3.9/site-packages/imdb/__init__.py:844: unknown information set \"genres\"\n"
     ]
    },
    {
     "name": "stdout",
     "output_type": "stream",
     "text": [
      "Susie Q:\n",
      "Genres: ['Comedy', 'Drama', 'Family', 'Fantasy']\n"
     ]
    },
    {
     "name": "stderr",
     "output_type": "stream",
     "text": [
      "2023-12-27 11:26:39,787 ERROR [imdbpy] /Users/mac/opt/anaconda3/lib/python3.9/site-packages/imdb/__init__.py:844: unknown information set \"genres\"\n"
     ]
    },
    {
     "name": "stdout",
     "output_type": "stream",
     "text": [
      "The White Orchid:\n",
      "Genres: ['Drama', 'Mystery', 'Thriller']\n"
     ]
    },
    {
     "name": "stderr",
     "output_type": "stream",
     "text": [
      "2023-12-27 11:27:10,589 ERROR [imdbpy] /Users/mac/opt/anaconda3/lib/python3.9/site-packages/imdb/__init__.py:844: unknown information set \"genres\"\n"
     ]
    },
    {
     "name": "stdout",
     "output_type": "stream",
     "text": [
      "Look Away, Look Away:\n",
      "Genres: ['Drama', 'Fantasy', 'Horror', 'Thriller']\n"
     ]
    },
    {
     "name": "stderr",
     "output_type": "stream",
     "text": [
      "2023-12-27 11:27:27,983 ERROR [imdbpy] /Users/mac/opt/anaconda3/lib/python3.9/site-packages/imdb/__init__.py:844: unknown information set \"genres\"\n"
     ]
    },
    {
     "name": "stdout",
     "output_type": "stream",
     "text": [
      "Armstrong:\n",
      "Genres: ['Documentary', 'Biography']\n"
     ]
    },
    {
     "name": "stderr",
     "output_type": "stream",
     "text": [
      "2023-12-27 11:27:42,782 ERROR [imdbpy] /Users/mac/opt/anaconda3/lib/python3.9/site-packages/imdb/__init__.py:844: unknown information set \"genres\"\n"
     ]
    },
    {
     "name": "stdout",
     "output_type": "stream",
     "text": [
      "Night Kaleidoscope:\n",
      "Genres: ['Horror']\n"
     ]
    },
    {
     "name": "stderr",
     "output_type": "stream",
     "text": [
      "2023-12-27 11:28:05,032 ERROR [imdbpy] /Users/mac/opt/anaconda3/lib/python3.9/site-packages/imdb/__init__.py:844: unknown information set \"genres\"\n"
     ]
    },
    {
     "name": "stdout",
     "output_type": "stream",
     "text": [
      "Greenland:\n",
      "Genres: ['Action', 'Thriller']\n"
     ]
    },
    {
     "name": "stderr",
     "output_type": "stream",
     "text": [
      "2023-12-27 11:28:11,966 ERROR [imdbpy] /Users/mac/opt/anaconda3/lib/python3.9/site-packages/imdb/__init__.py:844: unknown information set \"genres\"\n"
     ]
    },
    {
     "name": "stdout",
     "output_type": "stream",
     "text": [
      "The Hating Game:\n",
      "Genres: ['Comedy', 'Romance']\n"
     ]
    },
    {
     "name": "stderr",
     "output_type": "stream",
     "text": [
      "2023-12-27 11:28:27,986 ERROR [imdbpy] /Users/mac/opt/anaconda3/lib/python3.9/site-packages/imdb/__init__.py:844: unknown information set \"genres\"\n"
     ]
    },
    {
     "name": "stdout",
     "output_type": "stream",
     "text": [
      "Before Midnight:\n",
      "Genres: ['Drama', 'Romance']\n"
     ]
    },
    {
     "name": "stderr",
     "output_type": "stream",
     "text": [
      "2023-12-27 11:28:39,753 ERROR [imdbpy] /Users/mac/opt/anaconda3/lib/python3.9/site-packages/imdb/__init__.py:844: unknown information set \"genres\"\n"
     ]
    },
    {
     "name": "stdout",
     "output_type": "stream",
     "text": [
      "The Haunting of Pendle Hill:\n",
      "Genres: ['Horror']\n"
     ]
    },
    {
     "name": "stderr",
     "output_type": "stream",
     "text": [
      "2023-12-27 11:28:57,512 ERROR [imdbpy] /Users/mac/opt/anaconda3/lib/python3.9/site-packages/imdb/__init__.py:844: unknown information set \"genres\"\n"
     ]
    },
    {
     "name": "stdout",
     "output_type": "stream",
     "text": [
      "Strangerland:\n",
      "Genres: ['Drama', 'Mystery', 'Thriller']\n"
     ]
    },
    {
     "name": "stderr",
     "output_type": "stream",
     "text": [
      "2023-12-27 11:29:09,550 ERROR [imdbpy] /Users/mac/opt/anaconda3/lib/python3.9/site-packages/imdb/__init__.py:844: unknown information set \"genres\"\n"
     ]
    },
    {
     "name": "stdout",
     "output_type": "stream",
     "text": [
      "The Long Shadow:\n",
      "Genres: ['Crime', 'Drama', 'History']\n"
     ]
    },
    {
     "name": "stderr",
     "output_type": "stream",
     "text": [
      "2023-12-27 11:29:33,078 ERROR [imdbpy] /Users/mac/opt/anaconda3/lib/python3.9/site-packages/imdb/__init__.py:844: unknown information set \"genres\"\n"
     ]
    },
    {
     "name": "stdout",
     "output_type": "stream",
     "text": [
      "Above Ground:\n",
      "Genres: ['Crime', 'Drama', 'Thriller']\n"
     ]
    },
    {
     "name": "stderr",
     "output_type": "stream",
     "text": [
      "2023-12-27 11:29:44,441 ERROR [imdbpy] /Users/mac/opt/anaconda3/lib/python3.9/site-packages/imdb/__init__.py:844: unknown information set \"genres\"\n"
     ]
    },
    {
     "name": "stdout",
     "output_type": "stream",
     "text": [
      "When Claude Got Shot:\n",
      "Genres: ['Documentary']\n"
     ]
    },
    {
     "name": "stderr",
     "output_type": "stream",
     "text": [
      "2023-12-27 11:30:04,133 ERROR [imdbpy] /Users/mac/opt/anaconda3/lib/python3.9/site-packages/imdb/__init__.py:844: unknown information set \"genres\"\n"
     ]
    },
    {
     "name": "stdout",
     "output_type": "stream",
     "text": [
      "Going in Style:\n",
      "Genres: ['Comedy', 'Crime']\n"
     ]
    },
    {
     "name": "stderr",
     "output_type": "stream",
     "text": [
      "2023-12-27 11:30:37,717 ERROR [imdbpy] /Users/mac/opt/anaconda3/lib/python3.9/site-packages/imdb/__init__.py:844: unknown information set \"genres\"\n"
     ]
    },
    {
     "name": "stdout",
     "output_type": "stream",
     "text": [
      "Testament of Youth:\n",
      "Genres: ['Biography', 'Drama', 'History', 'War']\n"
     ]
    },
    {
     "name": "stderr",
     "output_type": "stream",
     "text": [
      "2023-12-27 11:30:53,333 ERROR [imdbpy] /Users/mac/opt/anaconda3/lib/python3.9/site-packages/imdb/__init__.py:844: unknown information set \"genres\"\n"
     ]
    },
    {
     "name": "stdout",
     "output_type": "stream",
     "text": [
      "安娜:\n",
      "Genres: ['Action', 'Thriller']\n"
     ]
    },
    {
     "name": "stderr",
     "output_type": "stream",
     "text": [
      "2023-12-27 11:31:03,667 ERROR [imdbpy] /Users/mac/opt/anaconda3/lib/python3.9/site-packages/imdb/__init__.py:844: unknown information set \"genres\"\n"
     ]
    },
    {
     "name": "stdout",
     "output_type": "stream",
     "text": [
      "Girl at the Window:\n",
      "Genres: ['Horror', 'Thriller']\n"
     ]
    },
    {
     "name": "stderr",
     "output_type": "stream",
     "text": [
      "2023-12-27 11:31:21,767 ERROR [imdbpy] /Users/mac/opt/anaconda3/lib/python3.9/site-packages/imdb/__init__.py:844: unknown information set \"genres\"\n"
     ]
    },
    {
     "name": "stdout",
     "output_type": "stream",
     "text": [
      "The House on Devil's Road:\n",
      "Genres: ['Drama', 'Family', 'Romance', 'Western']\n"
     ]
    },
    {
     "name": "stderr",
     "output_type": "stream",
     "text": [
      "2023-12-27 11:31:48,372 ERROR [imdbpy] /Users/mac/opt/anaconda3/lib/python3.9/site-packages/imdb/__init__.py:844: unknown information set \"genres\"\n"
     ]
    },
    {
     "name": "stdout",
     "output_type": "stream",
     "text": [
      "You, Me and Him:\n",
      "Genres: ['Comedy']\n"
     ]
    },
    {
     "name": "stderr",
     "output_type": "stream",
     "text": [
      "2023-12-27 11:32:04,600 ERROR [imdbpy] /Users/mac/opt/anaconda3/lib/python3.9/site-packages/imdb/__init__.py:844: unknown information set \"genres\"\n"
     ]
    },
    {
     "name": "stdout",
     "output_type": "stream",
     "text": [
      "The Christmas Candle:\n",
      "Genres: ['Drama', 'Family']\n"
     ]
    },
    {
     "name": "stderr",
     "output_type": "stream",
     "text": [
      "2023-12-27 11:32:19,427 ERROR [imdbpy] /Users/mac/opt/anaconda3/lib/python3.9/site-packages/imdb/__init__.py:844: unknown information set \"genres\"\n"
     ]
    },
    {
     "name": "stdout",
     "output_type": "stream",
     "text": [
      "In the Forest:\n",
      "Genres: ['Horror', 'Thriller']\n"
     ]
    },
    {
     "name": "stderr",
     "output_type": "stream",
     "text": [
      "2023-12-27 11:32:37,033 ERROR [imdbpy] /Users/mac/opt/anaconda3/lib/python3.9/site-packages/imdb/__init__.py:844: unknown information set \"genres\"\n"
     ]
    },
    {
     "name": "stdout",
     "output_type": "stream",
     "text": [
      "Follow the Dead:\n",
      "Genres: ['Comedy', 'Drama', 'Horror']\n"
     ]
    },
    {
     "name": "stderr",
     "output_type": "stream",
     "text": [
      "2023-12-27 11:32:50,098 ERROR [imdbpy] /Users/mac/opt/anaconda3/lib/python3.9/site-packages/imdb/__init__.py:844: unknown information set \"genres\"\n"
     ]
    },
    {
     "name": "stdout",
     "output_type": "stream",
     "text": [
      "Altered Hours:\n",
      "Genres: ['Sci-Fi', 'Thriller']\n"
     ]
    },
    {
     "name": "stderr",
     "output_type": "stream",
     "text": [
      "2023-12-27 11:33:13,089 ERROR [imdbpy] /Users/mac/opt/anaconda3/lib/python3.9/site-packages/imdb/__init__.py:844: unknown information set \"genres\"\n"
     ]
    },
    {
     "name": "stdout",
     "output_type": "stream",
     "text": [
      "A Perfect Day:\n",
      "Genres: ['Drama', 'Family']\n"
     ]
    },
    {
     "name": "stderr",
     "output_type": "stream",
     "text": [
      "2023-12-27 11:34:26,217 ERROR [imdbpy] /Users/mac/opt/anaconda3/lib/python3.9/site-packages/imdb/__init__.py:844: unknown information set \"genres\"\n"
     ]
    },
    {
     "name": "stdout",
     "output_type": "stream",
     "text": [
      "Her Smell:\n",
      "Genres: ['Drama', 'Music']\n"
     ]
    },
    {
     "name": "stderr",
     "output_type": "stream",
     "text": [
      "2023-12-27 11:34:39,491 ERROR [imdbpy] /Users/mac/opt/anaconda3/lib/python3.9/site-packages/imdb/__init__.py:844: unknown information set \"genres\"\n"
     ]
    },
    {
     "name": "stdout",
     "output_type": "stream",
     "text": [
      "Native:\n",
      "Genres: ['Drama', 'Sci-Fi']\n"
     ]
    },
    {
     "name": "stderr",
     "output_type": "stream",
     "text": [
      "2023-12-27 11:34:52,109 ERROR [imdbpy] /Users/mac/opt/anaconda3/lib/python3.9/site-packages/imdb/__init__.py:844: unknown information set \"genres\"\n"
     ]
    },
    {
     "name": "stdout",
     "output_type": "stream",
     "text": [
      "Beautiful Beings:\n",
      "Genres: ['Drama']\n"
     ]
    },
    {
     "name": "stderr",
     "output_type": "stream",
     "text": [
      "2023-12-27 11:35:04,434 ERROR [imdbpy] /Users/mac/opt/anaconda3/lib/python3.9/site-packages/imdb/__init__.py:844: unknown information set \"genres\"\n"
     ]
    },
    {
     "name": "stdout",
     "output_type": "stream",
     "text": [
      "Still Human:\n",
      "Genres: ['Drama']\n"
     ]
    },
    {
     "name": "stderr",
     "output_type": "stream",
     "text": [
      "2023-12-27 11:35:16,939 ERROR [imdbpy] /Users/mac/opt/anaconda3/lib/python3.9/site-packages/imdb/__init__.py:844: unknown information set \"genres\"\n"
     ]
    },
    {
     "name": "stdout",
     "output_type": "stream",
     "text": [
      "2020: The Dumpster Fire:\n",
      "Genres: ['Documentary']\n"
     ]
    },
    {
     "name": "stderr",
     "output_type": "stream",
     "text": [
      "2023-12-27 11:35:24,502 ERROR [imdbpy] /Users/mac/opt/anaconda3/lib/python3.9/site-packages/imdb/__init__.py:844: unknown information set \"genres\"\n"
     ]
    },
    {
     "name": "stdout",
     "output_type": "stream",
     "text": [
      "Happy Christmas:\n",
      "Genres: ['Comedy', 'Drama']\n"
     ]
    },
    {
     "name": "stderr",
     "output_type": "stream",
     "text": [
      "2023-12-27 11:35:35,694 ERROR [imdbpy] /Users/mac/opt/anaconda3/lib/python3.9/site-packages/imdb/__init__.py:844: unknown information set \"genres\"\n"
     ]
    },
    {
     "name": "stdout",
     "output_type": "stream",
     "text": [
      "The Wall:\n",
      "Genres: ['Biography', 'Comedy', 'Crime', 'Drama']\n"
     ]
    },
    {
     "name": "stderr",
     "output_type": "stream",
     "text": [
      "2023-12-27 11:35:48,600 ERROR [imdbpy] /Users/mac/opt/anaconda3/lib/python3.9/site-packages/imdb/__init__.py:844: unknown information set \"genres\"\n"
     ]
    },
    {
     "name": "stdout",
     "output_type": "stream",
     "text": [
      "The Formula:\n",
      "Genres: ['Drama', 'History', 'Thriller']\n"
     ]
    },
    {
     "name": "stderr",
     "output_type": "stream",
     "text": [
      "2023-12-27 11:35:58,094 ERROR [imdbpy] /Users/mac/opt/anaconda3/lib/python3.9/site-packages/imdb/__init__.py:844: unknown information set \"genres\"\n"
     ]
    },
    {
     "name": "stdout",
     "output_type": "stream",
     "text": [
      "A Beauty & the Beast Christmas:\n",
      "Genres: ['Comedy', 'Drama', 'Romance']\n"
     ]
    },
    {
     "name": "stderr",
     "output_type": "stream",
     "text": [
      "2023-12-27 11:36:08,870 ERROR [imdbpy] /Users/mac/opt/anaconda3/lib/python3.9/site-packages/imdb/__init__.py:844: unknown information set \"genres\"\n"
     ]
    },
    {
     "name": "stdout",
     "output_type": "stream",
     "text": [
      "I Am Big Bird: The Caroll Spinney Story:\n",
      "Genres: ['Documentary', 'Biography', 'Drama']\n"
     ]
    },
    {
     "name": "stderr",
     "output_type": "stream",
     "text": [
      "2023-12-27 11:36:16,632 ERROR [imdbpy] /Users/mac/opt/anaconda3/lib/python3.9/site-packages/imdb/__init__.py:844: unknown information set \"genres\"\n"
     ]
    },
    {
     "name": "stdout",
     "output_type": "stream",
     "text": [
      "Standing Up, Falling Down:\n",
      "Genres: ['Comedy', 'Drama']\n"
     ]
    },
    {
     "name": "stderr",
     "output_type": "stream",
     "text": [
      "2023-12-27 11:36:24,358 ERROR [imdbpy] /Users/mac/opt/anaconda3/lib/python3.9/site-packages/imdb/__init__.py:844: unknown information set \"genres\"\n"
     ]
    },
    {
     "name": "stdout",
     "output_type": "stream",
     "text": [
      "A Few Cubic Meters of Love:\n",
      "Genres: ['Drama', 'Romance']\n"
     ]
    },
    {
     "name": "stderr",
     "output_type": "stream",
     "text": [
      "2023-12-27 11:36:45,176 ERROR [imdbpy] /Users/mac/opt/anaconda3/lib/python3.9/site-packages/imdb/__init__.py:844: unknown information set \"genres\"\n"
     ]
    },
    {
     "name": "stdout",
     "output_type": "stream",
     "text": [
      "Fresh Dressed:\n",
      "Genres: ['Documentary', 'History', 'Music', 'News']\n"
     ]
    },
    {
     "name": "stderr",
     "output_type": "stream",
     "text": [
      "2023-12-27 11:37:00,520 ERROR [imdbpy] /Users/mac/opt/anaconda3/lib/python3.9/site-packages/imdb/__init__.py:844: unknown information set \"genres\"\n"
     ]
    },
    {
     "name": "stdout",
     "output_type": "stream",
     "text": [
      "The World We Knew:\n",
      "Genres: ['Crime', 'Horror']\n"
     ]
    },
    {
     "name": "stderr",
     "output_type": "stream",
     "text": [
      "2023-12-27 11:37:09,285 ERROR [imdbpy] /Users/mac/opt/anaconda3/lib/python3.9/site-packages/imdb/__init__.py:844: unknown information set \"genres\"\n"
     ]
    },
    {
     "name": "stdout",
     "output_type": "stream",
     "text": [
      "Loving Ibiza:\n",
      "Genres: ['Comedy', 'Romance']\n"
     ]
    },
    {
     "name": "stderr",
     "output_type": "stream",
     "text": [
      "2023-12-27 11:37:16,664 ERROR [imdbpy] /Users/mac/opt/anaconda3/lib/python3.9/site-packages/imdb/__init__.py:844: unknown information set \"genres\"\n"
     ]
    },
    {
     "name": "stdout",
     "output_type": "stream",
     "text": [
      "Walkaway Joe:\n",
      "Genres: ['Action', 'Drama']\n"
     ]
    },
    {
     "name": "stderr",
     "output_type": "stream",
     "text": [
      "2023-12-27 11:37:31,564 ERROR [imdbpy] /Users/mac/opt/anaconda3/lib/python3.9/site-packages/imdb/__init__.py:844: unknown information set \"genres\"\n"
     ]
    },
    {
     "name": "stdout",
     "output_type": "stream",
     "text": [
      "The Possessed:\n",
      "Genres: ['Horror']\n"
     ]
    },
    {
     "name": "stderr",
     "output_type": "stream",
     "text": [
      "2023-12-27 11:37:44,585 ERROR [imdbpy] /Users/mac/opt/anaconda3/lib/python3.9/site-packages/imdb/__init__.py:844: unknown information set \"genres\"\n"
     ]
    },
    {
     "name": "stdout",
     "output_type": "stream",
     "text": [
      "Heavy Trip:\n",
      "Genres: ['Comedy', 'Music']\n"
     ]
    },
    {
     "name": "stderr",
     "output_type": "stream",
     "text": [
      "2023-12-27 11:37:57,533 ERROR [imdbpy] /Users/mac/opt/anaconda3/lib/python3.9/site-packages/imdb/__init__.py:844: unknown information set \"genres\"\n"
     ]
    },
    {
     "name": "stdout",
     "output_type": "stream",
     "text": [
      "The Narcissists:\n",
      "Genres: ['Comedy', 'Drama']\n"
     ]
    },
    {
     "name": "stderr",
     "output_type": "stream",
     "text": [
      "2023-12-27 11:38:14,201 ERROR [imdbpy] /Users/mac/opt/anaconda3/lib/python3.9/site-packages/imdb/__init__.py:844: unknown information set \"genres\"\n"
     ]
    },
    {
     "name": "stdout",
     "output_type": "stream",
     "text": [
      "The Phoenix:\n",
      "Genres: ['Action', 'Adventure', 'Family', 'Fantasy', 'Mystery']\n"
     ]
    },
    {
     "name": "stderr",
     "output_type": "stream",
     "text": [
      "2023-12-27 11:38:26,868 ERROR [imdbpy] /Users/mac/opt/anaconda3/lib/python3.9/site-packages/imdb/__init__.py:844: unknown information set \"genres\"\n"
     ]
    },
    {
     "name": "stdout",
     "output_type": "stream",
     "text": [
      "The Man Who Sold His Skin:\n",
      "Genres: ['Drama']\n"
     ]
    },
    {
     "name": "stderr",
     "output_type": "stream",
     "text": [
      "2023-12-27 11:38:34,248 ERROR [imdbpy] /Users/mac/opt/anaconda3/lib/python3.9/site-packages/imdb/__init__.py:844: unknown information set \"genres\"\n"
     ]
    },
    {
     "name": "stdout",
     "output_type": "stream",
     "text": [
      "A Patch of Fog:\n",
      "Genres: ['Thriller']\n"
     ]
    },
    {
     "name": "stderr",
     "output_type": "stream",
     "text": [
      "2023-12-27 11:38:48,093 ERROR [imdbpy] /Users/mac/opt/anaconda3/lib/python3.9/site-packages/imdb/__init__.py:844: unknown information set \"genres\"\n"
     ]
    },
    {
     "name": "stdout",
     "output_type": "stream",
     "text": [
      "Good Luck to You, Leo Grande:\n",
      "Genres: ['Comedy', 'Drama']\n"
     ]
    },
    {
     "name": "stderr",
     "output_type": "stream",
     "text": [
      "2023-12-27 11:39:00,772 ERROR [imdbpy] /Users/mac/opt/anaconda3/lib/python3.9/site-packages/imdb/__init__.py:844: unknown information set \"genres\"\n"
     ]
    },
    {
     "name": "stdout",
     "output_type": "stream",
     "text": [
      "Station to Station:\n",
      "Genres: ['Drama']\n"
     ]
    },
    {
     "name": "stderr",
     "output_type": "stream",
     "text": [
      "2023-12-27 11:39:14,223 ERROR [imdbpy] /Users/mac/opt/anaconda3/lib/python3.9/site-packages/imdb/__init__.py:844: unknown information set \"genres\"\n"
     ]
    },
    {
     "name": "stdout",
     "output_type": "stream",
     "text": [
      "The Wailing:\n",
      "Genres: ['Drama', 'Horror', 'Mystery', 'Thriller']\n"
     ]
    },
    {
     "name": "stderr",
     "output_type": "stream",
     "text": [
      "2023-12-27 11:39:36,909 ERROR [imdbpy] /Users/mac/opt/anaconda3/lib/python3.9/site-packages/imdb/__init__.py:844: unknown information set \"genres\"\n"
     ]
    },
    {
     "name": "stdout",
     "output_type": "stream",
     "text": [
      "Band of Robbers:\n",
      "Genres: ['Adventure', 'Comedy', 'Crime', 'Thriller']\n"
     ]
    },
    {
     "name": "stderr",
     "output_type": "stream",
     "text": [
      "2023-12-27 11:39:54,442 ERROR [imdbpy] /Users/mac/opt/anaconda3/lib/python3.9/site-packages/imdb/__init__.py:844: unknown information set \"genres\"\n"
     ]
    },
    {
     "name": "stdout",
     "output_type": "stream",
     "text": [
      "The Red Book Ritual:\n",
      "Genres: ['Horror']\n"
     ]
    },
    {
     "name": "stderr",
     "output_type": "stream",
     "text": [
      "2023-12-27 11:40:08,806 ERROR [imdbpy] /Users/mac/opt/anaconda3/lib/python3.9/site-packages/imdb/__init__.py:844: unknown information set \"genres\"\n"
     ]
    },
    {
     "name": "stdout",
     "output_type": "stream",
     "text": [
      "Parable:\n",
      "Genres: ['Horror']\n"
     ]
    },
    {
     "name": "stderr",
     "output_type": "stream",
     "text": [
      "2023-12-27 11:40:33,448 ERROR [imdbpy] /Users/mac/opt/anaconda3/lib/python3.9/site-packages/imdb/__init__.py:844: unknown information set \"genres\"\n"
     ]
    },
    {
     "name": "stdout",
     "output_type": "stream",
     "text": [
      "Glassland:\n",
      "Genres: ['Drama']\n"
     ]
    },
    {
     "name": "stderr",
     "output_type": "stream",
     "text": [
      "2023-12-27 11:40:49,145 ERROR [imdbpy] /Users/mac/opt/anaconda3/lib/python3.9/site-packages/imdb/__init__.py:844: unknown information set \"genres\"\n"
     ]
    },
    {
     "name": "stdout",
     "output_type": "stream",
     "text": [
      "Wild Honey Pie!:\n",
      "Genres: ['Comedy', 'Drama']\n"
     ]
    },
    {
     "name": "stderr",
     "output_type": "stream",
     "text": [
      "2023-12-27 11:41:10,577 ERROR [imdbpy] /Users/mac/opt/anaconda3/lib/python3.9/site-packages/imdb/__init__.py:844: unknown information set \"genres\"\n"
     ]
    },
    {
     "name": "stdout",
     "output_type": "stream",
     "text": [
      "Alien Invasion: S.U.M.1:\n",
      "Genres: ['Horror', 'Sci-Fi', 'Thriller']\n"
     ]
    },
    {
     "name": "stderr",
     "output_type": "stream",
     "text": [
      "2023-12-27 11:41:50,425 ERROR [imdbpy] /Users/mac/opt/anaconda3/lib/python3.9/site-packages/imdb/__init__.py:844: unknown information set \"genres\"\n"
     ]
    },
    {
     "name": "stdout",
     "output_type": "stream",
     "text": [
      "Rams:\n",
      "Genres: ['Comedy', 'Drama']\n"
     ]
    },
    {
     "name": "stderr",
     "output_type": "stream",
     "text": [
      "2023-12-27 11:42:09,749 ERROR [imdbpy] /Users/mac/opt/anaconda3/lib/python3.9/site-packages/imdb/__init__.py:844: unknown information set \"genres\"\n"
     ]
    },
    {
     "name": "stdout",
     "output_type": "stream",
     "text": [
      "RoboCop:\n",
      "Genres: ['Action', 'Crime', 'Sci-Fi', 'Thriller']\n"
     ]
    },
    {
     "name": "stderr",
     "output_type": "stream",
     "text": [
      "2023-12-27 11:42:54,362 ERROR [imdbpy] /Users/mac/opt/anaconda3/lib/python3.9/site-packages/imdb/__init__.py:844: unknown information set \"genres\"\n"
     ]
    },
    {
     "name": "stdout",
     "output_type": "stream",
     "text": [
      "The Vault:\n",
      "Genres: ['Action', 'Thriller']\n"
     ]
    },
    {
     "name": "stderr",
     "output_type": "stream",
     "text": [
      "2023-12-27 11:43:13,263 ERROR [imdbpy] /Users/mac/opt/anaconda3/lib/python3.9/site-packages/imdb/__init__.py:844: unknown information set \"genres\"\n"
     ]
    },
    {
     "name": "stdout",
     "output_type": "stream",
     "text": [
      "Fan:\n",
      "Genres: ['Comedy', 'Drama']\n"
     ]
    },
    {
     "name": "stderr",
     "output_type": "stream",
     "text": [
      "2023-12-27 11:43:25,473 ERROR [imdbpy] /Users/mac/opt/anaconda3/lib/python3.9/site-packages/imdb/__init__.py:844: unknown information set \"genres\"\n"
     ]
    },
    {
     "name": "stdout",
     "output_type": "stream",
     "text": [
      "Amsterdam:\n",
      "Genres: ['Comedy', 'Drama', 'History', 'Mystery', 'Thriller']\n"
     ]
    },
    {
     "name": "stderr",
     "output_type": "stream",
     "text": [
      "2023-12-27 11:43:32,714 ERROR [imdbpy] /Users/mac/opt/anaconda3/lib/python3.9/site-packages/imdb/__init__.py:844: unknown information set \"genres\"\n"
     ]
    },
    {
     "name": "stdout",
     "output_type": "stream",
     "text": [
      "Butt Boy:\n",
      "Genres: ['Crime', 'Sci-Fi', 'Thriller']\n"
     ]
    },
    {
     "name": "stderr",
     "output_type": "stream",
     "text": [
      "2023-12-27 11:43:51,845 ERROR [imdbpy] /Users/mac/opt/anaconda3/lib/python3.9/site-packages/imdb/__init__.py:844: unknown information set \"genres\"\n"
     ]
    },
    {
     "name": "stdout",
     "output_type": "stream",
     "text": [
      "Tomorrow Ever After:\n",
      "Genres: ['Comedy', 'Sci-Fi']\n"
     ]
    },
    {
     "name": "stderr",
     "output_type": "stream",
     "text": [
      "2023-12-27 11:44:11,504 ERROR [imdbpy] /Users/mac/opt/anaconda3/lib/python3.9/site-packages/imdb/__init__.py:844: unknown information set \"genres\"\n"
     ]
    },
    {
     "name": "stdout",
     "output_type": "stream",
     "text": [
      "The Longest Week:\n",
      "Genres: ['Comedy', 'Drama', 'Romance']\n"
     ]
    },
    {
     "name": "stderr",
     "output_type": "stream",
     "text": [
      "2023-12-27 11:44:25,682 ERROR [imdbpy] /Users/mac/opt/anaconda3/lib/python3.9/site-packages/imdb/__init__.py:844: unknown information set \"genres\"\n"
     ]
    },
    {
     "name": "stdout",
     "output_type": "stream",
     "text": [
      "Salinger:\n",
      "Genres: ['Drama']\n"
     ]
    },
    {
     "name": "stderr",
     "output_type": "stream",
     "text": [
      "2023-12-27 11:44:43,245 ERROR [imdbpy] /Users/mac/opt/anaconda3/lib/python3.9/site-packages/imdb/__init__.py:844: unknown information set \"genres\"\n"
     ]
    },
    {
     "name": "stdout",
     "output_type": "stream",
     "text": [
      "The Last Laugh:\n",
      "Genres: ['Comedy']\n"
     ]
    },
    {
     "name": "stderr",
     "output_type": "stream",
     "text": [
      "2023-12-27 11:44:53,720 ERROR [imdbpy] /Users/mac/opt/anaconda3/lib/python3.9/site-packages/imdb/__init__.py:844: unknown information set \"genres\"\n"
     ]
    },
    {
     "name": "stdout",
     "output_type": "stream",
     "text": [
      "The Fanatic:\n",
      "Genres: ['Crime', 'Drama', 'Horror', 'Mystery', 'Thriller']\n"
     ]
    },
    {
     "name": "stderr",
     "output_type": "stream",
     "text": [
      "2023-12-27 11:45:03,389 ERROR [imdbpy] /Users/mac/opt/anaconda3/lib/python3.9/site-packages/imdb/__init__.py:844: unknown information set \"genres\"\n"
     ]
    },
    {
     "name": "stdout",
     "output_type": "stream",
     "text": [
      "The Pebble and the Boy:\n",
      "Genres: ['Drama']\n"
     ]
    },
    {
     "name": "stderr",
     "output_type": "stream",
     "text": [
      "2023-12-27 11:45:14,283 ERROR [imdbpy] /Users/mac/opt/anaconda3/lib/python3.9/site-packages/imdb/__init__.py:844: unknown information set \"genres\"\n"
     ]
    },
    {
     "name": "stdout",
     "output_type": "stream",
     "text": [
      "I Am Woman:\n",
      "Genres: ['Biography', 'Drama', 'Music', 'Romance']\n"
     ]
    },
    {
     "name": "stderr",
     "output_type": "stream",
     "text": [
      "2023-12-27 11:45:25,994 ERROR [imdbpy] /Users/mac/opt/anaconda3/lib/python3.9/site-packages/imdb/__init__.py:844: unknown information set \"genres\"\n"
     ]
    },
    {
     "name": "stdout",
     "output_type": "stream",
     "text": [
      "Feast of the Seven Fishes:\n",
      "Genres: ['Comedy']\n"
     ]
    },
    {
     "name": "stderr",
     "output_type": "stream",
     "text": [
      "2023-12-27 11:45:39,814 ERROR [imdbpy] /Users/mac/opt/anaconda3/lib/python3.9/site-packages/imdb/__init__.py:844: unknown information set \"genres\"\n"
     ]
    },
    {
     "name": "stdout",
     "output_type": "stream",
     "text": [
      "Lost Girls & Love Hotels:\n",
      "Genres: ['Drama']\n"
     ]
    },
    {
     "name": "stderr",
     "output_type": "stream",
     "text": [
      "2023-12-27 11:45:55,408 ERROR [imdbpy] /Users/mac/opt/anaconda3/lib/python3.9/site-packages/imdb/__init__.py:844: unknown information set \"genres\"\n"
     ]
    },
    {
     "name": "stdout",
     "output_type": "stream",
     "text": [
      "Solid Rock Trust:\n",
      "Genres: ['Drama', 'Thriller']\n"
     ]
    },
    {
     "name": "stderr",
     "output_type": "stream",
     "text": [
      "2023-12-27 11:46:07,549 ERROR [imdbpy] /Users/mac/opt/anaconda3/lib/python3.9/site-packages/imdb/__init__.py:844: unknown information set \"genres\"\n"
     ]
    },
    {
     "name": "stdout",
     "output_type": "stream",
     "text": [
      "Exegesis Lovecraft:\n",
      "Genres: ['Documentary']\n"
     ]
    },
    {
     "name": "stderr",
     "output_type": "stream",
     "text": [
      "2023-12-27 11:46:19,644 ERROR [imdbpy] /Users/mac/opt/anaconda3/lib/python3.9/site-packages/imdb/__init__.py:844: unknown information set \"genres\"\n"
     ]
    },
    {
     "name": "stdout",
     "output_type": "stream",
     "text": [
      "I Think We're Alone Now:\n",
      "Genres: ['Drama', 'Mystery', 'Sci-Fi']\n"
     ]
    },
    {
     "name": "stderr",
     "output_type": "stream",
     "text": [
      "2023-12-27 11:46:30,803 ERROR [imdbpy] /Users/mac/opt/anaconda3/lib/python3.9/site-packages/imdb/__init__.py:844: unknown information set \"genres\"\n"
     ]
    },
    {
     "name": "stdout",
     "output_type": "stream",
     "text": [
      "Gangster Squad:\n",
      "Genres: ['Action', 'Crime', 'Drama', 'Thriller']\n"
     ]
    },
    {
     "name": "stderr",
     "output_type": "stream",
     "text": [
      "2023-12-27 11:46:46,386 ERROR [imdbpy] /Users/mac/opt/anaconda3/lib/python3.9/site-packages/imdb/__init__.py:844: unknown information set \"genres\"\n"
     ]
    },
    {
     "name": "stdout",
     "output_type": "stream",
     "text": [
      "Vice:\n",
      "Genres: ['Biography', 'Comedy', 'Drama', 'History']\n"
     ]
    },
    {
     "name": "stderr",
     "output_type": "stream",
     "text": [
      "2023-12-27 11:46:53,942 ERROR [imdbpy] /Users/mac/opt/anaconda3/lib/python3.9/site-packages/imdb/__init__.py:844: unknown information set \"genres\"\n"
     ]
    },
    {
     "name": "stdout",
     "output_type": "stream",
     "text": [
      "Broadcast:\n",
      "Genres: ['Comedy', 'Drama', 'Romance']\n"
     ]
    },
    {
     "name": "stderr",
     "output_type": "stream",
     "text": [
      "2023-12-27 11:47:01,798 ERROR [imdbpy] /Users/mac/opt/anaconda3/lib/python3.9/site-packages/imdb/__init__.py:844: unknown information set \"genres\"\n"
     ]
    },
    {
     "name": "stdout",
     "output_type": "stream",
     "text": [
      "Let Us In:\n",
      "Genres: ['Horror', 'Sci-Fi']\n"
     ]
    },
    {
     "name": "stderr",
     "output_type": "stream",
     "text": [
      "2023-12-27 11:47:09,722 ERROR [imdbpy] /Users/mac/opt/anaconda3/lib/python3.9/site-packages/imdb/__init__.py:844: unknown information set \"genres\"\n"
     ]
    },
    {
     "name": "stdout",
     "output_type": "stream",
     "text": [
      "The Resort:\n",
      "Genres: ['Comedy', 'Mystery', 'Thriller']\n"
     ]
    },
    {
     "name": "stderr",
     "output_type": "stream",
     "text": [
      "2023-12-27 11:47:30,947 ERROR [imdbpy] /Users/mac/opt/anaconda3/lib/python3.9/site-packages/imdb/__init__.py:844: unknown information set \"genres\"\n"
     ]
    },
    {
     "name": "stdout",
     "output_type": "stream",
     "text": [
      "The Belko Experiment:\n",
      "Genres: ['Horror', 'Thriller']\n"
     ]
    },
    {
     "name": "stderr",
     "output_type": "stream",
     "text": [
      "2023-12-27 11:47:39,449 ERROR [imdbpy] /Users/mac/opt/anaconda3/lib/python3.9/site-packages/imdb/__init__.py:844: unknown information set \"genres\"\n"
     ]
    },
    {
     "name": "stdout",
     "output_type": "stream",
     "text": [
      "Away From Here:\n",
      "Genres: ['Drama']\n"
     ]
    },
    {
     "name": "stderr",
     "output_type": "stream",
     "text": [
      "2023-12-27 11:47:50,128 ERROR [imdbpy] /Users/mac/opt/anaconda3/lib/python3.9/site-packages/imdb/__init__.py:844: unknown information set \"genres\"\n"
     ]
    },
    {
     "name": "stdout",
     "output_type": "stream",
     "text": [
      "We Broke Up:\n",
      "Genres: ['Comedy', 'Drama']\n"
     ]
    },
    {
     "name": "stderr",
     "output_type": "stream",
     "text": [
      "2023-12-27 11:47:58,759 ERROR [imdbpy] /Users/mac/opt/anaconda3/lib/python3.9/site-packages/imdb/__init__.py:844: unknown information set \"genres\"\n"
     ]
    },
    {
     "name": "stdout",
     "output_type": "stream",
     "text": [
      "Results:\n",
      "Genres: ['Comedy', 'Romance']\n"
     ]
    },
    {
     "name": "stderr",
     "output_type": "stream",
     "text": [
      "2023-12-27 11:48:06,352 ERROR [imdbpy] /Users/mac/opt/anaconda3/lib/python3.9/site-packages/imdb/__init__.py:844: unknown information set \"genres\"\n"
     ]
    },
    {
     "name": "stdout",
     "output_type": "stream",
     "text": [
      "The Wolf Hour:\n",
      "Genres: ['Drama', 'Mystery', 'Thriller']\n"
     ]
    },
    {
     "name": "stderr",
     "output_type": "stream",
     "text": [
      "2023-12-27 11:48:12,735 ERROR [imdbpy] /Users/mac/opt/anaconda3/lib/python3.9/site-packages/imdb/__init__.py:844: unknown information set \"genres\"\n"
     ]
    },
    {
     "name": "stdout",
     "output_type": "stream",
     "text": [
      "The Stairs:\n",
      "Genres: ['Comedy', 'Horror', 'Mystery', 'Thriller']\n"
     ]
    },
    {
     "name": "stderr",
     "output_type": "stream",
     "text": [
      "2023-12-27 11:48:23,153 ERROR [imdbpy] /Users/mac/opt/anaconda3/lib/python3.9/site-packages/imdb/__init__.py:844: unknown information set \"genres\"\n"
     ]
    },
    {
     "name": "stdout",
     "output_type": "stream",
     "text": [
      "The Stranger:\n",
      "Genres: ['Crime', 'Drama', 'Thriller']\n"
     ]
    },
    {
     "name": "stderr",
     "output_type": "stream",
     "text": [
      "2023-12-27 11:48:33,797 ERROR [imdbpy] /Users/mac/opt/anaconda3/lib/python3.9/site-packages/imdb/__init__.py:844: unknown information set \"genres\"\n"
     ]
    },
    {
     "name": "stdout",
     "output_type": "stream",
     "text": [
      "Unacknowledged:\n",
      "Genres: ['Documentary']\n"
     ]
    },
    {
     "name": "stderr",
     "output_type": "stream",
     "text": [
      "2023-12-27 11:48:42,800 ERROR [imdbpy] /Users/mac/opt/anaconda3/lib/python3.9/site-packages/imdb/__init__.py:844: unknown information set \"genres\"\n"
     ]
    },
    {
     "name": "stdout",
     "output_type": "stream",
     "text": [
      "The Tape:\n",
      "Genres: ['Horror', 'Mystery', 'Thriller']\n"
     ]
    },
    {
     "name": "stderr",
     "output_type": "stream",
     "text": [
      "2023-12-27 11:48:49,357 ERROR [imdbpy] /Users/mac/opt/anaconda3/lib/python3.9/site-packages/imdb/__init__.py:844: unknown information set \"genres\"\n"
     ]
    },
    {
     "name": "stdout",
     "output_type": "stream",
     "text": [
      "Deadly Seduction:\n",
      "Genres: ['Crime', 'Drama', 'Horror', 'Romance', 'Thriller']\n"
     ]
    },
    {
     "name": "stderr",
     "output_type": "stream",
     "text": [
      "2023-12-27 11:49:01,334 ERROR [imdbpy] /Users/mac/opt/anaconda3/lib/python3.9/site-packages/imdb/__init__.py:844: unknown information set \"genres\"\n"
     ]
    },
    {
     "name": "stdout",
     "output_type": "stream",
     "text": [
      "Darlin':\n",
      "Genres: ['Horror', 'Thriller']\n"
     ]
    },
    {
     "name": "stderr",
     "output_type": "stream",
     "text": [
      "2023-12-27 11:49:29,650 ERROR [imdbpy] /Users/mac/opt/anaconda3/lib/python3.9/site-packages/imdb/__init__.py:844: unknown information set \"genres\"\n"
     ]
    },
    {
     "name": "stdout",
     "output_type": "stream",
     "text": [
      "Mutant Blast:\n",
      "Genres: ['Action', 'Comedy', 'Horror', 'Sci-Fi']\n"
     ]
    },
    {
     "name": "stderr",
     "output_type": "stream",
     "text": [
      "2023-12-27 11:49:37,368 ERROR [imdbpy] /Users/mac/opt/anaconda3/lib/python3.9/site-packages/imdb/__init__.py:844: unknown information set \"genres\"\n"
     ]
    },
    {
     "name": "stdout",
     "output_type": "stream",
     "text": [
      "Broadcast Signal Intrusion:\n",
      "Genres: ['Crime', 'Drama', 'Horror', 'Mystery', 'Thriller']\n"
     ]
    },
    {
     "name": "stderr",
     "output_type": "stream",
     "text": [
      "2023-12-27 11:49:50,000 ERROR [imdbpy] /Users/mac/opt/anaconda3/lib/python3.9/site-packages/imdb/__init__.py:844: unknown information set \"genres\"\n"
     ]
    },
    {
     "name": "stdout",
     "output_type": "stream",
     "text": [
      "Kill Your Darlings:\n",
      "Genres: ['Biography', 'Drama', 'Romance', 'Thriller']\n"
     ]
    },
    {
     "name": "stderr",
     "output_type": "stream",
     "text": [
      "2023-12-27 11:49:58,406 ERROR [imdbpy] /Users/mac/opt/anaconda3/lib/python3.9/site-packages/imdb/__init__.py:844: unknown information set \"genres\"\n"
     ]
    },
    {
     "name": "stdout",
     "output_type": "stream",
     "text": [
      "Fifty Shades of Fetish Model:\n",
      "Genres: ['Documentary']\n"
     ]
    },
    {
     "name": "stderr",
     "output_type": "stream",
     "text": [
      "2023-12-27 11:50:10,886 ERROR [imdbpy] /Users/mac/opt/anaconda3/lib/python3.9/site-packages/imdb/__init__.py:844: unknown information set \"genres\"\n"
     ]
    },
    {
     "name": "stdout",
     "output_type": "stream",
     "text": [
      "The Owners:\n",
      "Genres: ['Comedy', 'Crime', 'Horror', 'Mystery', 'Thriller']\n"
     ]
    },
    {
     "name": "stderr",
     "output_type": "stream",
     "text": [
      "2023-12-27 11:50:20,969 ERROR [imdbpy] /Users/mac/opt/anaconda3/lib/python3.9/site-packages/imdb/__init__.py:844: unknown information set \"genres\"\n"
     ]
    },
    {
     "name": "stdout",
     "output_type": "stream",
     "text": [
      "Sword of God:\n",
      "Genres: ['History']\n"
     ]
    },
    {
     "name": "stderr",
     "output_type": "stream",
     "text": [
      "2023-12-27 11:50:35,359 ERROR [imdbpy] /Users/mac/opt/anaconda3/lib/python3.9/site-packages/imdb/__init__.py:844: unknown information set \"genres\"\n"
     ]
    },
    {
     "name": "stdout",
     "output_type": "stream",
     "text": [
      "Pretending I'm a Superman: The Tony Hawk Video Game Story:\n",
      "Genres: ['Documentary']\n"
     ]
    },
    {
     "name": "stderr",
     "output_type": "stream",
     "text": [
      "2023-12-27 11:50:43,601 ERROR [imdbpy] /Users/mac/opt/anaconda3/lib/python3.9/site-packages/imdb/__init__.py:844: unknown information set \"genres\"\n"
     ]
    },
    {
     "name": "stdout",
     "output_type": "stream",
     "text": [
      "Lady Lawman:\n",
      "Genres: ['Western']\n"
     ]
    },
    {
     "name": "stderr",
     "output_type": "stream",
     "text": [
      "2023-12-27 11:50:52,713 ERROR [imdbpy] /Users/mac/opt/anaconda3/lib/python3.9/site-packages/imdb/__init__.py:844: unknown information set \"genres\"\n"
     ]
    },
    {
     "name": "stdout",
     "output_type": "stream",
     "text": [
      "El número nueve:\n",
      "Genres: ['Documentary']\n"
     ]
    },
    {
     "name": "stderr",
     "output_type": "stream",
     "text": [
      "2023-12-27 11:51:06,190 ERROR [imdbpy] /Users/mac/opt/anaconda3/lib/python3.9/site-packages/imdb/__init__.py:844: unknown information set \"genres\"\n"
     ]
    },
    {
     "name": "stdout",
     "output_type": "stream",
     "text": [
      "The Kindness of Strangers:\n",
      "Genres: ['Drama']\n"
     ]
    },
    {
     "name": "stderr",
     "output_type": "stream",
     "text": [
      "2023-12-27 11:51:18,157 ERROR [imdbpy] /Users/mac/opt/anaconda3/lib/python3.9/site-packages/imdb/__init__.py:844: unknown information set \"genres\"\n"
     ]
    },
    {
     "name": "stdout",
     "output_type": "stream",
     "text": [
      "The Contractor:\n",
      "Genres: ['Action', 'Drama', 'Thriller']\n"
     ]
    },
    {
     "name": "stderr",
     "output_type": "stream",
     "text": [
      "2023-12-27 11:51:27,778 ERROR [imdbpy] /Users/mac/opt/anaconda3/lib/python3.9/site-packages/imdb/__init__.py:844: unknown information set \"genres\"\n"
     ]
    },
    {
     "name": "stdout",
     "output_type": "stream",
     "text": [
      "Here Are the Young Men:\n",
      "Genres: ['Drama']\n"
     ]
    },
    {
     "name": "stderr",
     "output_type": "stream",
     "text": [
      "2023-12-27 11:51:38,454 ERROR [imdbpy] /Users/mac/opt/anaconda3/lib/python3.9/site-packages/imdb/__init__.py:844: unknown information set \"genres\"\n"
     ]
    },
    {
     "name": "stdout",
     "output_type": "stream",
     "text": [
      "Dreaded Light:\n",
      "Genres: ['Horror']\n"
     ]
    },
    {
     "name": "stderr",
     "output_type": "stream",
     "text": [
      "2023-12-27 11:51:49,200 ERROR [imdbpy] /Users/mac/opt/anaconda3/lib/python3.9/site-packages/imdb/__init__.py:844: unknown information set \"genres\"\n"
     ]
    },
    {
     "name": "stdout",
     "output_type": "stream",
     "text": [
      "Entanglement:\n",
      "Genres: ['Drama']\n"
     ]
    },
    {
     "name": "stderr",
     "output_type": "stream",
     "text": [
      "2023-12-27 11:51:57,278 ERROR [imdbpy] /Users/mac/opt/anaconda3/lib/python3.9/site-packages/imdb/__init__.py:844: unknown information set \"genres\"\n"
     ]
    },
    {
     "name": "stdout",
     "output_type": "stream",
     "text": [
      "Pledge:\n",
      "Genres: ['Crime', 'Drama', 'Mystery', 'Thriller']\n"
     ]
    },
    {
     "name": "stderr",
     "output_type": "stream",
     "text": [
      "2023-12-27 11:52:11,608 ERROR [imdbpy] /Users/mac/opt/anaconda3/lib/python3.9/site-packages/imdb/__init__.py:844: unknown information set \"genres\"\n"
     ]
    },
    {
     "name": "stdout",
     "output_type": "stream",
     "text": [
      "Island Zero:\n",
      "Genres: ['Drama', 'Horror', 'Mystery', 'Sci-Fi', 'Thriller']\n"
     ]
    },
    {
     "name": "stderr",
     "output_type": "stream",
     "text": [
      "2023-12-27 11:52:24,282 ERROR [imdbpy] /Users/mac/opt/anaconda3/lib/python3.9/site-packages/imdb/__init__.py:844: unknown information set \"genres\"\n"
     ]
    },
    {
     "name": "stdout",
     "output_type": "stream",
     "text": [
      "Death Pool:\n",
      "Genres: ['Thriller']\n"
     ]
    },
    {
     "name": "stderr",
     "output_type": "stream",
     "text": [
      "2023-12-27 11:52:52,394 ERROR [imdbpy] /Users/mac/opt/anaconda3/lib/python3.9/site-packages/imdb/__init__.py:844: unknown information set \"genres\"\n"
     ]
    },
    {
     "name": "stdout",
     "output_type": "stream",
     "text": [
      "CRSHD:\n",
      "Genres: ['Comedy', 'Drama']\n"
     ]
    },
    {
     "name": "stderr",
     "output_type": "stream",
     "text": [
      "2023-12-27 11:53:02,260 ERROR [imdbpy] /Users/mac/opt/anaconda3/lib/python3.9/site-packages/imdb/__init__.py:844: unknown information set \"genres\"\n"
     ]
    },
    {
     "name": "stdout",
     "output_type": "stream",
     "text": [
      "Outback:\n",
      "Genres: ['Drama', 'Horror', 'Thriller']\n"
     ]
    },
    {
     "name": "stderr",
     "output_type": "stream",
     "text": [
      "2023-12-27 11:53:13,262 ERROR [imdbpy] /Users/mac/opt/anaconda3/lib/python3.9/site-packages/imdb/__init__.py:844: unknown information set \"genres\"\n"
     ]
    },
    {
     "name": "stdout",
     "output_type": "stream",
     "text": [
      "Dashcam:\n",
      "Genres: ['Horror']\n"
     ]
    },
    {
     "name": "stderr",
     "output_type": "stream",
     "text": [
      "2023-12-27 11:53:26,642 ERROR [imdbpy] /Users/mac/opt/anaconda3/lib/python3.9/site-packages/imdb/__init__.py:844: unknown information set \"genres\"\n"
     ]
    },
    {
     "name": "stdout",
     "output_type": "stream",
     "text": [
      "The Hungover Games:\n",
      "Genres: ['Adventure', 'Comedy', 'Fantasy', 'Sci-Fi']\n"
     ]
    },
    {
     "name": "stderr",
     "output_type": "stream",
     "text": [
      "2023-12-27 11:53:37,544 ERROR [imdbpy] /Users/mac/opt/anaconda3/lib/python3.9/site-packages/imdb/__init__.py:844: unknown information set \"genres\"\n"
     ]
    },
    {
     "name": "stdout",
     "output_type": "stream",
     "text": [
      "Zombieland: Double Tap:\n",
      "Genres: ['Action', 'Comedy', 'Horror']\n"
     ]
    },
    {
     "name": "stderr",
     "output_type": "stream",
     "text": [
      "2023-12-27 11:53:48,644 ERROR [imdbpy] /Users/mac/opt/anaconda3/lib/python3.9/site-packages/imdb/__init__.py:844: unknown information set \"genres\"\n"
     ]
    },
    {
     "name": "stdout",
     "output_type": "stream",
     "text": [
      "Free Ride:\n",
      "Genres: ['Action', 'Drama', 'Thriller']\n"
     ]
    },
    {
     "name": "stderr",
     "output_type": "stream",
     "text": [
      "2023-12-27 11:54:02,168 ERROR [imdbpy] /Users/mac/opt/anaconda3/lib/python3.9/site-packages/imdb/__init__.py:844: unknown information set \"genres\"\n"
     ]
    },
    {
     "name": "stdout",
     "output_type": "stream",
     "text": [
      "Hell House LLC III: Lake of Fire:\n",
      "Genres: ['Horror', 'Mystery']\n"
     ]
    },
    {
     "name": "stderr",
     "output_type": "stream",
     "text": [
      "2023-12-27 11:54:19,782 ERROR [imdbpy] /Users/mac/opt/anaconda3/lib/python3.9/site-packages/imdb/__init__.py:844: unknown information set \"genres\"\n"
     ]
    },
    {
     "name": "stdout",
     "output_type": "stream",
     "text": [
      "Birdman or (The Unexpected Virtue of Ignorance):\n",
      "Genres: ['Comedy', 'Drama']\n"
     ]
    },
    {
     "name": "stderr",
     "output_type": "stream",
     "text": [
      "2023-12-27 11:54:27,737 ERROR [imdbpy] /Users/mac/opt/anaconda3/lib/python3.9/site-packages/imdb/__init__.py:844: unknown information set \"genres\"\n"
     ]
    },
    {
     "name": "stdout",
     "output_type": "stream",
     "text": [
      "Easter Bunny Massacre:\n",
      "Genres: ['Horror']\n"
     ]
    },
    {
     "name": "stderr",
     "output_type": "stream",
     "text": [
      "2023-12-27 11:54:41,966 ERROR [imdbpy] /Users/mac/opt/anaconda3/lib/python3.9/site-packages/imdb/__init__.py:844: unknown information set \"genres\"\n"
     ]
    },
    {
     "name": "stdout",
     "output_type": "stream",
     "text": [
      "Voyeur:\n",
      "Genres: ['Drama', 'Romance']\n"
     ]
    },
    {
     "name": "stderr",
     "output_type": "stream",
     "text": [
      "2023-12-27 11:54:49,312 ERROR [imdbpy] /Users/mac/opt/anaconda3/lib/python3.9/site-packages/imdb/__init__.py:844: unknown information set \"genres\"\n"
     ]
    },
    {
     "name": "stdout",
     "output_type": "stream",
     "text": [
      "Hellblazers:\n",
      "Genres: ['Action', 'Horror']\n"
     ]
    },
    {
     "name": "stderr",
     "output_type": "stream",
     "text": [
      "2023-12-27 11:54:56,390 ERROR [imdbpy] /Users/mac/opt/anaconda3/lib/python3.9/site-packages/imdb/__init__.py:844: unknown information set \"genres\"\n"
     ]
    },
    {
     "name": "stdout",
     "output_type": "stream",
     "text": [
      "Don't Call Me Bigfoot:\n",
      "Genres: ['Documentary']\n"
     ]
    },
    {
     "name": "stderr",
     "output_type": "stream",
     "text": [
      "2023-12-27 11:55:06,408 ERROR [imdbpy] /Users/mac/opt/anaconda3/lib/python3.9/site-packages/imdb/__init__.py:844: unknown information set \"genres\"\n"
     ]
    },
    {
     "name": "stdout",
     "output_type": "stream",
     "text": [
      "Landmine Goes Click:\n",
      "Genres: ['Action', 'Crime', 'Drama', 'Horror', 'Thriller']\n"
     ]
    },
    {
     "name": "stderr",
     "output_type": "stream",
     "text": [
      "2023-12-27 11:55:15,932 ERROR [imdbpy] /Users/mac/opt/anaconda3/lib/python3.9/site-packages/imdb/__init__.py:844: unknown information set \"genres\"\n"
     ]
    },
    {
     "name": "stdout",
     "output_type": "stream",
     "text": [
      "Love Hurts:\n",
      "Genres: ['Thriller']\n"
     ]
    },
    {
     "name": "stderr",
     "output_type": "stream",
     "text": [
      "2023-12-27 11:55:26,929 ERROR [imdbpy] /Users/mac/opt/anaconda3/lib/python3.9/site-packages/imdb/__init__.py:844: unknown information set \"genres\"\n"
     ]
    },
    {
     "name": "stdout",
     "output_type": "stream",
     "text": [
      "Deepwater Horizon:\n",
      "Genres: ['Action', 'Drama', 'History', 'Thriller']\n"
     ]
    },
    {
     "name": "stderr",
     "output_type": "stream",
     "text": [
      "2023-12-27 11:55:38,273 ERROR [imdbpy] /Users/mac/opt/anaconda3/lib/python3.9/site-packages/imdb/__init__.py:844: unknown information set \"genres\"\n"
     ]
    },
    {
     "name": "stdout",
     "output_type": "stream",
     "text": [
      "All Is Bright:\n",
      "Genres: ['Comedy', 'Drama']\n"
     ]
    },
    {
     "name": "stderr",
     "output_type": "stream",
     "text": [
      "2023-12-27 11:55:51,723 ERROR [imdbpy] /Users/mac/opt/anaconda3/lib/python3.9/site-packages/imdb/__init__.py:844: unknown information set \"genres\"\n"
     ]
    },
    {
     "name": "stdout",
     "output_type": "stream",
     "text": [
      "Iravin Nizhal:\n",
      "Genres: ['Action', 'Drama', 'Mystery', 'Thriller']\n"
     ]
    },
    {
     "name": "stderr",
     "output_type": "stream",
     "text": [
      "2023-12-27 11:56:04,851 ERROR [imdbpy] /Users/mac/opt/anaconda3/lib/python3.9/site-packages/imdb/__init__.py:844: unknown information set \"genres\"\n"
     ]
    },
    {
     "name": "stdout",
     "output_type": "stream",
     "text": [
      "Daddy Issues:\n",
      "Genres: ['Drama', 'Romance']\n"
     ]
    },
    {
     "name": "stderr",
     "output_type": "stream",
     "text": [
      "2023-12-27 11:56:16,602 ERROR [imdbpy] /Users/mac/opt/anaconda3/lib/python3.9/site-packages/imdb/__init__.py:844: unknown information set \"genres\"\n"
     ]
    },
    {
     "name": "stdout",
     "output_type": "stream",
     "text": [
      "Short Term 12:\n",
      "Genres: ['Drama']\n"
     ]
    },
    {
     "name": "stderr",
     "output_type": "stream",
     "text": [
      "2023-12-27 11:56:29,419 ERROR [imdbpy] /Users/mac/opt/anaconda3/lib/python3.9/site-packages/imdb/__init__.py:844: unknown information set \"genres\"\n"
     ]
    },
    {
     "name": "stdout",
     "output_type": "stream",
     "text": [
      "Square One:\n",
      "Genres: ['Drama', 'Sport']\n"
     ]
    },
    {
     "name": "stderr",
     "output_type": "stream",
     "text": [
      "2023-12-27 11:56:39,204 ERROR [imdbpy] /Users/mac/opt/anaconda3/lib/python3.9/site-packages/imdb/__init__.py:844: unknown information set \"genres\"\n"
     ]
    },
    {
     "name": "stdout",
     "output_type": "stream",
     "text": [
      "Alpha:\n",
      "Genres: ['Action', 'Adventure', 'Drama']\n"
     ]
    },
    {
     "name": "stderr",
     "output_type": "stream",
     "text": [
      "2023-12-27 11:56:52,485 ERROR [imdbpy] /Users/mac/opt/anaconda3/lib/python3.9/site-packages/imdb/__init__.py:844: unknown information set \"genres\"\n"
     ]
    },
    {
     "name": "stdout",
     "output_type": "stream",
     "text": [
      "Grand Isle:\n",
      "Genres: ['Thriller']\n"
     ]
    },
    {
     "name": "stderr",
     "output_type": "stream",
     "text": [
      "2023-12-27 11:57:02,553 ERROR [imdbpy] /Users/mac/opt/anaconda3/lib/python3.9/site-packages/imdb/__init__.py:844: unknown information set \"genres\"\n"
     ]
    },
    {
     "name": "stdout",
     "output_type": "stream",
     "text": [
      "Close Encounters of the Fifth Kind:\n",
      "Genres: ['Documentary']\n"
     ]
    },
    {
     "name": "stderr",
     "output_type": "stream",
     "text": [
      "2023-12-27 11:57:09,717 ERROR [imdbpy] /Users/mac/opt/anaconda3/lib/python3.9/site-packages/imdb/__init__.py:844: unknown information set \"genres\"\n"
     ]
    },
    {
     "name": "stdout",
     "output_type": "stream",
     "text": [
      "The Message:\n",
      "Genres: ['Biography', 'Drama', 'History', 'War']\n"
     ]
    },
    {
     "name": "stderr",
     "output_type": "stream",
     "text": [
      "2023-12-27 11:57:17,609 ERROR [imdbpy] /Users/mac/opt/anaconda3/lib/python3.9/site-packages/imdb/__init__.py:844: unknown information set \"genres\"\n"
     ]
    },
    {
     "name": "stdout",
     "output_type": "stream",
     "text": [
      "Patio:\n",
      "Genres: ['Drama', 'Romance']\n"
     ]
    },
    {
     "name": "stderr",
     "output_type": "stream",
     "text": [
      "2023-12-27 11:57:28,947 ERROR [imdbpy] /Users/mac/opt/anaconda3/lib/python3.9/site-packages/imdb/__init__.py:844: unknown information set \"genres\"\n"
     ]
    },
    {
     "name": "stdout",
     "output_type": "stream",
     "text": [
      "This Beautiful Fantastic:\n",
      "Genres: ['Comedy', 'Drama', 'Romance']\n"
     ]
    },
    {
     "name": "stderr",
     "output_type": "stream",
     "text": [
      "2023-12-27 11:57:40,381 ERROR [imdbpy] /Users/mac/opt/anaconda3/lib/python3.9/site-packages/imdb/__init__.py:844: unknown information set \"genres\"\n"
     ]
    },
    {
     "name": "stdout",
     "output_type": "stream",
     "text": [
      "The Grand Bolero:\n",
      "Genres: ['Drama', 'Romance', 'Thriller']\n"
     ]
    },
    {
     "name": "stderr",
     "output_type": "stream",
     "text": [
      "2023-12-27 11:57:51,465 ERROR [imdbpy] /Users/mac/opt/anaconda3/lib/python3.9/site-packages/imdb/__init__.py:844: unknown information set \"genres\"\n"
     ]
    },
    {
     "name": "stdout",
     "output_type": "stream",
     "text": [
      "The Long Walk:\n",
      "Genres: ['Drama', 'History']\n"
     ]
    },
    {
     "name": "stderr",
     "output_type": "stream",
     "text": [
      "2023-12-27 11:58:03,771 ERROR [imdbpy] /Users/mac/opt/anaconda3/lib/python3.9/site-packages/imdb/__init__.py:844: unknown information set \"genres\"\n"
     ]
    },
    {
     "name": "stdout",
     "output_type": "stream",
     "text": [
      "Thirteen Lives:\n",
      "Genres: ['Action', 'Adventure', 'Biography', 'Drama', 'Thriller']\n"
     ]
    },
    {
     "name": "stderr",
     "output_type": "stream",
     "text": [
      "2023-12-27 11:58:15,777 ERROR [imdbpy] /Users/mac/opt/anaconda3/lib/python3.9/site-packages/imdb/__init__.py:844: unknown information set \"genres\"\n"
     ]
    },
    {
     "name": "stdout",
     "output_type": "stream",
     "text": [
      "The King's Daughter:\n",
      "Genres: ['Crime', 'Drama', 'Mystery', 'Thriller']\n"
     ]
    },
    {
     "name": "stderr",
     "output_type": "stream",
     "text": [
      "2023-12-27 11:58:25,876 ERROR [imdbpy] /Users/mac/opt/anaconda3/lib/python3.9/site-packages/imdb/__init__.py:844: unknown information set \"genres\"\n"
     ]
    },
    {
     "name": "stdout",
     "output_type": "stream",
     "text": [
      "The Big Sick:\n",
      "Genres: ['Comedy', 'Drama', 'Romance']\n"
     ]
    },
    {
     "name": "stderr",
     "output_type": "stream",
     "text": [
      "2023-12-27 11:58:34,527 ERROR [imdbpy] /Users/mac/opt/anaconda3/lib/python3.9/site-packages/imdb/__init__.py:844: unknown information set \"genres\"\n"
     ]
    },
    {
     "name": "stdout",
     "output_type": "stream",
     "text": [
      "Islanders:\n",
      "Genres: ['Documentary', 'Animation', 'Comedy', 'Music']\n"
     ]
    },
    {
     "name": "stderr",
     "output_type": "stream",
     "text": [
      "2023-12-27 11:58:41,728 ERROR [imdbpy] /Users/mac/opt/anaconda3/lib/python3.9/site-packages/imdb/__init__.py:844: unknown information set \"genres\"\n"
     ]
    },
    {
     "name": "stdout",
     "output_type": "stream",
     "text": [
      "Wither:\n",
      "Genres: ['Horror', 'Thriller']\n"
     ]
    },
    {
     "name": "stderr",
     "output_type": "stream",
     "text": [
      "2023-12-27 11:58:48,480 ERROR [imdbpy] /Users/mac/opt/anaconda3/lib/python3.9/site-packages/imdb/__init__.py:844: unknown information set \"genres\"\n"
     ]
    },
    {
     "name": "stdout",
     "output_type": "stream",
     "text": [
      "Akron:\n",
      "Genres: ['Drama', 'Romance']\n"
     ]
    },
    {
     "name": "stderr",
     "output_type": "stream",
     "text": [
      "2023-12-27 11:58:59,155 ERROR [imdbpy] /Users/mac/opt/anaconda3/lib/python3.9/site-packages/imdb/__init__.py:844: unknown information set \"genres\"\n"
     ]
    },
    {
     "name": "stdout",
     "output_type": "stream",
     "text": [
      "Don't Click:\n",
      "Genres: ['Horror']\n"
     ]
    },
    {
     "name": "stderr",
     "output_type": "stream",
     "text": [
      "2023-12-27 11:59:11,666 ERROR [imdbpy] /Users/mac/opt/anaconda3/lib/python3.9/site-packages/imdb/__init__.py:844: unknown information set \"genres\"\n"
     ]
    },
    {
     "name": "stdout",
     "output_type": "stream",
     "text": [
      "Pescador:\n",
      "Genres: ['Drama']\n"
     ]
    },
    {
     "name": "stderr",
     "output_type": "stream",
     "text": [
      "2023-12-27 11:59:20,542 ERROR [imdbpy] /Users/mac/opt/anaconda3/lib/python3.9/site-packages/imdb/__init__.py:844: unknown information set \"genres\"\n"
     ]
    },
    {
     "name": "stdout",
     "output_type": "stream",
     "text": [
      "Dead in the Water:\n",
      "Genres: ['Action', 'Drama', 'Horror', 'Mystery', 'Thriller']\n"
     ]
    },
    {
     "name": "stderr",
     "output_type": "stream",
     "text": [
      "2023-12-27 11:59:34,285 ERROR [imdbpy] /Users/mac/opt/anaconda3/lib/python3.9/site-packages/imdb/__init__.py:844: unknown information set \"genres\"\n"
     ]
    },
    {
     "name": "stdout",
     "output_type": "stream",
     "text": [
      "Safe Haven:\n",
      "Genres: ['Drama', 'Romance', 'Thriller']\n"
     ]
    },
    {
     "name": "stderr",
     "output_type": "stream",
     "text": [
      "2023-12-27 11:59:43,164 ERROR [imdbpy] /Users/mac/opt/anaconda3/lib/python3.9/site-packages/imdb/__init__.py:844: unknown information set \"genres\"\n"
     ]
    },
    {
     "name": "stdout",
     "output_type": "stream",
     "text": [
      "Softness of Bodies:\n",
      "Genres: ['Comedy']\n"
     ]
    },
    {
     "name": "stderr",
     "output_type": "stream",
     "text": [
      "2023-12-27 11:59:52,225 ERROR [imdbpy] /Users/mac/opt/anaconda3/lib/python3.9/site-packages/imdb/__init__.py:844: unknown information set \"genres\"\n"
     ]
    },
    {
     "name": "stdout",
     "output_type": "stream",
     "text": [
      "Roll Red Roll:\n",
      "Genres: ['Documentary', 'Crime']\n"
     ]
    },
    {
     "name": "stderr",
     "output_type": "stream",
     "text": [
      "2023-12-27 12:00:00,997 ERROR [imdbpy] /Users/mac/opt/anaconda3/lib/python3.9/site-packages/imdb/__init__.py:844: unknown information set \"genres\"\n"
     ]
    },
    {
     "name": "stdout",
     "output_type": "stream",
     "text": [
      "The Pine Barrens:\n",
      "Genres: ['Documentary']\n"
     ]
    },
    {
     "name": "stderr",
     "output_type": "stream",
     "text": [
      "2023-12-27 12:00:12,173 ERROR [imdbpy] /Users/mac/opt/anaconda3/lib/python3.9/site-packages/imdb/__init__.py:844: unknown information set \"genres\"\n"
     ]
    },
    {
     "name": "stdout",
     "output_type": "stream",
     "text": [
      "The Last Warrior:\n",
      "Genres: ['Action', 'Adventure', 'Comedy', 'Family', 'Fantasy', 'Thriller']\n"
     ]
    },
    {
     "name": "stderr",
     "output_type": "stream",
     "text": [
      "2023-12-27 12:00:19,877 ERROR [imdbpy] /Users/mac/opt/anaconda3/lib/python3.9/site-packages/imdb/__init__.py:844: unknown information set \"genres\"\n"
     ]
    },
    {
     "name": "stdout",
     "output_type": "stream",
     "text": [
      "The Cheerleader Sleepover Slaughter:\n",
      "Genres: ['Horror']\n"
     ]
    },
    {
     "name": "stderr",
     "output_type": "stream",
     "text": [
      "2023-12-27 12:00:30,265 ERROR [imdbpy] /Users/mac/opt/anaconda3/lib/python3.9/site-packages/imdb/__init__.py:844: unknown information set \"genres\"\n"
     ]
    },
    {
     "name": "stdout",
     "output_type": "stream",
     "text": [
      "Poker Night:\n",
      "Genres: ['Crime', 'Mystery', 'Thriller']\n"
     ]
    },
    {
     "name": "stderr",
     "output_type": "stream",
     "text": [
      "2023-12-27 12:00:38,310 ERROR [imdbpy] /Users/mac/opt/anaconda3/lib/python3.9/site-packages/imdb/__init__.py:844: unknown information set \"genres\"\n"
     ]
    },
    {
     "name": "stdout",
     "output_type": "stream",
     "text": [
      "A Guide to Second Date Sex:\n",
      "Genres: ['Comedy', 'Romance']\n"
     ]
    },
    {
     "name": "stderr",
     "output_type": "stream",
     "text": [
      "2023-12-27 12:00:48,081 ERROR [imdbpy] /Users/mac/opt/anaconda3/lib/python3.9/site-packages/imdb/__init__.py:844: unknown information set \"genres\"\n"
     ]
    },
    {
     "name": "stdout",
     "output_type": "stream",
     "text": [
      "Bullet Head:\n",
      "Genres: ['Crime', 'Drama', 'Thriller']\n"
     ]
    },
    {
     "name": "stderr",
     "output_type": "stream",
     "text": [
      "2023-12-27 12:00:59,985 ERROR [imdbpy] /Users/mac/opt/anaconda3/lib/python3.9/site-packages/imdb/__init__.py:844: unknown information set \"genres\"\n"
     ]
    },
    {
     "name": "stdout",
     "output_type": "stream",
     "text": [
      "Bombshell:\n",
      "Genres: ['Biography', 'Drama']\n"
     ]
    },
    {
     "name": "stderr",
     "output_type": "stream",
     "text": [
      "2023-12-27 12:01:07,957 ERROR [imdbpy] /Users/mac/opt/anaconda3/lib/python3.9/site-packages/imdb/__init__.py:844: unknown information set \"genres\"\n"
     ]
    },
    {
     "name": "stdout",
     "output_type": "stream",
     "text": [
      "Diani and Devine Meet the Apocalypse:\n",
      "Genres: ['Adventure', 'Comedy']\n"
     ]
    },
    {
     "name": "stderr",
     "output_type": "stream",
     "text": [
      "2023-12-27 12:01:17,873 ERROR [imdbpy] /Users/mac/opt/anaconda3/lib/python3.9/site-packages/imdb/__init__.py:844: unknown information set \"genres\"\n"
     ]
    },
    {
     "name": "stdout",
     "output_type": "stream",
     "text": [
      "Burn Burn Burn:\n",
      "Genres: ['Action', 'Crime', 'Drama', 'Mystery', 'Thriller']\n"
     ]
    },
    {
     "name": "stderr",
     "output_type": "stream",
     "text": [
      "2023-12-27 12:01:33,657 ERROR [imdbpy] /Users/mac/opt/anaconda3/lib/python3.9/site-packages/imdb/__init__.py:844: unknown information set \"genres\"\n"
     ]
    },
    {
     "name": "stdout",
     "output_type": "stream",
     "text": [
      "Hellboy:\n",
      "Genres: ['Action', 'Adventure', 'Fantasy', 'Horror', 'Sci-Fi']\n"
     ]
    },
    {
     "name": "stderr",
     "output_type": "stream",
     "text": [
      "2023-12-27 12:01:41,795 ERROR [imdbpy] /Users/mac/opt/anaconda3/lib/python3.9/site-packages/imdb/__init__.py:844: unknown information set \"genres\"\n"
     ]
    },
    {
     "name": "stdout",
     "output_type": "stream",
     "text": [
      "Doors:\n",
      "Genres: ['Comedy']\n"
     ]
    },
    {
     "name": "stderr",
     "output_type": "stream",
     "text": [
      "2023-12-27 12:01:54,221 ERROR [imdbpy] /Users/mac/opt/anaconda3/lib/python3.9/site-packages/imdb/__init__.py:844: unknown information set \"genres\"\n"
     ]
    },
    {
     "name": "stdout",
     "output_type": "stream",
     "text": [
      "Ditched:\n",
      "Genres: ['Horror']\n"
     ]
    },
    {
     "name": "stderr",
     "output_type": "stream",
     "text": [
      "2023-12-27 12:02:09,236 ERROR [imdbpy] /Users/mac/opt/anaconda3/lib/python3.9/site-packages/imdb/__init__.py:844: unknown information set \"genres\"\n"
     ]
    },
    {
     "name": "stdout",
     "output_type": "stream",
     "text": [
      "Piranhas:\n",
      "Genres: ['Crime', 'Drama']\n"
     ]
    },
    {
     "name": "stderr",
     "output_type": "stream",
     "text": [
      "2023-12-27 12:02:32,574 ERROR [imdbpy] /Users/mac/opt/anaconda3/lib/python3.9/site-packages/imdb/__init__.py:844: unknown information set \"genres\"\n"
     ]
    },
    {
     "name": "stdout",
     "output_type": "stream",
     "text": [
      "The Legend of Hawes:\n",
      "Genres: ['Action', 'Adventure', 'Drama', 'Fantasy', 'Romance']\n"
     ]
    },
    {
     "name": "stderr",
     "output_type": "stream",
     "text": [
      "2023-12-27 12:02:40,756 ERROR [imdbpy] /Users/mac/opt/anaconda3/lib/python3.9/site-packages/imdb/__init__.py:844: unknown information set \"genres\"\n"
     ]
    },
    {
     "name": "stdout",
     "output_type": "stream",
     "text": [
      "A Savannah Haunting:\n",
      "Genres: ['Horror']\n"
     ]
    },
    {
     "name": "stderr",
     "output_type": "stream",
     "text": [
      "2023-12-27 12:02:54,350 ERROR [imdbpy] /Users/mac/opt/anaconda3/lib/python3.9/site-packages/imdb/__init__.py:844: unknown information set \"genres\"\n"
     ]
    },
    {
     "name": "stdout",
     "output_type": "stream",
     "text": [
      "Mr. Dynamite: The Rise of James Brown:\n",
      "Genres: ['Documentary', 'Biography', 'Music']\n"
     ]
    },
    {
     "name": "stderr",
     "output_type": "stream",
     "text": [
      "2023-12-27 12:03:03,317 ERROR [imdbpy] /Users/mac/opt/anaconda3/lib/python3.9/site-packages/imdb/__init__.py:844: unknown information set \"genres\"\n"
     ]
    },
    {
     "name": "stdout",
     "output_type": "stream",
     "text": [
      "Beyond the Wasteland:\n",
      "Genres: ['Documentary']\n"
     ]
    },
    {
     "name": "stderr",
     "output_type": "stream",
     "text": [
      "2023-12-27 12:03:11,034 ERROR [imdbpy] /Users/mac/opt/anaconda3/lib/python3.9/site-packages/imdb/__init__.py:844: unknown information set \"genres\"\n"
     ]
    },
    {
     "name": "stdout",
     "output_type": "stream",
     "text": [
      "Ivanna:\n",
      "Genres: ['Horror', 'Mystery', 'Thriller']\n"
     ]
    },
    {
     "name": "stderr",
     "output_type": "stream",
     "text": [
      "2023-12-27 12:03:18,745 ERROR [imdbpy] /Users/mac/opt/anaconda3/lib/python3.9/site-packages/imdb/__init__.py:844: unknown information set \"genres\"\n"
     ]
    },
    {
     "name": "stdout",
     "output_type": "stream",
     "text": [
      "First Love:\n",
      "Genres: ['Drama', 'Romance']\n"
     ]
    },
    {
     "name": "stderr",
     "output_type": "stream",
     "text": [
      "2023-12-27 12:03:29,390 ERROR [imdbpy] /Users/mac/opt/anaconda3/lib/python3.9/site-packages/imdb/__init__.py:844: unknown information set \"genres\"\n"
     ]
    },
    {
     "name": "stdout",
     "output_type": "stream",
     "text": [
      "The Adventures of Paula Peril:\n",
      "Genres: ['Adventure']\n"
     ]
    },
    {
     "name": "stderr",
     "output_type": "stream",
     "text": [
      "2023-12-27 12:03:37,881 ERROR [imdbpy] /Users/mac/opt/anaconda3/lib/python3.9/site-packages/imdb/__init__.py:844: unknown information set \"genres\"\n"
     ]
    },
    {
     "name": "stdout",
     "output_type": "stream",
     "text": [
      "Sideworld: Damnation Village:\n",
      "Genres: ['Documentary', 'Horror']\n"
     ]
    },
    {
     "name": "stderr",
     "output_type": "stream",
     "text": [
      "2023-12-27 12:03:46,144 ERROR [imdbpy] /Users/mac/opt/anaconda3/lib/python3.9/site-packages/imdb/__init__.py:844: unknown information set \"genres\"\n"
     ]
    },
    {
     "name": "stdout",
     "output_type": "stream",
     "text": [
      "The Beast:\n",
      "Genres: ['Drama', 'Romance', 'Sci-Fi', 'Thriller']\n"
     ]
    },
    {
     "name": "stderr",
     "output_type": "stream",
     "text": [
      "2023-12-27 12:03:55,731 ERROR [imdbpy] /Users/mac/opt/anaconda3/lib/python3.9/site-packages/imdb/__init__.py:844: unknown information set \"genres\"\n"
     ]
    },
    {
     "name": "stdout",
     "output_type": "stream",
     "text": [
      "Nightmare Wedding:\n",
      "Genres: ['Action', 'Comedy', 'Horror', 'Mystery', 'Thriller']\n"
     ]
    },
    {
     "name": "stderr",
     "output_type": "stream",
     "text": [
      "2023-12-27 12:04:14,044 ERROR [imdbpy] /Users/mac/opt/anaconda3/lib/python3.9/site-packages/imdb/__init__.py:844: unknown information set \"genres\"\n"
     ]
    },
    {
     "name": "stdout",
     "output_type": "stream",
     "text": [
      "Argentina, 1985:\n",
      "Genres: ['Biography', 'Crime', 'Drama', 'History']\n"
     ]
    },
    {
     "name": "stderr",
     "output_type": "stream",
     "text": [
      "2023-12-27 12:04:30,494 ERROR [imdbpy] /Users/mac/opt/anaconda3/lib/python3.9/site-packages/imdb/__init__.py:844: unknown information set \"genres\"\n"
     ]
    },
    {
     "name": "stdout",
     "output_type": "stream",
     "text": [
      "Risen:\n",
      "Genres: ['Action', 'Drama', 'History', 'Mystery']\n"
     ]
    },
    {
     "name": "stderr",
     "output_type": "stream",
     "text": [
      "2023-12-27 12:04:42,031 ERROR [imdbpy] /Users/mac/opt/anaconda3/lib/python3.9/site-packages/imdb/__init__.py:844: unknown information set \"genres\"\n"
     ]
    },
    {
     "name": "stdout",
     "output_type": "stream",
     "text": [
      "Mindhorn:\n",
      "Genres: ['Comedy', 'Thriller']\n"
     ]
    },
    {
     "name": "stderr",
     "output_type": "stream",
     "text": [
      "2023-12-27 12:04:49,669 ERROR [imdbpy] /Users/mac/opt/anaconda3/lib/python3.9/site-packages/imdb/__init__.py:844: unknown information set \"genres\"\n"
     ]
    },
    {
     "name": "stdout",
     "output_type": "stream",
     "text": [
      "Deep Water:\n",
      "Genres: ['Drama', 'Mystery', 'Thriller']\n"
     ]
    },
    {
     "name": "stderr",
     "output_type": "stream",
     "text": [
      "2023-12-27 12:04:58,528 ERROR [imdbpy] /Users/mac/opt/anaconda3/lib/python3.9/site-packages/imdb/__init__.py:844: unknown information set \"genres\"\n"
     ]
    },
    {
     "name": "stdout",
     "output_type": "stream",
     "text": [
      "The Pilot: A Battle for Survival:\n",
      "Genres: ['Biography', 'Drama', 'History', 'War']\n"
     ]
    },
    {
     "name": "stderr",
     "output_type": "stream",
     "text": [
      "2023-12-27 12:05:07,820 ERROR [imdbpy] /Users/mac/opt/anaconda3/lib/python3.9/site-packages/imdb/__init__.py:844: unknown information set \"genres\"\n"
     ]
    },
    {
     "name": "stdout",
     "output_type": "stream",
     "text": [
      "The East:\n",
      "Genres: ['Adventure', 'Crime', 'Drama', 'Mystery', 'Thriller']\n"
     ]
    },
    {
     "name": "stderr",
     "output_type": "stream",
     "text": [
      "2023-12-27 12:05:23,422 ERROR [imdbpy] /Users/mac/opt/anaconda3/lib/python3.9/site-packages/imdb/__init__.py:844: unknown information set \"genres\"\n"
     ]
    },
    {
     "name": "stdout",
     "output_type": "stream",
     "text": [
      "Working Man:\n",
      "Genres: ['Drama']\n"
     ]
    },
    {
     "name": "stderr",
     "output_type": "stream",
     "text": [
      "2023-12-27 12:05:40,692 ERROR [imdbpy] /Users/mac/opt/anaconda3/lib/python3.9/site-packages/imdb/__init__.py:844: unknown information set \"genres\"\n"
     ]
    },
    {
     "name": "stdout",
     "output_type": "stream",
     "text": [
      "Immortal:\n",
      "Genres: ['Drama', 'Sci-Fi', 'Thriller']\n"
     ]
    },
    {
     "name": "stderr",
     "output_type": "stream",
     "text": [
      "2023-12-27 12:05:50,800 ERROR [imdbpy] /Users/mac/opt/anaconda3/lib/python3.9/site-packages/imdb/__init__.py:844: unknown information set \"genres\"\n"
     ]
    },
    {
     "name": "stdout",
     "output_type": "stream",
     "text": [
      "Curse of Crom: The Legend of Halloween:\n",
      "Genres: ['Fantasy', 'Horror']\n"
     ]
    },
    {
     "name": "stderr",
     "output_type": "stream",
     "text": [
      "2023-12-27 12:06:01,204 ERROR [imdbpy] /Users/mac/opt/anaconda3/lib/python3.9/site-packages/imdb/__init__.py:844: unknown information set \"genres\"\n"
     ]
    },
    {
     "name": "stdout",
     "output_type": "stream",
     "text": [
      "Line of Duty:\n",
      "Genres: ['Crime', 'Drama', 'Mystery', 'Thriller']\n"
     ]
    },
    {
     "name": "stderr",
     "output_type": "stream",
     "text": [
      "2023-12-27 12:06:07,957 ERROR [imdbpy] /Users/mac/opt/anaconda3/lib/python3.9/site-packages/imdb/__init__.py:844: unknown information set \"genres\"\n"
     ]
    },
    {
     "name": "stdout",
     "output_type": "stream",
     "text": [
      "Jallikattu:\n",
      "Genres: ['Action', 'Crime', 'Thriller']\n"
     ]
    },
    {
     "name": "stderr",
     "output_type": "stream",
     "text": [
      "2023-12-27 12:06:14,933 ERROR [imdbpy] /Users/mac/opt/anaconda3/lib/python3.9/site-packages/imdb/__init__.py:844: unknown information set \"genres\"\n"
     ]
    },
    {
     "name": "stdout",
     "output_type": "stream",
     "text": [
      "After Ever Happy:\n",
      "Genres: ['Drama', 'Romance']\n"
     ]
    },
    {
     "name": "stderr",
     "output_type": "stream",
     "text": [
      "2023-12-27 12:06:23,396 ERROR [imdbpy] /Users/mac/opt/anaconda3/lib/python3.9/site-packages/imdb/__init__.py:844: unknown information set \"genres\"\n"
     ]
    },
    {
     "name": "stdout",
     "output_type": "stream",
     "text": [
      "Bones and All:\n",
      "Genres: ['Drama', 'Horror', 'Romance']\n"
     ]
    },
    {
     "name": "stderr",
     "output_type": "stream",
     "text": [
      "2023-12-27 12:06:32,373 ERROR [imdbpy] /Users/mac/opt/anaconda3/lib/python3.9/site-packages/imdb/__init__.py:844: unknown information set \"genres\"\n"
     ]
    },
    {
     "name": "stdout",
     "output_type": "stream",
     "text": [
      "The Carpenter:\n",
      "Genres: ['Action']\n"
     ]
    },
    {
     "name": "stderr",
     "output_type": "stream",
     "text": [
      "2023-12-27 12:06:42,520 ERROR [imdbpy] /Users/mac/opt/anaconda3/lib/python3.9/site-packages/imdb/__init__.py:844: unknown information set \"genres\"\n"
     ]
    },
    {
     "name": "stdout",
     "output_type": "stream",
     "text": [
      "Emelie:\n",
      "Genres: ['Horror', 'Mystery', 'Thriller']\n"
     ]
    },
    {
     "name": "stderr",
     "output_type": "stream",
     "text": [
      "2023-12-27 12:06:55,725 ERROR [imdbpy] /Users/mac/opt/anaconda3/lib/python3.9/site-packages/imdb/__init__.py:844: unknown information set \"genres\"\n"
     ]
    },
    {
     "name": "stdout",
     "output_type": "stream",
     "text": [
      "The Christmas Train:\n",
      "Genres: ['Drama', 'Romance']\n"
     ]
    },
    {
     "name": "stderr",
     "output_type": "stream",
     "text": [
      "2023-12-27 12:07:13,809 ERROR [imdbpy] /Users/mac/opt/anaconda3/lib/python3.9/site-packages/imdb/__init__.py:844: unknown information set \"genres\"\n"
     ]
    },
    {
     "name": "stdout",
     "output_type": "stream",
     "text": [
      "Kursk:\n",
      "Genres: ['Action', 'Adventure', 'Drama', 'History', 'Thriller']\n"
     ]
    },
    {
     "name": "stderr",
     "output_type": "stream",
     "text": [
      "2023-12-27 12:07:24,459 ERROR [imdbpy] /Users/mac/opt/anaconda3/lib/python3.9/site-packages/imdb/__init__.py:844: unknown information set \"genres\"\n"
     ]
    },
    {
     "name": "stdout",
     "output_type": "stream",
     "text": [
      "Buffaloed:\n",
      "Genres: ['Comedy', 'Drama']\n"
     ]
    },
    {
     "name": "stderr",
     "output_type": "stream",
     "text": [
      "2023-12-27 12:07:48,066 ERROR [imdbpy] /Users/mac/opt/anaconda3/lib/python3.9/site-packages/imdb/__init__.py:844: unknown information set \"genres\"\n"
     ]
    },
    {
     "name": "stdout",
     "output_type": "stream",
     "text": [
      "Assassin's Creed:\n",
      "Genres: ['Action', 'Adventure', 'Sci-Fi']\n"
     ]
    },
    {
     "name": "stderr",
     "output_type": "stream",
     "text": [
      "2023-12-27 12:07:56,931 ERROR [imdbpy] /Users/mac/opt/anaconda3/lib/python3.9/site-packages/imdb/__init__.py:844: unknown information set \"genres\"\n"
     ]
    },
    {
     "name": "stdout",
     "output_type": "stream",
     "text": [
      "The Last Rescue:\n",
      "Genres: ['Action', 'Drama', 'War']\n"
     ]
    },
    {
     "name": "stderr",
     "output_type": "stream",
     "text": [
      "2023-12-27 12:08:08,451 ERROR [imdbpy] /Users/mac/opt/anaconda3/lib/python3.9/site-packages/imdb/__init__.py:844: unknown information set \"genres\"\n"
     ]
    },
    {
     "name": "stdout",
     "output_type": "stream",
     "text": [
      "Stacked:\n",
      "Genres: ['Comedy']\n"
     ]
    },
    {
     "name": "stderr",
     "output_type": "stream",
     "text": [
      "2023-12-27 12:08:15,808 ERROR [imdbpy] /Users/mac/opt/anaconda3/lib/python3.9/site-packages/imdb/__init__.py:844: unknown information set \"genres\"\n"
     ]
    },
    {
     "name": "stdout",
     "output_type": "stream",
     "text": [
      "Foster Boy:\n",
      "Genres: ['Drama', 'Mystery', 'Thriller']\n"
     ]
    },
    {
     "name": "stderr",
     "output_type": "stream",
     "text": [
      "2023-12-27 12:08:25,752 ERROR [imdbpy] /Users/mac/opt/anaconda3/lib/python3.9/site-packages/imdb/__init__.py:844: unknown information set \"genres\"\n"
     ]
    },
    {
     "name": "stdout",
     "output_type": "stream",
     "text": [
      "Sideworld: Terrors of the Sea:\n",
      "Genres: ['Documentary', 'Horror']\n"
     ]
    },
    {
     "name": "stderr",
     "output_type": "stream",
     "text": [
      "2023-12-27 12:08:37,355 ERROR [imdbpy] /Users/mac/opt/anaconda3/lib/python3.9/site-packages/imdb/__init__.py:844: unknown information set \"genres\"\n"
     ]
    },
    {
     "name": "stdout",
     "output_type": "stream",
     "text": [
      "The Rising Hawk:\n",
      "Genres: ['Action', 'Drama', 'History']\n"
     ]
    },
    {
     "name": "stderr",
     "output_type": "stream",
     "text": [
      "2023-12-27 12:08:55,752 ERROR [imdbpy] /Users/mac/opt/anaconda3/lib/python3.9/site-packages/imdb/__init__.py:844: unknown information set \"genres\"\n"
     ]
    },
    {
     "name": "stdout",
     "output_type": "stream",
     "text": [
      "Secrets on Sorority Row:\n",
      "Genres: ['Drama', 'Mystery', 'Thriller']\n"
     ]
    },
    {
     "name": "stderr",
     "output_type": "stream",
     "text": [
      "2023-12-27 12:09:15,834 ERROR [imdbpy] /Users/mac/opt/anaconda3/lib/python3.9/site-packages/imdb/__init__.py:844: unknown information set \"genres\"\n"
     ]
    },
    {
     "name": "stdout",
     "output_type": "stream",
     "text": [
      "St. Agatha:\n",
      "Genres: ['Horror', 'Thriller']\n"
     ]
    },
    {
     "name": "stderr",
     "output_type": "stream",
     "text": [
      "2023-12-27 12:09:33,396 ERROR [imdbpy] /Users/mac/opt/anaconda3/lib/python3.9/site-packages/imdb/__init__.py:844: unknown information set \"genres\"\n"
     ]
    },
    {
     "name": "stdout",
     "output_type": "stream",
     "text": [
      "Demonic:\n",
      "Genres: ['Horror', 'Mystery', 'Thriller']\n"
     ]
    },
    {
     "name": "stderr",
     "output_type": "stream",
     "text": [
      "2023-12-27 12:09:48,955 ERROR [imdbpy] /Users/mac/opt/anaconda3/lib/python3.9/site-packages/imdb/__init__.py:844: unknown information set \"genres\"\n"
     ]
    },
    {
     "name": "stdout",
     "output_type": "stream",
     "text": [
      "Baking All the Way:\n",
      "Genres: ['Comedy', 'Drama', 'Romance']\n"
     ]
    },
    {
     "name": "stderr",
     "output_type": "stream",
     "text": [
      "2023-12-27 12:10:03,672 ERROR [imdbpy] /Users/mac/opt/anaconda3/lib/python3.9/site-packages/imdb/__init__.py:844: unknown information set \"genres\"\n"
     ]
    },
    {
     "name": "stdout",
     "output_type": "stream",
     "text": [
      "Dead in a Week (Or Your Money Back):\n",
      "Genres: ['Comedy', 'Drama']\n"
     ]
    },
    {
     "name": "stderr",
     "output_type": "stream",
     "text": [
      "2023-12-27 12:10:11,199 ERROR [imdbpy] /Users/mac/opt/anaconda3/lib/python3.9/site-packages/imdb/__init__.py:844: unknown information set \"genres\"\n"
     ]
    },
    {
     "name": "stdout",
     "output_type": "stream",
     "text": [
      "Stranger Fruit:\n",
      "Genres: ['Documentary']\n"
     ]
    },
    {
     "name": "stderr",
     "output_type": "stream",
     "text": [
      "2023-12-27 12:10:19,410 ERROR [imdbpy] /Users/mac/opt/anaconda3/lib/python3.9/site-packages/imdb/__init__.py:844: unknown information set \"genres\"\n"
     ]
    },
    {
     "name": "stdout",
     "output_type": "stream",
     "text": [
      "The High Frontier: The Untold Story of Gerard K. O'Neill:\n",
      "Genres: ['Documentary']\n"
     ]
    },
    {
     "name": "stderr",
     "output_type": "stream",
     "text": [
      "2023-12-27 12:10:30,382 ERROR [imdbpy] /Users/mac/opt/anaconda3/lib/python3.9/site-packages/imdb/__init__.py:844: unknown information set \"genres\"\n"
     ]
    },
    {
     "name": "stdout",
     "output_type": "stream",
     "text": [
      "Shattered:\n",
      "Genres: ['Crime', 'Drama', 'Horror', 'Mystery', 'Thriller']\n"
     ]
    },
    {
     "name": "stderr",
     "output_type": "stream",
     "text": [
      "2023-12-27 12:10:41,169 ERROR [imdbpy] /Users/mac/opt/anaconda3/lib/python3.9/site-packages/imdb/__init__.py:844: unknown information set \"genres\"\n"
     ]
    },
    {
     "name": "stdout",
     "output_type": "stream",
     "text": [
      "The Big Take:\n",
      "Genres: ['Comedy', 'Thriller']\n"
     ]
    },
    {
     "name": "stderr",
     "output_type": "stream",
     "text": [
      "2023-12-27 12:10:49,417 ERROR [imdbpy] /Users/mac/opt/anaconda3/lib/python3.9/site-packages/imdb/__init__.py:844: unknown information set \"genres\"\n"
     ]
    },
    {
     "name": "stdout",
     "output_type": "stream",
     "text": [
      "The Upside:\n",
      "Genres: ['Comedy', 'Drama']\n"
     ]
    },
    {
     "name": "stderr",
     "output_type": "stream",
     "text": [
      "2023-12-27 12:10:59,372 ERROR [imdbpy] /Users/mac/opt/anaconda3/lib/python3.9/site-packages/imdb/__init__.py:844: unknown information set \"genres\"\n"
     ]
    },
    {
     "name": "stdout",
     "output_type": "stream",
     "text": [
      "Asterix: The Mansions of the Gods:\n",
      "Genres: ['Action', 'Adventure', 'Comedy', 'Fantasy']\n"
     ]
    },
    {
     "name": "stderr",
     "output_type": "stream",
     "text": [
      "2023-12-27 12:11:06,109 ERROR [imdbpy] /Users/mac/opt/anaconda3/lib/python3.9/site-packages/imdb/__init__.py:844: unknown information set \"genres\"\n"
     ]
    },
    {
     "name": "stdout",
     "output_type": "stream",
     "text": [
      "KKN di Desa Penari: Luwih Dowo, Luwih Medeni:\n",
      "Genres: ['Horror', 'Mystery', 'Thriller']\n"
     ]
    },
    {
     "name": "stderr",
     "output_type": "stream",
     "text": [
      "2023-12-27 12:11:12,923 ERROR [imdbpy] /Users/mac/opt/anaconda3/lib/python3.9/site-packages/imdb/__init__.py:844: unknown information set \"genres\"\n"
     ]
    },
    {
     "name": "stdout",
     "output_type": "stream",
     "text": [
      "Manbaby:\n",
      "Genres: ['Comedy']\n"
     ]
    },
    {
     "name": "stderr",
     "output_type": "stream",
     "text": [
      "2023-12-27 12:11:22,037 ERROR [imdbpy] /Users/mac/opt/anaconda3/lib/python3.9/site-packages/imdb/__init__.py:844: unknown information set \"genres\"\n"
     ]
    },
    {
     "name": "stdout",
     "output_type": "stream",
     "text": [
      "Jack of the Red Hearts:\n",
      "Genres: ['Drama', 'Family']\n"
     ]
    },
    {
     "name": "stderr",
     "output_type": "stream",
     "text": [
      "2023-12-27 12:11:45,519 ERROR [imdbpy] /Users/mac/opt/anaconda3/lib/python3.9/site-packages/imdb/__init__.py:844: unknown information set \"genres\"\n"
     ]
    },
    {
     "name": "stdout",
     "output_type": "stream",
     "text": [
      "Hunter Killer:\n",
      "Genres: ['Action', 'Thriller']\n"
     ]
    },
    {
     "name": "stderr",
     "output_type": "stream",
     "text": [
      "2023-12-27 12:11:56,762 ERROR [imdbpy] /Users/mac/opt/anaconda3/lib/python3.9/site-packages/imdb/__init__.py:844: unknown information set \"genres\"\n"
     ]
    },
    {
     "name": "stdout",
     "output_type": "stream",
     "text": [
      "The Purge:\n",
      "Genres: ['Horror', 'Sci-Fi', 'Thriller']\n"
     ]
    },
    {
     "name": "stderr",
     "output_type": "stream",
     "text": [
      "2023-12-27 12:12:06,350 ERROR [imdbpy] /Users/mac/opt/anaconda3/lib/python3.9/site-packages/imdb/__init__.py:844: unknown information set \"genres\"\n"
     ]
    },
    {
     "name": "stdout",
     "output_type": "stream",
     "text": [
      "Supremacy:\n",
      "Genres: ['Action', 'Mystery', 'Thriller']\n"
     ]
    },
    {
     "name": "stderr",
     "output_type": "stream",
     "text": [
      "2023-12-27 12:12:23,656 ERROR [imdbpy] /Users/mac/opt/anaconda3/lib/python3.9/site-packages/imdb/__init__.py:844: unknown information set \"genres\"\n"
     ]
    },
    {
     "name": "stdout",
     "output_type": "stream",
     "text": [
      "Runner Runner:\n",
      "Genres: ['Action', 'Drama', 'Mystery', 'Sci-Fi', 'Thriller']\n"
     ]
    },
    {
     "name": "stderr",
     "output_type": "stream",
     "text": [
      "2023-12-27 12:12:32,217 ERROR [imdbpy] /Users/mac/opt/anaconda3/lib/python3.9/site-packages/imdb/__init__.py:844: unknown information set \"genres\"\n"
     ]
    },
    {
     "name": "stdout",
     "output_type": "stream",
     "text": [
      "Fist Fight:\n",
      "Genres: ['Comedy']\n"
     ]
    },
    {
     "name": "stderr",
     "output_type": "stream",
     "text": [
      "2023-12-27 12:12:41,562 ERROR [imdbpy] /Users/mac/opt/anaconda3/lib/python3.9/site-packages/imdb/__init__.py:844: unknown information set \"genres\"\n"
     ]
    },
    {
     "name": "stdout",
     "output_type": "stream",
     "text": [
      "Arctic:\n",
      "Genres: ['Adventure', 'Drama']\n"
     ]
    },
    {
     "name": "stderr",
     "output_type": "stream",
     "text": [
      "2023-12-27 12:12:54,699 ERROR [imdbpy] /Users/mac/opt/anaconda3/lib/python3.9/site-packages/imdb/__init__.py:844: unknown information set \"genres\"\n"
     ]
    },
    {
     "name": "stdout",
     "output_type": "stream",
     "text": [
      "Savage:\n",
      "Genres: ['Action', 'Thriller']\n"
     ]
    },
    {
     "name": "stderr",
     "output_type": "stream",
     "text": [
      "2023-12-27 12:13:01,378 ERROR [imdbpy] /Users/mac/opt/anaconda3/lib/python3.9/site-packages/imdb/__init__.py:844: unknown information set \"genres\"\n"
     ]
    },
    {
     "name": "stdout",
     "output_type": "stream",
     "text": [
      "The Misfits:\n",
      "Genres: ['Action', 'Adventure', 'Comedy', 'Thriller']\n"
     ]
    },
    {
     "name": "stderr",
     "output_type": "stream",
     "text": [
      "2023-12-27 12:13:08,870 ERROR [imdbpy] /Users/mac/opt/anaconda3/lib/python3.9/site-packages/imdb/__init__.py:844: unknown information set \"genres\"\n"
     ]
    },
    {
     "name": "stdout",
     "output_type": "stream",
     "text": [
      "The Ones Below:\n",
      "Genres: ['Drama', 'Thriller']\n"
     ]
    },
    {
     "name": "stderr",
     "output_type": "stream",
     "text": [
      "2023-12-27 12:13:17,983 ERROR [imdbpy] /Users/mac/opt/anaconda3/lib/python3.9/site-packages/imdb/__init__.py:844: unknown information set \"genres\"\n"
     ]
    },
    {
     "name": "stdout",
     "output_type": "stream",
     "text": [
      "Blood Vessel:\n",
      "Genres: ['Adventure', 'Drama', 'Thriller']\n"
     ]
    },
    {
     "name": "stderr",
     "output_type": "stream",
     "text": [
      "2023-12-27 12:13:24,358 ERROR [imdbpy] /Users/mac/opt/anaconda3/lib/python3.9/site-packages/imdb/__init__.py:844: unknown information set \"genres\"\n"
     ]
    },
    {
     "name": "stdout",
     "output_type": "stream",
     "text": [
      "Impossible Dreamers:\n",
      "Genres: ['Documentary']\n"
     ]
    },
    {
     "name": "stderr",
     "output_type": "stream",
     "text": [
      "2023-12-27 12:13:30,771 ERROR [imdbpy] /Users/mac/opt/anaconda3/lib/python3.9/site-packages/imdb/__init__.py:844: unknown information set \"genres\"\n"
     ]
    },
    {
     "name": "stdout",
     "output_type": "stream",
     "text": [
      "Evil Eye:\n",
      "Genres: ['Comedy', 'Horror', 'Mystery', 'Romance', 'Thriller']\n"
     ]
    },
    {
     "name": "stderr",
     "output_type": "stream",
     "text": [
      "2023-12-27 12:13:39,374 ERROR [imdbpy] /Users/mac/opt/anaconda3/lib/python3.9/site-packages/imdb/__init__.py:844: unknown information set \"genres\"\n"
     ]
    },
    {
     "name": "stdout",
     "output_type": "stream",
     "text": [
      "Thee Debauchery Ball: Director's Cut:\n",
      "Genres: ['Documentary']\n"
     ]
    },
    {
     "name": "stderr",
     "output_type": "stream",
     "text": [
      "2023-12-27 12:13:49,297 ERROR [imdbpy] /Users/mac/opt/anaconda3/lib/python3.9/site-packages/imdb/__init__.py:844: unknown information set \"genres\"\n"
     ]
    },
    {
     "name": "stdout",
     "output_type": "stream",
     "text": [
      "The Ledge:\n",
      "Genres: ['Action', 'Adventure', 'Thriller']\n"
     ]
    },
    {
     "name": "stderr",
     "output_type": "stream",
     "text": [
      "2023-12-27 12:13:57,551 ERROR [imdbpy] /Users/mac/opt/anaconda3/lib/python3.9/site-packages/imdb/__init__.py:844: unknown information set \"genres\"\n"
     ]
    },
    {
     "name": "stdout",
     "output_type": "stream",
     "text": [
      "Changeland:\n",
      "Genres: ['Comedy', 'Drama']\n"
     ]
    },
    {
     "name": "stderr",
     "output_type": "stream",
     "text": [
      "2023-12-27 12:14:04,452 ERROR [imdbpy] /Users/mac/opt/anaconda3/lib/python3.9/site-packages/imdb/__init__.py:844: unknown information set \"genres\"\n"
     ]
    },
    {
     "name": "stdout",
     "output_type": "stream",
     "text": [
      "Division 19:\n",
      "Genres: ['Action', 'Sci-Fi', 'Thriller']\n"
     ]
    },
    {
     "name": "stderr",
     "output_type": "stream",
     "text": [
      "2023-12-27 12:14:11,664 ERROR [imdbpy] /Users/mac/opt/anaconda3/lib/python3.9/site-packages/imdb/__init__.py:844: unknown information set \"genres\"\n"
     ]
    },
    {
     "name": "stdout",
     "output_type": "stream",
     "text": [
      "The Boat:\n",
      "Genres: ['Biography', 'Drama', 'Sport']\n"
     ]
    },
    {
     "name": "stderr",
     "output_type": "stream",
     "text": [
      "2023-12-27 12:14:19,108 ERROR [imdbpy] /Users/mac/opt/anaconda3/lib/python3.9/site-packages/imdb/__init__.py:844: unknown information set \"genres\"\n"
     ]
    },
    {
     "name": "stdout",
     "output_type": "stream",
     "text": [
      "Walk of Shame:\n",
      "Genres: ['Comedy']\n"
     ]
    },
    {
     "name": "stderr",
     "output_type": "stream",
     "text": [
      "2023-12-27 12:14:29,011 ERROR [imdbpy] /Users/mac/opt/anaconda3/lib/python3.9/site-packages/imdb/__init__.py:844: unknown information set \"genres\"\n"
     ]
    },
    {
     "name": "stdout",
     "output_type": "stream",
     "text": [
      "Jack the Giant Slayer:\n",
      "Genres: ['Action', 'Adventure', 'Fantasy']\n"
     ]
    },
    {
     "name": "stderr",
     "output_type": "stream",
     "text": [
      "2023-12-27 12:14:35,068 ERROR [imdbpy] /Users/mac/opt/anaconda3/lib/python3.9/site-packages/imdb/__init__.py:844: unknown information set \"genres\"\n"
     ]
    },
    {
     "name": "stdout",
     "output_type": "stream",
     "text": [
      "Devil's Workshop:\n",
      "Genres: ['Drama', 'Horror']\n"
     ]
    },
    {
     "name": "stderr",
     "output_type": "stream",
     "text": [
      "2023-12-27 12:14:40,641 ERROR [imdbpy] /Users/mac/opt/anaconda3/lib/python3.9/site-packages/imdb/__init__.py:844: unknown information set \"genres\"\n"
     ]
    },
    {
     "name": "stdout",
     "output_type": "stream",
     "text": [
      "Flight/Risk:\n",
      "Genres: ['Thriller']\n"
     ]
    },
    {
     "name": "stderr",
     "output_type": "stream",
     "text": [
      "2023-12-27 12:14:47,044 ERROR [imdbpy] /Users/mac/opt/anaconda3/lib/python3.9/site-packages/imdb/__init__.py:844: unknown information set \"genres\"\n"
     ]
    },
    {
     "name": "stdout",
     "output_type": "stream",
     "text": [
      "It Came from Below:\n",
      "Genres: ['Horror', 'Mystery', 'Thriller']\n"
     ]
    },
    {
     "name": "stderr",
     "output_type": "stream",
     "text": [
      "2023-12-27 12:14:55,420 ERROR [imdbpy] /Users/mac/opt/anaconda3/lib/python3.9/site-packages/imdb/__init__.py:844: unknown information set \"genres\"\n"
     ]
    },
    {
     "name": "stdout",
     "output_type": "stream",
     "text": [
      "Dave Stevens: Drawn to Perfection:\n",
      "Genres: ['Documentary']\n"
     ]
    },
    {
     "name": "stderr",
     "output_type": "stream",
     "text": [
      "2023-12-27 12:15:02,677 ERROR [imdbpy] /Users/mac/opt/anaconda3/lib/python3.9/site-packages/imdb/__init__.py:844: unknown information set \"genres\"\n"
     ]
    },
    {
     "name": "stdout",
     "output_type": "stream",
     "text": [
      "I.T.:\n",
      "Genres: ['Drama', 'Family', 'Fantasy', 'Romance']\n"
     ]
    },
    {
     "name": "stderr",
     "output_type": "stream",
     "text": [
      "2023-12-27 12:15:10,926 ERROR [imdbpy] /Users/mac/opt/anaconda3/lib/python3.9/site-packages/imdb/__init__.py:844: unknown information set \"genres\"\n"
     ]
    },
    {
     "name": "stdout",
     "output_type": "stream",
     "text": [
      "The Hippopotamus:\n",
      "Genres: ['Comedy']\n"
     ]
    },
    {
     "name": "stderr",
     "output_type": "stream",
     "text": [
      "2023-12-27 12:15:18,282 ERROR [imdbpy] /Users/mac/opt/anaconda3/lib/python3.9/site-packages/imdb/__init__.py:844: unknown information set \"genres\"\n"
     ]
    },
    {
     "name": "stdout",
     "output_type": "stream",
     "text": [
      "Ash Is Purest White:\n",
      "Genres: ['Crime', 'Drama', 'Romance']\n"
     ]
    },
    {
     "name": "stderr",
     "output_type": "stream",
     "text": [
      "2023-12-27 12:15:25,853 ERROR [imdbpy] /Users/mac/opt/anaconda3/lib/python3.9/site-packages/imdb/__init__.py:844: unknown information set \"genres\"\n"
     ]
    },
    {
     "name": "stdout",
     "output_type": "stream",
     "text": [
      "Django:\n",
      "Genres: ['Drama', 'Western']\n"
     ]
    },
    {
     "name": "stderr",
     "output_type": "stream",
     "text": [
      "2023-12-27 12:15:32,900 ERROR [imdbpy] /Users/mac/opt/anaconda3/lib/python3.9/site-packages/imdb/__init__.py:844: unknown information set \"genres\"\n"
     ]
    },
    {
     "name": "stdout",
     "output_type": "stream",
     "text": [
      "Kick Out the Jams: The Story of XFM:\n",
      "Genres: ['Documentary']\n"
     ]
    },
    {
     "name": "stderr",
     "output_type": "stream",
     "text": [
      "2023-12-27 12:15:40,315 ERROR [imdbpy] /Users/mac/opt/anaconda3/lib/python3.9/site-packages/imdb/__init__.py:844: unknown information set \"genres\"\n"
     ]
    },
    {
     "name": "stdout",
     "output_type": "stream",
     "text": [
      "Superior:\n",
      "Genres: ['Drama', 'Thriller']\n"
     ]
    },
    {
     "name": "stderr",
     "output_type": "stream",
     "text": [
      "2023-12-27 12:15:50,011 ERROR [imdbpy] /Users/mac/opt/anaconda3/lib/python3.9/site-packages/imdb/__init__.py:844: unknown information set \"genres\"\n"
     ]
    },
    {
     "name": "stdout",
     "output_type": "stream",
     "text": [
      "Videoman:\n",
      "Genres: ['Comedy', 'Drama', 'Thriller']\n"
     ]
    },
    {
     "name": "stderr",
     "output_type": "stream",
     "text": [
      "2023-12-27 12:16:00,147 ERROR [imdbpy] /Users/mac/opt/anaconda3/lib/python3.9/site-packages/imdb/__init__.py:844: unknown information set \"genres\"\n"
     ]
    },
    {
     "name": "stdout",
     "output_type": "stream",
     "text": [
      "Neon:\n",
      "Genres: ['Animation', 'Action', 'Drama', 'Sci-Fi']\n"
     ]
    },
    {
     "name": "stderr",
     "output_type": "stream",
     "text": [
      "2023-12-27 12:16:06,677 ERROR [imdbpy] /Users/mac/opt/anaconda3/lib/python3.9/site-packages/imdb/__init__.py:844: unknown information set \"genres\"\n"
     ]
    },
    {
     "name": "stdout",
     "output_type": "stream",
     "text": [
      "Possum:\n",
      "Genres: ['Drama', 'Horror', 'Mystery', 'Thriller']\n"
     ]
    },
    {
     "name": "stderr",
     "output_type": "stream",
     "text": [
      "2023-12-27 12:16:14,920 ERROR [imdbpy] /Users/mac/opt/anaconda3/lib/python3.9/site-packages/imdb/__init__.py:844: unknown information set \"genres\"\n"
     ]
    },
    {
     "name": "stdout",
     "output_type": "stream",
     "text": [
      "Italy's Mystery Mountains:\n",
      "Genres: ['Not available']\n"
     ]
    },
    {
     "name": "stderr",
     "output_type": "stream",
     "text": [
      "2023-12-27 12:16:21,591 ERROR [imdbpy] /Users/mac/opt/anaconda3/lib/python3.9/site-packages/imdb/__init__.py:844: unknown information set \"genres\"\n"
     ]
    },
    {
     "name": "stdout",
     "output_type": "stream",
     "text": [
      "Tang:\n",
      "Genres: ['Biography', 'Drama', 'Music']\n"
     ]
    },
    {
     "name": "stderr",
     "output_type": "stream",
     "text": [
      "2023-12-27 12:16:28,103 ERROR [imdbpy] /Users/mac/opt/anaconda3/lib/python3.9/site-packages/imdb/__init__.py:844: unknown information set \"genres\"\n"
     ]
    },
    {
     "name": "stdout",
     "output_type": "stream",
     "text": [
      "Shark Killer:\n",
      "Genres: ['Action', 'Horror', 'Thriller']\n"
     ]
    },
    {
     "name": "stderr",
     "output_type": "stream",
     "text": [
      "2023-12-27 12:16:37,547 ERROR [imdbpy] /Users/mac/opt/anaconda3/lib/python3.9/site-packages/imdb/__init__.py:844: unknown information set \"genres\"\n"
     ]
    },
    {
     "name": "stdout",
     "output_type": "stream",
     "text": [
      "Honour:\n",
      "Genres: ['Action', 'Adventure', 'Comedy', 'Fantasy']\n"
     ]
    },
    {
     "name": "stderr",
     "output_type": "stream",
     "text": [
      "2023-12-27 12:16:44,148 ERROR [imdbpy] /Users/mac/opt/anaconda3/lib/python3.9/site-packages/imdb/__init__.py:844: unknown information set \"genres\"\n"
     ]
    },
    {
     "name": "stdout",
     "output_type": "stream",
     "text": [
      "Boyfriend Killer:\n",
      "Genres: ['Drama', 'Thriller']\n"
     ]
    },
    {
     "name": "stderr",
     "output_type": "stream",
     "text": [
      "2023-12-27 12:16:55,932 ERROR [imdbpy] /Users/mac/opt/anaconda3/lib/python3.9/site-packages/imdb/__init__.py:844: unknown information set \"genres\"\n"
     ]
    },
    {
     "name": "stdout",
     "output_type": "stream",
     "text": [
      "The Son:\n",
      "Genres: ['Action', 'Adventure', 'Drama', 'Sci-Fi', 'Thriller', 'War']\n"
     ]
    },
    {
     "name": "stderr",
     "output_type": "stream",
     "text": [
      "2023-12-27 12:17:02,136 ERROR [imdbpy] /Users/mac/opt/anaconda3/lib/python3.9/site-packages/imdb/__init__.py:844: unknown information set \"genres\"\n"
     ]
    },
    {
     "name": "stdout",
     "output_type": "stream",
     "text": [
      "Prince of Muck:\n",
      "Genres: ['Documentary']\n"
     ]
    },
    {
     "name": "stderr",
     "output_type": "stream",
     "text": [
      "2023-12-27 12:17:10,370 ERROR [imdbpy] /Users/mac/opt/anaconda3/lib/python3.9/site-packages/imdb/__init__.py:844: unknown information set \"genres\"\n"
     ]
    },
    {
     "name": "stdout",
     "output_type": "stream",
     "text": [
      "Billy Graham: An Extraordinary Journey:\n",
      "Genres: ['Documentary', 'Biography', 'Family', 'History']\n"
     ]
    },
    {
     "name": "stderr",
     "output_type": "stream",
     "text": [
      "2023-12-27 12:17:16,989 ERROR [imdbpy] /Users/mac/opt/anaconda3/lib/python3.9/site-packages/imdb/__init__.py:844: unknown information set \"genres\"\n"
     ]
    },
    {
     "name": "stdout",
     "output_type": "stream",
     "text": [
      "Prevenge:\n",
      "Genres: ['Comedy', 'Crime', 'Drama', 'Fantasy', 'Horror', 'Mystery', 'Thriller']\n"
     ]
    },
    {
     "name": "stderr",
     "output_type": "stream",
     "text": [
      "2023-12-27 12:17:24,716 ERROR [imdbpy] /Users/mac/opt/anaconda3/lib/python3.9/site-packages/imdb/__init__.py:844: unknown information set \"genres\"\n"
     ]
    },
    {
     "name": "stdout",
     "output_type": "stream",
     "text": [
      "Bloodthirsty:\n",
      "Genres: ['Drama', 'Horror', 'Music', 'Mystery', 'Thriller']\n"
     ]
    },
    {
     "name": "stderr",
     "output_type": "stream",
     "text": [
      "2023-12-27 12:17:32,466 ERROR [imdbpy] /Users/mac/opt/anaconda3/lib/python3.9/site-packages/imdb/__init__.py:844: unknown information set \"genres\"\n"
     ]
    },
    {
     "name": "stdout",
     "output_type": "stream",
     "text": [
      "Last Shift:\n",
      "Genres: ['Horror', 'Mystery']\n"
     ]
    },
    {
     "name": "stderr",
     "output_type": "stream",
     "text": [
      "2023-12-27 12:17:40,831 ERROR [imdbpy] /Users/mac/opt/anaconda3/lib/python3.9/site-packages/imdb/__init__.py:844: unknown information set \"genres\"\n"
     ]
    },
    {
     "name": "stdout",
     "output_type": "stream",
     "text": [
      "Swelter:\n",
      "Genres: ['Action', 'Crime', 'Drama', 'Thriller']\n"
     ]
    },
    {
     "name": "stderr",
     "output_type": "stream",
     "text": [
      "2023-12-27 12:17:51,760 ERROR [imdbpy] /Users/mac/opt/anaconda3/lib/python3.9/site-packages/imdb/__init__.py:844: unknown information set \"genres\"\n"
     ]
    },
    {
     "name": "stdout",
     "output_type": "stream",
     "text": [
      "The Girl Who Killed Her Parents:\n",
      "Genres: ['Crime', 'Drama', 'Thriller']\n"
     ]
    },
    {
     "name": "stderr",
     "output_type": "stream",
     "text": [
      "2023-12-27 12:17:59,413 ERROR [imdbpy] /Users/mac/opt/anaconda3/lib/python3.9/site-packages/imdb/__init__.py:844: unknown information set \"genres\"\n"
     ]
    },
    {
     "name": "stdout",
     "output_type": "stream",
     "text": [
      "Dead by Dawn:\n",
      "Genres: ['Horror']\n"
     ]
    },
    {
     "name": "stderr",
     "output_type": "stream",
     "text": [
      "2023-12-27 12:18:06,385 ERROR [imdbpy] /Users/mac/opt/anaconda3/lib/python3.9/site-packages/imdb/__init__.py:844: unknown information set \"genres\"\n"
     ]
    },
    {
     "name": "stdout",
     "output_type": "stream",
     "text": [
      "The Ash Lad: In the Hall of the Mountain King:\n",
      "Genres: ['Adventure', 'Family', 'Fantasy']\n"
     ]
    },
    {
     "name": "stderr",
     "output_type": "stream",
     "text": [
      "2023-12-27 12:18:13,520 ERROR [imdbpy] /Users/mac/opt/anaconda3/lib/python3.9/site-packages/imdb/__init__.py:844: unknown information set \"genres\"\n"
     ]
    },
    {
     "name": "stdout",
     "output_type": "stream",
     "text": [
      "Bar Fight:\n",
      "Genres: ['Comedy']\n"
     ]
    },
    {
     "name": "stderr",
     "output_type": "stream",
     "text": [
      "2023-12-27 12:18:21,287 ERROR [imdbpy] /Users/mac/opt/anaconda3/lib/python3.9/site-packages/imdb/__init__.py:844: unknown information set \"genres\"\n"
     ]
    },
    {
     "name": "stdout",
     "output_type": "stream",
     "text": [
      "Horror in the High Desert:\n",
      "Genres: ['Horror', 'Thriller']\n"
     ]
    },
    {
     "name": "stderr",
     "output_type": "stream",
     "text": [
      "2023-12-27 12:18:30,407 ERROR [imdbpy] /Users/mac/opt/anaconda3/lib/python3.9/site-packages/imdb/__init__.py:844: unknown information set \"genres\"\n"
     ]
    },
    {
     "name": "stdout",
     "output_type": "stream",
     "text": [
      "Finding Steve McQueen:\n",
      "Genres: ['Crime', 'Drama']\n"
     ]
    },
    {
     "name": "stderr",
     "output_type": "stream",
     "text": [
      "2023-12-27 12:18:38,391 ERROR [imdbpy] /Users/mac/opt/anaconda3/lib/python3.9/site-packages/imdb/__init__.py:844: unknown information set \"genres\"\n"
     ]
    },
    {
     "name": "stdout",
     "output_type": "stream",
     "text": [
      "Creating Christ:\n",
      "Genres: ['Comedy', 'Romance']\n"
     ]
    },
    {
     "name": "stderr",
     "output_type": "stream",
     "text": [
      "2023-12-27 12:18:44,670 ERROR [imdbpy] /Users/mac/opt/anaconda3/lib/python3.9/site-packages/imdb/__init__.py:844: unknown information set \"genres\"\n"
     ]
    },
    {
     "name": "stdout",
     "output_type": "stream",
     "text": [
      "Haunting of the Mary Celeste:\n",
      "Genres: ['Horror']\n"
     ]
    },
    {
     "name": "stderr",
     "output_type": "stream",
     "text": [
      "2023-12-27 12:18:53,077 ERROR [imdbpy] /Users/mac/opt/anaconda3/lib/python3.9/site-packages/imdb/__init__.py:844: unknown information set \"genres\"\n"
     ]
    },
    {
     "name": "stdout",
     "output_type": "stream",
     "text": [
      "The Unkind:\n",
      "Genres: ['Fantasy', 'Horror', 'Mystery', 'Thriller']\n"
     ]
    },
    {
     "name": "stderr",
     "output_type": "stream",
     "text": [
      "2023-12-27 12:19:09,416 ERROR [imdbpy] /Users/mac/opt/anaconda3/lib/python3.9/site-packages/imdb/__init__.py:844: unknown information set \"genres\"\n"
     ]
    },
    {
     "name": "stdout",
     "output_type": "stream",
     "text": [
      "The Intern:\n",
      "Genres: ['Comedy', 'Drama']\n"
     ]
    },
    {
     "name": "stderr",
     "output_type": "stream",
     "text": [
      "2023-12-27 12:19:32,320 ERROR [imdbpy] /Users/mac/opt/anaconda3/lib/python3.9/site-packages/imdb/__init__.py:844: unknown information set \"genres\"\n"
     ]
    },
    {
     "name": "stdout",
     "output_type": "stream",
     "text": [
      "Shotgun Wedding:\n",
      "Genres: ['Action', 'Comedy', 'Romance']\n"
     ]
    },
    {
     "name": "stderr",
     "output_type": "stream",
     "text": [
      "2023-12-27 12:19:38,862 ERROR [imdbpy] /Users/mac/opt/anaconda3/lib/python3.9/site-packages/imdb/__init__.py:844: unknown information set \"genres\"\n"
     ]
    },
    {
     "name": "stdout",
     "output_type": "stream",
     "text": [
      "Soorarai Pottru:\n",
      "Genres: ['Action', 'Drama']\n"
     ]
    },
    {
     "name": "stderr",
     "output_type": "stream",
     "text": [
      "2023-12-27 12:19:50,085 ERROR [imdbpy] /Users/mac/opt/anaconda3/lib/python3.9/site-packages/imdb/__init__.py:844: unknown information set \"genres\"\n"
     ]
    },
    {
     "name": "stdout",
     "output_type": "stream",
     "text": [
      "Rot:\n",
      "Genres: ['Animation', 'Adventure', 'Comedy', 'Drama', 'Family', 'Fantasy']\n"
     ]
    },
    {
     "name": "stderr",
     "output_type": "stream",
     "text": [
      "2023-12-27 12:19:58,006 ERROR [imdbpy] /Users/mac/opt/anaconda3/lib/python3.9/site-packages/imdb/__init__.py:844: unknown information set \"genres\"\n"
     ]
    },
    {
     "name": "stdout",
     "output_type": "stream",
     "text": [
      "Come Away:\n",
      "Genres: ['Adventure', 'Drama', 'Fantasy']\n"
     ]
    },
    {
     "name": "stderr",
     "output_type": "stream",
     "text": [
      "2023-12-27 12:20:15,703 ERROR [imdbpy] /Users/mac/opt/anaconda3/lib/python3.9/site-packages/imdb/__init__.py:844: unknown information set \"genres\"\n"
     ]
    },
    {
     "name": "stdout",
     "output_type": "stream",
     "text": [
      "H Is for Happiness:\n",
      "Genres: ['Comedy', 'Drama', 'Family']\n"
     ]
    },
    {
     "name": "stderr",
     "output_type": "stream",
     "text": [
      "2023-12-27 12:20:23,001 ERROR [imdbpy] /Users/mac/opt/anaconda3/lib/python3.9/site-packages/imdb/__init__.py:844: unknown information set \"genres\"\n"
     ]
    },
    {
     "name": "stdout",
     "output_type": "stream",
     "text": [
      "Chasing Happiness:\n",
      "Genres: ['Documentary', 'Biography', 'Music']\n"
     ]
    },
    {
     "name": "stderr",
     "output_type": "stream",
     "text": [
      "2023-12-27 12:20:32,325 ERROR [imdbpy] /Users/mac/opt/anaconda3/lib/python3.9/site-packages/imdb/__init__.py:844: unknown information set \"genres\"\n"
     ]
    },
    {
     "name": "stdout",
     "output_type": "stream",
     "text": [
      "The Haunted Hotel:\n",
      "Genres: ['Comedy', 'Drama', 'Horror', 'Romance']\n"
     ]
    },
    {
     "name": "stderr",
     "output_type": "stream",
     "text": [
      "2023-12-27 12:20:45,359 ERROR [imdbpy] /Users/mac/opt/anaconda3/lib/python3.9/site-packages/imdb/__init__.py:844: unknown information set \"genres\"\n"
     ]
    },
    {
     "name": "stdout",
     "output_type": "stream",
     "text": [
      "Pixels:\n",
      "Genres: ['Action', 'Comedy', 'Fantasy', 'Sci-Fi']\n"
     ]
    },
    {
     "name": "stderr",
     "output_type": "stream",
     "text": [
      "2023-12-27 12:20:53,097 ERROR [imdbpy] /Users/mac/opt/anaconda3/lib/python3.9/site-packages/imdb/__init__.py:844: unknown information set \"genres\"\n"
     ]
    },
    {
     "name": "stdout",
     "output_type": "stream",
     "text": [
      "Vollendet:\n",
      "Genres: ['Short', 'Drama']\n"
     ]
    },
    {
     "name": "stderr",
     "output_type": "stream",
     "text": [
      "2023-12-27 12:21:00,977 ERROR [imdbpy] /Users/mac/opt/anaconda3/lib/python3.9/site-packages/imdb/__init__.py:844: unknown information set \"genres\"\n"
     ]
    },
    {
     "name": "stdout",
     "output_type": "stream",
     "text": [
      "The Party's Just Beginning:\n",
      "Genres: ['Comedy', 'Drama']\n"
     ]
    },
    {
     "name": "stderr",
     "output_type": "stream",
     "text": [
      "2023-12-27 12:21:09,443 ERROR [imdbpy] /Users/mac/opt/anaconda3/lib/python3.9/site-packages/imdb/__init__.py:844: unknown information set \"genres\"\n"
     ]
    },
    {
     "name": "stdout",
     "output_type": "stream",
     "text": [
      "Jurassic Domination:\n",
      "Genres: ['Action', 'Adventure', 'Horror', 'Sci-Fi', 'Thriller']\n"
     ]
    },
    {
     "name": "stderr",
     "output_type": "stream",
     "text": [
      "2023-12-27 12:21:21,839 ERROR [imdbpy] /Users/mac/opt/anaconda3/lib/python3.9/site-packages/imdb/__init__.py:844: unknown information set \"genres\"\n"
     ]
    },
    {
     "name": "stdout",
     "output_type": "stream",
     "text": [
      "Flirts:\n",
      "Genres: ['Comedy']\n"
     ]
    },
    {
     "name": "stderr",
     "output_type": "stream",
     "text": [
      "2023-12-27 12:21:30,496 ERROR [imdbpy] /Users/mac/opt/anaconda3/lib/python3.9/site-packages/imdb/__init__.py:844: unknown information set \"genres\"\n"
     ]
    },
    {
     "name": "stdout",
     "output_type": "stream",
     "text": [
      "Sinister Switch:\n",
      "Genres: ['Thriller']\n"
     ]
    },
    {
     "name": "stderr",
     "output_type": "stream",
     "text": [
      "2023-12-27 12:21:38,765 ERROR [imdbpy] /Users/mac/opt/anaconda3/lib/python3.9/site-packages/imdb/__init__.py:844: unknown information set \"genres\"\n"
     ]
    },
    {
     "name": "stdout",
     "output_type": "stream",
     "text": [
      "The Modern Way:\n",
      "Genres: ['Drama']\n"
     ]
    },
    {
     "name": "stderr",
     "output_type": "stream",
     "text": [
      "2023-12-27 12:21:43,838 ERROR [imdbpy] /Users/mac/opt/anaconda3/lib/python3.9/site-packages/imdb/__init__.py:844: unknown information set \"genres\"\n"
     ]
    },
    {
     "name": "stdout",
     "output_type": "stream",
     "text": [
      "Christmas in Paradise:\n",
      "Genres: ['Comedy']\n"
     ]
    },
    {
     "name": "stderr",
     "output_type": "stream",
     "text": [
      "2023-12-27 12:21:51,277 ERROR [imdbpy] /Users/mac/opt/anaconda3/lib/python3.9/site-packages/imdb/__init__.py:844: unknown information set \"genres\"\n"
     ]
    },
    {
     "name": "stdout",
     "output_type": "stream",
     "text": [
      "Floating!:\n",
      "Genres: ['Drama']\n"
     ]
    },
    {
     "name": "stderr",
     "output_type": "stream",
     "text": [
      "2023-12-27 12:21:57,102 ERROR [imdbpy] /Users/mac/opt/anaconda3/lib/python3.9/site-packages/imdb/__init__.py:844: unknown information set \"genres\"\n"
     ]
    },
    {
     "name": "stdout",
     "output_type": "stream",
     "text": [
      "Oildale:\n",
      "Genres: ['Drama', 'Family', 'Music']\n"
     ]
    },
    {
     "name": "stderr",
     "output_type": "stream",
     "text": [
      "2023-12-27 12:22:03,436 ERROR [imdbpy] /Users/mac/opt/anaconda3/lib/python3.9/site-packages/imdb/__init__.py:844: unknown information set \"genres\"\n"
     ]
    },
    {
     "name": "stdout",
     "output_type": "stream",
     "text": [
      "Whispers:\n",
      "Genres: ['Drama']\n"
     ]
    },
    {
     "name": "stderr",
     "output_type": "stream",
     "text": [
      "2023-12-27 12:22:12,817 ERROR [imdbpy] /Users/mac/opt/anaconda3/lib/python3.9/site-packages/imdb/__init__.py:844: unknown information set \"genres\"\n"
     ]
    },
    {
     "name": "stdout",
     "output_type": "stream",
     "text": [
      "Scarecrow:\n",
      "Genres: ['Drama']\n"
     ]
    },
    {
     "name": "stderr",
     "output_type": "stream",
     "text": [
      "2023-12-27 12:22:20,779 ERROR [imdbpy] /Users/mac/opt/anaconda3/lib/python3.9/site-packages/imdb/__init__.py:844: unknown information set \"genres\"\n"
     ]
    },
    {
     "name": "stdout",
     "output_type": "stream",
     "text": [
      "Red Carpet:\n",
      "Genres: ['Crime', 'Music', 'Thriller']\n"
     ]
    },
    {
     "name": "stderr",
     "output_type": "stream",
     "text": [
      "2023-12-27 12:22:28,161 ERROR [imdbpy] /Users/mac/opt/anaconda3/lib/python3.9/site-packages/imdb/__init__.py:844: unknown information set \"genres\"\n"
     ]
    },
    {
     "name": "stdout",
     "output_type": "stream",
     "text": [
      "Pelé: Birth of a Legend:\n",
      "Genres: ['Biography', 'Drama', 'Sport']\n"
     ]
    },
    {
     "name": "stderr",
     "output_type": "stream",
     "text": [
      "2023-12-27 12:22:36,347 ERROR [imdbpy] /Users/mac/opt/anaconda3/lib/python3.9/site-packages/imdb/__init__.py:844: unknown information set \"genres\"\n"
     ]
    },
    {
     "name": "stdout",
     "output_type": "stream",
     "text": [
      "Demons at Dawn:\n",
      "Genres: ['Horror']\n"
     ]
    },
    {
     "name": "stderr",
     "output_type": "stream",
     "text": [
      "2023-12-27 12:22:43,492 ERROR [imdbpy] /Users/mac/opt/anaconda3/lib/python3.9/site-packages/imdb/__init__.py:844: unknown information set \"genres\"\n"
     ]
    },
    {
     "name": "stdout",
     "output_type": "stream",
     "text": [
      "Age of Summer:\n",
      "Genres: ['Comedy', 'Drama', 'Romance']\n"
     ]
    },
    {
     "name": "stderr",
     "output_type": "stream",
     "text": [
      "2023-12-27 12:22:51,007 ERROR [imdbpy] /Users/mac/opt/anaconda3/lib/python3.9/site-packages/imdb/__init__.py:844: unknown information set \"genres\"\n"
     ]
    },
    {
     "name": "stdout",
     "output_type": "stream",
     "text": [
      "Gates of Darkness:\n",
      "Genres: ['Drama', 'Horror', 'Mystery', 'Romance', 'Thriller']\n"
     ]
    },
    {
     "name": "stderr",
     "output_type": "stream",
     "text": [
      "2023-12-27 12:22:58,926 ERROR [imdbpy] /Users/mac/opt/anaconda3/lib/python3.9/site-packages/imdb/__init__.py:844: unknown information set \"genres\"\n"
     ]
    },
    {
     "name": "stdout",
     "output_type": "stream",
     "text": [
      "A Boy Called Sailboat:\n",
      "Genres: ['Comedy', 'Drama', 'Family']\n"
     ]
    },
    {
     "name": "stderr",
     "output_type": "stream",
     "text": [
      "2023-12-27 12:23:05,054 ERROR [imdbpy] /Users/mac/opt/anaconda3/lib/python3.9/site-packages/imdb/__init__.py:844: unknown information set \"genres\"\n"
     ]
    },
    {
     "name": "stdout",
     "output_type": "stream",
     "text": [
      "Goatling: Son of Satan:\n",
      "Genres: ['Horror']\n"
     ]
    },
    {
     "name": "stderr",
     "output_type": "stream",
     "text": [
      "2023-12-27 12:23:11,826 ERROR [imdbpy] /Users/mac/opt/anaconda3/lib/python3.9/site-packages/imdb/__init__.py:844: unknown information set \"genres\"\n"
     ]
    },
    {
     "name": "stdout",
     "output_type": "stream",
     "text": [
      "Depraved:\n",
      "Genres: ['Drama', 'Horror', 'Thriller']\n"
     ]
    },
    {
     "name": "stderr",
     "output_type": "stream",
     "text": [
      "2023-12-27 12:23:18,857 ERROR [imdbpy] /Users/mac/opt/anaconda3/lib/python3.9/site-packages/imdb/__init__.py:844: unknown information set \"genres\"\n"
     ]
    },
    {
     "name": "stdout",
     "output_type": "stream",
     "text": [
      "Dark Beacon:\n",
      "Genres: ['Horror', 'Thriller']\n"
     ]
    },
    {
     "name": "stderr",
     "output_type": "stream",
     "text": [
      "2023-12-27 12:23:27,829 ERROR [imdbpy] /Users/mac/opt/anaconda3/lib/python3.9/site-packages/imdb/__init__.py:844: unknown information set \"genres\"\n"
     ]
    },
    {
     "name": "stdout",
     "output_type": "stream",
     "text": [
      "Europa:\n",
      "Genres: ['Drama', 'Thriller']\n"
     ]
    },
    {
     "name": "stderr",
     "output_type": "stream",
     "text": [
      "2023-12-27 12:23:39,850 ERROR [imdbpy] /Users/mac/opt/anaconda3/lib/python3.9/site-packages/imdb/__init__.py:844: unknown information set \"genres\"\n"
     ]
    },
    {
     "name": "stdout",
     "output_type": "stream",
     "text": [
      "The Curse of Hobbes House:\n",
      "Genres: ['Drama', 'Horror']\n"
     ]
    },
    {
     "name": "stderr",
     "output_type": "stream",
     "text": [
      "2023-12-27 12:23:47,475 ERROR [imdbpy] /Users/mac/opt/anaconda3/lib/python3.9/site-packages/imdb/__init__.py:844: unknown information set \"genres\"\n"
     ]
    },
    {
     "name": "stdout",
     "output_type": "stream",
     "text": [
      "Spotlight on Christmas:\n",
      "Genres: ['Drama', 'Romance']\n"
     ]
    },
    {
     "name": "stderr",
     "output_type": "stream",
     "text": [
      "2023-12-27 12:23:56,661 ERROR [imdbpy] /Users/mac/opt/anaconda3/lib/python3.9/site-packages/imdb/__init__.py:844: unknown information set \"genres\"\n"
     ]
    },
    {
     "name": "stdout",
     "output_type": "stream",
     "text": [
      "Softie:\n",
      "Genres: ['Drama']\n"
     ]
    },
    {
     "name": "stderr",
     "output_type": "stream",
     "text": [
      "2023-12-27 12:24:03,170 ERROR [imdbpy] /Users/mac/opt/anaconda3/lib/python3.9/site-packages/imdb/__init__.py:844: unknown information set \"genres\"\n"
     ]
    },
    {
     "name": "stdout",
     "output_type": "stream",
     "text": [
      "Shelter:\n",
      "Genres: ['Horror', 'Thriller']\n"
     ]
    },
    {
     "name": "stderr",
     "output_type": "stream",
     "text": [
      "2023-12-27 12:24:09,823 ERROR [imdbpy] /Users/mac/opt/anaconda3/lib/python3.9/site-packages/imdb/__init__.py:844: unknown information set \"genres\"\n"
     ]
    },
    {
     "name": "stdout",
     "output_type": "stream",
     "text": [
      "Catherine Called Birdy:\n",
      "Genres: ['Adventure']\n"
     ]
    },
    {
     "name": "stderr",
     "output_type": "stream",
     "text": [
      "2023-12-27 12:24:18,635 ERROR [imdbpy] /Users/mac/opt/anaconda3/lib/python3.9/site-packages/imdb/__init__.py:844: unknown information set \"genres\"\n"
     ]
    },
    {
     "name": "stdout",
     "output_type": "stream",
     "text": [
      "Once Upon a Time in... Hollywierd:\n",
      "Genres: ['Comedy']\n"
     ]
    },
    {
     "name": "stderr",
     "output_type": "stream",
     "text": [
      "2023-12-27 12:24:27,095 ERROR [imdbpy] /Users/mac/opt/anaconda3/lib/python3.9/site-packages/imdb/__init__.py:844: unknown information set \"genres\"\n"
     ]
    },
    {
     "name": "stdout",
     "output_type": "stream",
     "text": [
      "Intersect:\n",
      "Genres: ['Horror', 'Sci-Fi', 'Thriller']\n"
     ]
    },
    {
     "name": "stderr",
     "output_type": "stream",
     "text": [
      "2023-12-27 12:24:37,939 ERROR [imdbpy] /Users/mac/opt/anaconda3/lib/python3.9/site-packages/imdb/__init__.py:844: unknown information set \"genres\"\n"
     ]
    },
    {
     "name": "stdout",
     "output_type": "stream",
     "text": [
      "A Hero:\n",
      "Genres: ['Drama']\n"
     ]
    },
    {
     "name": "stderr",
     "output_type": "stream",
     "text": [
      "2023-12-27 12:24:46,728 ERROR [imdbpy] /Users/mac/opt/anaconda3/lib/python3.9/site-packages/imdb/__init__.py:844: unknown information set \"genres\"\n"
     ]
    },
    {
     "name": "stdout",
     "output_type": "stream",
     "text": [
      "Ponniyin Selvan: Part I:\n",
      "Genres: ['Action', 'Adventure', 'Drama']\n"
     ]
    },
    {
     "name": "stderr",
     "output_type": "stream",
     "text": [
      "2023-12-27 12:24:54,703 ERROR [imdbpy] /Users/mac/opt/anaconda3/lib/python3.9/site-packages/imdb/__init__.py:844: unknown information set \"genres\"\n"
     ]
    },
    {
     "name": "stdout",
     "output_type": "stream",
     "text": [
      "Borrego:\n",
      "Genres: ['Thriller']\n"
     ]
    },
    {
     "name": "stderr",
     "output_type": "stream",
     "text": [
      "2023-12-27 12:25:01,229 ERROR [imdbpy] /Users/mac/opt/anaconda3/lib/python3.9/site-packages/imdb/__init__.py:844: unknown information set \"genres\"\n"
     ]
    },
    {
     "name": "stdout",
     "output_type": "stream",
     "text": [
      "Quintessentially British:\n",
      "Genres: ['Documentary']\n"
     ]
    },
    {
     "name": "stderr",
     "output_type": "stream",
     "text": [
      "2023-12-27 12:25:09,527 ERROR [imdbpy] /Users/mac/opt/anaconda3/lib/python3.9/site-packages/imdb/__init__.py:844: unknown information set \"genres\"\n"
     ]
    },
    {
     "name": "stdout",
     "output_type": "stream",
     "text": [
      "Strangeways Here We Come:\n",
      "Genres: ['Comedy', 'Crime']\n"
     ]
    },
    {
     "name": "stderr",
     "output_type": "stream",
     "text": [
      "2023-12-27 12:25:15,650 ERROR [imdbpy] /Users/mac/opt/anaconda3/lib/python3.9/site-packages/imdb/__init__.py:844: unknown information set \"genres\"\n"
     ]
    },
    {
     "name": "stdout",
     "output_type": "stream",
     "text": [
      "The Preppie Connection:\n",
      "Genres: ['Crime', 'Drama']\n"
     ]
    },
    {
     "name": "stderr",
     "output_type": "stream",
     "text": [
      "2023-12-27 12:25:24,101 ERROR [imdbpy] /Users/mac/opt/anaconda3/lib/python3.9/site-packages/imdb/__init__.py:844: unknown information set \"genres\"\n"
     ]
    },
    {
     "name": "stdout",
     "output_type": "stream",
     "text": [
      "Winterskin:\n",
      "Genres: ['Action', 'Fantasy', 'Horror', 'Mystery', 'Thriller']\n"
     ]
    },
    {
     "name": "stderr",
     "output_type": "stream",
     "text": [
      "2023-12-27 12:25:39,860 ERROR [imdbpy] /Users/mac/opt/anaconda3/lib/python3.9/site-packages/imdb/__init__.py:844: unknown information set \"genres\"\n"
     ]
    },
    {
     "name": "stdout",
     "output_type": "stream",
     "text": [
      "Paul Blart: Mall Cop 2:\n",
      "Genres: ['Action', 'Comedy', 'Crime', 'Family']\n"
     ]
    },
    {
     "name": "stderr",
     "output_type": "stream",
     "text": [
      "2023-12-27 12:25:46,697 ERROR [imdbpy] /Users/mac/opt/anaconda3/lib/python3.9/site-packages/imdb/__init__.py:844: unknown information set \"genres\"\n"
     ]
    },
    {
     "name": "stdout",
     "output_type": "stream",
     "text": [
      "Electric Jesus:\n",
      "Genres: ['Comedy', 'Drama', 'Music']\n"
     ]
    },
    {
     "name": "stderr",
     "output_type": "stream",
     "text": [
      "2023-12-27 12:26:01,814 ERROR [imdbpy] /Users/mac/opt/anaconda3/lib/python3.9/site-packages/imdb/__init__.py:844: unknown information set \"genres\"\n"
     ]
    },
    {
     "name": "stdout",
     "output_type": "stream",
     "text": [
      "The Journey:\n",
      "Genres: ['Adventure', 'Fantasy']\n"
     ]
    },
    {
     "name": "stderr",
     "output_type": "stream",
     "text": [
      "2023-12-27 12:26:08,529 ERROR [imdbpy] /Users/mac/opt/anaconda3/lib/python3.9/site-packages/imdb/__init__.py:844: unknown information set \"genres\"\n"
     ]
    },
    {
     "name": "stdout",
     "output_type": "stream",
     "text": [
      "Proximity:\n",
      "Genres: ['Drama', 'Sci-Fi']\n"
     ]
    },
    {
     "name": "stderr",
     "output_type": "stream",
     "text": [
      "2023-12-27 12:26:15,861 ERROR [imdbpy] /Users/mac/opt/anaconda3/lib/python3.9/site-packages/imdb/__init__.py:844: unknown information set \"genres\"\n"
     ]
    },
    {
     "name": "stdout",
     "output_type": "stream",
     "text": [
      "Fortress: Sniper's Eye:\n",
      "Genres: ['Action', 'Thriller']\n"
     ]
    },
    {
     "name": "stderr",
     "output_type": "stream",
     "text": [
      "2023-12-27 12:26:22,425 ERROR [imdbpy] /Users/mac/opt/anaconda3/lib/python3.9/site-packages/imdb/__init__.py:844: unknown information set \"genres\"\n"
     ]
    },
    {
     "name": "stdout",
     "output_type": "stream",
     "text": [
      "Green White Green:\n",
      "Genres: ['Animation', 'Action', 'Adventure', 'Fantasy']\n"
     ]
    },
    {
     "name": "stderr",
     "output_type": "stream",
     "text": [
      "2023-12-27 12:26:30,471 ERROR [imdbpy] /Users/mac/opt/anaconda3/lib/python3.9/site-packages/imdb/__init__.py:844: unknown information set \"genres\"\n"
     ]
    },
    {
     "name": "stdout",
     "output_type": "stream",
     "text": [
      "The Protégé:\n",
      "Genres: ['Action', 'Thriller']\n"
     ]
    },
    {
     "name": "stderr",
     "output_type": "stream",
     "text": [
      "2023-12-27 12:26:47,686 ERROR [imdbpy] /Users/mac/opt/anaconda3/lib/python3.9/site-packages/imdb/__init__.py:844: unknown information set \"genres\"\n"
     ]
    },
    {
     "name": "stdout",
     "output_type": "stream",
     "text": [
      "The Postcard Killings:\n",
      "Genres: ['Crime', 'Drama', 'Mystery', 'Thriller']\n"
     ]
    },
    {
     "name": "stderr",
     "output_type": "stream",
     "text": [
      "2023-12-27 12:27:04,654 ERROR [imdbpy] /Users/mac/opt/anaconda3/lib/python3.9/site-packages/imdb/__init__.py:844: unknown information set \"genres\"\n"
     ]
    },
    {
     "name": "stdout",
     "output_type": "stream",
     "text": [
      "Bellbottom:\n",
      "Genres: ['Action', 'Thriller']\n"
     ]
    },
    {
     "name": "stderr",
     "output_type": "stream",
     "text": [
      "2023-12-27 12:27:13,245 ERROR [imdbpy] /Users/mac/opt/anaconda3/lib/python3.9/site-packages/imdb/__init__.py:844: unknown information set \"genres\"\n"
     ]
    },
    {
     "name": "stdout",
     "output_type": "stream",
     "text": [
      "A Dark Place:\n",
      "Genres: ['Mystery', 'Thriller']\n"
     ]
    },
    {
     "name": "stderr",
     "output_type": "stream",
     "text": [
      "2023-12-27 12:27:23,977 ERROR [imdbpy] /Users/mac/opt/anaconda3/lib/python3.9/site-packages/imdb/__init__.py:844: unknown information set \"genres\"\n"
     ]
    },
    {
     "name": "stdout",
     "output_type": "stream",
     "text": [
      "Killbird:\n",
      "Genres: ['Mystery', 'Thriller']\n"
     ]
    },
    {
     "name": "stderr",
     "output_type": "stream",
     "text": [
      "2023-12-27 12:27:44,165 ERROR [imdbpy] /Users/mac/opt/anaconda3/lib/python3.9/site-packages/imdb/__init__.py:844: unknown information set \"genres\"\n"
     ]
    },
    {
     "name": "stdout",
     "output_type": "stream",
     "text": [
      "What We Did on Our Holiday:\n",
      "Genres: ['Comedy', 'Drama']\n"
     ]
    },
    {
     "name": "stderr",
     "output_type": "stream",
     "text": [
      "2023-12-27 12:27:53,242 ERROR [imdbpy] /Users/mac/opt/anaconda3/lib/python3.9/site-packages/imdb/__init__.py:844: unknown information set \"genres\"\n"
     ]
    },
    {
     "name": "stdout",
     "output_type": "stream",
     "text": [
      "DriverX:\n",
      "Genres: ['Drama']\n"
     ]
    },
    {
     "name": "stderr",
     "output_type": "stream",
     "text": [
      "2023-12-27 12:27:59,389 ERROR [imdbpy] /Users/mac/opt/anaconda3/lib/python3.9/site-packages/imdb/__init__.py:844: unknown information set \"genres\"\n"
     ]
    },
    {
     "name": "stdout",
     "output_type": "stream",
     "text": [
      "Everything in the End:\n",
      "Genres: ['Comedy', 'Crime', 'Drama']\n"
     ]
    },
    {
     "name": "stderr",
     "output_type": "stream",
     "text": [
      "2023-12-27 12:28:06,091 ERROR [imdbpy] /Users/mac/opt/anaconda3/lib/python3.9/site-packages/imdb/__init__.py:844: unknown information set \"genres\"\n"
     ]
    },
    {
     "name": "stdout",
     "output_type": "stream",
     "text": [
      "I Care a Lot:\n",
      "Genres: ['Comedy', 'Crime', 'Drama', 'Thriller']\n"
     ]
    },
    {
     "name": "stderr",
     "output_type": "stream",
     "text": [
      "2023-12-27 12:28:13,556 ERROR [imdbpy] /Users/mac/opt/anaconda3/lib/python3.9/site-packages/imdb/__init__.py:844: unknown information set \"genres\"\n"
     ]
    },
    {
     "name": "stdout",
     "output_type": "stream",
     "text": [
      "The Illegal:\n",
      "Genres: ['Drama']\n"
     ]
    },
    {
     "name": "stderr",
     "output_type": "stream",
     "text": [
      "2023-12-27 12:28:20,546 ERROR [imdbpy] /Users/mac/opt/anaconda3/lib/python3.9/site-packages/imdb/__init__.py:844: unknown information set \"genres\"\n"
     ]
    },
    {
     "name": "stdout",
     "output_type": "stream",
     "text": [
      "All the Devil's Men:\n",
      "Genres: ['Action', 'Thriller']\n"
     ]
    },
    {
     "name": "stderr",
     "output_type": "stream",
     "text": [
      "2023-12-27 12:28:28,767 ERROR [imdbpy] /Users/mac/opt/anaconda3/lib/python3.9/site-packages/imdb/__init__.py:844: unknown information set \"genres\"\n"
     ]
    },
    {
     "name": "stdout",
     "output_type": "stream",
     "text": [
      "JugJugg Jeeyo:\n",
      "Genres: ['Comedy', 'Drama', 'Family', 'Romance']\n"
     ]
    },
    {
     "name": "stderr",
     "output_type": "stream",
     "text": [
      "2023-12-27 12:28:37,588 ERROR [imdbpy] /Users/mac/opt/anaconda3/lib/python3.9/site-packages/imdb/__init__.py:844: unknown information set \"genres\"\n"
     ]
    },
    {
     "name": "stdout",
     "output_type": "stream",
     "text": [
      "Gatlopp:\n",
      "Genres: ['Comedy', 'Horror']\n"
     ]
    },
    {
     "name": "stderr",
     "output_type": "stream",
     "text": [
      "2023-12-27 12:28:43,816 ERROR [imdbpy] /Users/mac/opt/anaconda3/lib/python3.9/site-packages/imdb/__init__.py:844: unknown information set \"genres\"\n"
     ]
    },
    {
     "name": "stdout",
     "output_type": "stream",
     "text": [
      "What Have We Done to Deserve This?:\n",
      "Genres: ['Comedy', 'Drama']\n"
     ]
    },
    {
     "name": "stderr",
     "output_type": "stream",
     "text": [
      "2023-12-27 12:28:50,714 ERROR [imdbpy] /Users/mac/opt/anaconda3/lib/python3.9/site-packages/imdb/__init__.py:844: unknown information set \"genres\"\n"
     ]
    },
    {
     "name": "stdout",
     "output_type": "stream",
     "text": [
      "Above the Shadows:\n",
      "Genres: ['Drama', 'Fantasy', 'Romance', 'Sport']\n"
     ]
    },
    {
     "name": "stderr",
     "output_type": "stream",
     "text": [
      "2023-12-27 12:29:03,603 ERROR [imdbpy] /Users/mac/opt/anaconda3/lib/python3.9/site-packages/imdb/__init__.py:844: unknown information set \"genres\"\n"
     ]
    },
    {
     "name": "stdout",
     "output_type": "stream",
     "text": [
      "Creed II:\n",
      "Genres: ['Action', 'Drama', 'Sport']\n"
     ]
    },
    {
     "name": "stderr",
     "output_type": "stream",
     "text": [
      "2023-12-27 12:29:12,410 ERROR [imdbpy] /Users/mac/opt/anaconda3/lib/python3.9/site-packages/imdb/__init__.py:844: unknown information set \"genres\"\n"
     ]
    },
    {
     "name": "stdout",
     "output_type": "stream",
     "text": [
      "Le Brio:\n",
      "Genres: ['Comedy', 'Drama']\n"
     ]
    },
    {
     "name": "stderr",
     "output_type": "stream",
     "text": [
      "2023-12-27 12:29:19,042 ERROR [imdbpy] /Users/mac/opt/anaconda3/lib/python3.9/site-packages/imdb/__init__.py:844: unknown information set \"genres\"\n"
     ]
    },
    {
     "name": "stdout",
     "output_type": "stream",
     "text": [
      "Black Hollow Cage:\n",
      "Genres: ['Drama', 'Horror', 'Mystery', 'Sci-Fi', 'Thriller']\n"
     ]
    },
    {
     "name": "stderr",
     "output_type": "stream",
     "text": [
      "2023-12-27 12:29:27,827 ERROR [imdbpy] /Users/mac/opt/anaconda3/lib/python3.9/site-packages/imdb/__init__.py:844: unknown information set \"genres\"\n"
     ]
    },
    {
     "name": "stdout",
     "output_type": "stream",
     "text": [
      "Here Comes Hell:\n",
      "Genres: ['Comedy', 'Horror']\n"
     ]
    },
    {
     "name": "stderr",
     "output_type": "stream",
     "text": [
      "2023-12-27 12:29:35,630 ERROR [imdbpy] /Users/mac/opt/anaconda3/lib/python3.9/site-packages/imdb/__init__.py:844: unknown information set \"genres\"\n"
     ]
    },
    {
     "name": "stdout",
     "output_type": "stream",
     "text": [
      "Brutus vs Cesar:\n",
      "Genres: ['Comedy']\n"
     ]
    },
    {
     "name": "stderr",
     "output_type": "stream",
     "text": [
      "2023-12-27 12:29:44,130 ERROR [imdbpy] /Users/mac/opt/anaconda3/lib/python3.9/site-packages/imdb/__init__.py:844: unknown information set \"genres\"\n"
     ]
    },
    {
     "name": "stdout",
     "output_type": "stream",
     "text": [
      "Brothers:\n",
      "Genres: ['Drama', 'History', 'War']\n"
     ]
    },
    {
     "name": "stderr",
     "output_type": "stream",
     "text": [
      "2023-12-27 12:29:52,573 ERROR [imdbpy] /Users/mac/opt/anaconda3/lib/python3.9/site-packages/imdb/__init__.py:844: unknown information set \"genres\"\n"
     ]
    },
    {
     "name": "stdout",
     "output_type": "stream",
     "text": [
      "The Frontier:\n",
      "Genres: ['Adventure', 'Drama', 'History', 'Western']\n"
     ]
    },
    {
     "name": "stderr",
     "output_type": "stream",
     "text": [
      "2023-12-27 12:29:59,764 ERROR [imdbpy] /Users/mac/opt/anaconda3/lib/python3.9/site-packages/imdb/__init__.py:844: unknown information set \"genres\"\n"
     ]
    },
    {
     "name": "stdout",
     "output_type": "stream",
     "text": [
      "Songbird:\n",
      "Genres: ['Drama', 'Sci-Fi', 'Thriller']\n"
     ]
    },
    {
     "name": "stderr",
     "output_type": "stream",
     "text": [
      "2023-12-27 12:30:06,801 ERROR [imdbpy] /Users/mac/opt/anaconda3/lib/python3.9/site-packages/imdb/__init__.py:844: unknown information set \"genres\"\n"
     ]
    },
    {
     "name": "stdout",
     "output_type": "stream",
     "text": [
      "The Badge, the Bible, and Bigfoot:\n",
      "Genres: ['Action', 'Drama', 'Romance', 'Thriller']\n"
     ]
    },
    {
     "name": "stderr",
     "output_type": "stream",
     "text": [
      "2023-12-27 12:30:18,173 ERROR [imdbpy] /Users/mac/opt/anaconda3/lib/python3.9/site-packages/imdb/__init__.py:844: unknown information set \"genres\"\n"
     ]
    },
    {
     "name": "stdout",
     "output_type": "stream",
     "text": [
      "Dear Zoe:\n",
      "Genres: ['Drama']\n"
     ]
    },
    {
     "name": "stderr",
     "output_type": "stream",
     "text": [
      "2023-12-27 12:30:24,829 ERROR [imdbpy] /Users/mac/opt/anaconda3/lib/python3.9/site-packages/imdb/__init__.py:844: unknown information set \"genres\"\n"
     ]
    },
    {
     "name": "stdout",
     "output_type": "stream",
     "text": [
      "Lapwing:\n",
      "Genres: ['Drama', 'History']\n"
     ]
    },
    {
     "name": "stderr",
     "output_type": "stream",
     "text": [
      "2023-12-27 12:30:30,826 ERROR [imdbpy] /Users/mac/opt/anaconda3/lib/python3.9/site-packages/imdb/__init__.py:844: unknown information set \"genres\"\n"
     ]
    },
    {
     "name": "stdout",
     "output_type": "stream",
     "text": [
      "Parallel Lines:\n",
      "Genres: ['Action', 'Drama', 'Thriller']\n"
     ]
    },
    {
     "name": "stderr",
     "output_type": "stream",
     "text": [
      "2023-12-27 12:30:39,061 ERROR [imdbpy] /Users/mac/opt/anaconda3/lib/python3.9/site-packages/imdb/__init__.py:844: unknown information set \"genres\"\n"
     ]
    },
    {
     "name": "stdout",
     "output_type": "stream",
     "text": [
      "Skyfire:\n",
      "Genres: ['Action', 'Adventure', 'Drama', 'Thriller']\n"
     ]
    },
    {
     "name": "stderr",
     "output_type": "stream",
     "text": [
      "2023-12-27 12:30:51,372 ERROR [imdbpy] /Users/mac/opt/anaconda3/lib/python3.9/site-packages/imdb/__init__.py:844: unknown information set \"genres\"\n"
     ]
    },
    {
     "name": "stdout",
     "output_type": "stream",
     "text": [
      "Babes with Blades:\n",
      "Genres: ['Action', 'Adventure', 'Drama', 'Fantasy']\n"
     ]
    },
    {
     "name": "stderr",
     "output_type": "stream",
     "text": [
      "2023-12-27 12:30:59,184 ERROR [imdbpy] /Users/mac/opt/anaconda3/lib/python3.9/site-packages/imdb/__init__.py:844: unknown information set \"genres\"\n"
     ]
    },
    {
     "name": "stdout",
     "output_type": "stream",
     "text": [
      "Revenge Best Served Chilled:\n",
      "Genres: ['Thriller']\n"
     ]
    },
    {
     "name": "stderr",
     "output_type": "stream",
     "text": [
      "2023-12-27 12:31:08,541 ERROR [imdbpy] /Users/mac/opt/anaconda3/lib/python3.9/site-packages/imdb/__init__.py:844: unknown information set \"genres\"\n"
     ]
    },
    {
     "name": "stdout",
     "output_type": "stream",
     "text": [
      "Return to Me:\n",
      "Genres: ['Comedy', 'Drama', 'Romance']\n"
     ]
    },
    {
     "name": "stderr",
     "output_type": "stream",
     "text": [
      "2023-12-27 12:31:17,164 ERROR [imdbpy] /Users/mac/opt/anaconda3/lib/python3.9/site-packages/imdb/__init__.py:844: unknown information set \"genres\"\n"
     ]
    },
    {
     "name": "stdout",
     "output_type": "stream",
     "text": [
      "Killing Your Daughter:\n",
      "Genres: ['Thriller']\n"
     ]
    },
    {
     "name": "stderr",
     "output_type": "stream",
     "text": [
      "2023-12-27 12:31:26,173 ERROR [imdbpy] /Users/mac/opt/anaconda3/lib/python3.9/site-packages/imdb/__init__.py:844: unknown information set \"genres\"\n"
     ]
    },
    {
     "name": "stdout",
     "output_type": "stream",
     "text": [
      "Hostage Radio:\n",
      "Genres: ['Action', 'Adventure', 'Horror', 'Thriller']\n"
     ]
    },
    {
     "name": "stderr",
     "output_type": "stream",
     "text": [
      "2023-12-27 12:31:38,071 ERROR [imdbpy] /Users/mac/opt/anaconda3/lib/python3.9/site-packages/imdb/__init__.py:844: unknown information set \"genres\"\n"
     ]
    },
    {
     "name": "stdout",
     "output_type": "stream",
     "text": [
      "Rise:\n",
      "Genres: ['Animation', 'Action', 'Adventure', 'Comedy', 'Drama', 'Family', 'Fantasy']\n"
     ]
    },
    {
     "name": "stderr",
     "output_type": "stream",
     "text": [
      "2023-12-27 12:31:49,338 ERROR [imdbpy] /Users/mac/opt/anaconda3/lib/python3.9/site-packages/imdb/__init__.py:844: unknown information set \"genres\"\n"
     ]
    },
    {
     "name": "stdout",
     "output_type": "stream",
     "text": [
      "Overdose:\n",
      "Genres: ['Action', 'Crime', 'Thriller']\n"
     ]
    },
    {
     "name": "stderr",
     "output_type": "stream",
     "text": [
      "2023-12-27 12:31:58,921 ERROR [imdbpy] /Users/mac/opt/anaconda3/lib/python3.9/site-packages/imdb/__init__.py:844: unknown information set \"genres\"\n"
     ]
    },
    {
     "name": "stdout",
     "output_type": "stream",
     "text": [
      "Scottish Mussel:\n",
      "Genres: ['Comedy']\n"
     ]
    },
    {
     "name": "stderr",
     "output_type": "stream",
     "text": [
      "2023-12-27 12:32:05,995 ERROR [imdbpy] /Users/mac/opt/anaconda3/lib/python3.9/site-packages/imdb/__init__.py:844: unknown information set \"genres\"\n"
     ]
    },
    {
     "name": "stdout",
     "output_type": "stream",
     "text": [
      "Aquarium of the Dead:\n",
      "Genres: ['Action', 'Comedy', 'Horror', 'Sci-Fi', 'Thriller']\n"
     ]
    },
    {
     "name": "stderr",
     "output_type": "stream",
     "text": [
      "2023-12-27 12:32:14,224 ERROR [imdbpy] /Users/mac/opt/anaconda3/lib/python3.9/site-packages/imdb/__init__.py:844: unknown information set \"genres\"\n"
     ]
    },
    {
     "name": "stdout",
     "output_type": "stream",
     "text": [
      "A Lethal Lesson:\n",
      "Genres: ['Thriller']\n"
     ]
    },
    {
     "name": "stderr",
     "output_type": "stream",
     "text": [
      "2023-12-27 12:32:22,438 ERROR [imdbpy] /Users/mac/opt/anaconda3/lib/python3.9/site-packages/imdb/__init__.py:844: unknown information set \"genres\"\n"
     ]
    },
    {
     "name": "stdout",
     "output_type": "stream",
     "text": [
      "The Man Who Killed Don Quixote:\n",
      "Genres: ['Adventure', 'Comedy', 'Drama', 'Fantasy']\n"
     ]
    },
    {
     "name": "stderr",
     "output_type": "stream",
     "text": [
      "2023-12-27 12:32:31,829 ERROR [imdbpy] /Users/mac/opt/anaconda3/lib/python3.9/site-packages/imdb/__init__.py:844: unknown information set \"genres\"\n"
     ]
    },
    {
     "name": "stdout",
     "output_type": "stream",
     "text": [
      "I Am Norman:\n",
      "Genres: ['Short', 'Thriller']\n"
     ]
    },
    {
     "name": "stderr",
     "output_type": "stream",
     "text": [
      "2023-12-27 12:32:42,599 ERROR [imdbpy] /Users/mac/opt/anaconda3/lib/python3.9/site-packages/imdb/__init__.py:844: unknown information set \"genres\"\n"
     ]
    },
    {
     "name": "stdout",
     "output_type": "stream",
     "text": [
      "3 Days to Kill:\n",
      "Genres: ['Action', 'Comedy', 'Drama', 'Thriller']\n"
     ]
    },
    {
     "name": "stderr",
     "output_type": "stream",
     "text": [
      "2023-12-27 12:32:49,147 ERROR [imdbpy] /Users/mac/opt/anaconda3/lib/python3.9/site-packages/imdb/__init__.py:844: unknown information set \"genres\"\n"
     ]
    },
    {
     "name": "stdout",
     "output_type": "stream",
     "text": [
      "The Only Living Boy in New York:\n",
      "Genres: ['Drama']\n"
     ]
    },
    {
     "name": "stderr",
     "output_type": "stream",
     "text": [
      "2023-12-27 12:32:55,915 ERROR [imdbpy] /Users/mac/opt/anaconda3/lib/python3.9/site-packages/imdb/__init__.py:844: unknown information set \"genres\"\n"
     ]
    },
    {
     "name": "stdout",
     "output_type": "stream",
     "text": [
      "Dating & New York:\n",
      "Genres: ['Comedy']\n"
     ]
    },
    {
     "name": "stderr",
     "output_type": "stream",
     "text": [
      "2023-12-27 12:33:05,067 ERROR [imdbpy] /Users/mac/opt/anaconda3/lib/python3.9/site-packages/imdb/__init__.py:844: unknown information set \"genres\"\n"
     ]
    },
    {
     "name": "stdout",
     "output_type": "stream",
     "text": [
      "God Help the Girl:\n",
      "Genres: ['Drama', 'Music', 'Romance']\n"
     ]
    },
    {
     "name": "stderr",
     "output_type": "stream",
     "text": [
      "2023-12-27 12:33:14,739 ERROR [imdbpy] /Users/mac/opt/anaconda3/lib/python3.9/site-packages/imdb/__init__.py:844: unknown information set \"genres\"\n"
     ]
    },
    {
     "name": "stdout",
     "output_type": "stream",
     "text": [
      "Top End Wedding:\n",
      "Genres: ['Comedy', 'Romance']\n"
     ]
    },
    {
     "name": "stderr",
     "output_type": "stream",
     "text": [
      "2023-12-27 12:33:23,043 ERROR [imdbpy] /Users/mac/opt/anaconda3/lib/python3.9/site-packages/imdb/__init__.py:844: unknown information set \"genres\"\n"
     ]
    },
    {
     "name": "stdout",
     "output_type": "stream",
     "text": [
      "Trust:\n",
      "Genres: ['Biography', 'Crime', 'Drama']\n"
     ]
    },
    {
     "name": "stderr",
     "output_type": "stream",
     "text": [
      "2023-12-27 12:33:29,620 ERROR [imdbpy] /Users/mac/opt/anaconda3/lib/python3.9/site-packages/imdb/__init__.py:844: unknown information set \"genres\"\n"
     ]
    },
    {
     "name": "stdout",
     "output_type": "stream",
     "text": [
      "After the Dark:\n",
      "Genres: ['Drama', 'Fantasy', 'Sci-Fi']\n"
     ]
    },
    {
     "name": "stderr",
     "output_type": "stream",
     "text": [
      "2023-12-27 12:33:35,413 ERROR [imdbpy] /Users/mac/opt/anaconda3/lib/python3.9/site-packages/imdb/__init__.py:844: unknown information set \"genres\"\n"
     ]
    },
    {
     "name": "stdout",
     "output_type": "stream",
     "text": [
      "Day X:\n",
      "Genres: ['Horror', 'Sci-Fi']\n"
     ]
    },
    {
     "name": "stderr",
     "output_type": "stream",
     "text": [
      "2023-12-27 12:33:44,472 ERROR [imdbpy] /Users/mac/opt/anaconda3/lib/python3.9/site-packages/imdb/__init__.py:844: unknown information set \"genres\"\n"
     ]
    },
    {
     "name": "stdout",
     "output_type": "stream",
     "text": [
      "Kill Ben Lyk:\n",
      "Genres: ['Comedy', 'Mystery', 'Thriller']\n"
     ]
    },
    {
     "name": "stderr",
     "output_type": "stream",
     "text": [
      "2023-12-27 12:33:57,685 ERROR [imdbpy] /Users/mac/opt/anaconda3/lib/python3.9/site-packages/imdb/__init__.py:844: unknown information set \"genres\"\n"
     ]
    },
    {
     "name": "stdout",
     "output_type": "stream",
     "text": [
      "Repeat:\n",
      "Genres: ['Action', 'Adventure', 'Sci-Fi']\n"
     ]
    },
    {
     "name": "stderr",
     "output_type": "stream",
     "text": [
      "2023-12-27 12:34:05,386 ERROR [imdbpy] /Users/mac/opt/anaconda3/lib/python3.9/site-packages/imdb/__init__.py:844: unknown information set \"genres\"\n"
     ]
    },
    {
     "name": "stdout",
     "output_type": "stream",
     "text": [
      "Borat Subsequent Moviefilm:\n",
      "Genres: ['Comedy']\n"
     ]
    },
    {
     "name": "stderr",
     "output_type": "stream",
     "text": [
      "2023-12-27 12:34:12,129 ERROR [imdbpy] /Users/mac/opt/anaconda3/lib/python3.9/site-packages/imdb/__init__.py:844: unknown information set \"genres\"\n"
     ]
    },
    {
     "name": "stdout",
     "output_type": "stream",
     "text": [
      "Babe Beach:\n",
      "Genres: ['Comedy']\n"
     ]
    },
    {
     "name": "stderr",
     "output_type": "stream",
     "text": [
      "2023-12-27 12:34:19,367 ERROR [imdbpy] /Users/mac/opt/anaconda3/lib/python3.9/site-packages/imdb/__init__.py:844: unknown information set \"genres\"\n"
     ]
    },
    {
     "name": "stdout",
     "output_type": "stream",
     "text": [
      "Peridot:\n",
      "Genres: ['Drama', 'Romance']\n"
     ]
    },
    {
     "name": "stderr",
     "output_type": "stream",
     "text": [
      "2023-12-27 12:34:25,870 ERROR [imdbpy] /Users/mac/opt/anaconda3/lib/python3.9/site-packages/imdb/__init__.py:844: unknown information set \"genres\"\n"
     ]
    },
    {
     "name": "stdout",
     "output_type": "stream",
     "text": [
      "Bad Day for the Cut:\n",
      "Genres: ['Action', 'Crime', 'Drama', 'Mystery', 'Thriller']\n"
     ]
    },
    {
     "name": "stderr",
     "output_type": "stream",
     "text": [
      "2023-12-27 12:34:32,700 ERROR [imdbpy] /Users/mac/opt/anaconda3/lib/python3.9/site-packages/imdb/__init__.py:844: unknown information set \"genres\"\n"
     ]
    },
    {
     "name": "stdout",
     "output_type": "stream",
     "text": [
      "Shamshera:\n",
      "Genres: ['Action', 'Adventure', 'Drama']\n"
     ]
    },
    {
     "name": "stderr",
     "output_type": "stream",
     "text": [
      "2023-12-27 12:34:39,382 ERROR [imdbpy] /Users/mac/opt/anaconda3/lib/python3.9/site-packages/imdb/__init__.py:844: unknown information set \"genres\"\n"
     ]
    },
    {
     "name": "stdout",
     "output_type": "stream",
     "text": [
      "2.0:\n",
      "Genres: ['Documentary', 'War']\n"
     ]
    },
    {
     "name": "stderr",
     "output_type": "stream",
     "text": [
      "2023-12-27 12:34:47,100 ERROR [imdbpy] /Users/mac/opt/anaconda3/lib/python3.9/site-packages/imdb/__init__.py:844: unknown information set \"genres\"\n"
     ]
    },
    {
     "name": "stdout",
     "output_type": "stream",
     "text": [
      "An Ordinary People:\n",
      "Genres: ['Drama']\n"
     ]
    },
    {
     "name": "stderr",
     "output_type": "stream",
     "text": [
      "2023-12-27 12:34:57,158 ERROR [imdbpy] /Users/mac/opt/anaconda3/lib/python3.9/site-packages/imdb/__init__.py:844: unknown information set \"genres\"\n"
     ]
    },
    {
     "name": "stdout",
     "output_type": "stream",
     "text": [
      "LX 2048:\n",
      "Genres: ['Drama', 'Sci-Fi', 'Thriller']\n"
     ]
    },
    {
     "name": "stderr",
     "output_type": "stream",
     "text": [
      "2023-12-27 12:35:04,650 ERROR [imdbpy] /Users/mac/opt/anaconda3/lib/python3.9/site-packages/imdb/__init__.py:844: unknown information set \"genres\"\n"
     ]
    },
    {
     "name": "stdout",
     "output_type": "stream",
     "text": [
      "Siren:\n",
      "Genres: ['Drama', 'Fantasy']\n"
     ]
    },
    {
     "name": "stderr",
     "output_type": "stream",
     "text": [
      "2023-12-27 12:35:12,338 ERROR [imdbpy] /Users/mac/opt/anaconda3/lib/python3.9/site-packages/imdb/__init__.py:844: unknown information set \"genres\"\n"
     ]
    },
    {
     "name": "stdout",
     "output_type": "stream",
     "text": [
      "Metamorphoses:\n",
      "Genres: ['Drama', 'Fantasy']\n"
     ]
    },
    {
     "name": "stderr",
     "output_type": "stream",
     "text": [
      "2023-12-27 12:35:21,112 ERROR [imdbpy] /Users/mac/opt/anaconda3/lib/python3.9/site-packages/imdb/__init__.py:844: unknown information set \"genres\"\n"
     ]
    },
    {
     "name": "stdout",
     "output_type": "stream",
     "text": [
      "Jellyfish:\n",
      "Genres: ['Drama']\n"
     ]
    },
    {
     "name": "stderr",
     "output_type": "stream",
     "text": [
      "2023-12-27 12:35:34,339 ERROR [imdbpy] /Users/mac/opt/anaconda3/lib/python3.9/site-packages/imdb/__init__.py:844: unknown information set \"genres\"\n"
     ]
    },
    {
     "name": "stdout",
     "output_type": "stream",
     "text": [
      "Benjamin:\n",
      "Genres: ['Drama', 'Fantasy', 'Romance']\n"
     ]
    },
    {
     "name": "stderr",
     "output_type": "stream",
     "text": [
      "2023-12-27 12:35:55,179 ERROR [imdbpy] /Users/mac/opt/anaconda3/lib/python3.9/site-packages/imdb/__init__.py:844: unknown information set \"genres\"\n"
     ]
    },
    {
     "name": "stdout",
     "output_type": "stream",
     "text": [
      "Boss Level:\n",
      "Genres: ['Action', 'Adventure', 'Comedy', 'Mystery', 'Sci-Fi', 'Thriller']\n"
     ]
    },
    {
     "name": "stderr",
     "output_type": "stream",
     "text": [
      "2023-12-27 12:36:04,216 ERROR [imdbpy] /Users/mac/opt/anaconda3/lib/python3.9/site-packages/imdb/__init__.py:844: unknown information set \"genres\"\n"
     ]
    },
    {
     "name": "stdout",
     "output_type": "stream",
     "text": [
      "VFW:\n",
      "Genres: ['Action', 'Crime', 'Horror']\n"
     ]
    },
    {
     "name": "stderr",
     "output_type": "stream",
     "text": [
      "2023-12-27 12:36:19,190 ERROR [imdbpy] /Users/mac/opt/anaconda3/lib/python3.9/site-packages/imdb/__init__.py:844: unknown information set \"genres\"\n"
     ]
    },
    {
     "name": "stdout",
     "output_type": "stream",
     "text": [
      "Take Down:\n",
      "Genres: ['Action', 'Adventure', 'Crime', 'Drama', 'Thriller']\n"
     ]
    },
    {
     "name": "stderr",
     "output_type": "stream",
     "text": [
      "2023-12-27 12:36:44,697 ERROR [imdbpy] /Users/mac/opt/anaconda3/lib/python3.9/site-packages/imdb/__init__.py:844: unknown information set \"genres\"\n"
     ]
    },
    {
     "name": "stdout",
     "output_type": "stream",
     "text": [
      "HIT:\n",
      "Genres: ['Action', 'Comedy']\n"
     ]
    },
    {
     "name": "stderr",
     "output_type": "stream",
     "text": [
      "2023-12-27 12:37:07,043 ERROR [imdbpy] /Users/mac/opt/anaconda3/lib/python3.9/site-packages/imdb/__init__.py:844: unknown information set \"genres\"\n"
     ]
    },
    {
     "name": "stdout",
     "output_type": "stream",
     "text": [
      "The Monster:\n",
      "Genres: ['Drama', 'Fantasy', 'Horror']\n"
     ]
    },
    {
     "name": "stderr",
     "output_type": "stream",
     "text": [
      "2023-12-27 12:37:19,957 ERROR [imdbpy] /Users/mac/opt/anaconda3/lib/python3.9/site-packages/imdb/__init__.py:844: unknown information set \"genres\"\n"
     ]
    },
    {
     "name": "stdout",
     "output_type": "stream",
     "text": [
      "Get Back:\n",
      "Genres: ['Documentary', 'Biography', 'Music']\n"
     ]
    },
    {
     "name": "stderr",
     "output_type": "stream",
     "text": [
      "2023-12-27 12:37:32,386 ERROR [imdbpy] /Users/mac/opt/anaconda3/lib/python3.9/site-packages/imdb/__init__.py:844: unknown information set \"genres\"\n"
     ]
    },
    {
     "name": "stdout",
     "output_type": "stream",
     "text": [
      "Douche:\n",
      "Genres: ['Comedy']\n"
     ]
    },
    {
     "name": "stderr",
     "output_type": "stream",
     "text": [
      "2023-12-27 12:37:52,010 ERROR [imdbpy] /Users/mac/opt/anaconda3/lib/python3.9/site-packages/imdb/__init__.py:844: unknown information set \"genres\"\n"
     ]
    },
    {
     "name": "stdout",
     "output_type": "stream",
     "text": [
      "Get Hard:\n",
      "Genres: ['Comedy', 'Crime']\n"
     ]
    },
    {
     "name": "stderr",
     "output_type": "stream",
     "text": [
      "2023-12-27 12:38:21,296 ERROR [imdbpy] /Users/mac/opt/anaconda3/lib/python3.9/site-packages/imdb/__init__.py:844: unknown information set \"genres\"\n"
     ]
    },
    {
     "name": "stdout",
     "output_type": "stream",
     "text": [
      "Escape from Death Block 13:\n",
      "Genres: ['Action']\n"
     ]
    },
    {
     "name": "stderr",
     "output_type": "stream",
     "text": [
      "2023-12-27 12:38:28,720 ERROR [imdbpy] /Users/mac/opt/anaconda3/lib/python3.9/site-packages/imdb/__init__.py:844: unknown information set \"genres\"\n"
     ]
    },
    {
     "name": "stdout",
     "output_type": "stream",
     "text": [
      "Desecration:\n",
      "Genres: ['Drama', 'Horror']\n"
     ]
    },
    {
     "name": "stderr",
     "output_type": "stream",
     "text": [
      "2023-12-27 12:38:41,548 ERROR [imdbpy] /Users/mac/opt/anaconda3/lib/python3.9/site-packages/imdb/__init__.py:844: unknown information set \"genres\"\n"
     ]
    },
    {
     "name": "stdout",
     "output_type": "stream",
     "text": [
      "Guns Akimbo:\n",
      "Genres: ['Action', 'Comedy', 'Crime', 'Thriller']\n"
     ]
    },
    {
     "name": "stderr",
     "output_type": "stream",
     "text": [
      "2023-12-27 12:38:53,913 ERROR [imdbpy] /Users/mac/opt/anaconda3/lib/python3.9/site-packages/imdb/__init__.py:844: unknown information set \"genres\"\n"
     ]
    },
    {
     "name": "stdout",
     "output_type": "stream",
     "text": [
      "Corona Depression:\n",
      "Genres: ['Comedy', 'Drama']\n"
     ]
    },
    {
     "name": "stderr",
     "output_type": "stream",
     "text": [
      "2023-12-27 12:39:06,310 ERROR [imdbpy] /Users/mac/opt/anaconda3/lib/python3.9/site-packages/imdb/__init__.py:844: unknown information set \"genres\"\n"
     ]
    },
    {
     "name": "stdout",
     "output_type": "stream",
     "text": [
      "Kill Chain:\n",
      "Genres: ['Action', 'Thriller']\n"
     ]
    },
    {
     "name": "stderr",
     "output_type": "stream",
     "text": [
      "2023-12-27 12:39:15,724 ERROR [imdbpy] /Users/mac/opt/anaconda3/lib/python3.9/site-packages/imdb/__init__.py:844: unknown information set \"genres\"\n"
     ]
    },
    {
     "name": "stdout",
     "output_type": "stream",
     "text": [
      "One Last Thing:\n",
      "Genres: ['Comedy', 'Drama']\n"
     ]
    },
    {
     "name": "stderr",
     "output_type": "stream",
     "text": [
      "2023-12-27 12:39:24,424 ERROR [imdbpy] /Users/mac/opt/anaconda3/lib/python3.9/site-packages/imdb/__init__.py:844: unknown information set \"genres\"\n"
     ]
    },
    {
     "name": "stdout",
     "output_type": "stream",
     "text": [
      "Headless Horseman:\n",
      "Genres: ['Horror']\n"
     ]
    },
    {
     "name": "stderr",
     "output_type": "stream",
     "text": [
      "2023-12-27 12:39:29,785 ERROR [imdbpy] /Users/mac/opt/anaconda3/lib/python3.9/site-packages/imdb/__init__.py:844: unknown information set \"genres\"\n"
     ]
    },
    {
     "name": "stdout",
     "output_type": "stream",
     "text": [
      "From the Depths:\n",
      "Genres: ['Drama', 'Horror', 'Mystery', 'Thriller']\n"
     ]
    },
    {
     "name": "stderr",
     "output_type": "stream",
     "text": [
      "2023-12-27 12:39:35,867 ERROR [imdbpy] /Users/mac/opt/anaconda3/lib/python3.9/site-packages/imdb/__init__.py:844: unknown information set \"genres\"\n"
     ]
    },
    {
     "name": "stdout",
     "output_type": "stream",
     "text": [
      "Cold Brook:\n",
      "Genres: ['Drama', 'Fantasy']\n"
     ]
    },
    {
     "name": "stderr",
     "output_type": "stream",
     "text": [
      "2023-12-27 12:39:42,004 ERROR [imdbpy] /Users/mac/opt/anaconda3/lib/python3.9/site-packages/imdb/__init__.py:844: unknown information set \"genres\"\n"
     ]
    },
    {
     "name": "stdout",
     "output_type": "stream",
     "text": [
      "Student Body:\n",
      "Genres: ['Horror', 'Thriller']\n"
     ]
    },
    {
     "name": "stderr",
     "output_type": "stream",
     "text": [
      "2023-12-27 12:39:53,436 ERROR [imdbpy] /Users/mac/opt/anaconda3/lib/python3.9/site-packages/imdb/__init__.py:844: unknown information set \"genres\"\n"
     ]
    },
    {
     "name": "stdout",
     "output_type": "stream",
     "text": [
      "Wonderstruck:\n",
      "Genres: ['Adventure', 'Drama', 'Mystery']\n"
     ]
    },
    {
     "name": "stderr",
     "output_type": "stream",
     "text": [
      "2023-12-27 12:40:04,064 ERROR [imdbpy] /Users/mac/opt/anaconda3/lib/python3.9/site-packages/imdb/__init__.py:844: unknown information set \"genres\"\n"
     ]
    },
    {
     "name": "stdout",
     "output_type": "stream",
     "text": [
      "Transhuman:\n",
      "Genres: ['Horror']\n"
     ]
    },
    {
     "name": "stderr",
     "output_type": "stream",
     "text": [
      "2023-12-27 12:40:15,120 ERROR [imdbpy] /Users/mac/opt/anaconda3/lib/python3.9/site-packages/imdb/__init__.py:844: unknown information set \"genres\"\n"
     ]
    },
    {
     "name": "stdout",
     "output_type": "stream",
     "text": [
      "The Scrapper:\n",
      "Genres: ['Comedy', 'Drama']\n"
     ]
    },
    {
     "name": "stderr",
     "output_type": "stream",
     "text": [
      "2023-12-27 12:40:29,330 ERROR [imdbpy] /Users/mac/opt/anaconda3/lib/python3.9/site-packages/imdb/__init__.py:844: unknown information set \"genres\"\n"
     ]
    },
    {
     "name": "stdout",
     "output_type": "stream",
     "text": [
      "Geostorm:\n",
      "Genres: ['Action', 'Sci-Fi', 'Thriller']\n"
     ]
    },
    {
     "name": "stderr",
     "output_type": "stream",
     "text": [
      "2023-12-27 12:40:37,611 ERROR [imdbpy] /Users/mac/opt/anaconda3/lib/python3.9/site-packages/imdb/__init__.py:844: unknown information set \"genres\"\n"
     ]
    },
    {
     "name": "stdout",
     "output_type": "stream",
     "text": [
      "The Sea:\n",
      "Genres: ['Drama']\n"
     ]
    },
    {
     "name": "stderr",
     "output_type": "stream",
     "text": [
      "2023-12-27 12:40:44,161 ERROR [imdbpy] /Users/mac/opt/anaconda3/lib/python3.9/site-packages/imdb/__init__.py:844: unknown information set \"genres\"\n"
     ]
    },
    {
     "name": "stdout",
     "output_type": "stream",
     "text": [
      "The Adventures of Thomasina Sawyer:\n",
      "Genres: ['Adventure', 'Family']\n"
     ]
    },
    {
     "name": "stderr",
     "output_type": "stream",
     "text": [
      "2023-12-27 12:40:57,303 ERROR [imdbpy] /Users/mac/opt/anaconda3/lib/python3.9/site-packages/imdb/__init__.py:844: unknown information set \"genres\"\n"
     ]
    },
    {
     "name": "stdout",
     "output_type": "stream",
     "text": [
      "Heropanti 2:\n",
      "Genres: ['Action', 'Comedy', 'Crime', 'Romance']\n"
     ]
    },
    {
     "name": "stderr",
     "output_type": "stream",
     "text": [
      "2023-12-27 12:41:08,587 ERROR [imdbpy] /Users/mac/opt/anaconda3/lib/python3.9/site-packages/imdb/__init__.py:844: unknown information set \"genres\"\n"
     ]
    },
    {
     "name": "stdout",
     "output_type": "stream",
     "text": [
      "The Last Five Years:\n",
      "Genres: ['Comedy', 'Drama', 'Musical', 'Romance']\n"
     ]
    },
    {
     "name": "stderr",
     "output_type": "stream",
     "text": [
      "2023-12-27 12:41:16,163 ERROR [imdbpy] /Users/mac/opt/anaconda3/lib/python3.9/site-packages/imdb/__init__.py:844: unknown information set \"genres\"\n"
     ]
    },
    {
     "name": "stdout",
     "output_type": "stream",
     "text": [
      "Sobibor:\n",
      "Genres: ['Drama', 'History', 'Thriller', 'War']\n"
     ]
    },
    {
     "name": "stderr",
     "output_type": "stream",
     "text": [
      "2023-12-27 12:41:25,179 ERROR [imdbpy] /Users/mac/opt/anaconda3/lib/python3.9/site-packages/imdb/__init__.py:844: unknown information set \"genres\"\n"
     ]
    },
    {
     "name": "stdout",
     "output_type": "stream",
     "text": [
      "Birds of Paradise:\n",
      "Genres: ['Drama']\n"
     ]
    },
    {
     "name": "stderr",
     "output_type": "stream",
     "text": [
      "2023-12-27 12:41:36,570 ERROR [imdbpy] /Users/mac/opt/anaconda3/lib/python3.9/site-packages/imdb/__init__.py:844: unknown information set \"genres\"\n"
     ]
    },
    {
     "name": "stdout",
     "output_type": "stream",
     "text": [
      "The Unknown Runner:\n",
      "Genres: ['Documentary', 'Sport']\n"
     ]
    },
    {
     "name": "stderr",
     "output_type": "stream",
     "text": [
      "2023-12-27 12:41:46,933 ERROR [imdbpy] /Users/mac/opt/anaconda3/lib/python3.9/site-packages/imdb/__init__.py:844: unknown information set \"genres\"\n"
     ]
    },
    {
     "name": "stdout",
     "output_type": "stream",
     "text": [
      "The Choice:\n",
      "Genres: ['Drama', 'Romance']\n"
     ]
    },
    {
     "name": "stderr",
     "output_type": "stream",
     "text": [
      "2023-12-27 12:41:59,069 ERROR [imdbpy] /Users/mac/opt/anaconda3/lib/python3.9/site-packages/imdb/__init__.py:844: unknown information set \"genres\"\n"
     ]
    },
    {
     "name": "stdout",
     "output_type": "stream",
     "text": [
      "The Drowning of Arthur Braxton:\n",
      "Genres: ['Drama']\n"
     ]
    },
    {
     "name": "stderr",
     "output_type": "stream",
     "text": [
      "2023-12-27 12:42:08,358 ERROR [imdbpy] /Users/mac/opt/anaconda3/lib/python3.9/site-packages/imdb/__init__.py:844: unknown information set \"genres\"\n"
     ]
    },
    {
     "name": "stdout",
     "output_type": "stream",
     "text": [
      "3 Way Junction:\n",
      "Genres: ['Adventure', 'Drama']\n"
     ]
    },
    {
     "name": "stderr",
     "output_type": "stream",
     "text": [
      "2023-12-27 12:42:16,169 ERROR [imdbpy] /Users/mac/opt/anaconda3/lib/python3.9/site-packages/imdb/__init__.py:844: unknown information set \"genres\"\n"
     ]
    },
    {
     "name": "stdout",
     "output_type": "stream",
     "text": [
      "Battle on Buka Street:\n",
      "Genres: ['Comedy']\n"
     ]
    },
    {
     "name": "stderr",
     "output_type": "stream",
     "text": [
      "2023-12-27 12:42:22,671 ERROR [imdbpy] /Users/mac/opt/anaconda3/lib/python3.9/site-packages/imdb/__init__.py:844: unknown information set \"genres\"\n"
     ]
    },
    {
     "name": "stdout",
     "output_type": "stream",
     "text": [
      "Viruman:\n",
      "Genres: ['Action', 'Drama']\n"
     ]
    },
    {
     "name": "stderr",
     "output_type": "stream",
     "text": [
      "2023-12-27 12:42:28,286 ERROR [imdbpy] /Users/mac/opt/anaconda3/lib/python3.9/site-packages/imdb/__init__.py:844: unknown information set \"genres\"\n"
     ]
    },
    {
     "name": "stdout",
     "output_type": "stream",
     "text": [
      "Bundy and the Green River Killer:\n",
      "Genres: ['Crime', 'Drama', 'Thriller']\n"
     ]
    },
    {
     "name": "stderr",
     "output_type": "stream",
     "text": [
      "2023-12-27 12:42:36,785 ERROR [imdbpy] /Users/mac/opt/anaconda3/lib/python3.9/site-packages/imdb/__init__.py:844: unknown information set \"genres\"\n"
     ]
    },
    {
     "name": "stdout",
     "output_type": "stream",
     "text": [
      "The Take:\n",
      "Genres: ['Action', 'Adventure', 'Crime', 'Drama', 'Mystery', 'Thriller']\n"
     ]
    },
    {
     "name": "stderr",
     "output_type": "stream",
     "text": [
      "2023-12-27 12:42:44,906 ERROR [imdbpy] /Users/mac/opt/anaconda3/lib/python3.9/site-packages/imdb/__init__.py:844: unknown information set \"genres\"\n"
     ]
    },
    {
     "name": "stdout",
     "output_type": "stream",
     "text": [
      "Vendetta:\n",
      "Genres: ['Action', 'Drama', 'Sci-Fi', 'Thriller']\n"
     ]
    },
    {
     "name": "stderr",
     "output_type": "stream",
     "text": [
      "2023-12-27 12:42:55,085 ERROR [imdbpy] /Users/mac/opt/anaconda3/lib/python3.9/site-packages/imdb/__init__.py:844: unknown information set \"genres\"\n"
     ]
    },
    {
     "name": "stdout",
     "output_type": "stream",
     "text": [
      "La semilla del silencio:\n",
      "Genres: ['Crime', 'Drama', 'Thriller']\n"
     ]
    },
    {
     "name": "stderr",
     "output_type": "stream",
     "text": [
      "2023-12-27 12:43:04,204 ERROR [imdbpy] /Users/mac/opt/anaconda3/lib/python3.9/site-packages/imdb/__init__.py:844: unknown information set \"genres\"\n"
     ]
    },
    {
     "name": "stdout",
     "output_type": "stream",
     "text": [
      "Molly:\n",
      "Genres: ['Comedy', 'Romance']\n"
     ]
    },
    {
     "name": "stderr",
     "output_type": "stream",
     "text": [
      "2023-12-27 12:43:10,307 ERROR [imdbpy] /Users/mac/opt/anaconda3/lib/python3.9/site-packages/imdb/__init__.py:844: unknown information set \"genres\"\n"
     ]
    },
    {
     "name": "stdout",
     "output_type": "stream",
     "text": [
      "Santa Fake:\n",
      "Genres: ['Family']\n"
     ]
    },
    {
     "name": "stderr",
     "output_type": "stream",
     "text": [
      "2023-12-27 12:43:17,233 ERROR [imdbpy] /Users/mac/opt/anaconda3/lib/python3.9/site-packages/imdb/__init__.py:844: unknown information set \"genres\"\n"
     ]
    },
    {
     "name": "stdout",
     "output_type": "stream",
     "text": [
      "Above Ground Level: Dubfire:\n",
      "Genres: ['Documentary', 'Music']\n"
     ]
    },
    {
     "name": "stderr",
     "output_type": "stream",
     "text": [
      "2023-12-27 12:43:23,282 ERROR [imdbpy] /Users/mac/opt/anaconda3/lib/python3.9/site-packages/imdb/__init__.py:844: unknown information set \"genres\"\n"
     ]
    },
    {
     "name": "stdout",
     "output_type": "stream",
     "text": [
      "Body at Brighton Rock:\n",
      "Genres: ['Comedy', 'Drama', 'Fantasy', 'Horror', 'Mystery', 'Thriller']\n"
     ]
    },
    {
     "name": "stderr",
     "output_type": "stream",
     "text": [
      "2023-12-27 12:43:31,428 ERROR [imdbpy] /Users/mac/opt/anaconda3/lib/python3.9/site-packages/imdb/__init__.py:844: unknown information set \"genres\"\n"
     ]
    },
    {
     "name": "stdout",
     "output_type": "stream",
     "text": [
      "Postal:\n",
      "Genres: ['Action', 'Comedy', 'Crime', 'Thriller']\n"
     ]
    },
    {
     "name": "stderr",
     "output_type": "stream",
     "text": [
      "2023-12-27 12:43:37,972 ERROR [imdbpy] /Users/mac/opt/anaconda3/lib/python3.9/site-packages/imdb/__init__.py:844: unknown information set \"genres\"\n"
     ]
    },
    {
     "name": "stdout",
     "output_type": "stream",
     "text": [
      "The Wind:\n",
      "Genres: ['Animation', 'Biography', 'Drama', 'Romance', 'War']\n"
     ]
    },
    {
     "name": "stderr",
     "output_type": "stream",
     "text": [
      "2023-12-27 12:43:48,570 ERROR [imdbpy] /Users/mac/opt/anaconda3/lib/python3.9/site-packages/imdb/__init__.py:844: unknown information set \"genres\"\n"
     ]
    },
    {
     "name": "stdout",
     "output_type": "stream",
     "text": [
      "Raatchasi:\n",
      "Genres: ['Drama']\n"
     ]
    },
    {
     "name": "stderr",
     "output_type": "stream",
     "text": [
      "2023-12-27 12:43:54,301 ERROR [imdbpy] /Users/mac/opt/anaconda3/lib/python3.9/site-packages/imdb/__init__.py:844: unknown information set \"genres\"\n"
     ]
    },
    {
     "name": "stdout",
     "output_type": "stream",
     "text": [
      "The Bright Side:\n",
      "Genres: ['Comedy', 'Drama']\n"
     ]
    },
    {
     "name": "stderr",
     "output_type": "stream",
     "text": [
      "2023-12-27 12:44:01,343 ERROR [imdbpy] /Users/mac/opt/anaconda3/lib/python3.9/site-packages/imdb/__init__.py:844: unknown information set \"genres\"\n"
     ]
    },
    {
     "name": "stdout",
     "output_type": "stream",
     "text": [
      "Havenhurst:\n",
      "Genres: ['Horror', 'Mystery', 'Thriller']\n"
     ]
    },
    {
     "name": "stderr",
     "output_type": "stream",
     "text": [
      "2023-12-27 12:44:11,205 ERROR [imdbpy] /Users/mac/opt/anaconda3/lib/python3.9/site-packages/imdb/__init__.py:844: unknown information set \"genres\"\n"
     ]
    },
    {
     "name": "stdout",
     "output_type": "stream",
     "text": [
      "The Haunting of Margam Castle:\n",
      "Genres: ['Drama', 'Horror', 'Mystery']\n"
     ]
    },
    {
     "name": "stderr",
     "output_type": "stream",
     "text": [
      "2023-12-27 12:44:18,790 ERROR [imdbpy] /Users/mac/opt/anaconda3/lib/python3.9/site-packages/imdb/__init__.py:844: unknown information set \"genres\"\n"
     ]
    },
    {
     "name": "stdout",
     "output_type": "stream",
     "text": [
      "The Last Man on the Moon:\n",
      "Genres: ['Documentary', 'Adventure', 'Biography', 'History']\n"
     ]
    },
    {
     "name": "stderr",
     "output_type": "stream",
     "text": [
      "2023-12-27 12:44:25,465 ERROR [imdbpy] /Users/mac/opt/anaconda3/lib/python3.9/site-packages/imdb/__init__.py:844: unknown information set \"genres\"\n"
     ]
    },
    {
     "name": "stdout",
     "output_type": "stream",
     "text": [
      "Love on the Slopes:\n",
      "Genres: ['Comedy', 'Drama', 'Romance']\n"
     ]
    },
    {
     "name": "stderr",
     "output_type": "stream",
     "text": [
      "2023-12-27 12:44:35,811 ERROR [imdbpy] /Users/mac/opt/anaconda3/lib/python3.9/site-packages/imdb/__init__.py:844: unknown information set \"genres\"\n"
     ]
    },
    {
     "name": "stdout",
     "output_type": "stream",
     "text": [
      "Marie Curie, The Courage of Knowledge:\n",
      "Genres: ['Biography', 'Drama', 'Romance']\n"
     ]
    },
    {
     "name": "stderr",
     "output_type": "stream",
     "text": [
      "2023-12-27 12:44:42,953 ERROR [imdbpy] /Users/mac/opt/anaconda3/lib/python3.9/site-packages/imdb/__init__.py:844: unknown information set \"genres\"\n"
     ]
    },
    {
     "name": "stdout",
     "output_type": "stream",
     "text": [
      "Jolt:\n",
      "Genres: ['Action', 'Comedy', 'Crime', 'Thriller']\n"
     ]
    },
    {
     "name": "stderr",
     "output_type": "stream",
     "text": [
      "2023-12-27 12:44:48,737 ERROR [imdbpy] /Users/mac/opt/anaconda3/lib/python3.9/site-packages/imdb/__init__.py:844: unknown information set \"genres\"\n"
     ]
    },
    {
     "name": "stdout",
     "output_type": "stream",
     "text": [
      "Vendhu Thanindhathu Kaadu:\n",
      "Genres: ['Action', 'Crime', 'Drama']\n"
     ]
    },
    {
     "name": "stderr",
     "output_type": "stream",
     "text": [
      "2023-12-27 12:44:56,040 ERROR [imdbpy] /Users/mac/opt/anaconda3/lib/python3.9/site-packages/imdb/__init__.py:844: unknown information set \"genres\"\n"
     ]
    },
    {
     "name": "stdout",
     "output_type": "stream",
     "text": [
      "First Date:\n",
      "Genres: ['Comedy', 'Drama', 'Romance']\n"
     ]
    },
    {
     "name": "stderr",
     "output_type": "stream",
     "text": [
      "2023-12-27 12:45:03,639 ERROR [imdbpy] /Users/mac/opt/anaconda3/lib/python3.9/site-packages/imdb/__init__.py:844: unknown information set \"genres\"\n"
     ]
    },
    {
     "name": "stdout",
     "output_type": "stream",
     "text": [
      "Polterheist:\n",
      "Genres: ['Comedy', 'Crime', 'Horror']\n"
     ]
    },
    {
     "name": "stderr",
     "output_type": "stream",
     "text": [
      "2023-12-27 12:45:10,519 ERROR [imdbpy] /Users/mac/opt/anaconda3/lib/python3.9/site-packages/imdb/__init__.py:844: unknown information set \"genres\"\n"
     ]
    },
    {
     "name": "stdout",
     "output_type": "stream",
     "text": [
      "365:\n",
      "Genres: ['Drama', 'Romance']\n"
     ]
    },
    {
     "name": "stderr",
     "output_type": "stream",
     "text": [
      "2023-12-27 12:45:17,003 ERROR [imdbpy] /Users/mac/opt/anaconda3/lib/python3.9/site-packages/imdb/__init__.py:844: unknown information set \"genres\"\n"
     ]
    },
    {
     "name": "stdout",
     "output_type": "stream",
     "text": [
      "Ananya:\n",
      "Genres: ['Drama']\n"
     ]
    },
    {
     "name": "stderr",
     "output_type": "stream",
     "text": [
      "2023-12-27 12:45:26,554 ERROR [imdbpy] /Users/mac/opt/anaconda3/lib/python3.9/site-packages/imdb/__init__.py:844: unknown information set \"genres\"\n"
     ]
    },
    {
     "name": "stdout",
     "output_type": "stream",
     "text": [
      "Haunted:\n",
      "Genres: ['Comedy', 'Drama', 'Family', 'Fantasy', 'Horror', 'Mystery']\n"
     ]
    },
    {
     "name": "stderr",
     "output_type": "stream",
     "text": [
      "2023-12-27 12:45:32,965 ERROR [imdbpy] /Users/mac/opt/anaconda3/lib/python3.9/site-packages/imdb/__init__.py:844: unknown information set \"genres\"\n"
     ]
    },
    {
     "name": "stdout",
     "output_type": "stream",
     "text": [
      "The Runners:\n",
      "Genres: ['Action', 'Crime']\n"
     ]
    },
    {
     "name": "stderr",
     "output_type": "stream",
     "text": [
      "2023-12-27 12:45:40,948 ERROR [imdbpy] /Users/mac/opt/anaconda3/lib/python3.9/site-packages/imdb/__init__.py:844: unknown information set \"genres\"\n"
     ]
    },
    {
     "name": "stdout",
     "output_type": "stream",
     "text": [
      "Slipaway:\n",
      "Genres: ['Drama']\n"
     ]
    },
    {
     "name": "stderr",
     "output_type": "stream",
     "text": [
      "2023-12-27 12:45:48,565 ERROR [imdbpy] /Users/mac/opt/anaconda3/lib/python3.9/site-packages/imdb/__init__.py:844: unknown information set \"genres\"\n"
     ]
    },
    {
     "name": "stdout",
     "output_type": "stream",
     "text": [
      "Aadai:\n",
      "Genres: ['Drama', 'Thriller']\n"
     ]
    },
    {
     "name": "stderr",
     "output_type": "stream",
     "text": [
      "2023-12-27 12:45:56,644 ERROR [imdbpy] /Users/mac/opt/anaconda3/lib/python3.9/site-packages/imdb/__init__.py:844: unknown information set \"genres\"\n"
     ]
    },
    {
     "name": "stdout",
     "output_type": "stream",
     "text": [
      "4:4:44:\n",
      "Genres: ['Drama', 'Fantasy', 'Sci-Fi']\n"
     ]
    },
    {
     "name": "stderr",
     "output_type": "stream",
     "text": [
      "2023-12-27 12:46:03,350 ERROR [imdbpy] /Users/mac/opt/anaconda3/lib/python3.9/site-packages/imdb/__init__.py:844: unknown information set \"genres\"\n"
     ]
    },
    {
     "name": "stdout",
     "output_type": "stream",
     "text": [
      "Death in Texas:\n",
      "Genres: ['Action', 'Drama']\n"
     ]
    },
    {
     "name": "stderr",
     "output_type": "stream",
     "text": [
      "2023-12-27 12:46:09,291 ERROR [imdbpy] /Users/mac/opt/anaconda3/lib/python3.9/site-packages/imdb/__init__.py:844: unknown information set \"genres\"\n"
     ]
    },
    {
     "name": "stdout",
     "output_type": "stream",
     "text": [
      "Approaching Shadows:\n",
      "Genres: ['Horror']\n"
     ]
    },
    {
     "name": "stderr",
     "output_type": "stream",
     "text": [
      "2023-12-27 12:46:16,982 ERROR [imdbpy] /Users/mac/opt/anaconda3/lib/python3.9/site-packages/imdb/__init__.py:844: unknown information set \"genres\"\n"
     ]
    },
    {
     "name": "stdout",
     "output_type": "stream",
     "text": [
      "Good Night Oppy:\n",
      "Genres: ['Documentary']\n"
     ]
    },
    {
     "name": "stderr",
     "output_type": "stream",
     "text": [
      "2023-12-27 12:46:23,923 ERROR [imdbpy] /Users/mac/opt/anaconda3/lib/python3.9/site-packages/imdb/__init__.py:844: unknown information set \"genres\"\n"
     ]
    },
    {
     "name": "stdout",
     "output_type": "stream",
     "text": [
      "Jack Lantern:\n",
      "Genres: ['Drama', 'Horror']\n"
     ]
    },
    {
     "name": "stderr",
     "output_type": "stream",
     "text": [
      "2023-12-27 12:46:35,535 ERROR [imdbpy] /Users/mac/opt/anaconda3/lib/python3.9/site-packages/imdb/__init__.py:844: unknown information set \"genres\"\n"
     ]
    },
    {
     "name": "stdout",
     "output_type": "stream",
     "text": [
      "Whiplash:\n",
      "Genres: ['Drama', 'Music']\n"
     ]
    },
    {
     "name": "stderr",
     "output_type": "stream",
     "text": [
      "2023-12-27 12:46:44,631 ERROR [imdbpy] /Users/mac/opt/anaconda3/lib/python3.9/site-packages/imdb/__init__.py:844: unknown information set \"genres\"\n"
     ]
    },
    {
     "name": "stdout",
     "output_type": "stream",
     "text": [
      "Headgame:\n",
      "Genres: ['Horror']\n"
     ]
    },
    {
     "name": "stderr",
     "output_type": "stream",
     "text": [
      "2023-12-27 12:46:52,172 ERROR [imdbpy] /Users/mac/opt/anaconda3/lib/python3.9/site-packages/imdb/__init__.py:844: unknown information set \"genres\"\n"
     ]
    },
    {
     "name": "stdout",
     "output_type": "stream",
     "text": [
      "Loro 1:\n",
      "Genres: ['Biography', 'Drama']\n"
     ]
    },
    {
     "name": "stderr",
     "output_type": "stream",
     "text": [
      "2023-12-27 12:47:00,781 ERROR [imdbpy] /Users/mac/opt/anaconda3/lib/python3.9/site-packages/imdb/__init__.py:844: unknown information set \"genres\"\n"
     ]
    },
    {
     "name": "stdout",
     "output_type": "stream",
     "text": [
      "Cold Case:\n",
      "Genres: ['Crime', 'Drama', 'Mystery', 'Thriller']\n"
     ]
    },
    {
     "name": "stderr",
     "output_type": "stream",
     "text": [
      "2023-12-27 12:47:09,053 ERROR [imdbpy] /Users/mac/opt/anaconda3/lib/python3.9/site-packages/imdb/__init__.py:844: unknown information set \"genres\"\n"
     ]
    },
    {
     "name": "stdout",
     "output_type": "stream",
     "text": [
      "Hyena Road:\n",
      "Genres: ['Action', 'Drama', 'War']\n"
     ]
    },
    {
     "name": "stderr",
     "output_type": "stream",
     "text": [
      "2023-12-27 12:47:15,710 ERROR [imdbpy] /Users/mac/opt/anaconda3/lib/python3.9/site-packages/imdb/__init__.py:844: unknown information set \"genres\"\n"
     ]
    },
    {
     "name": "stdout",
     "output_type": "stream",
     "text": [
      "Made Guys:\n",
      "Genres: ['Comedy']\n"
     ]
    },
    {
     "name": "stderr",
     "output_type": "stream",
     "text": [
      "2023-12-27 12:47:24,546 ERROR [imdbpy] /Users/mac/opt/anaconda3/lib/python3.9/site-packages/imdb/__init__.py:844: unknown information set \"genres\"\n"
     ]
    },
    {
     "name": "stdout",
     "output_type": "stream",
     "text": [
      "There's Something About Mario:\n",
      "Genres: ['Comedy', 'Romance']\n"
     ]
    },
    {
     "name": "stderr",
     "output_type": "stream",
     "text": [
      "2023-12-27 12:47:33,189 ERROR [imdbpy] /Users/mac/opt/anaconda3/lib/python3.9/site-packages/imdb/__init__.py:844: unknown information set \"genres\"\n"
     ]
    },
    {
     "name": "stdout",
     "output_type": "stream",
     "text": [
      "Inheritance:\n",
      "Genres: ['Drama', 'Mystery', 'Thriller']\n"
     ]
    },
    {
     "name": "stderr",
     "output_type": "stream",
     "text": [
      "2023-12-27 12:47:39,846 ERROR [imdbpy] /Users/mac/opt/anaconda3/lib/python3.9/site-packages/imdb/__init__.py:844: unknown information set \"genres\"\n"
     ]
    },
    {
     "name": "stdout",
     "output_type": "stream",
     "text": [
      "Memory:\n",
      "Genres: ['Drama']\n"
     ]
    },
    {
     "name": "stderr",
     "output_type": "stream",
     "text": [
      "2023-12-27 12:47:45,987 ERROR [imdbpy] /Users/mac/opt/anaconda3/lib/python3.9/site-packages/imdb/__init__.py:844: unknown information set \"genres\"\n"
     ]
    },
    {
     "name": "stdout",
     "output_type": "stream",
     "text": [
      "Iron Mask:\n",
      "Genres: ['Action', 'Adventure', 'Drama']\n"
     ]
    },
    {
     "name": "stderr",
     "output_type": "stream",
     "text": [
      "2023-12-27 12:47:51,610 ERROR [imdbpy] /Users/mac/opt/anaconda3/lib/python3.9/site-packages/imdb/__init__.py:844: unknown information set \"genres\"\n"
     ]
    },
    {
     "name": "stdout",
     "output_type": "stream",
     "text": [
      "Beyond the Woods:\n",
      "Genres: ['Drama', 'Horror', 'Mystery']\n"
     ]
    },
    {
     "name": "stderr",
     "output_type": "stream",
     "text": [
      "2023-12-27 12:47:58,048 ERROR [imdbpy] /Users/mac/opt/anaconda3/lib/python3.9/site-packages/imdb/__init__.py:844: unknown information set \"genres\"\n"
     ]
    },
    {
     "name": "stdout",
     "output_type": "stream",
     "text": [
      "Laddie: The Man Behind the Movies:\n",
      "Genres: ['Documentary']\n"
     ]
    },
    {
     "name": "stderr",
     "output_type": "stream",
     "text": [
      "2023-12-27 12:48:04,877 ERROR [imdbpy] /Users/mac/opt/anaconda3/lib/python3.9/site-packages/imdb/__init__.py:844: unknown information set \"genres\"\n"
     ]
    },
    {
     "name": "stdout",
     "output_type": "stream",
     "text": [
      "COVID-21: Lethal Virus:\n",
      "Genres: ['Action', 'Drama', 'Horror', 'Sci-Fi', 'Thriller']\n"
     ]
    },
    {
     "name": "stderr",
     "output_type": "stream",
     "text": [
      "2023-12-27 12:48:13,418 ERROR [imdbpy] /Users/mac/opt/anaconda3/lib/python3.9/site-packages/imdb/__init__.py:844: unknown information set \"genres\"\n"
     ]
    },
    {
     "name": "stdout",
     "output_type": "stream",
     "text": [
      "The Map of Tiny Perfect Things:\n",
      "Genres: ['Comedy', 'Fantasy', 'Romance']\n"
     ]
    },
    {
     "name": "stderr",
     "output_type": "stream",
     "text": [
      "2023-12-27 12:48:19,092 ERROR [imdbpy] /Users/mac/opt/anaconda3/lib/python3.9/site-packages/imdb/__init__.py:844: unknown information set \"genres\"\n"
     ]
    },
    {
     "name": "stdout",
     "output_type": "stream",
     "text": [
      "Bayou Caviar:\n",
      "Genres: ['Crime', 'Mystery', 'Thriller']\n"
     ]
    },
    {
     "name": "stderr",
     "output_type": "stream",
     "text": [
      "2023-12-27 12:48:24,709 ERROR [imdbpy] /Users/mac/opt/anaconda3/lib/python3.9/site-packages/imdb/__init__.py:844: unknown information set \"genres\"\n"
     ]
    },
    {
     "name": "stdout",
     "output_type": "stream",
     "text": [
      "The Greasy Hands Preachers:\n",
      "Genres: ['Documentary']\n"
     ]
    },
    {
     "name": "stderr",
     "output_type": "stream",
     "text": [
      "2023-12-27 12:48:31,123 ERROR [imdbpy] /Users/mac/opt/anaconda3/lib/python3.9/site-packages/imdb/__init__.py:844: unknown information set \"genres\"\n"
     ]
    },
    {
     "name": "stdout",
     "output_type": "stream",
     "text": [
      "Zebra Girl:\n",
      "Genres: ['Mystery', 'Thriller']\n"
     ]
    },
    {
     "name": "stderr",
     "output_type": "stream",
     "text": [
      "2023-12-27 12:48:39,815 ERROR [imdbpy] /Users/mac/opt/anaconda3/lib/python3.9/site-packages/imdb/__init__.py:844: unknown information set \"genres\"\n"
     ]
    },
    {
     "name": "stdout",
     "output_type": "stream",
     "text": [
      "Peterloo:\n",
      "Genres: ['Drama', 'History']\n"
     ]
    },
    {
     "name": "stderr",
     "output_type": "stream",
     "text": [
      "2023-12-27 12:48:46,831 ERROR [imdbpy] /Users/mac/opt/anaconda3/lib/python3.9/site-packages/imdb/__init__.py:844: unknown information set \"genres\"\n"
     ]
    },
    {
     "name": "stdout",
     "output_type": "stream",
     "text": [
      "Potter's Ground:\n",
      "Genres: ['Drama', 'Thriller', 'Western']\n"
     ]
    },
    {
     "name": "stderr",
     "output_type": "stream",
     "text": [
      "2023-12-27 12:48:53,041 ERROR [imdbpy] /Users/mac/opt/anaconda3/lib/python3.9/site-packages/imdb/__init__.py:844: unknown information set \"genres\"\n"
     ]
    },
    {
     "name": "stdout",
     "output_type": "stream",
     "text": [
      "Batla House:\n",
      "Genres: ['Action', 'Crime', 'Drama', 'History', 'Thriller']\n"
     ]
    },
    {
     "name": "stderr",
     "output_type": "stream",
     "text": [
      "2023-12-27 12:49:00,766 ERROR [imdbpy] /Users/mac/opt/anaconda3/lib/python3.9/site-packages/imdb/__init__.py:844: unknown information set \"genres\"\n"
     ]
    },
    {
     "name": "stdout",
     "output_type": "stream",
     "text": [
      "A Cure for Wellness:\n",
      "Genres: ['Drama', 'Fantasy', 'Horror', 'Mystery', 'Sci-Fi', 'Thriller']\n"
     ]
    },
    {
     "name": "stderr",
     "output_type": "stream",
     "text": [
      "2023-12-27 12:49:16,497 ERROR [imdbpy] /Users/mac/opt/anaconda3/lib/python3.9/site-packages/imdb/__init__.py:844: unknown information set \"genres\"\n"
     ]
    },
    {
     "name": "stdout",
     "output_type": "stream",
     "text": [
      "The Appearance:\n",
      "Genres: ['Horror', 'Thriller']\n"
     ]
    },
    {
     "name": "stderr",
     "output_type": "stream",
     "text": [
      "2023-12-27 12:49:22,445 ERROR [imdbpy] /Users/mac/opt/anaconda3/lib/python3.9/site-packages/imdb/__init__.py:844: unknown information set \"genres\"\n"
     ]
    },
    {
     "name": "stdout",
     "output_type": "stream",
     "text": [
      "The Sonata:\n",
      "Genres: ['Horror', 'Music', 'Mystery', 'Thriller']\n"
     ]
    },
    {
     "name": "stderr",
     "output_type": "stream",
     "text": [
      "2023-12-27 12:49:29,463 ERROR [imdbpy] /Users/mac/opt/anaconda3/lib/python3.9/site-packages/imdb/__init__.py:844: unknown information set \"genres\"\n"
     ]
    },
    {
     "name": "stdout",
     "output_type": "stream",
     "text": [
      "The Diabolical:\n",
      "Genres: ['Animation', 'Short', 'Action', 'Adventure', 'Comedy', 'Drama', 'Sci-Fi']\n"
     ]
    },
    {
     "name": "stderr",
     "output_type": "stream",
     "text": [
      "2023-12-27 12:49:37,910 ERROR [imdbpy] /Users/mac/opt/anaconda3/lib/python3.9/site-packages/imdb/__init__.py:844: unknown information set \"genres\"\n"
     ]
    },
    {
     "name": "stdout",
     "output_type": "stream",
     "text": [
      "Escape from Mogadishu:\n",
      "Genres: ['Action', 'Drama', 'Thriller']\n"
     ]
    },
    {
     "name": "stderr",
     "output_type": "stream",
     "text": [
      "2023-12-27 12:49:44,053 ERROR [imdbpy] /Users/mac/opt/anaconda3/lib/python3.9/site-packages/imdb/__init__.py:844: unknown information set \"genres\"\n"
     ]
    },
    {
     "name": "stdout",
     "output_type": "stream",
     "text": [
      "Putham Pudhu Kaalai:\n",
      "Genres: ['Drama']\n"
     ]
    },
    {
     "name": "stderr",
     "output_type": "stream",
     "text": [
      "2023-12-27 12:49:53,360 ERROR [imdbpy] /Users/mac/opt/anaconda3/lib/python3.9/site-packages/imdb/__init__.py:844: unknown information set \"genres\"\n"
     ]
    },
    {
     "name": "stdout",
     "output_type": "stream",
     "text": [
      "Looks That Kill:\n",
      "Genres: ['Comedy', 'Drama', 'Romance']\n"
     ]
    },
    {
     "name": "stderr",
     "output_type": "stream",
     "text": [
      "2023-12-27 12:50:02,484 ERROR [imdbpy] /Users/mac/opt/anaconda3/lib/python3.9/site-packages/imdb/__init__.py:844: unknown information set \"genres\"\n"
     ]
    },
    {
     "name": "stdout",
     "output_type": "stream",
     "text": [
      "The Rest of Us:\n",
      "Genres: ['Drama']\n"
     ]
    },
    {
     "name": "stderr",
     "output_type": "stream",
     "text": [
      "2023-12-27 12:50:08,534 ERROR [imdbpy] /Users/mac/opt/anaconda3/lib/python3.9/site-packages/imdb/__init__.py:844: unknown information set \"genres\"\n"
     ]
    },
    {
     "name": "stdout",
     "output_type": "stream",
     "text": [
      "Last Rampage:\n",
      "Genres: ['Crime', 'Drama', 'Mystery', 'Thriller']\n"
     ]
    },
    {
     "name": "stderr",
     "output_type": "stream",
     "text": [
      "2023-12-27 12:50:16,838 ERROR [imdbpy] /Users/mac/opt/anaconda3/lib/python3.9/site-packages/imdb/__init__.py:844: unknown information set \"genres\"\n"
     ]
    },
    {
     "name": "stdout",
     "output_type": "stream",
     "text": [
      "Killing Gunther:\n",
      "Genres: ['Action', 'Comedy', 'Thriller']\n"
     ]
    },
    {
     "name": "stderr",
     "output_type": "stream",
     "text": [
      "2023-12-27 12:50:22,331 ERROR [imdbpy] /Users/mac/opt/anaconda3/lib/python3.9/site-packages/imdb/__init__.py:844: unknown information set \"genres\"\n"
     ]
    },
    {
     "name": "stdout",
     "output_type": "stream",
     "text": [
      "All Nighter:\n",
      "Genres: ['Comedy', 'Drama']\n"
     ]
    },
    {
     "name": "stderr",
     "output_type": "stream",
     "text": [
      "2023-12-27 12:50:28,925 ERROR [imdbpy] /Users/mac/opt/anaconda3/lib/python3.9/site-packages/imdb/__init__.py:844: unknown information set \"genres\"\n"
     ]
    },
    {
     "name": "stdout",
     "output_type": "stream",
     "text": [
      "Run:\n",
      "Genres: ['Animation', 'Adventure', 'Comedy', 'Family']\n"
     ]
    },
    {
     "name": "stderr",
     "output_type": "stream",
     "text": [
      "2023-12-27 12:50:35,784 ERROR [imdbpy] /Users/mac/opt/anaconda3/lib/python3.9/site-packages/imdb/__init__.py:844: unknown information set \"genres\"\n"
     ]
    },
    {
     "name": "stdout",
     "output_type": "stream",
     "text": [
      "Boulevard:\n",
      "Genres: ['Drama']\n"
     ]
    },
    {
     "name": "stderr",
     "output_type": "stream",
     "text": [
      "2023-12-27 12:50:43,100 ERROR [imdbpy] /Users/mac/opt/anaconda3/lib/python3.9/site-packages/imdb/__init__.py:844: unknown information set \"genres\"\n"
     ]
    },
    {
     "name": "stdout",
     "output_type": "stream",
     "text": [
      "Velvet:\n",
      "Genres: ['Drama', 'Romance']\n"
     ]
    },
    {
     "name": "stderr",
     "output_type": "stream",
     "text": [
      "2023-12-27 12:50:51,383 ERROR [imdbpy] /Users/mac/opt/anaconda3/lib/python3.9/site-packages/imdb/__init__.py:844: unknown information set \"genres\"\n"
     ]
    },
    {
     "name": "stdout",
     "output_type": "stream",
     "text": [
      "Unda:\n",
      "Genres: ['Action', 'Comedy', 'Thriller']\n"
     ]
    },
    {
     "name": "stderr",
     "output_type": "stream",
     "text": [
      "2023-12-27 12:51:00,750 ERROR [imdbpy] /Users/mac/opt/anaconda3/lib/python3.9/site-packages/imdb/__init__.py:844: unknown information set \"genres\"\n"
     ]
    },
    {
     "name": "stdout",
     "output_type": "stream",
     "text": [
      "Zoolander 2:\n",
      "Genres: ['Action', 'Adventure', 'Comedy', 'Mystery', 'Romance']\n"
     ]
    },
    {
     "name": "stderr",
     "output_type": "stream",
     "text": [
      "2023-12-27 12:51:09,031 ERROR [imdbpy] /Users/mac/opt/anaconda3/lib/python3.9/site-packages/imdb/__init__.py:844: unknown information set \"genres\"\n"
     ]
    },
    {
     "name": "stdout",
     "output_type": "stream",
     "text": [
      "Big Legend:\n",
      "Genres: ['Action', 'Adventure', 'Horror', 'Thriller']\n"
     ]
    },
    {
     "name": "stderr",
     "output_type": "stream",
     "text": [
      "2023-12-27 12:51:17,857 ERROR [imdbpy] /Users/mac/opt/anaconda3/lib/python3.9/site-packages/imdb/__init__.py:844: unknown information set \"genres\"\n"
     ]
    },
    {
     "name": "stdout",
     "output_type": "stream",
     "text": [
      "Never Goin' Back:\n",
      "Genres: ['Comedy', 'Crime', 'Drama']\n"
     ]
    },
    {
     "name": "stderr",
     "output_type": "stream",
     "text": [
      "2023-12-27 12:51:24,508 ERROR [imdbpy] /Users/mac/opt/anaconda3/lib/python3.9/site-packages/imdb/__init__.py:844: unknown information set \"genres\"\n"
     ]
    },
    {
     "name": "stdout",
     "output_type": "stream",
     "text": [
      "Come to Harm:\n",
      "Genres: ['Thriller']\n"
     ]
    },
    {
     "name": "stderr",
     "output_type": "stream",
     "text": [
      "2023-12-27 12:51:34,492 ERROR [imdbpy] /Users/mac/opt/anaconda3/lib/python3.9/site-packages/imdb/__init__.py:844: unknown information set \"genres\"\n"
     ]
    },
    {
     "name": "stdout",
     "output_type": "stream",
     "text": [
      "Follow Me:\n",
      "Genres: ['Adventure', 'Horror', 'Mystery', 'Thriller']\n"
     ]
    },
    {
     "name": "stderr",
     "output_type": "stream",
     "text": [
      "2023-12-27 12:51:43,097 ERROR [imdbpy] /Users/mac/opt/anaconda3/lib/python3.9/site-packages/imdb/__init__.py:844: unknown information set \"genres\"\n"
     ]
    },
    {
     "name": "stdout",
     "output_type": "stream",
     "text": [
      "Dead Man Down:\n",
      "Genres: ['Action', 'Adventure', 'Crime', 'Drama', 'Mystery', 'Thriller']\n"
     ]
    },
    {
     "name": "stderr",
     "output_type": "stream",
     "text": [
      "2023-12-27 12:51:48,341 ERROR [imdbpy] /Users/mac/opt/anaconda3/lib/python3.9/site-packages/imdb/__init__.py:844: unknown information set \"genres\"\n"
     ]
    },
    {
     "name": "stdout",
     "output_type": "stream",
     "text": [
      "DannyBoy:\n",
      "Genres: ['Comedy', 'Drama', 'Romance']\n"
     ]
    },
    {
     "name": "stderr",
     "output_type": "stream",
     "text": [
      "2023-12-27 12:51:55,075 ERROR [imdbpy] /Users/mac/opt/anaconda3/lib/python3.9/site-packages/imdb/__init__.py:844: unknown information set \"genres\"\n"
     ]
    },
    {
     "name": "stdout",
     "output_type": "stream",
     "text": [
      "The Burying Party:\n",
      "Genres: ['War']\n"
     ]
    },
    {
     "name": "stderr",
     "output_type": "stream",
     "text": [
      "2023-12-27 12:52:01,628 ERROR [imdbpy] /Users/mac/opt/anaconda3/lib/python3.9/site-packages/imdb/__init__.py:844: unknown information set \"genres\"\n"
     ]
    },
    {
     "name": "stdout",
     "output_type": "stream",
     "text": [
      "The Damned:\n",
      "Genres: ['Drama', 'War']\n"
     ]
    },
    {
     "name": "stderr",
     "output_type": "stream",
     "text": [
      "2023-12-27 12:52:08,960 ERROR [imdbpy] /Users/mac/opt/anaconda3/lib/python3.9/site-packages/imdb/__init__.py:844: unknown information set \"genres\"\n"
     ]
    },
    {
     "name": "stdout",
     "output_type": "stream",
     "text": [
      "48 Christmas Wishes:\n",
      "Genres: ['Animation', 'Adventure', 'Comedy', 'Drama', 'Family', 'Fantasy', 'Mystery']\n"
     ]
    },
    {
     "name": "stderr",
     "output_type": "stream",
     "text": [
      "2023-12-27 12:52:14,244 ERROR [imdbpy] /Users/mac/opt/anaconda3/lib/python3.9/site-packages/imdb/__init__.py:844: unknown information set \"genres\"\n"
     ]
    },
    {
     "name": "stdout",
     "output_type": "stream",
     "text": [
      "Sarpatta Parambarai:\n",
      "Genres: ['Action', 'Drama', 'Sport']\n"
     ]
    },
    {
     "name": "stderr",
     "output_type": "stream",
     "text": [
      "2023-12-27 12:52:19,100 ERROR [imdbpy] /Users/mac/opt/anaconda3/lib/python3.9/site-packages/imdb/__init__.py:844: unknown information set \"genres\"\n"
     ]
    },
    {
     "name": "stdout",
     "output_type": "stream",
     "text": [
      "Cardboard Gangsters:\n",
      "Genres: ['Crime', 'Drama']\n"
     ]
    },
    {
     "name": "stderr",
     "output_type": "stream",
     "text": [
      "2023-12-27 12:52:26,049 ERROR [imdbpy] /Users/mac/opt/anaconda3/lib/python3.9/site-packages/imdb/__init__.py:844: unknown information set \"genres\"\n"
     ]
    },
    {
     "name": "stdout",
     "output_type": "stream",
     "text": [
      "Hunt vs Lauda: The Next Generation:\n",
      "Genres: ['Documentary']\n"
     ]
    },
    {
     "name": "stderr",
     "output_type": "stream",
     "text": [
      "2023-12-27 12:52:31,688 ERROR [imdbpy] /Users/mac/opt/anaconda3/lib/python3.9/site-packages/imdb/__init__.py:844: unknown information set \"genres\"\n"
     ]
    },
    {
     "name": "stdout",
     "output_type": "stream",
     "text": [
      "First Born:\n",
      "Genres: ['Drama', 'Horror', 'Mystery', 'Thriller']\n"
     ]
    },
    {
     "name": "stderr",
     "output_type": "stream",
     "text": [
      "2023-12-27 12:52:37,339 ERROR [imdbpy] /Users/mac/opt/anaconda3/lib/python3.9/site-packages/imdb/__init__.py:844: unknown information set \"genres\"\n"
     ]
    },
    {
     "name": "stdout",
     "output_type": "stream",
     "text": [
      "The Convent:\n",
      "Genres: ['Comedy', 'Horror']\n"
     ]
    },
    {
     "name": "stderr",
     "output_type": "stream",
     "text": [
      "2023-12-27 12:52:42,890 ERROR [imdbpy] /Users/mac/opt/anaconda3/lib/python3.9/site-packages/imdb/__init__.py:844: unknown information set \"genres\"\n"
     ]
    },
    {
     "name": "stdout",
     "output_type": "stream",
     "text": [
      "Project Ithaca:\n",
      "Genres: ['Horror', 'Sci-Fi', 'Thriller']\n"
     ]
    },
    {
     "name": "stderr",
     "output_type": "stream",
     "text": [
      "2023-12-27 12:52:48,663 ERROR [imdbpy] /Users/mac/opt/anaconda3/lib/python3.9/site-packages/imdb/__init__.py:844: unknown information set \"genres\"\n"
     ]
    },
    {
     "name": "stdout",
     "output_type": "stream",
     "text": [
      "Farmer of the Year:\n",
      "Genres: ['Comedy', 'Drama']\n"
     ]
    },
    {
     "name": "stderr",
     "output_type": "stream",
     "text": [
      "2023-12-27 12:52:53,477 ERROR [imdbpy] /Users/mac/opt/anaconda3/lib/python3.9/site-packages/imdb/__init__.py:844: unknown information set \"genres\"\n"
     ]
    },
    {
     "name": "stdout",
     "output_type": "stream",
     "text": [
      "Portals:\n",
      "Genres: ['Horror', 'Mystery', 'Sci-Fi']\n"
     ]
    },
    {
     "name": "stderr",
     "output_type": "stream",
     "text": [
      "2023-12-27 12:53:00,030 ERROR [imdbpy] /Users/mac/opt/anaconda3/lib/python3.9/site-packages/imdb/__init__.py:844: unknown information set \"genres\"\n"
     ]
    },
    {
     "name": "stdout",
     "output_type": "stream",
     "text": [
      "Ripper Untold:\n",
      "Genres: ['Horror']\n"
     ]
    },
    {
     "name": "stderr",
     "output_type": "stream",
     "text": [
      "2023-12-27 12:53:07,790 ERROR [imdbpy] /Users/mac/opt/anaconda3/lib/python3.9/site-packages/imdb/__init__.py:844: unknown information set \"genres\"\n"
     ]
    },
    {
     "name": "stdout",
     "output_type": "stream",
     "text": [
      "Triple Threat:\n",
      "Genres: ['Action', 'Thriller']\n"
     ]
    },
    {
     "name": "stderr",
     "output_type": "stream",
     "text": [
      "2023-12-27 12:53:14,888 ERROR [imdbpy] /Users/mac/opt/anaconda3/lib/python3.9/site-packages/imdb/__init__.py:844: unknown information set \"genres\"\n"
     ]
    },
    {
     "name": "stdout",
     "output_type": "stream",
     "text": [
      "Robert Reborn:\n",
      "Genres: ['Horror']\n"
     ]
    },
    {
     "name": "stderr",
     "output_type": "stream",
     "text": [
      "2023-12-27 12:53:21,525 ERROR [imdbpy] /Users/mac/opt/anaconda3/lib/python3.9/site-packages/imdb/__init__.py:844: unknown information set \"genres\"\n"
     ]
    },
    {
     "name": "stdout",
     "output_type": "stream",
     "text": [
      "Shane:\n",
      "Genres: ['Drama', 'Western']\n"
     ]
    },
    {
     "name": "stderr",
     "output_type": "stream",
     "text": [
      "2023-12-27 12:53:32,048 ERROR [imdbpy] /Users/mac/opt/anaconda3/lib/python3.9/site-packages/imdb/__init__.py:844: unknown information set \"genres\"\n"
     ]
    },
    {
     "name": "stdout",
     "output_type": "stream",
     "text": [
      "The Dark Tower:\n",
      "Genres: ['Action', 'Adventure', 'Fantasy', 'Sci-Fi', 'Western']\n"
     ]
    },
    {
     "name": "stderr",
     "output_type": "stream",
     "text": [
      "2023-12-27 12:53:39,695 ERROR [imdbpy] /Users/mac/opt/anaconda3/lib/python3.9/site-packages/imdb/__init__.py:844: unknown information set \"genres\"\n"
     ]
    },
    {
     "name": "stdout",
     "output_type": "stream",
     "text": [
      "Aloha:\n",
      "Genres: ['Comedy', 'Drama', 'Romance']\n"
     ]
    },
    {
     "name": "stderr",
     "output_type": "stream",
     "text": [
      "2023-12-27 12:53:50,031 ERROR [imdbpy] /Users/mac/opt/anaconda3/lib/python3.9/site-packages/imdb/__init__.py:844: unknown information set \"genres\"\n"
     ]
    },
    {
     "name": "stdout",
     "output_type": "stream",
     "text": [
      "Penguin:\n",
      "Genres: ['Crime', 'Drama', 'Fantasy']\n"
     ]
    },
    {
     "name": "stderr",
     "output_type": "stream",
     "text": [
      "2023-12-27 12:54:02,405 ERROR [imdbpy] /Users/mac/opt/anaconda3/lib/python3.9/site-packages/imdb/__init__.py:844: unknown information set \"genres\"\n"
     ]
    },
    {
     "name": "stdout",
     "output_type": "stream",
     "text": [
      "Hustle:\n",
      "Genres: ['Comedy', 'Drama', 'Sport']\n"
     ]
    },
    {
     "name": "stderr",
     "output_type": "stream",
     "text": [
      "2023-12-27 12:54:09,774 ERROR [imdbpy] /Users/mac/opt/anaconda3/lib/python3.9/site-packages/imdb/__init__.py:844: unknown information set \"genres\"\n"
     ]
    },
    {
     "name": "stdout",
     "output_type": "stream",
     "text": [
      "Knocking:\n",
      "Genres: ['Horror', 'Mystery', 'Thriller']\n"
     ]
    },
    {
     "name": "stderr",
     "output_type": "stream",
     "text": [
      "2023-12-27 12:54:17,078 ERROR [imdbpy] /Users/mac/opt/anaconda3/lib/python3.9/site-packages/imdb/__init__.py:844: unknown information set \"genres\"\n"
     ]
    },
    {
     "name": "stdout",
     "output_type": "stream",
     "text": [
      "Grave Intentions:\n",
      "Genres: ['Horror']\n"
     ]
    },
    {
     "name": "stderr",
     "output_type": "stream",
     "text": [
      "2023-12-27 12:54:25,023 ERROR [imdbpy] /Users/mac/opt/anaconda3/lib/python3.9/site-packages/imdb/__init__.py:844: unknown information set \"genres\"\n"
     ]
    },
    {
     "name": "stdout",
     "output_type": "stream",
     "text": [
      "The Man in the Hat:\n",
      "Genres: ['Comedy']\n"
     ]
    },
    {
     "name": "stderr",
     "output_type": "stream",
     "text": [
      "2023-12-27 12:54:31,635 ERROR [imdbpy] /Users/mac/opt/anaconda3/lib/python3.9/site-packages/imdb/__init__.py:844: unknown information set \"genres\"\n"
     ]
    },
    {
     "name": "stdout",
     "output_type": "stream",
     "text": [
      "The Furnace:\n",
      "Genres: ['Action', 'Crime', 'Drama', 'Thriller']\n"
     ]
    },
    {
     "name": "stderr",
     "output_type": "stream",
     "text": [
      "2023-12-27 12:54:37,184 ERROR [imdbpy] /Users/mac/opt/anaconda3/lib/python3.9/site-packages/imdb/__init__.py:844: unknown information set \"genres\"\n"
     ]
    },
    {
     "name": "stdout",
     "output_type": "stream",
     "text": [
      "One Night Off:\n",
      "Genres: ['Comedy']\n"
     ]
    },
    {
     "name": "stderr",
     "output_type": "stream",
     "text": [
      "2023-12-27 12:54:43,802 ERROR [imdbpy] /Users/mac/opt/anaconda3/lib/python3.9/site-packages/imdb/__init__.py:844: unknown information set \"genres\"\n"
     ]
    },
    {
     "name": "stdout",
     "output_type": "stream",
     "text": [
      "Rogue Warfare:\n",
      "Genres: ['Action', 'War']\n"
     ]
    },
    {
     "name": "stderr",
     "output_type": "stream",
     "text": [
      "2023-12-27 12:54:51,295 ERROR [imdbpy] /Users/mac/opt/anaconda3/lib/python3.9/site-packages/imdb/__init__.py:844: unknown information set \"genres\"\n"
     ]
    },
    {
     "name": "stdout",
     "output_type": "stream",
     "text": [
      "Radhe Shyam:\n",
      "Genres: ['Drama', 'Romance']\n"
     ]
    },
    {
     "name": "stderr",
     "output_type": "stream",
     "text": [
      "2023-12-27 12:54:59,665 ERROR [imdbpy] /Users/mac/opt/anaconda3/lib/python3.9/site-packages/imdb/__init__.py:844: unknown information set \"genres\"\n"
     ]
    },
    {
     "name": "stdout",
     "output_type": "stream",
     "text": [
      "The Brave:\n",
      "Genres: ['Action', 'Biography', 'Drama']\n"
     ]
    },
    {
     "name": "stderr",
     "output_type": "stream",
     "text": [
      "2023-12-27 12:55:05,336 ERROR [imdbpy] /Users/mac/opt/anaconda3/lib/python3.9/site-packages/imdb/__init__.py:844: unknown information set \"genres\"\n"
     ]
    },
    {
     "name": "stdout",
     "output_type": "stream",
     "text": [
      "Evanescence: Embracing the Bitter Truth:\n",
      "Genres: ['Music']\n"
     ]
    },
    {
     "name": "stderr",
     "output_type": "stream",
     "text": [
      "2023-12-27 12:55:12,100 ERROR [imdbpy] /Users/mac/opt/anaconda3/lib/python3.9/site-packages/imdb/__init__.py:844: unknown information set \"genres\"\n"
     ]
    },
    {
     "name": "stdout",
     "output_type": "stream",
     "text": [
      "Fisherman's Friends: One and All:\n",
      "Genres: ['Comedy', 'Drama', 'Music']\n"
     ]
    },
    {
     "name": "stderr",
     "output_type": "stream",
     "text": [
      "2023-12-27 12:55:18,362 ERROR [imdbpy] /Users/mac/opt/anaconda3/lib/python3.9/site-packages/imdb/__init__.py:844: unknown information set \"genres\"\n"
     ]
    },
    {
     "name": "stdout",
     "output_type": "stream",
     "text": [
      "Crossfire:\n",
      "Genres: ['Action', 'Crime', 'Drama']\n"
     ]
    },
    {
     "name": "stderr",
     "output_type": "stream",
     "text": [
      "2023-12-27 12:55:24,138 ERROR [imdbpy] /Users/mac/opt/anaconda3/lib/python3.9/site-packages/imdb/__init__.py:844: unknown information set \"genres\"\n"
     ]
    },
    {
     "name": "stdout",
     "output_type": "stream",
     "text": [
      "Gatham:\n",
      "Genres: ['Thriller']\n"
     ]
    },
    {
     "name": "stderr",
     "output_type": "stream",
     "text": [
      "2023-12-27 12:55:30,479 ERROR [imdbpy] /Users/mac/opt/anaconda3/lib/python3.9/site-packages/imdb/__init__.py:844: unknown information set \"genres\"\n"
     ]
    },
    {
     "name": "stdout",
     "output_type": "stream",
     "text": [
      "Hytte:\n",
      "Genres: ['Drama']\n"
     ]
    },
    {
     "name": "stderr",
     "output_type": "stream",
     "text": [
      "2023-12-27 12:55:37,868 ERROR [imdbpy] /Users/mac/opt/anaconda3/lib/python3.9/site-packages/imdb/__init__.py:844: unknown information set \"genres\"\n"
     ]
    },
    {
     "name": "stdout",
     "output_type": "stream",
     "text": [
      "Bumperkleef:\n",
      "Genres: ['Action', 'Horror', 'Thriller']\n"
     ]
    },
    {
     "name": "stderr",
     "output_type": "stream",
     "text": [
      "2023-12-27 12:55:43,880 ERROR [imdbpy] /Users/mac/opt/anaconda3/lib/python3.9/site-packages/imdb/__init__.py:844: unknown information set \"genres\"\n"
     ]
    },
    {
     "name": "stdout",
     "output_type": "stream",
     "text": [
      "Zoey's Extraordinary Christmas:\n",
      "Genres: ['Comedy', 'Drama', 'Fantasy', 'Musical']\n"
     ]
    },
    {
     "name": "stderr",
     "output_type": "stream",
     "text": [
      "2023-12-27 12:55:49,948 ERROR [imdbpy] /Users/mac/opt/anaconda3/lib/python3.9/site-packages/imdb/__init__.py:844: unknown information set \"genres\"\n"
     ]
    },
    {
     "name": "stdout",
     "output_type": "stream",
     "text": [
      "Clara:\n",
      "Genres: ['Drama', 'Sci-Fi']\n"
     ]
    },
    {
     "name": "stderr",
     "output_type": "stream",
     "text": [
      "2023-12-27 12:55:56,295 ERROR [imdbpy] /Users/mac/opt/anaconda3/lib/python3.9/site-packages/imdb/__init__.py:844: unknown information set \"genres\"\n"
     ]
    },
    {
     "name": "stdout",
     "output_type": "stream",
     "text": [
      "Lowlife:\n",
      "Genres: ['Comedy', 'Crime', 'Drama', 'Horror', 'Thriller']\n"
     ]
    },
    {
     "name": "stderr",
     "output_type": "stream",
     "text": [
      "2023-12-27 12:56:04,228 ERROR [imdbpy] /Users/mac/opt/anaconda3/lib/python3.9/site-packages/imdb/__init__.py:844: unknown information set \"genres\"\n"
     ]
    },
    {
     "name": "stdout",
     "output_type": "stream",
     "text": [
      "On the Line:\n",
      "Genres: ['Thriller']\n"
     ]
    },
    {
     "name": "stderr",
     "output_type": "stream",
     "text": [
      "2023-12-27 12:56:10,731 ERROR [imdbpy] /Users/mac/opt/anaconda3/lib/python3.9/site-packages/imdb/__init__.py:844: unknown information set \"genres\"\n"
     ]
    },
    {
     "name": "stdout",
     "output_type": "stream",
     "text": [
      "Maussan's UFO Files:\n",
      "Genres: ['Documentary']\n"
     ]
    },
    {
     "name": "stderr",
     "output_type": "stream",
     "text": [
      "2023-12-27 12:56:17,615 ERROR [imdbpy] /Users/mac/opt/anaconda3/lib/python3.9/site-packages/imdb/__init__.py:844: unknown information set \"genres\"\n"
     ]
    },
    {
     "name": "stdout",
     "output_type": "stream",
     "text": [
      "Swim:\n",
      "Genres: ['Horror', 'Thriller']\n"
     ]
    },
    {
     "name": "stderr",
     "output_type": "stream",
     "text": [
      "2023-12-27 12:56:24,268 ERROR [imdbpy] /Users/mac/opt/anaconda3/lib/python3.9/site-packages/imdb/__init__.py:844: unknown information set \"genres\"\n"
     ]
    },
    {
     "name": "stdout",
     "output_type": "stream",
     "text": [
      "Snowkissed:\n",
      "Genres: ['Comedy', 'Romance']\n"
     ]
    },
    {
     "name": "stderr",
     "output_type": "stream",
     "text": [
      "2023-12-27 12:56:30,808 ERROR [imdbpy] /Users/mac/opt/anaconda3/lib/python3.9/site-packages/imdb/__init__.py:844: unknown information set \"genres\"\n"
     ]
    },
    {
     "name": "stdout",
     "output_type": "stream",
     "text": [
      "The Eagle's Nest:\n",
      "Genres: ['Thriller']\n"
     ]
    },
    {
     "name": "stderr",
     "output_type": "stream",
     "text": [
      "2023-12-27 12:56:41,578 ERROR [imdbpy] /Users/mac/opt/anaconda3/lib/python3.9/site-packages/imdb/__init__.py:844: unknown information set \"genres\"\n"
     ]
    },
    {
     "name": "stdout",
     "output_type": "stream",
     "text": [
      "Boy in the Corner:\n",
      "Genres: ['Crime', 'Drama']\n"
     ]
    },
    {
     "name": "stderr",
     "output_type": "stream",
     "text": [
      "2023-12-27 12:56:49,446 ERROR [imdbpy] /Users/mac/opt/anaconda3/lib/python3.9/site-packages/imdb/__init__.py:844: unknown information set \"genres\"\n"
     ]
    },
    {
     "name": "stdout",
     "output_type": "stream",
     "text": [
      "Pass Over:\n",
      "Genres: ['Drama']\n"
     ]
    },
    {
     "name": "stderr",
     "output_type": "stream",
     "text": [
      "2023-12-27 12:56:57,378 ERROR [imdbpy] /Users/mac/opt/anaconda3/lib/python3.9/site-packages/imdb/__init__.py:844: unknown information set \"genres\"\n"
     ]
    },
    {
     "name": "stdout",
     "output_type": "stream",
     "text": [
      "Digging to Death:\n",
      "Genres: ['Horror', 'Thriller']\n"
     ]
    },
    {
     "name": "stderr",
     "output_type": "stream",
     "text": [
      "2023-12-27 12:57:04,869 ERROR [imdbpy] /Users/mac/opt/anaconda3/lib/python3.9/site-packages/imdb/__init__.py:844: unknown information set \"genres\"\n"
     ]
    },
    {
     "name": "stdout",
     "output_type": "stream",
     "text": [
      "Mad to Be Normal:\n",
      "Genres: ['Biography', 'Drama', 'History']\n"
     ]
    },
    {
     "name": "stderr",
     "output_type": "stream",
     "text": [
      "2023-12-27 12:57:11,783 ERROR [imdbpy] /Users/mac/opt/anaconda3/lib/python3.9/site-packages/imdb/__init__.py:844: unknown information set \"genres\"\n"
     ]
    },
    {
     "name": "stdout",
     "output_type": "stream",
     "text": [
      "Rage:\n",
      "Genres: ['Action', 'Thriller']\n"
     ]
    },
    {
     "name": "stderr",
     "output_type": "stream",
     "text": [
      "2023-12-27 12:57:18,771 ERROR [imdbpy] /Users/mac/opt/anaconda3/lib/python3.9/site-packages/imdb/__init__.py:844: unknown information set \"genres\"\n"
     ]
    },
    {
     "name": "stdout",
     "output_type": "stream",
     "text": [
      "Bloodline:\n",
      "Genres: ['Drama', 'Thriller']\n"
     ]
    },
    {
     "name": "stderr",
     "output_type": "stream",
     "text": [
      "2023-12-27 12:57:24,419 ERROR [imdbpy] /Users/mac/opt/anaconda3/lib/python3.9/site-packages/imdb/__init__.py:844: unknown information set \"genres\"\n"
     ]
    },
    {
     "name": "stdout",
     "output_type": "stream",
     "text": [
      "The Livingston Gardener:\n",
      "Genres: ['Thriller']\n"
     ]
    },
    {
     "name": "stderr",
     "output_type": "stream",
     "text": [
      "2023-12-27 12:57:29,885 ERROR [imdbpy] /Users/mac/opt/anaconda3/lib/python3.9/site-packages/imdb/__init__.py:844: unknown information set \"genres\"\n"
     ]
    },
    {
     "name": "stdout",
     "output_type": "stream",
     "text": [
      "Escape Room:\n",
      "Genres: ['Action', 'Adventure', 'Horror', 'Mystery', 'Sci-Fi', 'Thriller']\n"
     ]
    },
    {
     "name": "stderr",
     "output_type": "stream",
     "text": [
      "2023-12-27 12:57:36,131 ERROR [imdbpy] /Users/mac/opt/anaconda3/lib/python3.9/site-packages/imdb/__init__.py:844: unknown information set \"genres\"\n"
     ]
    },
    {
     "name": "stdout",
     "output_type": "stream",
     "text": [
      "Beyond White Space:\n",
      "Genres: ['Sci-Fi', 'Thriller']\n"
     ]
    },
    {
     "name": "stderr",
     "output_type": "stream",
     "text": [
      "2023-12-27 12:57:42,140 ERROR [imdbpy] /Users/mac/opt/anaconda3/lib/python3.9/site-packages/imdb/__init__.py:844: unknown information set \"genres\"\n"
     ]
    },
    {
     "name": "stdout",
     "output_type": "stream",
     "text": [
      "Light in the Dark:\n",
      "Genres: ['Thriller']\n"
     ]
    },
    {
     "name": "stderr",
     "output_type": "stream",
     "text": [
      "2023-12-27 12:57:48,002 ERROR [imdbpy] /Users/mac/opt/anaconda3/lib/python3.9/site-packages/imdb/__init__.py:844: unknown information set \"genres\"\n"
     ]
    },
    {
     "name": "stdout",
     "output_type": "stream",
     "text": [
      "The Saturn V Story:\n",
      "Genres: ['Documentary', 'History']\n"
     ]
    },
    {
     "name": "stderr",
     "output_type": "stream",
     "text": [
      "2023-12-27 12:57:53,500 ERROR [imdbpy] /Users/mac/opt/anaconda3/lib/python3.9/site-packages/imdb/__init__.py:844: unknown information set \"genres\"\n"
     ]
    },
    {
     "name": "stdout",
     "output_type": "stream",
     "text": [
      "The Broken Hearts Gallery:\n",
      "Genres: ['Comedy', 'Romance']\n"
     ]
    },
    {
     "name": "stderr",
     "output_type": "stream",
     "text": [
      "2023-12-27 12:57:58,586 ERROR [imdbpy] /Users/mac/opt/anaconda3/lib/python3.9/site-packages/imdb/__init__.py:844: unknown information set \"genres\"\n"
     ]
    },
    {
     "name": "stdout",
     "output_type": "stream",
     "text": [
      "School of the Damned:\n",
      "Genres: ['Horror', 'Thriller']\n"
     ]
    },
    {
     "name": "stderr",
     "output_type": "stream",
     "text": [
      "2023-12-27 12:58:05,059 ERROR [imdbpy] /Users/mac/opt/anaconda3/lib/python3.9/site-packages/imdb/__init__.py:844: unknown information set \"genres\"\n"
     ]
    },
    {
     "name": "stdout",
     "output_type": "stream",
     "text": [
      "Antrum:\n",
      "Genres: ['Horror']\n"
     ]
    },
    {
     "name": "stderr",
     "output_type": "stream",
     "text": [
      "2023-12-27 12:58:12,179 ERROR [imdbpy] /Users/mac/opt/anaconda3/lib/python3.9/site-packages/imdb/__init__.py:844: unknown information set \"genres\"\n"
     ]
    },
    {
     "name": "stdout",
     "output_type": "stream",
     "text": [
      "Valley Girl:\n",
      "Genres: ['Comedy', 'Romance']\n"
     ]
    },
    {
     "name": "stderr",
     "output_type": "stream",
     "text": [
      "2023-12-27 12:58:19,088 ERROR [imdbpy] /Users/mac/opt/anaconda3/lib/python3.9/site-packages/imdb/__init__.py:844: unknown information set \"genres\"\n"
     ]
    },
    {
     "name": "stdout",
     "output_type": "stream",
     "text": [
      "While We're Young:\n",
      "Genres: ['Comedy', 'Drama']\n"
     ]
    },
    {
     "name": "stderr",
     "output_type": "stream",
     "text": [
      "2023-12-27 12:58:25,981 ERROR [imdbpy] /Users/mac/opt/anaconda3/lib/python3.9/site-packages/imdb/__init__.py:844: unknown information set \"genres\"\n"
     ]
    },
    {
     "name": "stdout",
     "output_type": "stream",
     "text": [
      "Ashes in the Snow:\n",
      "Genres: ['Drama', 'History', 'Romance', 'War']\n"
     ]
    },
    {
     "name": "stderr",
     "output_type": "stream",
     "text": [
      "2023-12-27 12:58:32,723 ERROR [imdbpy] /Users/mac/opt/anaconda3/lib/python3.9/site-packages/imdb/__init__.py:844: unknown information set \"genres\"\n"
     ]
    },
    {
     "name": "stdout",
     "output_type": "stream",
     "text": [
      "City of Tiny Lights:\n",
      "Genres: ['Crime', 'Drama', 'Mystery', 'Thriller']\n"
     ]
    },
    {
     "name": "stderr",
     "output_type": "stream",
     "text": [
      "2023-12-27 12:58:38,199 ERROR [imdbpy] /Users/mac/opt/anaconda3/lib/python3.9/site-packages/imdb/__init__.py:844: unknown information set \"genres\"\n"
     ]
    },
    {
     "name": "stdout",
     "output_type": "stream",
     "text": [
      "Boy Meets Girl:\n",
      "Genres: ['Drama', 'Romance']\n"
     ]
    },
    {
     "name": "stderr",
     "output_type": "stream",
     "text": [
      "2023-12-27 12:58:43,363 ERROR [imdbpy] /Users/mac/opt/anaconda3/lib/python3.9/site-packages/imdb/__init__.py:844: unknown information set \"genres\"\n"
     ]
    },
    {
     "name": "stdout",
     "output_type": "stream",
     "text": [
      "Master Z: Ip Man Legacy:\n",
      "Genres: ['Action', 'Biography', 'Crime', 'Drama']\n"
     ]
    },
    {
     "name": "stderr",
     "output_type": "stream",
     "text": [
      "2023-12-27 12:58:48,934 ERROR [imdbpy] /Users/mac/opt/anaconda3/lib/python3.9/site-packages/imdb/__init__.py:844: unknown information set \"genres\"\n"
     ]
    },
    {
     "name": "stdout",
     "output_type": "stream",
     "text": [
      "The Worst Thing:\n",
      "Genres: ['Documentary']\n"
     ]
    },
    {
     "name": "stderr",
     "output_type": "stream",
     "text": [
      "2023-12-27 12:58:55,115 ERROR [imdbpy] /Users/mac/opt/anaconda3/lib/python3.9/site-packages/imdb/__init__.py:844: unknown information set \"genres\"\n"
     ]
    },
    {
     "name": "stdout",
     "output_type": "stream",
     "text": [
      "Parallel:\n",
      "Genres: ['Drama', 'Mystery', 'Sci-Fi', 'Thriller']\n"
     ]
    },
    {
     "name": "stderr",
     "output_type": "stream",
     "text": [
      "2023-12-27 12:59:01,591 ERROR [imdbpy] /Users/mac/opt/anaconda3/lib/python3.9/site-packages/imdb/__init__.py:844: unknown information set \"genres\"\n"
     ]
    },
    {
     "name": "stdout",
     "output_type": "stream",
     "text": [
      "Woodland:\n",
      "Genres: ['Thriller']\n"
     ]
    },
    {
     "name": "stderr",
     "output_type": "stream",
     "text": [
      "2023-12-27 12:59:08,287 ERROR [imdbpy] /Users/mac/opt/anaconda3/lib/python3.9/site-packages/imdb/__init__.py:844: unknown information set \"genres\"\n"
     ]
    },
    {
     "name": "stdout",
     "output_type": "stream",
     "text": [
      "Seven Weeks:\n",
      "Genres: ['Drama']\n"
     ]
    },
    {
     "name": "stderr",
     "output_type": "stream",
     "text": [
      "2023-12-27 12:59:13,374 ERROR [imdbpy] /Users/mac/opt/anaconda3/lib/python3.9/site-packages/imdb/__init__.py:844: unknown information set \"genres\"\n"
     ]
    },
    {
     "name": "stdout",
     "output_type": "stream",
     "text": [
      "Deep Hatred:\n",
      "Genres: ['Horror']\n"
     ]
    },
    {
     "name": "stderr",
     "output_type": "stream",
     "text": [
      "2023-12-27 12:59:19,544 ERROR [imdbpy] /Users/mac/opt/anaconda3/lib/python3.9/site-packages/imdb/__init__.py:844: unknown information set \"genres\"\n"
     ]
    },
    {
     "name": "stdout",
     "output_type": "stream",
     "text": [
      "About Fate:\n",
      "Genres: ['Comedy', 'Romance']\n"
     ]
    },
    {
     "name": "stderr",
     "output_type": "stream",
     "text": [
      "2023-12-27 12:59:26,729 ERROR [imdbpy] /Users/mac/opt/anaconda3/lib/python3.9/site-packages/imdb/__init__.py:844: unknown information set \"genres\"\n"
     ]
    },
    {
     "name": "stdout",
     "output_type": "stream",
     "text": [
      "Brexitannia:\n",
      "Genres: ['Documentary']\n"
     ]
    },
    {
     "name": "stderr",
     "output_type": "stream",
     "text": [
      "2023-12-27 12:59:34,137 ERROR [imdbpy] /Users/mac/opt/anaconda3/lib/python3.9/site-packages/imdb/__init__.py:844: unknown information set \"genres\"\n"
     ]
    },
    {
     "name": "stdout",
     "output_type": "stream",
     "text": [
      "Darbar:\n",
      "Genres: ['Action', 'Crime', 'Thriller']\n"
     ]
    },
    {
     "name": "stderr",
     "output_type": "stream",
     "text": [
      "2023-12-27 12:59:41,733 ERROR [imdbpy] /Users/mac/opt/anaconda3/lib/python3.9/site-packages/imdb/__init__.py:844: unknown information set \"genres\"\n"
     ]
    },
    {
     "name": "stdout",
     "output_type": "stream",
     "text": [
      "Women:\n",
      "Genres: ['Drama', 'Romance']\n"
     ]
    },
    {
     "name": "stderr",
     "output_type": "stream",
     "text": [
      "2023-12-27 12:59:47,084 ERROR [imdbpy] /Users/mac/opt/anaconda3/lib/python3.9/site-packages/imdb/__init__.py:844: unknown information set \"genres\"\n"
     ]
    },
    {
     "name": "stdout",
     "output_type": "stream",
     "text": [
      "Bad Match:\n",
      "Genres: ['Horror', 'Mystery', 'Thriller']\n"
     ]
    },
    {
     "name": "stderr",
     "output_type": "stream",
     "text": [
      "2023-12-27 12:59:53,277 ERROR [imdbpy] /Users/mac/opt/anaconda3/lib/python3.9/site-packages/imdb/__init__.py:844: unknown information set \"genres\"\n"
     ]
    },
    {
     "name": "stdout",
     "output_type": "stream",
     "text": [
      "Dave Made a Maze:\n",
      "Genres: ['Adventure', 'Comedy', 'Fantasy', 'Horror']\n"
     ]
    },
    {
     "name": "stderr",
     "output_type": "stream",
     "text": [
      "2023-12-27 12:59:58,911 ERROR [imdbpy] /Users/mac/opt/anaconda3/lib/python3.9/site-packages/imdb/__init__.py:844: unknown information set \"genres\"\n"
     ]
    },
    {
     "name": "stdout",
     "output_type": "stream",
     "text": [
      "Peace Officer:\n",
      "Genres: ['Documentary', 'Crime']\n"
     ]
    },
    {
     "name": "stderr",
     "output_type": "stream",
     "text": [
      "2023-12-27 13:00:04,936 ERROR [imdbpy] /Users/mac/opt/anaconda3/lib/python3.9/site-packages/imdb/__init__.py:844: unknown information set \"genres\"\n"
     ]
    },
    {
     "name": "stdout",
     "output_type": "stream",
     "text": [
      "Most Beautiful Island:\n",
      "Genres: ['Drama', 'Horror', 'Thriller']\n"
     ]
    },
    {
     "name": "stderr",
     "output_type": "stream",
     "text": [
      "2023-12-27 13:00:10,956 ERROR [imdbpy] /Users/mac/opt/anaconda3/lib/python3.9/site-packages/imdb/__init__.py:844: unknown information set \"genres\"\n"
     ]
    },
    {
     "name": "stdout",
     "output_type": "stream",
     "text": [
      "The Hatred:\n",
      "Genres: ['Drama', 'Horror', 'Mystery', 'Thriller']\n"
     ]
    },
    {
     "name": "stderr",
     "output_type": "stream",
     "text": [
      "2023-12-27 13:00:16,807 ERROR [imdbpy] /Users/mac/opt/anaconda3/lib/python3.9/site-packages/imdb/__init__.py:844: unknown information set \"genres\"\n"
     ]
    },
    {
     "name": "stdout",
     "output_type": "stream",
     "text": [
      "Victor Crowley:\n",
      "Genres: ['Action', 'Comedy', 'Horror', 'Thriller']\n"
     ]
    },
    {
     "name": "stderr",
     "output_type": "stream",
     "text": [
      "2023-12-27 13:00:22,095 ERROR [imdbpy] /Users/mac/opt/anaconda3/lib/python3.9/site-packages/imdb/__init__.py:844: unknown information set \"genres\"\n"
     ]
    },
    {
     "name": "stdout",
     "output_type": "stream",
     "text": [
      "The Watchmaker's Apprentice:\n",
      "Genres: ['Documentary', 'Biography', 'History']\n"
     ]
    },
    {
     "name": "stderr",
     "output_type": "stream",
     "text": [
      "2023-12-27 13:00:28,290 ERROR [imdbpy] /Users/mac/opt/anaconda3/lib/python3.9/site-packages/imdb/__init__.py:844: unknown information set \"genres\"\n"
     ]
    },
    {
     "name": "stdout",
     "output_type": "stream",
     "text": [
      "The Courier:\n",
      "Genres: ['Drama', 'History', 'Mystery', 'Thriller', 'War']\n"
     ]
    },
    {
     "name": "stderr",
     "output_type": "stream",
     "text": [
      "2023-12-27 13:00:36,686 ERROR [imdbpy] /Users/mac/opt/anaconda3/lib/python3.9/site-packages/imdb/__init__.py:844: unknown information set \"genres\"\n"
     ]
    },
    {
     "name": "stdout",
     "output_type": "stream",
     "text": [
      "Papillon:\n",
      "Genres: ['Biography', 'Crime', 'Drama']\n"
     ]
    },
    {
     "name": "stderr",
     "output_type": "stream",
     "text": [
      "2023-12-27 13:00:44,572 ERROR [imdbpy] /Users/mac/opt/anaconda3/lib/python3.9/site-packages/imdb/__init__.py:844: unknown information set \"genres\"\n"
     ]
    },
    {
     "name": "stdout",
     "output_type": "stream",
     "text": [
      "Kajaki:\n",
      "Genres: ['Adventure', 'Biography', 'Drama', 'Thriller', 'War']\n"
     ]
    },
    {
     "name": "stderr",
     "output_type": "stream",
     "text": [
      "2023-12-27 13:00:53,329 ERROR [imdbpy] /Users/mac/opt/anaconda3/lib/python3.9/site-packages/imdb/__init__.py:844: unknown information set \"genres\"\n"
     ]
    },
    {
     "name": "stdout",
     "output_type": "stream",
     "text": [
      "SGT. Will Gardner:\n",
      "Genres: ['Action', 'Adventure', 'Drama', 'War']\n"
     ]
    },
    {
     "name": "stderr",
     "output_type": "stream",
     "text": [
      "2023-12-27 13:00:59,418 ERROR [imdbpy] /Users/mac/opt/anaconda3/lib/python3.9/site-packages/imdb/__init__.py:844: unknown information set \"genres\"\n"
     ]
    },
    {
     "name": "stdout",
     "output_type": "stream",
     "text": [
      "Bharat:\n",
      "Genres: ['Action', 'Biography', 'Drama', 'History', 'Thriller']\n"
     ]
    },
    {
     "name": "stderr",
     "output_type": "stream",
     "text": [
      "2023-12-27 13:01:07,782 ERROR [imdbpy] /Users/mac/opt/anaconda3/lib/python3.9/site-packages/imdb/__init__.py:844: unknown information set \"genres\"\n"
     ]
    },
    {
     "name": "stdout",
     "output_type": "stream",
     "text": [
      "Tom Clancy's Without Remorse:\n",
      "Genres: ['Documentary']\n"
     ]
    },
    {
     "name": "stderr",
     "output_type": "stream",
     "text": [
      "2023-12-27 13:01:18,437 ERROR [imdbpy] /Users/mac/opt/anaconda3/lib/python3.9/site-packages/imdb/__init__.py:844: unknown information set \"genres\"\n"
     ]
    },
    {
     "name": "stdout",
     "output_type": "stream",
     "text": [
      "Samrat Prithviraj:\n",
      "Genres: ['Action', 'Drama', 'History', 'War']\n"
     ]
    },
    {
     "name": "stderr",
     "output_type": "stream",
     "text": [
      "2023-12-27 13:01:26,874 ERROR [imdbpy] /Users/mac/opt/anaconda3/lib/python3.9/site-packages/imdb/__init__.py:844: unknown information set \"genres\"\n"
     ]
    },
    {
     "name": "stdout",
     "output_type": "stream",
     "text": [
      "The Haunting of Sharon Tate:\n",
      "Genres: ['Drama', 'Horror', 'Thriller']\n"
     ]
    },
    {
     "name": "stderr",
     "output_type": "stream",
     "text": [
      "2023-12-27 13:01:39,113 ERROR [imdbpy] /Users/mac/opt/anaconda3/lib/python3.9/site-packages/imdb/__init__.py:844: unknown information set \"genres\"\n"
     ]
    },
    {
     "name": "stdout",
     "output_type": "stream",
     "text": [
      "The Aeronauts:\n",
      "Genres: ['Action', 'Adventure', 'Drama', 'Romance']\n"
     ]
    },
    {
     "name": "stderr",
     "output_type": "stream",
     "text": [
      "2023-12-27 13:01:49,895 ERROR [imdbpy] /Users/mac/opt/anaconda3/lib/python3.9/site-packages/imdb/__init__.py:844: unknown information set \"genres\"\n"
     ]
    },
    {
     "name": "stdout",
     "output_type": "stream",
     "text": [
      "Dragon Knight:\n",
      "Genres: ['Animation', 'Action', 'Adventure', 'Comedy', 'Family', 'Fantasy']\n"
     ]
    },
    {
     "name": "stderr",
     "output_type": "stream",
     "text": [
      "2023-12-27 13:01:55,292 ERROR [imdbpy] /Users/mac/opt/anaconda3/lib/python3.9/site-packages/imdb/__init__.py:844: unknown information set \"genres\"\n"
     ]
    },
    {
     "name": "stdout",
     "output_type": "stream",
     "text": [
      "Never Surrender: A Galaxy Quest Documentary:\n",
      "Genres: ['Documentary']\n"
     ]
    },
    {
     "name": "stderr",
     "output_type": "stream",
     "text": [
      "2023-12-27 13:02:00,545 ERROR [imdbpy] /Users/mac/opt/anaconda3/lib/python3.9/site-packages/imdb/__init__.py:844: unknown information set \"genres\"\n"
     ]
    },
    {
     "name": "stdout",
     "output_type": "stream",
     "text": [
      "Hidden Turkey:\n",
      "Genres: ['Documentary']\n"
     ]
    },
    {
     "name": "stderr",
     "output_type": "stream",
     "text": [
      "2023-12-27 13:02:08,120 ERROR [imdbpy] /Users/mac/opt/anaconda3/lib/python3.9/site-packages/imdb/__init__.py:844: unknown information set \"genres\"\n"
     ]
    },
    {
     "name": "stdout",
     "output_type": "stream",
     "text": [
      "D-Railed:\n",
      "Genres: ['Action', 'Adventure', 'Horror', 'Mystery', 'Sci-Fi', 'Thriller']\n"
     ]
    },
    {
     "name": "stderr",
     "output_type": "stream",
     "text": [
      "2023-12-27 13:02:17,563 ERROR [imdbpy] /Users/mac/opt/anaconda3/lib/python3.9/site-packages/imdb/__init__.py:844: unknown information set \"genres\"\n"
     ]
    },
    {
     "name": "stdout",
     "output_type": "stream",
     "text": [
      "Mayday:\n",
      "Genres: ['Documentary', 'Crime', 'History']\n"
     ]
    },
    {
     "name": "stderr",
     "output_type": "stream",
     "text": [
      "2023-12-27 13:02:23,095 ERROR [imdbpy] /Users/mac/opt/anaconda3/lib/python3.9/site-packages/imdb/__init__.py:844: unknown information set \"genres\"\n"
     ]
    },
    {
     "name": "stdout",
     "output_type": "stream",
     "text": [
      "Tokyo Rising:\n",
      "Genres: ['Sport', 'Documentary']\n"
     ]
    },
    {
     "name": "stderr",
     "output_type": "stream",
     "text": [
      "2023-12-27 13:02:29,425 ERROR [imdbpy] /Users/mac/opt/anaconda3/lib/python3.9/site-packages/imdb/__init__.py:844: unknown information set \"genres\"\n"
     ]
    },
    {
     "name": "stdout",
     "output_type": "stream",
     "text": [
      "W/O Ram:\n",
      "Genres: ['Thriller']\n"
     ]
    },
    {
     "name": "stderr",
     "output_type": "stream",
     "text": [
      "2023-12-27 13:02:39,199 ERROR [imdbpy] /Users/mac/opt/anaconda3/lib/python3.9/site-packages/imdb/__init__.py:844: unknown information set \"genres\"\n"
     ]
    },
    {
     "name": "stdout",
     "output_type": "stream",
     "text": [
      "Nerve:\n",
      "Genres: ['Action', 'Adventure', 'Crime', 'Drama', 'Thriller']\n"
     ]
    },
    {
     "name": "stderr",
     "output_type": "stream",
     "text": [
      "2023-12-27 13:02:46,276 ERROR [imdbpy] /Users/mac/opt/anaconda3/lib/python3.9/site-packages/imdb/__init__.py:844: unknown information set \"genres\"\n"
     ]
    },
    {
     "name": "stdout",
     "output_type": "stream",
     "text": [
      "Killer Legends:\n",
      "Genres: ['Documentary', 'Crime', 'History', 'Horror']\n"
     ]
    },
    {
     "name": "stderr",
     "output_type": "stream",
     "text": [
      "2023-12-27 13:02:51,560 ERROR [imdbpy] /Users/mac/opt/anaconda3/lib/python3.9/site-packages/imdb/__init__.py:844: unknown information set \"genres\"\n"
     ]
    },
    {
     "name": "stdout",
     "output_type": "stream",
     "text": [
      "Mendarat Darurat:\n",
      "Genres: ['Comedy', 'Romance']\n"
     ]
    },
    {
     "name": "stderr",
     "output_type": "stream",
     "text": [
      "2023-12-27 13:02:56,989 ERROR [imdbpy] /Users/mac/opt/anaconda3/lib/python3.9/site-packages/imdb/__init__.py:844: unknown information set \"genres\"\n"
     ]
    },
    {
     "name": "stdout",
     "output_type": "stream",
     "text": [
      "Encounter:\n",
      "Genres: ['Drama', 'Sci-Fi', 'Thriller']\n"
     ]
    },
    {
     "name": "stderr",
     "output_type": "stream",
     "text": [
      "2023-12-27 13:03:03,196 ERROR [imdbpy] /Users/mac/opt/anaconda3/lib/python3.9/site-packages/imdb/__init__.py:844: unknown information set \"genres\"\n"
     ]
    },
    {
     "name": "stdout",
     "output_type": "stream",
     "text": [
      "When Jeff Tried to Save the World:\n",
      "Genres: ['Comedy', 'Drama']\n"
     ]
    },
    {
     "name": "stderr",
     "output_type": "stream",
     "text": [
      "2023-12-27 13:03:09,655 ERROR [imdbpy] /Users/mac/opt/anaconda3/lib/python3.9/site-packages/imdb/__init__.py:844: unknown information set \"genres\"\n"
     ]
    },
    {
     "name": "stdout",
     "output_type": "stream",
     "text": [
      "Myth: Bigfoot Hunters:\n",
      "Genres: ['Action', 'Drama', 'Fantasy', 'Thriller']\n"
     ]
    },
    {
     "name": "stderr",
     "output_type": "stream",
     "text": [
      "2023-12-27 13:03:17,530 ERROR [imdbpy] /Users/mac/opt/anaconda3/lib/python3.9/site-packages/imdb/__init__.py:844: unknown information set \"genres\"\n"
     ]
    },
    {
     "name": "stdout",
     "output_type": "stream",
     "text": [
      "Gold:\n",
      "Genres: ['Action', 'Adventure', 'Thriller']\n"
     ]
    },
    {
     "name": "stderr",
     "output_type": "stream",
     "text": [
      "2023-12-27 13:03:23,971 ERROR [imdbpy] /Users/mac/opt/anaconda3/lib/python3.9/site-packages/imdb/__init__.py:844: unknown information set \"genres\"\n"
     ]
    },
    {
     "name": "stdout",
     "output_type": "stream",
     "text": [
      "True Story:\n",
      "Genres: ['Biography', 'Crime', 'Drama', 'History', 'Mystery']\n"
     ]
    },
    {
     "name": "stderr",
     "output_type": "stream",
     "text": [
      "2023-12-27 13:03:30,793 ERROR [imdbpy] /Users/mac/opt/anaconda3/lib/python3.9/site-packages/imdb/__init__.py:844: unknown information set \"genres\"\n"
     ]
    },
    {
     "name": "stdout",
     "output_type": "stream",
     "text": [
      "Death Alley:\n",
      "Genres: ['Biography', 'History', 'Western']\n"
     ]
    },
    {
     "name": "stderr",
     "output_type": "stream",
     "text": [
      "2023-12-27 13:03:38,090 ERROR [imdbpy] /Users/mac/opt/anaconda3/lib/python3.9/site-packages/imdb/__init__.py:844: unknown information set \"genres\"\n"
     ]
    },
    {
     "name": "stdout",
     "output_type": "stream",
     "text": [
      "Crown Heights:\n",
      "Genres: ['Biography', 'Crime', 'Drama', 'Romance']\n"
     ]
    },
    {
     "name": "stderr",
     "output_type": "stream",
     "text": [
      "2023-12-27 13:03:43,528 ERROR [imdbpy] /Users/mac/opt/anaconda3/lib/python3.9/site-packages/imdb/__init__.py:844: unknown information set \"genres\"\n"
     ]
    },
    {
     "name": "stdout",
     "output_type": "stream",
     "text": [
      "Pale Star:\n",
      "Genres: ['Thriller']\n"
     ]
    },
    {
     "name": "stderr",
     "output_type": "stream",
     "text": [
      "2023-12-27 13:03:48,909 ERROR [imdbpy] /Users/mac/opt/anaconda3/lib/python3.9/site-packages/imdb/__init__.py:844: unknown information set \"genres\"\n"
     ]
    },
    {
     "name": "stdout",
     "output_type": "stream",
     "text": [
      "The Fourth Musketeer:\n",
      "Genres: ['Action', 'Adventure']\n"
     ]
    },
    {
     "name": "stderr",
     "output_type": "stream",
     "text": [
      "2023-12-27 13:03:54,447 ERROR [imdbpy] /Users/mac/opt/anaconda3/lib/python3.9/site-packages/imdb/__init__.py:844: unknown information set \"genres\"\n"
     ]
    },
    {
     "name": "stdout",
     "output_type": "stream",
     "text": [
      "RiffTrax: Lycan Colony:\n",
      "Genres: ['Comedy']\n"
     ]
    },
    {
     "name": "stderr",
     "output_type": "stream",
     "text": [
      "2023-12-27 13:03:59,173 ERROR [imdbpy] /Users/mac/opt/anaconda3/lib/python3.9/site-packages/imdb/__init__.py:844: unknown information set \"genres\"\n"
     ]
    },
    {
     "name": "stdout",
     "output_type": "stream",
     "text": [
      "I Write My Life:\n",
      "Genres: ['Drama']\n"
     ]
    },
    {
     "name": "stderr",
     "output_type": "stream",
     "text": [
      "2023-12-27 13:04:04,413 ERROR [imdbpy] /Users/mac/opt/anaconda3/lib/python3.9/site-packages/imdb/__init__.py:844: unknown information set \"genres\"\n"
     ]
    },
    {
     "name": "stdout",
     "output_type": "stream",
     "text": [
      "Blackway:\n",
      "Genres: ['Action', 'Mystery', 'Thriller']\n"
     ]
    },
    {
     "name": "stderr",
     "output_type": "stream",
     "text": [
      "2023-12-27 13:04:08,559 ERROR [imdbpy] /Users/mac/opt/anaconda3/lib/python3.9/site-packages/imdb/__init__.py:844: unknown information set \"genres\"\n"
     ]
    },
    {
     "name": "stdout",
     "output_type": "stream",
     "text": [
      "Cassette: A Documentary Mixtape:\n",
      "Genres: ['Documentary', 'Music']\n"
     ]
    },
    {
     "name": "stderr",
     "output_type": "stream",
     "text": [
      "2023-12-27 13:04:15,222 ERROR [imdbpy] /Users/mac/opt/anaconda3/lib/python3.9/site-packages/imdb/__init__.py:844: unknown information set \"genres\"\n"
     ]
    },
    {
     "name": "stdout",
     "output_type": "stream",
     "text": [
      "The Wee Man:\n",
      "Genres: ['Drama']\n"
     ]
    },
    {
     "name": "stderr",
     "output_type": "stream",
     "text": [
      "2023-12-27 13:04:21,822 ERROR [imdbpy] /Users/mac/opt/anaconda3/lib/python3.9/site-packages/imdb/__init__.py:844: unknown information set \"genres\"\n"
     ]
    },
    {
     "name": "stdout",
     "output_type": "stream",
     "text": [
      "2149: The Aftermath:\n",
      "Genres: ['Sci-Fi']\n"
     ]
    },
    {
     "name": "stderr",
     "output_type": "stream",
     "text": [
      "2023-12-27 13:04:27,980 ERROR [imdbpy] /Users/mac/opt/anaconda3/lib/python3.9/site-packages/imdb/__init__.py:844: unknown information set \"genres\"\n"
     ]
    },
    {
     "name": "stdout",
     "output_type": "stream",
     "text": [
      "Sound of Metal:\n",
      "Genres: ['Drama', 'Music']\n"
     ]
    },
    {
     "name": "stderr",
     "output_type": "stream",
     "text": [
      "2023-12-27 13:04:36,587 ERROR [imdbpy] /Users/mac/opt/anaconda3/lib/python3.9/site-packages/imdb/__init__.py:844: unknown information set \"genres\"\n"
     ]
    },
    {
     "name": "stdout",
     "output_type": "stream",
     "text": [
      "Aura:\n",
      "Genres: ['Horror']\n"
     ]
    },
    {
     "name": "stderr",
     "output_type": "stream",
     "text": [
      "2023-12-27 13:04:45,445 ERROR [imdbpy] /Users/mac/opt/anaconda3/lib/python3.9/site-packages/imdb/__init__.py:844: unknown information set \"genres\"\n"
     ]
    },
    {
     "name": "stdout",
     "output_type": "stream",
     "text": [
      "Kendrick Lamar's The Big Steppers Tour: Live from Paris:\n",
      "Genres: ['Music']\n"
     ]
    },
    {
     "name": "stderr",
     "output_type": "stream",
     "text": [
      "2023-12-27 13:04:50,973 ERROR [imdbpy] /Users/mac/opt/anaconda3/lib/python3.9/site-packages/imdb/__init__.py:844: unknown information set \"genres\"\n"
     ]
    },
    {
     "name": "stdout",
     "output_type": "stream",
     "text": [
      "Witches in the Woods:\n",
      "Genres: ['Horror', 'Mystery', 'Thriller']\n"
     ]
    },
    {
     "name": "stderr",
     "output_type": "stream",
     "text": [
      "2023-12-27 13:04:57,504 ERROR [imdbpy] /Users/mac/opt/anaconda3/lib/python3.9/site-packages/imdb/__init__.py:844: unknown information set \"genres\"\n"
     ]
    },
    {
     "name": "stdout",
     "output_type": "stream",
     "text": [
      "Found.:\n",
      "Genres: ['Drama']\n"
     ]
    },
    {
     "name": "stderr",
     "output_type": "stream",
     "text": [
      "2023-12-27 13:05:04,280 ERROR [imdbpy] /Users/mac/opt/anaconda3/lib/python3.9/site-packages/imdb/__init__.py:844: unknown information set \"genres\"\n"
     ]
    },
    {
     "name": "stdout",
     "output_type": "stream",
     "text": [
      "Dragonfly:\n",
      "Genres: ['Drama', 'Fantasy', 'Mystery', 'Romance', 'Thriller']\n"
     ]
    },
    {
     "name": "stderr",
     "output_type": "stream",
     "text": [
      "2023-12-27 13:05:10,545 ERROR [imdbpy] /Users/mac/opt/anaconda3/lib/python3.9/site-packages/imdb/__init__.py:844: unknown information set \"genres\"\n"
     ]
    },
    {
     "name": "stdout",
     "output_type": "stream",
     "text": [
      "Eternal Winter:\n",
      "Genres: ['Drama', 'History', 'Romance']\n"
     ]
    },
    {
     "name": "stderr",
     "output_type": "stream",
     "text": [
      "2023-12-27 13:05:20,912 ERROR [imdbpy] /Users/mac/opt/anaconda3/lib/python3.9/site-packages/imdb/__init__.py:844: unknown information set \"genres\"\n"
     ]
    },
    {
     "name": "stdout",
     "output_type": "stream",
     "text": [
      "Raja the Great:\n",
      "Genres: ['Action', 'Comedy']\n"
     ]
    },
    {
     "name": "stderr",
     "output_type": "stream",
     "text": [
      "2023-12-27 13:05:29,471 ERROR [imdbpy] /Users/mac/opt/anaconda3/lib/python3.9/site-packages/imdb/__init__.py:844: unknown information set \"genres\"\n"
     ]
    },
    {
     "name": "stdout",
     "output_type": "stream",
     "text": [
      "Rocketry: The Nambi Effect:\n",
      "Genres: ['Biography', 'Drama']\n"
     ]
    },
    {
     "name": "stderr",
     "output_type": "stream",
     "text": [
      "2023-12-27 13:05:35,070 ERROR [imdbpy] /Users/mac/opt/anaconda3/lib/python3.9/site-packages/imdb/__init__.py:844: unknown information set \"genres\"\n"
     ]
    },
    {
     "name": "stdout",
     "output_type": "stream",
     "text": [
      "Forte:\n",
      "Genres: ['Comedy']\n"
     ]
    },
    {
     "name": "stderr",
     "output_type": "stream",
     "text": [
      "2023-12-27 13:05:40,219 ERROR [imdbpy] /Users/mac/opt/anaconda3/lib/python3.9/site-packages/imdb/__init__.py:844: unknown information set \"genres\"\n"
     ]
    },
    {
     "name": "stdout",
     "output_type": "stream",
     "text": [
      "Yashoda:\n",
      "Genres: ['Action', 'Crime', 'Sci-Fi', 'Thriller']\n"
     ]
    },
    {
     "name": "stderr",
     "output_type": "stream",
     "text": [
      "2023-12-27 13:05:46,616 ERROR [imdbpy] /Users/mac/opt/anaconda3/lib/python3.9/site-packages/imdb/__init__.py:844: unknown information set \"genres\"\n"
     ]
    },
    {
     "name": "stdout",
     "output_type": "stream",
     "text": [
      "Sidelined:\n",
      "Genres: ['Drama', 'Sport', 'Thriller']\n"
     ]
    },
    {
     "name": "stderr",
     "output_type": "stream",
     "text": [
      "2023-12-27 13:05:52,620 ERROR [imdbpy] /Users/mac/opt/anaconda3/lib/python3.9/site-packages/imdb/__init__.py:844: unknown information set \"genres\"\n"
     ]
    },
    {
     "name": "stdout",
     "output_type": "stream",
     "text": [
      "The Utah Cabin Murders:\n",
      "Genres: ['Crime', 'Horror', 'Thriller']\n"
     ]
    },
    {
     "name": "stderr",
     "output_type": "stream",
     "text": [
      "2023-12-27 13:05:58,467 ERROR [imdbpy] /Users/mac/opt/anaconda3/lib/python3.9/site-packages/imdb/__init__.py:844: unknown information set \"genres\"\n"
     ]
    },
    {
     "name": "stdout",
     "output_type": "stream",
     "text": [
      "Bachchhan Paandey:\n",
      "Genres: ['Action', 'Comedy', 'Crime', 'Drama']\n"
     ]
    },
    {
     "name": "stderr",
     "output_type": "stream",
     "text": [
      "2023-12-27 13:06:06,343 ERROR [imdbpy] /Users/mac/opt/anaconda3/lib/python3.9/site-packages/imdb/__init__.py:844: unknown information set \"genres\"\n"
     ]
    },
    {
     "name": "stdout",
     "output_type": "stream",
     "text": [
      "The Lie:\n",
      "Genres: ['Drama', 'Thriller']\n"
     ]
    },
    {
     "name": "stderr",
     "output_type": "stream",
     "text": [
      "2023-12-27 13:06:13,317 ERROR [imdbpy] /Users/mac/opt/anaconda3/lib/python3.9/site-packages/imdb/__init__.py:844: unknown information set \"genres\"\n"
     ]
    },
    {
     "name": "stdout",
     "output_type": "stream",
     "text": [
      "Jolsobi:\n",
      "Genres: ['Drama']\n"
     ]
    },
    {
     "name": "stderr",
     "output_type": "stream",
     "text": [
      "2023-12-27 13:06:21,451 ERROR [imdbpy] /Users/mac/opt/anaconda3/lib/python3.9/site-packages/imdb/__init__.py:844: unknown information set \"genres\"\n"
     ]
    },
    {
     "name": "stdout",
     "output_type": "stream",
     "text": [
      "Killerman:\n",
      "Genres: ['Action', 'Crime', 'Thriller']\n"
     ]
    },
    {
     "name": "stderr",
     "output_type": "stream",
     "text": [
      "2023-12-27 13:06:51,641 CRITICAL [imdbpy] /Users/mac/opt/anaconda3/lib/python3.9/site-packages/imdb/_exceptions.py:32: IMDbDataAccessError exception raised; args: ({'errcode': None, 'errmsg': 'None', 'url': 'https://www.imdb.com/find/?q=Nerdland&s=tt', 'proxy': '', 'exception type': 'IOError', 'original exception': timeout('The read operation timed out')},); kwds: {}\n",
      "Traceback (most recent call last):\n",
      "  File \"/Users/mac/opt/anaconda3/lib/python3.9/site-packages/imdb/parser/http/__init__.py\", line 233, in retrieve_unicode\n",
      "    response = uopener.open(url)\n",
      "  File \"/Users/mac/opt/anaconda3/lib/python3.9/urllib/request.py\", line 517, in open\n",
      "    response = self._open(req, data)\n",
      "  File \"/Users/mac/opt/anaconda3/lib/python3.9/urllib/request.py\", line 534, in _open\n",
      "    result = self._call_chain(self.handle_open, protocol, protocol +\n",
      "  File \"/Users/mac/opt/anaconda3/lib/python3.9/urllib/request.py\", line 494, in _call_chain\n",
      "    result = func(*args)\n",
      "  File \"/Users/mac/opt/anaconda3/lib/python3.9/urllib/request.py\", line 1389, in https_open\n",
      "    return self.do_open(http.client.HTTPSConnection, req,\n",
      "  File \"/Users/mac/opt/anaconda3/lib/python3.9/urllib/request.py\", line 1350, in do_open\n",
      "    r = h.getresponse()\n",
      "  File \"/Users/mac/opt/anaconda3/lib/python3.9/http/client.py\", line 1371, in getresponse\n",
      "    response.begin()\n",
      "  File \"/Users/mac/opt/anaconda3/lib/python3.9/http/client.py\", line 319, in begin\n",
      "    version, status, reason = self._read_status()\n",
      "  File \"/Users/mac/opt/anaconda3/lib/python3.9/http/client.py\", line 280, in _read_status\n",
      "    line = str(self.fp.readline(_MAXLINE + 1), \"iso-8859-1\")\n",
      "  File \"/Users/mac/opt/anaconda3/lib/python3.9/socket.py\", line 704, in readinto\n",
      "    return self._sock.recv_into(b)\n",
      "  File \"/Users/mac/opt/anaconda3/lib/python3.9/ssl.py\", line 1241, in recv_into\n",
      "    return self.read(nbytes, buffer)\n",
      "  File \"/Users/mac/opt/anaconda3/lib/python3.9/ssl.py\", line 1099, in read\n",
      "    return self._sslobj.read(len, buffer)\n",
      "socket.timeout: The read operation timed out\n"
     ]
    },
    {
     "name": "stdout",
     "output_type": "stream",
     "text": [
      "Error: {'errcode': None, 'errmsg': 'None', 'url': 'https://www.imdb.com/find/?q=Nerdland&s=tt', 'proxy': '', 'exception type': 'IOError', 'original exception': timeout('The read operation timed out')}\n"
     ]
    },
    {
     "name": "stderr",
     "output_type": "stream",
     "text": [
      "2023-12-27 13:06:59,702 ERROR [imdbpy] /Users/mac/opt/anaconda3/lib/python3.9/site-packages/imdb/__init__.py:844: unknown information set \"genres\"\n"
     ]
    },
    {
     "name": "stdout",
     "output_type": "stream",
     "text": [
      "Nerdland:\n",
      "Genres: ['Animation', 'Comedy', 'Crime']\n"
     ]
    },
    {
     "name": "stderr",
     "output_type": "stream",
     "text": [
      "2023-12-27 13:07:06,997 ERROR [imdbpy] /Users/mac/opt/anaconda3/lib/python3.9/site-packages/imdb/__init__.py:844: unknown information set \"genres\"\n"
     ]
    },
    {
     "name": "stdout",
     "output_type": "stream",
     "text": [
      "Behind You:\n",
      "Genres: ['Horror']\n"
     ]
    },
    {
     "name": "stderr",
     "output_type": "stream",
     "text": [
      "2023-12-27 13:07:26,509 ERROR [imdbpy] /Users/mac/opt/anaconda3/lib/python3.9/site-packages/imdb/__init__.py:844: unknown information set \"genres\"\n"
     ]
    },
    {
     "name": "stdout",
     "output_type": "stream",
     "text": [
      "Spy Intervention:\n",
      "Genres: ['Action', 'Adventure', 'Comedy']\n"
     ]
    },
    {
     "name": "stderr",
     "output_type": "stream",
     "text": [
      "2023-12-27 13:07:32,943 ERROR [imdbpy] /Users/mac/opt/anaconda3/lib/python3.9/site-packages/imdb/__init__.py:844: unknown information set \"genres\"\n"
     ]
    },
    {
     "name": "stdout",
     "output_type": "stream",
     "text": [
      "Shylock:\n",
      "Genres: ['Action', 'Drama', 'Thriller']\n"
     ]
    },
    {
     "name": "stderr",
     "output_type": "stream",
     "text": [
      "2023-12-27 13:07:40,428 ERROR [imdbpy] /Users/mac/opt/anaconda3/lib/python3.9/site-packages/imdb/__init__.py:844: unknown information set \"genres\"\n"
     ]
    },
    {
     "name": "stdout",
     "output_type": "stream",
     "text": [
      "The Way You Look Tonight:\n",
      "Genres: ['Fantasy', 'Romance']\n"
     ]
    },
    {
     "name": "stderr",
     "output_type": "stream",
     "text": [
      "2023-12-27 13:07:47,670 ERROR [imdbpy] /Users/mac/opt/anaconda3/lib/python3.9/site-packages/imdb/__init__.py:844: unknown information set \"genres\"\n"
     ]
    },
    {
     "name": "stdout",
     "output_type": "stream",
     "text": [
      "The Atoning:\n",
      "Genres: ['Drama', 'Horror', 'Thriller']\n"
     ]
    },
    {
     "name": "stderr",
     "output_type": "stream",
     "text": [
      "2023-12-27 13:07:53,430 ERROR [imdbpy] /Users/mac/opt/anaconda3/lib/python3.9/site-packages/imdb/__init__.py:844: unknown information set \"genres\"\n"
     ]
    },
    {
     "name": "stdout",
     "output_type": "stream",
     "text": [
      "Irrefutable Proof:\n",
      "Genres: ['Drama', 'Mystery', 'Thriller']\n"
     ]
    },
    {
     "name": "stderr",
     "output_type": "stream",
     "text": [
      "2023-12-27 13:08:02,615 ERROR [imdbpy] /Users/mac/opt/anaconda3/lib/python3.9/site-packages/imdb/__init__.py:844: unknown information set \"genres\"\n"
     ]
    },
    {
     "name": "stdout",
     "output_type": "stream",
     "text": [
      "Country Hard:\n",
      "Genres: ['Drama']\n"
     ]
    },
    {
     "name": "stderr",
     "output_type": "stream",
     "text": [
      "2023-12-27 13:08:09,882 ERROR [imdbpy] /Users/mac/opt/anaconda3/lib/python3.9/site-packages/imdb/__init__.py:844: unknown information set \"genres\"\n"
     ]
    },
    {
     "name": "stdout",
     "output_type": "stream",
     "text": [
      "Phantom:\n",
      "Genres: ['Drama', 'Musical', 'Romance', 'Thriller']\n"
     ]
    },
    {
     "name": "stderr",
     "output_type": "stream",
     "text": [
      "2023-12-27 13:08:17,256 ERROR [imdbpy] /Users/mac/opt/anaconda3/lib/python3.9/site-packages/imdb/__init__.py:844: unknown information set \"genres\"\n"
     ]
    },
    {
     "name": "stdout",
     "output_type": "stream",
     "text": [
      "Ride:\n",
      "Genres: ['Comedy']\n"
     ]
    },
    {
     "name": "stderr",
     "output_type": "stream",
     "text": [
      "2023-12-27 13:08:27,101 ERROR [imdbpy] /Users/mac/opt/anaconda3/lib/python3.9/site-packages/imdb/__init__.py:844: unknown information set \"genres\"\n"
     ]
    },
    {
     "name": "stdout",
     "output_type": "stream",
     "text": [
      "Assassinaut:\n",
      "Genres: ['Adventure', 'Sci-Fi']\n"
     ]
    },
    {
     "name": "stderr",
     "output_type": "stream",
     "text": [
      "2023-12-27 13:08:38,097 ERROR [imdbpy] /Users/mac/opt/anaconda3/lib/python3.9/site-packages/imdb/__init__.py:844: unknown information set \"genres\"\n"
     ]
    },
    {
     "name": "stdout",
     "output_type": "stream",
     "text": [
      "Kick Like Tayla:\n",
      "Genres: ['Documentary']\n"
     ]
    },
    {
     "name": "stderr",
     "output_type": "stream",
     "text": [
      "2023-12-27 13:08:44,119 ERROR [imdbpy] /Users/mac/opt/anaconda3/lib/python3.9/site-packages/imdb/__init__.py:844: unknown information set \"genres\"\n"
     ]
    },
    {
     "name": "stdout",
     "output_type": "stream",
     "text": [
      "Stallone: Frank, That Is:\n",
      "Genres: ['Documentary', 'Biography']\n"
     ]
    },
    {
     "name": "stderr",
     "output_type": "stream",
     "text": [
      "2023-12-27 13:08:50,589 ERROR [imdbpy] /Users/mac/opt/anaconda3/lib/python3.9/site-packages/imdb/__init__.py:844: unknown information set \"genres\"\n"
     ]
    },
    {
     "name": "stdout",
     "output_type": "stream",
     "text": [
      "3022:\n",
      "Genres: ['Sci-Fi']\n"
     ]
    },
    {
     "name": "stderr",
     "output_type": "stream",
     "text": [
      "2023-12-27 13:08:58,673 ERROR [imdbpy] /Users/mac/opt/anaconda3/lib/python3.9/site-packages/imdb/__init__.py:844: unknown information set \"genres\"\n"
     ]
    },
    {
     "name": "stdout",
     "output_type": "stream",
     "text": [
      "Straight A's:\n",
      "Genres: ['Biography', 'Drama']\n"
     ]
    },
    {
     "name": "stderr",
     "output_type": "stream",
     "text": [
      "2023-12-27 13:09:10,437 ERROR [imdbpy] /Users/mac/opt/anaconda3/lib/python3.9/site-packages/imdb/__init__.py:844: unknown information set \"genres\"\n"
     ]
    },
    {
     "name": "stdout",
     "output_type": "stream",
     "text": [
      "Daylight's End:\n",
      "Genres: ['Action', 'Fantasy', 'Horror', 'Sci-Fi']\n"
     ]
    },
    {
     "name": "stderr",
     "output_type": "stream",
     "text": [
      "2023-12-27 13:09:17,939 ERROR [imdbpy] /Users/mac/opt/anaconda3/lib/python3.9/site-packages/imdb/__init__.py:844: unknown information set \"genres\"\n"
     ]
    },
    {
     "name": "stdout",
     "output_type": "stream",
     "text": [
      "Break Every Chain:\n",
      "Genres: ['Biography', 'Drama']\n"
     ]
    },
    {
     "name": "stderr",
     "output_type": "stream",
     "text": [
      "2023-12-27 13:09:25,558 ERROR [imdbpy] /Users/mac/opt/anaconda3/lib/python3.9/site-packages/imdb/__init__.py:844: unknown information set \"genres\"\n"
     ]
    },
    {
     "name": "stdout",
     "output_type": "stream",
     "text": [
      "All Eyes on You:\n",
      "Genres: ['Drama', 'Mystery', 'Thriller']\n"
     ]
    },
    {
     "name": "stderr",
     "output_type": "stream",
     "text": [
      "2023-12-27 13:09:36,626 ERROR [imdbpy] /Users/mac/opt/anaconda3/lib/python3.9/site-packages/imdb/__init__.py:844: unknown information set \"genres\"\n"
     ]
    },
    {
     "name": "stdout",
     "output_type": "stream",
     "text": [
      "Marcus:\n",
      "Genres: ['Drama']\n"
     ]
    },
    {
     "name": "stderr",
     "output_type": "stream",
     "text": [
      "2023-12-27 13:09:45,473 ERROR [imdbpy] /Users/mac/opt/anaconda3/lib/python3.9/site-packages/imdb/__init__.py:844: unknown information set \"genres\"\n"
     ]
    },
    {
     "name": "stdout",
     "output_type": "stream",
     "text": [
      "Good Newwz:\n",
      "Genres: ['Comedy', 'Drama']\n"
     ]
    },
    {
     "name": "stderr",
     "output_type": "stream",
     "text": [
      "2023-12-27 13:09:51,432 ERROR [imdbpy] /Users/mac/opt/anaconda3/lib/python3.9/site-packages/imdb/__init__.py:844: unknown information set \"genres\"\n"
     ]
    },
    {
     "name": "stdout",
     "output_type": "stream",
     "text": [
      "HoneyBee:\n",
      "Genres: ['Horror']\n"
     ]
    },
    {
     "name": "stderr",
     "output_type": "stream",
     "text": [
      "2023-12-27 13:09:57,944 ERROR [imdbpy] /Users/mac/opt/anaconda3/lib/python3.9/site-packages/imdb/__init__.py:844: unknown information set \"genres\"\n"
     ]
    },
    {
     "name": "stdout",
     "output_type": "stream",
     "text": [
      "Hoodman:\n",
      "Genres: ['Crime', 'Horror', 'Thriller']\n"
     ]
    },
    {
     "name": "stderr",
     "output_type": "stream",
     "text": [
      "2023-12-27 13:10:07,485 ERROR [imdbpy] /Users/mac/opt/anaconda3/lib/python3.9/site-packages/imdb/__init__.py:844: unknown information set \"genres\"\n"
     ]
    },
    {
     "name": "stdout",
     "output_type": "stream",
     "text": [
      "93 Days:\n",
      "Genres: ['Drama']\n"
     ]
    },
    {
     "name": "stderr",
     "output_type": "stream",
     "text": [
      "2023-12-27 13:10:12,326 ERROR [imdbpy] /Users/mac/opt/anaconda3/lib/python3.9/site-packages/imdb/__init__.py:844: unknown information set \"genres\"\n"
     ]
    },
    {
     "name": "stdout",
     "output_type": "stream",
     "text": [
      "K. D.:\n",
      "Genres: ['Game-Show', 'Reality-TV', 'Romance']\n"
     ]
    },
    {
     "name": "stderr",
     "output_type": "stream",
     "text": [
      "2023-12-27 13:10:19,215 ERROR [imdbpy] /Users/mac/opt/anaconda3/lib/python3.9/site-packages/imdb/__init__.py:844: unknown information set \"genres\"\n"
     ]
    },
    {
     "name": "stdout",
     "output_type": "stream",
     "text": [
      "Lore:\n",
      "Genres: ['Documentary', 'Horror', 'Mystery']\n"
     ]
    },
    {
     "name": "stderr",
     "output_type": "stream",
     "text": [
      "2023-12-27 13:10:25,104 ERROR [imdbpy] /Users/mac/opt/anaconda3/lib/python3.9/site-packages/imdb/__init__.py:844: unknown information set \"genres\"\n"
     ]
    },
    {
     "name": "stdout",
     "output_type": "stream",
     "text": [
      "Chronically Metropolitan:\n",
      "Genres: ['Comedy', 'Drama']\n"
     ]
    },
    {
     "name": "stderr",
     "output_type": "stream",
     "text": [
      "2023-12-27 13:10:31,811 ERROR [imdbpy] /Users/mac/opt/anaconda3/lib/python3.9/site-packages/imdb/__init__.py:844: unknown information set \"genres\"\n"
     ]
    },
    {
     "name": "stdout",
     "output_type": "stream",
     "text": [
      "What Lies Below:\n",
      "Genres: ['Drama', 'Horror', 'Mystery', 'Sci-Fi', 'Thriller']\n"
     ]
    },
    {
     "name": "stderr",
     "output_type": "stream",
     "text": [
      "2023-12-27 13:10:39,736 ERROR [imdbpy] /Users/mac/opt/anaconda3/lib/python3.9/site-packages/imdb/__init__.py:844: unknown information set \"genres\"\n"
     ]
    },
    {
     "name": "stdout",
     "output_type": "stream",
     "text": [
      "Vengeance Is Mine:\n",
      "Genres: ['Action', 'Thriller']\n"
     ]
    },
    {
     "name": "stderr",
     "output_type": "stream",
     "text": [
      "2023-12-27 13:10:45,694 ERROR [imdbpy] /Users/mac/opt/anaconda3/lib/python3.9/site-packages/imdb/__init__.py:844: unknown information set \"genres\"\n"
     ]
    },
    {
     "name": "stdout",
     "output_type": "stream",
     "text": [
      "Bully:\n",
      "Genres: ['Biography', 'Crime', 'Drama']\n"
     ]
    },
    {
     "name": "stderr",
     "output_type": "stream",
     "text": [
      "2023-12-27 13:10:51,266 ERROR [imdbpy] /Users/mac/opt/anaconda3/lib/python3.9/site-packages/imdb/__init__.py:844: unknown information set \"genres\"\n"
     ]
    },
    {
     "name": "stdout",
     "output_type": "stream",
     "text": [
      "Sold Out:\n",
      "Genres: ['Drama', 'Music', 'Romance']\n"
     ]
    },
    {
     "name": "stderr",
     "output_type": "stream",
     "text": [
      "2023-12-27 13:11:02,618 ERROR [imdbpy] /Users/mac/opt/anaconda3/lib/python3.9/site-packages/imdb/__init__.py:844: unknown information set \"genres\"\n"
     ]
    },
    {
     "name": "stdout",
     "output_type": "stream",
     "text": [
      "D.L. Hughley: Clear:\n",
      "Genres: ['Comedy']\n"
     ]
    },
    {
     "name": "stderr",
     "output_type": "stream",
     "text": [
      "2023-12-27 13:11:20,122 ERROR [imdbpy] /Users/mac/opt/anaconda3/lib/python3.9/site-packages/imdb/__init__.py:844: unknown information set \"genres\"\n"
     ]
    },
    {
     "name": "stdout",
     "output_type": "stream",
     "text": [
      "Dabangg 3:\n",
      "Genres: ['Action', 'Comedy', 'Crime', 'Drama']\n"
     ]
    },
    {
     "name": "stderr",
     "output_type": "stream",
     "text": [
      "2023-12-27 13:11:28,182 ERROR [imdbpy] /Users/mac/opt/anaconda3/lib/python3.9/site-packages/imdb/__init__.py:844: unknown information set \"genres\"\n"
     ]
    },
    {
     "name": "stdout",
     "output_type": "stream",
     "text": [
      "The Last Conception:\n",
      "Genres: ['Comedy', 'Drama', 'Family']\n"
     ]
    },
    {
     "name": "stderr",
     "output_type": "stream",
     "text": [
      "2023-12-27 13:11:36,868 ERROR [imdbpy] /Users/mac/opt/anaconda3/lib/python3.9/site-packages/imdb/__init__.py:844: unknown information set \"genres\"\n"
     ]
    },
    {
     "name": "stdout",
     "output_type": "stream",
     "text": [
      "The Rental:\n",
      "Genres: ['Drama', 'Horror', 'Mystery', 'Thriller']\n"
     ]
    },
    {
     "name": "stderr",
     "output_type": "stream",
     "text": [
      "2023-12-27 13:11:45,957 ERROR [imdbpy] /Users/mac/opt/anaconda3/lib/python3.9/site-packages/imdb/__init__.py:844: unknown information set \"genres\"\n"
     ]
    },
    {
     "name": "stdout",
     "output_type": "stream",
     "text": [
      "Dementamania:\n",
      "Genres: ['Horror', 'Thriller']\n"
     ]
    },
    {
     "name": "stderr",
     "output_type": "stream",
     "text": [
      "2023-12-27 13:11:55,119 ERROR [imdbpy] /Users/mac/opt/anaconda3/lib/python3.9/site-packages/imdb/__init__.py:844: unknown information set \"genres\"\n"
     ]
    },
    {
     "name": "stdout",
     "output_type": "stream",
     "text": [
      "Wildlife:\n",
      "Genres: ['Drama']\n"
     ]
    },
    {
     "name": "stderr",
     "output_type": "stream",
     "text": [
      "2023-12-27 13:12:02,551 ERROR [imdbpy] /Users/mac/opt/anaconda3/lib/python3.9/site-packages/imdb/__init__.py:844: unknown information set \"genres\"\n"
     ]
    },
    {
     "name": "stdout",
     "output_type": "stream",
     "text": [
      "Kin Dread:\n",
      "Genres: ['Thriller']\n"
     ]
    },
    {
     "name": "stderr",
     "output_type": "stream",
     "text": [
      "2023-12-27 13:12:11,012 ERROR [imdbpy] /Users/mac/opt/anaconda3/lib/python3.9/site-packages/imdb/__init__.py:844: unknown information set \"genres\"\n"
     ]
    },
    {
     "name": "stdout",
     "output_type": "stream",
     "text": [
      "Chick Fight:\n",
      "Genres: ['Action', 'Comedy', 'Drama', 'Sport']\n"
     ]
    },
    {
     "name": "stderr",
     "output_type": "stream",
     "text": [
      "2023-12-27 13:12:17,382 ERROR [imdbpy] /Users/mac/opt/anaconda3/lib/python3.9/site-packages/imdb/__init__.py:844: unknown information set \"genres\"\n"
     ]
    },
    {
     "name": "stdout",
     "output_type": "stream",
     "text": [
      "Inherit the Viper:\n",
      "Genres: ['Action', 'Crime', 'Mystery', 'Thriller']\n"
     ]
    },
    {
     "name": "stderr",
     "output_type": "stream",
     "text": [
      "2023-12-27 13:12:24,479 ERROR [imdbpy] /Users/mac/opt/anaconda3/lib/python3.9/site-packages/imdb/__init__.py:844: unknown information set \"genres\"\n"
     ]
    },
    {
     "name": "stdout",
     "output_type": "stream",
     "text": [
      "Backfire:\n",
      "Genres: ['Crime', 'Film-Noir', 'Mystery', 'Romance', 'Thriller']\n"
     ]
    },
    {
     "name": "stderr",
     "output_type": "stream",
     "text": [
      "2023-12-27 13:12:32,631 ERROR [imdbpy] /Users/mac/opt/anaconda3/lib/python3.9/site-packages/imdb/__init__.py:844: unknown information set \"genres\"\n"
     ]
    },
    {
     "name": "stdout",
     "output_type": "stream",
     "text": [
      "Captain Sabertooth and the Treasure of Lama Rama:\n",
      "Genres: ['Action', 'Adventure', 'Comedy', 'Drama', 'Family']\n"
     ]
    },
    {
     "name": "stderr",
     "output_type": "stream",
     "text": [
      "2023-12-27 13:12:41,991 ERROR [imdbpy] /Users/mac/opt/anaconda3/lib/python3.9/site-packages/imdb/__init__.py:844: unknown information set \"genres\"\n"
     ]
    },
    {
     "name": "stdout",
     "output_type": "stream",
     "text": [
      "Monster High: The Movie:\n",
      "Genres: ['Action', 'Adventure', 'Fantasy', 'Musical']\n"
     ]
    },
    {
     "name": "stderr",
     "output_type": "stream",
     "text": [
      "2023-12-27 13:12:50,033 ERROR [imdbpy] /Users/mac/opt/anaconda3/lib/python3.9/site-packages/imdb/__init__.py:844: unknown information set \"genres\"\n"
     ]
    },
    {
     "name": "stdout",
     "output_type": "stream",
     "text": [
      "Beyond the Law:\n",
      "Genres: ['Crime', 'Drama', 'Thriller']\n"
     ]
    },
    {
     "name": "stderr",
     "output_type": "stream",
     "text": [
      "2023-12-27 13:12:56,885 ERROR [imdbpy] /Users/mac/opt/anaconda3/lib/python3.9/site-packages/imdb/__init__.py:844: unknown information set \"genres\"\n"
     ]
    },
    {
     "name": "stdout",
     "output_type": "stream",
     "text": [
      "Deadware:\n",
      "Genres: ['Horror']\n"
     ]
    },
    {
     "name": "stderr",
     "output_type": "stream",
     "text": [
      "2023-12-27 13:13:04,388 ERROR [imdbpy] /Users/mac/opt/anaconda3/lib/python3.9/site-packages/imdb/__init__.py:844: unknown information set \"genres\"\n"
     ]
    },
    {
     "name": "stdout",
     "output_type": "stream",
     "text": [
      "Rolling Stone: Life and Death of Brian Jones:\n",
      "Genres: ['Documentary']\n"
     ]
    },
    {
     "name": "stderr",
     "output_type": "stream",
     "text": [
      "2023-12-27 13:13:15,938 ERROR [imdbpy] /Users/mac/opt/anaconda3/lib/python3.9/site-packages/imdb/__init__.py:844: unknown information set \"genres\"\n"
     ]
    },
    {
     "name": "stdout",
     "output_type": "stream",
     "text": [
      "Cobra:\n",
      "Genres: ['Action', 'Comedy', 'Drama', 'Sport']\n"
     ]
    },
    {
     "name": "stderr",
     "output_type": "stream",
     "text": [
      "2023-12-27 13:13:28,119 ERROR [imdbpy] /Users/mac/opt/anaconda3/lib/python3.9/site-packages/imdb/__init__.py:844: unknown information set \"genres\"\n"
     ]
    },
    {
     "name": "stdout",
     "output_type": "stream",
     "text": [
      "Payday:\n",
      "Genres: ['Drama', 'Music']\n"
     ]
    },
    {
     "name": "stderr",
     "output_type": "stream",
     "text": [
      "2023-12-27 13:13:37,536 ERROR [imdbpy] /Users/mac/opt/anaconda3/lib/python3.9/site-packages/imdb/__init__.py:844: unknown information set \"genres\"\n"
     ]
    },
    {
     "name": "stdout",
     "output_type": "stream",
     "text": [
      "Back in the Day:\n",
      "Genres: ['Comedy']\n"
     ]
    },
    {
     "name": "stderr",
     "output_type": "stream",
     "text": [
      "2023-12-27 13:13:43,816 ERROR [imdbpy] /Users/mac/opt/anaconda3/lib/python3.9/site-packages/imdb/__init__.py:844: unknown information set \"genres\"\n"
     ]
    },
    {
     "name": "stdout",
     "output_type": "stream",
     "text": [
      "Henry Gamble's Birthday Party:\n",
      "Genres: ['Drama']\n"
     ]
    },
    {
     "name": "stderr",
     "output_type": "stream",
     "text": [
      "2023-12-27 13:13:56,214 ERROR [imdbpy] /Users/mac/opt/anaconda3/lib/python3.9/site-packages/imdb/__init__.py:844: unknown information set \"genres\"\n"
     ]
    },
    {
     "name": "stdout",
     "output_type": "stream",
     "text": [
      "Tammy:\n",
      "Genres: ['Comedy', 'Romance']\n"
     ]
    },
    {
     "name": "stderr",
     "output_type": "stream",
     "text": [
      "2023-12-27 13:14:03,411 ERROR [imdbpy] /Users/mac/opt/anaconda3/lib/python3.9/site-packages/imdb/__init__.py:844: unknown information set \"genres\"\n"
     ]
    },
    {
     "name": "stdout",
     "output_type": "stream",
     "text": [
      "Thorp:\n",
      "Genres: ['Comedy', 'Drama', 'Romance', 'Sci-Fi', 'Thriller']\n"
     ]
    },
    {
     "name": "stderr",
     "output_type": "stream",
     "text": [
      "2023-12-27 13:14:16,556 ERROR [imdbpy] /Users/mac/opt/anaconda3/lib/python3.9/site-packages/imdb/__init__.py:844: unknown information set \"genres\"\n"
     ]
    },
    {
     "name": "stdout",
     "output_type": "stream",
     "text": [
      "Unit Eleven:\n",
      "Genres: ['Action']\n"
     ]
    },
    {
     "name": "stderr",
     "output_type": "stream",
     "text": [
      "2023-12-27 13:14:27,144 ERROR [imdbpy] /Users/mac/opt/anaconda3/lib/python3.9/site-packages/imdb/__init__.py:844: unknown information set \"genres\"\n"
     ]
    },
    {
     "name": "stdout",
     "output_type": "stream",
     "text": [
      "Beaus of Holly:\n",
      "Genres: ['Comedy', 'Romance']\n"
     ]
    },
    {
     "name": "stderr",
     "output_type": "stream",
     "text": [
      "2023-12-27 13:14:38,708 ERROR [imdbpy] /Users/mac/opt/anaconda3/lib/python3.9/site-packages/imdb/__init__.py:844: unknown information set \"genres\"\n"
     ]
    },
    {
     "name": "stdout",
     "output_type": "stream",
     "text": [
      "Witch Hunt:\n",
      "Genres: ['Drama', 'Fantasy', 'Horror', 'Thriller']\n"
     ]
    },
    {
     "name": "stderr",
     "output_type": "stream",
     "text": [
      "2023-12-27 13:14:51,428 ERROR [imdbpy] /Users/mac/opt/anaconda3/lib/python3.9/site-packages/imdb/__init__.py:844: unknown information set \"genres\"\n"
     ]
    },
    {
     "name": "stdout",
     "output_type": "stream",
     "text": [
      "Make Us Dream:\n",
      "Genres: ['Documentary', 'Biography', 'Sport']\n"
     ]
    },
    {
     "name": "stderr",
     "output_type": "stream",
     "text": [
      "2023-12-27 13:14:59,497 ERROR [imdbpy] /Users/mac/opt/anaconda3/lib/python3.9/site-packages/imdb/__init__.py:844: unknown information set \"genres\"\n"
     ]
    },
    {
     "name": "stdout",
     "output_type": "stream",
     "text": [
      "Dachau Liberation:\n",
      "Genres: ['Documentary', 'History', 'War']\n"
     ]
    },
    {
     "name": "stderr",
     "output_type": "stream",
     "text": [
      "2023-12-27 13:15:06,779 ERROR [imdbpy] /Users/mac/opt/anaconda3/lib/python3.9/site-packages/imdb/__init__.py:844: unknown information set \"genres\"\n"
     ]
    },
    {
     "name": "stdout",
     "output_type": "stream",
     "text": [
      "The Dissident:\n",
      "Genres: ['Documentary', 'Crime', 'Thriller']\n"
     ]
    },
    {
     "name": "stderr",
     "output_type": "stream",
     "text": [
      "2023-12-27 13:15:20,471 ERROR [imdbpy] /Users/mac/opt/anaconda3/lib/python3.9/site-packages/imdb/__init__.py:844: unknown information set \"genres\"\n"
     ]
    },
    {
     "name": "stdout",
     "output_type": "stream",
     "text": [
      "Six Three Times:\n",
      "Genres: ['Drama']\n"
     ]
    },
    {
     "name": "stderr",
     "output_type": "stream",
     "text": [
      "2023-12-27 13:15:30,666 ERROR [imdbpy] /Users/mac/opt/anaconda3/lib/python3.9/site-packages/imdb/__init__.py:844: unknown information set \"genres\"\n"
     ]
    },
    {
     "name": "stdout",
     "output_type": "stream",
     "text": [
      "Man of the Match:\n",
      "Genres: ['Comedy', 'Drama']\n"
     ]
    },
    {
     "name": "stderr",
     "output_type": "stream",
     "text": [
      "2023-12-27 13:15:41,645 ERROR [imdbpy] /Users/mac/opt/anaconda3/lib/python3.9/site-packages/imdb/__init__.py:844: unknown information set \"genres\"\n"
     ]
    },
    {
     "name": "stdout",
     "output_type": "stream",
     "text": [
      "A Haunting on Dice Road: The Hell House:\n",
      "Genres: ['Documentary']\n"
     ]
    },
    {
     "name": "stderr",
     "output_type": "stream",
     "text": [
      "2023-12-27 13:15:52,667 ERROR [imdbpy] /Users/mac/opt/anaconda3/lib/python3.9/site-packages/imdb/__init__.py:844: unknown information set \"genres\"\n"
     ]
    },
    {
     "name": "stdout",
     "output_type": "stream",
     "text": [
      "Incarnation:\n",
      "Genres: ['Horror', 'Thriller']\n"
     ]
    },
    {
     "name": "stderr",
     "output_type": "stream",
     "text": [
      "2023-12-27 13:16:03,813 ERROR [imdbpy] /Users/mac/opt/anaconda3/lib/python3.9/site-packages/imdb/__init__.py:844: unknown information set \"genres\"\n"
     ]
    },
    {
     "name": "stdout",
     "output_type": "stream",
     "text": [
      "The Arbitration:\n",
      "Genres: ['Drama']\n"
     ]
    },
    {
     "name": "stderr",
     "output_type": "stream",
     "text": [
      "2023-12-27 13:16:12,830 ERROR [imdbpy] /Users/mac/opt/anaconda3/lib/python3.9/site-packages/imdb/__init__.py:844: unknown information set \"genres\"\n"
     ]
    },
    {
     "name": "stdout",
     "output_type": "stream",
     "text": [
      "Mary Loss of Soul:\n",
      "Genres: ['Drama', 'Horror', 'Mystery', 'Thriller']\n"
     ]
    },
    {
     "name": "stderr",
     "output_type": "stream",
     "text": [
      "2023-12-27 13:16:22,521 ERROR [imdbpy] /Users/mac/opt/anaconda3/lib/python3.9/site-packages/imdb/__init__.py:844: unknown information set \"genres\"\n"
     ]
    },
    {
     "name": "stdout",
     "output_type": "stream",
     "text": [
      "It Takes Three:\n",
      "Genres: ['Comedy', 'Romance']\n"
     ]
    },
    {
     "name": "stderr",
     "output_type": "stream",
     "text": [
      "2023-12-27 13:16:32,368 ERROR [imdbpy] /Users/mac/opt/anaconda3/lib/python3.9/site-packages/imdb/__init__.py:844: unknown information set \"genres\"\n"
     ]
    },
    {
     "name": "stdout",
     "output_type": "stream",
     "text": [
      "Mayor Pete:\n",
      "Genres: ['Documentary']\n"
     ]
    },
    {
     "name": "stderr",
     "output_type": "stream",
     "text": [
      "2023-12-27 13:16:39,709 ERROR [imdbpy] /Users/mac/opt/anaconda3/lib/python3.9/site-packages/imdb/__init__.py:844: unknown information set \"genres\"\n"
     ]
    },
    {
     "name": "stdout",
     "output_type": "stream",
     "text": [
      "Wanted - Matloubin:\n",
      "Genres: ['Comedy', 'Drama']\n"
     ]
    },
    {
     "name": "stderr",
     "output_type": "stream",
     "text": [
      "2023-12-27 13:16:48,156 ERROR [imdbpy] /Users/mac/opt/anaconda3/lib/python3.9/site-packages/imdb/__init__.py:844: unknown information set \"genres\"\n"
     ]
    },
    {
     "name": "stdout",
     "output_type": "stream",
     "text": [
      "Day of Reckoning:\n",
      "Genres: ['Action', 'Horror', 'Sci-Fi']\n"
     ]
    },
    {
     "name": "stderr",
     "output_type": "stream",
     "text": [
      "2023-12-27 13:16:58,859 ERROR [imdbpy] /Users/mac/opt/anaconda3/lib/python3.9/site-packages/imdb/__init__.py:844: unknown information set \"genres\"\n"
     ]
    },
    {
     "name": "stdout",
     "output_type": "stream",
     "text": [
      "Rebel in the Rye:\n",
      "Genres: ['Biography', 'Drama', 'Romance', 'War']\n"
     ]
    },
    {
     "name": "stderr",
     "output_type": "stream",
     "text": [
      "2023-12-27 13:17:08,113 ERROR [imdbpy] /Users/mac/opt/anaconda3/lib/python3.9/site-packages/imdb/__init__.py:844: unknown information set \"genres\"\n"
     ]
    },
    {
     "name": "stdout",
     "output_type": "stream",
     "text": [
      "Silence Patton:\n",
      "Genres: ['Documentary']\n"
     ]
    },
    {
     "name": "stderr",
     "output_type": "stream",
     "text": [
      "2023-12-27 13:17:17,438 ERROR [imdbpy] /Users/mac/opt/anaconda3/lib/python3.9/site-packages/imdb/__init__.py:844: unknown information set \"genres\"\n"
     ]
    },
    {
     "name": "stdout",
     "output_type": "stream",
     "text": [
      "Romance Retreat:\n",
      "Genres: ['Romance']\n"
     ]
    },
    {
     "name": "stderr",
     "output_type": "stream",
     "text": [
      "2023-12-27 13:17:27,906 ERROR [imdbpy] /Users/mac/opt/anaconda3/lib/python3.9/site-packages/imdb/__init__.py:844: unknown information set \"genres\"\n"
     ]
    },
    {
     "name": "stdout",
     "output_type": "stream",
     "text": [
      "Honest Thief:\n",
      "Genres: ['Action', 'Thriller']\n"
     ]
    },
    {
     "name": "stderr",
     "output_type": "stream",
     "text": [
      "2023-12-27 13:17:33,123 ERROR [imdbpy] /Users/mac/opt/anaconda3/lib/python3.9/site-packages/imdb/__init__.py:844: unknown information set \"genres\"\n"
     ]
    },
    {
     "name": "stdout",
     "output_type": "stream",
     "text": [
      "Miles Jupp: Fibber in the Heat:\n",
      "Genres: ['Comedy']\n"
     ]
    },
    {
     "name": "stderr",
     "output_type": "stream",
     "text": [
      "2023-12-27 13:17:39,310 ERROR [imdbpy] /Users/mac/opt/anaconda3/lib/python3.9/site-packages/imdb/__init__.py:844: unknown information set \"genres\"\n"
     ]
    },
    {
     "name": "stdout",
     "output_type": "stream",
     "text": [
      "I Love America:\n",
      "Genres: ['Comedy']\n"
     ]
    },
    {
     "name": "stderr",
     "output_type": "stream",
     "text": [
      "2023-12-27 13:17:44,946 ERROR [imdbpy] /Users/mac/opt/anaconda3/lib/python3.9/site-packages/imdb/__init__.py:844: unknown information set \"genres\"\n"
     ]
    },
    {
     "name": "stdout",
     "output_type": "stream",
     "text": [
      "White Island:\n",
      "Genres: ['Comedy']\n"
     ]
    },
    {
     "name": "stderr",
     "output_type": "stream",
     "text": [
      "2023-12-27 13:17:51,356 ERROR [imdbpy] /Users/mac/opt/anaconda3/lib/python3.9/site-packages/imdb/__init__.py:844: unknown information set \"genres\"\n"
     ]
    },
    {
     "name": "stdout",
     "output_type": "stream",
     "text": [
      "Darken:\n",
      "Genres: ['Fantasy', 'Horror', 'Sci-Fi']\n"
     ]
    },
    {
     "name": "stderr",
     "output_type": "stream",
     "text": [
      "2023-12-27 13:18:00,952 ERROR [imdbpy] /Users/mac/opt/anaconda3/lib/python3.9/site-packages/imdb/__init__.py:844: unknown information set \"genres\"\n"
     ]
    },
    {
     "name": "stdout",
     "output_type": "stream",
     "text": [
      "Songbirds:\n",
      "Genres: ['Action', 'Adventure', 'Drama', 'Sci-Fi', 'Thriller', 'War']\n"
     ]
    },
    {
     "name": "stderr",
     "output_type": "stream",
     "text": [
      "2023-12-27 13:18:05,455 ERROR [imdbpy] /Users/mac/opt/anaconda3/lib/python3.9/site-packages/imdb/__init__.py:844: unknown information set \"genres\"\n"
     ]
    },
    {
     "name": "stdout",
     "output_type": "stream",
     "text": [
      "Rachel Feinstein: Only Whores Wear Purple:\n",
      "Genres: ['Comedy']\n"
     ]
    },
    {
     "name": "stderr",
     "output_type": "stream",
     "text": [
      "2023-12-27 13:18:11,967 ERROR [imdbpy] /Users/mac/opt/anaconda3/lib/python3.9/site-packages/imdb/__init__.py:844: unknown information set \"genres\"\n"
     ]
    },
    {
     "name": "stdout",
     "output_type": "stream",
     "text": [
      "Coldwater:\n",
      "Genres: ['Drama', 'Thriller']\n"
     ]
    },
    {
     "name": "stderr",
     "output_type": "stream",
     "text": [
      "2023-12-27 13:18:16,928 ERROR [imdbpy] /Users/mac/opt/anaconda3/lib/python3.9/site-packages/imdb/__init__.py:844: unknown information set \"genres\"\n"
     ]
    },
    {
     "name": "stdout",
     "output_type": "stream",
     "text": [
      "The Witch of Kings Cross:\n",
      "Genres: ['Documentary']\n"
     ]
    },
    {
     "name": "stderr",
     "output_type": "stream",
     "text": [
      "2023-12-27 13:18:23,340 ERROR [imdbpy] /Users/mac/opt/anaconda3/lib/python3.9/site-packages/imdb/__init__.py:844: unknown information set \"genres\"\n"
     ]
    },
    {
     "name": "stdout",
     "output_type": "stream",
     "text": [
      "QT8: The First Eight:\n",
      "Genres: ['Documentary']\n"
     ]
    },
    {
     "name": "stderr",
     "output_type": "stream",
     "text": [
      "2023-12-27 13:18:28,187 ERROR [imdbpy] /Users/mac/opt/anaconda3/lib/python3.9/site-packages/imdb/__init__.py:844: unknown information set \"genres\"\n"
     ]
    },
    {
     "name": "stdout",
     "output_type": "stream",
     "text": [
      "Brakes:\n",
      "Genres: ['Comedy']\n"
     ]
    },
    {
     "name": "stderr",
     "output_type": "stream",
     "text": [
      "2023-12-27 13:18:36,386 ERROR [imdbpy] /Users/mac/opt/anaconda3/lib/python3.9/site-packages/imdb/__init__.py:844: unknown information set \"genres\"\n"
     ]
    },
    {
     "name": "stdout",
     "output_type": "stream",
     "text": [
      "The Sound of 007:\n",
      "Genres: ['Documentary', 'Music']\n"
     ]
    },
    {
     "name": "stderr",
     "output_type": "stream",
     "text": [
      "2023-12-27 13:18:44,430 ERROR [imdbpy] /Users/mac/opt/anaconda3/lib/python3.9/site-packages/imdb/__init__.py:844: unknown information set \"genres\"\n"
     ]
    },
    {
     "name": "stdout",
     "output_type": "stream",
     "text": [
      "Dying of the Light:\n",
      "Genres: ['Action', 'Drama', 'Thriller']\n"
     ]
    },
    {
     "name": "stderr",
     "output_type": "stream",
     "text": [
      "2023-12-27 13:18:52,322 ERROR [imdbpy] /Users/mac/opt/anaconda3/lib/python3.9/site-packages/imdb/__init__.py:844: unknown information set \"genres\"\n"
     ]
    },
    {
     "name": "stdout",
     "output_type": "stream",
     "text": [
      "Thriller:\n",
      "Genres: ['Crime', 'Drama', 'Fantasy', 'Horror', 'Mystery', 'Thriller']\n"
     ]
    },
    {
     "name": "stderr",
     "output_type": "stream",
     "text": [
      "2023-12-27 13:19:01,194 ERROR [imdbpy] /Users/mac/opt/anaconda3/lib/python3.9/site-packages/imdb/__init__.py:844: unknown information set \"genres\"\n"
     ]
    },
    {
     "name": "stdout",
     "output_type": "stream",
     "text": [
      "The Last Survivors:\n",
      "Genres: ['Action', 'Sci-Fi', 'Thriller']\n"
     ]
    },
    {
     "name": "stderr",
     "output_type": "stream",
     "text": [
      "2023-12-27 13:19:09,561 ERROR [imdbpy] /Users/mac/opt/anaconda3/lib/python3.9/site-packages/imdb/__init__.py:844: unknown information set \"genres\"\n"
     ]
    },
    {
     "name": "stdout",
     "output_type": "stream",
     "text": [
      "OtherLife:\n",
      "Genres: ['Crime', 'Drama', 'Mystery', 'Sci-Fi', 'Thriller']\n"
     ]
    },
    {
     "name": "stderr",
     "output_type": "stream",
     "text": [
      "2023-12-27 13:19:15,354 ERROR [imdbpy] /Users/mac/opt/anaconda3/lib/python3.9/site-packages/imdb/__init__.py:844: unknown information set \"genres\"\n"
     ]
    },
    {
     "name": "stdout",
     "output_type": "stream",
     "text": [
      "Ishq Brandy:\n",
      "Genres: ['Comedy', 'Romance']\n"
     ]
    },
    {
     "name": "stderr",
     "output_type": "stream",
     "text": [
      "2023-12-27 13:19:21,948 ERROR [imdbpy] /Users/mac/opt/anaconda3/lib/python3.9/site-packages/imdb/__init__.py:844: unknown information set \"genres\"\n"
     ]
    },
    {
     "name": "stdout",
     "output_type": "stream",
     "text": [
      "Mo:\n",
      "Genres: ['Action', 'Adventure', 'Sci-Fi']\n"
     ]
    },
    {
     "name": "stderr",
     "output_type": "stream",
     "text": [
      "2023-12-27 13:19:28,128 ERROR [imdbpy] /Users/mac/opt/anaconda3/lib/python3.9/site-packages/imdb/__init__.py:844: unknown information set \"genres\"\n"
     ]
    },
    {
     "name": "stdout",
     "output_type": "stream",
     "text": [
      "Bingo Hell:\n",
      "Genres: ['Comedy', 'Horror']\n"
     ]
    },
    {
     "name": "stderr",
     "output_type": "stream",
     "text": [
      "2023-12-27 13:19:34,166 ERROR [imdbpy] /Users/mac/opt/anaconda3/lib/python3.9/site-packages/imdb/__init__.py:844: unknown information set \"genres\"\n"
     ]
    },
    {
     "name": "stdout",
     "output_type": "stream",
     "text": [
      "Historias lamentables:\n",
      "Genres: ['Comedy']\n"
     ]
    },
    {
     "name": "stderr",
     "output_type": "stream",
     "text": [
      "2023-12-27 13:19:42,381 ERROR [imdbpy] /Users/mac/opt/anaconda3/lib/python3.9/site-packages/imdb/__init__.py:844: unknown information set \"genres\"\n"
     ]
    },
    {
     "name": "stdout",
     "output_type": "stream",
     "text": [
      "The Nest:\n",
      "Genres: ['Drama', 'Romance', 'Thriller']\n"
     ]
    },
    {
     "name": "stderr",
     "output_type": "stream",
     "text": [
      "2023-12-27 13:19:47,659 ERROR [imdbpy] /Users/mac/opt/anaconda3/lib/python3.9/site-packages/imdb/__init__.py:844: unknown information set \"genres\"\n"
     ]
    },
    {
     "name": "stdout",
     "output_type": "stream",
     "text": [
      "Koi Jaane Na:\n",
      "Genres: ['Thriller']\n"
     ]
    },
    {
     "name": "stderr",
     "output_type": "stream",
     "text": [
      "2023-12-27 13:19:53,016 ERROR [imdbpy] /Users/mac/opt/anaconda3/lib/python3.9/site-packages/imdb/__init__.py:844: unknown information set \"genres\"\n"
     ]
    },
    {
     "name": "stdout",
     "output_type": "stream",
     "text": [
      "Pyewacket:\n",
      "Genres: ['Drama', 'Horror', 'Mystery', 'Thriller']\n"
     ]
    },
    {
     "name": "stderr",
     "output_type": "stream",
     "text": [
      "2023-12-27 13:20:00,467 ERROR [imdbpy] /Users/mac/opt/anaconda3/lib/python3.9/site-packages/imdb/__init__.py:844: unknown information set \"genres\"\n"
     ]
    },
    {
     "name": "stdout",
     "output_type": "stream",
     "text": [
      "Luz: The Flower of Evil:\n",
      "Genres: ['Crime', 'Drama', 'History', 'Mystery', 'Romance', 'Western']\n"
     ]
    },
    {
     "name": "stderr",
     "output_type": "stream",
     "text": [
      "2023-12-27 13:20:07,438 ERROR [imdbpy] /Users/mac/opt/anaconda3/lib/python3.9/site-packages/imdb/__init__.py:844: unknown information set \"genres\"\n"
     ]
    },
    {
     "name": "stdout",
     "output_type": "stream",
     "text": [
      "Perfect Sisters:\n",
      "Genres: ['Crime', 'Drama', 'Thriller']\n"
     ]
    },
    {
     "name": "stderr",
     "output_type": "stream",
     "text": [
      "2023-12-27 13:20:12,234 ERROR [imdbpy] /Users/mac/opt/anaconda3/lib/python3.9/site-packages/imdb/__init__.py:844: unknown information set \"genres\"\n"
     ]
    },
    {
     "name": "stdout",
     "output_type": "stream",
     "text": [
      "You Are My Problem:\n",
      "Genres: ['Not available']\n"
     ]
    },
    {
     "name": "stderr",
     "output_type": "stream",
     "text": [
      "2023-12-27 13:20:17,773 ERROR [imdbpy] /Users/mac/opt/anaconda3/lib/python3.9/site-packages/imdb/__init__.py:844: unknown information set \"genres\"\n"
     ]
    },
    {
     "name": "stdout",
     "output_type": "stream",
     "text": [
      "Greener Grass:\n",
      "Genres: ['Comedy']\n"
     ]
    },
    {
     "name": "stderr",
     "output_type": "stream",
     "text": [
      "2023-12-27 13:20:24,790 ERROR [imdbpy] /Users/mac/opt/anaconda3/lib/python3.9/site-packages/imdb/__init__.py:844: unknown information set \"genres\"\n"
     ]
    },
    {
     "name": "stdout",
     "output_type": "stream",
     "text": [
      "Ice Guardians:\n",
      "Genres: ['Documentary', 'Sport']\n"
     ]
    },
    {
     "name": "stderr",
     "output_type": "stream",
     "text": [
      "2023-12-27 13:20:34,473 ERROR [imdbpy] /Users/mac/opt/anaconda3/lib/python3.9/site-packages/imdb/__init__.py:844: unknown information set \"genres\"\n"
     ]
    },
    {
     "name": "stdout",
     "output_type": "stream",
     "text": [
      "The Weight of Gold:\n",
      "Genres: ['Documentary']\n"
     ]
    },
    {
     "name": "stderr",
     "output_type": "stream",
     "text": [
      "2023-12-27 13:20:40,852 ERROR [imdbpy] /Users/mac/opt/anaconda3/lib/python3.9/site-packages/imdb/__init__.py:844: unknown information set \"genres\"\n"
     ]
    },
    {
     "name": "stdout",
     "output_type": "stream",
     "text": [
      "Paradise Cove:\n",
      "Genres: ['Thriller']\n"
     ]
    },
    {
     "name": "stderr",
     "output_type": "stream",
     "text": [
      "2023-12-27 13:20:48,239 ERROR [imdbpy] /Users/mac/opt/anaconda3/lib/python3.9/site-packages/imdb/__init__.py:844: unknown information set \"genres\"\n"
     ]
    },
    {
     "name": "stdout",
     "output_type": "stream",
     "text": [
      "Samaritan:\n",
      "Genres: ['Action', 'Drama', 'Fantasy', 'Sci-Fi']\n"
     ]
    },
    {
     "name": "stderr",
     "output_type": "stream",
     "text": [
      "2023-12-27 13:20:53,545 ERROR [imdbpy] /Users/mac/opt/anaconda3/lib/python3.9/site-packages/imdb/__init__.py:844: unknown information set \"genres\"\n"
     ]
    },
    {
     "name": "stdout",
     "output_type": "stream",
     "text": [
      "Tom Segura: Completely Normal:\n",
      "Genres: ['Comedy']\n"
     ]
    },
    {
     "name": "stderr",
     "output_type": "stream",
     "text": [
      "2023-12-27 13:20:59,974 ERROR [imdbpy] /Users/mac/opt/anaconda3/lib/python3.9/site-packages/imdb/__init__.py:844: unknown information set \"genres\"\n"
     ]
    },
    {
     "name": "stdout",
     "output_type": "stream",
     "text": [
      "The Black Book:\n",
      "Genres: ['Thriller']\n"
     ]
    },
    {
     "name": "stderr",
     "output_type": "stream",
     "text": [
      "2023-12-27 13:21:04,974 ERROR [imdbpy] /Users/mac/opt/anaconda3/lib/python3.9/site-packages/imdb/__init__.py:844: unknown information set \"genres\"\n"
     ]
    },
    {
     "name": "stdout",
     "output_type": "stream",
     "text": [
      "Sir Alex Ferguson: Never Give In:\n",
      "Genres: ['Documentary', 'Biography', 'Sport']\n"
     ]
    },
    {
     "name": "stderr",
     "output_type": "stream",
     "text": [
      "2023-12-27 13:21:13,829 ERROR [imdbpy] /Users/mac/opt/anaconda3/lib/python3.9/site-packages/imdb/__init__.py:844: unknown information set \"genres\"\n"
     ]
    },
    {
     "name": "stdout",
     "output_type": "stream",
     "text": [
      "Tucked:\n",
      "Genres: ['Drama']\n"
     ]
    },
    {
     "name": "stderr",
     "output_type": "stream",
     "text": [
      "2023-12-27 13:21:20,391 ERROR [imdbpy] /Users/mac/opt/anaconda3/lib/python3.9/site-packages/imdb/__init__.py:844: unknown information set \"genres\"\n"
     ]
    },
    {
     "name": "stdout",
     "output_type": "stream",
     "text": [
      "Kuruthi:\n",
      "Genres: ['Thriller']\n"
     ]
    },
    {
     "name": "stderr",
     "output_type": "stream",
     "text": [
      "2023-12-27 13:21:26,590 ERROR [imdbpy] /Users/mac/opt/anaconda3/lib/python3.9/site-packages/imdb/__init__.py:844: unknown information set \"genres\"\n"
     ]
    },
    {
     "name": "stdout",
     "output_type": "stream",
     "text": [
      "Maverick: Manhunt Brazil:\n",
      "Genres: ['Action', 'Crime', 'Romance', 'Thriller']\n"
     ]
    },
    {
     "name": "stderr",
     "output_type": "stream",
     "text": [
      "2023-12-27 13:21:40,702 ERROR [imdbpy] /Users/mac/opt/anaconda3/lib/python3.9/site-packages/imdb/__init__.py:844: unknown information set \"genres\"\n"
     ]
    },
    {
     "name": "stdout",
     "output_type": "stream",
     "text": [
      "Ammu:\n",
      "Genres: ['Drama']\n"
     ]
    },
    {
     "name": "stderr",
     "output_type": "stream",
     "text": [
      "2023-12-27 13:21:51,480 ERROR [imdbpy] /Users/mac/opt/anaconda3/lib/python3.9/site-packages/imdb/__init__.py:844: unknown information set \"genres\"\n"
     ]
    },
    {
     "name": "stdout",
     "output_type": "stream",
     "text": [
      "Super Duper Alice Cooper:\n",
      "Genres: ['Documentary', 'Biography', 'Music']\n"
     ]
    },
    {
     "name": "stderr",
     "output_type": "stream",
     "text": [
      "2023-12-27 13:21:59,874 ERROR [imdbpy] /Users/mac/opt/anaconda3/lib/python3.9/site-packages/imdb/__init__.py:844: unknown information set \"genres\"\n"
     ]
    },
    {
     "name": "stdout",
     "output_type": "stream",
     "text": [
      "Gehraiyaan:\n",
      "Genres: ['Drama', 'Romance']\n"
     ]
    },
    {
     "name": "stderr",
     "output_type": "stream",
     "text": [
      "2023-12-27 13:22:07,479 ERROR [imdbpy] /Users/mac/opt/anaconda3/lib/python3.9/site-packages/imdb/__init__.py:844: unknown information set \"genres\"\n"
     ]
    },
    {
     "name": "stdout",
     "output_type": "stream",
     "text": [
      "Thank God:\n",
      "Genres: ['Comedy', 'Fantasy']\n"
     ]
    },
    {
     "name": "stderr",
     "output_type": "stream",
     "text": [
      "2023-12-27 13:22:15,992 ERROR [imdbpy] /Users/mac/opt/anaconda3/lib/python3.9/site-packages/imdb/__init__.py:844: unknown information set \"genres\"\n"
     ]
    },
    {
     "name": "stdout",
     "output_type": "stream",
     "text": [
      "The Accidental Spy:\n",
      "Genres: ['Action', 'Comedy', 'Crime', 'Mystery', 'Thriller']\n"
     ]
    },
    {
     "name": "stderr",
     "output_type": "stream",
     "text": [
      "2023-12-27 13:22:28,197 ERROR [imdbpy] /Users/mac/opt/anaconda3/lib/python3.9/site-packages/imdb/__init__.py:844: unknown information set \"genres\"\n"
     ]
    },
    {
     "name": "stdout",
     "output_type": "stream",
     "text": [
      "A Brixton Tale:\n",
      "Genres: ['Drama', 'Romance', 'Thriller']\n"
     ]
    },
    {
     "name": "stderr",
     "output_type": "stream",
     "text": [
      "2023-12-27 13:22:38,370 ERROR [imdbpy] /Users/mac/opt/anaconda3/lib/python3.9/site-packages/imdb/__init__.py:844: unknown information set \"genres\"\n"
     ]
    },
    {
     "name": "stdout",
     "output_type": "stream",
     "text": [
      "When Love Happens:\n",
      "Genres: ['Romance']\n"
     ]
    },
    {
     "name": "stderr",
     "output_type": "stream",
     "text": [
      "2023-12-27 13:22:49,320 ERROR [imdbpy] /Users/mac/opt/anaconda3/lib/python3.9/site-packages/imdb/__init__.py:844: unknown information set \"genres\"\n"
     ]
    },
    {
     "name": "stdout",
     "output_type": "stream",
     "text": [
      "The Santa Box:\n",
      "Genres: ['Family']\n"
     ]
    },
    {
     "name": "stderr",
     "output_type": "stream",
     "text": [
      "2023-12-27 13:22:57,129 ERROR [imdbpy] /Users/mac/opt/anaconda3/lib/python3.9/site-packages/imdb/__init__.py:844: unknown information set \"genres\"\n"
     ]
    },
    {
     "name": "stdout",
     "output_type": "stream",
     "text": [
      "Venky Mama:\n",
      "Genres: ['Action', 'Comedy', 'Drama']\n"
     ]
    },
    {
     "name": "stderr",
     "output_type": "stream",
     "text": [
      "2023-12-27 13:23:02,729 ERROR [imdbpy] /Users/mac/opt/anaconda3/lib/python3.9/site-packages/imdb/__init__.py:844: unknown information set \"genres\"\n"
     ]
    },
    {
     "name": "stdout",
     "output_type": "stream",
     "text": [
      "3 Hearts:\n",
      "Genres: ['Drama', 'Romance']\n"
     ]
    },
    {
     "name": "stderr",
     "output_type": "stream",
     "text": [
      "2023-12-27 13:23:07,794 ERROR [imdbpy] /Users/mac/opt/anaconda3/lib/python3.9/site-packages/imdb/__init__.py:844: unknown information set \"genres\"\n"
     ]
    },
    {
     "name": "stdout",
     "output_type": "stream",
     "text": [
      "Crazy, Rich and Deadly:\n",
      "Genres: ['Thriller']\n"
     ]
    },
    {
     "name": "stderr",
     "output_type": "stream",
     "text": [
      "2023-12-27 13:23:16,358 ERROR [imdbpy] /Users/mac/opt/anaconda3/lib/python3.9/site-packages/imdb/__init__.py:844: unknown information set \"genres\"\n"
     ]
    },
    {
     "name": "stdout",
     "output_type": "stream",
     "text": [
      "Werewolf Castle:\n",
      "Genres: ['Fantasy', 'Horror']\n"
     ]
    },
    {
     "name": "stderr",
     "output_type": "stream",
     "text": [
      "2023-12-27 13:23:25,429 ERROR [imdbpy] /Users/mac/opt/anaconda3/lib/python3.9/site-packages/imdb/__init__.py:844: unknown information set \"genres\"\n"
     ]
    },
    {
     "name": "stdout",
     "output_type": "stream",
     "text": [
      "The Heiress:\n",
      "Genres: ['Drama', 'Romance']\n"
     ]
    },
    {
     "name": "stderr",
     "output_type": "stream",
     "text": [
      "2023-12-27 13:23:32,819 ERROR [imdbpy] /Users/mac/opt/anaconda3/lib/python3.9/site-packages/imdb/__init__.py:844: unknown information set \"genres\"\n"
     ]
    },
    {
     "name": "stdout",
     "output_type": "stream",
     "text": [
      "Eye of the Beholder: The Art of Dungeons & Dragons:\n",
      "Genres: ['Documentary']\n"
     ]
    },
    {
     "name": "stderr",
     "output_type": "stream",
     "text": [
      "2023-12-27 13:23:38,632 ERROR [imdbpy] /Users/mac/opt/anaconda3/lib/python3.9/site-packages/imdb/__init__.py:844: unknown information set \"genres\"\n"
     ]
    },
    {
     "name": "stdout",
     "output_type": "stream",
     "text": [
      "Baked in Brooklyn:\n",
      "Genres: ['Comedy', 'Crime', 'Drama', 'Romance']\n"
     ]
    },
    {
     "name": "stderr",
     "output_type": "stream",
     "text": [
      "2023-12-27 13:23:45,240 ERROR [imdbpy] /Users/mac/opt/anaconda3/lib/python3.9/site-packages/imdb/__init__.py:844: unknown information set \"genres\"\n"
     ]
    },
    {
     "name": "stdout",
     "output_type": "stream",
     "text": [
      "Unknown Visitor:\n",
      "Genres: ['Horror']\n"
     ]
    },
    {
     "name": "stderr",
     "output_type": "stream",
     "text": [
      "2023-12-27 13:23:52,593 ERROR [imdbpy] /Users/mac/opt/anaconda3/lib/python3.9/site-packages/imdb/__init__.py:844: unknown information set \"genres\"\n"
     ]
    },
    {
     "name": "stdout",
     "output_type": "stream",
     "text": [
      "Meppadiyan:\n",
      "Genres: ['Drama', 'Thriller']\n"
     ]
    },
    {
     "name": "stderr",
     "output_type": "stream",
     "text": [
      "2023-12-27 13:23:58,940 ERROR [imdbpy] /Users/mac/opt/anaconda3/lib/python3.9/site-packages/imdb/__init__.py:844: unknown information set \"genres\"\n"
     ]
    },
    {
     "name": "stdout",
     "output_type": "stream",
     "text": [
      "Kadaram Kondan:\n",
      "Genres: ['Action', 'Crime', 'Thriller']\n"
     ]
    },
    {
     "name": "stderr",
     "output_type": "stream",
     "text": [
      "2023-12-27 13:24:07,301 ERROR [imdbpy] /Users/mac/opt/anaconda3/lib/python3.9/site-packages/imdb/__init__.py:844: unknown information set \"genres\"\n"
     ]
    },
    {
     "name": "stdout",
     "output_type": "stream",
     "text": [
      "Elephant Song:\n",
      "Genres: ['Drama']\n"
     ]
    },
    {
     "name": "stderr",
     "output_type": "stream",
     "text": [
      "2023-12-27 13:24:18,329 ERROR [imdbpy] /Users/mac/opt/anaconda3/lib/python3.9/site-packages/imdb/__init__.py:844: unknown information set \"genres\"\n"
     ]
    },
    {
     "name": "stdout",
     "output_type": "stream",
     "text": [
      "Don't Go:\n",
      "Genres: ['Drama', 'Horror', 'Mystery', 'Sci-Fi', 'Thriller']\n"
     ]
    },
    {
     "name": "stderr",
     "output_type": "stream",
     "text": [
      "2023-12-27 13:24:31,186 ERROR [imdbpy] /Users/mac/opt/anaconda3/lib/python3.9/site-packages/imdb/__init__.py:844: unknown information set \"genres\"\n"
     ]
    },
    {
     "name": "stdout",
     "output_type": "stream",
     "text": [
      "CT Fletcher: My Magnificent Obsession:\n",
      "Genres: ['Documentary', 'Drama', 'Sport']\n"
     ]
    },
    {
     "name": "stderr",
     "output_type": "stream",
     "text": [
      "2023-12-27 13:24:42,698 ERROR [imdbpy] /Users/mac/opt/anaconda3/lib/python3.9/site-packages/imdb/__init__.py:844: unknown information set \"genres\"\n"
     ]
    },
    {
     "name": "stdout",
     "output_type": "stream",
     "text": [
      "IPC 376:\n",
      "Genres: ['Drama', 'Horror', 'Mystery']\n"
     ]
    },
    {
     "name": "stderr",
     "output_type": "stream",
     "text": [
      "2023-12-27 13:24:52,235 ERROR [imdbpy] /Users/mac/opt/anaconda3/lib/python3.9/site-packages/imdb/__init__.py:844: unknown information set \"genres\"\n"
     ]
    },
    {
     "name": "stdout",
     "output_type": "stream",
     "text": [
      "Plan A:\n",
      "Genres: ['Action', 'Comedy']\n"
     ]
    },
    {
     "name": "stderr",
     "output_type": "stream",
     "text": [
      "2023-12-27 13:25:00,969 ERROR [imdbpy] /Users/mac/opt/anaconda3/lib/python3.9/site-packages/imdb/__init__.py:844: unknown information set \"genres\"\n"
     ]
    },
    {
     "name": "stdout",
     "output_type": "stream",
     "text": [
      "Incoming:\n",
      "Genres: ['Comedy']\n"
     ]
    },
    {
     "name": "stderr",
     "output_type": "stream",
     "text": [
      "2023-12-27 13:25:11,337 ERROR [imdbpy] /Users/mac/opt/anaconda3/lib/python3.9/site-packages/imdb/__init__.py:844: unknown information set \"genres\"\n"
     ]
    },
    {
     "name": "stdout",
     "output_type": "stream",
     "text": [
      "The Frame:\n",
      "Genres: ['Crime', 'Drama', 'Fantasy', 'Romance', 'Thriller']\n"
     ]
    },
    {
     "name": "stderr",
     "output_type": "stream",
     "text": [
      "2023-12-27 13:25:28,208 ERROR [imdbpy] /Users/mac/opt/anaconda3/lib/python3.9/site-packages/imdb/__init__.py:844: unknown information set \"genres\"\n"
     ]
    },
    {
     "name": "stdout",
     "output_type": "stream",
     "text": [
      "The Other Wife:\n",
      "Genres: ['Romance']\n"
     ]
    },
    {
     "name": "stderr",
     "output_type": "stream",
     "text": [
      "2023-12-27 13:25:33,471 ERROR [imdbpy] /Users/mac/opt/anaconda3/lib/python3.9/site-packages/imdb/__init__.py:844: unknown information set \"genres\"\n"
     ]
    },
    {
     "name": "stdout",
     "output_type": "stream",
     "text": [
      "Wedding Doll:\n",
      "Genres: ['Drama']\n"
     ]
    },
    {
     "name": "stderr",
     "output_type": "stream",
     "text": [
      "2023-12-27 13:25:40,175 ERROR [imdbpy] /Users/mac/opt/anaconda3/lib/python3.9/site-packages/imdb/__init__.py:844: unknown information set \"genres\"\n"
     ]
    },
    {
     "name": "stdout",
     "output_type": "stream",
     "text": [
      "The Last Descent:\n",
      "Genres: ['Drama']\n"
     ]
    },
    {
     "name": "stderr",
     "output_type": "stream",
     "text": [
      "2023-12-27 13:25:46,160 ERROR [imdbpy] /Users/mac/opt/anaconda3/lib/python3.9/site-packages/imdb/__init__.py:844: unknown information set \"genres\"\n"
     ]
    },
    {
     "name": "stdout",
     "output_type": "stream",
     "text": [
      "Karnan:\n",
      "Genres: ['Action', 'Drama']\n"
     ]
    },
    {
     "name": "stderr",
     "output_type": "stream",
     "text": [
      "2023-12-27 13:25:54,595 ERROR [imdbpy] /Users/mac/opt/anaconda3/lib/python3.9/site-packages/imdb/__init__.py:844: unknown information set \"genres\"\n"
     ]
    },
    {
     "name": "stdout",
     "output_type": "stream",
     "text": [
      "Savyasachi:\n",
      "Genres: ['Action', 'Thriller']\n"
     ]
    },
    {
     "name": "stderr",
     "output_type": "stream",
     "text": [
      "2023-12-27 13:26:03,284 ERROR [imdbpy] /Users/mac/opt/anaconda3/lib/python3.9/site-packages/imdb/__init__.py:844: unknown information set \"genres\"\n"
     ]
    },
    {
     "name": "stdout",
     "output_type": "stream",
     "text": [
      "Generation Wealth:\n",
      "Genres: ['Documentary']\n"
     ]
    },
    {
     "name": "stderr",
     "output_type": "stream",
     "text": [
      "2023-12-27 13:26:10,613 ERROR [imdbpy] /Users/mac/opt/anaconda3/lib/python3.9/site-packages/imdb/__init__.py:844: unknown information set \"genres\"\n"
     ]
    },
    {
     "name": "stdout",
     "output_type": "stream",
     "text": [
      "Marry Me at Christmas:\n",
      "Genres: ['Comedy', 'Family', 'Romance']\n"
     ]
    },
    {
     "name": "stderr",
     "output_type": "stream",
     "text": [
      "2023-12-27 13:26:17,494 ERROR [imdbpy] /Users/mac/opt/anaconda3/lib/python3.9/site-packages/imdb/__init__.py:844: unknown information set \"genres\"\n"
     ]
    },
    {
     "name": "stdout",
     "output_type": "stream",
     "text": [
      "Seymour: An Introduction:\n",
      "Genres: ['Documentary', 'Biography', 'Music']\n"
     ]
    },
    {
     "name": "stderr",
     "output_type": "stream",
     "text": [
      "2023-12-27 13:26:25,649 ERROR [imdbpy] /Users/mac/opt/anaconda3/lib/python3.9/site-packages/imdb/__init__.py:844: unknown information set \"genres\"\n"
     ]
    },
    {
     "name": "stdout",
     "output_type": "stream",
     "text": [
      "Transference: Escape the Dark:\n",
      "Genres: ['Action', 'Mystery', 'Sci-Fi']\n"
     ]
    },
    {
     "name": "stderr",
     "output_type": "stream",
     "text": [
      "2023-12-27 13:26:33,928 ERROR [imdbpy] /Users/mac/opt/anaconda3/lib/python3.9/site-packages/imdb/__init__.py:844: unknown information set \"genres\"\n"
     ]
    },
    {
     "name": "stdout",
     "output_type": "stream",
     "text": [
      "Three Days in Havana:\n",
      "Genres: ['Comedy', 'Crime', 'Drama', 'Thriller']\n"
     ]
    },
    {
     "name": "stderr",
     "output_type": "stream",
     "text": [
      "2023-12-27 13:26:44,395 ERROR [imdbpy] /Users/mac/opt/anaconda3/lib/python3.9/site-packages/imdb/__init__.py:844: unknown information set \"genres\"\n"
     ]
    },
    {
     "name": "stdout",
     "output_type": "stream",
     "text": [
      "Kaleidoscope:\n",
      "Genres: ['Action', 'Crime', 'Drama', 'Thriller']\n"
     ]
    },
    {
     "name": "stderr",
     "output_type": "stream",
     "text": [
      "2023-12-27 13:26:54,653 ERROR [imdbpy] /Users/mac/opt/anaconda3/lib/python3.9/site-packages/imdb/__init__.py:844: unknown information set \"genres\"\n"
     ]
    },
    {
     "name": "stdout",
     "output_type": "stream",
     "text": [
      "Palestine:\n",
      "Genres: ['Drama']\n"
     ]
    },
    {
     "name": "stderr",
     "output_type": "stream",
     "text": [
      "2023-12-27 13:27:05,889 ERROR [imdbpy] /Users/mac/opt/anaconda3/lib/python3.9/site-packages/imdb/__init__.py:844: unknown information set \"genres\"\n"
     ]
    },
    {
     "name": "stdout",
     "output_type": "stream",
     "text": [
      "Saltwater: The Battle for Ramree Island:\n",
      "Genres: ['Action']\n"
     ]
    },
    {
     "name": "stderr",
     "output_type": "stream",
     "text": [
      "2023-12-27 13:27:14,319 ERROR [imdbpy] /Users/mac/opt/anaconda3/lib/python3.9/site-packages/imdb/__init__.py:844: unknown information set \"genres\"\n"
     ]
    },
    {
     "name": "stdout",
     "output_type": "stream",
     "text": [
      "Detective Byomkesh Bakshy!:\n",
      "Genres: ['Action', 'Crime', 'Drama', 'Mystery', 'Thriller']\n"
     ]
    },
    {
     "name": "stderr",
     "output_type": "stream",
     "text": [
      "2023-12-27 13:27:21,061 ERROR [imdbpy] /Users/mac/opt/anaconda3/lib/python3.9/site-packages/imdb/__init__.py:844: unknown information set \"genres\"\n"
     ]
    },
    {
     "name": "stdout",
     "output_type": "stream",
     "text": [
      "7 Deadly Sins:\n",
      "Genres: ['Animation', 'Action', 'Adventure', 'Comedy', 'Fantasy']\n"
     ]
    },
    {
     "name": "stderr",
     "output_type": "stream",
     "text": [
      "2023-12-27 13:27:28,904 ERROR [imdbpy] /Users/mac/opt/anaconda3/lib/python3.9/site-packages/imdb/__init__.py:844: unknown information set \"genres\"\n"
     ]
    },
    {
     "name": "stdout",
     "output_type": "stream",
     "text": [
      "Alien Outbreak:\n",
      "Genres: ['Sci-Fi']\n"
     ]
    },
    {
     "name": "stderr",
     "output_type": "stream",
     "text": [
      "2023-12-27 13:27:37,280 ERROR [imdbpy] /Users/mac/opt/anaconda3/lib/python3.9/site-packages/imdb/__init__.py:844: unknown information set \"genres\"\n"
     ]
    },
    {
     "name": "stdout",
     "output_type": "stream",
     "text": [
      "The Town that Dreaded Sundown:\n",
      "Genres: ['Horror', 'Mystery', 'Thriller']\n"
     ]
    },
    {
     "name": "stderr",
     "output_type": "stream",
     "text": [
      "2023-12-27 13:27:43,573 ERROR [imdbpy] /Users/mac/opt/anaconda3/lib/python3.9/site-packages/imdb/__init__.py:844: unknown information set \"genres\"\n"
     ]
    },
    {
     "name": "stdout",
     "output_type": "stream",
     "text": [
      "13 Minutes:\n",
      "Genres: ['Action', 'Drama', 'Thriller']\n"
     ]
    },
    {
     "name": "stderr",
     "output_type": "stream",
     "text": [
      "2023-12-27 13:27:49,975 ERROR [imdbpy] /Users/mac/opt/anaconda3/lib/python3.9/site-packages/imdb/__init__.py:844: unknown information set \"genres\"\n"
     ]
    },
    {
     "name": "stdout",
     "output_type": "stream",
     "text": [
      "Girls Like Magic:\n",
      "Genres: ['Romance']\n"
     ]
    },
    {
     "name": "stderr",
     "output_type": "stream",
     "text": [
      "2023-12-27 13:27:58,076 ERROR [imdbpy] /Users/mac/opt/anaconda3/lib/python3.9/site-packages/imdb/__init__.py:844: unknown information set \"genres\"\n"
     ]
    },
    {
     "name": "stdout",
     "output_type": "stream",
     "text": [
      "The Drone:\n",
      "Genres: ['Comedy', 'Horror', 'Sci-Fi', 'Thriller']\n"
     ]
    },
    {
     "name": "stderr",
     "output_type": "stream",
     "text": [
      "2023-12-27 13:28:04,952 ERROR [imdbpy] /Users/mac/opt/anaconda3/lib/python3.9/site-packages/imdb/__init__.py:844: unknown information set \"genres\"\n"
     ]
    },
    {
     "name": "stdout",
     "output_type": "stream",
     "text": [
      "You've Been Trumped Too:\n",
      "Genres: ['Documentary']\n"
     ]
    },
    {
     "name": "stderr",
     "output_type": "stream",
     "text": [
      "2023-12-27 13:28:12,301 ERROR [imdbpy] /Users/mac/opt/anaconda3/lib/python3.9/site-packages/imdb/__init__.py:844: unknown information set \"genres\"\n"
     ]
    },
    {
     "name": "stdout",
     "output_type": "stream",
     "text": [
      "Gang Leader:\n",
      "Genres: ['Action', 'Comedy', 'Thriller']\n"
     ]
    },
    {
     "name": "stderr",
     "output_type": "stream",
     "text": [
      "2023-12-27 13:28:20,764 ERROR [imdbpy] /Users/mac/opt/anaconda3/lib/python3.9/site-packages/imdb/__init__.py:844: unknown information set \"genres\"\n"
     ]
    },
    {
     "name": "stdout",
     "output_type": "stream",
     "text": [
      "Peripheral:\n",
      "Genres: ['Drama', 'Mystery', 'Sci-Fi', 'Thriller']\n"
     ]
    },
    {
     "name": "stderr",
     "output_type": "stream",
     "text": [
      "2023-12-27 13:28:28,338 ERROR [imdbpy] /Users/mac/opt/anaconda3/lib/python3.9/site-packages/imdb/__init__.py:844: unknown information set \"genres\"\n"
     ]
    },
    {
     "name": "stdout",
     "output_type": "stream",
     "text": [
      "The Bezonians:\n",
      "Genres: ['Comedy', 'Crime', 'Drama', 'Thriller']\n"
     ]
    },
    {
     "name": "stderr",
     "output_type": "stream",
     "text": [
      "2023-12-27 13:28:37,063 ERROR [imdbpy] /Users/mac/opt/anaconda3/lib/python3.9/site-packages/imdb/__init__.py:844: unknown information set \"genres\"\n"
     ]
    },
    {
     "name": "stdout",
     "output_type": "stream",
     "text": [
      "Amar Akbar Anthony:\n",
      "Genres: ['Action', 'Comedy', 'Drama', 'Music']\n"
     ]
    },
    {
     "name": "stderr",
     "output_type": "stream",
     "text": [
      "2023-12-27 13:28:45,245 ERROR [imdbpy] /Users/mac/opt/anaconda3/lib/python3.9/site-packages/imdb/__init__.py:844: unknown information set \"genres\"\n"
     ]
    },
    {
     "name": "stdout",
     "output_type": "stream",
     "text": [
      "Alien Code:\n",
      "Genres: ['Mystery', 'Sci-Fi', 'Thriller']\n"
     ]
    },
    {
     "name": "stderr",
     "output_type": "stream",
     "text": [
      "2023-12-27 13:28:53,290 ERROR [imdbpy] /Users/mac/opt/anaconda3/lib/python3.9/site-packages/imdb/__init__.py:844: unknown information set \"genres\"\n"
     ]
    },
    {
     "name": "stdout",
     "output_type": "stream",
     "text": [
      "The Witch Files:\n",
      "Genres: ['Horror', 'Thriller']\n"
     ]
    },
    {
     "name": "stderr",
     "output_type": "stream",
     "text": [
      "2023-12-27 13:29:01,350 ERROR [imdbpy] /Users/mac/opt/anaconda3/lib/python3.9/site-packages/imdb/__init__.py:844: unknown information set \"genres\"\n"
     ]
    },
    {
     "name": "stdout",
     "output_type": "stream",
     "text": [
      "Vangelis and the Journey To Ithaka:\n",
      "Genres: ['Documentary']\n"
     ]
    },
    {
     "name": "stderr",
     "output_type": "stream",
     "text": [
      "2023-12-27 13:29:06,652 ERROR [imdbpy] /Users/mac/opt/anaconda3/lib/python3.9/site-packages/imdb/__init__.py:844: unknown information set \"genres\"\n"
     ]
    },
    {
     "name": "stdout",
     "output_type": "stream",
     "text": [
      "Sanctuary: Population One:\n",
      "Genres: ['Sci-Fi']\n"
     ]
    },
    {
     "name": "stderr",
     "output_type": "stream",
     "text": [
      "2023-12-27 13:29:12,934 ERROR [imdbpy] /Users/mac/opt/anaconda3/lib/python3.9/site-packages/imdb/__init__.py:844: unknown information set \"genres\"\n"
     ]
    },
    {
     "name": "stdout",
     "output_type": "stream",
     "text": [
      "Monster Island:\n",
      "Genres: ['Adventure', 'Comedy', 'Horror', 'Sci-Fi']\n"
     ]
    },
    {
     "name": "stderr",
     "output_type": "stream",
     "text": [
      "2023-12-27 13:29:20,347 ERROR [imdbpy] /Users/mac/opt/anaconda3/lib/python3.9/site-packages/imdb/__init__.py:844: unknown information set \"genres\"\n"
     ]
    },
    {
     "name": "stdout",
     "output_type": "stream",
     "text": [
      "Dybbuk: The Curse Is Real:\n",
      "Genres: ['Drama', 'Horror']\n"
     ]
    },
    {
     "name": "stderr",
     "output_type": "stream",
     "text": [
      "2023-12-27 13:29:26,006 ERROR [imdbpy] /Users/mac/opt/anaconda3/lib/python3.9/site-packages/imdb/__init__.py:844: unknown information set \"genres\"\n"
     ]
    },
    {
     "name": "stdout",
     "output_type": "stream",
     "text": [
      "Anuvab Pal: Alive at 40:\n",
      "Genres: ['Documentary', 'Short']\n"
     ]
    },
    {
     "name": "stderr",
     "output_type": "stream",
     "text": [
      "2023-12-27 13:29:37,106 ERROR [imdbpy] /Users/mac/opt/anaconda3/lib/python3.9/site-packages/imdb/__init__.py:844: unknown information set \"genres\"\n"
     ]
    },
    {
     "name": "stdout",
     "output_type": "stream",
     "text": [
      "Trace:\n",
      "Genres: ['Crime', 'Drama', 'Mystery', 'Thriller']\n"
     ]
    },
    {
     "name": "stderr",
     "output_type": "stream",
     "text": [
      "2023-12-27 13:29:46,760 ERROR [imdbpy] /Users/mac/opt/anaconda3/lib/python3.9/site-packages/imdb/__init__.py:844: unknown information set \"genres\"\n"
     ]
    },
    {
     "name": "stdout",
     "output_type": "stream",
     "text": [
      "The Ice Forest:\n",
      "Genres: ['Thriller']\n"
     ]
    },
    {
     "name": "stderr",
     "output_type": "stream",
     "text": [
      "2023-12-27 13:29:53,148 ERROR [imdbpy] /Users/mac/opt/anaconda3/lib/python3.9/site-packages/imdb/__init__.py:844: unknown information set \"genres\"\n"
     ]
    },
    {
     "name": "stdout",
     "output_type": "stream",
     "text": [
      "About Us:\n",
      "Genres: ['Drama', 'Romance']\n"
     ]
    },
    {
     "name": "stderr",
     "output_type": "stream",
     "text": [
      "2023-12-27 13:29:59,516 ERROR [imdbpy] /Users/mac/opt/anaconda3/lib/python3.9/site-packages/imdb/__init__.py:844: unknown information set \"genres\"\n"
     ]
    },
    {
     "name": "stdout",
     "output_type": "stream",
     "text": [
      "Cherry Pop:\n",
      "Genres: ['Comedy', 'Musical']\n"
     ]
    },
    {
     "name": "stderr",
     "output_type": "stream",
     "text": [
      "2023-12-27 13:30:05,221 ERROR [imdbpy] /Users/mac/opt/anaconda3/lib/python3.9/site-packages/imdb/__init__.py:844: unknown information set \"genres\"\n"
     ]
    },
    {
     "name": "stdout",
     "output_type": "stream",
     "text": [
      "Chal Mera Putt:\n",
      "Genres: ['Comedy']\n"
     ]
    },
    {
     "name": "stderr",
     "output_type": "stream",
     "text": [
      "2023-12-27 13:30:13,022 ERROR [imdbpy] /Users/mac/opt/anaconda3/lib/python3.9/site-packages/imdb/__init__.py:844: unknown information set \"genres\"\n"
     ]
    },
    {
     "name": "stdout",
     "output_type": "stream",
     "text": [
      "Leopardi:\n",
      "Genres: ['Biography', 'Drama', 'History']\n"
     ]
    },
    {
     "name": "stderr",
     "output_type": "stream",
     "text": [
      "2023-12-27 13:30:20,517 ERROR [imdbpy] /Users/mac/opt/anaconda3/lib/python3.9/site-packages/imdb/__init__.py:844: unknown information set \"genres\"\n"
     ]
    },
    {
     "name": "stdout",
     "output_type": "stream",
     "text": [
      "Devil's Revenge:\n",
      "Genres: ['Horror']\n"
     ]
    },
    {
     "name": "stderr",
     "output_type": "stream",
     "text": [
      "2023-12-27 13:30:35,413 ERROR [imdbpy] /Users/mac/opt/anaconda3/lib/python3.9/site-packages/imdb/__init__.py:844: unknown information set \"genres\"\n"
     ]
    },
    {
     "name": "stdout",
     "output_type": "stream",
     "text": [
      "The Shed:\n",
      "Genres: ['Drama', 'Horror']\n"
     ]
    },
    {
     "name": "stderr",
     "output_type": "stream",
     "text": [
      "2023-12-27 13:30:45,272 ERROR [imdbpy] /Users/mac/opt/anaconda3/lib/python3.9/site-packages/imdb/__init__.py:844: unknown information set \"genres\"\n"
     ]
    },
    {
     "name": "stdout",
     "output_type": "stream",
     "text": [
      "Still the Water:\n",
      "Genres: ['Drama', 'Romance']\n"
     ]
    },
    {
     "name": "stderr",
     "output_type": "stream",
     "text": [
      "2023-12-27 13:30:55,187 ERROR [imdbpy] /Users/mac/opt/anaconda3/lib/python3.9/site-packages/imdb/__init__.py:844: unknown information set \"genres\"\n"
     ]
    },
    {
     "name": "stdout",
     "output_type": "stream",
     "text": [
      "Don't Worry, He Won't Get Far on Foot:\n",
      "Genres: ['Biography', 'Comedy', 'Drama']\n"
     ]
    },
    {
     "name": "stderr",
     "output_type": "stream",
     "text": [
      "2023-12-27 13:31:01,661 ERROR [imdbpy] /Users/mac/opt/anaconda3/lib/python3.9/site-packages/imdb/__init__.py:844: unknown information set \"genres\"\n"
     ]
    },
    {
     "name": "stdout",
     "output_type": "stream",
     "text": [
      "WWII: The Long Road Home:\n",
      "Genres: ['Adventure', 'Drama', 'War']\n"
     ]
    },
    {
     "name": "stderr",
     "output_type": "stream",
     "text": [
      "2023-12-27 13:31:08,514 ERROR [imdbpy] /Users/mac/opt/anaconda3/lib/python3.9/site-packages/imdb/__init__.py:844: unknown information set \"genres\"\n"
     ]
    },
    {
     "name": "stdout",
     "output_type": "stream",
     "text": [
      "The Cleansing:\n",
      "Genres: ['Drama', 'Fantasy', 'Horror', 'Mystery', 'Thriller']\n"
     ]
    },
    {
     "name": "stderr",
     "output_type": "stream",
     "text": [
      "2023-12-27 13:31:15,909 ERROR [imdbpy] /Users/mac/opt/anaconda3/lib/python3.9/site-packages/imdb/__init__.py:844: unknown information set \"genres\"\n"
     ]
    },
    {
     "name": "stdout",
     "output_type": "stream",
     "text": [
      "Incidental Characters:\n",
      "Genres: ['Comedy']\n"
     ]
    },
    {
     "name": "stderr",
     "output_type": "stream",
     "text": [
      "2023-12-27 13:31:23,379 ERROR [imdbpy] /Users/mac/opt/anaconda3/lib/python3.9/site-packages/imdb/__init__.py:844: unknown information set \"genres\"\n"
     ]
    },
    {
     "name": "stdout",
     "output_type": "stream",
     "text": [
      "The Set Up:\n",
      "Genres: ['Crime', 'Film-Noir', 'Sport']\n"
     ]
    },
    {
     "name": "stderr",
     "output_type": "stream",
     "text": [
      "2023-12-27 13:31:29,308 ERROR [imdbpy] /Users/mac/opt/anaconda3/lib/python3.9/site-packages/imdb/__init__.py:844: unknown information set \"genres\"\n"
     ]
    },
    {
     "name": "stdout",
     "output_type": "stream",
     "text": [
      "Infernum:\n",
      "Genres: ['Horror']\n"
     ]
    },
    {
     "name": "stderr",
     "output_type": "stream",
     "text": [
      "2023-12-27 13:31:36,749 ERROR [imdbpy] /Users/mac/opt/anaconda3/lib/python3.9/site-packages/imdb/__init__.py:844: unknown information set \"genres\"\n"
     ]
    },
    {
     "name": "stdout",
     "output_type": "stream",
     "text": [
      "Home Sweet Home:\n",
      "Genres: ['Drama', 'Fantasy', 'Horror', 'Thriller']\n"
     ]
    },
    {
     "name": "stderr",
     "output_type": "stream",
     "text": [
      "2023-12-27 13:31:45,642 ERROR [imdbpy] /Users/mac/opt/anaconda3/lib/python3.9/site-packages/imdb/__init__.py:844: unknown information set \"genres\"\n"
     ]
    },
    {
     "name": "stdout",
     "output_type": "stream",
     "text": [
      "Drawn Into the Night:\n",
      "Genres: ['Thriller']\n"
     ]
    },
    {
     "name": "stderr",
     "output_type": "stream",
     "text": [
      "2023-12-27 13:31:55,204 ERROR [imdbpy] /Users/mac/opt/anaconda3/lib/python3.9/site-packages/imdb/__init__.py:844: unknown information set \"genres\"\n"
     ]
    },
    {
     "name": "stdout",
     "output_type": "stream",
     "text": [
      "Shadow in the Cloud:\n",
      "Genres: ['Action', 'Horror', 'War']\n"
     ]
    },
    {
     "name": "stderr",
     "output_type": "stream",
     "text": [
      "2023-12-27 13:32:01,661 ERROR [imdbpy] /Users/mac/opt/anaconda3/lib/python3.9/site-packages/imdb/__init__.py:844: unknown information set \"genres\"\n"
     ]
    },
    {
     "name": "stdout",
     "output_type": "stream",
     "text": [
      "Apache Stays Apache:\n",
      "Genres: ['Documentary']\n"
     ]
    },
    {
     "name": "stderr",
     "output_type": "stream",
     "text": [
      "2023-12-27 13:32:06,541 ERROR [imdbpy] /Users/mac/opt/anaconda3/lib/python3.9/site-packages/imdb/__init__.py:844: unknown information set \"genres\"\n"
     ]
    },
    {
     "name": "stdout",
     "output_type": "stream",
     "text": [
      "Zane Lamprey: Tender Looks:\n",
      "Genres: ['Comedy']\n"
     ]
    },
    {
     "name": "stderr",
     "output_type": "stream",
     "text": [
      "2023-12-27 13:32:13,376 ERROR [imdbpy] /Users/mac/opt/anaconda3/lib/python3.9/site-packages/imdb/__init__.py:844: unknown information set \"genres\"\n"
     ]
    },
    {
     "name": "stdout",
     "output_type": "stream",
     "text": [
      "Planet Dune:\n",
      "Genres: ['Adventure', 'Horror', 'Sci-Fi']\n"
     ]
    },
    {
     "name": "stderr",
     "output_type": "stream",
     "text": [
      "2023-12-27 13:32:20,894 ERROR [imdbpy] /Users/mac/opt/anaconda3/lib/python3.9/site-packages/imdb/__init__.py:844: unknown information set \"genres\"\n"
     ]
    },
    {
     "name": "stdout",
     "output_type": "stream",
     "text": [
      "Ibiza Undead:\n",
      "Genres: ['Action', 'Comedy', 'Horror', 'Sci-Fi']\n"
     ]
    },
    {
     "name": "stderr",
     "output_type": "stream",
     "text": [
      "2023-12-27 13:32:30,220 ERROR [imdbpy] /Users/mac/opt/anaconda3/lib/python3.9/site-packages/imdb/__init__.py:844: unknown information set \"genres\"\n"
     ]
    },
    {
     "name": "stdout",
     "output_type": "stream",
     "text": [
      "Anonymous Animals:\n",
      "Genres: ['Fantasy', 'Thriller']\n"
     ]
    },
    {
     "name": "stderr",
     "output_type": "stream",
     "text": [
      "2023-12-27 13:32:37,911 ERROR [imdbpy] /Users/mac/opt/anaconda3/lib/python3.9/site-packages/imdb/__init__.py:844: unknown information set \"genres\"\n"
     ]
    },
    {
     "name": "stdout",
     "output_type": "stream",
     "text": [
      "Helix:\n",
      "Genres: ['Drama', 'Horror', 'Mystery', 'Sci-Fi', 'Thriller']\n"
     ]
    },
    {
     "name": "stderr",
     "output_type": "stream",
     "text": [
      "2023-12-27 13:32:45,712 ERROR [imdbpy] /Users/mac/opt/anaconda3/lib/python3.9/site-packages/imdb/__init__.py:844: unknown information set \"genres\"\n"
     ]
    },
    {
     "name": "stdout",
     "output_type": "stream",
     "text": [
      "Pretty Little Stalker:\n",
      "Genres: ['Drama', 'Mystery', 'Thriller']\n"
     ]
    },
    {
     "name": "stderr",
     "output_type": "stream",
     "text": [
      "2023-12-27 13:32:51,855 ERROR [imdbpy] /Users/mac/opt/anaconda3/lib/python3.9/site-packages/imdb/__init__.py:844: unknown information set \"genres\"\n"
     ]
    },
    {
     "name": "stdout",
     "output_type": "stream",
     "text": [
      "Brighton:\n",
      "Genres: ['Crime', 'Drama', 'Film-Noir']\n"
     ]
    },
    {
     "name": "stderr",
     "output_type": "stream",
     "text": [
      "2023-12-27 13:32:59,474 ERROR [imdbpy] /Users/mac/opt/anaconda3/lib/python3.9/site-packages/imdb/__init__.py:844: unknown information set \"genres\"\n"
     ]
    },
    {
     "name": "stdout",
     "output_type": "stream",
     "text": [
      "Up North:\n",
      "Genres: ['Drama']\n"
     ]
    },
    {
     "name": "stderr",
     "output_type": "stream",
     "text": [
      "2023-12-27 13:33:09,386 ERROR [imdbpy] /Users/mac/opt/anaconda3/lib/python3.9/site-packages/imdb/__init__.py:844: unknown information set \"genres\"\n"
     ]
    },
    {
     "name": "stdout",
     "output_type": "stream",
     "text": [
      "Big Kill:\n",
      "Genres: ['Action', 'Drama', 'Western']\n"
     ]
    },
    {
     "name": "stderr",
     "output_type": "stream",
     "text": [
      "2023-12-27 13:33:17,099 ERROR [imdbpy] /Users/mac/opt/anaconda3/lib/python3.9/site-packages/imdb/__init__.py:844: unknown information set \"genres\"\n"
     ]
    },
    {
     "name": "stdout",
     "output_type": "stream",
     "text": [
      "Lurking Woods:\n",
      "Genres: ['Horror', 'Mystery', 'Thriller']\n"
     ]
    },
    {
     "name": "stderr",
     "output_type": "stream",
     "text": [
      "2023-12-27 13:33:32,104 ERROR [imdbpy] /Users/mac/opt/anaconda3/lib/python3.9/site-packages/imdb/__init__.py:844: unknown information set \"genres\"\n"
     ]
    },
    {
     "name": "stdout",
     "output_type": "stream",
     "text": [
      "The Sand:\n",
      "Genres: ['Drama', 'Fantasy', 'Horror', 'Mystery', 'Sci-Fi']\n"
     ]
    },
    {
     "name": "stderr",
     "output_type": "stream",
     "text": [
      "2023-12-27 13:33:49,202 ERROR [imdbpy] /Users/mac/opt/anaconda3/lib/python3.9/site-packages/imdb/__init__.py:844: unknown information set \"genres\"\n"
     ]
    },
    {
     "name": "stdout",
     "output_type": "stream",
     "text": [
      "Miami:\n",
      "Genres: ['Action', 'Crime', 'Drama', 'Mystery', 'Thriller']\n"
     ]
    },
    {
     "name": "stderr",
     "output_type": "stream",
     "text": [
      "2023-12-27 13:33:54,955 ERROR [imdbpy] /Users/mac/opt/anaconda3/lib/python3.9/site-packages/imdb/__init__.py:844: unknown information set \"genres\"\n"
     ]
    },
    {
     "name": "stdout",
     "output_type": "stream",
     "text": [
      "Avatara Purusha: Part 1:\n",
      "Genres: ['Comedy', 'Mystery']\n"
     ]
    },
    {
     "name": "stderr",
     "output_type": "stream",
     "text": [
      "2023-12-27 13:34:02,392 ERROR [imdbpy] /Users/mac/opt/anaconda3/lib/python3.9/site-packages/imdb/__init__.py:844: unknown information set \"genres\"\n"
     ]
    },
    {
     "name": "stdout",
     "output_type": "stream",
     "text": [
      "Ted K:\n",
      "Genres: ['Biography', 'Crime', 'Drama']\n"
     ]
    },
    {
     "name": "stderr",
     "output_type": "stream",
     "text": [
      "2023-12-27 13:34:09,066 ERROR [imdbpy] /Users/mac/opt/anaconda3/lib/python3.9/site-packages/imdb/__init__.py:844: unknown information set \"genres\"\n"
     ]
    },
    {
     "name": "stdout",
     "output_type": "stream",
     "text": [
      "Saani Kaayidham:\n",
      "Genres: ['Action', 'Crime', 'Drama', 'Romance']\n"
     ]
    },
    {
     "name": "stderr",
     "output_type": "stream",
     "text": [
      "2023-12-27 13:34:18,634 ERROR [imdbpy] /Users/mac/opt/anaconda3/lib/python3.9/site-packages/imdb/__init__.py:844: unknown information set \"genres\"\n"
     ]
    },
    {
     "name": "stdout",
     "output_type": "stream",
     "text": [
      "Trick:\n",
      "Genres: ['Comedy', 'Horror']\n"
     ]
    },
    {
     "name": "stderr",
     "output_type": "stream",
     "text": [
      "2023-12-27 13:34:25,692 ERROR [imdbpy] /Users/mac/opt/anaconda3/lib/python3.9/site-packages/imdb/__init__.py:844: unknown information set \"genres\"\n"
     ]
    },
    {
     "name": "stdout",
     "output_type": "stream",
     "text": [
      "Easy Does It:\n",
      "Genres: ['Adventure', 'Comedy', 'Crime']\n"
     ]
    },
    {
     "name": "stderr",
     "output_type": "stream",
     "text": [
      "2023-12-27 13:34:34,437 ERROR [imdbpy] /Users/mac/opt/anaconda3/lib/python3.9/site-packages/imdb/__init__.py:844: unknown information set \"genres\"\n"
     ]
    },
    {
     "name": "stdout",
     "output_type": "stream",
     "text": [
      "Alistair1918:\n",
      "Genres: ['Drama', 'Sci-Fi']\n"
     ]
    },
    {
     "name": "stderr",
     "output_type": "stream",
     "text": [
      "2023-12-27 13:34:39,888 ERROR [imdbpy] /Users/mac/opt/anaconda3/lib/python3.9/site-packages/imdb/__init__.py:844: unknown information set \"genres\"\n"
     ]
    },
    {
     "name": "stdout",
     "output_type": "stream",
     "text": [
      "Benedict Arnold: Hero Betrayed:\n",
      "Genres: ['Documentary', 'Drama']\n"
     ]
    },
    {
     "name": "stderr",
     "output_type": "stream",
     "text": [
      "2023-12-27 13:34:46,755 ERROR [imdbpy] /Users/mac/opt/anaconda3/lib/python3.9/site-packages/imdb/__init__.py:844: unknown information set \"genres\"\n"
     ]
    },
    {
     "name": "stdout",
     "output_type": "stream",
     "text": [
      "Shakuntala Devi:\n",
      "Genres: ['Biography', 'Drama']\n"
     ]
    },
    {
     "name": "stderr",
     "output_type": "stream",
     "text": [
      "2023-12-27 13:34:55,361 ERROR [imdbpy] /Users/mac/opt/anaconda3/lib/python3.9/site-packages/imdb/__init__.py:844: unknown information set \"genres\"\n"
     ]
    },
    {
     "name": "stdout",
     "output_type": "stream",
     "text": [
      "First Signal:\n",
      "Genres: ['Drama', 'History', 'Sci-Fi']\n"
     ]
    },
    {
     "name": "stderr",
     "output_type": "stream",
     "text": [
      "2023-12-27 13:35:02,941 ERROR [imdbpy] /Users/mac/opt/anaconda3/lib/python3.9/site-packages/imdb/__init__.py:844: unknown information set \"genres\"\n"
     ]
    },
    {
     "name": "stdout",
     "output_type": "stream",
     "text": [
      "Nanny:\n",
      "Genres: ['Comedy', 'Family', 'Romance']\n"
     ]
    },
    {
     "name": "stderr",
     "output_type": "stream",
     "text": [
      "2023-12-27 13:35:10,279 ERROR [imdbpy] /Users/mac/opt/anaconda3/lib/python3.9/site-packages/imdb/__init__.py:844: unknown information set \"genres\"\n"
     ]
    },
    {
     "name": "stdout",
     "output_type": "stream",
     "text": [
      "My Pet Dinosaur:\n",
      "Genres: ['Action', 'Adventure', 'Family']\n"
     ]
    },
    {
     "name": "stderr",
     "output_type": "stream",
     "text": [
      "2023-12-27 13:35:17,885 ERROR [imdbpy] /Users/mac/opt/anaconda3/lib/python3.9/site-packages/imdb/__init__.py:844: unknown information set \"genres\"\n"
     ]
    },
    {
     "name": "stdout",
     "output_type": "stream",
     "text": [
      "Making Monsters:\n",
      "Genres: ['Horror', 'Thriller']\n"
     ]
    },
    {
     "name": "stderr",
     "output_type": "stream",
     "text": [
      "2023-12-27 13:35:25,248 ERROR [imdbpy] /Users/mac/opt/anaconda3/lib/python3.9/site-packages/imdb/__init__.py:844: unknown information set \"genres\"\n"
     ]
    },
    {
     "name": "stdout",
     "output_type": "stream",
     "text": [
      "Coven:\n",
      "Genres: ['Drama', 'History']\n"
     ]
    },
    {
     "name": "stderr",
     "output_type": "stream",
     "text": [
      "2023-12-27 13:35:35,337 ERROR [imdbpy] /Users/mac/opt/anaconda3/lib/python3.9/site-packages/imdb/__init__.py:844: unknown information set \"genres\"\n"
     ]
    },
    {
     "name": "stdout",
     "output_type": "stream",
     "text": [
      "I Am Not a Serial Killer:\n",
      "Genres: ['Crime', 'Drama', 'Horror', 'Mystery', 'Thriller']\n"
     ]
    },
    {
     "name": "stderr",
     "output_type": "stream",
     "text": [
      "2023-12-27 13:35:54,684 ERROR [imdbpy] /Users/mac/opt/anaconda3/lib/python3.9/site-packages/imdb/__init__.py:844: unknown information set \"genres\"\n"
     ]
    },
    {
     "name": "stdout",
     "output_type": "stream",
     "text": [
      "Knuckle City:\n",
      "Genres: ['Crime']\n"
     ]
    },
    {
     "name": "stderr",
     "output_type": "stream",
     "text": [
      "2023-12-27 13:36:03,467 ERROR [imdbpy] /Users/mac/opt/anaconda3/lib/python3.9/site-packages/imdb/__init__.py:844: unknown information set \"genres\"\n"
     ]
    },
    {
     "name": "stdout",
     "output_type": "stream",
     "text": [
      "Alone:\n",
      "Genres: ['Comedy', 'Family']\n"
     ]
    },
    {
     "name": "stderr",
     "output_type": "stream",
     "text": [
      "2023-12-27 13:36:12,839 ERROR [imdbpy] /Users/mac/opt/anaconda3/lib/python3.9/site-packages/imdb/__init__.py:844: unknown information set \"genres\"\n"
     ]
    },
    {
     "name": "stdout",
     "output_type": "stream",
     "text": [
      "Concrete Blondes:\n",
      "Genres: ['Action', 'Comedy', 'Crime']\n"
     ]
    },
    {
     "name": "stderr",
     "output_type": "stream",
     "text": [
      "2023-12-27 13:36:22,902 ERROR [imdbpy] /Users/mac/opt/anaconda3/lib/python3.9/site-packages/imdb/__init__.py:844: unknown information set \"genres\"\n"
     ]
    },
    {
     "name": "stdout",
     "output_type": "stream",
     "text": [
      "#UNFIT: The Psychology of Donald Trump:\n",
      "Genres: ['Documentary', 'Biography']\n"
     ]
    },
    {
     "name": "stderr",
     "output_type": "stream",
     "text": [
      "2023-12-27 13:36:35,829 ERROR [imdbpy] /Users/mac/opt/anaconda3/lib/python3.9/site-packages/imdb/__init__.py:844: unknown information set \"genres\"\n"
     ]
    },
    {
     "name": "stdout",
     "output_type": "stream",
     "text": [
      "All'alba perderò:\n",
      "Genres: ['Comedy']\n"
     ]
    },
    {
     "name": "stderr",
     "output_type": "stream",
     "text": [
      "2023-12-27 13:36:57,663 ERROR [imdbpy] /Users/mac/opt/anaconda3/lib/python3.9/site-packages/imdb/__init__.py:844: unknown information set \"genres\"\n"
     ]
    },
    {
     "name": "stdout",
     "output_type": "stream",
     "text": [
      "Kingdom of the Dinosaurs:\n",
      "Genres: ['Adventure', 'Sci-Fi']\n"
     ]
    },
    {
     "name": "stderr",
     "output_type": "stream",
     "text": [
      "2023-12-27 13:37:12,251 ERROR [imdbpy] /Users/mac/opt/anaconda3/lib/python3.9/site-packages/imdb/__init__.py:844: unknown information set \"genres\"\n"
     ]
    },
    {
     "name": "stdout",
     "output_type": "stream",
     "text": [
      "The Death of April:\n",
      "Genres: ['Horror', 'Mystery']\n"
     ]
    },
    {
     "name": "stderr",
     "output_type": "stream",
     "text": [
      "2023-12-27 13:37:21,206 ERROR [imdbpy] /Users/mac/opt/anaconda3/lib/python3.9/site-packages/imdb/__init__.py:844: unknown information set \"genres\"\n"
     ]
    },
    {
     "name": "stdout",
     "output_type": "stream",
     "text": [
      "Devil's Island:\n",
      "Genres: ['Horror', 'Thriller']\n"
     ]
    },
    {
     "name": "stderr",
     "output_type": "stream",
     "text": [
      "2023-12-27 13:37:39,588 ERROR [imdbpy] /Users/mac/opt/anaconda3/lib/python3.9/site-packages/imdb/__init__.py:844: unknown information set \"genres\"\n"
     ]
    },
    {
     "name": "stdout",
     "output_type": "stream",
     "text": [
      "The Commuter:\n",
      "Genres: ['Action', 'Mystery', 'Thriller']\n"
     ]
    },
    {
     "name": "stderr",
     "output_type": "stream",
     "text": [
      "2023-12-27 13:37:47,510 ERROR [imdbpy] /Users/mac/opt/anaconda3/lib/python3.9/site-packages/imdb/__init__.py:844: unknown information set \"genres\"\n"
     ]
    },
    {
     "name": "stdout",
     "output_type": "stream",
     "text": [
      "The Ice Cream Truck:\n",
      "Genres: ['Comedy', 'Horror', 'Mystery', 'Thriller']\n"
     ]
    },
    {
     "name": "stderr",
     "output_type": "stream",
     "text": [
      "2023-12-27 13:37:56,522 ERROR [imdbpy] /Users/mac/opt/anaconda3/lib/python3.9/site-packages/imdb/__init__.py:844: unknown information set \"genres\"\n"
     ]
    },
    {
     "name": "stdout",
     "output_type": "stream",
     "text": [
      "Airaa:\n",
      "Genres: ['Drama', 'Horror']\n"
     ]
    },
    {
     "name": "stderr",
     "output_type": "stream",
     "text": [
      "2023-12-27 13:38:12,100 ERROR [imdbpy] /Users/mac/opt/anaconda3/lib/python3.9/site-packages/imdb/__init__.py:844: unknown information set \"genres\"\n"
     ]
    },
    {
     "name": "stdout",
     "output_type": "stream",
     "text": [
      "Love on the Sidelines:\n",
      "Genres: ['Adventure', 'Comedy', 'Drama', 'Family', 'Romance']\n"
     ]
    },
    {
     "name": "stderr",
     "output_type": "stream",
     "text": [
      "2023-12-27 13:38:23,869 ERROR [imdbpy] /Users/mac/opt/anaconda3/lib/python3.9/site-packages/imdb/__init__.py:844: unknown information set \"genres\"\n"
     ]
    },
    {
     "name": "stdout",
     "output_type": "stream",
     "text": [
      "Cowboys vs. Dinosaurs:\n",
      "Genres: ['Action', 'Adventure', 'Horror', 'Sci-Fi', 'Thriller', 'Western']\n"
     ]
    },
    {
     "name": "stderr",
     "output_type": "stream",
     "text": [
      "2023-12-27 13:38:32,862 ERROR [imdbpy] /Users/mac/opt/anaconda3/lib/python3.9/site-packages/imdb/__init__.py:844: unknown information set \"genres\"\n"
     ]
    },
    {
     "name": "stdout",
     "output_type": "stream",
     "text": [
      "A Girl Like Grace:\n",
      "Genres: ['Drama']\n"
     ]
    },
    {
     "name": "stderr",
     "output_type": "stream",
     "text": [
      "2023-12-27 13:38:39,830 ERROR [imdbpy] /Users/mac/opt/anaconda3/lib/python3.9/site-packages/imdb/__init__.py:844: unknown information set \"genres\"\n"
     ]
    },
    {
     "name": "stdout",
     "output_type": "stream",
     "text": [
      "Honsla Rakh:\n",
      "Genres: ['Comedy', 'Drama', 'Romance']\n"
     ]
    },
    {
     "name": "stderr",
     "output_type": "stream",
     "text": [
      "2023-12-27 13:38:45,995 ERROR [imdbpy] /Users/mac/opt/anaconda3/lib/python3.9/site-packages/imdb/__init__.py:844: unknown information set \"genres\"\n"
     ]
    },
    {
     "name": "stdout",
     "output_type": "stream",
     "text": [
      "RX 100:\n",
      "Genres: ['Action', 'Drama', 'Romance']\n"
     ]
    },
    {
     "name": "stderr",
     "output_type": "stream",
     "text": [
      "2023-12-27 13:38:56,167 ERROR [imdbpy] /Users/mac/opt/anaconda3/lib/python3.9/site-packages/imdb/__init__.py:844: unknown information set \"genres\"\n"
     ]
    },
    {
     "name": "stdout",
     "output_type": "stream",
     "text": [
      "Stalled:\n",
      "Genres: ['Short', 'Sci-Fi', 'Thriller']\n"
     ]
    },
    {
     "name": "stderr",
     "output_type": "stream",
     "text": [
      "2023-12-27 13:39:03,259 ERROR [imdbpy] /Users/mac/opt/anaconda3/lib/python3.9/site-packages/imdb/__init__.py:844: unknown information set \"genres\"\n"
     ]
    },
    {
     "name": "stdout",
     "output_type": "stream",
     "text": [
      "Borealis:\n",
      "Genres: ['Documentary']\n"
     ]
    },
    {
     "name": "stderr",
     "output_type": "stream",
     "text": [
      "2023-12-27 13:39:16,862 ERROR [imdbpy] /Users/mac/opt/anaconda3/lib/python3.9/site-packages/imdb/__init__.py:844: unknown information set \"genres\"\n"
     ]
    },
    {
     "name": "stdout",
     "output_type": "stream",
     "text": [
      "The Professor and the Madman:\n",
      "Genres: ['Biography', 'Drama', 'History']\n"
     ]
    },
    {
     "name": "stderr",
     "output_type": "stream",
     "text": [
      "2023-12-27 13:39:28,651 ERROR [imdbpy] /Users/mac/opt/anaconda3/lib/python3.9/site-packages/imdb/__init__.py:844: unknown information set \"genres\"\n"
     ]
    },
    {
     "name": "stdout",
     "output_type": "stream",
     "text": [
      "Mistaken:\n",
      "Genres: ['Crime', 'Drama', 'Mystery', 'Thriller']\n"
     ]
    },
    {
     "name": "stderr",
     "output_type": "stream",
     "text": [
      "2023-12-27 13:39:39,870 ERROR [imdbpy] /Users/mac/opt/anaconda3/lib/python3.9/site-packages/imdb/__init__.py:844: unknown information set \"genres\"\n"
     ]
    },
    {
     "name": "stdout",
     "output_type": "stream",
     "text": [
      "Pranaam:\n",
      "Genres: ['Action', 'Crime', 'Drama', 'Thriller']\n"
     ]
    },
    {
     "name": "stderr",
     "output_type": "stream",
     "text": [
      "2023-12-27 13:39:47,502 ERROR [imdbpy] /Users/mac/opt/anaconda3/lib/python3.9/site-packages/imdb/__init__.py:844: unknown information set \"genres\"\n"
     ]
    },
    {
     "name": "stdout",
     "output_type": "stream",
     "text": [
      "Meet Cute:\n",
      "Genres: ['Comedy', 'Drama', 'Fantasy', 'Romance', 'Sci-Fi']\n"
     ]
    },
    {
     "name": "stderr",
     "output_type": "stream",
     "text": [
      "2023-12-27 13:39:56,006 ERROR [imdbpy] /Users/mac/opt/anaconda3/lib/python3.9/site-packages/imdb/__init__.py:844: unknown information set \"genres\"\n"
     ]
    },
    {
     "name": "stdout",
     "output_type": "stream",
     "text": [
      "You're Killing Me:\n",
      "Genres: ['Action', 'Horror', 'Mystery', 'Thriller']\n"
     ]
    },
    {
     "name": "stderr",
     "output_type": "stream",
     "text": [
      "2023-12-27 13:40:03,982 ERROR [imdbpy] /Users/mac/opt/anaconda3/lib/python3.9/site-packages/imdb/__init__.py:844: unknown information set \"genres\"\n"
     ]
    },
    {
     "name": "stdout",
     "output_type": "stream",
     "text": [
      "Gwen:\n",
      "Genres: ['Drama', 'History', 'Horror', 'Mystery']\n"
     ]
    },
    {
     "name": "stderr",
     "output_type": "stream",
     "text": [
      "2023-12-27 13:40:30,575 ERROR [imdbpy] /Users/mac/opt/anaconda3/lib/python3.9/site-packages/imdb/__init__.py:844: unknown information set \"genres\"\n"
     ]
    },
    {
     "name": "stdout",
     "output_type": "stream",
     "text": [
      "All This Mayhem:\n",
      "Genres: ['Documentary', 'Biography', 'History', 'Sport']\n"
     ]
    },
    {
     "name": "stderr",
     "output_type": "stream",
     "text": [
      "2023-12-27 13:40:44,949 ERROR [imdbpy] /Users/mac/opt/anaconda3/lib/python3.9/site-packages/imdb/__init__.py:844: unknown information set \"genres\"\n"
     ]
    },
    {
     "name": "stdout",
     "output_type": "stream",
     "text": [
      "Savaged:\n",
      "Genres: ['Action', 'Fantasy', 'Horror', 'Thriller']\n"
     ]
    },
    {
     "name": "stderr",
     "output_type": "stream",
     "text": [
      "2023-12-27 13:41:09,094 ERROR [imdbpy] /Users/mac/opt/anaconda3/lib/python3.9/site-packages/imdb/__init__.py:844: unknown information set \"genres\"\n"
     ]
    },
    {
     "name": "stdout",
     "output_type": "stream",
     "text": [
      "Noah:\n",
      "Genres: ['Action', 'Adventure', 'Drama']\n"
     ]
    },
    {
     "name": "stderr",
     "output_type": "stream",
     "text": [
      "2023-12-27 13:41:19,354 ERROR [imdbpy] /Users/mac/opt/anaconda3/lib/python3.9/site-packages/imdb/__init__.py:844: unknown information set \"genres\"\n"
     ]
    },
    {
     "name": "stdout",
     "output_type": "stream",
     "text": [
      "The Purge: Anarchy:\n",
      "Genres: ['Action', 'Horror', 'Sci-Fi', 'Thriller']\n"
     ]
    },
    {
     "name": "stderr",
     "output_type": "stream",
     "text": [
      "2023-12-27 13:41:30,451 ERROR [imdbpy] /Users/mac/opt/anaconda3/lib/python3.9/site-packages/imdb/__init__.py:844: unknown information set \"genres\"\n"
     ]
    },
    {
     "name": "stdout",
     "output_type": "stream",
     "text": [
      "Mind Games:\n",
      "Genres: ['Drama']\n"
     ]
    },
    {
     "name": "stderr",
     "output_type": "stream",
     "text": [
      "2023-12-27 13:41:40,303 ERROR [imdbpy] /Users/mac/opt/anaconda3/lib/python3.9/site-packages/imdb/__init__.py:844: unknown information set \"genres\"\n"
     ]
    },
    {
     "name": "stdout",
     "output_type": "stream",
     "text": [
      "Naane Varuvean:\n",
      "Genres: ['Action', 'Horror', 'Thriller']\n"
     ]
    },
    {
     "name": "stderr",
     "output_type": "stream",
     "text": [
      "2023-12-27 13:41:53,340 ERROR [imdbpy] /Users/mac/opt/anaconda3/lib/python3.9/site-packages/imdb/__init__.py:844: unknown information set \"genres\"\n"
     ]
    },
    {
     "name": "stdout",
     "output_type": "stream",
     "text": [
      "Souvenir:\n",
      "Genres: ['Drama', 'Romance']\n"
     ]
    },
    {
     "name": "stderr",
     "output_type": "stream",
     "text": [
      "2023-12-27 13:42:15,428 ERROR [imdbpy] /Users/mac/opt/anaconda3/lib/python3.9/site-packages/imdb/__init__.py:844: unknown information set \"genres\"\n"
     ]
    },
    {
     "name": "stdout",
     "output_type": "stream",
     "text": [
      "Wish You Well:\n",
      "Genres: ['Drama', 'Family']\n"
     ]
    },
    {
     "name": "stderr",
     "output_type": "stream",
     "text": [
      "2023-12-27 13:42:25,598 ERROR [imdbpy] /Users/mac/opt/anaconda3/lib/python3.9/site-packages/imdb/__init__.py:844: unknown information set \"genres\"\n"
     ]
    },
    {
     "name": "stdout",
     "output_type": "stream",
     "text": [
      "Encounter:\n",
      "Genres: ['Drama', 'Sci-Fi', 'Thriller']\n"
     ]
    },
    {
     "name": "stderr",
     "output_type": "stream",
     "text": [
      "2023-12-27 13:42:36,786 ERROR [imdbpy] /Users/mac/opt/anaconda3/lib/python3.9/site-packages/imdb/__init__.py:844: unknown information set \"genres\"\n"
     ]
    },
    {
     "name": "stdout",
     "output_type": "stream",
     "text": [
      "Crone Wood:\n",
      "Genres: ['Horror', 'Thriller']\n"
     ]
    },
    {
     "name": "stderr",
     "output_type": "stream",
     "text": [
      "2023-12-27 13:42:47,523 ERROR [imdbpy] /Users/mac/opt/anaconda3/lib/python3.9/site-packages/imdb/__init__.py:844: unknown information set \"genres\"\n"
     ]
    },
    {
     "name": "stdout",
     "output_type": "stream",
     "text": [
      "Jekyll and Hyde:\n",
      "Genres: ['Action', 'Adventure', 'Drama', 'Fantasy']\n"
     ]
    },
    {
     "name": "stderr",
     "output_type": "stream",
     "text": [
      "2023-12-27 13:42:58,079 ERROR [imdbpy] /Users/mac/opt/anaconda3/lib/python3.9/site-packages/imdb/__init__.py:844: unknown information set \"genres\"\n"
     ]
    },
    {
     "name": "stdout",
     "output_type": "stream",
     "text": [
      "Open Windows:\n",
      "Genres: ['Crime', 'Mystery', 'Thriller']\n"
     ]
    },
    {
     "name": "stderr",
     "output_type": "stream",
     "text": [
      "2023-12-27 13:43:07,712 ERROR [imdbpy] /Users/mac/opt/anaconda3/lib/python3.9/site-packages/imdb/__init__.py:844: unknown information set \"genres\"\n"
     ]
    },
    {
     "name": "stdout",
     "output_type": "stream",
     "text": [
      "Samba:\n",
      "Genres: ['Comedy', 'Drama', 'Romance']\n"
     ]
    },
    {
     "name": "stderr",
     "output_type": "stream",
     "text": [
      "2023-12-27 13:43:19,271 ERROR [imdbpy] /Users/mac/opt/anaconda3/lib/python3.9/site-packages/imdb/__init__.py:844: unknown information set \"genres\"\n"
     ]
    },
    {
     "name": "stdout",
     "output_type": "stream",
     "text": [
      "And They Say I Am the Crazy One:\n",
      "Genres: ['Comedy', 'Drama']\n"
     ]
    },
    {
     "name": "stderr",
     "output_type": "stream",
     "text": [
      "2023-12-27 13:43:26,915 ERROR [imdbpy] /Users/mac/opt/anaconda3/lib/python3.9/site-packages/imdb/__init__.py:844: unknown information set \"genres\"\n"
     ]
    },
    {
     "name": "stdout",
     "output_type": "stream",
     "text": [
      "Head Count:\n",
      "Genres: ['Thriller']\n"
     ]
    },
    {
     "name": "stderr",
     "output_type": "stream",
     "text": [
      "2023-12-27 13:43:37,619 ERROR [imdbpy] /Users/mac/opt/anaconda3/lib/python3.9/site-packages/imdb/__init__.py:844: unknown information set \"genres\"\n"
     ]
    },
    {
     "name": "stdout",
     "output_type": "stream",
     "text": [
      "Kaappaan:\n",
      "Genres: ['Action', 'Thriller']\n"
     ]
    },
    {
     "name": "stderr",
     "output_type": "stream",
     "text": [
      "2023-12-27 13:43:47,489 ERROR [imdbpy] /Users/mac/opt/anaconda3/lib/python3.9/site-packages/imdb/__init__.py:844: unknown information set \"genres\"\n"
     ]
    },
    {
     "name": "stdout",
     "output_type": "stream",
     "text": [
      "The House of Violent Desire:\n",
      "Genres: ['Horror', 'Mystery', 'Thriller']\n"
     ]
    },
    {
     "name": "stderr",
     "output_type": "stream",
     "text": [
      "2023-12-27 13:43:59,621 ERROR [imdbpy] /Users/mac/opt/anaconda3/lib/python3.9/site-packages/imdb/__init__.py:844: unknown information set \"genres\"\n"
     ]
    },
    {
     "name": "stdout",
     "output_type": "stream",
     "text": [
      "Drishyam 2:\n",
      "Genres: ['Crime', 'Drama', 'Mystery', 'Thriller']\n"
     ]
    },
    {
     "name": "stderr",
     "output_type": "stream",
     "text": [
      "2023-12-27 13:44:06,260 ERROR [imdbpy] /Users/mac/opt/anaconda3/lib/python3.9/site-packages/imdb/__init__.py:844: unknown information set \"genres\"\n"
     ]
    },
    {
     "name": "stdout",
     "output_type": "stream",
     "text": [
      "Mustang Saviors:\n",
      "Genres: ['Documentary']\n"
     ]
    },
    {
     "name": "stderr",
     "output_type": "stream",
     "text": [
      "2023-12-27 13:44:18,234 ERROR [imdbpy] /Users/mac/opt/anaconda3/lib/python3.9/site-packages/imdb/__init__.py:844: unknown information set \"genres\"\n"
     ]
    },
    {
     "name": "stdout",
     "output_type": "stream",
     "text": [
      "Frances Ferguson:\n",
      "Genres: ['Comedy']\n"
     ]
    },
    {
     "name": "stderr",
     "output_type": "stream",
     "text": [
      "2023-12-27 13:44:25,338 ERROR [imdbpy] /Users/mac/opt/anaconda3/lib/python3.9/site-packages/imdb/__init__.py:844: unknown information set \"genres\"\n"
     ]
    },
    {
     "name": "stdout",
     "output_type": "stream",
     "text": [
      "Arsène Wenger: Invincible:\n",
      "Genres: ['Documentary', 'Sport']\n"
     ]
    },
    {
     "name": "stderr",
     "output_type": "stream",
     "text": [
      "2023-12-27 13:44:36,857 ERROR [imdbpy] /Users/mac/opt/anaconda3/lib/python3.9/site-packages/imdb/__init__.py:844: unknown information set \"genres\"\n"
     ]
    },
    {
     "name": "stdout",
     "output_type": "stream",
     "text": [
      "Walking Out:\n",
      "Genres: ['Adventure', 'Drama', 'Mystery', 'Thriller']\n"
     ]
    },
    {
     "name": "stderr",
     "output_type": "stream",
     "text": [
      "2023-12-27 13:44:46,924 ERROR [imdbpy] /Users/mac/opt/anaconda3/lib/python3.9/site-packages/imdb/__init__.py:844: unknown information set \"genres\"\n"
     ]
    },
    {
     "name": "stdout",
     "output_type": "stream",
     "text": [
      "Evil Takes Root:\n",
      "Genres: ['Horror', 'Thriller']\n"
     ]
    },
    {
     "name": "stderr",
     "output_type": "stream",
     "text": [
      "2023-12-27 13:44:55,884 ERROR [imdbpy] /Users/mac/opt/anaconda3/lib/python3.9/site-packages/imdb/__init__.py:844: unknown information set \"genres\"\n"
     ]
    },
    {
     "name": "stdout",
     "output_type": "stream",
     "text": [
      "Lullaby:\n",
      "Genres: ['Horror']\n"
     ]
    },
    {
     "name": "stderr",
     "output_type": "stream",
     "text": [
      "2023-12-27 13:45:04,473 ERROR [imdbpy] /Users/mac/opt/anaconda3/lib/python3.9/site-packages/imdb/__init__.py:844: unknown information set \"genres\"\n"
     ]
    },
    {
     "name": "stdout",
     "output_type": "stream",
     "text": [
      "Aurora:\n",
      "Genres: ['Crime', 'Mystery']\n"
     ]
    },
    {
     "name": "stderr",
     "output_type": "stream",
     "text": [
      "2023-12-27 13:45:10,512 ERROR [imdbpy] /Users/mac/opt/anaconda3/lib/python3.9/site-packages/imdb/__init__.py:844: unknown information set \"genres\"\n"
     ]
    },
    {
     "name": "stdout",
     "output_type": "stream",
     "text": [
      "Untamed Romania:\n",
      "Genres: ['Documentary']\n"
     ]
    },
    {
     "name": "stderr",
     "output_type": "stream",
     "text": [
      "2023-12-27 13:45:23,016 ERROR [imdbpy] /Users/mac/opt/anaconda3/lib/python3.9/site-packages/imdb/__init__.py:844: unknown information set \"genres\"\n"
     ]
    },
    {
     "name": "stdout",
     "output_type": "stream",
     "text": [
      "Triple Seat:\n",
      "Genres: ['Family', 'Romance']\n"
     ]
    },
    {
     "name": "stderr",
     "output_type": "stream",
     "text": [
      "2023-12-27 13:45:33,929 ERROR [imdbpy] /Users/mac/opt/anaconda3/lib/python3.9/site-packages/imdb/__init__.py:844: unknown information set \"genres\"\n"
     ]
    },
    {
     "name": "stdout",
     "output_type": "stream",
     "text": [
      "Time:\n",
      "Genres: ['Crime', 'Drama']\n"
     ]
    },
    {
     "name": "stderr",
     "output_type": "stream",
     "text": [
      "2023-12-27 13:45:50,371 ERROR [imdbpy] /Users/mac/opt/anaconda3/lib/python3.9/site-packages/imdb/__init__.py:844: unknown information set \"genres\"\n"
     ]
    },
    {
     "name": "stdout",
     "output_type": "stream",
     "text": [
      "The Curse of Professor Zardonicus:\n",
      "Genres: ['Comedy', 'Drama', 'Thriller']\n"
     ]
    },
    {
     "name": "stderr",
     "output_type": "stream",
     "text": [
      "2023-12-27 13:46:11,851 ERROR [imdbpy] /Users/mac/opt/anaconda3/lib/python3.9/site-packages/imdb/__init__.py:844: unknown information set \"genres\"\n"
     ]
    },
    {
     "name": "stdout",
     "output_type": "stream",
     "text": [
      "A Reckoning:\n",
      "Genres: ['Action', 'Adventure', 'Thriller']\n"
     ]
    },
    {
     "name": "stderr",
     "output_type": "stream",
     "text": [
      "2023-12-27 13:46:24,972 ERROR [imdbpy] /Users/mac/opt/anaconda3/lib/python3.9/site-packages/imdb/__init__.py:844: unknown information set \"genres\"\n"
     ]
    },
    {
     "name": "stdout",
     "output_type": "stream",
     "text": [
      "Bone Tomahawk:\n",
      "Genres: ['Drama', 'Horror', 'Western']\n"
     ]
    },
    {
     "name": "stderr",
     "output_type": "stream",
     "text": [
      "2023-12-27 13:46:42,436 ERROR [imdbpy] /Users/mac/opt/anaconda3/lib/python3.9/site-packages/imdb/__init__.py:844: unknown information set \"genres\"\n"
     ]
    },
    {
     "name": "stdout",
     "output_type": "stream",
     "text": [
      "Redemption:\n",
      "Genres: ['Drama']\n"
     ]
    },
    {
     "name": "stderr",
     "output_type": "stream",
     "text": [
      "2023-12-27 13:46:50,262 ERROR [imdbpy] /Users/mac/opt/anaconda3/lib/python3.9/site-packages/imdb/__init__.py:844: unknown information set \"genres\"\n"
     ]
    },
    {
     "name": "stdout",
     "output_type": "stream",
     "text": [
      "Corrective Measures:\n",
      "Genres: ['Action', 'Sci-Fi']\n"
     ]
    },
    {
     "name": "stderr",
     "output_type": "stream",
     "text": [
      "2023-12-27 13:46:58,950 ERROR [imdbpy] /Users/mac/opt/anaconda3/lib/python3.9/site-packages/imdb/__init__.py:844: unknown information set \"genres\"\n"
     ]
    },
    {
     "name": "stdout",
     "output_type": "stream",
     "text": [
      "Royal Jelly:\n",
      "Genres: ['Horror', 'Thriller']\n"
     ]
    },
    {
     "name": "stderr",
     "output_type": "stream",
     "text": [
      "2023-12-27 13:47:07,424 ERROR [imdbpy] /Users/mac/opt/anaconda3/lib/python3.9/site-packages/imdb/__init__.py:844: unknown information set \"genres\"\n"
     ]
    },
    {
     "name": "stdout",
     "output_type": "stream",
     "text": [
      "The Manor:\n",
      "Genres: ['Drama', 'Horror', 'Mystery', 'Thriller']\n"
     ]
    },
    {
     "name": "stderr",
     "output_type": "stream",
     "text": [
      "2023-12-27 13:47:15,291 ERROR [imdbpy] /Users/mac/opt/anaconda3/lib/python3.9/site-packages/imdb/__init__.py:844: unknown information set \"genres\"\n"
     ]
    },
    {
     "name": "stdout",
     "output_type": "stream",
     "text": [
      "Rammstein: Paris:\n",
      "Genres: ['Music']\n"
     ]
    },
    {
     "name": "stderr",
     "output_type": "stream",
     "text": [
      "2023-12-27 13:47:27,863 ERROR [imdbpy] /Users/mac/opt/anaconda3/lib/python3.9/site-packages/imdb/__init__.py:844: unknown information set \"genres\"\n"
     ]
    },
    {
     "name": "stdout",
     "output_type": "stream",
     "text": [
      "Conjoined:\n",
      "Genres: ['Horror']\n"
     ]
    },
    {
     "name": "stderr",
     "output_type": "stream",
     "text": [
      "2023-12-27 13:47:39,301 ERROR [imdbpy] /Users/mac/opt/anaconda3/lib/python3.9/site-packages/imdb/__init__.py:844: unknown information set \"genres\"\n"
     ]
    },
    {
     "name": "stdout",
     "output_type": "stream",
     "text": [
      "Goblin:\n",
      "Genres: ['Animation', 'Action', 'Adventure', 'Fantasy', 'Horror']\n"
     ]
    },
    {
     "name": "stderr",
     "output_type": "stream",
     "text": [
      "2023-12-27 13:48:00,290 ERROR [imdbpy] /Users/mac/opt/anaconda3/lib/python3.9/site-packages/imdb/__init__.py:844: unknown information set \"genres\"\n"
     ]
    },
    {
     "name": "stdout",
     "output_type": "stream",
     "text": [
      "From Us to Me:\n",
      "Genres: ['Documentary']\n"
     ]
    },
    {
     "name": "stderr",
     "output_type": "stream",
     "text": [
      "2023-12-27 13:48:25,802 ERROR [imdbpy] /Users/mac/opt/anaconda3/lib/python3.9/site-packages/imdb/__init__.py:844: unknown information set \"genres\"\n"
     ]
    },
    {
     "name": "stdout",
     "output_type": "stream",
     "text": [
      "Gold Statue:\n",
      "Genres: ['Adventure', 'Comedy', 'Drama']\n"
     ]
    },
    {
     "name": "stderr",
     "output_type": "stream",
     "text": [
      "2023-12-27 13:48:54,840 ERROR [imdbpy] /Users/mac/opt/anaconda3/lib/python3.9/site-packages/imdb/__init__.py:844: unknown information set \"genres\"\n"
     ]
    },
    {
     "name": "stdout",
     "output_type": "stream",
     "text": [
      "Everyone's Going to Die:\n",
      "Genres: ['Drama']\n"
     ]
    },
    {
     "name": "stderr",
     "output_type": "stream",
     "text": [
      "2023-12-27 13:49:18,944 ERROR [imdbpy] /Users/mac/opt/anaconda3/lib/python3.9/site-packages/imdb/__init__.py:844: unknown information set \"genres\"\n"
     ]
    },
    {
     "name": "stdout",
     "output_type": "stream",
     "text": [
      "Project Gutenberg:\n",
      "Genres: ['Action', 'Crime', 'Mystery', 'Thriller']\n"
     ]
    },
    {
     "name": "stderr",
     "output_type": "stream",
     "text": [
      "2023-12-27 13:49:40,115 ERROR [imdbpy] /Users/mac/opt/anaconda3/lib/python3.9/site-packages/imdb/__init__.py:844: unknown information set \"genres\"\n"
     ]
    },
    {
     "name": "stdout",
     "output_type": "stream",
     "text": [
      "Blackwater:\n",
      "Genres: ['Crime', 'Drama', 'Mystery']\n"
     ]
    },
    {
     "name": "stderr",
     "output_type": "stream",
     "text": [
      "2023-12-27 13:49:59,737 ERROR [imdbpy] /Users/mac/opt/anaconda3/lib/python3.9/site-packages/imdb/__init__.py:844: unknown information set \"genres\"\n"
     ]
    },
    {
     "name": "stdout",
     "output_type": "stream",
     "text": [
      "Teenage Ghost Punk:\n",
      "Genres: ['Comedy', 'Family', 'Music']\n"
     ]
    },
    {
     "name": "stderr",
     "output_type": "stream",
     "text": [
      "2023-12-27 13:50:10,201 ERROR [imdbpy] /Users/mac/opt/anaconda3/lib/python3.9/site-packages/imdb/__init__.py:844: unknown information set \"genres\"\n"
     ]
    },
    {
     "name": "stdout",
     "output_type": "stream",
     "text": [
      "The Brawler:\n",
      "Genres: ['Action', 'Drama', 'Sport']\n"
     ]
    },
    {
     "name": "stderr",
     "output_type": "stream",
     "text": [
      "2023-12-27 13:50:18,738 ERROR [imdbpy] /Users/mac/opt/anaconda3/lib/python3.9/site-packages/imdb/__init__.py:844: unknown information set \"genres\"\n"
     ]
    },
    {
     "name": "stdout",
     "output_type": "stream",
     "text": [
      "The Pagan King:\n",
      "Genres: ['Action', 'Drama', 'History', 'War']\n"
     ]
    },
    {
     "name": "stderr",
     "output_type": "stream",
     "text": [
      "2023-12-27 13:50:29,487 ERROR [imdbpy] /Users/mac/opt/anaconda3/lib/python3.9/site-packages/imdb/__init__.py:844: unknown information set \"genres\"\n"
     ]
    },
    {
     "name": "stdout",
     "output_type": "stream",
     "text": [
      "Legendary: Tomb of the Dragon:\n",
      "Genres: ['Action', 'Adventure', 'Drama', 'Fantasy', 'Romance']\n"
     ]
    },
    {
     "name": "stderr",
     "output_type": "stream",
     "text": [
      "2023-12-27 13:50:36,444 ERROR [imdbpy] /Users/mac/opt/anaconda3/lib/python3.9/site-packages/imdb/__init__.py:844: unknown information set \"genres\"\n"
     ]
    },
    {
     "name": "stdout",
     "output_type": "stream",
     "text": [
      "I'm Dreaming of a White Doomsday:\n",
      "Genres: ['Drama', 'Horror', 'Mystery']\n"
     ]
    },
    {
     "name": "stderr",
     "output_type": "stream",
     "text": [
      "2023-12-27 13:50:42,967 ERROR [imdbpy] /Users/mac/opt/anaconda3/lib/python3.9/site-packages/imdb/__init__.py:844: unknown information set \"genres\"\n"
     ]
    },
    {
     "name": "stdout",
     "output_type": "stream",
     "text": [
      "Malik:\n",
      "Genres: ['Action', 'Biography', 'Crime', 'Drama', 'Thriller']\n"
     ]
    },
    {
     "name": "stderr",
     "output_type": "stream",
     "text": [
      "2023-12-27 13:50:50,609 ERROR [imdbpy] /Users/mac/opt/anaconda3/lib/python3.9/site-packages/imdb/__init__.py:844: unknown information set \"genres\"\n"
     ]
    },
    {
     "name": "stdout",
     "output_type": "stream",
     "text": [
      "Elizabeth: A Portrait in Part(s):\n",
      "Genres: ['Documentary']\n"
     ]
    },
    {
     "name": "stderr",
     "output_type": "stream",
     "text": [
      "2023-12-27 13:50:58,658 ERROR [imdbpy] /Users/mac/opt/anaconda3/lib/python3.9/site-packages/imdb/__init__.py:844: unknown information set \"genres\"\n"
     ]
    },
    {
     "name": "stdout",
     "output_type": "stream",
     "text": [
      "The Tent:\n",
      "Genres: ['Drama', 'Thriller']\n"
     ]
    },
    {
     "name": "stderr",
     "output_type": "stream",
     "text": [
      "2023-12-27 13:51:05,587 ERROR [imdbpy] /Users/mac/opt/anaconda3/lib/python3.9/site-packages/imdb/__init__.py:844: unknown information set \"genres\"\n"
     ]
    },
    {
     "name": "stdout",
     "output_type": "stream",
     "text": [
      "The Architect:\n",
      "Genres: ['Comedy']\n"
     ]
    },
    {
     "name": "stderr",
     "output_type": "stream",
     "text": [
      "2023-12-27 13:51:18,271 ERROR [imdbpy] /Users/mac/opt/anaconda3/lib/python3.9/site-packages/imdb/__init__.py:844: unknown information set \"genres\"\n"
     ]
    },
    {
     "name": "stdout",
     "output_type": "stream",
     "text": [
      "The Wicked:\n",
      "Genres: ['Horror']\n"
     ]
    },
    {
     "name": "stderr",
     "output_type": "stream",
     "text": [
      "2023-12-27 13:51:25,866 ERROR [imdbpy] /Users/mac/opt/anaconda3/lib/python3.9/site-packages/imdb/__init__.py:844: unknown information set \"genres\"\n"
     ]
    },
    {
     "name": "stdout",
     "output_type": "stream",
     "text": [
      "America's Forgotten:\n",
      "Genres: ['Documentary']\n"
     ]
    },
    {
     "name": "stderr",
     "output_type": "stream",
     "text": [
      "2023-12-27 13:51:36,007 ERROR [imdbpy] /Users/mac/opt/anaconda3/lib/python3.9/site-packages/imdb/__init__.py:844: unknown information set \"genres\"\n"
     ]
    },
    {
     "name": "stdout",
     "output_type": "stream",
     "text": [
      "Clownado:\n",
      "Genres: ['Comedy', 'Horror']\n"
     ]
    },
    {
     "name": "stderr",
     "output_type": "stream",
     "text": [
      "2023-12-27 13:51:45,211 ERROR [imdbpy] /Users/mac/opt/anaconda3/lib/python3.9/site-packages/imdb/__init__.py:844: unknown information set \"genres\"\n"
     ]
    },
    {
     "name": "stdout",
     "output_type": "stream",
     "text": [
      "After the Pandemic:\n",
      "Genres: ['Sci-Fi']\n"
     ]
    },
    {
     "name": "stderr",
     "output_type": "stream",
     "text": [
      "2023-12-27 13:51:56,380 ERROR [imdbpy] /Users/mac/opt/anaconda3/lib/python3.9/site-packages/imdb/__init__.py:844: unknown information set \"genres\"\n"
     ]
    },
    {
     "name": "stdout",
     "output_type": "stream",
     "text": [
      "Infinity Chamber:\n",
      "Genres: ['Sci-Fi', 'Thriller']\n"
     ]
    },
    {
     "name": "stderr",
     "output_type": "stream",
     "text": [
      "2023-12-27 13:52:08,932 ERROR [imdbpy] /Users/mac/opt/anaconda3/lib/python3.9/site-packages/imdb/__init__.py:844: unknown information set \"genres\"\n"
     ]
    },
    {
     "name": "stdout",
     "output_type": "stream",
     "text": [
      "Bigfoot Wars:\n",
      "Genres: ['Sci-Fi']\n"
     ]
    },
    {
     "name": "stderr",
     "output_type": "stream",
     "text": [
      "2023-12-27 13:52:16,392 ERROR [imdbpy] /Users/mac/opt/anaconda3/lib/python3.9/site-packages/imdb/__init__.py:844: unknown information set \"genres\"\n"
     ]
    },
    {
     "name": "stdout",
     "output_type": "stream",
     "text": [
      "Sarileru Neekevvaru:\n",
      "Genres: ['Action', 'Comedy', 'Drama']\n"
     ]
    },
    {
     "name": "stderr",
     "output_type": "stream",
     "text": [
      "2023-12-27 13:52:25,387 ERROR [imdbpy] /Users/mac/opt/anaconda3/lib/python3.9/site-packages/imdb/__init__.py:844: unknown information set \"genres\"\n"
     ]
    },
    {
     "name": "stdout",
     "output_type": "stream",
     "text": [
      "The Lotus:\n",
      "Genres: ['Comedy', 'Drama']\n"
     ]
    },
    {
     "name": "stderr",
     "output_type": "stream",
     "text": [
      "2023-12-27 13:52:32,645 ERROR [imdbpy] /Users/mac/opt/anaconda3/lib/python3.9/site-packages/imdb/__init__.py:844: unknown information set \"genres\"\n"
     ]
    },
    {
     "name": "stdout",
     "output_type": "stream",
     "text": [
      "Ouija Hosts:\n",
      "Genres: ['Horror']\n"
     ]
    },
    {
     "name": "stderr",
     "output_type": "stream",
     "text": [
      "2023-12-27 13:52:44,984 ERROR [imdbpy] /Users/mac/opt/anaconda3/lib/python3.9/site-packages/imdb/__init__.py:844: unknown information set \"genres\"\n"
     ]
    },
    {
     "name": "stdout",
     "output_type": "stream",
     "text": [
      "The Passion of Augustine:\n",
      "Genres: ['Drama']\n"
     ]
    },
    {
     "name": "stderr",
     "output_type": "stream",
     "text": [
      "2023-12-27 13:52:54,608 ERROR [imdbpy] /Users/mac/opt/anaconda3/lib/python3.9/site-packages/imdb/__init__.py:844: unknown information set \"genres\"\n"
     ]
    },
    {
     "name": "stdout",
     "output_type": "stream",
     "text": [
      "Remnants of a Disaster:\n",
      "Genres: ['Fantasy', 'Sci-Fi']\n"
     ]
    },
    {
     "name": "stderr",
     "output_type": "stream",
     "text": [
      "2023-12-27 13:53:04,736 ERROR [imdbpy] /Users/mac/opt/anaconda3/lib/python3.9/site-packages/imdb/__init__.py:844: unknown information set \"genres\"\n"
     ]
    },
    {
     "name": "stdout",
     "output_type": "stream",
     "text": [
      "Yaanaa:\n",
      "Genres: ['Drama']\n"
     ]
    },
    {
     "name": "stderr",
     "output_type": "stream",
     "text": [
      "2023-12-27 13:53:12,358 ERROR [imdbpy] /Users/mac/opt/anaconda3/lib/python3.9/site-packages/imdb/__init__.py:844: unknown information set \"genres\"\n"
     ]
    },
    {
     "name": "stdout",
     "output_type": "stream",
     "text": [
      "Killers Anonymous:\n",
      "Genres: ['Action', 'Crime', 'Mystery', 'Thriller']\n"
     ]
    },
    {
     "name": "stderr",
     "output_type": "stream",
     "text": [
      "2023-12-27 13:53:24,563 ERROR [imdbpy] /Users/mac/opt/anaconda3/lib/python3.9/site-packages/imdb/__init__.py:844: unknown information set \"genres\"\n"
     ]
    },
    {
     "name": "stdout",
     "output_type": "stream",
     "text": [
      "The Legend of the Christmas Witch:\n",
      "Genres: ['Adventure', 'Comedy', 'Family', 'Fantasy']\n"
     ]
    },
    {
     "name": "stderr",
     "output_type": "stream",
     "text": [
      "2023-12-27 13:53:33,880 ERROR [imdbpy] /Users/mac/opt/anaconda3/lib/python3.9/site-packages/imdb/__init__.py:844: unknown information set \"genres\"\n"
     ]
    },
    {
     "name": "stdout",
     "output_type": "stream",
     "text": [
      "Laal Rang:\n",
      "Genres: ['Comedy', 'Crime', 'Drama', 'Thriller']\n"
     ]
    },
    {
     "name": "stderr",
     "output_type": "stream",
     "text": [
      "2023-12-27 13:53:45,079 ERROR [imdbpy] /Users/mac/opt/anaconda3/lib/python3.9/site-packages/imdb/__init__.py:844: unknown information set \"genres\"\n"
     ]
    },
    {
     "name": "stdout",
     "output_type": "stream",
     "text": [
      "The Boy from Medellín:\n",
      "Genres: ['Documentary', 'Biography', 'Music']\n"
     ]
    },
    {
     "name": "stderr",
     "output_type": "stream",
     "text": [
      "2023-12-27 13:53:52,280 ERROR [imdbpy] /Users/mac/opt/anaconda3/lib/python3.9/site-packages/imdb/__init__.py:844: unknown information set \"genres\"\n"
     ]
    },
    {
     "name": "stdout",
     "output_type": "stream",
     "text": [
      "All This Panic:\n",
      "Genres: ['Documentary']\n"
     ]
    },
    {
     "name": "stderr",
     "output_type": "stream",
     "text": [
      "2023-12-27 13:54:03,840 ERROR [imdbpy] /Users/mac/opt/anaconda3/lib/python3.9/site-packages/imdb/__init__.py:844: unknown information set \"genres\"\n"
     ]
    },
    {
     "name": "stdout",
     "output_type": "stream",
     "text": [
      "CBGB:\n",
      "Genres: ['Crime', 'Drama', 'Music', 'Romance']\n"
     ]
    },
    {
     "name": "stderr",
     "output_type": "stream",
     "text": [
      "2023-12-27 13:54:16,181 ERROR [imdbpy] /Users/mac/opt/anaconda3/lib/python3.9/site-packages/imdb/__init__.py:844: unknown information set \"genres\"\n"
     ]
    },
    {
     "name": "stdout",
     "output_type": "stream",
     "text": [
      "Go North:\n",
      "Genres: ['Adventure', 'Drama', 'Romance', 'Thriller']\n"
     ]
    },
    {
     "name": "stderr",
     "output_type": "stream",
     "text": [
      "2023-12-27 13:54:28,402 ERROR [imdbpy] /Users/mac/opt/anaconda3/lib/python3.9/site-packages/imdb/__init__.py:844: unknown information set \"genres\"\n"
     ]
    },
    {
     "name": "stdout",
     "output_type": "stream",
     "text": [
      "Suburra:\n",
      "Genres: ['Action', 'Crime', 'Drama', 'Romance', 'Thriller']\n"
     ]
    },
    {
     "name": "stderr",
     "output_type": "stream",
     "text": [
      "2023-12-27 13:54:38,590 ERROR [imdbpy] /Users/mac/opt/anaconda3/lib/python3.9/site-packages/imdb/__init__.py:844: unknown information set \"genres\"\n"
     ]
    },
    {
     "name": "stdout",
     "output_type": "stream",
     "text": [
      "Honey Boy:\n",
      "Genres: ['Drama']\n"
     ]
    },
    {
     "name": "stderr",
     "output_type": "stream",
     "text": [
      "2023-12-27 13:54:46,146 ERROR [imdbpy] /Users/mac/opt/anaconda3/lib/python3.9/site-packages/imdb/__init__.py:844: unknown information set \"genres\"\n"
     ]
    },
    {
     "name": "stdout",
     "output_type": "stream",
     "text": [
      "UPSIDEdown:\n",
      "Genres: ['Short', 'Comedy']\n"
     ]
    },
    {
     "name": "stderr",
     "output_type": "stream",
     "text": [
      "2023-12-27 13:54:53,929 ERROR [imdbpy] /Users/mac/opt/anaconda3/lib/python3.9/site-packages/imdb/__init__.py:844: unknown information set \"genres\"\n"
     ]
    },
    {
     "name": "stdout",
     "output_type": "stream",
     "text": [
      "The Eighth Clause:\n",
      "Genres: ['Documentary']\n"
     ]
    },
    {
     "name": "stderr",
     "output_type": "stream",
     "text": [
      "2023-12-27 13:54:59,942 ERROR [imdbpy] /Users/mac/opt/anaconda3/lib/python3.9/site-packages/imdb/__init__.py:844: unknown information set \"genres\"\n"
     ]
    },
    {
     "name": "stdout",
     "output_type": "stream",
     "text": [
      "Forsaken:\n",
      "Genres: ['Action', 'Drama', 'Western']\n"
     ]
    },
    {
     "name": "stderr",
     "output_type": "stream",
     "text": [
      "2023-12-27 13:55:05,853 ERROR [imdbpy] /Users/mac/opt/anaconda3/lib/python3.9/site-packages/imdb/__init__.py:844: unknown information set \"genres\"\n"
     ]
    },
    {
     "name": "stdout",
     "output_type": "stream",
     "text": [
      "Sachertorte:\n",
      "Genres: ['Comedy', 'Drama', 'Romance']\n"
     ]
    },
    {
     "name": "stderr",
     "output_type": "stream",
     "text": [
      "2023-12-27 13:55:13,358 ERROR [imdbpy] /Users/mac/opt/anaconda3/lib/python3.9/site-packages/imdb/__init__.py:844: unknown information set \"genres\"\n"
     ]
    },
    {
     "name": "stdout",
     "output_type": "stream",
     "text": [
      "Bridal Wave:\n",
      "Genres: ['Comedy', 'Family', 'Romance']\n"
     ]
    },
    {
     "name": "stderr",
     "output_type": "stream",
     "text": [
      "2023-12-27 13:55:20,390 ERROR [imdbpy] /Users/mac/opt/anaconda3/lib/python3.9/site-packages/imdb/__init__.py:844: unknown information set \"genres\"\n"
     ]
    },
    {
     "name": "stdout",
     "output_type": "stream",
     "text": [
      "Addicted to Sheep:\n",
      "Genres: ['Documentary', 'Family']\n"
     ]
    },
    {
     "name": "stderr",
     "output_type": "stream",
     "text": [
      "2023-12-27 13:55:28,320 ERROR [imdbpy] /Users/mac/opt/anaconda3/lib/python3.9/site-packages/imdb/__init__.py:844: unknown information set \"genres\"\n"
     ]
    },
    {
     "name": "stdout",
     "output_type": "stream",
     "text": [
      "The Weeknd x The Dawn FM Experience:\n",
      "Genres: ['Short']\n"
     ]
    },
    {
     "name": "stderr",
     "output_type": "stream",
     "text": [
      "2023-12-27 13:55:35,172 ERROR [imdbpy] /Users/mac/opt/anaconda3/lib/python3.9/site-packages/imdb/__init__.py:844: unknown information set \"genres\"\n"
     ]
    },
    {
     "name": "stdout",
     "output_type": "stream",
     "text": [
      "Cold Ground:\n",
      "Genres: ['Horror', 'Mystery', 'Sci-Fi']\n"
     ]
    },
    {
     "name": "stderr",
     "output_type": "stream",
     "text": [
      "2023-12-27 13:55:43,362 ERROR [imdbpy] /Users/mac/opt/anaconda3/lib/python3.9/site-packages/imdb/__init__.py:844: unknown information set \"genres\"\n"
     ]
    },
    {
     "name": "stdout",
     "output_type": "stream",
     "text": [
      "Two 4 One:\n",
      "Genres: ['Action', 'Crime', 'Drama', 'Thriller']\n"
     ]
    },
    {
     "name": "stderr",
     "output_type": "stream",
     "text": [
      "2023-12-27 13:55:52,904 ERROR [imdbpy] /Users/mac/opt/anaconda3/lib/python3.9/site-packages/imdb/__init__.py:844: unknown information set \"genres\"\n"
     ]
    },
    {
     "name": "stdout",
     "output_type": "stream",
     "text": [
      "Mission of Honor:\n",
      "Genres: ['Action', 'Drama', 'War']\n"
     ]
    },
    {
     "name": "stderr",
     "output_type": "stream",
     "text": [
      "2023-12-27 13:56:08,966 ERROR [imdbpy] /Users/mac/opt/anaconda3/lib/python3.9/site-packages/imdb/__init__.py:844: unknown information set \"genres\"\n"
     ]
    },
    {
     "name": "stdout",
     "output_type": "stream",
     "text": [
      "Black Label Society: Unblackened:\n",
      "Genres: ['Music']\n"
     ]
    },
    {
     "name": "stderr",
     "output_type": "stream",
     "text": [
      "2023-12-27 13:56:37,491 ERROR [imdbpy] /Users/mac/opt/anaconda3/lib/python3.9/site-packages/imdb/__init__.py:844: unknown information set \"genres\"\n"
     ]
    },
    {
     "name": "stdout",
     "output_type": "stream",
     "text": [
      "Mahaan:\n",
      "Genres: ['Action', 'Drama', 'Thriller']\n"
     ]
    },
    {
     "name": "stderr",
     "output_type": "stream",
     "text": [
      "2023-12-27 13:56:43,820 ERROR [imdbpy] /Users/mac/opt/anaconda3/lib/python3.9/site-packages/imdb/__init__.py:844: unknown information set \"genres\"\n"
     ]
    },
    {
     "name": "stdout",
     "output_type": "stream",
     "text": [
      "Dad Rocks:\n",
      "Genres: ['Comedy']\n"
     ]
    },
    {
     "name": "stderr",
     "output_type": "stream",
     "text": [
      "2023-12-27 13:56:54,338 ERROR [imdbpy] /Users/mac/opt/anaconda3/lib/python3.9/site-packages/imdb/__init__.py:844: unknown information set \"genres\"\n"
     ]
    },
    {
     "name": "stdout",
     "output_type": "stream",
     "text": [
      "Jeruzalem:\n",
      "Genres: ['Horror', 'Sci-Fi', 'Thriller']\n"
     ]
    },
    {
     "name": "stderr",
     "output_type": "stream",
     "text": [
      "2023-12-27 13:57:05,887 ERROR [imdbpy] /Users/mac/opt/anaconda3/lib/python3.9/site-packages/imdb/__init__.py:844: unknown information set \"genres\"\n"
     ]
    },
    {
     "name": "stdout",
     "output_type": "stream",
     "text": [
      "We Need to Do Something:\n",
      "Genres: ['Horror', 'Mystery']\n"
     ]
    },
    {
     "name": "stderr",
     "output_type": "stream",
     "text": [
      "2023-12-27 13:57:18,090 ERROR [imdbpy] /Users/mac/opt/anaconda3/lib/python3.9/site-packages/imdb/__init__.py:844: unknown information set \"genres\"\n"
     ]
    },
    {
     "name": "stdout",
     "output_type": "stream",
     "text": [
      "Rogue Warfare: Death of a Nation:\n",
      "Genres: ['Action']\n"
     ]
    },
    {
     "name": "stderr",
     "output_type": "stream",
     "text": [
      "2023-12-27 13:57:30,542 ERROR [imdbpy] /Users/mac/opt/anaconda3/lib/python3.9/site-packages/imdb/__init__.py:844: unknown information set \"genres\"\n"
     ]
    },
    {
     "name": "stdout",
     "output_type": "stream",
     "text": [
      "The Last Photograph:\n",
      "Genres: ['Drama', 'Family']\n"
     ]
    },
    {
     "name": "stderr",
     "output_type": "stream",
     "text": [
      "2023-12-27 13:57:40,939 ERROR [imdbpy] /Users/mac/opt/anaconda3/lib/python3.9/site-packages/imdb/__init__.py:844: unknown information set \"genres\"\n"
     ]
    },
    {
     "name": "stdout",
     "output_type": "stream",
     "text": [
      "Hot Seat:\n",
      "Genres: ['Action', 'Thriller']\n"
     ]
    },
    {
     "name": "stderr",
     "output_type": "stream",
     "text": [
      "2023-12-27 13:57:52,449 ERROR [imdbpy] /Users/mac/opt/anaconda3/lib/python3.9/site-packages/imdb/__init__.py:844: unknown information set \"genres\"\n"
     ]
    },
    {
     "name": "stdout",
     "output_type": "stream",
     "text": [
      "Winter Brothers:\n",
      "Genres: ['Drama']\n"
     ]
    },
    {
     "name": "stderr",
     "output_type": "stream",
     "text": [
      "2023-12-27 13:57:58,467 ERROR [imdbpy] /Users/mac/opt/anaconda3/lib/python3.9/site-packages/imdb/__init__.py:844: unknown information set \"genres\"\n"
     ]
    },
    {
     "name": "stdout",
     "output_type": "stream",
     "text": [
      "Assault on VA-33:\n",
      "Genres: ['Action', 'Thriller']\n"
     ]
    },
    {
     "name": "stderr",
     "output_type": "stream",
     "text": [
      "2023-12-27 13:58:09,073 ERROR [imdbpy] /Users/mac/opt/anaconda3/lib/python3.9/site-packages/imdb/__init__.py:844: unknown information set \"genres\"\n"
     ]
    },
    {
     "name": "stdout",
     "output_type": "stream",
     "text": [
      "Pataakha:\n",
      "Genres: ['Action', 'Comedy', 'Drama']\n"
     ]
    },
    {
     "name": "stderr",
     "output_type": "stream",
     "text": [
      "2023-12-27 13:58:15,835 ERROR [imdbpy] /Users/mac/opt/anaconda3/lib/python3.9/site-packages/imdb/__init__.py:844: unknown information set \"genres\"\n"
     ]
    },
    {
     "name": "stdout",
     "output_type": "stream",
     "text": [
      "Burning:\n",
      "Genres: ['Drama', 'Mystery', 'Thriller']\n"
     ]
    },
    {
     "name": "stderr",
     "output_type": "stream",
     "text": [
      "2023-12-27 13:58:23,391 ERROR [imdbpy] /Users/mac/opt/anaconda3/lib/python3.9/site-packages/imdb/__init__.py:844: unknown information set \"genres\"\n"
     ]
    },
    {
     "name": "stdout",
     "output_type": "stream",
     "text": [
      "Wiener-Dog:\n",
      "Genres: ['Comedy', 'Drama']\n"
     ]
    },
    {
     "name": "stderr",
     "output_type": "stream",
     "text": [
      "2023-12-27 13:58:33,857 ERROR [imdbpy] /Users/mac/opt/anaconda3/lib/python3.9/site-packages/imdb/__init__.py:844: unknown information set \"genres\"\n"
     ]
    },
    {
     "name": "stdout",
     "output_type": "stream",
     "text": [
      "Being the Ricardos:\n",
      "Genres: ['Biography', 'Drama']\n"
     ]
    },
    {
     "name": "stderr",
     "output_type": "stream",
     "text": [
      "2023-12-27 13:58:41,090 ERROR [imdbpy] /Users/mac/opt/anaconda3/lib/python3.9/site-packages/imdb/__init__.py:844: unknown information set \"genres\"\n"
     ]
    },
    {
     "name": "stdout",
     "output_type": "stream",
     "text": [
      "Phony:\n",
      "Genres: ['Drama']\n"
     ]
    },
    {
     "name": "stderr",
     "output_type": "stream",
     "text": [
      "2023-12-27 13:58:46,672 ERROR [imdbpy] /Users/mac/opt/anaconda3/lib/python3.9/site-packages/imdb/__init__.py:844: unknown information set \"genres\"\n"
     ]
    },
    {
     "name": "stdout",
     "output_type": "stream",
     "text": [
      "Collider:\n",
      "Genres: ['Action', 'Sci-Fi']\n"
     ]
    },
    {
     "name": "stderr",
     "output_type": "stream",
     "text": [
      "2023-12-27 13:58:53,598 ERROR [imdbpy] /Users/mac/opt/anaconda3/lib/python3.9/site-packages/imdb/__init__.py:844: unknown information set \"genres\"\n"
     ]
    },
    {
     "name": "stdout",
     "output_type": "stream",
     "text": [
      "Bad Comments:\n",
      "Genres: ['Comedy']\n"
     ]
    },
    {
     "name": "stderr",
     "output_type": "stream",
     "text": [
      "2023-12-27 13:59:00,415 ERROR [imdbpy] /Users/mac/opt/anaconda3/lib/python3.9/site-packages/imdb/__init__.py:844: unknown information set \"genres\"\n"
     ]
    },
    {
     "name": "stdout",
     "output_type": "stream",
     "text": [
      "Shershaah:\n",
      "Genres: ['Action', 'Biography', 'Drama', 'War']\n"
     ]
    },
    {
     "name": "stderr",
     "output_type": "stream",
     "text": [
      "2023-12-27 13:59:13,326 ERROR [imdbpy] /Users/mac/opt/anaconda3/lib/python3.9/site-packages/imdb/__init__.py:844: unknown information set \"genres\"\n"
     ]
    },
    {
     "name": "stdout",
     "output_type": "stream",
     "text": [
      "Black Widows:\n",
      "Genres: ['Crime', 'Drama', 'Mystery']\n"
     ]
    },
    {
     "name": "stderr",
     "output_type": "stream",
     "text": [
      "2023-12-27 13:59:20,229 ERROR [imdbpy] /Users/mac/opt/anaconda3/lib/python3.9/site-packages/imdb/__init__.py:844: unknown information set \"genres\"\n"
     ]
    },
    {
     "name": "stdout",
     "output_type": "stream",
     "text": [
      "Rachel Bradley: Alpha Chick:\n",
      "Genres: ['Comedy']\n"
     ]
    },
    {
     "name": "stderr",
     "output_type": "stream",
     "text": [
      "2023-12-27 13:59:30,473 ERROR [imdbpy] /Users/mac/opt/anaconda3/lib/python3.9/site-packages/imdb/__init__.py:844: unknown information set \"genres\"\n"
     ]
    },
    {
     "name": "stdout",
     "output_type": "stream",
     "text": [
      "Non-Stop:\n",
      "Genres: ['Action', 'Mystery', 'Thriller']\n"
     ]
    },
    {
     "name": "stderr",
     "output_type": "stream",
     "text": [
      "2023-12-27 13:59:38,302 ERROR [imdbpy] /Users/mac/opt/anaconda3/lib/python3.9/site-packages/imdb/__init__.py:844: unknown information set \"genres\"\n"
     ]
    },
    {
     "name": "stdout",
     "output_type": "stream",
     "text": [
      "Kids in Love:\n",
      "Genres: ['Drama', 'Romance']\n"
     ]
    },
    {
     "name": "stderr",
     "output_type": "stream",
     "text": [
      "2023-12-27 13:59:47,724 ERROR [imdbpy] /Users/mac/opt/anaconda3/lib/python3.9/site-packages/imdb/__init__.py:844: unknown information set \"genres\"\n"
     ]
    },
    {
     "name": "stdout",
     "output_type": "stream",
     "text": [
      "Fatal Beauty:\n",
      "Genres: ['Action', 'Comedy', 'Crime', 'Drama', 'Thriller']\n"
     ]
    },
    {
     "name": "stderr",
     "output_type": "stream",
     "text": [
      "2023-12-27 13:59:55,035 ERROR [imdbpy] /Users/mac/opt/anaconda3/lib/python3.9/site-packages/imdb/__init__.py:844: unknown information set \"genres\"\n"
     ]
    },
    {
     "name": "stdout",
     "output_type": "stream",
     "text": [
      "Jeremy Scott: The People's Designer:\n",
      "Genres: ['Documentary', 'Biography']\n"
     ]
    },
    {
     "name": "stderr",
     "output_type": "stream",
     "text": [
      "2023-12-27 14:00:03,092 ERROR [imdbpy] /Users/mac/opt/anaconda3/lib/python3.9/site-packages/imdb/__init__.py:844: unknown information set \"genres\"\n"
     ]
    },
    {
     "name": "stdout",
     "output_type": "stream",
     "text": [
      "Saving Jaws:\n",
      "Genres: ['Documentary']\n"
     ]
    },
    {
     "name": "stderr",
     "output_type": "stream",
     "text": [
      "2023-12-27 14:00:11,383 ERROR [imdbpy] /Users/mac/opt/anaconda3/lib/python3.9/site-packages/imdb/__init__.py:844: unknown information set \"genres\"\n"
     ]
    },
    {
     "name": "stdout",
     "output_type": "stream",
     "text": [
      "Secrets Exposed:\n",
      "Genres: ['Thriller']\n"
     ]
    },
    {
     "name": "stderr",
     "output_type": "stream",
     "text": [
      "2023-12-27 14:00:19,572 ERROR [imdbpy] /Users/mac/opt/anaconda3/lib/python3.9/site-packages/imdb/__init__.py:844: unknown information set \"genres\"\n"
     ]
    },
    {
     "name": "stdout",
     "output_type": "stream",
     "text": [
      "Black Box:\n",
      "Genres: ['Drama', 'Mystery', 'Thriller']\n"
     ]
    },
    {
     "name": "stderr",
     "output_type": "stream",
     "text": [
      "2023-12-27 14:00:27,700 ERROR [imdbpy] /Users/mac/opt/anaconda3/lib/python3.9/site-packages/imdb/__init__.py:844: unknown information set \"genres\"\n"
     ]
    },
    {
     "name": "stdout",
     "output_type": "stream",
     "text": [
      "Dead Again:\n",
      "Genres: ['Crime', 'Drama', 'Mystery', 'Thriller']\n"
     ]
    },
    {
     "name": "stderr",
     "output_type": "stream",
     "text": [
      "2023-12-27 14:00:34,509 ERROR [imdbpy] /Users/mac/opt/anaconda3/lib/python3.9/site-packages/imdb/__init__.py:844: unknown information set \"genres\"\n"
     ]
    },
    {
     "name": "stdout",
     "output_type": "stream",
     "text": [
      "The Last Witness:\n",
      "Genres: ['History', 'Thriller']\n"
     ]
    },
    {
     "name": "stderr",
     "output_type": "stream",
     "text": [
      "2023-12-27 14:00:40,855 ERROR [imdbpy] /Users/mac/opt/anaconda3/lib/python3.9/site-packages/imdb/__init__.py:844: unknown information set \"genres\"\n"
     ]
    },
    {
     "name": "stdout",
     "output_type": "stream",
     "text": [
      "Another You:\n",
      "Genres: ['Comedy', 'Crime']\n"
     ]
    },
    {
     "name": "stderr",
     "output_type": "stream",
     "text": [
      "2023-12-27 14:00:46,675 ERROR [imdbpy] /Users/mac/opt/anaconda3/lib/python3.9/site-packages/imdb/__init__.py:844: unknown information set \"genres\"\n"
     ]
    },
    {
     "name": "stdout",
     "output_type": "stream",
     "text": [
      "Locked In:\n",
      "Genres: ['Mystery', 'Thriller']\n"
     ]
    },
    {
     "name": "stderr",
     "output_type": "stream",
     "text": [
      "2023-12-27 14:00:51,870 ERROR [imdbpy] /Users/mac/opt/anaconda3/lib/python3.9/site-packages/imdb/__init__.py:844: unknown information set \"genres\"\n"
     ]
    },
    {
     "name": "stdout",
     "output_type": "stream",
     "text": [
      "Wolves of War:\n",
      "Genres: ['Action', 'Thriller', 'War']\n"
     ]
    },
    {
     "name": "stderr",
     "output_type": "stream",
     "text": [
      "2023-12-27 14:00:59,539 ERROR [imdbpy] /Users/mac/opt/anaconda3/lib/python3.9/site-packages/imdb/__init__.py:844: unknown information set \"genres\"\n"
     ]
    },
    {
     "name": "stdout",
     "output_type": "stream",
     "text": [
      "We Still Steal the Old Way:\n",
      "Genres: ['Action', 'Comedy', 'Crime', 'Drama', 'Thriller']\n"
     ]
    },
    {
     "name": "stderr",
     "output_type": "stream",
     "text": [
      "2023-12-27 14:01:05,855 ERROR [imdbpy] /Users/mac/opt/anaconda3/lib/python3.9/site-packages/imdb/__init__.py:844: unknown information set \"genres\"\n"
     ]
    },
    {
     "name": "stdout",
     "output_type": "stream",
     "text": [
      "Good After Bad:\n",
      "Genres: ['Drama']\n"
     ]
    },
    {
     "name": "stderr",
     "output_type": "stream",
     "text": [
      "2023-12-27 14:01:13,013 ERROR [imdbpy] /Users/mac/opt/anaconda3/lib/python3.9/site-packages/imdb/__init__.py:844: unknown information set \"genres\"\n"
     ]
    },
    {
     "name": "stdout",
     "output_type": "stream",
     "text": [
      "Jawaan:\n",
      "Genres: ['Action', 'Thriller']\n"
     ]
    },
    {
     "name": "stderr",
     "output_type": "stream",
     "text": [
      "2023-12-27 14:01:21,152 ERROR [imdbpy] /Users/mac/opt/anaconda3/lib/python3.9/site-packages/imdb/__init__.py:844: unknown information set \"genres\"\n"
     ]
    },
    {
     "name": "stdout",
     "output_type": "stream",
     "text": [
      "The Penalty:\n",
      "Genres: ['Crime', 'Drama', 'Thriller']\n"
     ]
    },
    {
     "name": "stderr",
     "output_type": "stream",
     "text": [
      "2023-12-27 14:01:29,182 ERROR [imdbpy] /Users/mac/opt/anaconda3/lib/python3.9/site-packages/imdb/__init__.py:844: unknown information set \"genres\"\n"
     ]
    },
    {
     "name": "stdout",
     "output_type": "stream",
     "text": [
      "C U Soon:\n",
      "Genres: ['Drama', 'Mystery', 'Thriller']\n"
     ]
    },
    {
     "name": "stderr",
     "output_type": "stream",
     "text": [
      "2023-12-27 14:01:38,928 ERROR [imdbpy] /Users/mac/opt/anaconda3/lib/python3.9/site-packages/imdb/__init__.py:844: unknown information set \"genres\"\n"
     ]
    },
    {
     "name": "stdout",
     "output_type": "stream",
     "text": [
      "Chappaquiddick:\n",
      "Genres: ['Biography', 'Drama', 'History', 'Thriller']\n"
     ]
    },
    {
     "name": "stderr",
     "output_type": "stream",
     "text": [
      "2023-12-27 14:01:45,487 ERROR [imdbpy] /Users/mac/opt/anaconda3/lib/python3.9/site-packages/imdb/__init__.py:844: unknown information set \"genres\"\n"
     ]
    },
    {
     "name": "stdout",
     "output_type": "stream",
     "text": [
      "Geetha:\n",
      "Genres: ['Action', 'Drama', 'Horror', 'Thriller']\n"
     ]
    },
    {
     "name": "stderr",
     "output_type": "stream",
     "text": [
      "2023-12-27 14:01:52,276 ERROR [imdbpy] /Users/mac/opt/anaconda3/lib/python3.9/site-packages/imdb/__init__.py:844: unknown information set \"genres\"\n"
     ]
    },
    {
     "name": "stdout",
     "output_type": "stream",
     "text": [
      "Fear and Loathing in Aspen:\n",
      "Genres: ['Biography', 'Comedy', 'Drama']\n"
     ]
    },
    {
     "name": "stderr",
     "output_type": "stream",
     "text": [
      "2023-12-27 14:02:00,120 ERROR [imdbpy] /Users/mac/opt/anaconda3/lib/python3.9/site-packages/imdb/__init__.py:844: unknown information set \"genres\"\n"
     ]
    },
    {
     "name": "stdout",
     "output_type": "stream",
     "text": [
      "The Curse of Buckout Road:\n",
      "Genres: ['Horror', 'Thriller']\n"
     ]
    },
    {
     "name": "stderr",
     "output_type": "stream",
     "text": [
      "2023-12-27 14:02:08,209 ERROR [imdbpy] /Users/mac/opt/anaconda3/lib/python3.9/site-packages/imdb/__init__.py:844: unknown information set \"genres\"\n"
     ]
    },
    {
     "name": "stdout",
     "output_type": "stream",
     "text": [
      "Animator:\n",
      "Genres: ['Comedy', 'Horror', 'Sci-Fi']\n"
     ]
    },
    {
     "name": "stderr",
     "output_type": "stream",
     "text": [
      "2023-12-27 14:02:16,253 ERROR [imdbpy] /Users/mac/opt/anaconda3/lib/python3.9/site-packages/imdb/__init__.py:844: unknown information set \"genres\"\n"
     ]
    },
    {
     "name": "stdout",
     "output_type": "stream",
     "text": [
      "The Legend of Barney Thomson:\n",
      "Genres: ['Comedy', 'Crime']\n"
     ]
    },
    {
     "name": "stderr",
     "output_type": "stream",
     "text": [
      "2023-12-27 14:02:21,802 ERROR [imdbpy] /Users/mac/opt/anaconda3/lib/python3.9/site-packages/imdb/__init__.py:844: unknown information set \"genres\"\n"
     ]
    },
    {
     "name": "stdout",
     "output_type": "stream",
     "text": [
      "Rabbit School: Guardians of the Golden Egg:\n",
      "Genres: ['Animation', 'Adventure', 'Comedy', 'Family', 'Fantasy']\n"
     ]
    },
    {
     "name": "stderr",
     "output_type": "stream",
     "text": [
      "2023-12-27 14:02:29,964 ERROR [imdbpy] /Users/mac/opt/anaconda3/lib/python3.9/site-packages/imdb/__init__.py:844: unknown information set \"genres\"\n"
     ]
    },
    {
     "name": "stdout",
     "output_type": "stream",
     "text": [
      "King Arthur and the Knights of the Round Table:\n",
      "Genres: ['Action', 'Adventure', 'Crime', 'Fantasy', 'Sci-Fi', 'Thriller']\n"
     ]
    },
    {
     "name": "stderr",
     "output_type": "stream",
     "text": [
      "2023-12-27 14:02:37,014 ERROR [imdbpy] /Users/mac/opt/anaconda3/lib/python3.9/site-packages/imdb/__init__.py:844: unknown information set \"genres\"\n"
     ]
    },
    {
     "name": "stdout",
     "output_type": "stream",
     "text": [
      "Sandeep Aur Pinky Faraar:\n",
      "Genres: ['Comedy', 'Crime', 'Drama']\n"
     ]
    },
    {
     "name": "stderr",
     "output_type": "stream",
     "text": [
      "2023-12-27 14:02:44,751 ERROR [imdbpy] /Users/mac/opt/anaconda3/lib/python3.9/site-packages/imdb/__init__.py:844: unknown information set \"genres\"\n"
     ]
    },
    {
     "name": "stdout",
     "output_type": "stream",
     "text": [
      "The Book of Love:\n",
      "Genres: ['Comedy']\n"
     ]
    },
    {
     "name": "stderr",
     "output_type": "stream",
     "text": [
      "2023-12-27 14:02:53,115 ERROR [imdbpy] /Users/mac/opt/anaconda3/lib/python3.9/site-packages/imdb/__init__.py:844: unknown information set \"genres\"\n"
     ]
    },
    {
     "name": "stdout",
     "output_type": "stream",
     "text": [
      "Ip Man 3:\n",
      "Genres: ['Action', 'Biography', 'Drama', 'History']\n"
     ]
    },
    {
     "name": "stderr",
     "output_type": "stream",
     "text": [
      "2023-12-27 14:03:00,183 ERROR [imdbpy] /Users/mac/opt/anaconda3/lib/python3.9/site-packages/imdb/__init__.py:844: unknown information set \"genres\"\n"
     ]
    },
    {
     "name": "stdout",
     "output_type": "stream",
     "text": [
      "A Good Marriage:\n",
      "Genres: ['Crime', 'Drama', 'Thriller']\n"
     ]
    },
    {
     "name": "stderr",
     "output_type": "stream",
     "text": [
      "2023-12-27 14:03:06,903 ERROR [imdbpy] /Users/mac/opt/anaconda3/lib/python3.9/site-packages/imdb/__init__.py:844: unknown information set \"genres\"\n"
     ]
    },
    {
     "name": "stdout",
     "output_type": "stream",
     "text": [
      "The Last Case of August T. Harrison:\n",
      "Genres: ['Drama', 'Horror', 'Mystery', 'Thriller']\n"
     ]
    },
    {
     "name": "stderr",
     "output_type": "stream",
     "text": [
      "2023-12-27 14:03:14,781 ERROR [imdbpy] /Users/mac/opt/anaconda3/lib/python3.9/site-packages/imdb/__init__.py:844: unknown information set \"genres\"\n"
     ]
    },
    {
     "name": "stdout",
     "output_type": "stream",
     "text": [
      "The Purge: Election Year:\n",
      "Genres: ['Action', 'Horror', 'Sci-Fi', 'Thriller']\n"
     ]
    },
    {
     "name": "stderr",
     "output_type": "stream",
     "text": [
      "2023-12-27 14:03:21,949 ERROR [imdbpy] /Users/mac/opt/anaconda3/lib/python3.9/site-packages/imdb/__init__.py:844: unknown information set \"genres\"\n"
     ]
    },
    {
     "name": "stdout",
     "output_type": "stream",
     "text": [
      "Killer Piñata:\n",
      "Genres: ['Comedy', 'Horror']\n"
     ]
    },
    {
     "name": "stderr",
     "output_type": "stream",
     "text": [
      "2023-12-27 14:03:29,866 ERROR [imdbpy] /Users/mac/opt/anaconda3/lib/python3.9/site-packages/imdb/__init__.py:844: unknown information set \"genres\"\n"
     ]
    },
    {
     "name": "stdout",
     "output_type": "stream",
     "text": [
      "Bear-Like:\n",
      "Genres: ['Documentary']\n"
     ]
    },
    {
     "name": "stderr",
     "output_type": "stream",
     "text": [
      "2023-12-27 14:03:38,739 ERROR [imdbpy] /Users/mac/opt/anaconda3/lib/python3.9/site-packages/imdb/__init__.py:844: unknown information set \"genres\"\n"
     ]
    },
    {
     "name": "stdout",
     "output_type": "stream",
     "text": [
      "Borealis:\n",
      "Genres: ['Documentary']\n"
     ]
    },
    {
     "name": "stderr",
     "output_type": "stream",
     "text": [
      "2023-12-27 14:03:44,676 ERROR [imdbpy] /Users/mac/opt/anaconda3/lib/python3.9/site-packages/imdb/__init__.py:844: unknown information set \"genres\"\n"
     ]
    },
    {
     "name": "stdout",
     "output_type": "stream",
     "text": [
      "Kalank:\n",
      "Genres: ['Drama', 'Romance']\n"
     ]
    },
    {
     "name": "stderr",
     "output_type": "stream",
     "text": [
      "2023-12-27 14:03:50,433 ERROR [imdbpy] /Users/mac/opt/anaconda3/lib/python3.9/site-packages/imdb/__init__.py:844: unknown information set \"genres\"\n"
     ]
    },
    {
     "name": "stdout",
     "output_type": "stream",
     "text": [
      "Invasion:\n",
      "Genres: ['Drama', 'Fantasy', 'Sci-Fi']\n"
     ]
    },
    {
     "name": "stderr",
     "output_type": "stream",
     "text": [
      "2023-12-27 14:04:00,168 ERROR [imdbpy] /Users/mac/opt/anaconda3/lib/python3.9/site-packages/imdb/__init__.py:844: unknown information set \"genres\"\n"
     ]
    },
    {
     "name": "stdout",
     "output_type": "stream",
     "text": [
      "The Rise of the Krays:\n",
      "Genres: ['Crime', 'Drama']\n"
     ]
    },
    {
     "name": "stderr",
     "output_type": "stream",
     "text": [
      "2023-12-27 14:04:08,405 ERROR [imdbpy] /Users/mac/opt/anaconda3/lib/python3.9/site-packages/imdb/__init__.py:844: unknown information set \"genres\"\n"
     ]
    },
    {
     "name": "stdout",
     "output_type": "stream",
     "text": [
      "A Man Named Scott:\n",
      "Genres: ['Documentary', 'Music']\n"
     ]
    },
    {
     "name": "stderr",
     "output_type": "stream",
     "text": [
      "2023-12-27 14:04:16,014 ERROR [imdbpy] /Users/mac/opt/anaconda3/lib/python3.9/site-packages/imdb/__init__.py:844: unknown information set \"genres\"\n"
     ]
    },
    {
     "name": "stdout",
     "output_type": "stream",
     "text": [
      "The Division: Agent Origins:\n",
      "Genres: ['Short', 'Action']\n"
     ]
    },
    {
     "name": "stderr",
     "output_type": "stream",
     "text": [
      "2023-12-27 14:04:21,777 ERROR [imdbpy] /Users/mac/opt/anaconda3/lib/python3.9/site-packages/imdb/__init__.py:844: unknown information set \"genres\"\n"
     ]
    },
    {
     "name": "stdout",
     "output_type": "stream",
     "text": [
      "Better Days: The Story of UK Rave:\n",
      "Genres: ['Documentary']\n"
     ]
    },
    {
     "name": "stderr",
     "output_type": "stream",
     "text": [
      "2023-12-27 14:04:33,282 ERROR [imdbpy] /Users/mac/opt/anaconda3/lib/python3.9/site-packages/imdb/__init__.py:844: unknown information set \"genres\"\n"
     ]
    },
    {
     "name": "stdout",
     "output_type": "stream",
     "text": [
      "All In: The Fight for Democracy:\n",
      "Genres: ['Documentary']\n",
      "This Is Not a Movie: Robert Fisk and the Politics of Truth:\n",
      "Genres: ['Not available']\n"
     ]
    },
    {
     "name": "stderr",
     "output_type": "stream",
     "text": [
      "2023-12-27 14:04:46,105 ERROR [imdbpy] /Users/mac/opt/anaconda3/lib/python3.9/site-packages/imdb/__init__.py:844: unknown information set \"genres\"\n"
     ]
    },
    {
     "name": "stdout",
     "output_type": "stream",
     "text": [
      "West of Eden:\n",
      "Genres: ['Drama', 'Romance', 'Western']\n"
     ]
    },
    {
     "name": "stderr",
     "output_type": "stream",
     "text": [
      "2023-12-27 14:04:57,063 ERROR [imdbpy] /Users/mac/opt/anaconda3/lib/python3.9/site-packages/imdb/__init__.py:844: unknown information set \"genres\"\n"
     ]
    },
    {
     "name": "stdout",
     "output_type": "stream",
     "text": [
      "Narappa:\n",
      "Genres: ['Action', 'Drama']\n"
     ]
    },
    {
     "name": "stderr",
     "output_type": "stream",
     "text": [
      "2023-12-27 14:05:07,965 ERROR [imdbpy] /Users/mac/opt/anaconda3/lib/python3.9/site-packages/imdb/__init__.py:844: unknown information set \"genres\"\n"
     ]
    },
    {
     "name": "stdout",
     "output_type": "stream",
     "text": [
      "Kickboxer: Vengeance:\n",
      "Genres: ['Action', 'Crime', 'Drama', 'Sport']\n"
     ]
    },
    {
     "name": "stderr",
     "output_type": "stream",
     "text": [
      "2023-12-27 14:05:15,688 ERROR [imdbpy] /Users/mac/opt/anaconda3/lib/python3.9/site-packages/imdb/__init__.py:844: unknown information set \"genres\"\n"
     ]
    },
    {
     "name": "stdout",
     "output_type": "stream",
     "text": [
      "In-Lawfully Yours:\n",
      "Genres: ['Comedy', 'Romance']\n"
     ]
    },
    {
     "name": "stderr",
     "output_type": "stream",
     "text": [
      "2023-12-27 14:05:24,660 ERROR [imdbpy] /Users/mac/opt/anaconda3/lib/python3.9/site-packages/imdb/__init__.py:844: unknown information set \"genres\"\n"
     ]
    },
    {
     "name": "stdout",
     "output_type": "stream",
     "text": [
      "Dark Was the Night:\n",
      "Genres: ['Drama', 'Horror', 'Thriller']\n"
     ]
    },
    {
     "name": "stderr",
     "output_type": "stream",
     "text": [
      "2023-12-27 14:05:30,548 ERROR [imdbpy] /Users/mac/opt/anaconda3/lib/python3.9/site-packages/imdb/__init__.py:844: unknown information set \"genres\"\n"
     ]
    },
    {
     "name": "stdout",
     "output_type": "stream",
     "text": [
      "Soundtrack to Sixteen:\n",
      "Genres: ['Comedy', 'Romance']\n"
     ]
    },
    {
     "name": "stderr",
     "output_type": "stream",
     "text": [
      "2023-12-27 14:05:37,426 ERROR [imdbpy] /Users/mac/opt/anaconda3/lib/python3.9/site-packages/imdb/__init__.py:844: unknown information set \"genres\"\n"
     ]
    },
    {
     "name": "stdout",
     "output_type": "stream",
     "text": [
      "The 24th:\n",
      "Genres: ['Drama', 'History']\n"
     ]
    },
    {
     "name": "stderr",
     "output_type": "stream",
     "text": [
      "2023-12-27 14:05:42,842 ERROR [imdbpy] /Users/mac/opt/anaconda3/lib/python3.9/site-packages/imdb/__init__.py:844: unknown information set \"genres\"\n"
     ]
    },
    {
     "name": "stdout",
     "output_type": "stream",
     "text": [
      "Underwater Federica Pellegrini:\n",
      "Genres: ['Documentary']\n"
     ]
    },
    {
     "name": "stderr",
     "output_type": "stream",
     "text": [
      "2023-12-27 14:05:49,152 ERROR [imdbpy] /Users/mac/opt/anaconda3/lib/python3.9/site-packages/imdb/__init__.py:844: unknown information set \"genres\"\n"
     ]
    },
    {
     "name": "stdout",
     "output_type": "stream",
     "text": [
      "Shepherd:\n",
      "Genres: ['Short', 'Drama', 'Fantasy']\n"
     ]
    },
    {
     "name": "stderr",
     "output_type": "stream",
     "text": [
      "2023-12-27 14:05:54,120 ERROR [imdbpy] /Users/mac/opt/anaconda3/lib/python3.9/site-packages/imdb/__init__.py:844: unknown information set \"genres\"\n"
     ]
    },
    {
     "name": "stdout",
     "output_type": "stream",
     "text": [
      "Iruttu Araiyil Murattu Kuthu:\n",
      "Genres: ['Horror']\n"
     ]
    },
    {
     "name": "stderr",
     "output_type": "stream",
     "text": [
      "2023-12-27 14:06:01,440 ERROR [imdbpy] /Users/mac/opt/anaconda3/lib/python3.9/site-packages/imdb/__init__.py:844: unknown information set \"genres\"\n"
     ]
    },
    {
     "name": "stdout",
     "output_type": "stream",
     "text": [
      "Bigil:\n",
      "Genres: ['Action', 'Drama', 'Sport']\n"
     ]
    },
    {
     "name": "stderr",
     "output_type": "stream",
     "text": [
      "2023-12-27 14:06:09,814 ERROR [imdbpy] /Users/mac/opt/anaconda3/lib/python3.9/site-packages/imdb/__init__.py:844: unknown information set \"genres\"\n"
     ]
    },
    {
     "name": "stdout",
     "output_type": "stream",
     "text": [
      "The Tender Bar:\n",
      "Genres: ['Biography', 'Drama']\n"
     ]
    },
    {
     "name": "stderr",
     "output_type": "stream",
     "text": [
      "2023-12-27 14:06:14,750 ERROR [imdbpy] /Users/mac/opt/anaconda3/lib/python3.9/site-packages/imdb/__init__.py:844: unknown information set \"genres\"\n"
     ]
    },
    {
     "name": "stdout",
     "output_type": "stream",
     "text": [
      "Love Dot Com: The Social Experiment:\n",
      "Genres: ['Romance']\n"
     ]
    },
    {
     "name": "stderr",
     "output_type": "stream",
     "text": [
      "2023-12-27 14:06:20,662 ERROR [imdbpy] /Users/mac/opt/anaconda3/lib/python3.9/site-packages/imdb/__init__.py:844: unknown information set \"genres\"\n"
     ]
    },
    {
     "name": "stdout",
     "output_type": "stream",
     "text": [
      "10 Days In Sun City:\n",
      "Genres: ['Adventure', 'Comedy', 'Romance']\n"
     ]
    },
    {
     "name": "stderr",
     "output_type": "stream",
     "text": [
      "2023-12-27 14:06:27,709 ERROR [imdbpy] /Users/mac/opt/anaconda3/lib/python3.9/site-packages/imdb/__init__.py:844: unknown information set \"genres\"\n"
     ]
    },
    {
     "name": "stdout",
     "output_type": "stream",
     "text": [
      "Moonwalkers:\n",
      "Genres: ['Action', 'Comedy']\n"
     ]
    },
    {
     "name": "stderr",
     "output_type": "stream",
     "text": [
      "2023-12-27 14:06:33,460 ERROR [imdbpy] /Users/mac/opt/anaconda3/lib/python3.9/site-packages/imdb/__init__.py:844: unknown information set \"genres\"\n"
     ]
    },
    {
     "name": "stdout",
     "output_type": "stream",
     "text": [
      "Steven Wilson: Home Invasion - In Concert at the Royal Albert Hall:\n",
      "Genres: ['Documentary', 'Music']\n"
     ]
    },
    {
     "name": "stderr",
     "output_type": "stream",
     "text": [
      "2023-12-27 14:06:40,158 ERROR [imdbpy] /Users/mac/opt/anaconda3/lib/python3.9/site-packages/imdb/__init__.py:844: unknown information set \"genres\"\n"
     ]
    },
    {
     "name": "stdout",
     "output_type": "stream",
     "text": [
      "Beyond the Lights:\n",
      "Genres: ['Drama', 'Music', 'Romance']\n"
     ]
    },
    {
     "name": "stderr",
     "output_type": "stream",
     "text": [
      "2023-12-27 14:06:46,586 ERROR [imdbpy] /Users/mac/opt/anaconda3/lib/python3.9/site-packages/imdb/__init__.py:844: unknown information set \"genres\"\n"
     ]
    },
    {
     "name": "stdout",
     "output_type": "stream",
     "text": [
      "I Want You Back:\n",
      "Genres: ['Comedy', 'Romance']\n"
     ]
    },
    {
     "name": "stderr",
     "output_type": "stream",
     "text": [
      "2023-12-27 14:06:54,079 ERROR [imdbpy] /Users/mac/opt/anaconda3/lib/python3.9/site-packages/imdb/__init__.py:844: unknown information set \"genres\"\n"
     ]
    },
    {
     "name": "stdout",
     "output_type": "stream",
     "text": [
      "Into the Forest:\n",
      "Genres: ['Drama', 'Thriller']\n"
     ]
    },
    {
     "name": "stderr",
     "output_type": "stream",
     "text": [
      "2023-12-27 14:07:04,800 ERROR [imdbpy] /Users/mac/opt/anaconda3/lib/python3.9/site-packages/imdb/__init__.py:844: unknown information set \"genres\"\n"
     ]
    },
    {
     "name": "stdout",
     "output_type": "stream",
     "text": [
      "Attack of the Lederhosen Zombies:\n",
      "Genres: ['Comedy', 'Horror']\n"
     ]
    },
    {
     "name": "stderr",
     "output_type": "stream",
     "text": [
      "2023-12-27 14:07:16,845 ERROR [imdbpy] /Users/mac/opt/anaconda3/lib/python3.9/site-packages/imdb/__init__.py:844: unknown information set \"genres\"\n"
     ]
    },
    {
     "name": "stdout",
     "output_type": "stream",
     "text": [
      "Sherni:\n",
      "Genres: ['Action', 'Adventure', 'Drama', 'Thriller']\n"
     ]
    },
    {
     "name": "stderr",
     "output_type": "stream",
     "text": [
      "2023-12-27 14:07:23,467 ERROR [imdbpy] /Users/mac/opt/anaconda3/lib/python3.9/site-packages/imdb/__init__.py:844: unknown information set \"genres\"\n"
     ]
    },
    {
     "name": "stdout",
     "output_type": "stream",
     "text": [
      "Let's Kill Ward's Wife:\n",
      "Genres: ['Comedy', 'Crime']\n"
     ]
    },
    {
     "name": "stderr",
     "output_type": "stream",
     "text": [
      "2023-12-27 14:07:28,772 ERROR [imdbpy] /Users/mac/opt/anaconda3/lib/python3.9/site-packages/imdb/__init__.py:844: unknown information set \"genres\"\n"
     ]
    },
    {
     "name": "stdout",
     "output_type": "stream",
     "text": [
      "What the Waters Left Behind:\n",
      "Genres: ['Horror']\n"
     ]
    },
    {
     "name": "stderr",
     "output_type": "stream",
     "text": [
      "2023-12-27 14:07:36,072 ERROR [imdbpy] /Users/mac/opt/anaconda3/lib/python3.9/site-packages/imdb/__init__.py:844: unknown information set \"genres\"\n"
     ]
    },
    {
     "name": "stdout",
     "output_type": "stream",
     "text": [
      "We Go in at Dawn:\n",
      "Genres: ['History', 'Thriller', 'War']\n"
     ]
    },
    {
     "name": "stderr",
     "output_type": "stream",
     "text": [
      "2023-12-27 14:07:45,369 ERROR [imdbpy] /Users/mac/opt/anaconda3/lib/python3.9/site-packages/imdb/__init__.py:844: unknown information set \"genres\"\n"
     ]
    },
    {
     "name": "stdout",
     "output_type": "stream",
     "text": [
      "Sher Shivraj:\n",
      "Genres: ['Action', 'Drama', 'History']\n"
     ]
    },
    {
     "name": "stderr",
     "output_type": "stream",
     "text": [
      "2023-12-27 14:07:52,511 ERROR [imdbpy] /Users/mac/opt/anaconda3/lib/python3.9/site-packages/imdb/__init__.py:844: unknown information set \"genres\"\n"
     ]
    },
    {
     "name": "stdout",
     "output_type": "stream",
     "text": [
      "The Boy Who Killed My Parents:\n",
      "Genres: ['Crime', 'Drama', 'Thriller']\n"
     ]
    },
    {
     "name": "stderr",
     "output_type": "stream",
     "text": [
      "2023-12-27 14:08:01,690 ERROR [imdbpy] /Users/mac/opt/anaconda3/lib/python3.9/site-packages/imdb/__init__.py:844: unknown information set \"genres\"\n"
     ]
    },
    {
     "name": "stdout",
     "output_type": "stream",
     "text": [
      "Don't Hang Up:\n",
      "Genres: ['Horror', 'Thriller']\n"
     ]
    },
    {
     "name": "stderr",
     "output_type": "stream",
     "text": [
      "2023-12-27 14:08:13,243 ERROR [imdbpy] /Users/mac/opt/anaconda3/lib/python3.9/site-packages/imdb/__init__.py:844: unknown information set \"genres\"\n"
     ]
    },
    {
     "name": "stdout",
     "output_type": "stream",
     "text": [
      "Flesh City:\n",
      "Genres: ['Horror']\n"
     ]
    },
    {
     "name": "stderr",
     "output_type": "stream",
     "text": [
      "2023-12-27 14:08:19,408 ERROR [imdbpy] /Users/mac/opt/anaconda3/lib/python3.9/site-packages/imdb/__init__.py:844: unknown information set \"genres\"\n"
     ]
    },
    {
     "name": "stdout",
     "output_type": "stream",
     "text": [
      "2025 Armageddon:\n",
      "Genres: ['Action', 'Sci-Fi']\n"
     ]
    },
    {
     "name": "stderr",
     "output_type": "stream",
     "text": [
      "2023-12-27 14:08:24,643 ERROR [imdbpy] /Users/mac/opt/anaconda3/lib/python3.9/site-packages/imdb/__init__.py:844: unknown information set \"genres\"\n"
     ]
    },
    {
     "name": "stdout",
     "output_type": "stream",
     "text": [
      "Run Sweetheart Run:\n",
      "Genres: ['Horror', 'Thriller']\n"
     ]
    },
    {
     "name": "stderr",
     "output_type": "stream",
     "text": [
      "2023-12-27 14:08:29,043 ERROR [imdbpy] /Users/mac/opt/anaconda3/lib/python3.9/site-packages/imdb/__init__.py:844: unknown information set \"genres\"\n"
     ]
    },
    {
     "name": "stdout",
     "output_type": "stream",
     "text": [
      "K.G.F: Chapter 1:\n",
      "Genres: ['Action', 'Crime', 'Drama', 'Thriller']\n"
     ]
    },
    {
     "name": "stderr",
     "output_type": "stream",
     "text": [
      "2023-12-27 14:08:39,251 ERROR [imdbpy] /Users/mac/opt/anaconda3/lib/python3.9/site-packages/imdb/__init__.py:844: unknown information set \"genres\"\n"
     ]
    },
    {
     "name": "stdout",
     "output_type": "stream",
     "text": [
      "Holmes & Watson:\n",
      "Genres: ['Comedy', 'Crime', 'Mystery']\n"
     ]
    },
    {
     "name": "stderr",
     "output_type": "stream",
     "text": [
      "2023-12-27 14:08:44,556 ERROR [imdbpy] /Users/mac/opt/anaconda3/lib/python3.9/site-packages/imdb/__init__.py:844: unknown information set \"genres\"\n"
     ]
    },
    {
     "name": "stdout",
     "output_type": "stream",
     "text": [
      "Sugar Mountain:\n",
      "Genres: ['Drama', 'Thriller']\n"
     ]
    },
    {
     "name": "stderr",
     "output_type": "stream",
     "text": [
      "2023-12-27 14:08:51,953 ERROR [imdbpy] /Users/mac/opt/anaconda3/lib/python3.9/site-packages/imdb/__init__.py:844: unknown information set \"genres\"\n"
     ]
    },
    {
     "name": "stdout",
     "output_type": "stream",
     "text": [
      "Home Run:\n",
      "Genres: ['Drama', 'Sport']\n"
     ]
    },
    {
     "name": "stderr",
     "output_type": "stream",
     "text": [
      "2023-12-27 14:08:58,179 ERROR [imdbpy] /Users/mac/opt/anaconda3/lib/python3.9/site-packages/imdb/__init__.py:844: unknown information set \"genres\"\n"
     ]
    },
    {
     "name": "stdout",
     "output_type": "stream",
     "text": [
      "Viking Destiny:\n",
      "Genres: ['Action', 'Adventure', 'Fantasy']\n"
     ]
    },
    {
     "name": "stderr",
     "output_type": "stream",
     "text": [
      "2023-12-27 14:09:04,570 ERROR [imdbpy] /Users/mac/opt/anaconda3/lib/python3.9/site-packages/imdb/__init__.py:844: unknown information set \"genres\"\n"
     ]
    },
    {
     "name": "stdout",
     "output_type": "stream",
     "text": [
      "The Book of Daniel:\n",
      "Genres: ['Drama', 'History']\n"
     ]
    },
    {
     "name": "stderr",
     "output_type": "stream",
     "text": [
      "2023-12-27 14:09:13,220 ERROR [imdbpy] /Users/mac/opt/anaconda3/lib/python3.9/site-packages/imdb/__init__.py:844: unknown information set \"genres\"\n"
     ]
    },
    {
     "name": "stdout",
     "output_type": "stream",
     "text": [
      "Prassthanam:\n",
      "Genres: ['Action', 'Drama']\n"
     ]
    },
    {
     "name": "stderr",
     "output_type": "stream",
     "text": [
      "2023-12-27 14:09:23,057 ERROR [imdbpy] /Users/mac/opt/anaconda3/lib/python3.9/site-packages/imdb/__init__.py:844: unknown information set \"genres\"\n"
     ]
    },
    {
     "name": "stdout",
     "output_type": "stream",
     "text": [
      "Gnaw:\n",
      "Genres: ['Horror']\n"
     ]
    },
    {
     "name": "stderr",
     "output_type": "stream",
     "text": [
      "2023-12-27 14:09:33,237 ERROR [imdbpy] /Users/mac/opt/anaconda3/lib/python3.9/site-packages/imdb/__init__.py:844: unknown information set \"genres\"\n"
     ]
    },
    {
     "name": "stdout",
     "output_type": "stream",
     "text": [
      "Desconectados:\n",
      "Genres: ['Comedy']\n"
     ]
    },
    {
     "name": "stderr",
     "output_type": "stream",
     "text": [
      "2023-12-27 14:09:40,811 ERROR [imdbpy] /Users/mac/opt/anaconda3/lib/python3.9/site-packages/imdb/__init__.py:844: unknown information set \"genres\"\n"
     ]
    },
    {
     "name": "stdout",
     "output_type": "stream",
     "text": [
      "Givers of Death:\n",
      "Genres: ['Sci-Fi']\n"
     ]
    },
    {
     "name": "stderr",
     "output_type": "stream",
     "text": [
      "2023-12-27 14:09:48,892 ERROR [imdbpy] /Users/mac/opt/anaconda3/lib/python3.9/site-packages/imdb/__init__.py:844: unknown information set \"genres\"\n"
     ]
    },
    {
     "name": "stdout",
     "output_type": "stream",
     "text": [
      "The Jack in the Box:\n",
      "Genres: ['Horror']\n"
     ]
    },
    {
     "name": "stderr",
     "output_type": "stream",
     "text": [
      "2023-12-27 14:09:59,147 ERROR [imdbpy] /Users/mac/opt/anaconda3/lib/python3.9/site-packages/imdb/__init__.py:844: unknown information set \"genres\"\n"
     ]
    },
    {
     "name": "stdout",
     "output_type": "stream",
     "text": [
      "The Final Wish:\n",
      "Genres: ['Horror']\n"
     ]
    },
    {
     "name": "stderr",
     "output_type": "stream",
     "text": [
      "2023-12-27 14:10:05,476 ERROR [imdbpy] /Users/mac/opt/anaconda3/lib/python3.9/site-packages/imdb/__init__.py:844: unknown information set \"genres\"\n"
     ]
    },
    {
     "name": "stdout",
     "output_type": "stream",
     "text": [
      "You're Not Alone:\n",
      "Genres: ['Thriller']\n"
     ]
    },
    {
     "name": "stderr",
     "output_type": "stream",
     "text": [
      "2023-12-27 14:10:14,966 ERROR [imdbpy] /Users/mac/opt/anaconda3/lib/python3.9/site-packages/imdb/__init__.py:844: unknown information set \"genres\"\n"
     ]
    },
    {
     "name": "stdout",
     "output_type": "stream",
     "text": [
      "Rising Wolf:\n",
      "Genres: ['Fantasy', 'Mystery', 'Sci-Fi', 'Thriller']\n"
     ]
    },
    {
     "name": "stderr",
     "output_type": "stream",
     "text": [
      "2023-12-27 14:10:23,893 ERROR [imdbpy] /Users/mac/opt/anaconda3/lib/python3.9/site-packages/imdb/__init__.py:844: unknown information set \"genres\"\n"
     ]
    },
    {
     "name": "stdout",
     "output_type": "stream",
     "text": [
      "Juang:\n",
      "Genres: ['Action', 'Drama', 'Thriller']\n"
     ]
    },
    {
     "name": "stderr",
     "output_type": "stream",
     "text": [
      "2023-12-27 14:10:31,204 ERROR [imdbpy] /Users/mac/opt/anaconda3/lib/python3.9/site-packages/imdb/__init__.py:844: unknown information set \"genres\"\n"
     ]
    },
    {
     "name": "stdout",
     "output_type": "stream",
     "text": [
      "A Killer Next Door:\n",
      "Genres: ['Thriller']\n"
     ]
    },
    {
     "name": "stderr",
     "output_type": "stream",
     "text": [
      "2023-12-27 14:10:38,643 ERROR [imdbpy] /Users/mac/opt/anaconda3/lib/python3.9/site-packages/imdb/__init__.py:844: unknown information set \"genres\"\n"
     ]
    },
    {
     "name": "stdout",
     "output_type": "stream",
     "text": [
      "The Grotto:\n",
      "Genres: ['Comedy', 'Drama']\n"
     ]
    },
    {
     "name": "stderr",
     "output_type": "stream",
     "text": [
      "2023-12-27 14:10:46,263 ERROR [imdbpy] /Users/mac/opt/anaconda3/lib/python3.9/site-packages/imdb/__init__.py:844: unknown information set \"genres\"\n"
     ]
    },
    {
     "name": "stdout",
     "output_type": "stream",
     "text": [
      "Blaze:\n",
      "Genres: ['Biography', 'Drama', 'Music']\n"
     ]
    },
    {
     "name": "stderr",
     "output_type": "stream",
     "text": [
      "2023-12-27 14:10:54,923 ERROR [imdbpy] /Users/mac/opt/anaconda3/lib/python3.9/site-packages/imdb/__init__.py:844: unknown information set \"genres\"\n"
     ]
    },
    {
     "name": "stdout",
     "output_type": "stream",
     "text": [
      "Abominable:\n",
      "Genres: ['Animation', 'Adventure', 'Comedy', 'Family', 'Fantasy']\n"
     ]
    },
    {
     "name": "stderr",
     "output_type": "stream",
     "text": [
      "2023-12-27 14:11:01,370 ERROR [imdbpy] /Users/mac/opt/anaconda3/lib/python3.9/site-packages/imdb/__init__.py:844: unknown information set \"genres\"\n"
     ]
    },
    {
     "name": "stdout",
     "output_type": "stream",
     "text": [
      "A Rising Tide:\n",
      "Genres: ['Drama', 'Romance']\n"
     ]
    },
    {
     "name": "stderr",
     "output_type": "stream",
     "text": [
      "2023-12-27 14:11:07,312 ERROR [imdbpy] /Users/mac/opt/anaconda3/lib/python3.9/site-packages/imdb/__init__.py:844: unknown information set \"genres\"\n"
     ]
    },
    {
     "name": "stdout",
     "output_type": "stream",
     "text": [
      "Lost in the Living:\n",
      "Genres: ['Drama']\n"
     ]
    },
    {
     "name": "stderr",
     "output_type": "stream",
     "text": [
      "2023-12-27 14:11:17,038 ERROR [imdbpy] /Users/mac/opt/anaconda3/lib/python3.9/site-packages/imdb/__init__.py:844: unknown information set \"genres\"\n"
     ]
    },
    {
     "name": "stdout",
     "output_type": "stream",
     "text": [
      "Citizen K:\n",
      "Genres: ['Drama', 'Mystery']\n"
     ]
    },
    {
     "name": "stderr",
     "output_type": "stream",
     "text": [
      "2023-12-27 14:11:26,423 ERROR [imdbpy] /Users/mac/opt/anaconda3/lib/python3.9/site-packages/imdb/__init__.py:844: unknown information set \"genres\"\n"
     ]
    },
    {
     "name": "stdout",
     "output_type": "stream",
     "text": [
      "Dune:\n",
      "Genres: ['Action', 'Adventure', 'Drama', 'Sci-Fi']\n"
     ]
    },
    {
     "name": "stderr",
     "output_type": "stream",
     "text": [
      "2023-12-27 14:11:32,121 ERROR [imdbpy] /Users/mac/opt/anaconda3/lib/python3.9/site-packages/imdb/__init__.py:844: unknown information set \"genres\"\n"
     ]
    },
    {
     "name": "stdout",
     "output_type": "stream",
     "text": [
      "Ryan James: I'm Fine:\n",
      "Genres: ['Comedy']\n"
     ]
    },
    {
     "name": "stderr",
     "output_type": "stream",
     "text": [
      "2023-12-27 14:11:38,923 ERROR [imdbpy] /Users/mac/opt/anaconda3/lib/python3.9/site-packages/imdb/__init__.py:844: unknown information set \"genres\"\n"
     ]
    },
    {
     "name": "stdout",
     "output_type": "stream",
     "text": [
      "Pada:\n",
      "Genres: ['Crime', 'Drama', 'Thriller']\n"
     ]
    },
    {
     "name": "stderr",
     "output_type": "stream",
     "text": [
      "2023-12-27 14:11:45,521 ERROR [imdbpy] /Users/mac/opt/anaconda3/lib/python3.9/site-packages/imdb/__init__.py:844: unknown information set \"genres\"\n"
     ]
    },
    {
     "name": "stdout",
     "output_type": "stream",
     "text": [
      "1BR:\n",
      "Genres: ['Drama', 'Horror', 'Thriller']\n"
     ]
    },
    {
     "name": "stderr",
     "output_type": "stream",
     "text": [
      "2023-12-27 14:11:51,887 ERROR [imdbpy] /Users/mac/opt/anaconda3/lib/python3.9/site-packages/imdb/__init__.py:844: unknown information set \"genres\"\n"
     ]
    },
    {
     "name": "stdout",
     "output_type": "stream",
     "text": [
      "Human Animals:\n",
      "Genres: ['Adventure', 'Drama']\n"
     ]
    },
    {
     "name": "stderr",
     "output_type": "stream",
     "text": [
      "2023-12-27 14:11:58,451 ERROR [imdbpy] /Users/mac/opt/anaconda3/lib/python3.9/site-packages/imdb/__init__.py:844: unknown information set \"genres\"\n"
     ]
    },
    {
     "name": "stdout",
     "output_type": "stream",
     "text": [
      "Dog Years:\n",
      "Genres: ['Drama']\n"
     ]
    },
    {
     "name": "stderr",
     "output_type": "stream",
     "text": [
      "2023-12-27 14:12:04,575 ERROR [imdbpy] /Users/mac/opt/anaconda3/lib/python3.9/site-packages/imdb/__init__.py:844: unknown information set \"genres\"\n"
     ]
    },
    {
     "name": "stdout",
     "output_type": "stream",
     "text": [
      "Dawn:\n",
      "Genres: ['Animation', 'Adventure', 'Comedy', 'Family']\n"
     ]
    },
    {
     "name": "stderr",
     "output_type": "stream",
     "text": [
      "2023-12-27 14:12:10,118 ERROR [imdbpy] /Users/mac/opt/anaconda3/lib/python3.9/site-packages/imdb/__init__.py:844: unknown information set \"genres\"\n"
     ]
    },
    {
     "name": "stdout",
     "output_type": "stream",
     "text": [
      "The Real Taylor Swift: Wild Dreams:\n",
      "Genres: ['Biography']\n"
     ]
    },
    {
     "name": "stderr",
     "output_type": "stream",
     "text": [
      "2023-12-27 14:12:15,461 ERROR [imdbpy] /Users/mac/opt/anaconda3/lib/python3.9/site-packages/imdb/__init__.py:844: unknown information set \"genres\"\n"
     ]
    },
    {
     "name": "stdout",
     "output_type": "stream",
     "text": [
      "The Ice Road:\n",
      "Genres: ['Action', 'Adventure', 'Thriller']\n"
     ]
    },
    {
     "name": "stderr",
     "output_type": "stream",
     "text": [
      "2023-12-27 14:12:21,848 ERROR [imdbpy] /Users/mac/opt/anaconda3/lib/python3.9/site-packages/imdb/__init__.py:844: unknown information set \"genres\"\n"
     ]
    },
    {
     "name": "stdout",
     "output_type": "stream",
     "text": [
      "Daddy:\n",
      "Genres: ['Comedy', 'Drama']\n"
     ]
    },
    {
     "name": "stderr",
     "output_type": "stream",
     "text": [
      "2023-12-27 14:12:28,664 ERROR [imdbpy] /Users/mac/opt/anaconda3/lib/python3.9/site-packages/imdb/__init__.py:844: unknown information set \"genres\"\n"
     ]
    },
    {
     "name": "stdout",
     "output_type": "stream",
     "text": [
      "Bandit:\n",
      "Genres: ['Crime', 'Drama', 'Thriller']\n"
     ]
    },
    {
     "name": "stderr",
     "output_type": "stream",
     "text": [
      "2023-12-27 14:12:34,040 ERROR [imdbpy] /Users/mac/opt/anaconda3/lib/python3.9/site-packages/imdb/__init__.py:844: unknown information set \"genres\"\n"
     ]
    },
    {
     "name": "stdout",
     "output_type": "stream",
     "text": [
      "The Sleep Experiment:\n",
      "Genres: ['Horror', 'Mystery', 'Thriller']\n"
     ]
    },
    {
     "name": "stderr",
     "output_type": "stream",
     "text": [
      "2023-12-27 14:12:42,281 ERROR [imdbpy] /Users/mac/opt/anaconda3/lib/python3.9/site-packages/imdb/__init__.py:844: unknown information set \"genres\"\n"
     ]
    },
    {
     "name": "stdout",
     "output_type": "stream",
     "text": [
      "Marcus:\n",
      "Genres: ['Drama']\n"
     ]
    },
    {
     "name": "stderr",
     "output_type": "stream",
     "text": [
      "2023-12-27 14:12:48,325 ERROR [imdbpy] /Users/mac/opt/anaconda3/lib/python3.9/site-packages/imdb/__init__.py:844: unknown information set \"genres\"\n"
     ]
    },
    {
     "name": "stdout",
     "output_type": "stream",
     "text": [
      "Alpha Code:\n",
      "Genres: ['Mystery', 'Sci-Fi', 'Thriller']\n"
     ]
    },
    {
     "name": "stderr",
     "output_type": "stream",
     "text": [
      "2023-12-27 14:12:55,358 ERROR [imdbpy] /Users/mac/opt/anaconda3/lib/python3.9/site-packages/imdb/__init__.py:844: unknown information set \"genres\"\n"
     ]
    },
    {
     "name": "stdout",
     "output_type": "stream",
     "text": [
      "The Orange Man:\n",
      "Genres: ['Comedy', 'Horror']\n"
     ]
    },
    {
     "name": "stderr",
     "output_type": "stream",
     "text": [
      "2023-12-27 14:12:59,986 ERROR [imdbpy] /Users/mac/opt/anaconda3/lib/python3.9/site-packages/imdb/__init__.py:844: unknown information set \"genres\"\n"
     ]
    },
    {
     "name": "stdout",
     "output_type": "stream",
     "text": [
      "Surviving Gaza:\n",
      "Genres: ['Crime']\n"
     ]
    },
    {
     "name": "stderr",
     "output_type": "stream",
     "text": [
      "2023-12-27 14:13:05,919 ERROR [imdbpy] /Users/mac/opt/anaconda3/lib/python3.9/site-packages/imdb/__init__.py:844: unknown information set \"genres\"\n"
     ]
    },
    {
     "name": "stdout",
     "output_type": "stream",
     "text": [
      "Ambili:\n",
      "Genres: ['Adventure', 'Comedy', 'Drama']\n"
     ]
    },
    {
     "name": "stderr",
     "output_type": "stream",
     "text": [
      "2023-12-27 14:13:17,114 ERROR [imdbpy] /Users/mac/opt/anaconda3/lib/python3.9/site-packages/imdb/__init__.py:844: unknown information set \"genres\"\n"
     ]
    },
    {
     "name": "stdout",
     "output_type": "stream",
     "text": [
      "Abigail Haunting:\n",
      "Genres: ['Horror']\n"
     ]
    },
    {
     "name": "stderr",
     "output_type": "stream",
     "text": [
      "2023-12-27 14:13:28,512 ERROR [imdbpy] /Users/mac/opt/anaconda3/lib/python3.9/site-packages/imdb/__init__.py:844: unknown information set \"genres\"\n"
     ]
    },
    {
     "name": "stdout",
     "output_type": "stream",
     "text": [
      "Waiting for the Barbarians:\n",
      "Genres: ['Drama', 'History']\n"
     ]
    },
    {
     "name": "stderr",
     "output_type": "stream",
     "text": [
      "2023-12-27 14:13:38,247 ERROR [imdbpy] /Users/mac/opt/anaconda3/lib/python3.9/site-packages/imdb/__init__.py:844: unknown information set \"genres\"\n"
     ]
    },
    {
     "name": "stdout",
     "output_type": "stream",
     "text": [
      "Majili:\n",
      "Genres: ['Drama', 'Romance']\n"
     ]
    },
    {
     "name": "stderr",
     "output_type": "stream",
     "text": [
      "2023-12-27 14:13:45,455 ERROR [imdbpy] /Users/mac/opt/anaconda3/lib/python3.9/site-packages/imdb/__init__.py:844: unknown information set \"genres\"\n"
     ]
    },
    {
     "name": "stdout",
     "output_type": "stream",
     "text": [
      "Central Park:\n",
      "Genres: ['Animation', 'Comedy', 'Musical']\n"
     ]
    },
    {
     "name": "stderr",
     "output_type": "stream",
     "text": [
      "2023-12-27 14:13:51,251 ERROR [imdbpy] /Users/mac/opt/anaconda3/lib/python3.9/site-packages/imdb/__init__.py:844: unknown information set \"genres\"\n"
     ]
    },
    {
     "name": "stdout",
     "output_type": "stream",
     "text": [
      "Broken Darkness:\n",
      "Genres: ['Action', 'Drama', 'Sci-Fi', 'Thriller']\n"
     ]
    },
    {
     "name": "stderr",
     "output_type": "stream",
     "text": [
      "2023-12-27 14:13:58,325 ERROR [imdbpy] /Users/mac/opt/anaconda3/lib/python3.9/site-packages/imdb/__init__.py:844: unknown information set \"genres\"\n"
     ]
    },
    {
     "name": "stdout",
     "output_type": "stream",
     "text": [
      "The Extraordinary Journey of the Fakir:\n",
      "Genres: ['Adventure', 'Comedy', 'Drama']\n"
     ]
    },
    {
     "name": "stderr",
     "output_type": "stream",
     "text": [
      "2023-12-27 14:14:07,072 ERROR [imdbpy] /Users/mac/opt/anaconda3/lib/python3.9/site-packages/imdb/__init__.py:844: unknown information set \"genres\"\n"
     ]
    },
    {
     "name": "stdout",
     "output_type": "stream",
     "text": [
      "The Island:\n",
      "Genres: ['Action', 'Sci-Fi', 'Thriller']\n"
     ]
    },
    {
     "name": "stderr",
     "output_type": "stream",
     "text": [
      "2023-12-27 14:14:14,955 ERROR [imdbpy] /Users/mac/opt/anaconda3/lib/python3.9/site-packages/imdb/__init__.py:844: unknown information set \"genres\"\n"
     ]
    },
    {
     "name": "stdout",
     "output_type": "stream",
     "text": [
      "Wait for Your Laugh:\n",
      "Genres: ['Documentary', 'Biography', 'Comedy']\n"
     ]
    },
    {
     "name": "stderr",
     "output_type": "stream",
     "text": [
      "2023-12-27 14:14:23,573 ERROR [imdbpy] /Users/mac/opt/anaconda3/lib/python3.9/site-packages/imdb/__init__.py:844: unknown information set \"genres\"\n"
     ]
    },
    {
     "name": "stdout",
     "output_type": "stream",
     "text": [
      "Lucifer:\n",
      "Genres: ['Crime', 'Drama', 'Fantasy']\n"
     ]
    },
    {
     "name": "stderr",
     "output_type": "stream",
     "text": [
      "2023-12-27 14:14:29,932 ERROR [imdbpy] /Users/mac/opt/anaconda3/lib/python3.9/site-packages/imdb/__init__.py:844: unknown information set \"genres\"\n"
     ]
    },
    {
     "name": "stdout",
     "output_type": "stream",
     "text": [
      "Bound to Vengeance:\n",
      "Genres: ['Horror', 'Thriller']\n"
     ]
    },
    {
     "name": "stderr",
     "output_type": "stream",
     "text": [
      "2023-12-27 14:14:35,231 ERROR [imdbpy] /Users/mac/opt/anaconda3/lib/python3.9/site-packages/imdb/__init__.py:844: unknown information set \"genres\"\n"
     ]
    },
    {
     "name": "stdout",
     "output_type": "stream",
     "text": [
      "Blackstock Boneyard:\n",
      "Genres: ['Horror']\n"
     ]
    },
    {
     "name": "stderr",
     "output_type": "stream",
     "text": [
      "2023-12-27 14:14:41,992 ERROR [imdbpy] /Users/mac/opt/anaconda3/lib/python3.9/site-packages/imdb/__init__.py:844: unknown information set \"genres\"\n"
     ]
    },
    {
     "name": "stdout",
     "output_type": "stream",
     "text": [
      "Aruvi:\n",
      "Genres: ['Not available']\n"
     ]
    },
    {
     "name": "stderr",
     "output_type": "stream",
     "text": [
      "2023-12-27 14:14:48,033 ERROR [imdbpy] /Users/mac/opt/anaconda3/lib/python3.9/site-packages/imdb/__init__.py:844: unknown information set \"genres\"\n"
     ]
    },
    {
     "name": "stdout",
     "output_type": "stream",
     "text": [
      "Broil:\n",
      "Genres: ['Fantasy', 'Horror', 'Thriller']\n"
     ]
    },
    {
     "name": "stderr",
     "output_type": "stream",
     "text": [
      "2023-12-27 14:14:55,436 ERROR [imdbpy] /Users/mac/opt/anaconda3/lib/python3.9/site-packages/imdb/__init__.py:844: unknown information set \"genres\"\n"
     ]
    },
    {
     "name": "stdout",
     "output_type": "stream",
     "text": [
      "Vintage Tomorrows:\n",
      "Genres: ['Documentary']\n"
     ]
    },
    {
     "name": "stderr",
     "output_type": "stream",
     "text": [
      "2023-12-27 14:15:01,907 ERROR [imdbpy] /Users/mac/opt/anaconda3/lib/python3.9/site-packages/imdb/__init__.py:844: unknown information set \"genres\"\n"
     ]
    },
    {
     "name": "stdout",
     "output_type": "stream",
     "text": [
      "Youth in Oregon:\n",
      "Genres: ['Comedy', 'Drama']\n"
     ]
    },
    {
     "name": "stderr",
     "output_type": "stream",
     "text": [
      "2023-12-27 14:15:07,268 ERROR [imdbpy] /Users/mac/opt/anaconda3/lib/python3.9/site-packages/imdb/__init__.py:844: unknown information set \"genres\"\n"
     ]
    },
    {
     "name": "stdout",
     "output_type": "stream",
     "text": [
      "Joji:\n",
      "Genres: ['Crime', 'Drama']\n"
     ]
    },
    {
     "name": "stderr",
     "output_type": "stream",
     "text": [
      "2023-12-27 14:15:13,203 ERROR [imdbpy] /Users/mac/opt/anaconda3/lib/python3.9/site-packages/imdb/__init__.py:844: unknown information set \"genres\"\n"
     ]
    },
    {
     "name": "stdout",
     "output_type": "stream",
     "text": [
      "The Last Shift:\n",
      "Genres: ['Comedy', 'Drama']\n"
     ]
    },
    {
     "name": "stderr",
     "output_type": "stream",
     "text": [
      "2023-12-27 14:15:21,020 ERROR [imdbpy] /Users/mac/opt/anaconda3/lib/python3.9/site-packages/imdb/__init__.py:844: unknown information set \"genres\"\n"
     ]
    },
    {
     "name": "stdout",
     "output_type": "stream",
     "text": [
      "Little Tickles:\n",
      "Genres: ['Comedy', 'Drama']\n"
     ]
    },
    {
     "name": "stderr",
     "output_type": "stream",
     "text": [
      "2023-12-27 14:15:26,304 ERROR [imdbpy] /Users/mac/opt/anaconda3/lib/python3.9/site-packages/imdb/__init__.py:844: unknown information set \"genres\"\n"
     ]
    },
    {
     "name": "stdout",
     "output_type": "stream",
     "text": [
      "Ashgrove:\n",
      "Genres: ['Drama']\n"
     ]
    },
    {
     "name": "stderr",
     "output_type": "stream",
     "text": [
      "2023-12-27 14:15:34,435 ERROR [imdbpy] /Users/mac/opt/anaconda3/lib/python3.9/site-packages/imdb/__init__.py:844: unknown information set \"genres\"\n"
     ]
    },
    {
     "name": "stdout",
     "output_type": "stream",
     "text": [
      "Legacy of Lies:\n",
      "Genres: ['Action', 'Thriller']\n"
     ]
    },
    {
     "name": "stderr",
     "output_type": "stream",
     "text": [
      "2023-12-27 14:15:41,291 ERROR [imdbpy] /Users/mac/opt/anaconda3/lib/python3.9/site-packages/imdb/__init__.py:844: unknown information set \"genres\"\n"
     ]
    },
    {
     "name": "stdout",
     "output_type": "stream",
     "text": [
      "Black Box:\n",
      "Genres: ['Drama', 'Mystery', 'Thriller']\n"
     ]
    },
    {
     "name": "stderr",
     "output_type": "stream",
     "text": [
      "2023-12-27 14:15:47,069 ERROR [imdbpy] /Users/mac/opt/anaconda3/lib/python3.9/site-packages/imdb/__init__.py:844: unknown information set \"genres\"\n"
     ]
    },
    {
     "name": "stdout",
     "output_type": "stream",
     "text": [
      "Bryan Callen: Complicated Apes:\n",
      "Genres: ['Comedy']\n"
     ]
    },
    {
     "name": "stderr",
     "output_type": "stream",
     "text": [
      "2023-12-27 14:15:53,943 ERROR [imdbpy] /Users/mac/opt/anaconda3/lib/python3.9/site-packages/imdb/__init__.py:844: unknown information set \"genres\"\n"
     ]
    },
    {
     "name": "stdout",
     "output_type": "stream",
     "text": [
      "A Snapshot of Forever:\n",
      "Genres: ['Comedy', 'Romance']\n"
     ]
    },
    {
     "name": "stderr",
     "output_type": "stream",
     "text": [
      "2023-12-27 14:16:00,465 ERROR [imdbpy] /Users/mac/opt/anaconda3/lib/python3.9/site-packages/imdb/__init__.py:844: unknown information set \"genres\"\n"
     ]
    },
    {
     "name": "stdout",
     "output_type": "stream",
     "text": [
      "The Courtship:\n",
      "Genres: ['Reality-TV', 'Romance']\n"
     ]
    },
    {
     "name": "stderr",
     "output_type": "stream",
     "text": [
      "2023-12-27 14:16:06,634 ERROR [imdbpy] /Users/mac/opt/anaconda3/lib/python3.9/site-packages/imdb/__init__.py:844: unknown information set \"genres\"\n"
     ]
    },
    {
     "name": "stdout",
     "output_type": "stream",
     "text": [
      "Lavender:\n",
      "Genres: ['Adventure', 'Horror', 'Mystery', 'Thriller']\n"
     ]
    },
    {
     "name": "stderr",
     "output_type": "stream",
     "text": [
      "2023-12-27 14:16:14,170 ERROR [imdbpy] /Users/mac/opt/anaconda3/lib/python3.9/site-packages/imdb/__init__.py:844: unknown information set \"genres\"\n"
     ]
    },
    {
     "name": "stdout",
     "output_type": "stream",
     "text": [
      "Skateshop:\n",
      "Genres: ['Comedy', 'Sport']\n"
     ]
    },
    {
     "name": "stderr",
     "output_type": "stream",
     "text": [
      "2023-12-27 14:16:21,416 ERROR [imdbpy] /Users/mac/opt/anaconda3/lib/python3.9/site-packages/imdb/__init__.py:844: unknown information set \"genres\"\n"
     ]
    },
    {
     "name": "stdout",
     "output_type": "stream",
     "text": [
      "Shark Waters:\n",
      "Genres: ['Horror', 'Thriller']\n"
     ]
    },
    {
     "name": "stderr",
     "output_type": "stream",
     "text": [
      "2023-12-27 14:16:41,992 ERROR [imdbpy] /Users/mac/opt/anaconda3/lib/python3.9/site-packages/imdb/__init__.py:844: unknown information set \"genres\"\n"
     ]
    },
    {
     "name": "stdout",
     "output_type": "stream",
     "text": [
      "AmeriGeddon:\n",
      "Genres: ['Action', 'Adventure', 'Drama', 'Thriller', 'War', 'Western']\n"
     ]
    },
    {
     "name": "stderr",
     "output_type": "stream",
     "text": [
      "2023-12-27 14:16:47,992 ERROR [imdbpy] /Users/mac/opt/anaconda3/lib/python3.9/site-packages/imdb/__init__.py:844: unknown information set \"genres\"\n"
     ]
    },
    {
     "name": "stdout",
     "output_type": "stream",
     "text": [
      "Pulling Push Doors:\n",
      "Genres: ['Comedy', 'Drama', 'Romance']\n"
     ]
    },
    {
     "name": "stderr",
     "output_type": "stream",
     "text": [
      "2023-12-27 14:16:56,365 ERROR [imdbpy] /Users/mac/opt/anaconda3/lib/python3.9/site-packages/imdb/__init__.py:844: unknown information set \"genres\"\n"
     ]
    },
    {
     "name": "stdout",
     "output_type": "stream",
     "text": [
      "Chasing Gold:\n",
      "Genres: ['Crime', 'Drama', 'Mystery', 'Thriller']\n"
     ]
    },
    {
     "name": "stderr",
     "output_type": "stream",
     "text": [
      "2023-12-27 14:17:02,290 ERROR [imdbpy] /Users/mac/opt/anaconda3/lib/python3.9/site-packages/imdb/__init__.py:844: unknown information set \"genres\"\n"
     ]
    },
    {
     "name": "stdout",
     "output_type": "stream",
     "text": [
      "The Killing Field:\n",
      "Genres: ['Biography', 'Drama', 'History', 'War']\n"
     ]
    },
    {
     "name": "stderr",
     "output_type": "stream",
     "text": [
      "2023-12-27 14:17:07,631 ERROR [imdbpy] /Users/mac/opt/anaconda3/lib/python3.9/site-packages/imdb/__init__.py:844: unknown information set \"genres\"\n"
     ]
    },
    {
     "name": "stdout",
     "output_type": "stream",
     "text": [
      "Blurred Lines: Inside the Art World:\n",
      "Genres: ['Documentary']\n"
     ]
    },
    {
     "name": "stderr",
     "output_type": "stream",
     "text": [
      "2023-12-27 14:17:15,816 ERROR [imdbpy] /Users/mac/opt/anaconda3/lib/python3.9/site-packages/imdb/__init__.py:844: unknown information set \"genres\"\n"
     ]
    },
    {
     "name": "stdout",
     "output_type": "stream",
     "text": [
      "Arjun Patiala:\n",
      "Genres: ['Action', 'Comedy']\n"
     ]
    },
    {
     "name": "stderr",
     "output_type": "stream",
     "text": [
      "2023-12-27 14:17:20,888 ERROR [imdbpy] /Users/mac/opt/anaconda3/lib/python3.9/site-packages/imdb/__init__.py:844: unknown information set \"genres\"\n"
     ]
    },
    {
     "name": "stdout",
     "output_type": "stream",
     "text": [
      "Sardaarji:\n",
      "Genres: ['Adventure', 'Comedy']\n"
     ]
    },
    {
     "name": "stderr",
     "output_type": "stream",
     "text": [
      "2023-12-27 14:17:28,228 ERROR [imdbpy] /Users/mac/opt/anaconda3/lib/python3.9/site-packages/imdb/__init__.py:844: unknown information set \"genres\"\n"
     ]
    },
    {
     "name": "stdout",
     "output_type": "stream",
     "text": [
      "Fall City:\n",
      "Genres: ['Action', 'Adventure', 'Fantasy', 'Romance', 'War']\n"
     ]
    },
    {
     "name": "stderr",
     "output_type": "stream",
     "text": [
      "2023-12-27 14:17:34,895 ERROR [imdbpy] /Users/mac/opt/anaconda3/lib/python3.9/site-packages/imdb/__init__.py:844: unknown information set \"genres\"\n"
     ]
    },
    {
     "name": "stdout",
     "output_type": "stream",
     "text": [
      "The Vast of Night:\n",
      "Genres: ['Drama', 'Mystery', 'Sci-Fi', 'Thriller']\n"
     ]
    },
    {
     "name": "stderr",
     "output_type": "stream",
     "text": [
      "2023-12-27 14:17:42,028 ERROR [imdbpy] /Users/mac/opt/anaconda3/lib/python3.9/site-packages/imdb/__init__.py:844: unknown information set \"genres\"\n"
     ]
    },
    {
     "name": "stdout",
     "output_type": "stream",
     "text": [
      "Jessica:\n",
      "Genres: ['Action', 'Crime', 'Drama', 'Sci-Fi', 'Thriller']\n"
     ]
    },
    {
     "name": "stderr",
     "output_type": "stream",
     "text": [
      "2023-12-27 14:17:48,024 ERROR [imdbpy] /Users/mac/opt/anaconda3/lib/python3.9/site-packages/imdb/__init__.py:844: unknown information set \"genres\"\n"
     ]
    },
    {
     "name": "stdout",
     "output_type": "stream",
     "text": [
      "Acts of Violence:\n",
      "Genres: ['Action', 'Crime', 'Thriller']\n"
     ]
    },
    {
     "name": "stderr",
     "output_type": "stream",
     "text": [
      "2023-12-27 14:17:53,510 ERROR [imdbpy] /Users/mac/opt/anaconda3/lib/python3.9/site-packages/imdb/__init__.py:844: unknown information set \"genres\"\n"
     ]
    },
    {
     "name": "stdout",
     "output_type": "stream",
     "text": [
      "Kannadi:\n",
      "Genres: ['Comedy', 'Romance']\n"
     ]
    },
    {
     "name": "stderr",
     "output_type": "stream",
     "text": [
      "2023-12-27 14:18:02,094 ERROR [imdbpy] /Users/mac/opt/anaconda3/lib/python3.9/site-packages/imdb/__init__.py:844: unknown information set \"genres\"\n"
     ]
    },
    {
     "name": "stdout",
     "output_type": "stream",
     "text": [
      "Haunted 3: Spirits:\n",
      "Genres: ['Horror']\n"
     ]
    },
    {
     "name": "stderr",
     "output_type": "stream",
     "text": [
      "2023-12-27 14:18:10,506 ERROR [imdbpy] /Users/mac/opt/anaconda3/lib/python3.9/site-packages/imdb/__init__.py:844: unknown information set \"genres\"\n"
     ]
    },
    {
     "name": "stdout",
     "output_type": "stream",
     "text": [
      "The Last Letter:\n",
      "Genres: ['Drama', 'Romance']\n"
     ]
    },
    {
     "name": "stderr",
     "output_type": "stream",
     "text": [
      "2023-12-27 14:18:18,346 ERROR [imdbpy] /Users/mac/opt/anaconda3/lib/python3.9/site-packages/imdb/__init__.py:844: unknown information set \"genres\"\n"
     ]
    },
    {
     "name": "stdout",
     "output_type": "stream",
     "text": [
      "Mindcage:\n",
      "Genres: ['Crime', 'Drama', 'Mystery', 'Thriller']\n"
     ]
    },
    {
     "name": "stderr",
     "output_type": "stream",
     "text": [
      "2023-12-27 14:18:27,066 ERROR [imdbpy] /Users/mac/opt/anaconda3/lib/python3.9/site-packages/imdb/__init__.py:844: unknown information set \"genres\"\n"
     ]
    },
    {
     "name": "stdout",
     "output_type": "stream",
     "text": [
      "Chasing the Dragon:\n",
      "Genres: ['Action', 'Biography', 'Crime', 'History']\n"
     ]
    },
    {
     "name": "stderr",
     "output_type": "stream",
     "text": [
      "2023-12-27 14:18:32,825 ERROR [imdbpy] /Users/mac/opt/anaconda3/lib/python3.9/site-packages/imdb/__init__.py:844: unknown information set \"genres\"\n"
     ]
    },
    {
     "name": "stdout",
     "output_type": "stream",
     "text": [
      "The Lodgers:\n",
      "Genres: ['Drama', 'Horror', 'Mystery', 'Romance', 'Thriller']\n"
     ]
    },
    {
     "name": "stderr",
     "output_type": "stream",
     "text": [
      "2023-12-27 14:18:40,252 ERROR [imdbpy] /Users/mac/opt/anaconda3/lib/python3.9/site-packages/imdb/__init__.py:844: unknown information set \"genres\"\n"
     ]
    },
    {
     "name": "stdout",
     "output_type": "stream",
     "text": [
      "Dancin' It's On!:\n",
      "Genres: ['Family', 'Musical', 'Romance']\n"
     ]
    },
    {
     "name": "stderr",
     "output_type": "stream",
     "text": [
      "2023-12-27 14:18:47,526 ERROR [imdbpy] /Users/mac/opt/anaconda3/lib/python3.9/site-packages/imdb/__init__.py:844: unknown information set \"genres\"\n"
     ]
    },
    {
     "name": "stdout",
     "output_type": "stream",
     "text": [
      "The Darkness:\n",
      "Genres: ['Adventure', 'Drama', 'Thriller']\n"
     ]
    },
    {
     "name": "stderr",
     "output_type": "stream",
     "text": [
      "2023-12-27 14:18:53,341 ERROR [imdbpy] /Users/mac/opt/anaconda3/lib/python3.9/site-packages/imdb/__init__.py:844: unknown information set \"genres\"\n"
     ]
    },
    {
     "name": "stdout",
     "output_type": "stream",
     "text": [
      "Goodnight Mommy:\n",
      "Genres: ['Crime', 'Drama', 'Horror', 'Mystery', 'Thriller']\n"
     ]
    },
    {
     "name": "stderr",
     "output_type": "stream",
     "text": [
      "2023-12-27 14:18:59,692 ERROR [imdbpy] /Users/mac/opt/anaconda3/lib/python3.9/site-packages/imdb/__init__.py:844: unknown information set \"genres\"\n"
     ]
    },
    {
     "name": "stdout",
     "output_type": "stream",
     "text": [
      "Higher Power:\n",
      "Genres: ['Action', 'Adventure', 'Sci-Fi', 'Thriller']\n"
     ]
    },
    {
     "name": "stderr",
     "output_type": "stream",
     "text": [
      "2023-12-27 14:19:05,687 ERROR [imdbpy] /Users/mac/opt/anaconda3/lib/python3.9/site-packages/imdb/__init__.py:844: unknown information set \"genres\"\n"
     ]
    },
    {
     "name": "stdout",
     "output_type": "stream",
     "text": [
      "The Trials of Cate McCall:\n",
      "Genres: ['Crime', 'Drama', 'Mystery', 'Thriller']\n"
     ]
    },
    {
     "name": "stderr",
     "output_type": "stream",
     "text": [
      "2023-12-27 14:19:12,461 ERROR [imdbpy] /Users/mac/opt/anaconda3/lib/python3.9/site-packages/imdb/__init__.py:844: unknown information set \"genres\"\n"
     ]
    },
    {
     "name": "stdout",
     "output_type": "stream",
     "text": [
      "Instant Death:\n",
      "Genres: ['Action']\n"
     ]
    },
    {
     "name": "stderr",
     "output_type": "stream",
     "text": [
      "2023-12-27 14:19:18,163 ERROR [imdbpy] /Users/mac/opt/anaconda3/lib/python3.9/site-packages/imdb/__init__.py:844: unknown information set \"genres\"\n"
     ]
    },
    {
     "name": "stdout",
     "output_type": "stream",
     "text": [
      "Inheritance:\n",
      "Genres: ['Drama', 'Mystery', 'Thriller']\n"
     ]
    },
    {
     "name": "stderr",
     "output_type": "stream",
     "text": [
      "2023-12-27 14:19:24,459 ERROR [imdbpy] /Users/mac/opt/anaconda3/lib/python3.9/site-packages/imdb/__init__.py:844: unknown information set \"genres\"\n"
     ]
    },
    {
     "name": "stdout",
     "output_type": "stream",
     "text": [
      "Way of the Cross:\n",
      "Genres: ['Action']\n"
     ]
    },
    {
     "name": "stderr",
     "output_type": "stream",
     "text": [
      "2023-12-27 14:19:30,297 ERROR [imdbpy] /Users/mac/opt/anaconda3/lib/python3.9/site-packages/imdb/__init__.py:844: unknown information set \"genres\"\n"
     ]
    },
    {
     "name": "stdout",
     "output_type": "stream",
     "text": [
      "Pitbull:\n",
      "Genres: ['Action', 'Crime', 'Drama', 'Thriller']\n"
     ]
    },
    {
     "name": "stderr",
     "output_type": "stream",
     "text": [
      "2023-12-27 14:19:36,302 ERROR [imdbpy] /Users/mac/opt/anaconda3/lib/python3.9/site-packages/imdb/__init__.py:844: unknown information set \"genres\"\n"
     ]
    },
    {
     "name": "stdout",
     "output_type": "stream",
     "text": [
      "Playhouse:\n",
      "Genres: ['Comedy', 'Family', 'Musical']\n"
     ]
    },
    {
     "name": "stderr",
     "output_type": "stream",
     "text": [
      "2023-12-27 14:19:44,623 ERROR [imdbpy] /Users/mac/opt/anaconda3/lib/python3.9/site-packages/imdb/__init__.py:844: unknown information set \"genres\"\n"
     ]
    },
    {
     "name": "stdout",
     "output_type": "stream",
     "text": [
      "Echoes of Fear:\n",
      "Genres: ['Horror', 'Mystery']\n"
     ]
    },
    {
     "name": "stderr",
     "output_type": "stream",
     "text": [
      "2023-12-27 14:19:50,566 ERROR [imdbpy] /Users/mac/opt/anaconda3/lib/python3.9/site-packages/imdb/__init__.py:844: unknown information set \"genres\"\n"
     ]
    },
    {
     "name": "stdout",
     "output_type": "stream",
     "text": [
      "The Witness:\n",
      "Genres: ['Crime', 'Drama', 'Mystery', 'Thriller']\n"
     ]
    },
    {
     "name": "stderr",
     "output_type": "stream",
     "text": [
      "2023-12-27 14:19:56,073 ERROR [imdbpy] /Users/mac/opt/anaconda3/lib/python3.9/site-packages/imdb/__init__.py:844: unknown information set \"genres\"\n"
     ]
    },
    {
     "name": "stdout",
     "output_type": "stream",
     "text": [
      "Bhoot: Part One - The Haunted Ship:\n",
      "Genres: ['Horror', 'Mystery', 'Thriller']\n"
     ]
    },
    {
     "name": "stderr",
     "output_type": "stream",
     "text": [
      "2023-12-27 14:20:02,074 ERROR [imdbpy] /Users/mac/opt/anaconda3/lib/python3.9/site-packages/imdb/__init__.py:844: unknown information set \"genres\"\n"
     ]
    },
    {
     "name": "stdout",
     "output_type": "stream",
     "text": [
      "Spoken:\n",
      "Genres: ['Drama']\n"
     ]
    },
    {
     "name": "stderr",
     "output_type": "stream",
     "text": [
      "2023-12-27 14:20:07,509 ERROR [imdbpy] /Users/mac/opt/anaconda3/lib/python3.9/site-packages/imdb/__init__.py:844: unknown information set \"genres\"\n"
     ]
    },
    {
     "name": "stdout",
     "output_type": "stream",
     "text": [
      "One Cut Two Cut:\n",
      "Genres: ['Comedy']\n"
     ]
    },
    {
     "name": "stderr",
     "output_type": "stream",
     "text": [
      "2023-12-27 14:20:14,444 ERROR [imdbpy] /Users/mac/opt/anaconda3/lib/python3.9/site-packages/imdb/__init__.py:844: unknown information set \"genres\"\n"
     ]
    },
    {
     "name": "stdout",
     "output_type": "stream",
     "text": [
      "Men who wanted to climb a mountain over 8000 meters:\n",
      "Genres: ['Documentary', 'Adventure']\n"
     ]
    },
    {
     "name": "stderr",
     "output_type": "stream",
     "text": [
      "2023-12-27 14:20:21,730 ERROR [imdbpy] /Users/mac/opt/anaconda3/lib/python3.9/site-packages/imdb/__init__.py:844: unknown information set \"genres\"\n"
     ]
    },
    {
     "name": "stdout",
     "output_type": "stream",
     "text": [
      "Master:\n",
      "Genres: ['Drama', 'Mystery', 'Thriller']\n"
     ]
    },
    {
     "name": "stderr",
     "output_type": "stream",
     "text": [
      "2023-12-27 14:20:29,005 ERROR [imdbpy] /Users/mac/opt/anaconda3/lib/python3.9/site-packages/imdb/__init__.py:844: unknown information set \"genres\"\n"
     ]
    },
    {
     "name": "stdout",
     "output_type": "stream",
     "text": [
      "Super Size Me 2: Holy Chicken!:\n",
      "Genres: ['Documentary']\n"
     ]
    },
    {
     "name": "stderr",
     "output_type": "stream",
     "text": [
      "2023-12-27 14:20:37,535 ERROR [imdbpy] /Users/mac/opt/anaconda3/lib/python3.9/site-packages/imdb/__init__.py:844: unknown information set \"genres\"\n"
     ]
    },
    {
     "name": "stdout",
     "output_type": "stream",
     "text": [
      "We Are Triathletes:\n",
      "Genres: ['Documentary']\n"
     ]
    },
    {
     "name": "stderr",
     "output_type": "stream",
     "text": [
      "2023-12-27 14:20:44,977 ERROR [imdbpy] /Users/mac/opt/anaconda3/lib/python3.9/site-packages/imdb/__init__.py:844: unknown information set \"genres\"\n"
     ]
    },
    {
     "name": "stdout",
     "output_type": "stream",
     "text": [
      "Christmas Pen Pals:\n",
      "Genres: ['Comedy', 'Drama', 'Romance']\n"
     ]
    },
    {
     "name": "stderr",
     "output_type": "stream",
     "text": [
      "2023-12-27 14:20:51,267 ERROR [imdbpy] /Users/mac/opt/anaconda3/lib/python3.9/site-packages/imdb/__init__.py:844: unknown information set \"genres\"\n"
     ]
    },
    {
     "name": "stdout",
     "output_type": "stream",
     "text": [
      "Bully:\n",
      "Genres: ['Biography', 'Crime', 'Drama']\n"
     ]
    },
    {
     "name": "stderr",
     "output_type": "stream",
     "text": [
      "2023-12-27 14:21:03,175 ERROR [imdbpy] /Users/mac/opt/anaconda3/lib/python3.9/site-packages/imdb/__init__.py:844: unknown information set \"genres\"\n"
     ]
    },
    {
     "name": "stdout",
     "output_type": "stream",
     "text": [
      "The Family:\n",
      "Genres: ['Action', 'Comedy']\n"
     ]
    },
    {
     "name": "stderr",
     "output_type": "stream",
     "text": [
      "2023-12-27 14:21:10,581 ERROR [imdbpy] /Users/mac/opt/anaconda3/lib/python3.9/site-packages/imdb/__init__.py:844: unknown information set \"genres\"\n"
     ]
    },
    {
     "name": "stdout",
     "output_type": "stream",
     "text": [
      "Dear Comrade:\n",
      "Genres: ['Action', 'Drama', 'Romance', 'Sport']\n"
     ]
    },
    {
     "name": "stderr",
     "output_type": "stream",
     "text": [
      "2023-12-27 14:21:19,314 ERROR [imdbpy] /Users/mac/opt/anaconda3/lib/python3.9/site-packages/imdb/__init__.py:844: unknown information set \"genres\"\n"
     ]
    },
    {
     "name": "stdout",
     "output_type": "stream",
     "text": [
      "Eating Our Way to Extinction:\n",
      "Genres: ['Documentary']\n"
     ]
    },
    {
     "name": "stderr",
     "output_type": "stream",
     "text": [
      "2023-12-27 14:21:26,862 ERROR [imdbpy] /Users/mac/opt/anaconda3/lib/python3.9/site-packages/imdb/__init__.py:844: unknown information set \"genres\"\n"
     ]
    },
    {
     "name": "stdout",
     "output_type": "stream",
     "text": [
      "Hello Charlie:\n",
      "Genres: ['Comedy']\n"
     ]
    },
    {
     "name": "stderr",
     "output_type": "stream",
     "text": [
      "2023-12-27 14:21:37,101 ERROR [imdbpy] /Users/mac/opt/anaconda3/lib/python3.9/site-packages/imdb/__init__.py:844: unknown information set \"genres\"\n"
     ]
    },
    {
     "name": "stdout",
     "output_type": "stream",
     "text": [
      "Goodachari:\n",
      "Genres: ['Action', 'Thriller']\n"
     ]
    },
    {
     "name": "stderr",
     "output_type": "stream",
     "text": [
      "2023-12-27 14:21:42,092 ERROR [imdbpy] /Users/mac/opt/anaconda3/lib/python3.9/site-packages/imdb/__init__.py:844: unknown information set \"genres\"\n"
     ]
    },
    {
     "name": "stdout",
     "output_type": "stream",
     "text": [
      "Gold Dust:\n",
      "Genres: ['Adventure', 'Comedy']\n"
     ]
    },
    {
     "name": "stderr",
     "output_type": "stream",
     "text": [
      "2023-12-27 14:21:48,700 ERROR [imdbpy] /Users/mac/opt/anaconda3/lib/python3.9/site-packages/imdb/__init__.py:844: unknown information set \"genres\"\n"
     ]
    },
    {
     "name": "stdout",
     "output_type": "stream",
     "text": [
      "Soft Lad:\n",
      "Genres: ['Drama', 'Romance']\n"
     ]
    },
    {
     "name": "stderr",
     "output_type": "stream",
     "text": [
      "2023-12-27 14:22:02,475 ERROR [imdbpy] /Users/mac/opt/anaconda3/lib/python3.9/site-packages/imdb/__init__.py:844: unknown information set \"genres\"\n"
     ]
    },
    {
     "name": "stdout",
     "output_type": "stream",
     "text": [
      "Film Fest:\n",
      "Genres: ['Comedy', 'Drama']\n"
     ]
    },
    {
     "name": "stderr",
     "output_type": "stream",
     "text": [
      "2023-12-27 14:22:11,697 ERROR [imdbpy] /Users/mac/opt/anaconda3/lib/python3.9/site-packages/imdb/__init__.py:844: unknown information set \"genres\"\n"
     ]
    },
    {
     "name": "stdout",
     "output_type": "stream",
     "text": [
      "Love, Kennedy:\n",
      "Genres: ['Drama']\n"
     ]
    },
    {
     "name": "stderr",
     "output_type": "stream",
     "text": [
      "2023-12-27 14:22:24,711 ERROR [imdbpy] /Users/mac/opt/anaconda3/lib/python3.9/site-packages/imdb/__init__.py:844: unknown information set \"genres\"\n"
     ]
    },
    {
     "name": "stdout",
     "output_type": "stream",
     "text": [
      "Finding Joy:\n",
      "Genres: ['Comedy']\n"
     ]
    },
    {
     "name": "stderr",
     "output_type": "stream",
     "text": [
      "2023-12-27 14:22:35,965 ERROR [imdbpy] /Users/mac/opt/anaconda3/lib/python3.9/site-packages/imdb/__init__.py:844: unknown information set \"genres\"\n"
     ]
    },
    {
     "name": "stdout",
     "output_type": "stream",
     "text": [
      "Ash & Dust:\n",
      "Genres: ['Crime', 'Thriller']\n"
     ]
    },
    {
     "name": "stderr",
     "output_type": "stream",
     "text": [
      "2023-12-27 14:22:44,439 ERROR [imdbpy] /Users/mac/opt/anaconda3/lib/python3.9/site-packages/imdb/__init__.py:844: unknown information set \"genres\"\n"
     ]
    },
    {
     "name": "stdout",
     "output_type": "stream",
     "text": [
      "Sita Ramam:\n",
      "Genres: ['Action', 'Drama', 'Mystery', 'Romance']\n"
     ]
    },
    {
     "name": "stderr",
     "output_type": "stream",
     "text": [
      "2023-12-27 14:23:20,994 ERROR [imdbpy] /Users/mac/opt/anaconda3/lib/python3.9/site-packages/imdb/__init__.py:844: unknown information set \"genres\"\n"
     ]
    },
    {
     "name": "stdout",
     "output_type": "stream",
     "text": [
      "The Street:\n",
      "Genres: ['Biography', 'Comedy', 'Crime', 'Drama']\n"
     ]
    },
    {
     "name": "stderr",
     "output_type": "stream",
     "text": [
      "2023-12-27 14:23:45,625 ERROR [imdbpy] /Users/mac/opt/anaconda3/lib/python3.9/site-packages/imdb/__init__.py:844: unknown information set \"genres\"\n"
     ]
    },
    {
     "name": "stdout",
     "output_type": "stream",
     "text": [
      "Black Circle:\n",
      "Genres: ['Horror']\n"
     ]
    },
    {
     "name": "stderr",
     "output_type": "stream",
     "text": [
      "2023-12-27 14:24:10,597 ERROR [imdbpy] /Users/mac/opt/anaconda3/lib/python3.9/site-packages/imdb/__init__.py:844: unknown information set \"genres\"\n"
     ]
    },
    {
     "name": "stdout",
     "output_type": "stream",
     "text": [
      "Blood on Her Name:\n",
      "Genres: ['Action', 'Crime', 'Drama', 'Mystery', 'Thriller']\n"
     ]
    },
    {
     "name": "stderr",
     "output_type": "stream",
     "text": [
      "2023-12-27 14:24:18,485 ERROR [imdbpy] /Users/mac/opt/anaconda3/lib/python3.9/site-packages/imdb/__init__.py:844: unknown information set \"genres\"\n"
     ]
    },
    {
     "name": "stdout",
     "output_type": "stream",
     "text": [
      "Anything's Possible:\n",
      "Genres: ['Drama', 'Romance']\n"
     ]
    },
    {
     "name": "stderr",
     "output_type": "stream",
     "text": [
      "2023-12-27 14:24:28,875 ERROR [imdbpy] /Users/mac/opt/anaconda3/lib/python3.9/site-packages/imdb/__init__.py:844: unknown information set \"genres\"\n"
     ]
    },
    {
     "name": "stdout",
     "output_type": "stream",
     "text": [
      "How We Got Gay:\n",
      "Genres: ['Documentary']\n"
     ]
    },
    {
     "name": "stderr",
     "output_type": "stream",
     "text": [
      "2023-12-27 14:24:45,772 ERROR [imdbpy] /Users/mac/opt/anaconda3/lib/python3.9/site-packages/imdb/__init__.py:844: unknown information set \"genres\"\n"
     ]
    },
    {
     "name": "stdout",
     "output_type": "stream",
     "text": [
      "Rammstein in Amerika:\n",
      "Genres: ['Documentary', 'Music']\n"
     ]
    },
    {
     "name": "stderr",
     "output_type": "stream",
     "text": [
      "2023-12-27 14:24:55,541 ERROR [imdbpy] /Users/mac/opt/anaconda3/lib/python3.9/site-packages/imdb/__init__.py:844: unknown information set \"genres\"\n"
     ]
    },
    {
     "name": "stdout",
     "output_type": "stream",
     "text": [
      "Operation Overlord:\n",
      "Genres: ['War']\n"
     ]
    },
    {
     "name": "stderr",
     "output_type": "stream",
     "text": [
      "2023-12-27 14:25:03,458 ERROR [imdbpy] /Users/mac/opt/anaconda3/lib/python3.9/site-packages/imdb/__init__.py:844: unknown information set \"genres\"\n"
     ]
    },
    {
     "name": "stdout",
     "output_type": "stream",
     "text": [
      "Electronic Dance Music - A Top Export from Germany:\n",
      "Genres: ['Documentary', 'Biography', 'Music']\n"
     ]
    },
    {
     "name": "stderr",
     "output_type": "stream",
     "text": [
      "2023-12-27 14:25:40,274 ERROR [imdbpy] /Users/mac/opt/anaconda3/lib/python3.9/site-packages/imdb/__init__.py:844: unknown information set \"genres\"\n"
     ]
    },
    {
     "name": "stdout",
     "output_type": "stream",
     "text": [
      "Devotion:\n",
      "Genres: ['Action', 'Biography', 'Drama', 'War']\n"
     ]
    },
    {
     "name": "stderr",
     "output_type": "stream",
     "text": [
      "2023-12-27 14:26:04,560 ERROR [imdbpy] /Users/mac/opt/anaconda3/lib/python3.9/site-packages/imdb/__init__.py:844: unknown information set \"genres\"\n"
     ]
    },
    {
     "name": "stdout",
     "output_type": "stream",
     "text": [
      "Edge of Extinction:\n",
      "Genres: ['Action', 'Sci-Fi', 'Thriller']\n"
     ]
    },
    {
     "name": "stderr",
     "output_type": "stream",
     "text": [
      "2023-12-27 14:26:37,316 ERROR [imdbpy] /Users/mac/opt/anaconda3/lib/python3.9/site-packages/imdb/__init__.py:844: unknown information set \"genres\"\n"
     ]
    },
    {
     "name": "stdout",
     "output_type": "stream",
     "text": [
      "M.O.M. Mothers of Monsters:\n",
      "Genres: ['Drama', 'Horror', 'Thriller']\n"
     ]
    },
    {
     "name": "stderr",
     "output_type": "stream",
     "text": [
      "2023-12-27 14:27:15,506 ERROR [imdbpy] /Users/mac/opt/anaconda3/lib/python3.9/site-packages/imdb/__init__.py:844: unknown information set \"genres\"\n"
     ]
    },
    {
     "name": "stdout",
     "output_type": "stream",
     "text": [
      "Against the Night:\n",
      "Genres: ['Horror', 'Mystery', 'Thriller']\n"
     ]
    },
    {
     "name": "stderr",
     "output_type": "stream",
     "text": [
      "2023-12-27 14:27:25,826 ERROR [imdbpy] /Users/mac/opt/anaconda3/lib/python3.9/site-packages/imdb/__init__.py:844: unknown information set \"genres\"\n"
     ]
    },
    {
     "name": "stdout",
     "output_type": "stream",
     "text": [
      "Sanctuary:\n",
      "Genres: ['Drama', 'Thriller']\n"
     ]
    },
    {
     "name": "stderr",
     "output_type": "stream",
     "text": [
      "2023-12-27 14:27:33,142 ERROR [imdbpy] /Users/mac/opt/anaconda3/lib/python3.9/site-packages/imdb/__init__.py:844: unknown information set \"genres\"\n"
     ]
    },
    {
     "name": "stdout",
     "output_type": "stream",
     "text": [
      "Apollo Astronauts: Training NASA's Moon Men:\n",
      "Genres: ['Documentary']\n"
     ]
    },
    {
     "name": "stderr",
     "output_type": "stream",
     "text": [
      "2023-12-27 14:27:45,262 ERROR [imdbpy] /Users/mac/opt/anaconda3/lib/python3.9/site-packages/imdb/__init__.py:844: unknown information set \"genres\"\n"
     ]
    },
    {
     "name": "stdout",
     "output_type": "stream",
     "text": [
      "Everybody's Talking About Jamie:\n",
      "Genres: ['Biography', 'Comedy', 'Drama', 'Musical']\n"
     ]
    },
    {
     "name": "stderr",
     "output_type": "stream",
     "text": [
      "2023-12-27 14:27:52,602 ERROR [imdbpy] /Users/mac/opt/anaconda3/lib/python3.9/site-packages/imdb/__init__.py:844: unknown information set \"genres\"\n"
     ]
    },
    {
     "name": "stdout",
     "output_type": "stream",
     "text": [
      "Kaala:\n",
      "Genres: ['Drama', 'Thriller']\n"
     ]
    },
    {
     "name": "stderr",
     "output_type": "stream",
     "text": [
      "2023-12-27 14:28:02,244 ERROR [imdbpy] /Users/mac/opt/anaconda3/lib/python3.9/site-packages/imdb/__init__.py:844: unknown information set \"genres\"\n"
     ]
    },
    {
     "name": "stdout",
     "output_type": "stream",
     "text": [
      "Hawa:\n",
      "Genres: ['Drama', 'Mystery']\n"
     ]
    },
    {
     "name": "stderr",
     "output_type": "stream",
     "text": [
      "2023-12-27 14:28:10,027 ERROR [imdbpy] /Users/mac/opt/anaconda3/lib/python3.9/site-packages/imdb/__init__.py:844: unknown information set \"genres\"\n"
     ]
    },
    {
     "name": "stdout",
     "output_type": "stream",
     "text": [
      "Macho Macho Man:\n",
      "Genres: ['Comedy', 'Drama']\n"
     ]
    },
    {
     "name": "stderr",
     "output_type": "stream",
     "text": [
      "2023-12-27 14:28:15,798 ERROR [imdbpy] /Users/mac/opt/anaconda3/lib/python3.9/site-packages/imdb/__init__.py:844: unknown information set \"genres\"\n"
     ]
    },
    {
     "name": "stdout",
     "output_type": "stream",
     "text": [
      "Time Freak:\n",
      "Genres: ['Comedy', 'Drama', 'Romance', 'Sci-Fi']\n"
     ]
    },
    {
     "name": "stderr",
     "output_type": "stream",
     "text": [
      "2023-12-27 14:28:21,239 ERROR [imdbpy] /Users/mac/opt/anaconda3/lib/python3.9/site-packages/imdb/__init__.py:844: unknown information set \"genres\"\n"
     ]
    },
    {
     "name": "stdout",
     "output_type": "stream",
     "text": [
      "Golden Dawn Girls:\n",
      "Genres: ['Documentary']\n"
     ]
    },
    {
     "name": "stderr",
     "output_type": "stream",
     "text": [
      "2023-12-27 14:28:28,646 ERROR [imdbpy] /Users/mac/opt/anaconda3/lib/python3.9/site-packages/imdb/__init__.py:844: unknown information set \"genres\"\n"
     ]
    },
    {
     "name": "stdout",
     "output_type": "stream",
     "text": [
      "The Dating List:\n",
      "Genres: ['Comedy', 'Romance']\n"
     ]
    },
    {
     "name": "stderr",
     "output_type": "stream",
     "text": [
      "2023-12-27 14:28:35,746 ERROR [imdbpy] /Users/mac/opt/anaconda3/lib/python3.9/site-packages/imdb/__init__.py:844: unknown information set \"genres\"\n"
     ]
    },
    {
     "name": "stdout",
     "output_type": "stream",
     "text": [
      "A.I. Rising:\n",
      "Genres: ['Drama', 'Romance', 'Sci-Fi']\n"
     ]
    },
    {
     "name": "stderr",
     "output_type": "stream",
     "text": [
      "2023-12-27 14:28:45,219 ERROR [imdbpy] /Users/mac/opt/anaconda3/lib/python3.9/site-packages/imdb/__init__.py:844: unknown information set \"genres\"\n"
     ]
    },
    {
     "name": "stdout",
     "output_type": "stream",
     "text": [
      "Fuku-chan of FukuFuku Flats:\n",
      "Genres: ['Comedy']\n"
     ]
    },
    {
     "name": "stderr",
     "output_type": "stream",
     "text": [
      "2023-12-27 14:28:58,311 ERROR [imdbpy] /Users/mac/opt/anaconda3/lib/python3.9/site-packages/imdb/__init__.py:844: unknown information set \"genres\"\n"
     ]
    },
    {
     "name": "stdout",
     "output_type": "stream",
     "text": [
      "McCanick:\n",
      "Genres: ['Crime', 'Drama', 'Mystery', 'Thriller']\n"
     ]
    },
    {
     "name": "stderr",
     "output_type": "stream",
     "text": [
      "2023-12-27 14:29:07,567 ERROR [imdbpy] /Users/mac/opt/anaconda3/lib/python3.9/site-packages/imdb/__init__.py:844: unknown information set \"genres\"\n"
     ]
    },
    {
     "name": "stdout",
     "output_type": "stream",
     "text": [
      "Grey Wolf: The Escape of Adolf Hitler:\n",
      "Genres: ['Documentary', 'Drama', 'History']\n"
     ]
    },
    {
     "name": "stderr",
     "output_type": "stream",
     "text": [
      "2023-12-27 14:29:17,937 ERROR [imdbpy] /Users/mac/opt/anaconda3/lib/python3.9/site-packages/imdb/__init__.py:844: unknown information set \"genres\"\n"
     ]
    },
    {
     "name": "stdout",
     "output_type": "stream",
     "text": [
      "Lazarus:\n",
      "Genres: ['Action', 'Drama', 'Fantasy', 'Thriller']\n"
     ]
    },
    {
     "name": "stderr",
     "output_type": "stream",
     "text": [
      "2023-12-27 14:29:24,936 ERROR [imdbpy] /Users/mac/opt/anaconda3/lib/python3.9/site-packages/imdb/__init__.py:844: unknown information set \"genres\"\n"
     ]
    },
    {
     "name": "stdout",
     "output_type": "stream",
     "text": [
      "Scaffolding:\n",
      "Genres: ['Drama']\n"
     ]
    },
    {
     "name": "stderr",
     "output_type": "stream",
     "text": [
      "2023-12-27 14:29:34,424 ERROR [imdbpy] /Users/mac/opt/anaconda3/lib/python3.9/site-packages/imdb/__init__.py:844: unknown information set \"genres\"\n"
     ]
    },
    {
     "name": "stdout",
     "output_type": "stream",
     "text": [
      "The Sleeper by the River:\n",
      "Genres: ['Drama']\n"
     ]
    },
    {
     "name": "stderr",
     "output_type": "stream",
     "text": [
      "2023-12-27 14:29:44,521 ERROR [imdbpy] /Users/mac/opt/anaconda3/lib/python3.9/site-packages/imdb/__init__.py:844: unknown information set \"genres\"\n"
     ]
    },
    {
     "name": "stdout",
     "output_type": "stream",
     "text": [
      "Virus:\n",
      "Genres: ['Action', 'Horror', 'Sci-Fi', 'Thriller']\n"
     ]
    },
    {
     "name": "stderr",
     "output_type": "stream",
     "text": [
      "2023-12-27 14:29:55,855 ERROR [imdbpy] /Users/mac/opt/anaconda3/lib/python3.9/site-packages/imdb/__init__.py:844: unknown information set \"genres\"\n"
     ]
    },
    {
     "name": "stdout",
     "output_type": "stream",
     "text": [
      "Saunkan Saunkne:\n",
      "Genres: ['Comedy', 'Drama', 'Romance']\n"
     ]
    },
    {
     "name": "stderr",
     "output_type": "stream",
     "text": [
      "2023-12-27 14:30:02,600 ERROR [imdbpy] /Users/mac/opt/anaconda3/lib/python3.9/site-packages/imdb/__init__.py:844: unknown information set \"genres\"\n"
     ]
    },
    {
     "name": "stdout",
     "output_type": "stream",
     "text": [
      "Tom Papa: Freaked Out:\n",
      "Genres: ['Comedy']\n"
     ]
    },
    {
     "name": "stderr",
     "output_type": "stream",
     "text": [
      "2023-12-27 14:30:10,132 ERROR [imdbpy] /Users/mac/opt/anaconda3/lib/python3.9/site-packages/imdb/__init__.py:844: unknown information set \"genres\"\n"
     ]
    },
    {
     "name": "stdout",
     "output_type": "stream",
     "text": [
      "Doblemente Embarazada 2:\n",
      "Genres: ['Comedy']\n"
     ]
    },
    {
     "name": "stderr",
     "output_type": "stream",
     "text": [
      "2023-12-27 14:30:17,043 ERROR [imdbpy] /Users/mac/opt/anaconda3/lib/python3.9/site-packages/imdb/__init__.py:844: unknown information set \"genres\"\n"
     ]
    },
    {
     "name": "stdout",
     "output_type": "stream",
     "text": [
      "Metal Heart:\n",
      "Genres: ['Comedy', 'Romance']\n"
     ]
    },
    {
     "name": "stderr",
     "output_type": "stream",
     "text": [
      "2023-12-27 14:30:23,295 ERROR [imdbpy] /Users/mac/opt/anaconda3/lib/python3.9/site-packages/imdb/__init__.py:844: unknown information set \"genres\"\n"
     ]
    },
    {
     "name": "stdout",
     "output_type": "stream",
     "text": [
      "Behind the Curve:\n",
      "Genres: ['Documentary']\n"
     ]
    },
    {
     "name": "stderr",
     "output_type": "stream",
     "text": [
      "2023-12-27 14:30:32,367 ERROR [imdbpy] /Users/mac/opt/anaconda3/lib/python3.9/site-packages/imdb/__init__.py:844: unknown information set \"genres\"\n"
     ]
    },
    {
     "name": "stdout",
     "output_type": "stream",
     "text": [
      "The Transparent Woman:\n",
      "Genres: ['Thriller']\n"
     ]
    },
    {
     "name": "stderr",
     "output_type": "stream",
     "text": [
      "2023-12-27 14:30:39,011 ERROR [imdbpy] /Users/mac/opt/anaconda3/lib/python3.9/site-packages/imdb/__init__.py:844: unknown information set \"genres\"\n"
     ]
    },
    {
     "name": "stdout",
     "output_type": "stream",
     "text": [
      "Midnight Screening:\n",
      "Genres: ['Horror']\n"
     ]
    },
    {
     "name": "stderr",
     "output_type": "stream",
     "text": [
      "2023-12-27 14:30:47,853 ERROR [imdbpy] /Users/mac/opt/anaconda3/lib/python3.9/site-packages/imdb/__init__.py:844: unknown information set \"genres\"\n"
     ]
    },
    {
     "name": "stdout",
     "output_type": "stream",
     "text": [
      "Untitled Horror Movie:\n",
      "Genres: ['Comedy', 'Horror']\n"
     ]
    },
    {
     "name": "stderr",
     "output_type": "stream",
     "text": [
      "2023-12-27 14:30:54,912 ERROR [imdbpy] /Users/mac/opt/anaconda3/lib/python3.9/site-packages/imdb/__init__.py:844: unknown information set \"genres\"\n"
     ]
    },
    {
     "name": "stdout",
     "output_type": "stream",
     "text": [
      "Christmas Incorporated:\n",
      "Genres: ['Comedy', 'Drama', 'Romance']\n"
     ]
    },
    {
     "name": "stderr",
     "output_type": "stream",
     "text": [
      "2023-12-27 14:31:06,647 ERROR [imdbpy] /Users/mac/opt/anaconda3/lib/python3.9/site-packages/imdb/__init__.py:844: unknown information set \"genres\"\n"
     ]
    },
    {
     "name": "stdout",
     "output_type": "stream",
     "text": [
      "Sui Dhaaga - Made in India:\n",
      "Genres: ['Comedy', 'Drama']\n"
     ]
    },
    {
     "name": "stderr",
     "output_type": "stream",
     "text": [
      "2023-12-27 14:31:13,700 ERROR [imdbpy] /Users/mac/opt/anaconda3/lib/python3.9/site-packages/imdb/__init__.py:844: unknown information set \"genres\"\n"
     ]
    },
    {
     "name": "stdout",
     "output_type": "stream",
     "text": [
      "Tom Papa: Human Mule:\n",
      "Genres: ['Comedy']\n"
     ]
    },
    {
     "name": "stderr",
     "output_type": "stream",
     "text": [
      "2023-12-27 14:31:22,175 ERROR [imdbpy] /Users/mac/opt/anaconda3/lib/python3.9/site-packages/imdb/__init__.py:844: unknown information set \"genres\"\n"
     ]
    },
    {
     "name": "stdout",
     "output_type": "stream",
     "text": [
      "Hannah: Buddhism's Untold Journey:\n",
      "Genres: ['Documentary', 'Biography', 'History']\n"
     ]
    },
    {
     "name": "stderr",
     "output_type": "stream",
     "text": [
      "2023-12-27 14:31:34,073 ERROR [imdbpy] /Users/mac/opt/anaconda3/lib/python3.9/site-packages/imdb/__init__.py:844: unknown information set \"genres\"\n"
     ]
    },
    {
     "name": "stdout",
     "output_type": "stream",
     "text": [
      "Wildcat:\n",
      "Genres: ['Biography', 'Drama']\n"
     ]
    },
    {
     "name": "stderr",
     "output_type": "stream",
     "text": [
      "2023-12-27 14:31:41,206 ERROR [imdbpy] /Users/mac/opt/anaconda3/lib/python3.9/site-packages/imdb/__init__.py:844: unknown information set \"genres\"\n"
     ]
    },
    {
     "name": "stdout",
     "output_type": "stream",
     "text": [
      "Fucking Drama:\n",
      "Genres: ['Short', 'Comedy', 'Drama', 'Thriller']\n"
     ]
    },
    {
     "name": "stderr",
     "output_type": "stream",
     "text": [
      "2023-12-27 14:31:58,448 ERROR [imdbpy] /Users/mac/opt/anaconda3/lib/python3.9/site-packages/imdb/__init__.py:844: unknown information set \"genres\"\n"
     ]
    },
    {
     "name": "stdout",
     "output_type": "stream",
     "text": [
      "Miss Juneteenth:\n",
      "Genres: ['Drama']\n"
     ]
    },
    {
     "name": "stderr",
     "output_type": "stream",
     "text": [
      "2023-12-27 14:32:23,269 ERROR [imdbpy] /Users/mac/opt/anaconda3/lib/python3.9/site-packages/imdb/__init__.py:844: unknown information set \"genres\"\n"
     ]
    },
    {
     "name": "stdout",
     "output_type": "stream",
     "text": [
      "Occupation: Rainfall:\n",
      "Genres: ['Action', 'Sci-Fi']\n"
     ]
    },
    {
     "name": "stderr",
     "output_type": "stream",
     "text": [
      "2023-12-27 14:32:30,807 ERROR [imdbpy] /Users/mac/opt/anaconda3/lib/python3.9/site-packages/imdb/__init__.py:844: unknown information set \"genres\"\n"
     ]
    },
    {
     "name": "stdout",
     "output_type": "stream",
     "text": [
      "Theatre of Fear:\n",
      "Genres: ['Horror']\n"
     ]
    },
    {
     "name": "stderr",
     "output_type": "stream",
     "text": [
      "2023-12-27 14:32:39,861 ERROR [imdbpy] /Users/mac/opt/anaconda3/lib/python3.9/site-packages/imdb/__init__.py:844: unknown information set \"genres\"\n"
     ]
    },
    {
     "name": "stdout",
     "output_type": "stream",
     "text": [
      "Thank You:\n",
      "Genres: ['Comedy']\n"
     ]
    },
    {
     "name": "stderr",
     "output_type": "stream",
     "text": [
      "2023-12-27 14:32:46,826 ERROR [imdbpy] /Users/mac/opt/anaconda3/lib/python3.9/site-packages/imdb/__init__.py:844: unknown information set \"genres\"\n"
     ]
    },
    {
     "name": "stdout",
     "output_type": "stream",
     "text": [
      "High Tech Airport:\n",
      "Genres: ['Documentary', 'History']\n"
     ]
    },
    {
     "name": "stderr",
     "output_type": "stream",
     "text": [
      "2023-12-27 14:32:52,948 ERROR [imdbpy] /Users/mac/opt/anaconda3/lib/python3.9/site-packages/imdb/__init__.py:844: unknown information set \"genres\"\n"
     ]
    },
    {
     "name": "stdout",
     "output_type": "stream",
     "text": [
      "A Shoe Addict's Christmas:\n",
      "Genres: ['Fantasy', 'Romance']\n"
     ]
    },
    {
     "name": "stderr",
     "output_type": "stream",
     "text": [
      "2023-12-27 14:32:59,183 ERROR [imdbpy] /Users/mac/opt/anaconda3/lib/python3.9/site-packages/imdb/__init__.py:844: unknown information set \"genres\"\n"
     ]
    },
    {
     "name": "stdout",
     "output_type": "stream",
     "text": [
      "Moms at War:\n",
      "Genres: ['Comedy']\n"
     ]
    },
    {
     "name": "stderr",
     "output_type": "stream",
     "text": [
      "2023-12-27 14:33:05,259 ERROR [imdbpy] /Users/mac/opt/anaconda3/lib/python3.9/site-packages/imdb/__init__.py:844: unknown information set \"genres\"\n"
     ]
    },
    {
     "name": "stdout",
     "output_type": "stream",
     "text": [
      "Dauntless: The Battle of Midway:\n",
      "Genres: ['Action', 'Adventure', 'History', 'War']\n"
     ]
    },
    {
     "name": "stderr",
     "output_type": "stream",
     "text": [
      "2023-12-27 14:33:12,377 ERROR [imdbpy] /Users/mac/opt/anaconda3/lib/python3.9/site-packages/imdb/__init__.py:844: unknown information set \"genres\"\n"
     ]
    },
    {
     "name": "stdout",
     "output_type": "stream",
     "text": [
      "2eleven:\n",
      "Genres: ['Action']\n"
     ]
    },
    {
     "name": "stderr",
     "output_type": "stream",
     "text": [
      "2023-12-27 14:33:21,226 ERROR [imdbpy] /Users/mac/opt/anaconda3/lib/python3.9/site-packages/imdb/__init__.py:844: unknown information set \"genres\"\n"
     ]
    },
    {
     "name": "stdout",
     "output_type": "stream",
     "text": [
      "Human Zoo:\n",
      "Genres: ['Horror', 'Thriller']\n"
     ]
    },
    {
     "name": "stderr",
     "output_type": "stream",
     "text": [
      "2023-12-27 14:33:33,213 ERROR [imdbpy] /Users/mac/opt/anaconda3/lib/python3.9/site-packages/imdb/__init__.py:844: unknown information set \"genres\"\n"
     ]
    },
    {
     "name": "stdout",
     "output_type": "stream",
     "text": [
      "1 Buck:\n",
      "Genres: ['Drama', 'Thriller']\n"
     ]
    },
    {
     "name": "stderr",
     "output_type": "stream",
     "text": [
      "2023-12-27 14:33:41,646 ERROR [imdbpy] /Users/mac/opt/anaconda3/lib/python3.9/site-packages/imdb/__init__.py:844: unknown information set \"genres\"\n"
     ]
    },
    {
     "name": "stdout",
     "output_type": "stream",
     "text": [
      "Gleason:\n",
      "Genres: ['Biography', 'Drama', 'Family']\n"
     ]
    },
    {
     "name": "stderr",
     "output_type": "stream",
     "text": [
      "2023-12-27 14:33:53,542 ERROR [imdbpy] /Users/mac/opt/anaconda3/lib/python3.9/site-packages/imdb/__init__.py:844: unknown information set \"genres\"\n"
     ]
    },
    {
     "name": "stdout",
     "output_type": "stream",
     "text": [
      "Jackpot:\n",
      "Genres: ['Action', 'Comedy', 'Crime']\n"
     ]
    },
    {
     "name": "stderr",
     "output_type": "stream",
     "text": [
      "2023-12-27 14:34:01,923 ERROR [imdbpy] /Users/mac/opt/anaconda3/lib/python3.9/site-packages/imdb/__init__.py:844: unknown information set \"genres\"\n"
     ]
    },
    {
     "name": "stdout",
     "output_type": "stream",
     "text": [
      "Once Upon a Prince:\n",
      "Genres: ['Comedy', 'Drama', 'Romance']\n"
     ]
    },
    {
     "name": "stderr",
     "output_type": "stream",
     "text": [
      "2023-12-27 14:34:12,636 ERROR [imdbpy] /Users/mac/opt/anaconda3/lib/python3.9/site-packages/imdb/__init__.py:844: unknown information set \"genres\"\n"
     ]
    },
    {
     "name": "stdout",
     "output_type": "stream",
     "text": [
      "Ghost:\n",
      "Genres: ['Drama', 'Fantasy', 'Romance', 'Thriller']\n"
     ]
    },
    {
     "name": "stderr",
     "output_type": "stream",
     "text": [
      "2023-12-27 14:34:21,567 ERROR [imdbpy] /Users/mac/opt/anaconda3/lib/python3.9/site-packages/imdb/__init__.py:844: unknown information set \"genres\"\n"
     ]
    },
    {
     "name": "stdout",
     "output_type": "stream",
     "text": [
      "Meth Head:\n",
      "Genres: ['Drama']\n"
     ]
    },
    {
     "name": "stderr",
     "output_type": "stream",
     "text": [
      "2023-12-27 14:34:30,975 ERROR [imdbpy] /Users/mac/opt/anaconda3/lib/python3.9/site-packages/imdb/__init__.py:844: unknown information set \"genres\"\n"
     ]
    },
    {
     "name": "stdout",
     "output_type": "stream",
     "text": [
      "Shark Huntress:\n",
      "Genres: ['Action', 'Adventure', 'Thriller']\n"
     ]
    },
    {
     "name": "stderr",
     "output_type": "stream",
     "text": [
      "2023-12-27 14:34:42,731 ERROR [imdbpy] /Users/mac/opt/anaconda3/lib/python3.9/site-packages/imdb/__init__.py:844: unknown information set \"genres\"\n"
     ]
    },
    {
     "name": "stdout",
     "output_type": "stream",
     "text": [
      "A Thousand Times Good Night:\n",
      "Genres: ['Drama', 'War']\n"
     ]
    },
    {
     "name": "stderr",
     "output_type": "stream",
     "text": [
      "2023-12-27 14:35:01,449 ERROR [imdbpy] /Users/mac/opt/anaconda3/lib/python3.9/site-packages/imdb/__init__.py:844: unknown information set \"genres\"\n"
     ]
    },
    {
     "name": "stdout",
     "output_type": "stream",
     "text": [
      "My Dad's Christmas Date:\n",
      "Genres: ['Comedy', 'Drama', 'Family', 'Romance']\n"
     ]
    },
    {
     "name": "stderr",
     "output_type": "stream",
     "text": [
      "2023-12-27 14:35:12,882 ERROR [imdbpy] /Users/mac/opt/anaconda3/lib/python3.9/site-packages/imdb/__init__.py:844: unknown information set \"genres\"\n"
     ]
    },
    {
     "name": "stdout",
     "output_type": "stream",
     "text": [
      "House Shark:\n",
      "Genres: ['Action', 'Adventure', 'Comedy', 'Horror', 'Sci-Fi', 'Thriller']\n"
     ]
    },
    {
     "name": "stderr",
     "output_type": "stream",
     "text": [
      "2023-12-27 14:35:27,005 ERROR [imdbpy] /Users/mac/opt/anaconda3/lib/python3.9/site-packages/imdb/__init__.py:844: unknown information set \"genres\"\n"
     ]
    },
    {
     "name": "stdout",
     "output_type": "stream",
     "text": [
      "Yeh Jawaani Hai Deewani:\n",
      "Genres: ['Comedy', 'Drama', 'Musical', 'Romance']\n"
     ]
    },
    {
     "name": "stderr",
     "output_type": "stream",
     "text": [
      "2023-12-27 14:35:34,061 ERROR [imdbpy] /Users/mac/opt/anaconda3/lib/python3.9/site-packages/imdb/__init__.py:844: unknown information set \"genres\"\n"
     ]
    },
    {
     "name": "stdout",
     "output_type": "stream",
     "text": [
      "Index Zero:\n",
      "Genres: ['Sci-Fi']\n"
     ]
    },
    {
     "name": "stderr",
     "output_type": "stream",
     "text": [
      "2023-12-27 14:35:40,378 ERROR [imdbpy] /Users/mac/opt/anaconda3/lib/python3.9/site-packages/imdb/__init__.py:844: unknown information set \"genres\"\n"
     ]
    },
    {
     "name": "stdout",
     "output_type": "stream",
     "text": [
      "Running for Good: The Fiona Oakes Documentary:\n",
      "Genres: ['Documentary']\n"
     ]
    },
    {
     "name": "stderr",
     "output_type": "stream",
     "text": [
      "2023-12-27 14:35:56,107 ERROR [imdbpy] /Users/mac/opt/anaconda3/lib/python3.9/site-packages/imdb/__init__.py:844: unknown information set \"genres\"\n"
     ]
    },
    {
     "name": "stdout",
     "output_type": "stream",
     "text": [
      "Vikram Vedha:\n",
      "Genres: ['Action', 'Crime', 'Drama', 'Thriller']\n"
     ]
    },
    {
     "name": "stderr",
     "output_type": "stream",
     "text": [
      "2023-12-27 14:36:28,343 CRITICAL [imdbpy] /Users/mac/opt/anaconda3/lib/python3.9/site-packages/imdb/_exceptions.py:32: IMDbDataAccessError exception raised; args: ({'errcode': None, 'errmsg': 'None', 'url': 'https://www.imdb.com/find/?q=Suriname&s=tt', 'proxy': '', 'exception type': 'IOError', 'original exception': timeout('The read operation timed out')},); kwds: {}\n",
      "Traceback (most recent call last):\n",
      "  File \"/Users/mac/opt/anaconda3/lib/python3.9/site-packages/imdb/parser/http/__init__.py\", line 234, in retrieve_unicode\n",
      "    content = response.read()\n",
      "  File \"/Users/mac/opt/anaconda3/lib/python3.9/http/client.py\", line 469, in read\n",
      "    return self._readall_chunked()\n",
      "  File \"/Users/mac/opt/anaconda3/lib/python3.9/http/client.py\", line 576, in _readall_chunked\n",
      "    chunk_left = self._get_chunk_left()\n",
      "  File \"/Users/mac/opt/anaconda3/lib/python3.9/http/client.py\", line 559, in _get_chunk_left\n",
      "    chunk_left = self._read_next_chunk_size()\n",
      "  File \"/Users/mac/opt/anaconda3/lib/python3.9/http/client.py\", line 519, in _read_next_chunk_size\n",
      "    line = self.fp.readline(_MAXLINE + 1)\n",
      "  File \"/Users/mac/opt/anaconda3/lib/python3.9/socket.py\", line 704, in readinto\n",
      "    return self._sock.recv_into(b)\n",
      "  File \"/Users/mac/opt/anaconda3/lib/python3.9/ssl.py\", line 1241, in recv_into\n",
      "    return self.read(nbytes, buffer)\n",
      "  File \"/Users/mac/opt/anaconda3/lib/python3.9/ssl.py\", line 1099, in read\n",
      "    return self._sslobj.read(len, buffer)\n",
      "socket.timeout: The read operation timed out\n"
     ]
    },
    {
     "name": "stdout",
     "output_type": "stream",
     "text": [
      "Error: {'errcode': None, 'errmsg': 'None', 'url': 'https://www.imdb.com/find/?q=Suriname&s=tt', 'proxy': '', 'exception type': 'IOError', 'original exception': timeout('The read operation timed out')}\n"
     ]
    },
    {
     "name": "stderr",
     "output_type": "stream",
     "text": [
      "2023-12-27 14:36:37,717 ERROR [imdbpy] /Users/mac/opt/anaconda3/lib/python3.9/site-packages/imdb/__init__.py:844: unknown information set \"genres\"\n"
     ]
    },
    {
     "name": "stdout",
     "output_type": "stream",
     "text": [
      "Suriname:\n",
      "Genres: ['Crime', 'Drama']\n"
     ]
    },
    {
     "name": "stderr",
     "output_type": "stream",
     "text": [
      "2023-12-27 14:36:47,771 ERROR [imdbpy] /Users/mac/opt/anaconda3/lib/python3.9/site-packages/imdb/__init__.py:844: unknown information set \"genres\"\n"
     ]
    },
    {
     "name": "stdout",
     "output_type": "stream",
     "text": [
      "The Surprise:\n",
      "Genres: ['Thriller']\n"
     ]
    },
    {
     "name": "stderr",
     "output_type": "stream",
     "text": [
      "2023-12-27 14:37:10,450 ERROR [imdbpy] /Users/mac/opt/anaconda3/lib/python3.9/site-packages/imdb/__init__.py:844: unknown information set \"genres\"\n"
     ]
    },
    {
     "name": "stdout",
     "output_type": "stream",
     "text": [
      "Viking Blood:\n",
      "Genres: ['Action']\n"
     ]
    },
    {
     "name": "stderr",
     "output_type": "stream",
     "text": [
      "2023-12-27 14:37:18,789 ERROR [imdbpy] /Users/mac/opt/anaconda3/lib/python3.9/site-packages/imdb/__init__.py:844: unknown information set \"genres\"\n"
     ]
    },
    {
     "name": "stdout",
     "output_type": "stream",
     "text": [
      "Jayeshbhai Jordaar:\n",
      "Genres: ['Comedy', 'Drama']\n"
     ]
    },
    {
     "name": "stderr",
     "output_type": "stream",
     "text": [
      "2023-12-27 14:37:28,168 ERROR [imdbpy] /Users/mac/opt/anaconda3/lib/python3.9/site-packages/imdb/__init__.py:844: unknown information set \"genres\"\n"
     ]
    },
    {
     "name": "stdout",
     "output_type": "stream",
     "text": [
      "Soul to Keep:\n",
      "Genres: ['Horror', 'Thriller']\n"
     ]
    },
    {
     "name": "stderr",
     "output_type": "stream",
     "text": [
      "2023-12-27 14:37:36,560 ERROR [imdbpy] /Users/mac/opt/anaconda3/lib/python3.9/site-packages/imdb/__init__.py:844: unknown information set \"genres\"\n"
     ]
    },
    {
     "name": "stdout",
     "output_type": "stream",
     "text": [
      "Blame:\n",
      "Genres: ['Comedy', 'Romance']\n"
     ]
    },
    {
     "name": "stderr",
     "output_type": "stream",
     "text": [
      "2023-12-27 14:37:45,989 ERROR [imdbpy] /Users/mac/opt/anaconda3/lib/python3.9/site-packages/imdb/__init__.py:844: unknown information set \"genres\"\n"
     ]
    },
    {
     "name": "stdout",
     "output_type": "stream",
     "text": [
      "Nemesis:\n",
      "Genres: ['Action', 'Sci-Fi', 'Thriller']\n"
     ]
    },
    {
     "name": "stderr",
     "output_type": "stream",
     "text": [
      "2023-12-27 14:37:55,411 ERROR [imdbpy] /Users/mac/opt/anaconda3/lib/python3.9/site-packages/imdb/__init__.py:844: unknown information set \"genres\"\n"
     ]
    },
    {
     "name": "stdout",
     "output_type": "stream",
     "text": [
      "The Wedding Trip:\n",
      "Genres: ['Comedy', 'Romance']\n"
     ]
    },
    {
     "name": "stderr",
     "output_type": "stream",
     "text": [
      "2023-12-27 14:38:03,711 ERROR [imdbpy] /Users/mac/opt/anaconda3/lib/python3.9/site-packages/imdb/__init__.py:844: unknown information set \"genres\"\n"
     ]
    },
    {
     "name": "stdout",
     "output_type": "stream",
     "text": [
      "Seven Devils:\n",
      "Genres: ['Drama', 'Mystery', 'Thriller']\n"
     ]
    },
    {
     "name": "stderr",
     "output_type": "stream",
     "text": [
      "2023-12-27 14:38:12,849 ERROR [imdbpy] /Users/mac/opt/anaconda3/lib/python3.9/site-packages/imdb/__init__.py:844: unknown information set \"genres\"\n"
     ]
    },
    {
     "name": "stdout",
     "output_type": "stream",
     "text": [
      "The Green Sea:\n",
      "Genres: ['Drama', 'Mystery']\n"
     ]
    },
    {
     "name": "stderr",
     "output_type": "stream",
     "text": [
      "2023-12-27 14:38:23,328 ERROR [imdbpy] /Users/mac/opt/anaconda3/lib/python3.9/site-packages/imdb/__init__.py:844: unknown information set \"genres\"\n"
     ]
    },
    {
     "name": "stdout",
     "output_type": "stream",
     "text": [
      "Viking Quest:\n",
      "Genres: ['Action', 'Adventure', 'Fantasy']\n"
     ]
    },
    {
     "name": "stderr",
     "output_type": "stream",
     "text": [
      "2023-12-27 14:38:30,292 ERROR [imdbpy] /Users/mac/opt/anaconda3/lib/python3.9/site-packages/imdb/__init__.py:844: unknown information set \"genres\"\n"
     ]
    },
    {
     "name": "stdout",
     "output_type": "stream",
     "text": [
      "Haunted 2: Apparitions:\n",
      "Genres: ['Horror']\n"
     ]
    },
    {
     "name": "stderr",
     "output_type": "stream",
     "text": [
      "2023-12-27 14:38:40,373 ERROR [imdbpy] /Users/mac/opt/anaconda3/lib/python3.9/site-packages/imdb/__init__.py:844: unknown information set \"genres\"\n"
     ]
    },
    {
     "name": "stdout",
     "output_type": "stream",
     "text": [
      "Muddy:\n",
      "Genres: ['Action', 'Thriller']\n"
     ]
    },
    {
     "name": "stderr",
     "output_type": "stream",
     "text": [
      "2023-12-27 14:38:46,239 ERROR [imdbpy] /Users/mac/opt/anaconda3/lib/python3.9/site-packages/imdb/__init__.py:844: unknown information set \"genres\"\n"
     ]
    },
    {
     "name": "stdout",
     "output_type": "stream",
     "text": [
      "Marakkar: Lion of the Arabian Sea:\n",
      "Genres: ['Action', 'Drama', 'History', 'War']\n"
     ]
    },
    {
     "name": "stderr",
     "output_type": "stream",
     "text": [
      "2023-12-27 14:38:54,045 ERROR [imdbpy] /Users/mac/opt/anaconda3/lib/python3.9/site-packages/imdb/__init__.py:844: unknown information set \"genres\"\n"
     ]
    },
    {
     "name": "stdout",
     "output_type": "stream",
     "text": [
      "Equilibrium:\n",
      "Genres: ['Action', 'Drama', 'Sci-Fi', 'Thriller']\n"
     ]
    },
    {
     "name": "stderr",
     "output_type": "stream",
     "text": [
      "2023-12-27 14:39:01,202 ERROR [imdbpy] /Users/mac/opt/anaconda3/lib/python3.9/site-packages/imdb/__init__.py:844: unknown information set \"genres\"\n"
     ]
    },
    {
     "name": "stdout",
     "output_type": "stream",
     "text": [
      "Rustum:\n",
      "Genres: ['Action']\n"
     ]
    },
    {
     "name": "stderr",
     "output_type": "stream",
     "text": [
      "2023-12-27 14:39:06,231 ERROR [imdbpy] /Users/mac/opt/anaconda3/lib/python3.9/site-packages/imdb/__init__.py:844: unknown information set \"genres\"\n"
     ]
    },
    {
     "name": "stdout",
     "output_type": "stream",
     "text": [
      "Curse of the Nun:\n",
      "Genres: ['Horror', 'Mystery', 'Thriller']\n"
     ]
    },
    {
     "name": "stderr",
     "output_type": "stream",
     "text": [
      "2023-12-27 14:39:14,402 ERROR [imdbpy] /Users/mac/opt/anaconda3/lib/python3.9/site-packages/imdb/__init__.py:844: unknown information set \"genres\"\n"
     ]
    },
    {
     "name": "stdout",
     "output_type": "stream",
     "text": [
      "Maja Ma:\n",
      "Genres: ['Comedy', 'Drama']\n"
     ]
    },
    {
     "name": "stderr",
     "output_type": "stream",
     "text": [
      "2023-12-27 14:39:22,380 ERROR [imdbpy] /Users/mac/opt/anaconda3/lib/python3.9/site-packages/imdb/__init__.py:844: unknown information set \"genres\"\n"
     ]
    },
    {
     "name": "stdout",
     "output_type": "stream",
     "text": [
      "The Protector:\n",
      "Genres: ['Action', 'Adventure', 'Drama', 'Fantasy', 'Romance', 'Sci-Fi', 'Thriller']\n"
     ]
    },
    {
     "name": "stderr",
     "output_type": "stream",
     "text": [
      "2023-12-27 14:39:28,727 ERROR [imdbpy] /Users/mac/opt/anaconda3/lib/python3.9/site-packages/imdb/__init__.py:844: unknown information set \"genres\"\n"
     ]
    },
    {
     "name": "stdout",
     "output_type": "stream",
     "text": [
      "Ayyappanum Koshiyum:\n",
      "Genres: ['Action', 'Drama', 'Thriller']\n"
     ]
    },
    {
     "name": "stderr",
     "output_type": "stream",
     "text": [
      "2023-12-27 14:39:35,789 ERROR [imdbpy] /Users/mac/opt/anaconda3/lib/python3.9/site-packages/imdb/__init__.py:844: unknown information set \"genres\"\n"
     ]
    },
    {
     "name": "stdout",
     "output_type": "stream",
     "text": [
      "I Am Vengeance:\n",
      "Genres: ['Action']\n"
     ]
    },
    {
     "name": "stderr",
     "output_type": "stream",
     "text": [
      "2023-12-27 14:39:42,035 ERROR [imdbpy] /Users/mac/opt/anaconda3/lib/python3.9/site-packages/imdb/__init__.py:844: unknown information set \"genres\"\n"
     ]
    },
    {
     "name": "stdout",
     "output_type": "stream",
     "text": [
      "Rose Plays Julie:\n",
      "Genres: ['Drama', 'Mystery']\n"
     ]
    },
    {
     "name": "stderr",
     "output_type": "stream",
     "text": [
      "2023-12-27 14:39:48,840 ERROR [imdbpy] /Users/mac/opt/anaconda3/lib/python3.9/site-packages/imdb/__init__.py:844: unknown information set \"genres\"\n"
     ]
    },
    {
     "name": "stdout",
     "output_type": "stream",
     "text": [
      "Escape from Pretoria:\n",
      "Genres: ['Biography', 'Crime', 'Mystery', 'Thriller']\n"
     ]
    },
    {
     "name": "stderr",
     "output_type": "stream",
     "text": [
      "2023-12-27 14:39:57,051 ERROR [imdbpy] /Users/mac/opt/anaconda3/lib/python3.9/site-packages/imdb/__init__.py:844: unknown information set \"genres\"\n"
     ]
    },
    {
     "name": "stdout",
     "output_type": "stream",
     "text": [
      "Wasteland:\n",
      "Genres: ['Crime', 'Drama', 'Thriller']\n"
     ]
    },
    {
     "name": "stderr",
     "output_type": "stream",
     "text": [
      "2023-12-27 14:40:04,755 ERROR [imdbpy] /Users/mac/opt/anaconda3/lib/python3.9/site-packages/imdb/__init__.py:844: unknown information set \"genres\"\n"
     ]
    },
    {
     "name": "stdout",
     "output_type": "stream",
     "text": [
      "Mitron:\n",
      "Genres: ['Comedy']\n"
     ]
    },
    {
     "name": "stderr",
     "output_type": "stream",
     "text": [
      "2023-12-27 14:40:12,417 ERROR [imdbpy] /Users/mac/opt/anaconda3/lib/python3.9/site-packages/imdb/__init__.py:844: unknown information set \"genres\"\n"
     ]
    },
    {
     "name": "stdout",
     "output_type": "stream",
     "text": [
      "Doe:\n",
      "Genres: ['Horror', 'Mystery', 'Thriller']\n"
     ]
    },
    {
     "name": "stderr",
     "output_type": "stream",
     "text": [
      "2023-12-27 14:40:19,711 ERROR [imdbpy] /Users/mac/opt/anaconda3/lib/python3.9/site-packages/imdb/__init__.py:844: unknown information set \"genres\"\n"
     ]
    },
    {
     "name": "stdout",
     "output_type": "stream",
     "text": [
      "Jack N Jill:\n",
      "Genres: ['Comedy', 'Sci-Fi', 'Thriller']\n"
     ]
    },
    {
     "name": "stderr",
     "output_type": "stream",
     "text": [
      "2023-12-27 14:40:27,405 ERROR [imdbpy] /Users/mac/opt/anaconda3/lib/python3.9/site-packages/imdb/__init__.py:844: unknown information set \"genres\"\n"
     ]
    },
    {
     "name": "stdout",
     "output_type": "stream",
     "text": [
      "Chicken People:\n",
      "Genres: ['Documentary', 'Comedy', 'Family']\n"
     ]
    },
    {
     "name": "stderr",
     "output_type": "stream",
     "text": [
      "2023-12-27 14:40:34,407 ERROR [imdbpy] /Users/mac/opt/anaconda3/lib/python3.9/site-packages/imdb/__init__.py:844: unknown information set \"genres\"\n"
     ]
    },
    {
     "name": "stdout",
     "output_type": "stream",
     "text": [
      "Vengeance:\n",
      "Genres: ['Comedy', 'Music', 'Mystery', 'Thriller']\n"
     ]
    },
    {
     "name": "stderr",
     "output_type": "stream",
     "text": [
      "2023-12-27 14:40:44,921 ERROR [imdbpy] /Users/mac/opt/anaconda3/lib/python3.9/site-packages/imdb/__init__.py:844: unknown information set \"genres\"\n"
     ]
    },
    {
     "name": "stdout",
     "output_type": "stream",
     "text": [
      "Saaho:\n",
      "Genres: ['Action', 'Thriller']\n"
     ]
    },
    {
     "name": "stderr",
     "output_type": "stream",
     "text": [
      "2023-12-27 14:40:55,579 ERROR [imdbpy] /Users/mac/opt/anaconda3/lib/python3.9/site-packages/imdb/__init__.py:844: unknown information set \"genres\"\n"
     ]
    },
    {
     "name": "stdout",
     "output_type": "stream",
     "text": [
      "Shivaay:\n",
      "Genres: ['Action', 'Adventure', 'Crime', 'Drama', 'Thriller']\n"
     ]
    },
    {
     "name": "stderr",
     "output_type": "stream",
     "text": [
      "2023-12-27 14:41:02,953 ERROR [imdbpy] /Users/mac/opt/anaconda3/lib/python3.9/site-packages/imdb/__init__.py:844: unknown information set \"genres\"\n"
     ]
    },
    {
     "name": "stdout",
     "output_type": "stream",
     "text": [
      "Elon Musk: The Real Life Iron Man:\n",
      "Genres: ['Documentary', 'Biography']\n"
     ]
    },
    {
     "name": "stderr",
     "output_type": "stream",
     "text": [
      "2023-12-27 14:41:08,793 ERROR [imdbpy] /Users/mac/opt/anaconda3/lib/python3.9/site-packages/imdb/__init__.py:844: unknown information set \"genres\"\n"
     ]
    },
    {
     "name": "stdout",
     "output_type": "stream",
     "text": [
      "Someone Marry Barry:\n",
      "Genres: ['Comedy']\n"
     ]
    },
    {
     "name": "stderr",
     "output_type": "stream",
     "text": [
      "2023-12-27 14:41:15,616 ERROR [imdbpy] /Users/mac/opt/anaconda3/lib/python3.9/site-packages/imdb/__init__.py:844: unknown information set \"genres\"\n"
     ]
    },
    {
     "name": "stdout",
     "output_type": "stream",
     "text": [
      "Transfert:\n",
      "Genres: ['Drama', 'Thriller']\n"
     ]
    },
    {
     "name": "stderr",
     "output_type": "stream",
     "text": [
      "2023-12-27 14:41:23,171 ERROR [imdbpy] /Users/mac/opt/anaconda3/lib/python3.9/site-packages/imdb/__init__.py:844: unknown information set \"genres\"\n"
     ]
    },
    {
     "name": "stdout",
     "output_type": "stream",
     "text": [
      "Sarkaru Vaari Paata:\n",
      "Genres: ['Action', 'Drama']\n"
     ]
    },
    {
     "name": "stderr",
     "output_type": "stream",
     "text": [
      "2023-12-27 14:41:31,645 ERROR [imdbpy] /Users/mac/opt/anaconda3/lib/python3.9/site-packages/imdb/__init__.py:844: unknown information set \"genres\"\n"
     ]
    },
    {
     "name": "stdout",
     "output_type": "stream",
     "text": [
      "The Green Park:\n",
      "Genres: ['Documentary']\n"
     ]
    },
    {
     "name": "stderr",
     "output_type": "stream",
     "text": [
      "2023-12-27 14:41:38,521 ERROR [imdbpy] /Users/mac/opt/anaconda3/lib/python3.9/site-packages/imdb/__init__.py:844: unknown information set \"genres\"\n"
     ]
    },
    {
     "name": "stdout",
     "output_type": "stream",
     "text": [
      "Incision:\n",
      "Genres: ['Horror', 'Thriller']\n"
     ]
    },
    {
     "name": "stderr",
     "output_type": "stream",
     "text": [
      "2023-12-27 14:41:44,823 ERROR [imdbpy] /Users/mac/opt/anaconda3/lib/python3.9/site-packages/imdb/__init__.py:844: unknown information set \"genres\"\n"
     ]
    },
    {
     "name": "stdout",
     "output_type": "stream",
     "text": [
      "Dalida:\n",
      "Genres: ['Biography', 'Drama', 'Music']\n"
     ]
    },
    {
     "name": "stderr",
     "output_type": "stream",
     "text": [
      "2023-12-27 14:41:52,760 ERROR [imdbpy] /Users/mac/opt/anaconda3/lib/python3.9/site-packages/imdb/__init__.py:844: unknown information set \"genres\"\n"
     ]
    },
    {
     "name": "stdout",
     "output_type": "stream",
     "text": [
      "Zoo:\n",
      "Genres: ['Drama', 'Mystery', 'Sci-Fi', 'Thriller']\n"
     ]
    },
    {
     "name": "stderr",
     "output_type": "stream",
     "text": [
      "2023-12-27 14:41:59,115 ERROR [imdbpy] /Users/mac/opt/anaconda3/lib/python3.9/site-packages/imdb/__init__.py:844: unknown information set \"genres\"\n"
     ]
    },
    {
     "name": "stdout",
     "output_type": "stream",
     "text": [
      "The Secret Life of the Cruise:\n",
      "Genres: ['Documentary']\n"
     ]
    },
    {
     "name": "stderr",
     "output_type": "stream",
     "text": [
      "2023-12-27 14:42:06,727 ERROR [imdbpy] /Users/mac/opt/anaconda3/lib/python3.9/site-packages/imdb/__init__.py:844: unknown information set \"genres\"\n"
     ]
    },
    {
     "name": "stdout",
     "output_type": "stream",
     "text": [
      "Between the Devil and the Deep:\n",
      "Genres: ['Drama']\n"
     ]
    },
    {
     "name": "stderr",
     "output_type": "stream",
     "text": [
      "2023-12-27 14:42:12,829 ERROR [imdbpy] /Users/mac/opt/anaconda3/lib/python3.9/site-packages/imdb/__init__.py:844: unknown information set \"genres\"\n"
     ]
    },
    {
     "name": "stdout",
     "output_type": "stream",
     "text": [
      "Mary J. Blige's My Life:\n",
      "Genres: ['Documentary']\n"
     ]
    },
    {
     "name": "stderr",
     "output_type": "stream",
     "text": [
      "2023-12-27 14:42:18,810 ERROR [imdbpy] /Users/mac/opt/anaconda3/lib/python3.9/site-packages/imdb/__init__.py:844: unknown information set \"genres\"\n"
     ]
    },
    {
     "name": "stdout",
     "output_type": "stream",
     "text": [
      "Detective Knight: Rogue:\n",
      "Genres: ['Action', 'Adventure', 'Crime', 'Mystery', 'Thriller']\n"
     ]
    },
    {
     "name": "stderr",
     "output_type": "stream",
     "text": [
      "2023-12-27 14:42:25,124 ERROR [imdbpy] /Users/mac/opt/anaconda3/lib/python3.9/site-packages/imdb/__init__.py:844: unknown information set \"genres\"\n"
     ]
    },
    {
     "name": "stdout",
     "output_type": "stream",
     "text": [
      "F2: Fun and Frustration:\n",
      "Genres: ['Comedy']\n"
     ]
    },
    {
     "name": "stderr",
     "output_type": "stream",
     "text": [
      "2023-12-27 14:42:30,406 ERROR [imdbpy] /Users/mac/opt/anaconda3/lib/python3.9/site-packages/imdb/__init__.py:844: unknown information set \"genres\"\n"
     ]
    },
    {
     "name": "stdout",
     "output_type": "stream",
     "text": [
      "Making Babies:\n",
      "Genres: ['Comedy']\n"
     ]
    },
    {
     "name": "stderr",
     "output_type": "stream",
     "text": [
      "2023-12-27 14:42:37,277 ERROR [imdbpy] /Users/mac/opt/anaconda3/lib/python3.9/site-packages/imdb/__init__.py:844: unknown information set \"genres\"\n"
     ]
    },
    {
     "name": "stdout",
     "output_type": "stream",
     "text": [
      "Pink Wall:\n",
      "Genres: ['Drama', 'Fantasy', 'Music']\n"
     ]
    },
    {
     "name": "stderr",
     "output_type": "stream",
     "text": [
      "2023-12-27 14:42:53,355 ERROR [imdbpy] /Users/mac/opt/anaconda3/lib/python3.9/site-packages/imdb/__init__.py:844: unknown information set \"genres\"\n"
     ]
    },
    {
     "name": "stdout",
     "output_type": "stream",
     "text": [
      "LAW:\n",
      "Genres: ['Crime', 'Drama', 'Mystery', 'Thriller']\n"
     ]
    },
    {
     "name": "stderr",
     "output_type": "stream",
     "text": [
      "2023-12-27 14:42:59,592 ERROR [imdbpy] /Users/mac/opt/anaconda3/lib/python3.9/site-packages/imdb/__init__.py:844: unknown information set \"genres\"\n"
     ]
    },
    {
     "name": "stdout",
     "output_type": "stream",
     "text": [
      "The Curse of Halloween Jack:\n",
      "Genres: ['Horror']\n"
     ]
    },
    {
     "name": "stderr",
     "output_type": "stream",
     "text": [
      "2023-12-27 14:43:04,485 ERROR [imdbpy] /Users/mac/opt/anaconda3/lib/python3.9/site-packages/imdb/__init__.py:844: unknown information set \"genres\"\n"
     ]
    },
    {
     "name": "stdout",
     "output_type": "stream",
     "text": [
      "The Blind Spot:\n",
      "Genres: ['Drama', 'Mystery', 'Thriller']\n"
     ]
    },
    {
     "name": "stderr",
     "output_type": "stream",
     "text": [
      "2023-12-27 14:43:10,987 ERROR [imdbpy] /Users/mac/opt/anaconda3/lib/python3.9/site-packages/imdb/__init__.py:844: unknown information set \"genres\"\n"
     ]
    },
    {
     "name": "stdout",
     "output_type": "stream",
     "text": [
      "Ash and Bone:\n",
      "Genres: ['Horror', 'Mystery', 'Thriller']\n"
     ]
    },
    {
     "name": "stderr",
     "output_type": "stream",
     "text": [
      "2023-12-27 14:43:17,483 ERROR [imdbpy] /Users/mac/opt/anaconda3/lib/python3.9/site-packages/imdb/__init__.py:844: unknown information set \"genres\"\n"
     ]
    },
    {
     "name": "stdout",
     "output_type": "stream",
     "text": [
      "Pablo:\n",
      "Genres: ['Biography', 'Crime', 'Drama']\n"
     ]
    },
    {
     "name": "stderr",
     "output_type": "stream",
     "text": [
      "2023-12-27 14:43:23,080 ERROR [imdbpy] /Users/mac/opt/anaconda3/lib/python3.9/site-packages/imdb/__init__.py:844: unknown information set \"genres\"\n"
     ]
    },
    {
     "name": "stdout",
     "output_type": "stream",
     "text": [
      "Evil Never Dies:\n",
      "Genres: ['Fantasy', 'Horror']\n"
     ]
    },
    {
     "name": "stderr",
     "output_type": "stream",
     "text": [
      "2023-12-27 14:43:28,903 ERROR [imdbpy] /Users/mac/opt/anaconda3/lib/python3.9/site-packages/imdb/__init__.py:844: unknown information set \"genres\"\n"
     ]
    },
    {
     "name": "stdout",
     "output_type": "stream",
     "text": [
      "Nails:\n",
      "Genres: ['Horror', 'Mystery']\n"
     ]
    },
    {
     "name": "stderr",
     "output_type": "stream",
     "text": [
      "2023-12-27 14:43:34,163 ERROR [imdbpy] /Users/mac/opt/anaconda3/lib/python3.9/site-packages/imdb/__init__.py:844: unknown information set \"genres\"\n"
     ]
    },
    {
     "name": "stdout",
     "output_type": "stream",
     "text": [
      "A Death in the Gunj:\n",
      "Genres: ['Drama', 'Thriller']\n"
     ]
    },
    {
     "name": "stderr",
     "output_type": "stream",
     "text": [
      "2023-12-27 14:43:39,886 ERROR [imdbpy] /Users/mac/opt/anaconda3/lib/python3.9/site-packages/imdb/__init__.py:844: unknown information set \"genres\"\n"
     ]
    },
    {
     "name": "stdout",
     "output_type": "stream",
     "text": [
      "The Class of ‘92:\n",
      "Genres: ['Documentary', 'Sport']\n"
     ]
    },
    {
     "name": "stderr",
     "output_type": "stream",
     "text": [
      "2023-12-27 14:43:45,920 ERROR [imdbpy] /Users/mac/opt/anaconda3/lib/python3.9/site-packages/imdb/__init__.py:844: unknown information set \"genres\"\n"
     ]
    },
    {
     "name": "stdout",
     "output_type": "stream",
     "text": [
      "American Fighter:\n",
      "Genres: ['Action', 'Biography']\n"
     ]
    },
    {
     "name": "stderr",
     "output_type": "stream",
     "text": [
      "2023-12-27 14:43:52,185 ERROR [imdbpy] /Users/mac/opt/anaconda3/lib/python3.9/site-packages/imdb/__init__.py:844: unknown information set \"genres\"\n"
     ]
    },
    {
     "name": "stdout",
     "output_type": "stream",
     "text": [
      "Pitching Tents:\n",
      "Genres: ['Comedy', 'Drama']\n"
     ]
    },
    {
     "name": "stderr",
     "output_type": "stream",
     "text": [
      "2023-12-27 14:43:57,637 ERROR [imdbpy] /Users/mac/opt/anaconda3/lib/python3.9/site-packages/imdb/__init__.py:844: unknown information set \"genres\"\n"
     ]
    },
    {
     "name": "stdout",
     "output_type": "stream",
     "text": [
      "Cupid:\n",
      "Genres: ['Comedy', 'Fantasy', 'Mystery', 'Romance']\n"
     ]
    },
    {
     "name": "stderr",
     "output_type": "stream",
     "text": [
      "2023-12-27 14:44:03,021 ERROR [imdbpy] /Users/mac/opt/anaconda3/lib/python3.9/site-packages/imdb/__init__.py:844: unknown information set \"genres\"\n"
     ]
    },
    {
     "name": "stdout",
     "output_type": "stream",
     "text": [
      "Sultan:\n",
      "Genres: ['Action', 'Drama', 'Romance', 'Sport']\n"
     ]
    },
    {
     "name": "stderr",
     "output_type": "stream",
     "text": [
      "2023-12-27 14:44:07,591 ERROR [imdbpy] /Users/mac/opt/anaconda3/lib/python3.9/site-packages/imdb/__init__.py:844: unknown information set \"genres\"\n"
     ]
    },
    {
     "name": "stdout",
     "output_type": "stream",
     "text": [
      "Twilight of the Yakuza:\n",
      "Genres: ['Documentary']\n"
     ]
    },
    {
     "name": "stderr",
     "output_type": "stream",
     "text": [
      "2023-12-27 14:44:12,773 ERROR [imdbpy] /Users/mac/opt/anaconda3/lib/python3.9/site-packages/imdb/__init__.py:844: unknown information set \"genres\"\n"
     ]
    },
    {
     "name": "stdout",
     "output_type": "stream",
     "text": [
      "Boston2Philly:\n",
      "Genres: ['Drama', 'Romance']\n"
     ]
    },
    {
     "name": "stderr",
     "output_type": "stream",
     "text": [
      "2023-12-27 14:44:17,857 ERROR [imdbpy] /Users/mac/opt/anaconda3/lib/python3.9/site-packages/imdb/__init__.py:844: unknown information set \"genres\"\n"
     ]
    },
    {
     "name": "stdout",
     "output_type": "stream",
     "text": [
      "We Love Paleo:\n",
      "Genres: ['Documentary']\n"
     ]
    },
    {
     "name": "stderr",
     "output_type": "stream",
     "text": [
      "2023-12-27 14:44:22,390 ERROR [imdbpy] /Users/mac/opt/anaconda3/lib/python3.9/site-packages/imdb/__init__.py:844: unknown information set \"genres\"\n"
     ]
    },
    {
     "name": "stdout",
     "output_type": "stream",
     "text": [
      "Banana Island Ghost:\n",
      "Genres: ['Action', 'Comedy', 'Fantasy']\n"
     ]
    },
    {
     "name": "stderr",
     "output_type": "stream",
     "text": [
      "2023-12-27 14:44:27,811 ERROR [imdbpy] /Users/mac/opt/anaconda3/lib/python3.9/site-packages/imdb/__init__.py:844: unknown information set \"genres\"\n"
     ]
    },
    {
     "name": "stdout",
     "output_type": "stream",
     "text": [
      "33 & Beyond: The Royal Art of Freemasonry:\n",
      "Genres: ['Documentary']\n"
     ]
    },
    {
     "name": "stderr",
     "output_type": "stream",
     "text": [
      "2023-12-27 14:44:32,255 ERROR [imdbpy] /Users/mac/opt/anaconda3/lib/python3.9/site-packages/imdb/__init__.py:844: unknown information set \"genres\"\n"
     ]
    },
    {
     "name": "stdout",
     "output_type": "stream",
     "text": [
      "Pink: All I Know So Far:\n",
      "Genres: ['Comedy']\n"
     ]
    },
    {
     "name": "stderr",
     "output_type": "stream",
     "text": [
      "2023-12-27 14:44:36,702 ERROR [imdbpy] /Users/mac/opt/anaconda3/lib/python3.9/site-packages/imdb/__init__.py:844: unknown information set \"genres\"\n"
     ]
    },
    {
     "name": "stdout",
     "output_type": "stream",
     "text": [
      "Newlyweeds:\n",
      "Genres: ['Comedy', 'Drama']\n"
     ]
    },
    {
     "name": "stderr",
     "output_type": "stream",
     "text": [
      "2023-12-27 14:44:41,341 ERROR [imdbpy] /Users/mac/opt/anaconda3/lib/python3.9/site-packages/imdb/__init__.py:844: unknown information set \"genres\"\n"
     ]
    },
    {
     "name": "stdout",
     "output_type": "stream",
     "text": [
      "Big Boys Don’t Cry:\n",
      "Genres: ['Biography', 'Crime', 'Drama']\n"
     ]
    },
    {
     "name": "stderr",
     "output_type": "stream",
     "text": [
      "2023-12-27 14:44:47,866 ERROR [imdbpy] /Users/mac/opt/anaconda3/lib/python3.9/site-packages/imdb/__init__.py:844: unknown information set \"genres\"\n"
     ]
    },
    {
     "name": "stdout",
     "output_type": "stream",
     "text": [
      "Max:\n",
      "Genres: ['Action', 'Adventure', 'Sci-Fi', 'Thriller']\n"
     ]
    },
    {
     "name": "stderr",
     "output_type": "stream",
     "text": [
      "2023-12-27 14:44:52,654 ERROR [imdbpy] /Users/mac/opt/anaconda3/lib/python3.9/site-packages/imdb/__init__.py:844: unknown information set \"genres\"\n"
     ]
    },
    {
     "name": "stdout",
     "output_type": "stream",
     "text": [
      "Red Obsession:\n",
      "Genres: ['Documentary', 'History', 'News']\n"
     ]
    },
    {
     "name": "stderr",
     "output_type": "stream",
     "text": [
      "2023-12-27 14:44:58,464 ERROR [imdbpy] /Users/mac/opt/anaconda3/lib/python3.9/site-packages/imdb/__init__.py:844: unknown information set \"genres\"\n"
     ]
    },
    {
     "name": "stdout",
     "output_type": "stream",
     "text": [
      "Hippi:\n",
      "Genres: ['Action', 'Comedy', 'Romance']\n"
     ]
    },
    {
     "name": "stderr",
     "output_type": "stream",
     "text": [
      "2023-12-27 14:45:02,703 ERROR [imdbpy] /Users/mac/opt/anaconda3/lib/python3.9/site-packages/imdb/__init__.py:844: unknown information set \"genres\"\n"
     ]
    },
    {
     "name": "stdout",
     "output_type": "stream",
     "text": [
      "Whisper:\n",
      "Genres: ['Action', 'Crime', 'Thriller']\n"
     ]
    },
    {
     "name": "stderr",
     "output_type": "stream",
     "text": [
      "2023-12-27 14:45:07,276 ERROR [imdbpy] /Users/mac/opt/anaconda3/lib/python3.9/site-packages/imdb/__init__.py:844: unknown information set \"genres\"\n"
     ]
    },
    {
     "name": "stdout",
     "output_type": "stream",
     "text": [
      "Iddari Lokam Okate:\n",
      "Genres: ['Drama', 'Romance']\n"
     ]
    },
    {
     "name": "stderr",
     "output_type": "stream",
     "text": [
      "2023-12-27 14:45:13,136 ERROR [imdbpy] /Users/mac/opt/anaconda3/lib/python3.9/site-packages/imdb/__init__.py:844: unknown information set \"genres\"\n"
     ]
    },
    {
     "name": "stdout",
     "output_type": "stream",
     "text": [
      "Down Dog:\n",
      "Genres: ['Comedy']\n"
     ]
    },
    {
     "name": "stderr",
     "output_type": "stream",
     "text": [
      "2023-12-27 14:45:19,218 ERROR [imdbpy] /Users/mac/opt/anaconda3/lib/python3.9/site-packages/imdb/__init__.py:844: unknown information set \"genres\"\n"
     ]
    },
    {
     "name": "stdout",
     "output_type": "stream",
     "text": [
      "Keep On Keepin’ On:\n",
      "Genres: ['Documentary']\n"
     ]
    },
    {
     "name": "stderr",
     "output_type": "stream",
     "text": [
      "2023-12-27 14:45:25,822 ERROR [imdbpy] /Users/mac/opt/anaconda3/lib/python3.9/site-packages/imdb/__init__.py:844: unknown information set \"genres\"\n"
     ]
    },
    {
     "name": "stdout",
     "output_type": "stream",
     "text": [
      "The Internship:\n",
      "Genres: ['Comedy']\n"
     ]
    },
    {
     "name": "stderr",
     "output_type": "stream",
     "text": [
      "2023-12-27 14:45:31,978 ERROR [imdbpy] /Users/mac/opt/anaconda3/lib/python3.9/site-packages/imdb/__init__.py:844: unknown information set \"genres\"\n"
     ]
    },
    {
     "name": "stdout",
     "output_type": "stream",
     "text": [
      "Stevie D:\n",
      "Genres: ['Comedy', 'Crime', 'Drama']\n"
     ]
    },
    {
     "name": "stderr",
     "output_type": "stream",
     "text": [
      "2023-12-27 14:45:38,710 ERROR [imdbpy] /Users/mac/opt/anaconda3/lib/python3.9/site-packages/imdb/__init__.py:844: unknown information set \"genres\"\n"
     ]
    },
    {
     "name": "stdout",
     "output_type": "stream",
     "text": [
      "Notebook:\n",
      "Genres: ['Drama', 'Romance']\n"
     ]
    },
    {
     "name": "stderr",
     "output_type": "stream",
     "text": [
      "2023-12-27 14:45:44,677 ERROR [imdbpy] /Users/mac/opt/anaconda3/lib/python3.9/site-packages/imdb/__init__.py:844: unknown information set \"genres\"\n"
     ]
    },
    {
     "name": "stdout",
     "output_type": "stream",
     "text": [
      "After We Fell:\n",
      "Genres: ['Drama', 'Romance']\n"
     ]
    },
    {
     "name": "stderr",
     "output_type": "stream",
     "text": [
      "2023-12-27 14:45:50,558 ERROR [imdbpy] /Users/mac/opt/anaconda3/lib/python3.9/site-packages/imdb/__init__.py:844: unknown information set \"genres\"\n"
     ]
    },
    {
     "name": "stdout",
     "output_type": "stream",
     "text": [
      "Hope Lost:\n",
      "Genres: ['Drama', 'Thriller']\n"
     ]
    },
    {
     "name": "stderr",
     "output_type": "stream",
     "text": [
      "2023-12-27 14:45:56,794 ERROR [imdbpy] /Users/mac/opt/anaconda3/lib/python3.9/site-packages/imdb/__init__.py:844: unknown information set \"genres\"\n"
     ]
    },
    {
     "name": "stdout",
     "output_type": "stream",
     "text": [
      "Vellai Pookal:\n",
      "Genres: ['Crime', 'Drama', 'Thriller']\n"
     ]
    },
    {
     "name": "stderr",
     "output_type": "stream",
     "text": [
      "2023-12-27 14:46:02,509 ERROR [imdbpy] /Users/mac/opt/anaconda3/lib/python3.9/site-packages/imdb/__init__.py:844: unknown information set \"genres\"\n"
     ]
    },
    {
     "name": "stdout",
     "output_type": "stream",
     "text": [
      "Sita:\n",
      "Genres: ['Action', 'Drama', 'Mystery', 'Romance']\n"
     ]
    },
    {
     "name": "stderr",
     "output_type": "stream",
     "text": [
      "2023-12-27 14:46:07,388 ERROR [imdbpy] /Users/mac/opt/anaconda3/lib/python3.9/site-packages/imdb/__init__.py:844: unknown information set \"genres\"\n"
     ]
    },
    {
     "name": "stdout",
     "output_type": "stream",
     "text": [
      "Power of Grayskull: The Definitive History of He-Man and the Masters of the Universe:\n",
      "Genres: ['Documentary', 'History']\n"
     ]
    },
    {
     "name": "stderr",
     "output_type": "stream",
     "text": [
      "2023-12-27 14:46:11,877 ERROR [imdbpy] /Users/mac/opt/anaconda3/lib/python3.9/site-packages/imdb/__init__.py:844: unknown information set \"genres\"\n"
     ]
    },
    {
     "name": "stdout",
     "output_type": "stream",
     "text": [
      "Road:\n",
      "Genres: ['Action', 'Thriller']\n"
     ]
    },
    {
     "name": "stderr",
     "output_type": "stream",
     "text": [
      "2023-12-27 14:46:15,869 ERROR [imdbpy] /Users/mac/opt/anaconda3/lib/python3.9/site-packages/imdb/__init__.py:844: unknown information set \"genres\"\n"
     ]
    },
    {
     "name": "stdout",
     "output_type": "stream",
     "text": [
      "The Pilgrim's Progress:\n",
      "Genres: ['Animation', 'Adventure', 'Family', 'Fantasy']\n"
     ]
    },
    {
     "name": "stderr",
     "output_type": "stream",
     "text": [
      "2023-12-27 14:46:20,805 ERROR [imdbpy] /Users/mac/opt/anaconda3/lib/python3.9/site-packages/imdb/__init__.py:844: unknown information set \"genres\"\n"
     ]
    },
    {
     "name": "stdout",
     "output_type": "stream",
     "text": [
      "HIT: The 2nd Case:\n",
      "Genres: ['Action', 'Crime', 'Drama', 'Mystery', 'Thriller']\n"
     ]
    },
    {
     "name": "stderr",
     "output_type": "stream",
     "text": [
      "2023-12-27 14:46:27,961 ERROR [imdbpy] /Users/mac/opt/anaconda3/lib/python3.9/site-packages/imdb/__init__.py:844: unknown information set \"genres\"\n"
     ]
    },
    {
     "name": "stdout",
     "output_type": "stream",
     "text": [
      "Entourage:\n",
      "Genres: ['Comedy', 'Drama']\n"
     ]
    },
    {
     "name": "stderr",
     "output_type": "stream",
     "text": [
      "2023-12-27 14:46:33,592 ERROR [imdbpy] /Users/mac/opt/anaconda3/lib/python3.9/site-packages/imdb/__init__.py:844: unknown information set \"genres\"\n"
     ]
    },
    {
     "name": "stdout",
     "output_type": "stream",
     "text": [
      "Ping Pong Summer:\n",
      "Genres: ['Comedy', 'Drama', 'Sport']\n"
     ]
    },
    {
     "name": "stderr",
     "output_type": "stream",
     "text": [
      "2023-12-27 14:46:38,225 ERROR [imdbpy] /Users/mac/opt/anaconda3/lib/python3.9/site-packages/imdb/__init__.py:844: unknown information set \"genres\"\n"
     ]
    },
    {
     "name": "stdout",
     "output_type": "stream",
     "text": [
      "Somm: Into the Bottle:\n",
      "Genres: ['Documentary']\n"
     ]
    },
    {
     "name": "stderr",
     "output_type": "stream",
     "text": [
      "2023-12-27 14:46:42,841 ERROR [imdbpy] /Users/mac/opt/anaconda3/lib/python3.9/site-packages/imdb/__init__.py:844: unknown information set \"genres\"\n"
     ]
    },
    {
     "name": "stdout",
     "output_type": "stream",
     "text": [
      "Dear Tenant:\n",
      "Genres: ['Drama', 'Romance']\n"
     ]
    },
    {
     "name": "stderr",
     "output_type": "stream",
     "text": [
      "2023-12-27 14:46:48,861 ERROR [imdbpy] /Users/mac/opt/anaconda3/lib/python3.9/site-packages/imdb/__init__.py:844: unknown information set \"genres\"\n"
     ]
    },
    {
     "name": "stdout",
     "output_type": "stream",
     "text": [
      "One Night in Miami...:\n",
      "Genres: ['Drama']\n"
     ]
    },
    {
     "name": "stderr",
     "output_type": "stream",
     "text": [
      "2023-12-27 14:46:57,921 ERROR [imdbpy] /Users/mac/opt/anaconda3/lib/python3.9/site-packages/imdb/__init__.py:844: unknown information set \"genres\"\n"
     ]
    },
    {
     "name": "stdout",
     "output_type": "stream",
     "text": [
      "Big Sur:\n",
      "Genres: ['Drama', 'Romance']\n"
     ]
    },
    {
     "name": "stderr",
     "output_type": "stream",
     "text": [
      "2023-12-27 14:47:03,479 ERROR [imdbpy] /Users/mac/opt/anaconda3/lib/python3.9/site-packages/imdb/__init__.py:844: unknown information set \"genres\"\n"
     ]
    },
    {
     "name": "stdout",
     "output_type": "stream",
     "text": [
      "Rise of the Footsoldier: Origins:\n",
      "Genres: ['Action', 'Comedy', 'Crime', 'Drama']\n"
     ]
    },
    {
     "name": "stderr",
     "output_type": "stream",
     "text": [
      "2023-12-27 14:47:08,864 ERROR [imdbpy] /Users/mac/opt/anaconda3/lib/python3.9/site-packages/imdb/__init__.py:844: unknown information set \"genres\"\n"
     ]
    },
    {
     "name": "stdout",
     "output_type": "stream",
     "text": [
      "The Demon's Waltz:\n",
      "Genres: ['Horror']\n"
     ]
    },
    {
     "name": "stderr",
     "output_type": "stream",
     "text": [
      "2023-12-27 14:47:15,080 ERROR [imdbpy] /Users/mac/opt/anaconda3/lib/python3.9/site-packages/imdb/__init__.py:844: unknown information set \"genres\"\n"
     ]
    },
    {
     "name": "stdout",
     "output_type": "stream",
     "text": [
      "Jexi:\n",
      "Genres: ['Comedy', 'Romance', 'Sci-Fi']\n"
     ]
    },
    {
     "name": "stderr",
     "output_type": "stream",
     "text": [
      "2023-12-27 14:47:20,710 ERROR [imdbpy] /Users/mac/opt/anaconda3/lib/python3.9/site-packages/imdb/__init__.py:844: unknown information set \"genres\"\n"
     ]
    },
    {
     "name": "stdout",
     "output_type": "stream",
     "text": [
      "Boys in the Trees:\n",
      "Genres: ['Drama', 'Horror', 'Thriller']\n"
     ]
    },
    {
     "name": "stderr",
     "output_type": "stream",
     "text": [
      "2023-12-27 14:47:28,288 ERROR [imdbpy] /Users/mac/opt/anaconda3/lib/python3.9/site-packages/imdb/__init__.py:844: unknown information set \"genres\"\n"
     ]
    },
    {
     "name": "stdout",
     "output_type": "stream",
     "text": [
      "The Load:\n",
      "Genres: ['Drama', 'Romance']\n"
     ]
    },
    {
     "name": "stderr",
     "output_type": "stream",
     "text": [
      "2023-12-27 14:47:32,951 ERROR [imdbpy] /Users/mac/opt/anaconda3/lib/python3.9/site-packages/imdb/__init__.py:844: unknown information set \"genres\"\n"
     ]
    },
    {
     "name": "stdout",
     "output_type": "stream",
     "text": [
      "Transition:\n",
      "Genres: ['Documentary']\n"
     ]
    },
    {
     "name": "stderr",
     "output_type": "stream",
     "text": [
      "2023-12-27 14:47:39,331 ERROR [imdbpy] /Users/mac/opt/anaconda3/lib/python3.9/site-packages/imdb/__init__.py:844: unknown information set \"genres\"\n"
     ]
    },
    {
     "name": "stdout",
     "output_type": "stream",
     "text": [
      "Let Me Fall:\n",
      "Genres: ['Biography', 'Crime', 'Drama']\n"
     ]
    },
    {
     "name": "stderr",
     "output_type": "stream",
     "text": [
      "2023-12-27 14:47:46,901 ERROR [imdbpy] /Users/mac/opt/anaconda3/lib/python3.9/site-packages/imdb/__init__.py:844: unknown information set \"genres\"\n"
     ]
    },
    {
     "name": "stdout",
     "output_type": "stream",
     "text": [
      "Another Forever:\n",
      "Genres: ['Drama']\n"
     ]
    },
    {
     "name": "stderr",
     "output_type": "stream",
     "text": [
      "2023-12-27 14:47:53,146 ERROR [imdbpy] /Users/mac/opt/anaconda3/lib/python3.9/site-packages/imdb/__init__.py:844: unknown information set \"genres\"\n"
     ]
    },
    {
     "name": "stdout",
     "output_type": "stream",
     "text": [
      "Dark Seduction:\n",
      "Genres: ['Comedy', 'Fantasy', 'Horror']\n"
     ]
    },
    {
     "name": "stderr",
     "output_type": "stream",
     "text": [
      "2023-12-27 14:47:58,449 ERROR [imdbpy] /Users/mac/opt/anaconda3/lib/python3.9/site-packages/imdb/__init__.py:844: unknown information set \"genres\"\n"
     ]
    },
    {
     "name": "stdout",
     "output_type": "stream",
     "text": [
      "Ideal Home:\n",
      "Genres: ['Comedy', 'Drama']\n"
     ]
    },
    {
     "name": "stderr",
     "output_type": "stream",
     "text": [
      "2023-12-27 14:48:04,145 ERROR [imdbpy] /Users/mac/opt/anaconda3/lib/python3.9/site-packages/imdb/__init__.py:844: unknown information set \"genres\"\n"
     ]
    },
    {
     "name": "stdout",
     "output_type": "stream",
     "text": [
      "Muirhouse:\n",
      "Genres: ['Drama', 'Horror', 'Thriller']\n"
     ]
    },
    {
     "name": "stderr",
     "output_type": "stream",
     "text": [
      "2023-12-27 14:48:09,456 ERROR [imdbpy] /Users/mac/opt/anaconda3/lib/python3.9/site-packages/imdb/__init__.py:844: unknown information set \"genres\"\n"
     ]
    },
    {
     "name": "stdout",
     "output_type": "stream",
     "text": [
      "Halloweed:\n",
      "Genres: ['Comedy', 'Horror', 'Thriller']\n"
     ]
    },
    {
     "name": "stderr",
     "output_type": "stream",
     "text": [
      "2023-12-27 14:48:14,285 ERROR [imdbpy] /Users/mac/opt/anaconda3/lib/python3.9/site-packages/imdb/__init__.py:844: unknown information set \"genres\"\n"
     ]
    },
    {
     "name": "stdout",
     "output_type": "stream",
     "text": [
      "Christmas with a Crown:\n",
      "Genres: ['Romance']\n"
     ]
    },
    {
     "name": "stderr",
     "output_type": "stream",
     "text": [
      "2023-12-27 14:48:19,016 ERROR [imdbpy] /Users/mac/opt/anaconda3/lib/python3.9/site-packages/imdb/__init__.py:844: unknown information set \"genres\"\n"
     ]
    },
    {
     "name": "stdout",
     "output_type": "stream",
     "text": [
      "Island Songs:\n",
      "Genres: ['Documentary']\n"
     ]
    },
    {
     "name": "stderr",
     "output_type": "stream",
     "text": [
      "2023-12-27 14:48:23,721 ERROR [imdbpy] /Users/mac/opt/anaconda3/lib/python3.9/site-packages/imdb/__init__.py:844: unknown information set \"genres\"\n"
     ]
    },
    {
     "name": "stdout",
     "output_type": "stream",
     "text": [
      "Untimely:\n",
      "Genres: ['Drama']\n"
     ]
    },
    {
     "name": "stderr",
     "output_type": "stream",
     "text": [
      "2023-12-27 14:48:28,918 ERROR [imdbpy] /Users/mac/opt/anaconda3/lib/python3.9/site-packages/imdb/__init__.py:844: unknown information set \"genres\"\n"
     ]
    },
    {
     "name": "stdout",
     "output_type": "stream",
     "text": [
      "Boar:\n",
      "Genres: ['Adventure', 'Horror', 'Thriller']\n"
     ]
    },
    {
     "name": "stderr",
     "output_type": "stream",
     "text": [
      "2023-12-27 14:48:36,681 ERROR [imdbpy] /Users/mac/opt/anaconda3/lib/python3.9/site-packages/imdb/__init__.py:844: unknown information set \"genres\"\n"
     ]
    },
    {
     "name": "stdout",
     "output_type": "stream",
     "text": [
      "Manikarnika: The Queen of Jhansi:\n",
      "Genres: ['Action', 'Biography', 'Drama', 'History']\n"
     ]
    },
    {
     "name": "stderr",
     "output_type": "stream",
     "text": [
      "2023-12-27 14:48:43,555 ERROR [imdbpy] /Users/mac/opt/anaconda3/lib/python3.9/site-packages/imdb/__init__.py:844: unknown information set \"genres\"\n"
     ]
    },
    {
     "name": "stdout",
     "output_type": "stream",
     "text": [
      "Gulabo Sitabo:\n",
      "Genres: ['Comedy', 'Drama']\n"
     ]
    },
    {
     "name": "stderr",
     "output_type": "stream",
     "text": [
      "2023-12-27 14:48:50,056 ERROR [imdbpy] /Users/mac/opt/anaconda3/lib/python3.9/site-packages/imdb/__init__.py:844: unknown information set \"genres\"\n"
     ]
    },
    {
     "name": "stdout",
     "output_type": "stream",
     "text": [
      "Listen:\n",
      "Genres: ['Drama']\n"
     ]
    },
    {
     "name": "stderr",
     "output_type": "stream",
     "text": [
      "2023-12-27 14:48:57,258 ERROR [imdbpy] /Users/mac/opt/anaconda3/lib/python3.9/site-packages/imdb/__init__.py:844: unknown information set \"genres\"\n"
     ]
    },
    {
     "name": "stdout",
     "output_type": "stream",
     "text": [
      "Concrete Plans:\n",
      "Genres: ['Crime', 'Thriller']\n"
     ]
    },
    {
     "name": "stderr",
     "output_type": "stream",
     "text": [
      "2023-12-27 14:49:03,877 ERROR [imdbpy] /Users/mac/opt/anaconda3/lib/python3.9/site-packages/imdb/__init__.py:844: unknown information set \"genres\"\n"
     ]
    },
    {
     "name": "stdout",
     "output_type": "stream",
     "text": [
      "Blood Bags:\n",
      "Genres: ['Horror']\n"
     ]
    },
    {
     "name": "stderr",
     "output_type": "stream",
     "text": [
      "2023-12-27 14:49:08,536 ERROR [imdbpy] /Users/mac/opt/anaconda3/lib/python3.9/site-packages/imdb/__init__.py:844: unknown information set \"genres\"\n"
     ]
    },
    {
     "name": "stdout",
     "output_type": "stream",
     "text": [
      "Letters from Baghdad:\n",
      "Genres: ['Documentary', 'Biography', 'History']\n"
     ]
    },
    {
     "name": "stderr",
     "output_type": "stream",
     "text": [
      "2023-12-27 14:49:14,260 ERROR [imdbpy] /Users/mac/opt/anaconda3/lib/python3.9/site-packages/imdb/__init__.py:844: unknown information set \"genres\"\n"
     ]
    },
    {
     "name": "stdout",
     "output_type": "stream",
     "text": [
      "Time Is Up:\n",
      "Genres: ['Drama', 'Romance']\n"
     ]
    },
    {
     "name": "stderr",
     "output_type": "stream",
     "text": [
      "2023-12-27 14:49:20,221 ERROR [imdbpy] /Users/mac/opt/anaconda3/lib/python3.9/site-packages/imdb/__init__.py:844: unknown information set \"genres\"\n"
     ]
    },
    {
     "name": "stdout",
     "output_type": "stream",
     "text": [
      "Lizzie:\n",
      "Genres: ['Biography', 'Crime', 'Drama', 'Mystery', 'Thriller']\n"
     ]
    },
    {
     "name": "stderr",
     "output_type": "stream",
     "text": [
      "2023-12-27 14:49:29,094 ERROR [imdbpy] /Users/mac/opt/anaconda3/lib/python3.9/site-packages/imdb/__init__.py:844: unknown information set \"genres\"\n"
     ]
    },
    {
     "name": "stdout",
     "output_type": "stream",
     "text": [
      "The Hungry:\n",
      "Genres: ['Drama']\n"
     ]
    },
    {
     "name": "stderr",
     "output_type": "stream",
     "text": [
      "2023-12-27 14:49:34,604 ERROR [imdbpy] /Users/mac/opt/anaconda3/lib/python3.9/site-packages/imdb/__init__.py:844: unknown information set \"genres\"\n"
     ]
    },
    {
     "name": "stdout",
     "output_type": "stream",
     "text": [
      "Death Factory:\n",
      "Genres: ['Fantasy', 'Horror', 'Thriller']\n"
     ]
    },
    {
     "name": "stderr",
     "output_type": "stream",
     "text": [
      "2023-12-27 14:49:40,788 ERROR [imdbpy] /Users/mac/opt/anaconda3/lib/python3.9/site-packages/imdb/__init__.py:844: unknown information set \"genres\"\n"
     ]
    },
    {
     "name": "stdout",
     "output_type": "stream",
     "text": [
      "A Stork's Journey:\n",
      "Genres: ['Animation', 'Adventure', 'Comedy', 'Family', 'Fantasy']\n"
     ]
    },
    {
     "name": "stderr",
     "output_type": "stream",
     "text": [
      "2023-12-27 14:49:45,457 ERROR [imdbpy] /Users/mac/opt/anaconda3/lib/python3.9/site-packages/imdb/__init__.py:844: unknown information set \"genres\"\n"
     ]
    },
    {
     "name": "stdout",
     "output_type": "stream",
     "text": [
      "Barista:\n",
      "Genres: ['Documentary']\n"
     ]
    },
    {
     "name": "stderr",
     "output_type": "stream",
     "text": [
      "2023-12-27 14:49:51,402 ERROR [imdbpy] /Users/mac/opt/anaconda3/lib/python3.9/site-packages/imdb/__init__.py:844: unknown information set \"genres\"\n"
     ]
    },
    {
     "name": "stdout",
     "output_type": "stream",
     "text": [
      "Golmaal Again:\n",
      "Genres: ['Action', 'Comedy', 'Fantasy', 'Horror']\n"
     ]
    },
    {
     "name": "stderr",
     "output_type": "stream",
     "text": [
      "2023-12-27 14:49:57,031 ERROR [imdbpy] /Users/mac/opt/anaconda3/lib/python3.9/site-packages/imdb/__init__.py:844: unknown information set \"genres\"\n"
     ]
    },
    {
     "name": "stdout",
     "output_type": "stream",
     "text": [
      "The Man Who Killed Hitler and Then the Bigfoot:\n",
      "Genres: ['Adventure', 'Drama', 'Sci-Fi', 'War']\n"
     ]
    },
    {
     "name": "stderr",
     "output_type": "stream",
     "text": [
      "2023-12-27 14:50:02,233 ERROR [imdbpy] /Users/mac/opt/anaconda3/lib/python3.9/site-packages/imdb/__init__.py:844: unknown information set \"genres\"\n"
     ]
    },
    {
     "name": "stdout",
     "output_type": "stream",
     "text": [
      "A Sunday Horse:\n",
      "Genres: ['Biography', 'Family', 'Sport']\n"
     ]
    },
    {
     "name": "stderr",
     "output_type": "stream",
     "text": [
      "2023-12-27 14:50:06,923 ERROR [imdbpy] /Users/mac/opt/anaconda3/lib/python3.9/site-packages/imdb/__init__.py:844: unknown information set \"genres\"\n"
     ]
    },
    {
     "name": "stdout",
     "output_type": "stream",
     "text": [
      "UFO Conspiracies: The Hidden Truth:\n",
      "Genres: ['Documentary']\n"
     ]
    },
    {
     "name": "stderr",
     "output_type": "stream",
     "text": [
      "2023-12-27 14:50:12,767 ERROR [imdbpy] /Users/mac/opt/anaconda3/lib/python3.9/site-packages/imdb/__init__.py:844: unknown information set \"genres\"\n"
     ]
    },
    {
     "name": "stdout",
     "output_type": "stream",
     "text": [
      "Beast of Burden:\n",
      "Genres: ['Action', 'Crime', 'Drama', 'Thriller']\n"
     ]
    },
    {
     "name": "stderr",
     "output_type": "stream",
     "text": [
      "2023-12-27 14:50:18,062 ERROR [imdbpy] /Users/mac/opt/anaconda3/lib/python3.9/site-packages/imdb/__init__.py:844: unknown information set \"genres\"\n"
     ]
    },
    {
     "name": "stdout",
     "output_type": "stream",
     "text": [
      "The Forbidden Note:\n",
      "Genres: ['Drama', 'Romance']\n"
     ]
    },
    {
     "name": "stderr",
     "output_type": "stream",
     "text": [
      "2023-12-27 14:50:23,646 ERROR [imdbpy] /Users/mac/opt/anaconda3/lib/python3.9/site-packages/imdb/__init__.py:844: unknown information set \"genres\"\n"
     ]
    },
    {
     "name": "stdout",
     "output_type": "stream",
     "text": [
      "Fatal Instinct:\n",
      "Genres: ['Comedy', 'Crime', 'Thriller']\n"
     ]
    },
    {
     "name": "stderr",
     "output_type": "stream",
     "text": [
      "2023-12-27 14:50:28,350 ERROR [imdbpy] /Users/mac/opt/anaconda3/lib/python3.9/site-packages/imdb/__init__.py:844: unknown information set \"genres\"\n"
     ]
    },
    {
     "name": "stdout",
     "output_type": "stream",
     "text": [
      "Marvellous:\n",
      "Genres: ['Drama']\n"
     ]
    },
    {
     "name": "stderr",
     "output_type": "stream",
     "text": [
      "2023-12-27 14:50:34,012 ERROR [imdbpy] /Users/mac/opt/anaconda3/lib/python3.9/site-packages/imdb/__init__.py:844: unknown information set \"genres\"\n"
     ]
    },
    {
     "name": "stdout",
     "output_type": "stream",
     "text": [
      "Pathonpatham Noottandu:\n",
      "Genres: ['Action', 'Drama', 'History']\n"
     ]
    },
    {
     "name": "stderr",
     "output_type": "stream",
     "text": [
      "2023-12-27 14:50:41,789 ERROR [imdbpy] /Users/mac/opt/anaconda3/lib/python3.9/site-packages/imdb/__init__.py:844: unknown information set \"genres\"\n"
     ]
    },
    {
     "name": "stdout",
     "output_type": "stream",
     "text": [
      "Then Came You:\n",
      "Genres: ['Adventure', 'Comedy', 'Drama']\n"
     ]
    },
    {
     "name": "stderr",
     "output_type": "stream",
     "text": [
      "2023-12-27 14:50:49,298 ERROR [imdbpy] /Users/mac/opt/anaconda3/lib/python3.9/site-packages/imdb/__init__.py:844: unknown information set \"genres\"\n"
     ]
    },
    {
     "name": "stdout",
     "output_type": "stream",
     "text": [
      "Shangri-La: Near Extinction:\n",
      "Genres: ['Sci-Fi']\n"
     ]
    },
    {
     "name": "stderr",
     "output_type": "stream",
     "text": [
      "2023-12-27 14:50:54,766 ERROR [imdbpy] /Users/mac/opt/anaconda3/lib/python3.9/site-packages/imdb/__init__.py:844: unknown information set \"genres\"\n"
     ]
    },
    {
     "name": "stdout",
     "output_type": "stream",
     "text": [
      "Prisoner of Love:\n",
      "Genres: ['Crime', 'Drama']\n"
     ]
    },
    {
     "name": "stderr",
     "output_type": "stream",
     "text": [
      "2023-12-27 14:51:01,535 ERROR [imdbpy] /Users/mac/opt/anaconda3/lib/python3.9/site-packages/imdb/__init__.py:844: unknown information set \"genres\"\n"
     ]
    },
    {
     "name": "stdout",
     "output_type": "stream",
     "text": [
      "Seven Stages to Achieve Eternal Bliss:\n",
      "Genres: ['Comedy', 'Horror', 'Thriller']\n"
     ]
    },
    {
     "name": "stderr",
     "output_type": "stream",
     "text": [
      "2023-12-27 14:51:07,630 ERROR [imdbpy] /Users/mac/opt/anaconda3/lib/python3.9/site-packages/imdb/__init__.py:844: unknown information set \"genres\"\n"
     ]
    },
    {
     "name": "stdout",
     "output_type": "stream",
     "text": [
      "Crawlspace:\n",
      "Genres: ['Thriller']\n"
     ]
    },
    {
     "name": "stderr",
     "output_type": "stream",
     "text": [
      "2023-12-27 14:51:14,047 ERROR [imdbpy] /Users/mac/opt/anaconda3/lib/python3.9/site-packages/imdb/__init__.py:844: unknown information set \"genres\"\n"
     ]
    },
    {
     "name": "stdout",
     "output_type": "stream",
     "text": [
      "Waiting for You:\n",
      "Genres: ['Drama', 'Mystery']\n"
     ]
    },
    {
     "name": "stderr",
     "output_type": "stream",
     "text": [
      "2023-12-27 14:51:20,712 ERROR [imdbpy] /Users/mac/opt/anaconda3/lib/python3.9/site-packages/imdb/__init__.py:844: unknown information set \"genres\"\n"
     ]
    },
    {
     "name": "stdout",
     "output_type": "stream",
     "text": [
      "The Clockwork Girl:\n",
      "Genres: ['Animation', 'Adventure', 'Fantasy']\n"
     ]
    },
    {
     "name": "stderr",
     "output_type": "stream",
     "text": [
      "2023-12-27 14:51:27,892 ERROR [imdbpy] /Users/mac/opt/anaconda3/lib/python3.9/site-packages/imdb/__init__.py:844: unknown information set \"genres\"\n"
     ]
    },
    {
     "name": "stdout",
     "output_type": "stream",
     "text": [
      "We Still Say Grace:\n",
      "Genres: ['Thriller']\n"
     ]
    },
    {
     "name": "stderr",
     "output_type": "stream",
     "text": [
      "2023-12-27 14:51:38,566 ERROR [imdbpy] /Users/mac/opt/anaconda3/lib/python3.9/site-packages/imdb/__init__.py:844: unknown information set \"genres\"\n"
     ]
    },
    {
     "name": "stdout",
     "output_type": "stream",
     "text": [
      "Barun Rai and the House on the Cliff:\n",
      "Genres: ['Horror', 'Thriller']\n"
     ]
    },
    {
     "name": "stderr",
     "output_type": "stream",
     "text": [
      "2023-12-27 14:51:53,052 ERROR [imdbpy] /Users/mac/opt/anaconda3/lib/python3.9/site-packages/imdb/__init__.py:844: unknown information set \"genres\"\n"
     ]
    },
    {
     "name": "stdout",
     "output_type": "stream",
     "text": [
      "Yes, God, Yes:\n",
      "Genres: ['Comedy', 'Drama']\n"
     ]
    },
    {
     "name": "stderr",
     "output_type": "stream",
     "text": [
      "2023-12-27 14:52:03,996 ERROR [imdbpy] /Users/mac/opt/anaconda3/lib/python3.9/site-packages/imdb/__init__.py:844: unknown information set \"genres\"\n"
     ]
    },
    {
     "name": "stdout",
     "output_type": "stream",
     "text": [
      "K.G.F: Chapter 2:\n",
      "Genres: ['Action', 'Crime', 'Drama', 'Thriller']\n"
     ]
    },
    {
     "name": "stderr",
     "output_type": "stream",
     "text": [
      "2023-12-27 14:52:14,636 ERROR [imdbpy] /Users/mac/opt/anaconda3/lib/python3.9/site-packages/imdb/__init__.py:844: unknown information set \"genres\"\n"
     ]
    },
    {
     "name": "stdout",
     "output_type": "stream",
     "text": [
      "Made in Italy:\n",
      "Genres: ['Comedy', 'Drama', 'Romance']\n"
     ]
    },
    {
     "name": "stderr",
     "output_type": "stream",
     "text": [
      "2023-12-27 14:52:21,588 ERROR [imdbpy] /Users/mac/opt/anaconda3/lib/python3.9/site-packages/imdb/__init__.py:844: unknown information set \"genres\"\n"
     ]
    },
    {
     "name": "stdout",
     "output_type": "stream",
     "text": [
      "A Guide to Dating at the End of the World:\n",
      "Genres: ['Comedy', 'Romance', 'Sci-Fi']\n"
     ]
    },
    {
     "name": "stderr",
     "output_type": "stream",
     "text": [
      "2023-12-27 14:52:29,984 ERROR [imdbpy] /Users/mac/opt/anaconda3/lib/python3.9/site-packages/imdb/__init__.py:844: unknown information set \"genres\"\n"
     ]
    },
    {
     "name": "stdout",
     "output_type": "stream",
     "text": [
      "Horizon Line:\n",
      "Genres: ['Action', 'Adventure', 'Drama', 'Horror', 'Thriller']\n"
     ]
    },
    {
     "name": "stderr",
     "output_type": "stream",
     "text": [
      "2023-12-27 14:52:35,692 ERROR [imdbpy] /Users/mac/opt/anaconda3/lib/python3.9/site-packages/imdb/__init__.py:844: unknown information set \"genres\"\n"
     ]
    },
    {
     "name": "stdout",
     "output_type": "stream",
     "text": [
      "The Magical Christmas Tree:\n",
      "Genres: ['Fantasy', 'Romance']\n"
     ]
    },
    {
     "name": "stderr",
     "output_type": "stream",
     "text": [
      "2023-12-27 14:52:41,391 ERROR [imdbpy] /Users/mac/opt/anaconda3/lib/python3.9/site-packages/imdb/__init__.py:844: unknown information set \"genres\"\n"
     ]
    },
    {
     "name": "stdout",
     "output_type": "stream",
     "text": [
      "Bring Him Back Dead:\n",
      "Genres: ['Action']\n"
     ]
    },
    {
     "name": "stderr",
     "output_type": "stream",
     "text": [
      "2023-12-27 14:52:47,536 ERROR [imdbpy] /Users/mac/opt/anaconda3/lib/python3.9/site-packages/imdb/__init__.py:844: unknown information set \"genres\"\n"
     ]
    },
    {
     "name": "stdout",
     "output_type": "stream",
     "text": [
      "Who Owns Nature?:\n",
      "Genres: ['Documentary']\n"
     ]
    },
    {
     "name": "stderr",
     "output_type": "stream",
     "text": [
      "2023-12-27 14:52:55,680 ERROR [imdbpy] /Users/mac/opt/anaconda3/lib/python3.9/site-packages/imdb/__init__.py:844: unknown information set \"genres\"\n"
     ]
    },
    {
     "name": "stdout",
     "output_type": "stream",
     "text": [
      "SPiN:\n",
      "Genres: ['Comedy']\n"
     ]
    },
    {
     "name": "stderr",
     "output_type": "stream",
     "text": [
      "2023-12-27 14:53:01,595 ERROR [imdbpy] /Users/mac/opt/anaconda3/lib/python3.9/site-packages/imdb/__init__.py:844: unknown information set \"genres\"\n"
     ]
    },
    {
     "name": "stdout",
     "output_type": "stream",
     "text": [
      "The Girl Who Believes in Miracles:\n",
      "Genres: ['Drama', 'Family']\n"
     ]
    },
    {
     "name": "stderr",
     "output_type": "stream",
     "text": [
      "2023-12-27 14:53:07,052 ERROR [imdbpy] /Users/mac/opt/anaconda3/lib/python3.9/site-packages/imdb/__init__.py:844: unknown information set \"genres\"\n"
     ]
    },
    {
     "name": "stdout",
     "output_type": "stream",
     "text": [
      "The Last 24 Hours: Elvis Presley:\n",
      "Genres: ['Documentary']\n"
     ]
    },
    {
     "name": "stderr",
     "output_type": "stream",
     "text": [
      "2023-12-27 14:53:12,559 ERROR [imdbpy] /Users/mac/opt/anaconda3/lib/python3.9/site-packages/imdb/__init__.py:844: unknown information set \"genres\"\n"
     ]
    },
    {
     "name": "stdout",
     "output_type": "stream",
     "text": [
      "Galwakdi:\n",
      "Genres: ['Comedy', 'Drama', 'Romance']\n"
     ]
    },
    {
     "name": "stderr",
     "output_type": "stream",
     "text": [
      "2023-12-27 14:53:19,907 ERROR [imdbpy] /Users/mac/opt/anaconda3/lib/python3.9/site-packages/imdb/__init__.py:844: unknown information set \"genres\"\n"
     ]
    },
    {
     "name": "stdout",
     "output_type": "stream",
     "text": [
      "Heir:\n",
      "Genres: ['Horror', 'Thriller']\n"
     ]
    },
    {
     "name": "stderr",
     "output_type": "stream",
     "text": [
      "2023-12-27 14:53:26,433 ERROR [imdbpy] /Users/mac/opt/anaconda3/lib/python3.9/site-packages/imdb/__init__.py:844: unknown information set \"genres\"\n"
     ]
    },
    {
     "name": "stdout",
     "output_type": "stream",
     "text": [
      "Come True:\n",
      "Genres: ['Horror', 'Sci-Fi']\n"
     ]
    },
    {
     "name": "stderr",
     "output_type": "stream",
     "text": [
      "2023-12-27 14:53:31,581 ERROR [imdbpy] /Users/mac/opt/anaconda3/lib/python3.9/site-packages/imdb/__init__.py:844: unknown information set \"genres\"\n"
     ]
    },
    {
     "name": "stdout",
     "output_type": "stream",
     "text": [
      "Vinaya Vidheya Rama:\n",
      "Genres: ['Action', 'Drama']\n"
     ]
    },
    {
     "name": "stderr",
     "output_type": "stream",
     "text": [
      "2023-12-27 14:53:36,705 ERROR [imdbpy] /Users/mac/opt/anaconda3/lib/python3.9/site-packages/imdb/__init__.py:844: unknown information set \"genres\"\n"
     ]
    },
    {
     "name": "stdout",
     "output_type": "stream",
     "text": [
      "Beyond Bollywood:\n",
      "Genres: ['Documentary', 'Biography', 'Drama']\n"
     ]
    },
    {
     "name": "stderr",
     "output_type": "stream",
     "text": [
      "2023-12-27 14:53:41,517 ERROR [imdbpy] /Users/mac/opt/anaconda3/lib/python3.9/site-packages/imdb/__init__.py:844: unknown information set \"genres\"\n"
     ]
    },
    {
     "name": "stdout",
     "output_type": "stream",
     "text": [
      "To Let:\n",
      "Genres: ['Comedy', 'Romance']\n"
     ]
    },
    {
     "name": "stderr",
     "output_type": "stream",
     "text": [
      "2023-12-27 14:53:50,630 ERROR [imdbpy] /Users/mac/opt/anaconda3/lib/python3.9/site-packages/imdb/__init__.py:844: unknown information set \"genres\"\n"
     ]
    },
    {
     "name": "stdout",
     "output_type": "stream",
     "text": [
      "Terror on the Prairie:\n",
      "Genres: ['Drama', 'Thriller', 'Western']\n"
     ]
    },
    {
     "name": "stderr",
     "output_type": "stream",
     "text": [
      "2023-12-27 14:53:59,566 ERROR [imdbpy] /Users/mac/opt/anaconda3/lib/python3.9/site-packages/imdb/__init__.py:844: unknown information set \"genres\"\n"
     ]
    },
    {
     "name": "stdout",
     "output_type": "stream",
     "text": [
      "The Reunited States:\n",
      "Genres: ['Documentary']\n"
     ]
    },
    {
     "name": "stderr",
     "output_type": "stream",
     "text": [
      "2023-12-27 14:54:05,311 ERROR [imdbpy] /Users/mac/opt/anaconda3/lib/python3.9/site-packages/imdb/__init__.py:844: unknown information set \"genres\"\n"
     ]
    },
    {
     "name": "stdout",
     "output_type": "stream",
     "text": [
      "Sharkwater Extinction:\n",
      "Genres: ['Documentary']\n"
     ]
    },
    {
     "name": "stderr",
     "output_type": "stream",
     "text": [
      "2023-12-27 14:54:17,689 ERROR [imdbpy] /Users/mac/opt/anaconda3/lib/python3.9/site-packages/imdb/__init__.py:844: unknown information set \"genres\"\n"
     ]
    },
    {
     "name": "stdout",
     "output_type": "stream",
     "text": [
      "Little Lies:\n",
      "Genres: ['Crime', 'Drama', 'Mystery']\n"
     ]
    },
    {
     "name": "stderr",
     "output_type": "stream",
     "text": [
      "2023-12-27 14:54:27,719 ERROR [imdbpy] /Users/mac/opt/anaconda3/lib/python3.9/site-packages/imdb/__init__.py:844: unknown information set \"genres\"\n"
     ]
    },
    {
     "name": "stdout",
     "output_type": "stream",
     "text": [
      "Thappad:\n",
      "Genres: ['Drama']\n"
     ]
    },
    {
     "name": "stderr",
     "output_type": "stream",
     "text": [
      "2023-12-27 14:54:33,390 ERROR [imdbpy] /Users/mac/opt/anaconda3/lib/python3.9/site-packages/imdb/__init__.py:844: unknown information set \"genres\"\n"
     ]
    },
    {
     "name": "stdout",
     "output_type": "stream",
     "text": [
      "Show Me What You Got:\n",
      "Genres: ['Drama', 'Romance']\n"
     ]
    },
    {
     "name": "stderr",
     "output_type": "stream",
     "text": [
      "2023-12-27 14:54:41,095 ERROR [imdbpy] /Users/mac/opt/anaconda3/lib/python3.9/site-packages/imdb/__init__.py:844: unknown information set \"genres\"\n"
     ]
    },
    {
     "name": "stdout",
     "output_type": "stream",
     "text": [
      "You Must Be Joking:\n",
      "Genres: ['Comedy']\n"
     ]
    },
    {
     "name": "stderr",
     "output_type": "stream",
     "text": [
      "2023-12-27 14:54:47,204 ERROR [imdbpy] /Users/mac/opt/anaconda3/lib/python3.9/site-packages/imdb/__init__.py:844: unknown information set \"genres\"\n"
     ]
    },
    {
     "name": "stdout",
     "output_type": "stream",
     "text": [
      "Nizhal:\n",
      "Genres: ['Drama', 'Mystery', 'Thriller']\n"
     ]
    },
    {
     "name": "stderr",
     "output_type": "stream",
     "text": [
      "2023-12-27 14:54:53,038 ERROR [imdbpy] /Users/mac/opt/anaconda3/lib/python3.9/site-packages/imdb/__init__.py:844: unknown information set \"genres\"\n"
     ]
    },
    {
     "name": "stdout",
     "output_type": "stream",
     "text": [
      "A Great North Christmas:\n",
      "Genres: ['Drama']\n"
     ]
    },
    {
     "name": "stderr",
     "output_type": "stream",
     "text": [
      "2023-12-27 14:55:00,168 ERROR [imdbpy] /Users/mac/opt/anaconda3/lib/python3.9/site-packages/imdb/__init__.py:844: unknown information set \"genres\"\n"
     ]
    },
    {
     "name": "stdout",
     "output_type": "stream",
     "text": [
      "Kim Dotcom: Caught in the Web:\n",
      "Genres: ['Documentary', 'Biography', 'Thriller']\n"
     ]
    },
    {
     "name": "stderr",
     "output_type": "stream",
     "text": [
      "2023-12-27 14:55:07,905 ERROR [imdbpy] /Users/mac/opt/anaconda3/lib/python3.9/site-packages/imdb/__init__.py:844: unknown information set \"genres\"\n"
     ]
    },
    {
     "name": "stdout",
     "output_type": "stream",
     "text": [
      "Cold Skin:\n",
      "Genres: ['Action', 'Fantasy', 'Horror', 'Sci-Fi', 'Thriller']\n"
     ]
    },
    {
     "name": "stderr",
     "output_type": "stream",
     "text": [
      "2023-12-27 14:55:16,758 ERROR [imdbpy] /Users/mac/opt/anaconda3/lib/python3.9/site-packages/imdb/__init__.py:844: unknown information set \"genres\"\n"
     ]
    },
    {
     "name": "stdout",
     "output_type": "stream",
     "text": [
      "Lasso:\n",
      "Genres: ['Comedy', 'Drama', 'Sport']\n"
     ]
    },
    {
     "name": "stderr",
     "output_type": "stream",
     "text": [
      "2023-12-27 14:55:23,542 ERROR [imdbpy] /Users/mac/opt/anaconda3/lib/python3.9/site-packages/imdb/__init__.py:844: unknown information set \"genres\"\n"
     ]
    },
    {
     "name": "stdout",
     "output_type": "stream",
     "text": [
      "Officer:\n",
      "Genres: ['Drama', 'Romance']\n"
     ]
    },
    {
     "name": "stderr",
     "output_type": "stream",
     "text": [
      "2023-12-27 14:55:31,424 ERROR [imdbpy] /Users/mac/opt/anaconda3/lib/python3.9/site-packages/imdb/__init__.py:844: unknown information set \"genres\"\n"
     ]
    },
    {
     "name": "stdout",
     "output_type": "stream",
     "text": [
      "Hot Guys with Guns:\n",
      "Genres: ['Action', 'Comedy', 'Romance', 'Thriller']\n"
     ]
    },
    {
     "name": "stderr",
     "output_type": "stream",
     "text": [
      "2023-12-27 14:55:41,327 ERROR [imdbpy] /Users/mac/opt/anaconda3/lib/python3.9/site-packages/imdb/__init__.py:844: unknown information set \"genres\"\n"
     ]
    },
    {
     "name": "stdout",
     "output_type": "stream",
     "text": [
      "The Beauty of Love:\n",
      "Genres: ['Romance']\n"
     ]
    },
    {
     "name": "stderr",
     "output_type": "stream",
     "text": [
      "2023-12-27 14:55:51,957 ERROR [imdbpy] /Users/mac/opt/anaconda3/lib/python3.9/site-packages/imdb/__init__.py:844: unknown information set \"genres\"\n"
     ]
    },
    {
     "name": "stdout",
     "output_type": "stream",
     "text": [
      "Leslie Caron: The Reluctant Star:\n",
      "Genres: ['Documentary']\n"
     ]
    },
    {
     "name": "stderr",
     "output_type": "stream",
     "text": [
      "2023-12-27 14:55:59,774 ERROR [imdbpy] /Users/mac/opt/anaconda3/lib/python3.9/site-packages/imdb/__init__.py:844: unknown information set \"genres\"\n"
     ]
    },
    {
     "name": "stdout",
     "output_type": "stream",
     "text": [
      "Brother's Day:\n",
      "Genres: ['Action', 'Comedy', 'Romance']\n"
     ]
    },
    {
     "name": "stderr",
     "output_type": "stream",
     "text": [
      "2023-12-27 14:56:05,442 ERROR [imdbpy] /Users/mac/opt/anaconda3/lib/python3.9/site-packages/imdb/__init__.py:844: unknown information set \"genres\"\n"
     ]
    },
    {
     "name": "stdout",
     "output_type": "stream",
     "text": [
      "Katherine of Alexandria:\n",
      "Genres: ['Biography', 'Drama', 'History', 'War']\n"
     ]
    },
    {
     "name": "stderr",
     "output_type": "stream",
     "text": [
      "2023-12-27 14:56:11,756 ERROR [imdbpy] /Users/mac/opt/anaconda3/lib/python3.9/site-packages/imdb/__init__.py:844: unknown information set \"genres\"\n"
     ]
    },
    {
     "name": "stdout",
     "output_type": "stream",
     "text": [
      "Zakir Khan: Kaksha Gyarvi:\n",
      "Genres: ['Comedy']\n"
     ]
    },
    {
     "name": "stderr",
     "output_type": "stream",
     "text": [
      "2023-12-27 14:56:33,972 ERROR [imdbpy] /Users/mac/opt/anaconda3/lib/python3.9/site-packages/imdb/__init__.py:844: unknown information set \"genres\"\n"
     ]
    },
    {
     "name": "stdout",
     "output_type": "stream",
     "text": [
      "Jawbone:\n",
      "Genres: ['Action', 'Drama', 'Sport']\n"
     ]
    },
    {
     "name": "stderr",
     "output_type": "stream",
     "text": [
      "2023-12-27 14:56:41,229 ERROR [imdbpy] /Users/mac/opt/anaconda3/lib/python3.9/site-packages/imdb/__init__.py:844: unknown information set \"genres\"\n"
     ]
    },
    {
     "name": "stdout",
     "output_type": "stream",
     "text": [
      "By Light of Desert Night:\n",
      "Genres: ['Drama', 'Mystery', 'Thriller']\n"
     ]
    },
    {
     "name": "stderr",
     "output_type": "stream",
     "text": [
      "2023-12-27 14:56:48,820 ERROR [imdbpy] /Users/mac/opt/anaconda3/lib/python3.9/site-packages/imdb/__init__.py:844: unknown information set \"genres\"\n"
     ]
    },
    {
     "name": "stdout",
     "output_type": "stream",
     "text": [
      "The President:\n",
      "Genres: ['Comedy', 'Drama', 'Romance']\n"
     ]
    },
    {
     "name": "stderr",
     "output_type": "stream",
     "text": [
      "2023-12-27 14:56:53,711 ERROR [imdbpy] /Users/mac/opt/anaconda3/lib/python3.9/site-packages/imdb/__init__.py:844: unknown information set \"genres\"\n"
     ]
    },
    {
     "name": "stdout",
     "output_type": "stream",
     "text": [
      "Nosferatu.com:\n",
      "Genres: ['Horror']\n"
     ]
    },
    {
     "name": "stderr",
     "output_type": "stream",
     "text": [
      "2023-12-27 14:56:59,871 ERROR [imdbpy] /Users/mac/opt/anaconda3/lib/python3.9/site-packages/imdb/__init__.py:844: unknown information set \"genres\"\n"
     ]
    },
    {
     "name": "stdout",
     "output_type": "stream",
     "text": [
      "Emergency:\n",
      "Genres: ['Action', 'Adventure', 'Comedy', 'Drama']\n"
     ]
    },
    {
     "name": "stderr",
     "output_type": "stream",
     "text": [
      "2023-12-27 14:57:05,254 ERROR [imdbpy] /Users/mac/opt/anaconda3/lib/python3.9/site-packages/imdb/__init__.py:844: unknown information set \"genres\"\n"
     ]
    },
    {
     "name": "stdout",
     "output_type": "stream",
     "text": [
      "The Snail and the Whale:\n",
      "Genres: ['Animation', 'Adventure', 'Comedy', 'Family', 'Fantasy']\n"
     ]
    },
    {
     "name": "stderr",
     "output_type": "stream",
     "text": [
      "2023-12-27 14:57:11,071 ERROR [imdbpy] /Users/mac/opt/anaconda3/lib/python3.9/site-packages/imdb/__init__.py:844: unknown information set \"genres\"\n"
     ]
    },
    {
     "name": "stdout",
     "output_type": "stream",
     "text": [
      "Bounty Killer:\n",
      "Genres: ['Action', 'Comedy', 'Sci-Fi', 'Thriller']\n"
     ]
    },
    {
     "name": "stderr",
     "output_type": "stream",
     "text": [
      "2023-12-27 14:57:16,058 ERROR [imdbpy] /Users/mac/opt/anaconda3/lib/python3.9/site-packages/imdb/__init__.py:844: unknown information set \"genres\"\n"
     ]
    },
    {
     "name": "stdout",
     "output_type": "stream",
     "text": [
      "Flashback:\n",
      "Genres: ['Drama', 'Mystery', 'Thriller']\n"
     ]
    },
    {
     "name": "stderr",
     "output_type": "stream",
     "text": [
      "2023-12-27 14:57:21,071 ERROR [imdbpy] /Users/mac/opt/anaconda3/lib/python3.9/site-packages/imdb/__init__.py:844: unknown information set \"genres\"\n"
     ]
    },
    {
     "name": "stdout",
     "output_type": "stream",
     "text": [
      "It Felt Like Love:\n",
      "Genres: ['Drama']\n"
     ]
    },
    {
     "name": "stderr",
     "output_type": "stream",
     "text": [
      "2023-12-27 14:57:26,984 ERROR [imdbpy] /Users/mac/opt/anaconda3/lib/python3.9/site-packages/imdb/__init__.py:844: unknown information set \"genres\"\n"
     ]
    },
    {
     "name": "stdout",
     "output_type": "stream",
     "text": [
      "October:\n",
      "Genres: ['Action', 'Adventure', 'Thriller']\n"
     ]
    },
    {
     "name": "stderr",
     "output_type": "stream",
     "text": [
      "2023-12-27 14:57:32,028 ERROR [imdbpy] /Users/mac/opt/anaconda3/lib/python3.9/site-packages/imdb/__init__.py:844: unknown information set \"genres\"\n"
     ]
    },
    {
     "name": "stdout",
     "output_type": "stream",
     "text": [
      "Ghajinikanth:\n",
      "Genres: ['Comedy', 'Romance']\n"
     ]
    },
    {
     "name": "stderr",
     "output_type": "stream",
     "text": [
      "2023-12-27 14:57:36,613 ERROR [imdbpy] /Users/mac/opt/anaconda3/lib/python3.9/site-packages/imdb/__init__.py:844: unknown information set \"genres\"\n"
     ]
    },
    {
     "name": "stdout",
     "output_type": "stream",
     "text": [
      "Frequencies:\n",
      "Genres: ['Mystery', 'Romance', 'Sci-Fi']\n"
     ]
    },
    {
     "name": "stderr",
     "output_type": "stream",
     "text": [
      "2023-12-27 14:57:42,138 ERROR [imdbpy] /Users/mac/opt/anaconda3/lib/python3.9/site-packages/imdb/__init__.py:844: unknown information set \"genres\"\n"
     ]
    },
    {
     "name": "stdout",
     "output_type": "stream",
     "text": [
      "Pailwaan:\n",
      "Genres: ['Action', 'Drama', 'Sport']\n"
     ]
    },
    {
     "name": "stderr",
     "output_type": "stream",
     "text": [
      "2023-12-27 14:57:49,755 ERROR [imdbpy] /Users/mac/opt/anaconda3/lib/python3.9/site-packages/imdb/__init__.py:844: unknown information set \"genres\"\n"
     ]
    },
    {
     "name": "stdout",
     "output_type": "stream",
     "text": [
      "The Haunted:\n",
      "Genres: ['Comedy', 'Family', 'Fantasy', 'Horror', 'Mystery']\n"
     ]
    },
    {
     "name": "stderr",
     "output_type": "stream",
     "text": [
      "2023-12-27 14:57:55,015 ERROR [imdbpy] /Users/mac/opt/anaconda3/lib/python3.9/site-packages/imdb/__init__.py:844: unknown information set \"genres\"\n"
     ]
    },
    {
     "name": "stdout",
     "output_type": "stream",
     "text": [
      "14 Cameras:\n",
      "Genres: ['Crime', 'Horror', 'Thriller']\n"
     ]
    },
    {
     "name": "stderr",
     "output_type": "stream",
     "text": [
      "2023-12-27 14:57:59,806 ERROR [imdbpy] /Users/mac/opt/anaconda3/lib/python3.9/site-packages/imdb/__init__.py:844: unknown information set \"genres\"\n"
     ]
    },
    {
     "name": "stdout",
     "output_type": "stream",
     "text": [
      "Fire Twister:\n",
      "Genres: ['Action', 'Adventure', 'Drama', 'Sci-Fi', 'Thriller']\n"
     ]
    },
    {
     "name": "stderr",
     "output_type": "stream",
     "text": [
      "2023-12-27 14:58:04,537 ERROR [imdbpy] /Users/mac/opt/anaconda3/lib/python3.9/site-packages/imdb/__init__.py:844: unknown information set \"genres\"\n"
     ]
    },
    {
     "name": "stdout",
     "output_type": "stream",
     "text": [
      "The Tiger Who Came to Tea:\n",
      "Genres: ['Animation', 'Comedy', 'Family']\n"
     ]
    },
    {
     "name": "stderr",
     "output_type": "stream",
     "text": [
      "2023-12-27 14:58:10,978 ERROR [imdbpy] /Users/mac/opt/anaconda3/lib/python3.9/site-packages/imdb/__init__.py:844: unknown information set \"genres\"\n"
     ]
    },
    {
     "name": "stdout",
     "output_type": "stream",
     "text": [
      "Alvin and the Chipmunks: The Road Chip:\n",
      "Genres: ['Adventure', 'Comedy', 'Family', 'Fantasy', 'Music', 'Musical']\n"
     ]
    },
    {
     "name": "stderr",
     "output_type": "stream",
     "text": [
      "2023-12-27 14:58:16,753 ERROR [imdbpy] /Users/mac/opt/anaconda3/lib/python3.9/site-packages/imdb/__init__.py:844: unknown information set \"genres\"\n"
     ]
    },
    {
     "name": "stdout",
     "output_type": "stream",
     "text": [
      "Monica and Friends: Lessons:\n",
      "Genres: ['Adventure', 'Comedy', 'Drama', 'Family']\n"
     ]
    },
    {
     "name": "stderr",
     "output_type": "stream",
     "text": [
      "2023-12-27 14:58:25,555 ERROR [imdbpy] /Users/mac/opt/anaconda3/lib/python3.9/site-packages/imdb/__init__.py:844: unknown information set \"genres\"\n"
     ]
    },
    {
     "name": "stdout",
     "output_type": "stream",
     "text": [
      "Cinderella:\n",
      "Genres: ['Adventure', 'Drama', 'Family', 'Fantasy', 'Romance']\n"
     ]
    },
    {
     "name": "stderr",
     "output_type": "stream",
     "text": [
      "2023-12-27 14:58:31,991 ERROR [imdbpy] /Users/mac/opt/anaconda3/lib/python3.9/site-packages/imdb/__init__.py:844: unknown information set \"genres\"\n"
     ]
    },
    {
     "name": "stdout",
     "output_type": "stream",
     "text": [
      "Homestay:\n",
      "Genres: ['Drama', 'Fantasy', 'Thriller']\n"
     ]
    },
    {
     "name": "stderr",
     "output_type": "stream",
     "text": [
      "2023-12-27 14:58:36,449 ERROR [imdbpy] /Users/mac/opt/anaconda3/lib/python3.9/site-packages/imdb/__init__.py:844: unknown information set \"genres\"\n"
     ]
    },
    {
     "name": "stdout",
     "output_type": "stream",
     "text": [
      "Tiffany Haddish: She Ready! From the Hood to Hollywood!:\n",
      "Genres: ['Comedy']\n"
     ]
    },
    {
     "name": "stderr",
     "output_type": "stream",
     "text": [
      "2023-12-27 14:58:44,878 ERROR [imdbpy] /Users/mac/opt/anaconda3/lib/python3.9/site-packages/imdb/__init__.py:844: unknown information set \"genres\"\n"
     ]
    },
    {
     "name": "stdout",
     "output_type": "stream",
     "text": [
      "Mamangam:\n",
      "Genres: ['Action', 'Drama', 'History', 'War']\n"
     ]
    },
    {
     "name": "stderr",
     "output_type": "stream",
     "text": [
      "2023-12-27 14:58:51,046 ERROR [imdbpy] /Users/mac/opt/anaconda3/lib/python3.9/site-packages/imdb/__init__.py:844: unknown information set \"genres\"\n"
     ]
    },
    {
     "name": "stdout",
     "output_type": "stream",
     "text": [
      "Wildfire:\n",
      "Genres: ['Drama', 'Family', 'Romance']\n"
     ]
    },
    {
     "name": "stderr",
     "output_type": "stream",
     "text": [
      "2023-12-27 14:58:56,567 ERROR [imdbpy] /Users/mac/opt/anaconda3/lib/python3.9/site-packages/imdb/__init__.py:844: unknown information set \"genres\"\n"
     ]
    },
    {
     "name": "stdout",
     "output_type": "stream",
     "text": [
      "Fossil:\n",
      "Genres: ['Comedy']\n"
     ]
    },
    {
     "name": "stderr",
     "output_type": "stream",
     "text": [
      "2023-12-27 14:59:02,919 ERROR [imdbpy] /Users/mac/opt/anaconda3/lib/python3.9/site-packages/imdb/__init__.py:844: unknown information set \"genres\"\n"
     ]
    },
    {
     "name": "stdout",
     "output_type": "stream",
     "text": [
      "Weaponized:\n",
      "Genres: ['Action', 'Sci-Fi', 'Thriller']\n"
     ]
    },
    {
     "name": "stderr",
     "output_type": "stream",
     "text": [
      "2023-12-27 14:59:08,465 ERROR [imdbpy] /Users/mac/opt/anaconda3/lib/python3.9/site-packages/imdb/__init__.py:844: unknown information set \"genres\"\n"
     ]
    },
    {
     "name": "stdout",
     "output_type": "stream",
     "text": [
      "Woe:\n",
      "Genres: ['Horror', 'Mystery', 'Thriller']\n"
     ]
    },
    {
     "name": "stderr",
     "output_type": "stream",
     "text": [
      "2023-12-27 14:59:14,975 ERROR [imdbpy] /Users/mac/opt/anaconda3/lib/python3.9/site-packages/imdb/__init__.py:844: unknown information set \"genres\"\n"
     ]
    },
    {
     "name": "stdout",
     "output_type": "stream",
     "text": [
      "Kabullywood:\n",
      "Genres: ['Comedy', 'Drama', 'War']\n"
     ]
    },
    {
     "name": "stderr",
     "output_type": "stream",
     "text": [
      "2023-12-27 14:59:22,489 ERROR [imdbpy] /Users/mac/opt/anaconda3/lib/python3.9/site-packages/imdb/__init__.py:844: unknown information set \"genres\"\n"
     ]
    },
    {
     "name": "stdout",
     "output_type": "stream",
     "text": [
      "Monster Portal:\n",
      "Genres: ['Drama', 'Fantasy', 'Horror', 'Mystery', 'Thriller']\n"
     ]
    },
    {
     "name": "stderr",
     "output_type": "stream",
     "text": [
      "2023-12-27 14:59:28,560 ERROR [imdbpy] /Users/mac/opt/anaconda3/lib/python3.9/site-packages/imdb/__init__.py:844: unknown information set \"genres\"\n"
     ]
    },
    {
     "name": "stdout",
     "output_type": "stream",
     "text": [
      "The Connection:\n",
      "Genres: ['Action', 'Crime', 'Drama', 'Thriller']\n"
     ]
    },
    {
     "name": "stderr",
     "output_type": "stream",
     "text": [
      "2023-12-27 14:59:38,284 ERROR [imdbpy] /Users/mac/opt/anaconda3/lib/python3.9/site-packages/imdb/__init__.py:844: unknown information set \"genres\"\n"
     ]
    },
    {
     "name": "stdout",
     "output_type": "stream",
     "text": [
      "Prey:\n",
      "Genres: ['Action', 'Adventure', 'Drama', 'Horror', 'Sci-Fi', 'Thriller']\n"
     ]
    },
    {
     "name": "stderr",
     "output_type": "stream",
     "text": [
      "2023-12-27 14:59:44,488 ERROR [imdbpy] /Users/mac/opt/anaconda3/lib/python3.9/site-packages/imdb/__init__.py:844: unknown information set \"genres\"\n"
     ]
    },
    {
     "name": "stdout",
     "output_type": "stream",
     "text": [
      "Sye Raa Narasimha Reddy:\n",
      "Genres: ['Action', 'Adventure', 'Drama', 'History']\n"
     ]
    },
    {
     "name": "stderr",
     "output_type": "stream",
     "text": [
      "2023-12-27 14:59:50,437 ERROR [imdbpy] /Users/mac/opt/anaconda3/lib/python3.9/site-packages/imdb/__init__.py:844: unknown information set \"genres\"\n"
     ]
    },
    {
     "name": "stdout",
     "output_type": "stream",
     "text": [
      "Avane Srimannarayana:\n",
      "Genres: ['Action', 'Adventure', 'Comedy', 'Drama', 'Fantasy']\n"
     ]
    },
    {
     "name": "stderr",
     "output_type": "stream",
     "text": [
      "2023-12-27 14:59:55,374 ERROR [imdbpy] /Users/mac/opt/anaconda3/lib/python3.9/site-packages/imdb/__init__.py:844: unknown information set \"genres\"\n"
     ]
    },
    {
     "name": "stdout",
     "output_type": "stream",
     "text": [
      "A Stranger in Paradise:\n",
      "Genres: ['Action', 'Mystery', 'Thriller']\n"
     ]
    },
    {
     "name": "stderr",
     "output_type": "stream",
     "text": [
      "2023-12-27 15:00:00,814 ERROR [imdbpy] /Users/mac/opt/anaconda3/lib/python3.9/site-packages/imdb/__init__.py:844: unknown information set \"genres\"\n"
     ]
    },
    {
     "name": "stdout",
     "output_type": "stream",
     "text": [
      "Fair Play:\n",
      "Genres: ['Drama', 'Mystery', 'Thriller']\n"
     ]
    },
    {
     "name": "stderr",
     "output_type": "stream",
     "text": [
      "2023-12-27 15:00:07,752 ERROR [imdbpy] /Users/mac/opt/anaconda3/lib/python3.9/site-packages/imdb/__init__.py:844: unknown information set \"genres\"\n"
     ]
    },
    {
     "name": "stdout",
     "output_type": "stream",
     "text": [
      "Get Duked!:\n",
      "Genres: ['Comedy', 'Horror', 'Music']\n"
     ]
    },
    {
     "name": "stderr",
     "output_type": "stream",
     "text": [
      "2023-12-27 15:00:14,454 ERROR [imdbpy] /Users/mac/opt/anaconda3/lib/python3.9/site-packages/imdb/__init__.py:844: unknown information set \"genres\"\n"
     ]
    },
    {
     "name": "stdout",
     "output_type": "stream",
     "text": [
      "Hotel Limbo:\n",
      "Genres: ['Comedy', 'Drama', 'Romance']\n"
     ]
    },
    {
     "name": "stderr",
     "output_type": "stream",
     "text": [
      "2023-12-27 15:00:22,314 ERROR [imdbpy] /Users/mac/opt/anaconda3/lib/python3.9/site-packages/imdb/__init__.py:844: unknown information set \"genres\"\n"
     ]
    },
    {
     "name": "stdout",
     "output_type": "stream",
     "text": [
      "Bleeding Steel:\n",
      "Genres: ['Action', 'Sci-Fi', 'Thriller']\n"
     ]
    },
    {
     "name": "stderr",
     "output_type": "stream",
     "text": [
      "2023-12-27 15:00:28,994 ERROR [imdbpy] /Users/mac/opt/anaconda3/lib/python3.9/site-packages/imdb/__init__.py:844: unknown information set \"genres\"\n"
     ]
    },
    {
     "name": "stdout",
     "output_type": "stream",
     "text": [
      "I'm Your Woman:\n",
      "Genres: ['Crime', 'Drama']\n"
     ]
    },
    {
     "name": "stderr",
     "output_type": "stream",
     "text": [
      "2023-12-27 15:00:36,366 ERROR [imdbpy] /Users/mac/opt/anaconda3/lib/python3.9/site-packages/imdb/__init__.py:844: unknown information set \"genres\"\n"
     ]
    },
    {
     "name": "stdout",
     "output_type": "stream",
     "text": [
      "Promise at Dawn:\n",
      "Genres: ['Biography', 'Drama', 'Romance', 'War']\n"
     ]
    },
    {
     "name": "stderr",
     "output_type": "stream",
     "text": [
      "2023-12-27 15:00:42,137 ERROR [imdbpy] /Users/mac/opt/anaconda3/lib/python3.9/site-packages/imdb/__init__.py:844: unknown information set \"genres\"\n"
     ]
    },
    {
     "name": "stdout",
     "output_type": "stream",
     "text": [
      "H.P. Lovecraft's Witch House:\n",
      "Genres: ['Horror']\n"
     ]
    },
    {
     "name": "stderr",
     "output_type": "stream",
     "text": [
      "2023-12-27 15:00:47,192 ERROR [imdbpy] /Users/mac/opt/anaconda3/lib/python3.9/site-packages/imdb/__init__.py:844: unknown information set \"genres\"\n"
     ]
    },
    {
     "name": "stdout",
     "output_type": "stream",
     "text": [
      "Alta Vista:\n",
      "Genres: ['Drama']\n"
     ]
    },
    {
     "name": "stderr",
     "output_type": "stream",
     "text": [
      "2023-12-27 15:00:52,294 ERROR [imdbpy] /Users/mac/opt/anaconda3/lib/python3.9/site-packages/imdb/__init__.py:844: unknown information set \"genres\"\n"
     ]
    },
    {
     "name": "stdout",
     "output_type": "stream",
     "text": [
      "King Cnut:\n",
      "Genres: ['Documentary']\n"
     ]
    },
    {
     "name": "stderr",
     "output_type": "stream",
     "text": [
      "2023-12-27 15:00:58,255 ERROR [imdbpy] /Users/mac/opt/anaconda3/lib/python3.9/site-packages/imdb/__init__.py:844: unknown information set \"genres\"\n"
     ]
    },
    {
     "name": "stdout",
     "output_type": "stream",
     "text": [
      "Thiruchitrambalam:\n",
      "Genres: ['Comedy', 'Drama', 'Musical', 'Romance']\n"
     ]
    },
    {
     "name": "stderr",
     "output_type": "stream",
     "text": [
      "2023-12-27 15:01:03,557 ERROR [imdbpy] /Users/mac/opt/anaconda3/lib/python3.9/site-packages/imdb/__init__.py:844: unknown information set \"genres\"\n"
     ]
    },
    {
     "name": "stdout",
     "output_type": "stream",
     "text": [
      "Bhaskar Oru Rascal:\n",
      "Genres: ['Action', 'Comedy', 'Drama', 'Family']\n"
     ]
    },
    {
     "name": "stderr",
     "output_type": "stream",
     "text": [
      "2023-12-27 15:01:08,932 ERROR [imdbpy] /Users/mac/opt/anaconda3/lib/python3.9/site-packages/imdb/__init__.py:844: unknown information set \"genres\"\n"
     ]
    },
    {
     "name": "stdout",
     "output_type": "stream",
     "text": [
      "Deadly Crush:\n",
      "Genres: ['Horror', 'Romance']\n"
     ]
    },
    {
     "name": "stderr",
     "output_type": "stream",
     "text": [
      "2023-12-27 15:01:13,650 ERROR [imdbpy] /Users/mac/opt/anaconda3/lib/python3.9/site-packages/imdb/__init__.py:844: unknown information set \"genres\"\n"
     ]
    },
    {
     "name": "stdout",
     "output_type": "stream",
     "text": [
      "Christmas in the Highlands:\n",
      "Genres: ['Comedy', 'Drama', 'Romance']\n"
     ]
    },
    {
     "name": "stderr",
     "output_type": "stream",
     "text": [
      "2023-12-27 15:01:17,931 ERROR [imdbpy] /Users/mac/opt/anaconda3/lib/python3.9/site-packages/imdb/__init__.py:844: unknown information set \"genres\"\n"
     ]
    },
    {
     "name": "stdout",
     "output_type": "stream",
     "text": [
      "East Side Sushi:\n",
      "Genres: ['Comedy', 'Drama', 'Family']\n"
     ]
    },
    {
     "name": "stderr",
     "output_type": "stream",
     "text": [
      "2023-12-27 15:01:23,526 ERROR [imdbpy] /Users/mac/opt/anaconda3/lib/python3.9/site-packages/imdb/__init__.py:844: unknown information set \"genres\"\n"
     ]
    },
    {
     "name": "stdout",
     "output_type": "stream",
     "text": [
      "Malayankunju:\n",
      "Genres: ['Drama', 'Thriller']\n"
     ]
    },
    {
     "name": "stderr",
     "output_type": "stream",
     "text": [
      "2023-12-27 15:01:28,248 ERROR [imdbpy] /Users/mac/opt/anaconda3/lib/python3.9/site-packages/imdb/__init__.py:844: unknown information set \"genres\"\n"
     ]
    },
    {
     "name": "stdout",
     "output_type": "stream",
     "text": [
      "Murder RX:\n",
      "Genres: ['Drama']\n"
     ]
    },
    {
     "name": "stderr",
     "output_type": "stream",
     "text": [
      "2023-12-27 15:01:35,921 ERROR [imdbpy] /Users/mac/opt/anaconda3/lib/python3.9/site-packages/imdb/__init__.py:844: unknown information set \"genres\"\n"
     ]
    },
    {
     "name": "stdout",
     "output_type": "stream",
     "text": [
      "Delicious:\n",
      "Genres: ['Comedy', 'Drama', 'History']\n"
     ]
    },
    {
     "name": "stderr",
     "output_type": "stream",
     "text": [
      "2023-12-27 15:01:43,386 ERROR [imdbpy] /Users/mac/opt/anaconda3/lib/python3.9/site-packages/imdb/__init__.py:844: unknown information set \"genres\"\n"
     ]
    },
    {
     "name": "stdout",
     "output_type": "stream",
     "text": [
      "The Ways of Man:\n",
      "Genres: ['Documentary', 'Short', 'Biography']\n"
     ]
    },
    {
     "name": "stderr",
     "output_type": "stream",
     "text": [
      "2023-12-27 15:01:51,550 ERROR [imdbpy] /Users/mac/opt/anaconda3/lib/python3.9/site-packages/imdb/__init__.py:844: unknown information set \"genres\"\n"
     ]
    },
    {
     "name": "stdout",
     "output_type": "stream",
     "text": [
      "Giddy Stratospheres:\n",
      "Genres: ['Drama']\n"
     ]
    },
    {
     "name": "stderr",
     "output_type": "stream",
     "text": [
      "2023-12-27 15:01:57,918 ERROR [imdbpy] /Users/mac/opt/anaconda3/lib/python3.9/site-packages/imdb/__init__.py:844: unknown information set \"genres\"\n"
     ]
    },
    {
     "name": "stdout",
     "output_type": "stream",
     "text": [
      "Late Night Double Feature:\n",
      "Genres: ['Comedy', 'Horror', 'Thriller']\n"
     ]
    },
    {
     "name": "stderr",
     "output_type": "stream",
     "text": [
      "2023-12-27 15:02:02,715 ERROR [imdbpy] /Users/mac/opt/anaconda3/lib/python3.9/site-packages/imdb/__init__.py:844: unknown information set \"genres\"\n"
     ]
    },
    {
     "name": "stdout",
     "output_type": "stream",
     "text": [
      "Tatu:\n",
      "Genres: ['Comedy', 'Family']\n"
     ]
    },
    {
     "name": "stderr",
     "output_type": "stream",
     "text": [
      "2023-12-27 15:02:10,842 ERROR [imdbpy] /Users/mac/opt/anaconda3/lib/python3.9/site-packages/imdb/__init__.py:844: unknown information set \"genres\"\n"
     ]
    },
    {
     "name": "stdout",
     "output_type": "stream",
     "text": [
      "Gali Guleiyan:\n",
      "Genres: ['Drama', 'Thriller']\n"
     ]
    },
    {
     "name": "stderr",
     "output_type": "stream",
     "text": [
      "2023-12-27 15:02:19,032 ERROR [imdbpy] /Users/mac/opt/anaconda3/lib/python3.9/site-packages/imdb/__init__.py:844: unknown information set \"genres\"\n"
     ]
    },
    {
     "name": "stdout",
     "output_type": "stream",
     "text": [
      "Student of the Year 2:\n",
      "Genres: ['Action', 'Comedy', 'Drama', 'Romance', 'Sport']\n"
     ]
    },
    {
     "name": "stderr",
     "output_type": "stream",
     "text": [
      "2023-12-27 15:02:25,567 ERROR [imdbpy] /Users/mac/opt/anaconda3/lib/python3.9/site-packages/imdb/__init__.py:844: unknown information set \"genres\"\n"
     ]
    },
    {
     "name": "stdout",
     "output_type": "stream",
     "text": [
      "Yalla Aa'belkon: Single, Married, Divorced:\n",
      "Genres: ['Comedy', 'Romance']\n"
     ]
    },
    {
     "name": "stderr",
     "output_type": "stream",
     "text": [
      "2023-12-27 15:02:29,919 ERROR [imdbpy] /Users/mac/opt/anaconda3/lib/python3.9/site-packages/imdb/__init__.py:844: unknown information set \"genres\"\n"
     ]
    },
    {
     "name": "stdout",
     "output_type": "stream",
     "text": [
      "LIFE·LOVE·DOGS:\n",
      "Genres: ['Documentary']\n"
     ]
    },
    {
     "name": "stderr",
     "output_type": "stream",
     "text": [
      "2023-12-27 15:02:35,592 ERROR [imdbpy] /Users/mac/opt/anaconda3/lib/python3.9/site-packages/imdb/__init__.py:844: unknown information set \"genres\"\n"
     ]
    },
    {
     "name": "stdout",
     "output_type": "stream",
     "text": [
      "Press Play:\n",
      "Genres: ['Drama', 'Music', 'Romance', 'Sci-Fi']\n"
     ]
    },
    {
     "name": "stderr",
     "output_type": "stream",
     "text": [
      "2023-12-27 15:02:42,404 ERROR [imdbpy] /Users/mac/opt/anaconda3/lib/python3.9/site-packages/imdb/__init__.py:844: unknown information set \"genres\"\n"
     ]
    },
    {
     "name": "stdout",
     "output_type": "stream",
     "text": [
      "Andron:\n",
      "Genres: ['Action', 'Sci-Fi']\n"
     ]
    },
    {
     "name": "stderr",
     "output_type": "stream",
     "text": [
      "2023-12-27 15:02:49,416 ERROR [imdbpy] /Users/mac/opt/anaconda3/lib/python3.9/site-packages/imdb/__init__.py:844: unknown information set \"genres\"\n"
     ]
    },
    {
     "name": "stdout",
     "output_type": "stream",
     "text": [
      "My Father, Die:\n",
      "Genres: ['Action', 'Drama']\n"
     ]
    },
    {
     "name": "stderr",
     "output_type": "stream",
     "text": [
      "2023-12-27 15:02:55,811 ERROR [imdbpy] /Users/mac/opt/anaconda3/lib/python3.9/site-packages/imdb/__init__.py:844: unknown information set \"genres\"\n"
     ]
    },
    {
     "name": "stdout",
     "output_type": "stream",
     "text": [
      "Naradan:\n",
      "Genres: ['Drama', 'Thriller']\n"
     ]
    },
    {
     "name": "stderr",
     "output_type": "stream",
     "text": [
      "2023-12-27 15:03:02,272 ERROR [imdbpy] /Users/mac/opt/anaconda3/lib/python3.9/site-packages/imdb/__init__.py:844: unknown information set \"genres\"\n"
     ]
    },
    {
     "name": "stdout",
     "output_type": "stream",
     "text": [
      "No No: A Dockumentary:\n",
      "Genres: ['Documentary', 'Biography', 'Sport']\n"
     ]
    },
    {
     "name": "stderr",
     "output_type": "stream",
     "text": [
      "2023-12-27 15:03:10,747 ERROR [imdbpy] /Users/mac/opt/anaconda3/lib/python3.9/site-packages/imdb/__init__.py:844: unknown information set \"genres\"\n"
     ]
    },
    {
     "name": "stdout",
     "output_type": "stream",
     "text": [
      "Mosagallu:\n",
      "Genres: ['Crime', 'Drama', 'Thriller']\n"
     ]
    },
    {
     "name": "stderr",
     "output_type": "stream",
     "text": [
      "2023-12-27 15:03:17,244 ERROR [imdbpy] /Users/mac/opt/anaconda3/lib/python3.9/site-packages/imdb/__init__.py:844: unknown information set \"genres\"\n"
     ]
    },
    {
     "name": "stdout",
     "output_type": "stream",
     "text": [
      "Kill Command:\n",
      "Genres: ['Action', 'Horror', 'Sci-Fi', 'Thriller']\n"
     ]
    },
    {
     "name": "stderr",
     "output_type": "stream",
     "text": [
      "2023-12-27 15:03:23,822 ERROR [imdbpy] /Users/mac/opt/anaconda3/lib/python3.9/site-packages/imdb/__init__.py:844: unknown information set \"genres\"\n"
     ]
    },
    {
     "name": "stdout",
     "output_type": "stream",
     "text": [
      "Thugs of Hindostan:\n",
      "Genres: ['Action', 'Adventure']\n"
     ]
    },
    {
     "name": "stderr",
     "output_type": "stream",
     "text": [
      "2023-12-27 15:03:32,999 ERROR [imdbpy] /Users/mac/opt/anaconda3/lib/python3.9/site-packages/imdb/__init__.py:844: unknown information set \"genres\"\n"
     ]
    },
    {
     "name": "stdout",
     "output_type": "stream",
     "text": [
      "Annabellum: The Curse of Salem:\n",
      "Genres: ['Mystery', 'Thriller']\n"
     ]
    },
    {
     "name": "stderr",
     "output_type": "stream",
     "text": [
      "2023-12-27 15:03:40,160 ERROR [imdbpy] /Users/mac/opt/anaconda3/lib/python3.9/site-packages/imdb/__init__.py:844: unknown information set \"genres\"\n"
     ]
    },
    {
     "name": "stdout",
     "output_type": "stream",
     "text": [
      "Inside the Dream:\n",
      "Genres: ['Documentary']\n"
     ]
    },
    {
     "name": "stderr",
     "output_type": "stream",
     "text": [
      "2023-12-27 15:03:50,315 ERROR [imdbpy] /Users/mac/opt/anaconda3/lib/python3.9/site-packages/imdb/__init__.py:844: unknown information set \"genres\"\n"
     ]
    },
    {
     "name": "stdout",
     "output_type": "stream",
     "text": [
      "20 Feet from Stardom:\n",
      "Genres: ['Documentary', 'Biography', 'History', 'Music']\n"
     ]
    },
    {
     "name": "stderr",
     "output_type": "stream",
     "text": [
      "2023-12-27 15:03:58,725 ERROR [imdbpy] /Users/mac/opt/anaconda3/lib/python3.9/site-packages/imdb/__init__.py:844: unknown information set \"genres\"\n"
     ]
    },
    {
     "name": "stdout",
     "output_type": "stream",
     "text": [
      "Love and Other Cults:\n",
      "Genres: ['Comedy', 'Drama', 'Romance']\n"
     ]
    },
    {
     "name": "stderr",
     "output_type": "stream",
     "text": [
      "2023-12-27 15:04:04,673 ERROR [imdbpy] /Users/mac/opt/anaconda3/lib/python3.9/site-packages/imdb/__init__.py:844: unknown information set \"genres\"\n"
     ]
    },
    {
     "name": "stdout",
     "output_type": "stream",
     "text": [
      "Force of Nature:\n",
      "Genres: ['Action', 'Adventure', 'Crime', 'Drama', 'Mystery', 'Thriller']\n"
     ]
    },
    {
     "name": "stderr",
     "output_type": "stream",
     "text": [
      "2023-12-27 15:04:10,039 ERROR [imdbpy] /Users/mac/opt/anaconda3/lib/python3.9/site-packages/imdb/__init__.py:844: unknown information set \"genres\"\n"
     ]
    },
    {
     "name": "stdout",
     "output_type": "stream",
     "text": [
      "Hollower:\n",
      "Genres: ['Horror', 'Thriller']\n"
     ]
    },
    {
     "name": "stderr",
     "output_type": "stream",
     "text": [
      "2023-12-27 15:04:16,244 ERROR [imdbpy] /Users/mac/opt/anaconda3/lib/python3.9/site-packages/imdb/__init__.py:844: unknown information set \"genres\"\n"
     ]
    },
    {
     "name": "stdout",
     "output_type": "stream",
     "text": [
      "Arjun Reddy:\n",
      "Genres: ['Action', 'Drama', 'Romance']\n"
     ]
    },
    {
     "name": "stderr",
     "output_type": "stream",
     "text": [
      "2023-12-27 15:04:25,060 ERROR [imdbpy] /Users/mac/opt/anaconda3/lib/python3.9/site-packages/imdb/__init__.py:844: unknown information set \"genres\"\n"
     ]
    },
    {
     "name": "stdout",
     "output_type": "stream",
     "text": [
      "31:\n",
      "Genres: ['Horror', 'Thriller']\n"
     ]
    },
    {
     "name": "stderr",
     "output_type": "stream",
     "text": [
      "2023-12-27 15:04:32,104 ERROR [imdbpy] /Users/mac/opt/anaconda3/lib/python3.9/site-packages/imdb/__init__.py:844: unknown information set \"genres\"\n"
     ]
    },
    {
     "name": "stdout",
     "output_type": "stream",
     "text": [
      "Odd Couple:\n",
      "Genres: ['Comedy']\n"
     ]
    },
    {
     "name": "stderr",
     "output_type": "stream",
     "text": [
      "2023-12-27 15:04:42,723 ERROR [imdbpy] /Users/mac/opt/anaconda3/lib/python3.9/site-packages/imdb/__init__.py:844: unknown information set \"genres\"\n"
     ]
    },
    {
     "name": "stdout",
     "output_type": "stream",
     "text": [
      "Init!ation:\n",
      "Genres: ['Crime', 'Drama', 'Horror', 'Mystery', 'Thriller']\n"
     ]
    },
    {
     "name": "stderr",
     "output_type": "stream",
     "text": [
      "2023-12-27 15:04:50,803 ERROR [imdbpy] /Users/mac/opt/anaconda3/lib/python3.9/site-packages/imdb/__init__.py:844: unknown information set \"genres\"\n"
     ]
    },
    {
     "name": "stdout",
     "output_type": "stream",
     "text": [
      "Sharknado 5: Global Swarming:\n",
      "Genres: ['Action', 'Adventure', 'Comedy', 'Fantasy', 'Horror', 'Sci-Fi', 'Thriller']\n"
     ]
    },
    {
     "name": "stderr",
     "output_type": "stream",
     "text": [
      "2023-12-27 15:04:57,314 ERROR [imdbpy] /Users/mac/opt/anaconda3/lib/python3.9/site-packages/imdb/__init__.py:844: unknown information set \"genres\"\n"
     ]
    },
    {
     "name": "stdout",
     "output_type": "stream",
     "text": [
      "After the Ball:\n",
      "Genres: ['Comedy']\n"
     ]
    },
    {
     "name": "stderr",
     "output_type": "stream",
     "text": [
      "2023-12-27 15:05:04,861 ERROR [imdbpy] /Users/mac/opt/anaconda3/lib/python3.9/site-packages/imdb/__init__.py:844: unknown information set \"genres\"\n"
     ]
    },
    {
     "name": "stdout",
     "output_type": "stream",
     "text": [
      "My Days of Mercy:\n",
      "Genres: ['Drama', 'Romance']\n"
     ]
    },
    {
     "name": "stderr",
     "output_type": "stream",
     "text": [
      "2023-12-27 15:05:12,748 ERROR [imdbpy] /Users/mac/opt/anaconda3/lib/python3.9/site-packages/imdb/__init__.py:844: unknown information set \"genres\"\n"
     ]
    },
    {
     "name": "stdout",
     "output_type": "stream",
     "text": [
      "The Killing of Kenneth Chamberlain:\n",
      "Genres: ['Drama', 'Thriller']\n"
     ]
    },
    {
     "name": "stderr",
     "output_type": "stream",
     "text": [
      "2023-12-27 15:05:20,817 ERROR [imdbpy] /Users/mac/opt/anaconda3/lib/python3.9/site-packages/imdb/__init__.py:844: unknown information set \"genres\"\n"
     ]
    },
    {
     "name": "stdout",
     "output_type": "stream",
     "text": [
      "Hairbrained:\n",
      "Genres: ['Comedy', 'Drama', 'Fantasy']\n"
     ]
    },
    {
     "name": "stderr",
     "output_type": "stream",
     "text": [
      "2023-12-27 15:05:27,173 ERROR [imdbpy] /Users/mac/opt/anaconda3/lib/python3.9/site-packages/imdb/__init__.py:844: unknown information set \"genres\"\n"
     ]
    },
    {
     "name": "stdout",
     "output_type": "stream",
     "text": [
      "Obsession:\n",
      "Genres: ['Drama', 'Mystery', 'Romance', 'Thriller']\n"
     ]
    },
    {
     "name": "stderr",
     "output_type": "stream",
     "text": [
      "2023-12-27 15:05:37,743 ERROR [imdbpy] /Users/mac/opt/anaconda3/lib/python3.9/site-packages/imdb/__init__.py:844: unknown information set \"genres\"\n"
     ]
    },
    {
     "name": "stdout",
     "output_type": "stream",
     "text": [
      "Ayogya:\n",
      "Genres: ['Action', 'Crime', 'Drama']\n"
     ]
    },
    {
     "name": "stderr",
     "output_type": "stream",
     "text": [
      "2023-12-27 15:05:43,355 ERROR [imdbpy] /Users/mac/opt/anaconda3/lib/python3.9/site-packages/imdb/__init__.py:844: unknown information set \"genres\"\n"
     ]
    },
    {
     "name": "stdout",
     "output_type": "stream",
     "text": [
      "10:\n",
      "Genres: ['Action', 'Adventure', 'Drama', 'Horror', 'Sci-Fi']\n"
     ]
    },
    {
     "name": "stderr",
     "output_type": "stream",
     "text": [
      "2023-12-27 15:05:48,089 ERROR [imdbpy] /Users/mac/opt/anaconda3/lib/python3.9/site-packages/imdb/__init__.py:844: unknown information set \"genres\"\n"
     ]
    },
    {
     "name": "stdout",
     "output_type": "stream",
     "text": [
      "Meeting Mr. Christmas:\n",
      "Genres: ['Romance']\n"
     ]
    },
    {
     "name": "stderr",
     "output_type": "stream",
     "text": [
      "2023-12-27 15:05:57,191 ERROR [imdbpy] /Users/mac/opt/anaconda3/lib/python3.9/site-packages/imdb/__init__.py:844: unknown information set \"genres\"\n"
     ]
    },
    {
     "name": "stdout",
     "output_type": "stream",
     "text": [
      "Veerappan:\n",
      "Genres: ['Documentary']\n"
     ]
    },
    {
     "name": "stderr",
     "output_type": "stream",
     "text": [
      "2023-12-27 15:06:22,674 ERROR [imdbpy] /Users/mac/opt/anaconda3/lib/python3.9/site-packages/imdb/__init__.py:844: unknown information set \"genres\"\n"
     ]
    },
    {
     "name": "stdout",
     "output_type": "stream",
     "text": [
      "Everything About Her:\n",
      "Genres: ['Comedy', 'Drama']\n"
     ]
    },
    {
     "name": "stderr",
     "output_type": "stream",
     "text": [
      "2023-12-27 15:06:29,871 ERROR [imdbpy] /Users/mac/opt/anaconda3/lib/python3.9/site-packages/imdb/__init__.py:844: unknown information set \"genres\"\n"
     ]
    },
    {
     "name": "stdout",
     "output_type": "stream",
     "text": [
      "Yuddham Sharanam:\n",
      "Genres: ['Action', 'Thriller']\n"
     ]
    },
    {
     "name": "stderr",
     "output_type": "stream",
     "text": [
      "2023-12-27 15:06:34,975 ERROR [imdbpy] /Users/mac/opt/anaconda3/lib/python3.9/site-packages/imdb/__init__.py:844: unknown information set \"genres\"\n"
     ]
    },
    {
     "name": "stdout",
     "output_type": "stream",
     "text": [
      "The Alternate:\n",
      "Genres: ['Sci-Fi', 'Thriller']\n"
     ]
    },
    {
     "name": "stderr",
     "output_type": "stream",
     "text": [
      "2023-12-27 15:06:43,823 ERROR [imdbpy] /Users/mac/opt/anaconda3/lib/python3.9/site-packages/imdb/__init__.py:844: unknown information set \"genres\"\n"
     ]
    },
    {
     "name": "stdout",
     "output_type": "stream",
     "text": [
      "The End of Meat:\n",
      "Genres: ['Documentary']\n"
     ]
    },
    {
     "name": "stderr",
     "output_type": "stream",
     "text": [
      "2023-12-27 15:06:56,001 ERROR [imdbpy] /Users/mac/opt/anaconda3/lib/python3.9/site-packages/imdb/__init__.py:844: unknown information set \"genres\"\n"
     ]
    },
    {
     "name": "stdout",
     "output_type": "stream",
     "text": [
      "A Year in Champagne:\n",
      "Genres: ['Documentary']\n"
     ]
    },
    {
     "name": "stderr",
     "output_type": "stream",
     "text": [
      "2023-12-27 15:07:05,337 ERROR [imdbpy] /Users/mac/opt/anaconda3/lib/python3.9/site-packages/imdb/__init__.py:844: unknown information set \"genres\"\n"
     ]
    },
    {
     "name": "stdout",
     "output_type": "stream",
     "text": [
      "Lost in London:\n",
      "Genres: ['Comedy', 'Drama']\n"
     ]
    },
    {
     "name": "stderr",
     "output_type": "stream",
     "text": [
      "2023-12-27 15:07:12,168 ERROR [imdbpy] /Users/mac/opt/anaconda3/lib/python3.9/site-packages/imdb/__init__.py:844: unknown information set \"genres\"\n"
     ]
    },
    {
     "name": "stdout",
     "output_type": "stream",
     "text": [
      "Hatched:\n",
      "Genres: ['Comedy', 'Horror']\n"
     ]
    },
    {
     "name": "stderr",
     "output_type": "stream",
     "text": [
      "2023-12-27 15:07:20,600 ERROR [imdbpy] /Users/mac/opt/anaconda3/lib/python3.9/site-packages/imdb/__init__.py:844: unknown information set \"genres\"\n"
     ]
    },
    {
     "name": "stdout",
     "output_type": "stream",
     "text": [
      "The Last Victims:\n",
      "Genres: ['Drama', 'Mystery', 'Thriller']\n"
     ]
    },
    {
     "name": "stderr",
     "output_type": "stream",
     "text": [
      "2023-12-27 15:07:34,733 ERROR [imdbpy] /Users/mac/opt/anaconda3/lib/python3.9/site-packages/imdb/__init__.py:844: unknown information set \"genres\"\n"
     ]
    },
    {
     "name": "stdout",
     "output_type": "stream",
     "text": [
      "Forever's End:\n",
      "Genres: ['Sci-Fi', 'Thriller']\n"
     ]
    },
    {
     "name": "stderr",
     "output_type": "stream",
     "text": [
      "2023-12-27 15:07:49,637 ERROR [imdbpy] /Users/mac/opt/anaconda3/lib/python3.9/site-packages/imdb/__init__.py:844: unknown information set \"genres\"\n"
     ]
    },
    {
     "name": "stdout",
     "output_type": "stream",
     "text": [
      "Christmas in the Heartland:\n",
      "Genres: ['Comedy', 'Drama', 'Family']\n"
     ]
    },
    {
     "name": "stderr",
     "output_type": "stream",
     "text": [
      "2023-12-27 15:07:58,674 ERROR [imdbpy] /Users/mac/opt/anaconda3/lib/python3.9/site-packages/imdb/__init__.py:844: unknown information set \"genres\"\n"
     ]
    },
    {
     "name": "stdout",
     "output_type": "stream",
     "text": [
      "Stiv:\n",
      "Genres: ['Documentary', 'Biography', 'Music']\n"
     ]
    },
    {
     "name": "stderr",
     "output_type": "stream",
     "text": [
      "2023-12-27 15:08:04,792 ERROR [imdbpy] /Users/mac/opt/anaconda3/lib/python3.9/site-packages/imdb/__init__.py:844: unknown information set \"genres\"\n"
     ]
    },
    {
     "name": "stdout",
     "output_type": "stream",
     "text": [
      "Perimortem:\n",
      "Genres: ['Thriller']\n"
     ]
    },
    {
     "name": "stderr",
     "output_type": "stream",
     "text": [
      "2023-12-27 15:08:13,763 ERROR [imdbpy] /Users/mac/opt/anaconda3/lib/python3.9/site-packages/imdb/__init__.py:844: unknown information set \"genres\"\n"
     ]
    },
    {
     "name": "stdout",
     "output_type": "stream",
     "text": [
      "CODumentary:\n",
      "Genres: ['Documentary']\n"
     ]
    },
    {
     "name": "stderr",
     "output_type": "stream",
     "text": [
      "2023-12-27 15:08:32,630 ERROR [imdbpy] /Users/mac/opt/anaconda3/lib/python3.9/site-packages/imdb/__init__.py:844: unknown information set \"genres\"\n"
     ]
    },
    {
     "name": "stdout",
     "output_type": "stream",
     "text": [
      "Tiger House:\n",
      "Genres: ['Action', 'Crime', 'Drama', 'Thriller']\n"
     ]
    },
    {
     "name": "stderr",
     "output_type": "stream",
     "text": [
      "2023-12-27 15:08:52,607 ERROR [imdbpy] /Users/mac/opt/anaconda3/lib/python3.9/site-packages/imdb/__init__.py:844: unknown information set \"genres\"\n"
     ]
    },
    {
     "name": "stdout",
     "output_type": "stream",
     "text": [
      "Jawaani Jaaneman:\n",
      "Genres: ['Comedy', 'Drama']\n"
     ]
    },
    {
     "name": "stderr",
     "output_type": "stream",
     "text": [
      "2023-12-27 15:09:09,398 ERROR [imdbpy] /Users/mac/opt/anaconda3/lib/python3.9/site-packages/imdb/__init__.py:844: unknown information set \"genres\"\n"
     ]
    },
    {
     "name": "stdout",
     "output_type": "stream",
     "text": [
      "Redeeming Love:\n",
      "Genres: ['Drama', 'Romance']\n"
     ]
    },
    {
     "name": "stderr",
     "output_type": "stream",
     "text": [
      "2023-12-27 15:09:20,694 ERROR [imdbpy] /Users/mac/opt/anaconda3/lib/python3.9/site-packages/imdb/__init__.py:844: unknown information set \"genres\"\n"
     ]
    },
    {
     "name": "stdout",
     "output_type": "stream",
     "text": [
      "Land of Hope:\n",
      "Genres: ['Drama', 'History', 'Romance', 'War']\n"
     ]
    },
    {
     "name": "stderr",
     "output_type": "stream",
     "text": [
      "2023-12-27 15:09:28,394 ERROR [imdbpy] /Users/mac/opt/anaconda3/lib/python3.9/site-packages/imdb/__init__.py:844: unknown information set \"genres\"\n"
     ]
    },
    {
     "name": "stdout",
     "output_type": "stream",
     "text": [
      "Gimme Danger:\n",
      "Genres: ['Documentary', 'Music']\n"
     ]
    },
    {
     "name": "stderr",
     "output_type": "stream",
     "text": [
      "2023-12-27 15:09:47,877 ERROR [imdbpy] /Users/mac/opt/anaconda3/lib/python3.9/site-packages/imdb/__init__.py:844: unknown information set \"genres\"\n"
     ]
    },
    {
     "name": "stdout",
     "output_type": "stream",
     "text": [
      "Holy Hell:\n",
      "Genres: ['Documentary', 'Drama']\n"
     ]
    },
    {
     "name": "stderr",
     "output_type": "stream",
     "text": [
      "2023-12-27 15:09:59,022 ERROR [imdbpy] /Users/mac/opt/anaconda3/lib/python3.9/site-packages/imdb/__init__.py:844: unknown information set \"genres\"\n"
     ]
    },
    {
     "name": "stdout",
     "output_type": "stream",
     "text": [
      "The Russian Bride:\n",
      "Genres: ['Horror', 'Thriller']\n"
     ]
    },
    {
     "name": "stderr",
     "output_type": "stream",
     "text": [
      "2023-12-27 15:10:12,739 ERROR [imdbpy] /Users/mac/opt/anaconda3/lib/python3.9/site-packages/imdb/__init__.py:844: unknown information set \"genres\"\n"
     ]
    },
    {
     "name": "stdout",
     "output_type": "stream",
     "text": [
      "Summer Daydream:\n",
      "Genres: ['Drama']\n"
     ]
    },
    {
     "name": "stderr",
     "output_type": "stream",
     "text": [
      "2023-12-27 15:10:20,208 ERROR [imdbpy] /Users/mac/opt/anaconda3/lib/python3.9/site-packages/imdb/__init__.py:844: unknown information set \"genres\"\n"
     ]
    },
    {
     "name": "stdout",
     "output_type": "stream",
     "text": [
      "Anarchy Parlor:\n",
      "Genres: ['Horror']\n"
     ]
    },
    {
     "name": "stderr",
     "output_type": "stream",
     "text": [
      "2023-12-27 15:10:33,290 ERROR [imdbpy] /Users/mac/opt/anaconda3/lib/python3.9/site-packages/imdb/__init__.py:844: unknown information set \"genres\"\n"
     ]
    },
    {
     "name": "stdout",
     "output_type": "stream",
     "text": [
      "S.O.S. Mamis: La película:\n",
      "Genres: ['Comedy']\n"
     ]
    },
    {
     "name": "stderr",
     "output_type": "stream",
     "text": [
      "2023-12-27 15:10:41,345 ERROR [imdbpy] /Users/mac/opt/anaconda3/lib/python3.9/site-packages/imdb/__init__.py:844: unknown information set \"genres\"\n"
     ]
    },
    {
     "name": "stdout",
     "output_type": "stream",
     "text": [
      "Laal Kaptaan:\n",
      "Genres: ['Action', 'Adventure', 'Drama', 'Western']\n"
     ]
    },
    {
     "name": "stderr",
     "output_type": "stream",
     "text": [
      "2023-12-27 15:10:48,050 ERROR [imdbpy] /Users/mac/opt/anaconda3/lib/python3.9/site-packages/imdb/__init__.py:844: unknown information set \"genres\"\n"
     ]
    },
    {
     "name": "stdout",
     "output_type": "stream",
     "text": [
      "Buddymoon:\n",
      "Genres: ['Comedy']\n"
     ]
    },
    {
     "name": "stderr",
     "output_type": "stream",
     "text": [
      "2023-12-27 15:10:54,599 ERROR [imdbpy] /Users/mac/opt/anaconda3/lib/python3.9/site-packages/imdb/__init__.py:844: unknown information set \"genres\"\n"
     ]
    },
    {
     "name": "stdout",
     "output_type": "stream",
     "text": [
      "Bobby Robson: More Than a Manager:\n",
      "Genres: ['Documentary', 'Sport']\n"
     ]
    },
    {
     "name": "stderr",
     "output_type": "stream",
     "text": [
      "2023-12-27 15:11:01,012 ERROR [imdbpy] /Users/mac/opt/anaconda3/lib/python3.9/site-packages/imdb/__init__.py:844: unknown information set \"genres\"\n"
     ]
    },
    {
     "name": "stdout",
     "output_type": "stream",
     "text": [
      "Silencio:\n",
      "Genres: ['Crime', 'Drama', 'Thriller']\n"
     ]
    },
    {
     "name": "stderr",
     "output_type": "stream",
     "text": [
      "2023-12-27 15:11:05,746 ERROR [imdbpy] /Users/mac/opt/anaconda3/lib/python3.9/site-packages/imdb/__init__.py:844: unknown information set \"genres\"\n"
     ]
    },
    {
     "name": "stdout",
     "output_type": "stream",
     "text": [
      "47 Days:\n",
      "Genres: ['Action']\n"
     ]
    },
    {
     "name": "stderr",
     "output_type": "stream",
     "text": [
      "2023-12-27 15:11:11,051 ERROR [imdbpy] /Users/mac/opt/anaconda3/lib/python3.9/site-packages/imdb/__init__.py:844: unknown information set \"genres\"\n"
     ]
    },
    {
     "name": "stdout",
     "output_type": "stream",
     "text": [
      "Jeem Boom Bhaa:\n",
      "Genres: ['Comedy']\n"
     ]
    },
    {
     "name": "stderr",
     "output_type": "stream",
     "text": [
      "2023-12-27 15:11:16,184 ERROR [imdbpy] /Users/mac/opt/anaconda3/lib/python3.9/site-packages/imdb/__init__.py:844: unknown information set \"genres\"\n"
     ]
    },
    {
     "name": "stdout",
     "output_type": "stream",
     "text": [
      "Hushaaru:\n",
      "Genres: ['Comedy']\n"
     ]
    },
    {
     "name": "stderr",
     "output_type": "stream",
     "text": [
      "2023-12-27 15:11:24,226 ERROR [imdbpy] /Users/mac/opt/anaconda3/lib/python3.9/site-packages/imdb/__init__.py:844: unknown information set \"genres\"\n"
     ]
    },
    {
     "name": "stdout",
     "output_type": "stream",
     "text": [
      "Welcome to Happiness:\n",
      "Genres: ['Comedy', 'Drama', 'Fantasy']\n"
     ]
    },
    {
     "name": "stderr",
     "output_type": "stream",
     "text": [
      "2023-12-27 15:11:36,010 ERROR [imdbpy] /Users/mac/opt/anaconda3/lib/python3.9/site-packages/imdb/__init__.py:844: unknown information set \"genres\"\n"
     ]
    },
    {
     "name": "stdout",
     "output_type": "stream",
     "text": [
      "Joker:\n",
      "Genres: ['Crime', 'Drama', 'Thriller']\n"
     ]
    },
    {
     "name": "stderr",
     "output_type": "stream",
     "text": [
      "2023-12-27 15:11:42,161 ERROR [imdbpy] /Users/mac/opt/anaconda3/lib/python3.9/site-packages/imdb/__init__.py:844: unknown information set \"genres\"\n"
     ]
    },
    {
     "name": "stdout",
     "output_type": "stream",
     "text": [
      "Velle:\n",
      "Genres: ['Comedy', 'Crime', 'Drama']\n"
     ]
    },
    {
     "name": "stderr",
     "output_type": "stream",
     "text": [
      "2023-12-27 15:11:47,179 ERROR [imdbpy] /Users/mac/opt/anaconda3/lib/python3.9/site-packages/imdb/__init__.py:844: unknown information set \"genres\"\n"
     ]
    },
    {
     "name": "stdout",
     "output_type": "stream",
     "text": [
      "Chris Porter: A Man From Kansas:\n",
      "Genres: ['Comedy']\n"
     ]
    },
    {
     "name": "stderr",
     "output_type": "stream",
     "text": [
      "2023-12-27 15:11:56,616 ERROR [imdbpy] /Users/mac/opt/anaconda3/lib/python3.9/site-packages/imdb/__init__.py:844: unknown information set \"genres\"\n"
     ]
    },
    {
     "name": "stdout",
     "output_type": "stream",
     "text": [
      "Sunny:\n",
      "Genres: ['Comedy']\n"
     ]
    },
    {
     "name": "stderr",
     "output_type": "stream",
     "text": [
      "2023-12-27 15:12:02,468 ERROR [imdbpy] /Users/mac/opt/anaconda3/lib/python3.9/site-packages/imdb/__init__.py:844: unknown information set \"genres\"\n"
     ]
    },
    {
     "name": "stdout",
     "output_type": "stream",
     "text": [
      "Blue Mountain State: The Rise of Thadland:\n",
      "Genres: ['Comedy', 'Sport']\n"
     ]
    },
    {
     "name": "stderr",
     "output_type": "stream",
     "text": [
      "2023-12-27 15:12:09,153 ERROR [imdbpy] /Users/mac/opt/anaconda3/lib/python3.9/site-packages/imdb/__init__.py:844: unknown information set \"genres\"\n"
     ]
    },
    {
     "name": "stdout",
     "output_type": "stream",
     "text": [
      "Ente Ummante Peru:\n",
      "Genres: ['Drama']\n"
     ]
    },
    {
     "name": "stderr",
     "output_type": "stream",
     "text": [
      "2023-12-27 15:12:15,099 ERROR [imdbpy] /Users/mac/opt/anaconda3/lib/python3.9/site-packages/imdb/__init__.py:844: unknown information set \"genres\"\n"
     ]
    },
    {
     "name": "stdout",
     "output_type": "stream",
     "text": [
      "Axone:\n",
      "Genres: ['Comedy', 'Drama']\n"
     ]
    },
    {
     "name": "stderr",
     "output_type": "stream",
     "text": [
      "2023-12-27 15:12:22,232 ERROR [imdbpy] /Users/mac/opt/anaconda3/lib/python3.9/site-packages/imdb/__init__.py:844: unknown information set \"genres\"\n"
     ]
    },
    {
     "name": "stdout",
     "output_type": "stream",
     "text": [
      "Something from Tiffany's:\n",
      "Genres: ['Comedy', 'Family', 'Romance']\n"
     ]
    },
    {
     "name": "stderr",
     "output_type": "stream",
     "text": [
      "2023-12-27 15:12:28,663 ERROR [imdbpy] /Users/mac/opt/anaconda3/lib/python3.9/site-packages/imdb/__init__.py:844: unknown information set \"genres\"\n"
     ]
    },
    {
     "name": "stdout",
     "output_type": "stream",
     "text": [
      "Momentum:\n",
      "Genres: ['Action', 'Crime', 'Thriller']\n"
     ]
    },
    {
     "name": "stderr",
     "output_type": "stream",
     "text": [
      "2023-12-27 15:12:36,440 ERROR [imdbpy] /Users/mac/opt/anaconda3/lib/python3.9/site-packages/imdb/__init__.py:844: unknown information set \"genres\"\n"
     ]
    },
    {
     "name": "stdout",
     "output_type": "stream",
     "text": [
      "Ophelia:\n",
      "Genres: ['Drama', 'Romance', 'Thriller']\n"
     ]
    },
    {
     "name": "stderr",
     "output_type": "stream",
     "text": [
      "2023-12-27 15:12:44,320 ERROR [imdbpy] /Users/mac/opt/anaconda3/lib/python3.9/site-packages/imdb/__init__.py:844: unknown information set \"genres\"\n"
     ]
    },
    {
     "name": "stdout",
     "output_type": "stream",
     "text": [
      "The Resistance Fighter:\n",
      "Genres: ['Action', 'Drama', 'History', 'Thriller', 'War']\n"
     ]
    },
    {
     "name": "stderr",
     "output_type": "stream",
     "text": [
      "2023-12-27 15:12:50,623 ERROR [imdbpy] /Users/mac/opt/anaconda3/lib/python3.9/site-packages/imdb/__init__.py:844: unknown information set \"genres\"\n"
     ]
    },
    {
     "name": "stdout",
     "output_type": "stream",
     "text": [
      "Son of the South:\n",
      "Genres: ['Biography', 'Drama']\n"
     ]
    },
    {
     "name": "stderr",
     "output_type": "stream",
     "text": [
      "2023-12-27 15:12:56,279 ERROR [imdbpy] /Users/mac/opt/anaconda3/lib/python3.9/site-packages/imdb/__init__.py:844: unknown information set \"genres\"\n"
     ]
    },
    {
     "name": "stdout",
     "output_type": "stream",
     "text": [
      "Dum Laga Ke Haisha:\n",
      "Genres: ['Comedy', 'Drama', 'Romance']\n"
     ]
    },
    {
     "name": "stderr",
     "output_type": "stream",
     "text": [
      "2023-12-27 15:13:02,854 ERROR [imdbpy] /Users/mac/opt/anaconda3/lib/python3.9/site-packages/imdb/__init__.py:844: unknown information set \"genres\"\n"
     ]
    },
    {
     "name": "stdout",
     "output_type": "stream",
     "text": [
      "Detective Chinatown:\n",
      "Genres: ['Action', 'Comedy', 'Mystery']\n"
     ]
    },
    {
     "name": "stderr",
     "output_type": "stream",
     "text": [
      "2023-12-27 15:13:09,832 ERROR [imdbpy] /Users/mac/opt/anaconda3/lib/python3.9/site-packages/imdb/__init__.py:844: unknown information set \"genres\"\n"
     ]
    },
    {
     "name": "stdout",
     "output_type": "stream",
     "text": [
      "Barefoot:\n",
      "Genres: ['Comedy', 'Drama', 'Romance']\n"
     ]
    },
    {
     "name": "stderr",
     "output_type": "stream",
     "text": [
      "2023-12-27 15:13:15,695 ERROR [imdbpy] /Users/mac/opt/anaconda3/lib/python3.9/site-packages/imdb/__init__.py:844: unknown information set \"genres\"\n"
     ]
    },
    {
     "name": "stdout",
     "output_type": "stream",
     "text": [
      "Control:\n",
      "Genres: ['Action', 'Thriller']\n"
     ]
    },
    {
     "name": "stderr",
     "output_type": "stream",
     "text": [
      "2023-12-27 15:13:21,928 ERROR [imdbpy] /Users/mac/opt/anaconda3/lib/python3.9/site-packages/imdb/__init__.py:844: unknown information set \"genres\"\n"
     ]
    },
    {
     "name": "stdout",
     "output_type": "stream",
     "text": [
      "Saina:\n",
      "Genres: ['Biography', 'Drama', 'Sport']\n"
     ]
    },
    {
     "name": "stderr",
     "output_type": "stream",
     "text": [
      "2023-12-27 15:13:27,408 ERROR [imdbpy] /Users/mac/opt/anaconda3/lib/python3.9/site-packages/imdb/__init__.py:844: unknown information set \"genres\"\n"
     ]
    },
    {
     "name": "stdout",
     "output_type": "stream",
     "text": [
      "Breakpoint: A Counter History of Progress:\n",
      "Genres: ['Documentary']\n"
     ]
    },
    {
     "name": "stderr",
     "output_type": "stream",
     "text": [
      "2023-12-27 15:13:33,479 ERROR [imdbpy] /Users/mac/opt/anaconda3/lib/python3.9/site-packages/imdb/__init__.py:844: unknown information set \"genres\"\n"
     ]
    },
    {
     "name": "stdout",
     "output_type": "stream",
     "text": [
      "Untrapped: The Story of Lil Baby:\n",
      "Genres: ['Documentary']\n"
     ]
    },
    {
     "name": "stderr",
     "output_type": "stream",
     "text": [
      "2023-12-27 15:13:39,687 ERROR [imdbpy] /Users/mac/opt/anaconda3/lib/python3.9/site-packages/imdb/__init__.py:844: unknown information set \"genres\"\n"
     ]
    },
    {
     "name": "stdout",
     "output_type": "stream",
     "text": [
      "Dark Signal:\n",
      "Genres: ['Horror', 'Mystery', 'Thriller']\n"
     ]
    },
    {
     "name": "stderr",
     "output_type": "stream",
     "text": [
      "2023-12-27 15:13:45,996 ERROR [imdbpy] /Users/mac/opt/anaconda3/lib/python3.9/site-packages/imdb/__init__.py:844: unknown information set \"genres\"\n"
     ]
    },
    {
     "name": "stdout",
     "output_type": "stream",
     "text": [
      "The Last Keepers:\n",
      "Genres: ['Family', 'Fantasy']\n"
     ]
    },
    {
     "name": "stderr",
     "output_type": "stream",
     "text": [
      "2023-12-27 15:13:52,597 ERROR [imdbpy] /Users/mac/opt/anaconda3/lib/python3.9/site-packages/imdb/__init__.py:844: unknown information set \"genres\"\n"
     ]
    },
    {
     "name": "stdout",
     "output_type": "stream",
     "text": [
      "Fraud Saiyaan:\n",
      "Genres: ['Comedy', 'Drama']\n"
     ]
    },
    {
     "name": "stderr",
     "output_type": "stream",
     "text": [
      "2023-12-27 15:13:59,890 ERROR [imdbpy] /Users/mac/opt/anaconda3/lib/python3.9/site-packages/imdb/__init__.py:844: unknown information set \"genres\"\n"
     ]
    },
    {
     "name": "stdout",
     "output_type": "stream",
     "text": [
      "Kotigobba 3:\n",
      "Genres: ['Action', 'Drama', 'Romance']\n"
     ]
    },
    {
     "name": "stderr",
     "output_type": "stream",
     "text": [
      "2023-12-27 15:14:06,030 ERROR [imdbpy] /Users/mac/opt/anaconda3/lib/python3.9/site-packages/imdb/__init__.py:844: unknown information set \"genres\"\n"
     ]
    },
    {
     "name": "stdout",
     "output_type": "stream",
     "text": [
      "Sunshine Superman:\n",
      "Genres: ['Documentary', 'Biography', 'Sport']\n"
     ]
    },
    {
     "name": "stderr",
     "output_type": "stream",
     "text": [
      "2023-12-27 15:14:14,966 ERROR [imdbpy] /Users/mac/opt/anaconda3/lib/python3.9/site-packages/imdb/__init__.py:844: unknown information set \"genres\"\n"
     ]
    },
    {
     "name": "stdout",
     "output_type": "stream",
     "text": [
      "Road to Hell:\n",
      "Genres: ['Action', 'Fantasy', 'Musical']\n"
     ]
    },
    {
     "name": "stderr",
     "output_type": "stream",
     "text": [
      "2023-12-27 15:14:21,366 ERROR [imdbpy] /Users/mac/opt/anaconda3/lib/python3.9/site-packages/imdb/__init__.py:844: unknown information set \"genres\"\n"
     ]
    },
    {
     "name": "stdout",
     "output_type": "stream",
     "text": [
      "Kill Kane:\n",
      "Genres: ['Crime', 'Thriller']\n"
     ]
    },
    {
     "name": "stderr",
     "output_type": "stream",
     "text": [
      "2023-12-27 15:14:33,651 ERROR [imdbpy] /Users/mac/opt/anaconda3/lib/python3.9/site-packages/imdb/__init__.py:844: unknown information set \"genres\"\n"
     ]
    },
    {
     "name": "stdout",
     "output_type": "stream",
     "text": [
      "Star:\n",
      "Genres: ['Action', 'Adventure', 'Sci-Fi']\n"
     ]
    },
    {
     "name": "stderr",
     "output_type": "stream",
     "text": [
      "2023-12-27 15:14:38,351 ERROR [imdbpy] /Users/mac/opt/anaconda3/lib/python3.9/site-packages/imdb/__init__.py:844: unknown information set \"genres\"\n"
     ]
    },
    {
     "name": "stdout",
     "output_type": "stream",
     "text": [
      "The Diabolical Schemes of Thadeus Jackson:\n",
      "Genres: ['Action', 'Sci-Fi']\n"
     ]
    },
    {
     "name": "stderr",
     "output_type": "stream",
     "text": [
      "2023-12-27 15:14:44,745 ERROR [imdbpy] /Users/mac/opt/anaconda3/lib/python3.9/site-packages/imdb/__init__.py:844: unknown information set \"genres\"\n"
     ]
    },
    {
     "name": "stdout",
     "output_type": "stream",
     "text": [
      "Adventure Boyz:\n",
      "Genres: ['Adventure', 'Comedy', 'Family', 'Sport']\n"
     ]
    },
    {
     "name": "stderr",
     "output_type": "stream",
     "text": [
      "2023-12-27 15:14:51,021 ERROR [imdbpy] /Users/mac/opt/anaconda3/lib/python3.9/site-packages/imdb/__init__.py:844: unknown information set \"genres\"\n"
     ]
    },
    {
     "name": "stdout",
     "output_type": "stream",
     "text": [
      "Chilling Visions: 5 Senses of Fear:\n",
      "Genres: ['Horror']\n"
     ]
    },
    {
     "name": "stderr",
     "output_type": "stream",
     "text": [
      "2023-12-27 15:14:56,158 ERROR [imdbpy] /Users/mac/opt/anaconda3/lib/python3.9/site-packages/imdb/__init__.py:844: unknown information set \"genres\"\n"
     ]
    },
    {
     "name": "stdout",
     "output_type": "stream",
     "text": [
      "Caged No More:\n",
      "Genres: ['Action', 'Drama', 'Thriller']\n"
     ]
    },
    {
     "name": "stderr",
     "output_type": "stream",
     "text": [
      "2023-12-27 15:15:01,890 ERROR [imdbpy] /Users/mac/opt/anaconda3/lib/python3.9/site-packages/imdb/__init__.py:844: unknown information set \"genres\"\n"
     ]
    },
    {
     "name": "stdout",
     "output_type": "stream",
     "text": [
      "Bastille ReOrchestrated:\n",
      "Genres: ['Documentary', 'Music']\n"
     ]
    },
    {
     "name": "stderr",
     "output_type": "stream",
     "text": [
      "2023-12-27 15:15:07,587 ERROR [imdbpy] /Users/mac/opt/anaconda3/lib/python3.9/site-packages/imdb/__init__.py:844: unknown information set \"genres\"\n"
     ]
    },
    {
     "name": "stdout",
     "output_type": "stream",
     "text": [
      "The Curse:\n",
      "Genres: ['Comedy', 'Drama', 'Thriller']\n"
     ]
    },
    {
     "name": "stderr",
     "output_type": "stream",
     "text": [
      "2023-12-27 15:15:13,027 ERROR [imdbpy] /Users/mac/opt/anaconda3/lib/python3.9/site-packages/imdb/__init__.py:844: unknown information set \"genres\"\n"
     ]
    },
    {
     "name": "stdout",
     "output_type": "stream",
     "text": [
      "Banjara: The Truck Driver:\n",
      "Genres: ['Drama', 'Romance']\n"
     ]
    },
    {
     "name": "stderr",
     "output_type": "stream",
     "text": [
      "2023-12-27 15:15:18,389 ERROR [imdbpy] /Users/mac/opt/anaconda3/lib/python3.9/site-packages/imdb/__init__.py:844: unknown information set \"genres\"\n"
     ]
    },
    {
     "name": "stdout",
     "output_type": "stream",
     "text": [
      "The Future of Work and Death:\n",
      "Genres: ['Documentary']\n"
     ]
    },
    {
     "name": "stderr",
     "output_type": "stream",
     "text": [
      "2023-12-27 15:15:24,301 ERROR [imdbpy] /Users/mac/opt/anaconda3/lib/python3.9/site-packages/imdb/__init__.py:844: unknown information set \"genres\"\n"
     ]
    },
    {
     "name": "stdout",
     "output_type": "stream",
     "text": [
      "Margaret Cho: PsyCHO:\n",
      "Genres: ['Documentary', 'Comedy']\n"
     ]
    },
    {
     "name": "stderr",
     "output_type": "stream",
     "text": [
      "2023-12-27 15:15:29,235 ERROR [imdbpy] /Users/mac/opt/anaconda3/lib/python3.9/site-packages/imdb/__init__.py:844: unknown information set \"genres\"\n"
     ]
    },
    {
     "name": "stdout",
     "output_type": "stream",
     "text": [
      "Ikkat:\n",
      "Genres: ['Comedy', 'Drama', 'Romance']\n"
     ]
    },
    {
     "name": "stderr",
     "output_type": "stream",
     "text": [
      "2023-12-27 15:15:36,415 ERROR [imdbpy] /Users/mac/opt/anaconda3/lib/python3.9/site-packages/imdb/__init__.py:844: unknown information set \"genres\"\n"
     ]
    },
    {
     "name": "stdout",
     "output_type": "stream",
     "text": [
      "Equals:\n",
      "Genres: ['Drama', 'Romance', 'Sci-Fi']\n"
     ]
    },
    {
     "name": "stderr",
     "output_type": "stream",
     "text": [
      "2023-12-27 15:15:43,260 ERROR [imdbpy] /Users/mac/opt/anaconda3/lib/python3.9/site-packages/imdb/__init__.py:844: unknown information set \"genres\"\n"
     ]
    },
    {
     "name": "stdout",
     "output_type": "stream",
     "text": [
      "Bliss:\n",
      "Genres: ['Drama', 'Romance']\n"
     ]
    },
    {
     "name": "stderr",
     "output_type": "stream",
     "text": [
      "2023-12-27 15:15:48,729 ERROR [imdbpy] /Users/mac/opt/anaconda3/lib/python3.9/site-packages/imdb/__init__.py:844: unknown information set \"genres\"\n"
     ]
    },
    {
     "name": "stdout",
     "output_type": "stream",
     "text": [
      "KevCoin: The Movie:\n",
      "Genres: ['Comedy']\n"
     ]
    },
    {
     "name": "stderr",
     "output_type": "stream",
     "text": [
      "2023-12-27 15:15:54,295 ERROR [imdbpy] /Users/mac/opt/anaconda3/lib/python3.9/site-packages/imdb/__init__.py:844: unknown information set \"genres\"\n"
     ]
    },
    {
     "name": "stdout",
     "output_type": "stream",
     "text": [
      "Sacrifice:\n",
      "Genres: ['Horror']\n"
     ]
    },
    {
     "name": "stderr",
     "output_type": "stream",
     "text": [
      "2023-12-27 15:16:00,192 ERROR [imdbpy] /Users/mac/opt/anaconda3/lib/python3.9/site-packages/imdb/__init__.py:844: unknown information set \"genres\"\n"
     ]
    },
    {
     "name": "stdout",
     "output_type": "stream",
     "text": [
      "The Operative:\n",
      "Genres: ['Action', 'Drama', 'Mystery', 'Thriller']\n"
     ]
    },
    {
     "name": "stderr",
     "output_type": "stream",
     "text": [
      "2023-12-27 15:16:08,157 ERROR [imdbpy] /Users/mac/opt/anaconda3/lib/python3.9/site-packages/imdb/__init__.py:844: unknown information set \"genres\"\n"
     ]
    },
    {
     "name": "stdout",
     "output_type": "stream",
     "text": [
      "Senior Moment:\n",
      "Genres: ['Comedy', 'Drama', 'Romance']\n"
     ]
    },
    {
     "name": "stderr",
     "output_type": "stream",
     "text": [
      "2023-12-27 15:16:14,933 ERROR [imdbpy] /Users/mac/opt/anaconda3/lib/python3.9/site-packages/imdb/__init__.py:844: unknown information set \"genres\"\n"
     ]
    },
    {
     "name": "stdout",
     "output_type": "stream",
     "text": [
      "Maharshi:\n",
      "Genres: ['Action', 'Drama']\n"
     ]
    },
    {
     "name": "stderr",
     "output_type": "stream",
     "text": [
      "2023-12-27 15:16:21,396 ERROR [imdbpy] /Users/mac/opt/anaconda3/lib/python3.9/site-packages/imdb/__init__.py:844: unknown information set \"genres\"\n"
     ]
    },
    {
     "name": "stdout",
     "output_type": "stream",
     "text": [
      "Alice Fades Away:\n",
      "Genres: ['Thriller']\n"
     ]
    },
    {
     "name": "stderr",
     "output_type": "stream",
     "text": [
      "2023-12-27 15:16:28,131 ERROR [imdbpy] /Users/mac/opt/anaconda3/lib/python3.9/site-packages/imdb/__init__.py:844: unknown information set \"genres\"\n"
     ]
    },
    {
     "name": "stdout",
     "output_type": "stream",
     "text": [
      "Tribal Get Out Alive:\n",
      "Genres: ['Action', 'Horror', 'Thriller']\n"
     ]
    },
    {
     "name": "stderr",
     "output_type": "stream",
     "text": [
      "2023-12-27 15:16:33,636 ERROR [imdbpy] /Users/mac/opt/anaconda3/lib/python3.9/site-packages/imdb/__init__.py:844: unknown information set \"genres\"\n"
     ]
    },
    {
     "name": "stdout",
     "output_type": "stream",
     "text": [
      "Theeran Adhigaaram Ondru:\n",
      "Genres: ['Action', 'Crime', 'Thriller']\n"
     ]
    },
    {
     "name": "stderr",
     "output_type": "stream",
     "text": [
      "2023-12-27 15:16:39,141 ERROR [imdbpy] /Users/mac/opt/anaconda3/lib/python3.9/site-packages/imdb/__init__.py:844: unknown information set \"genres\"\n"
     ]
    },
    {
     "name": "stdout",
     "output_type": "stream",
     "text": [
      "Kaduva:\n",
      "Genres: ['Action', 'Drama', 'Thriller']\n"
     ]
    },
    {
     "name": "stderr",
     "output_type": "stream",
     "text": [
      "2023-12-27 15:16:46,018 ERROR [imdbpy] /Users/mac/opt/anaconda3/lib/python3.9/site-packages/imdb/__init__.py:844: unknown information set \"genres\"\n"
     ]
    },
    {
     "name": "stdout",
     "output_type": "stream",
     "text": [
      "The Dark Red:\n",
      "Genres: ['Mystery', 'Thriller']\n"
     ]
    },
    {
     "name": "stderr",
     "output_type": "stream",
     "text": [
      "2023-12-27 15:16:53,409 ERROR [imdbpy] /Users/mac/opt/anaconda3/lib/python3.9/site-packages/imdb/__init__.py:844: unknown information set \"genres\"\n"
     ]
    },
    {
     "name": "stdout",
     "output_type": "stream",
     "text": [
      "Mardaani 2:\n",
      "Genres: ['Action', 'Crime', 'Drama', 'Thriller']\n"
     ]
    },
    {
     "name": "stderr",
     "output_type": "stream",
     "text": [
      "2023-12-27 15:17:00,006 ERROR [imdbpy] /Users/mac/opt/anaconda3/lib/python3.9/site-packages/imdb/__init__.py:844: unknown information set \"genres\"\n"
     ]
    },
    {
     "name": "stdout",
     "output_type": "stream",
     "text": [
      "French Biriyani:\n",
      "Genres: ['Comedy']\n"
     ]
    },
    {
     "name": "stderr",
     "output_type": "stream",
     "text": [
      "2023-12-27 15:17:11,030 ERROR [imdbpy] /Users/mac/opt/anaconda3/lib/python3.9/site-packages/imdb/__init__.py:844: unknown information set \"genres\"\n"
     ]
    },
    {
     "name": "stdout",
     "output_type": "stream",
     "text": [
      "Wall:\n",
      "Genres: ['Biography', 'Comedy', 'Crime', 'Drama']\n"
     ]
    },
    {
     "name": "stderr",
     "output_type": "stream",
     "text": [
      "2023-12-27 15:17:19,596 ERROR [imdbpy] /Users/mac/opt/anaconda3/lib/python3.9/site-packages/imdb/__init__.py:844: unknown information set \"genres\"\n"
     ]
    },
    {
     "name": "stdout",
     "output_type": "stream",
     "text": [
      "Napoleon:\n",
      "Genres: ['Action', 'Adventure', 'Biography', 'Drama', 'History', 'War']\n"
     ]
    },
    {
     "name": "stderr",
     "output_type": "stream",
     "text": [
      "2023-12-27 15:17:25,309 ERROR [imdbpy] /Users/mac/opt/anaconda3/lib/python3.9/site-packages/imdb/__init__.py:844: unknown information set \"genres\"\n"
     ]
    },
    {
     "name": "stdout",
     "output_type": "stream",
     "text": [
      "Chhalaang:\n",
      "Genres: ['Comedy', 'Drama', 'Sport']\n"
     ]
    },
    {
     "name": "stderr",
     "output_type": "stream",
     "text": [
      "2023-12-27 15:17:32,383 ERROR [imdbpy] /Users/mac/opt/anaconda3/lib/python3.9/site-packages/imdb/__init__.py:844: unknown information set \"genres\"\n"
     ]
    },
    {
     "name": "stdout",
     "output_type": "stream",
     "text": [
      "Touch Chesi Chudu:\n",
      "Genres: ['Action', 'Comedy', 'Crime']\n"
     ]
    },
    {
     "name": "stderr",
     "output_type": "stream",
     "text": [
      "2023-12-27 15:17:44,705 ERROR [imdbpy] /Users/mac/opt/anaconda3/lib/python3.9/site-packages/imdb/__init__.py:844: unknown information set \"genres\"\n"
     ]
    },
    {
     "name": "stdout",
     "output_type": "stream",
     "text": [
      "A Good American:\n",
      "Genres: ['Documentary', 'Biography', 'History', 'Thriller']\n"
     ]
    },
    {
     "name": "stderr",
     "output_type": "stream",
     "text": [
      "2023-12-27 15:18:03,571 ERROR [imdbpy] /Users/mac/opt/anaconda3/lib/python3.9/site-packages/imdb/__init__.py:844: unknown information set \"genres\"\n"
     ]
    },
    {
     "name": "stdout",
     "output_type": "stream",
     "text": [
      "FIR:\n",
      "Genres: ['Action', 'Adventure', 'Drama', 'Fantasy', 'Sci-Fi']\n"
     ]
    },
    {
     "name": "stderr",
     "output_type": "stream",
     "text": [
      "2023-12-27 15:18:09,293 ERROR [imdbpy] /Users/mac/opt/anaconda3/lib/python3.9/site-packages/imdb/__init__.py:844: unknown information set \"genres\"\n"
     ]
    },
    {
     "name": "stdout",
     "output_type": "stream",
     "text": [
      "The Scandalous Four:\n",
      "Genres: ['Comedy', 'Drama', 'History', 'Romance']\n"
     ]
    },
    {
     "name": "stderr",
     "output_type": "stream",
     "text": [
      "2023-12-27 15:18:16,569 ERROR [imdbpy] /Users/mac/opt/anaconda3/lib/python3.9/site-packages/imdb/__init__.py:844: unknown information set \"genres\"\n"
     ]
    },
    {
     "name": "stdout",
     "output_type": "stream",
     "text": [
      "Satanic Panic:\n",
      "Genres: ['Comedy', 'Horror']\n"
     ]
    },
    {
     "name": "stderr",
     "output_type": "stream",
     "text": [
      "2023-12-27 15:18:22,041 ERROR [imdbpy] /Users/mac/opt/anaconda3/lib/python3.9/site-packages/imdb/__init__.py:844: unknown information set \"genres\"\n"
     ]
    },
    {
     "name": "stdout",
     "output_type": "stream",
     "text": [
      "Boycie in Belgrade:\n",
      "Genres: ['Documentary']\n"
     ]
    },
    {
     "name": "stderr",
     "output_type": "stream",
     "text": [
      "2023-12-27 15:18:33,747 ERROR [imdbpy] /Users/mac/opt/anaconda3/lib/python3.9/site-packages/imdb/__init__.py:844: unknown information set \"genres\"\n"
     ]
    },
    {
     "name": "stdout",
     "output_type": "stream",
     "text": [
      "Tomorrow Is Today:\n",
      "Genres: ['Comedy']\n"
     ]
    },
    {
     "name": "stderr",
     "output_type": "stream",
     "text": [
      "2023-12-27 15:18:39,800 ERROR [imdbpy] /Users/mac/opt/anaconda3/lib/python3.9/site-packages/imdb/__init__.py:844: unknown information set \"genres\"\n"
     ]
    },
    {
     "name": "stdout",
     "output_type": "stream",
     "text": [
      "Once Upon A Holiday:\n",
      "Genres: ['Comedy', 'Drama', 'Romance']\n"
     ]
    },
    {
     "name": "stderr",
     "output_type": "stream",
     "text": [
      "2023-12-27 15:18:45,736 ERROR [imdbpy] /Users/mac/opt/anaconda3/lib/python3.9/site-packages/imdb/__init__.py:844: unknown information set \"genres\"\n"
     ]
    },
    {
     "name": "stdout",
     "output_type": "stream",
     "text": [
      "Mariah Carey's All I Want for Christmas Is You:\n",
      "Genres: ['Talk-Show']\n"
     ]
    },
    {
     "name": "stderr",
     "output_type": "stream",
     "text": [
      "2023-12-27 15:18:52,070 ERROR [imdbpy] /Users/mac/opt/anaconda3/lib/python3.9/site-packages/imdb/__init__.py:844: unknown information set \"genres\"\n"
     ]
    },
    {
     "name": "stdout",
     "output_type": "stream",
     "text": [
      "Ek Mini Katha:\n",
      "Genres: ['Comedy', 'Drama']\n"
     ]
    },
    {
     "name": "stderr",
     "output_type": "stream",
     "text": [
      "2023-12-27 15:18:58,701 ERROR [imdbpy] /Users/mac/opt/anaconda3/lib/python3.9/site-packages/imdb/__init__.py:844: unknown information set \"genres\"\n"
     ]
    },
    {
     "name": "stdout",
     "output_type": "stream",
     "text": [
      "My Son:\n",
      "Genres: ['Crime', 'Drama', 'Mystery', 'Thriller']\n"
     ]
    },
    {
     "name": "stderr",
     "output_type": "stream",
     "text": [
      "2023-12-27 15:19:06,267 ERROR [imdbpy] /Users/mac/opt/anaconda3/lib/python3.9/site-packages/imdb/__init__.py:844: unknown information set \"genres\"\n"
     ]
    },
    {
     "name": "stdout",
     "output_type": "stream",
     "text": [
      "Burn:\n",
      "Genres: ['Action', 'Crime', 'Drama', 'Mystery', 'Thriller']\n"
     ]
    },
    {
     "name": "stderr",
     "output_type": "stream",
     "text": [
      "2023-12-27 15:19:12,811 ERROR [imdbpy] /Users/mac/opt/anaconda3/lib/python3.9/site-packages/imdb/__init__.py:844: unknown information set \"genres\"\n"
     ]
    },
    {
     "name": "stdout",
     "output_type": "stream",
     "text": [
      "The Report:\n",
      "Genres: ['Biography', 'Crime', 'Drama', 'History', 'Thriller']\n"
     ]
    },
    {
     "name": "stderr",
     "output_type": "stream",
     "text": [
      "2023-12-27 15:19:19,103 ERROR [imdbpy] /Users/mac/opt/anaconda3/lib/python3.9/site-packages/imdb/__init__.py:844: unknown information set \"genres\"\n"
     ]
    },
    {
     "name": "stdout",
     "output_type": "stream",
     "text": [
      "Honeyspider:\n",
      "Genres: ['Horror', 'Thriller']\n"
     ]
    },
    {
     "name": "stderr",
     "output_type": "stream",
     "text": [
      "2023-12-27 15:19:23,867 ERROR [imdbpy] /Users/mac/opt/anaconda3/lib/python3.9/site-packages/imdb/__init__.py:844: unknown information set \"genres\"\n"
     ]
    },
    {
     "name": "stdout",
     "output_type": "stream",
     "text": [
      "We're All Fruit Salad!: The Wiggles' Greatest Hits:\n",
      "Genres: ['Family']\n"
     ]
    },
    {
     "name": "stderr",
     "output_type": "stream",
     "text": [
      "2023-12-27 15:19:29,424 ERROR [imdbpy] /Users/mac/opt/anaconda3/lib/python3.9/site-packages/imdb/__init__.py:844: unknown information set \"genres\"\n"
     ]
    },
    {
     "name": "stdout",
     "output_type": "stream",
     "text": [
      "The Condemned 2:\n",
      "Genres: ['Action', 'Thriller']\n"
     ]
    },
    {
     "name": "stderr",
     "output_type": "stream",
     "text": [
      "2023-12-27 15:19:35,491 ERROR [imdbpy] /Users/mac/opt/anaconda3/lib/python3.9/site-packages/imdb/__init__.py:844: unknown information set \"genres\"\n"
     ]
    },
    {
     "name": "stdout",
     "output_type": "stream",
     "text": [
      "Love at First Child:\n",
      "Genres: ['Drama', 'Romance']\n"
     ]
    },
    {
     "name": "stderr",
     "output_type": "stream",
     "text": [
      "2023-12-27 15:19:41,037 ERROR [imdbpy] /Users/mac/opt/anaconda3/lib/python3.9/site-packages/imdb/__init__.py:844: unknown information set \"genres\"\n"
     ]
    },
    {
     "name": "stdout",
     "output_type": "stream",
     "text": [
      "Bull Shark:\n",
      "Genres: ['Action', 'Drama', 'Horror']\n"
     ]
    },
    {
     "name": "stderr",
     "output_type": "stream",
     "text": [
      "2023-12-27 15:19:49,185 ERROR [imdbpy] /Users/mac/opt/anaconda3/lib/python3.9/site-packages/imdb/__init__.py:844: unknown information set \"genres\"\n"
     ]
    },
    {
     "name": "stdout",
     "output_type": "stream",
     "text": [
      "Vault:\n",
      "Genres: ['Action', 'Thriller']\n"
     ]
    },
    {
     "name": "stderr",
     "output_type": "stream",
     "text": [
      "2023-12-27 15:19:54,447 ERROR [imdbpy] /Users/mac/opt/anaconda3/lib/python3.9/site-packages/imdb/__init__.py:844: unknown information set \"genres\"\n"
     ]
    },
    {
     "name": "stdout",
     "output_type": "stream",
     "text": [
      "Patterns of Evidence: The Exodus:\n",
      "Genres: ['Documentary', 'History']\n"
     ]
    },
    {
     "name": "stderr",
     "output_type": "stream",
     "text": [
      "2023-12-27 15:20:02,177 ERROR [imdbpy] /Users/mac/opt/anaconda3/lib/python3.9/site-packages/imdb/__init__.py:844: unknown information set \"genres\"\n"
     ]
    },
    {
     "name": "stdout",
     "output_type": "stream",
     "text": [
      "Break:\n",
      "Genres: ['Action', 'Crime', 'Drama', 'Mystery', 'Thriller']\n"
     ]
    },
    {
     "name": "stderr",
     "output_type": "stream",
     "text": [
      "2023-12-27 15:20:08,945 ERROR [imdbpy] /Users/mac/opt/anaconda3/lib/python3.9/site-packages/imdb/__init__.py:844: unknown information set \"genres\"\n"
     ]
    },
    {
     "name": "stdout",
     "output_type": "stream",
     "text": [
      "The Ghazi Attack:\n",
      "Genres: ['Action', 'Thriller', 'War']\n"
     ]
    },
    {
     "name": "stderr",
     "output_type": "stream",
     "text": [
      "2023-12-27 15:20:17,939 ERROR [imdbpy] /Users/mac/opt/anaconda3/lib/python3.9/site-packages/imdb/__init__.py:844: unknown information set \"genres\"\n"
     ]
    },
    {
     "name": "stdout",
     "output_type": "stream",
     "text": [
      "The Unthinkable:\n",
      "Genres: ['Action', 'Romance', 'Sci-Fi', 'Thriller']\n"
     ]
    },
    {
     "name": "stderr",
     "output_type": "stream",
     "text": [
      "2023-12-27 15:20:29,880 ERROR [imdbpy] /Users/mac/opt/anaconda3/lib/python3.9/site-packages/imdb/__init__.py:844: unknown information set \"genres\"\n"
     ]
    },
    {
     "name": "stdout",
     "output_type": "stream",
     "text": [
      "V:\n",
      "Genres: ['Action', 'Adventure', 'Comedy', 'Drama', 'Sci-Fi']\n"
     ]
    },
    {
     "name": "stderr",
     "output_type": "stream",
     "text": [
      "2023-12-27 15:20:34,716 ERROR [imdbpy] /Users/mac/opt/anaconda3/lib/python3.9/site-packages/imdb/__init__.py:844: unknown information set \"genres\"\n"
     ]
    },
    {
     "name": "stdout",
     "output_type": "stream",
     "text": [
      "Ghoster:\n",
      "Genres: ['Adventure', 'Family', 'Fantasy']\n"
     ]
    },
    {
     "name": "stderr",
     "output_type": "stream",
     "text": [
      "2023-12-27 15:20:41,077 ERROR [imdbpy] /Users/mac/opt/anaconda3/lib/python3.9/site-packages/imdb/__init__.py:844: unknown information set \"genres\"\n"
     ]
    },
    {
     "name": "stdout",
     "output_type": "stream",
     "text": [
      "Sharmaji Namkeen:\n",
      "Genres: ['Comedy', 'Drama', 'Family']\n"
     ]
    },
    {
     "name": "stderr",
     "output_type": "stream",
     "text": [
      "2023-12-27 15:20:47,161 ERROR [imdbpy] /Users/mac/opt/anaconda3/lib/python3.9/site-packages/imdb/__init__.py:844: unknown information set \"genres\"\n"
     ]
    },
    {
     "name": "stdout",
     "output_type": "stream",
     "text": [
      "The Great Father:\n",
      "Genres: ['Action', 'Crime', 'Drama', 'Mystery', 'Thriller']\n"
     ]
    },
    {
     "name": "stderr",
     "output_type": "stream",
     "text": [
      "2023-12-27 15:20:53,925 ERROR [imdbpy] /Users/mac/opt/anaconda3/lib/python3.9/site-packages/imdb/__init__.py:844: unknown information set \"genres\"\n"
     ]
    },
    {
     "name": "stdout",
     "output_type": "stream",
     "text": [
      "Jalsa:\n",
      "Genres: ['Drama', 'Thriller']\n"
     ]
    },
    {
     "name": "stderr",
     "output_type": "stream",
     "text": [
      "2023-12-27 15:21:03,043 ERROR [imdbpy] /Users/mac/opt/anaconda3/lib/python3.9/site-packages/imdb/__init__.py:844: unknown information set \"genres\"\n"
     ]
    },
    {
     "name": "stdout",
     "output_type": "stream",
     "text": [
      "Gurgaon:\n",
      "Genres: ['Crime', 'Thriller']\n"
     ]
    },
    {
     "name": "stderr",
     "output_type": "stream",
     "text": [
      "2023-12-27 15:21:12,310 ERROR [imdbpy] /Users/mac/opt/anaconda3/lib/python3.9/site-packages/imdb/__init__.py:844: unknown information set \"genres\"\n"
     ]
    },
    {
     "name": "stdout",
     "output_type": "stream",
     "text": [
      "Hostile Border:\n",
      "Genres: ['Drama', 'Thriller']\n"
     ]
    },
    {
     "name": "stderr",
     "output_type": "stream",
     "text": [
      "2023-12-27 15:21:18,170 ERROR [imdbpy] /Users/mac/opt/anaconda3/lib/python3.9/site-packages/imdb/__init__.py:844: unknown information set \"genres\"\n"
     ]
    },
    {
     "name": "stdout",
     "output_type": "stream",
     "text": [
      "Good Tidings:\n",
      "Genres: ['Horror', 'Thriller']\n"
     ]
    },
    {
     "name": "stderr",
     "output_type": "stream",
     "text": [
      "2023-12-27 15:21:23,125 ERROR [imdbpy] /Users/mac/opt/anaconda3/lib/python3.9/site-packages/imdb/__init__.py:844: unknown information set \"genres\"\n"
     ]
    },
    {
     "name": "stdout",
     "output_type": "stream",
     "text": [
      "Casa Vita:\n",
      "Genres: ['Drama', 'Family', 'Romance', 'Sport']\n"
     ]
    },
    {
     "name": "stderr",
     "output_type": "stream",
     "text": [
      "2023-12-27 15:21:30,049 ERROR [imdbpy] /Users/mac/opt/anaconda3/lib/python3.9/site-packages/imdb/__init__.py:844: unknown information set \"genres\"\n"
     ]
    },
    {
     "name": "stdout",
     "output_type": "stream",
     "text": [
      "Almost Mercy:\n",
      "Genres: ['Horror']\n"
     ]
    },
    {
     "name": "stderr",
     "output_type": "stream",
     "text": [
      "2023-12-27 15:21:36,677 ERROR [imdbpy] /Users/mac/opt/anaconda3/lib/python3.9/site-packages/imdb/__init__.py:844: unknown information set \"genres\"\n"
     ]
    },
    {
     "name": "stdout",
     "output_type": "stream",
     "text": [
      "Fight For Space:\n",
      "Genres: ['Documentary']\n"
     ]
    },
    {
     "name": "stderr",
     "output_type": "stream",
     "text": [
      "2023-12-27 15:21:43,590 ERROR [imdbpy] /Users/mac/opt/anaconda3/lib/python3.9/site-packages/imdb/__init__.py:844: unknown information set \"genres\"\n"
     ]
    },
    {
     "name": "stdout",
     "output_type": "stream",
     "text": [
      "Witness Infection:\n",
      "Genres: ['Comedy', 'Horror']\n"
     ]
    },
    {
     "name": "stderr",
     "output_type": "stream",
     "text": [
      "2023-12-27 15:21:49,348 ERROR [imdbpy] /Users/mac/opt/anaconda3/lib/python3.9/site-packages/imdb/__init__.py:844: unknown information set \"genres\"\n"
     ]
    },
    {
     "name": "stdout",
     "output_type": "stream",
     "text": [
      "Achmed Saves America:\n",
      "Genres: ['Animation', 'Comedy']\n"
     ]
    },
    {
     "name": "stderr",
     "output_type": "stream",
     "text": [
      "2023-12-27 15:21:55,465 ERROR [imdbpy] /Users/mac/opt/anaconda3/lib/python3.9/site-packages/imdb/__init__.py:844: unknown information set \"genres\"\n"
     ]
    },
    {
     "name": "stdout",
     "output_type": "stream",
     "text": [
      "Greyson Family Christmas:\n",
      "Genres: ['Comedy', 'Drama', 'Family', 'Romance']\n"
     ]
    },
    {
     "name": "stderr",
     "output_type": "stream",
     "text": [
      "2023-12-27 15:22:02,425 ERROR [imdbpy] /Users/mac/opt/anaconda3/lib/python3.9/site-packages/imdb/__init__.py:844: unknown information set \"genres\"\n"
     ]
    },
    {
     "name": "stdout",
     "output_type": "stream",
     "text": [
      "Orange:\n",
      "Genres: ['Comedy', 'Crime', 'Drama']\n"
     ]
    },
    {
     "name": "stderr",
     "output_type": "stream",
     "text": [
      "2023-12-27 15:22:08,907 ERROR [imdbpy] /Users/mac/opt/anaconda3/lib/python3.9/site-packages/imdb/__init__.py:844: unknown information set \"genres\"\n"
     ]
    },
    {
     "name": "stdout",
     "output_type": "stream",
     "text": [
      "The Sunset Six:\n",
      "Genres: ['Drama', 'Music']\n"
     ]
    },
    {
     "name": "stderr",
     "output_type": "stream",
     "text": [
      "2023-12-27 15:22:22,393 ERROR [imdbpy] /Users/mac/opt/anaconda3/lib/python3.9/site-packages/imdb/__init__.py:844: unknown information set \"genres\"\n"
     ]
    },
    {
     "name": "stdout",
     "output_type": "stream",
     "text": [
      "Rogue:\n",
      "Genres: ['Action', 'Adventure', 'Sci-Fi']\n"
     ]
    },
    {
     "name": "stderr",
     "output_type": "stream",
     "text": [
      "2023-12-27 15:22:29,545 ERROR [imdbpy] /Users/mac/opt/anaconda3/lib/python3.9/site-packages/imdb/__init__.py:844: unknown information set \"genres\"\n"
     ]
    },
    {
     "name": "stdout",
     "output_type": "stream",
     "text": [
      "Broken Mile:\n",
      "Genres: ['Crime', 'Drama', 'Thriller']\n"
     ]
    },
    {
     "name": "stderr",
     "output_type": "stream",
     "text": [
      "2023-12-27 15:22:39,938 ERROR [imdbpy] /Users/mac/opt/anaconda3/lib/python3.9/site-packages/imdb/__init__.py:844: unknown information set \"genres\"\n"
     ]
    },
    {
     "name": "stdout",
     "output_type": "stream",
     "text": [
      "Guardians:\n",
      "Genres: ['Action', 'Adventure', 'Comedy', 'Sci-Fi']\n"
     ]
    },
    {
     "name": "stderr",
     "output_type": "stream",
     "text": [
      "2023-12-27 15:22:45,281 ERROR [imdbpy] /Users/mac/opt/anaconda3/lib/python3.9/site-packages/imdb/__init__.py:844: unknown information set \"genres\"\n"
     ]
    },
    {
     "name": "stdout",
     "output_type": "stream",
     "text": [
      "Brian Posehn: Posehn 25x2:\n",
      "Genres: ['Comedy']\n"
     ]
    },
    {
     "name": "stderr",
     "output_type": "stream",
     "text": [
      "2023-12-27 15:22:50,624 ERROR [imdbpy] /Users/mac/opt/anaconda3/lib/python3.9/site-packages/imdb/__init__.py:844: unknown information set \"genres\"\n"
     ]
    },
    {
     "name": "stdout",
     "output_type": "stream",
     "text": [
      "A Alma de um Ciclista:\n",
      "Genres: ['Documentary']\n"
     ]
    },
    {
     "name": "stderr",
     "output_type": "stream",
     "text": [
      "2023-12-27 15:22:55,788 ERROR [imdbpy] /Users/mac/opt/anaconda3/lib/python3.9/site-packages/imdb/__init__.py:844: unknown information set \"genres\"\n"
     ]
    },
    {
     "name": "stdout",
     "output_type": "stream",
     "text": [
      "Snoop Dogg: Uncaged:\n",
      "Genres: ['Documentary', 'Biography', 'Music']\n"
     ]
    },
    {
     "name": "stderr",
     "output_type": "stream",
     "text": [
      "2023-12-27 15:23:03,873 ERROR [imdbpy] /Users/mac/opt/anaconda3/lib/python3.9/site-packages/imdb/__init__.py:844: unknown information set \"genres\"\n"
     ]
    },
    {
     "name": "stdout",
     "output_type": "stream",
     "text": [
      "Clerks III:\n",
      "Genres: ['Comedy', 'Drama']\n"
     ]
    },
    {
     "name": "stderr",
     "output_type": "stream",
     "text": [
      "2023-12-27 15:23:10,794 ERROR [imdbpy] /Users/mac/opt/anaconda3/lib/python3.9/site-packages/imdb/__init__.py:844: unknown information set \"genres\"\n"
     ]
    },
    {
     "name": "stdout",
     "output_type": "stream",
     "text": [
      "Horror Anthology Movie Volume 1:\n",
      "Genres: ['Horror']\n"
     ]
    },
    {
     "name": "stderr",
     "output_type": "stream",
     "text": [
      "2023-12-27 15:23:16,389 ERROR [imdbpy] /Users/mac/opt/anaconda3/lib/python3.9/site-packages/imdb/__init__.py:844: unknown information set \"genres\"\n"
     ]
    },
    {
     "name": "stdout",
     "output_type": "stream",
     "text": [
      "Santana IV - Live at The House of Blues, Las Vegas:\n",
      "Genres: ['Music']\n"
     ]
    },
    {
     "name": "stderr",
     "output_type": "stream",
     "text": [
      "2023-12-27 15:23:23,093 ERROR [imdbpy] /Users/mac/opt/anaconda3/lib/python3.9/site-packages/imdb/__init__.py:844: unknown information set \"genres\"\n"
     ]
    },
    {
     "name": "stdout",
     "output_type": "stream",
     "text": [
      "The Bag Man:\n",
      "Genres: ['Action', 'Crime', 'Drama', 'Thriller']\n"
     ]
    },
    {
     "name": "stderr",
     "output_type": "stream",
     "text": [
      "2023-12-27 15:23:31,002 ERROR [imdbpy] /Users/mac/opt/anaconda3/lib/python3.9/site-packages/imdb/__init__.py:844: unknown information set \"genres\"\n"
     ]
    },
    {
     "name": "stdout",
     "output_type": "stream",
     "text": [
      "Anne of Green Gables:\n",
      "Genres: ['Drama', 'Family']\n"
     ]
    },
    {
     "name": "stderr",
     "output_type": "stream",
     "text": [
      "2023-12-27 15:23:38,585 ERROR [imdbpy] /Users/mac/opt/anaconda3/lib/python3.9/site-packages/imdb/__init__.py:844: unknown information set \"genres\"\n"
     ]
    },
    {
     "name": "stdout",
     "output_type": "stream",
     "text": [
      "Ladyworld:\n",
      "Genres: ['Thriller']\n"
     ]
    },
    {
     "name": "stderr",
     "output_type": "stream",
     "text": [
      "2023-12-27 15:23:44,766 ERROR [imdbpy] /Users/mac/opt/anaconda3/lib/python3.9/site-packages/imdb/__init__.py:844: unknown information set \"genres\"\n"
     ]
    },
    {
     "name": "stdout",
     "output_type": "stream",
     "text": [
      "Grace and Goliath:\n",
      "Genres: ['Drama']\n"
     ]
    },
    {
     "name": "stderr",
     "output_type": "stream",
     "text": [
      "2023-12-27 15:23:50,912 ERROR [imdbpy] /Users/mac/opt/anaconda3/lib/python3.9/site-packages/imdb/__init__.py:844: unknown information set \"genres\"\n"
     ]
    },
    {
     "name": "stdout",
     "output_type": "stream",
     "text": [
      "Whispers Behind the Wall:\n",
      "Genres: ['Thriller']\n"
     ]
    },
    {
     "name": "stderr",
     "output_type": "stream",
     "text": [
      "2023-12-27 15:23:58,093 ERROR [imdbpy] /Users/mac/opt/anaconda3/lib/python3.9/site-packages/imdb/__init__.py:844: unknown information set \"genres\"\n"
     ]
    },
    {
     "name": "stdout",
     "output_type": "stream",
     "text": [
      "The Christmas Sitters:\n",
      "Genres: ['Comedy', 'Romance']\n"
     ]
    },
    {
     "name": "stderr",
     "output_type": "stream",
     "text": [
      "2023-12-27 15:24:04,071 ERROR [imdbpy] /Users/mac/opt/anaconda3/lib/python3.9/site-packages/imdb/__init__.py:844: unknown information set \"genres\"\n"
     ]
    },
    {
     "name": "stdout",
     "output_type": "stream",
     "text": [
      "Becoming Cary Grant:\n",
      "Genres: ['Documentary', 'Biography']\n"
     ]
    },
    {
     "name": "stderr",
     "output_type": "stream",
     "text": [
      "2023-12-27 15:24:09,403 ERROR [imdbpy] /Users/mac/opt/anaconda3/lib/python3.9/site-packages/imdb/__init__.py:844: unknown information set \"genres\"\n"
     ]
    },
    {
     "name": "stdout",
     "output_type": "stream",
     "text": [
      "Ishq:\n",
      "Genres: ['Drama', 'Romance', 'Thriller']\n"
     ]
    },
    {
     "name": "stderr",
     "output_type": "stream",
     "text": [
      "2023-12-27 15:24:15,213 ERROR [imdbpy] /Users/mac/opt/anaconda3/lib/python3.9/site-packages/imdb/__init__.py:844: unknown information set \"genres\"\n"
     ]
    },
    {
     "name": "stdout",
     "output_type": "stream",
     "text": [
      "Yuvarathnaa:\n",
      "Genres: ['Action', 'Drama']\n"
     ]
    },
    {
     "name": "stderr",
     "output_type": "stream",
     "text": [
      "2023-12-27 15:24:20,099 ERROR [imdbpy] /Users/mac/opt/anaconda3/lib/python3.9/site-packages/imdb/__init__.py:844: unknown information set \"genres\"\n"
     ]
    },
    {
     "name": "stdout",
     "output_type": "stream",
     "text": [
      "Sufiyum Sujatayum:\n",
      "Genres: ['Drama', 'Musical', 'Romance']\n"
     ]
    },
    {
     "name": "stderr",
     "output_type": "stream",
     "text": [
      "2023-12-27 15:24:25,329 ERROR [imdbpy] /Users/mac/opt/anaconda3/lib/python3.9/site-packages/imdb/__init__.py:844: unknown information set \"genres\"\n"
     ]
    },
    {
     "name": "stdout",
     "output_type": "stream",
     "text": [
      "Sivappu Manjal Pachai:\n",
      "Genres: ['Action', 'Drama', 'Thriller']\n"
     ]
    },
    {
     "name": "stderr",
     "output_type": "stream",
     "text": [
      "2023-12-27 15:24:31,777 ERROR [imdbpy] /Users/mac/opt/anaconda3/lib/python3.9/site-packages/imdb/__init__.py:844: unknown information set \"genres\"\n"
     ]
    },
    {
     "name": "stdout",
     "output_type": "stream",
     "text": [
      "9 Ways to Hell:\n",
      "Genres: ['Comedy', 'Drama', 'Horror']\n"
     ]
    },
    {
     "name": "stderr",
     "output_type": "stream",
     "text": [
      "2023-12-27 15:24:40,978 ERROR [imdbpy] /Users/mac/opt/anaconda3/lib/python3.9/site-packages/imdb/__init__.py:844: unknown information set \"genres\"\n"
     ]
    },
    {
     "name": "stdout",
     "output_type": "stream",
     "text": [
      "Lilith:\n",
      "Genres: ['Drama']\n"
     ]
    },
    {
     "name": "stderr",
     "output_type": "stream",
     "text": [
      "2023-12-27 15:24:47,414 ERROR [imdbpy] /Users/mac/opt/anaconda3/lib/python3.9/site-packages/imdb/__init__.py:844: unknown information set \"genres\"\n"
     ]
    },
    {
     "name": "stdout",
     "output_type": "stream",
     "text": [
      "And Then There Was Eve:\n",
      "Genres: ['Drama']\n"
     ]
    },
    {
     "name": "stderr",
     "output_type": "stream",
     "text": [
      "2023-12-27 15:24:54,945 ERROR [imdbpy] /Users/mac/opt/anaconda3/lib/python3.9/site-packages/imdb/__init__.py:844: unknown information set \"genres\"\n"
     ]
    },
    {
     "name": "stdout",
     "output_type": "stream",
     "text": [
      "1986:\n",
      "Genres: ['Short', 'Action', 'Crime', 'Thriller']\n"
     ]
    },
    {
     "name": "stderr",
     "output_type": "stream",
     "text": [
      "2023-12-27 15:25:01,358 ERROR [imdbpy] /Users/mac/opt/anaconda3/lib/python3.9/site-packages/imdb/__init__.py:844: unknown information set \"genres\"\n"
     ]
    },
    {
     "name": "stdout",
     "output_type": "stream",
     "text": [
      "Padi Padi Leche Manasu:\n",
      "Genres: ['Drama', 'Romance']\n"
     ]
    },
    {
     "name": "stderr",
     "output_type": "stream",
     "text": [
      "2023-12-27 15:25:08,863 ERROR [imdbpy] /Users/mac/opt/anaconda3/lib/python3.9/site-packages/imdb/__init__.py:844: unknown information set \"genres\"\n"
     ]
    },
    {
     "name": "stdout",
     "output_type": "stream",
     "text": [
      "Odu Raja Odu:\n",
      "Genres: ['Comedy', 'Drama']\n"
     ]
    },
    {
     "name": "stderr",
     "output_type": "stream",
     "text": [
      "2023-12-27 15:25:15,160 ERROR [imdbpy] /Users/mac/opt/anaconda3/lib/python3.9/site-packages/imdb/__init__.py:844: unknown information set \"genres\"\n"
     ]
    },
    {
     "name": "stdout",
     "output_type": "stream",
     "text": [
      "Darkness Wakes:\n",
      "Genres: ['Horror', 'Mystery']\n"
     ]
    },
    {
     "name": "stderr",
     "output_type": "stream",
     "text": [
      "2023-12-27 15:25:21,955 ERROR [imdbpy] /Users/mac/opt/anaconda3/lib/python3.9/site-packages/imdb/__init__.py:844: unknown information set \"genres\"\n"
     ]
    },
    {
     "name": "stdout",
     "output_type": "stream",
     "text": [
      "Home:\n",
      "Genres: ['Comedy', 'Family']\n"
     ]
    },
    {
     "name": "stderr",
     "output_type": "stream",
     "text": [
      "2023-12-27 15:25:33,856 ERROR [imdbpy] /Users/mac/opt/anaconda3/lib/python3.9/site-packages/imdb/__init__.py:844: unknown information set \"genres\"\n"
     ]
    },
    {
     "name": "stdout",
     "output_type": "stream",
     "text": [
      "Kanan Gill: Keep It Real:\n",
      "Genres: ['Comedy']\n"
     ]
    },
    {
     "name": "stderr",
     "output_type": "stream",
     "text": [
      "2023-12-27 15:25:43,281 ERROR [imdbpy] /Users/mac/opt/anaconda3/lib/python3.9/site-packages/imdb/__init__.py:844: unknown information set \"genres\"\n"
     ]
    },
    {
     "name": "stdout",
     "output_type": "stream",
     "text": [
      "Honeytrap:\n",
      "Genres: ['Crime', 'Drama', 'Romance']\n"
     ]
    },
    {
     "name": "stderr",
     "output_type": "stream",
     "text": [
      "2023-12-27 15:25:52,494 ERROR [imdbpy] /Users/mac/opt/anaconda3/lib/python3.9/site-packages/imdb/__init__.py:844: unknown information set \"genres\"\n"
     ]
    },
    {
     "name": "stdout",
     "output_type": "stream",
     "text": [
      "Celeste:\n",
      "Genres: ['Comedy', 'Drama', 'Romance']\n"
     ]
    },
    {
     "name": "stderr",
     "output_type": "stream",
     "text": [
      "2023-12-27 15:25:59,088 ERROR [imdbpy] /Users/mac/opt/anaconda3/lib/python3.9/site-packages/imdb/__init__.py:844: unknown information set \"genres\"\n"
     ]
    },
    {
     "name": "stdout",
     "output_type": "stream",
     "text": [
      "Sparks & Embers:\n",
      "Genres: ['Comedy', 'Drama', 'Romance']\n"
     ]
    },
    {
     "name": "stderr",
     "output_type": "stream",
     "text": [
      "2023-12-27 15:26:05,972 ERROR [imdbpy] /Users/mac/opt/anaconda3/lib/python3.9/site-packages/imdb/__init__.py:844: unknown information set \"genres\"\n"
     ]
    },
    {
     "name": "stdout",
     "output_type": "stream",
     "text": [
      "Villager News: War:\n",
      "Genres: ['Animation', 'Short', 'Adventure', 'Comedy', 'War']\n"
     ]
    },
    {
     "name": "stderr",
     "output_type": "stream",
     "text": [
      "2023-12-27 15:26:12,951 ERROR [imdbpy] /Users/mac/opt/anaconda3/lib/python3.9/site-packages/imdb/__init__.py:844: unknown information set \"genres\"\n"
     ]
    },
    {
     "name": "stdout",
     "output_type": "stream",
     "text": [
      "Dogged:\n",
      "Genres: ['Horror']\n"
     ]
    },
    {
     "name": "stderr",
     "output_type": "stream",
     "text": [
      "2023-12-27 15:26:19,545 ERROR [imdbpy] /Users/mac/opt/anaconda3/lib/python3.9/site-packages/imdb/__init__.py:844: unknown information set \"genres\"\n"
     ]
    },
    {
     "name": "stdout",
     "output_type": "stream",
     "text": [
      "The Last Secrets Of 9/11:\n",
      "Genres: ['Documentary']\n"
     ]
    },
    {
     "name": "stderr",
     "output_type": "stream",
     "text": [
      "2023-12-27 15:26:25,463 ERROR [imdbpy] /Users/mac/opt/anaconda3/lib/python3.9/site-packages/imdb/__init__.py:844: unknown information set \"genres\"\n"
     ]
    },
    {
     "name": "stdout",
     "output_type": "stream",
     "text": [
      "A Seat at the Table:\n",
      "Genres: ['Documentary']\n"
     ]
    },
    {
     "name": "stderr",
     "output_type": "stream",
     "text": [
      "2023-12-27 15:26:31,632 ERROR [imdbpy] /Users/mac/opt/anaconda3/lib/python3.9/site-packages/imdb/__init__.py:844: unknown information set \"genres\"\n"
     ]
    },
    {
     "name": "stdout",
     "output_type": "stream",
     "text": [
      "Sameer:\n",
      "Genres: ['Drama']\n"
     ]
    },
    {
     "name": "stderr",
     "output_type": "stream",
     "text": [
      "2023-12-27 15:26:37,316 ERROR [imdbpy] /Users/mac/opt/anaconda3/lib/python3.9/site-packages/imdb/__init__.py:844: unknown information set \"genres\"\n"
     ]
    },
    {
     "name": "stdout",
     "output_type": "stream",
     "text": [
      "New Money:\n",
      "Genres: ['Crime', 'Drama', 'Thriller']\n"
     ]
    },
    {
     "name": "stderr",
     "output_type": "stream",
     "text": [
      "2023-12-27 15:26:45,099 ERROR [imdbpy] /Users/mac/opt/anaconda3/lib/python3.9/site-packages/imdb/__init__.py:844: unknown information set \"genres\"\n"
     ]
    },
    {
     "name": "stdout",
     "output_type": "stream",
     "text": [
      "Death of Me:\n",
      "Genres: ['Horror', 'Mystery', 'Thriller']\n"
     ]
    },
    {
     "name": "stderr",
     "output_type": "stream",
     "text": [
      "2023-12-27 15:26:52,812 ERROR [imdbpy] /Users/mac/opt/anaconda3/lib/python3.9/site-packages/imdb/__init__.py:844: unknown information set \"genres\"\n"
     ]
    },
    {
     "name": "stdout",
     "output_type": "stream",
     "text": [
      "The Wedding Year:\n",
      "Genres: ['Comedy', 'Romance']\n"
     ]
    },
    {
     "name": "stderr",
     "output_type": "stream",
     "text": [
      "2023-12-27 15:26:58,948 ERROR [imdbpy] /Users/mac/opt/anaconda3/lib/python3.9/site-packages/imdb/__init__.py:844: unknown information set \"genres\"\n"
     ]
    },
    {
     "name": "stdout",
     "output_type": "stream",
     "text": [
      "Hagazussa:\n",
      "Genres: ['Drama', 'Horror']\n"
     ]
    },
    {
     "name": "stderr",
     "output_type": "stream",
     "text": [
      "2023-12-27 15:27:03,985 ERROR [imdbpy] /Users/mac/opt/anaconda3/lib/python3.9/site-packages/imdb/__init__.py:844: unknown information set \"genres\"\n"
     ]
    },
    {
     "name": "stdout",
     "output_type": "stream",
     "text": [
      "Anna Karenina. Vronsky's Story:\n",
      "Genres: ['Drama']\n"
     ]
    },
    {
     "name": "stderr",
     "output_type": "stream",
     "text": [
      "2023-12-27 15:27:09,418 ERROR [imdbpy] /Users/mac/opt/anaconda3/lib/python3.9/site-packages/imdb/__init__.py:844: unknown information set \"genres\"\n"
     ]
    },
    {
     "name": "stdout",
     "output_type": "stream",
     "text": [
      "Never Let Go:\n",
      "Genres: ['Drama', 'Romance', 'Sci-Fi', 'Thriller']\n"
     ]
    },
    {
     "name": "stderr",
     "output_type": "stream",
     "text": [
      "2023-12-27 15:27:14,191 ERROR [imdbpy] /Users/mac/opt/anaconda3/lib/python3.9/site-packages/imdb/__init__.py:844: unknown information set \"genres\"\n"
     ]
    },
    {
     "name": "stdout",
     "output_type": "stream",
     "text": [
      "Night of the Kings:\n",
      "Genres: ['Not available']\n"
     ]
    },
    {
     "name": "stderr",
     "output_type": "stream",
     "text": [
      "2023-12-27 15:27:20,413 ERROR [imdbpy] /Users/mac/opt/anaconda3/lib/python3.9/site-packages/imdb/__init__.py:844: unknown information set \"genres\"\n"
     ]
    },
    {
     "name": "stdout",
     "output_type": "stream",
     "text": [
      "Wolf Manor:\n",
      "Genres: ['Horror']\n"
     ]
    },
    {
     "name": "stderr",
     "output_type": "stream",
     "text": [
      "2023-12-27 15:27:26,697 ERROR [imdbpy] /Users/mac/opt/anaconda3/lib/python3.9/site-packages/imdb/__init__.py:844: unknown information set \"genres\"\n"
     ]
    },
    {
     "name": "stdout",
     "output_type": "stream",
     "text": [
      "The Big Lie: American Addict 2:\n",
      "Genres: ['Documentary']\n"
     ]
    },
    {
     "name": "stderr",
     "output_type": "stream",
     "text": [
      "2023-12-27 15:27:32,655 ERROR [imdbpy] /Users/mac/opt/anaconda3/lib/python3.9/site-packages/imdb/__init__.py:844: unknown information set \"genres\"\n"
     ]
    },
    {
     "name": "stdout",
     "output_type": "stream",
     "text": [
      "Underdogs:\n",
      "Genres: ['Animation', 'Adventure', 'Comedy', 'Family', 'Fantasy', 'Sport']\n"
     ]
    },
    {
     "name": "stderr",
     "output_type": "stream",
     "text": [
      "2023-12-27 15:27:37,758 ERROR [imdbpy] /Users/mac/opt/anaconda3/lib/python3.9/site-packages/imdb/__init__.py:844: unknown information set \"genres\"\n"
     ]
    },
    {
     "name": "stdout",
     "output_type": "stream",
     "text": [
      "Oh My Dog:\n",
      "Genres: ['Drama', 'Family']\n"
     ]
    },
    {
     "name": "stderr",
     "output_type": "stream",
     "text": [
      "2023-12-27 15:27:42,840 ERROR [imdbpy] /Users/mac/opt/anaconda3/lib/python3.9/site-packages/imdb/__init__.py:844: unknown information set \"genres\"\n"
     ]
    },
    {
     "name": "stdout",
     "output_type": "stream",
     "text": [
      "Ephraim's Rescue:\n",
      "Genres: ['Adventure', 'Drama', 'History']\n",
      "\n",
      "DataFrame with Genres:\n",
      "                         Movie Title  \\\n",
      "0                              Hours   \n",
      "1                         The Grinch   \n",
      "2                      In a World...   \n",
      "3         All the Money in the World   \n",
      "4                              Relic   \n",
      "...                              ...   \n",
      "1891                      Wolf Manor   \n",
      "1892  The Big Lie: American Addict 2   \n",
      "1893                       Underdogs   \n",
      "1894                       Oh My Dog   \n",
      "1895                Ephraim's Rescue   \n",
      "\n",
      "                                                 Genres  \n",
      "0               [Action, Drama, History, Thriller, War]  \n",
      "1         [Animation, Comedy, Family, Fantasy, Musical]  \n",
      "2                                              [Comedy]  \n",
      "3          [Biography, Crime, Drama, Mystery, Thriller]  \n",
      "4                    [Drama, Horror, Mystery, Thriller]  \n",
      "...                                                 ...  \n",
      "1891                                           [Horror]  \n",
      "1892                                      [Documentary]  \n",
      "1893  [Animation, Adventure, Comedy, Family, Fantasy...  \n",
      "1894                                    [Drama, Family]  \n",
      "1895                        [Adventure, Drama, History]  \n",
      "\n",
      "[1896 rows x 2 columns]\n"
     ]
    }
   ],
   "source": [
    "import pandas as pd\n",
    "from imdb import IMDb\n",
    "import time\n",
    "\n",
    "# Function to get genres for a movie title\n",
    "def get_movie_genres(movie_title):\n",
    "    ia = IMDb()\n",
    "\n",
    "    # Set a longer timeout (in seconds)\n",
    "    ia.timeout = 30\n",
    "\n",
    "    # Search for the movie by title\n",
    "    search_results = ia.search_movie(movie_title)\n",
    "\n",
    "    if search_results:\n",
    "        # Get the first result (most relevant)\n",
    "        movie = search_results[0]\n",
    "\n",
    "        # Load detailed information about the movie, including genres\n",
    "        ia.update(movie, info=['main', 'genres'])\n",
    "\n",
    "        # Get genres\n",
    "        genres = movie.get('genres')\n",
    "\n",
    "        return genres if genres else ['Not available']\n",
    "    \n",
    "    return ['Not available']\n",
    "\n",
    "# Your list of movie titles\n",
    "movie_titles = ['Hours', 'The Grinch', 'In a World...', 'All the Money in the World', 'Relic', 'The Night Before', 'Bad Timing', 'A Vigilante', 'Last Flag Flying', 'The Infiltrator', 'Cry Macho', 'Genius', 'A Beautiful Day in the Neighborhood', 'This Is the End', 'Silent Night', 'Click & Collect', 'The Little Mermaid', \"Don't Breathe 2\", \"Daddy's Home 2\", 'We Still Kill the Old Way', 'War Dogs', 'The Fall of Usher', 'Your Christmas or Mine?', 'Rough Night', 'Nurse 3-D', 'Once Upon a Time… in Hollywood', 'Rubikon', 'The Craft: Legacy', 'When Darkness Falls', 'I Can Only Imagine', 'Dawn Breaks Behind the Eyes', 'A Simple Favor', 'Kin', 'Kinsenas, Katapusan', 'I Spit on Your Grave 2', 'Edge of Tomorrow', 'Rabbit', \"Sister Mary's Angel\", 'The Tiger', \"Daddy's Home\", \"God's Petting You\", 'The Hunger Games: Mockingjay - Part 1', 'Megan Leavey', 'The To Do List', 'A Bad Moms Christmas', 'Pamasahe', 'Love the Coopers', 'Spiral', 'The Long Night', 'Deadly Weekend', 'Ghostbusters', 'How to Be Single', 'Horns', 'The Man Who Saved the World', 'Passengers', 'Sex Tape', 'Mr. Jones', 'My Salinger Year', 'Centigrade', 'Into the Storm', 'The Voices', 'Tahan', 'Val (Feature)', \"Franklin's Comedy Book\", 'Vanquish', '300: Rise of an Empire', 'Misogynist', 'Honeydew', 'Olympus Has Fallen', 'Hungry Hearts', 'Joe', 'Lorelei', 'Hunt for the Wilderpeople', 'Project Wolf Hunting', 'Carmen & Lola', 'Lucky Bastard', 'Episodes from Apocalypse', 'The Quiet Ones', 'Bae Wolf', 'In the Heart of the Sea', 'Life', 'Melody on Earth', 'The Champions', 'Project Gemini', 'It’s Quieter in the Twilight', '24 Hours to Live', 'American Assassin', 'After Earth', 'Ode to Joy', 'Coma', '11th Hour Cleaning', 'Body Brokers', \"Rules Don't Apply\", 'The Bromley Boys', 'Triangle of Sadness', 'God of Thunder', 'Beyond Beyond', 'Like Dogs', 'Killing Ground', 'Lapsis', 'Jumanji: Welcome to the Jungle', 'Come As You Are', 'In Search of the Last Action Heroes', 'Kidnapped to the Island', 'The Wedding Guest', 'Operation Avalanche', 'Black Friday', 'Tom Petty, Somewhere You Feel Free', 'The House', 'A Family Man', 'The Parachute Murder Plot', 'I Spit on Your Grave III: Vengeance Is Mine', 'Hail to the Deadites', 'The Big Short', 'Focus', 'Fortress', 'Submission', 'Bohemian Rhapsody', 'Green Room', 'Pinocchio', 'Get a Job', 'A Perfect 14', 'The Otherworld', 'Freeze', 'The Lodger', 'Creators: The Past', 'The Climb', 'Strix', 'Father Figures', 'The Big Hit', 'Cabin Fever', 'All Is True', 'Immanence', 'A Brilliant Young Mind', \"Charlie's Angels\", 'Sausage Party', 'Home Again', 'The Whale', \"The Internet's Own Boy: The Story of Aaron Swartz\", 'Gravity', 'Girl/Girl Scene: The Movie', 'Elysium', 'Jiu Jitsu', 'Babysitter Must Die', 'The Little Death', 'Josie & Jack', 'Three Thousand Years of Longing', \"Matthew Bourne's Cinderella\", 'Clinton Road', 'Here Before', 'My Body Is Not Obscene', 'Come to Daddy', 'Battle for Pandora', 'Amityville Christmas Vacation', 'The Revenant', 'John Wick: Chapter 3 - Parabellum', 'Blood Father', 'Pennywise: The Story of IT', 'Hero Mode', 'Breach', 'The Toll', '377', 'Expired', 'Emperor', 'Collateral Beauty', \"Film Stars Don't Die in Liverpool\", 'Tuftland', \"This Game's Called Murder\", 'Bloody Hell', 'The Last of the Winthrops', 'The Pond', 'Held', 'The Hunger Games: Mockingjay - Part 2', 'Night of Something Strange', 'The Other Side of the Ring', 'Run All Night', 'Just Girls', '21 Bridges', 'Terror Trips', '303 Squadron', 'Palm Springs', 'The Killing Tree', 'Flunk: The Sleepover', 'Strip Club Massacre', 'Bill', 'Unfinished Business', 'A Quiet Place', 'Welcome Home', 'Angel Azul', 'Ghost in the Shell', 'The Sixth Secret', 'Rock Camp: The Movie', 'Beyond the Gates of Hell', 'Blue Ruin', 'The Hobbit: The Desolation of Smaug', 'The 5th Wave', 'Rooney', 'Angel Has Fallen', 'Hot Air', 'Fruitvale Station', \"Journey's End\", '1000km of Chaos', 'Dug Up', 'Women Talking', 'The Nice Guys', 'Ghost Note', \"The Devil's Candy\", 'Slumber Party Massacre', \"Other People's Children\", 'Detective Knight: Redemption', 'Pawn Shop Chronicles', 'Lovelace', 'Last Three Days', 'Flames of Fury', 'Sniper: The White Raven', 'Hippopotamus', 'Deinfluencer', 'Horrible Bosses 2', 'Spinster', 'Stereoscope', 'Warsaw: A City Divided', \"The Artist's Wife\", 'Suspiria', 'The Justice of Bunny King', 'Monster', 'On the Count of Three', 'VHS Massacre Too', 'The Magic Pill', 'The Lady in the Van', 'Sex Doll', 'Sing Street', 'When the Mist Clears', 'Rifftrax: Stitches', 'Hunting Elephants', \"I'll Follow You Down\", 'Living', 'The Babadook', 'Censor', 'Low Tide', 'Hell or High Seas', 'The Green Knight', 'Summer Camp', 'Tone-Deaf', 'Iliza Shlesinger: War Paint', \"The Nanny's Night\", 'Nocturnal', 'Plan 9', 'No One Lives', 'Once Upon a River', 'VHS Massacre: Cult Films and the Decline of Physical Media', 'Wildflower', 'The Tomorrow War', 'Once I Was a Beehive', 'Draft Day', 'The Undamaged', 'The Last Scout', 'Hotel Transylvania: Transformania', 'Congratulations!', 'Monolith', 'Beauty Factory', 'The Last Stop', 'The Matrix Resurrections', 'Secret Societies', 'The Last Heist', 'Susie Q', 'The White Orchid', 'Look Away, Look Away', 'Armstrong', 'Night Kaleidoscope', 'Greenland', 'The Hating Game', 'Before Midnight', 'The Haunting of Pendle Hill', 'Strangerland', 'The Long Shadow', 'Above Ground', 'When Claude Got Shot', 'Going in Style', 'Testament of Youth', '安娜', 'Girl at the Window', \"The House on Devil's Road\", 'You, Me and Him', 'The Christmas Candle', 'In the Forest', 'Follow the Dead', 'Altered Hours', 'A Perfect Day', 'Her Smell', 'Native', 'Beautiful Beings', 'Still Human', '2020: The Dumpster Fire', 'Happy Christmas', 'The Wall', 'The Formula', 'A Beauty & the Beast Christmas', 'I Am Big Bird: The Caroll Spinney Story', 'Standing Up, Falling Down', 'A Few Cubic Meters of Love', 'Fresh Dressed', 'The World We Knew', 'Loving Ibiza', 'Walkaway Joe', 'The Possessed', 'Heavy Trip', 'The Narcissists', 'The Phoenix', 'The Man Who Sold His Skin', 'A Patch of Fog', 'Good Luck to You, Leo Grande', 'Station to Station', 'The Wailing', 'Band of Robbers', 'The Red Book Ritual', 'Parable', 'Glassland', 'Wild Honey Pie!', 'Alien Invasion: S.U.M.1', 'Rams', 'RoboCop', 'The Vault', 'Fan', 'Amsterdam', 'Butt Boy', 'Tomorrow Ever After', 'The Longest Week', 'Salinger', 'The Last Laugh', 'The Fanatic', 'The Pebble and the Boy', 'I Am Woman', 'Feast of the Seven Fishes', 'Lost Girls & Love Hotels', 'Solid Rock Trust', 'Exegesis Lovecraft', \"I Think We're Alone Now\", 'Gangster Squad', 'Vice', 'Broadcast', 'Let Us In', 'The Resort', 'The Belko Experiment', 'Away From Here', 'We Broke Up', 'Results', 'The Wolf Hour', 'The Stairs', 'The Stranger', 'Unacknowledged', 'The Tape', 'Deadly Seduction', \"Darlin'\", 'Mutant Blast', 'Broadcast Signal Intrusion', 'Kill Your Darlings', 'Fifty Shades of Fetish Model', 'The Owners', 'Sword of God', \"Pretending I'm a Superman: The Tony Hawk Video Game Story\", 'Lady Lawman', 'El número nueve', 'The Kindness of Strangers', 'The Contractor', 'Here Are the Young Men', 'Dreaded Light', 'Entanglement', 'Pledge', 'Island Zero', 'Death Pool', 'CRSHD', 'Outback', 'Dashcam', 'The Hungover Games', 'Zombieland: Double Tap', 'Free Ride', 'Hell House LLC III: Lake of Fire', 'Birdman or (The Unexpected Virtue of Ignorance)', 'Easter Bunny Massacre', 'Voyeur', 'Hellblazers', \"Don't Call Me Bigfoot\", 'Landmine Goes Click', 'Love Hurts', 'Deepwater Horizon', 'All Is Bright', 'Iravin Nizhal', 'Daddy Issues', 'Short Term 12', 'Square One', 'Alpha', 'Grand Isle', 'Close Encounters of the Fifth Kind', 'The Message', 'Patio', 'This Beautiful Fantastic', 'The Grand Bolero', 'The Long Walk', 'Thirteen Lives', \"The King's Daughter\", 'The Big Sick', 'Islanders', 'Wither', 'Akron', \"Don't Click\", 'Pescador', 'Dead in the Water', 'Safe Haven', 'Softness of Bodies', 'Roll Red Roll', 'The Pine Barrens', 'The Last Warrior', 'The Cheerleader Sleepover Slaughter', 'Poker Night', 'A Guide to Second Date Sex', 'Bullet Head', 'Bombshell', 'Diani and Devine Meet the Apocalypse', 'Burn Burn Burn', 'Hellboy', 'Doors', 'Ditched', 'Piranhas', 'The Legend of Hawes', 'A Savannah Haunting', 'Mr. Dynamite: The Rise of James Brown', 'Beyond the Wasteland', 'Ivanna', 'First Love', 'The Adventures of Paula Peril', 'Sideworld: Damnation Village', 'The Beast', 'Nightmare Wedding', 'Argentina, 1985', 'Risen', 'Mindhorn', 'Deep Water', 'The Pilot: A Battle for Survival', 'The East', 'Working Man', 'Immortal', 'Curse of Crom: The Legend of Halloween', 'Line of Duty', 'Jallikattu', 'After Ever Happy', 'Bones and All', 'The Carpenter', 'Emelie', 'The Christmas Train', 'Kursk', 'Buffaloed', \"Assassin's Creed\", 'The Last Rescue', 'Stacked', 'Foster Boy', 'Sideworld: Terrors of the Sea', 'The Rising Hawk', 'Secrets on Sorority Row', 'St. Agatha', 'Demonic', 'Baking All the Way', 'Dead in a Week (Or Your Money Back)', 'Stranger Fruit', \"The High Frontier: The Untold Story of Gerard K. O'Neill\", 'Shattered', 'The Big Take', 'The Upside', 'Asterix: The Mansions of the Gods', 'KKN di Desa Penari: Luwih Dowo, Luwih Medeni', 'Manbaby', 'Jack of the Red Hearts', 'Hunter Killer', 'The Purge', 'Supremacy', 'Runner Runner', 'Fist Fight', 'Arctic', 'Savage', 'The Misfits', 'The Ones Below', 'Blood Vessel', 'Impossible Dreamers', 'Evil Eye', \"Thee Debauchery Ball: Director's Cut\", 'The Ledge', 'Changeland', 'Division 19', 'The Boat', 'Walk of Shame', 'Jack the Giant Slayer', \"Devil's Workshop\", 'Flight/Risk', 'It Came from Below', 'Dave Stevens: Drawn to Perfection', 'I.T.', 'The Hippopotamus', 'Ash Is Purest White', 'Django', 'Kick Out the Jams: The Story of XFM', 'Superior', 'Videoman', 'Neon', 'Possum', \"Italy's Mystery Mountains\", 'Tang', 'Shark Killer', 'Honour', 'Boyfriend Killer', 'The Son', 'Prince of Muck', 'Billy Graham: An Extraordinary Journey', 'Prevenge', 'Bloodthirsty', 'Last Shift', 'Swelter', 'The Girl Who Killed Her Parents', 'Dead by Dawn', 'The Ash Lad: In the Hall of the Mountain King', 'Bar Fight', 'Horror in the High Desert', 'Finding Steve McQueen', 'Creating Christ', 'Haunting of the Mary Celeste', 'The Unkind', 'The Intern', 'Shotgun Wedding', 'Soorarai Pottru', 'Rot', 'Come Away', 'H Is for Happiness', 'Chasing Happiness', 'The Haunted Hotel', 'Pixels', 'Vollendet', \"The Party's Just Beginning\", 'Jurassic Domination', 'Flirts', 'Sinister Switch', 'The Modern Way', 'Christmas in Paradise', 'Floating!', 'Oildale', 'Whispers', 'Scarecrow', 'Red Carpet', 'Pelé: Birth of a Legend', 'Demons at Dawn', 'Age of Summer', 'Gates of Darkness', 'A Boy Called Sailboat', 'Goatling: Son of Satan', 'Depraved', 'Dark Beacon', 'Europa', 'The Curse of Hobbes House', 'Spotlight on Christmas', 'Softie', 'Shelter', 'Catherine Called Birdy', 'Once Upon a Time in... Hollywierd', 'Intersect', 'A Hero', 'Ponniyin Selvan: Part I', 'Borrego', 'Quintessentially British', 'Strangeways Here We Come', 'The Preppie Connection', 'Winterskin', 'Paul Blart: Mall Cop 2', 'Electric Jesus', 'The Journey', 'Proximity', \"Fortress: Sniper's Eye\", 'Green White Green', 'The Protégé', 'The Postcard Killings', 'Bellbottom', 'A Dark Place', 'Killbird', 'What We Did on Our Holiday', 'DriverX', 'Everything in the End', 'I Care a Lot', 'The Illegal', \"All the Devil's Men\", 'JugJugg Jeeyo', 'Gatlopp', 'What Have We Done to Deserve This?', 'Above the Shadows', 'Creed II', 'Le Brio', 'Black Hollow Cage', 'Here Comes Hell', 'Brutus vs Cesar', 'Brothers', 'The Frontier', 'Songbird', 'The Badge, the Bible, and Bigfoot', 'Dear Zoe', 'Lapwing', 'Parallel Lines', 'Skyfire', 'Babes with Blades', 'Revenge Best Served Chilled', 'Return to Me', 'Killing Your Daughter', 'Hostage Radio', 'Rise', 'Overdose', 'Scottish Mussel', 'Aquarium of the Dead', 'A Lethal Lesson', 'The Man Who Killed Don Quixote', 'I Am Norman', '3 Days to Kill', 'The Only Living Boy in New York', 'Dating & New York', 'God Help the Girl', 'Top End Wedding', 'Trust', 'After the Dark', 'Day X', 'Kill Ben Lyk', 'Repeat', 'Borat Subsequent Moviefilm', 'Babe Beach', 'Peridot', 'Bad Day for the Cut', 'Shamshera', '2.0', 'An Ordinary People', 'LX 2048', 'Siren', 'Metamorphoses', 'Jellyfish', 'Benjamin', 'Boss Level', 'VFW', 'Take Down', 'HIT', 'The Monster', 'Get Back', 'Douche', 'Get Hard', 'Escape from Death Block 13', 'Desecration', 'Guns Akimbo', 'Corona Depression', 'Kill Chain', 'One Last Thing', 'Headless Horseman', 'From the Depths', 'Cold Brook', 'Student Body', 'Wonderstruck', 'Transhuman', 'The Scrapper', 'Geostorm', 'The Sea', 'The Adventures of Thomasina Sawyer', 'Heropanti 2', 'The Last Five Years', 'Sobibor', 'Birds of Paradise', 'The Unknown Runner', 'The Choice', 'The Drowning of Arthur Braxton', '3 Way Junction', 'Battle on Buka Street', 'Viruman', 'Bundy and the Green River Killer', 'The Take', 'Vendetta', 'La semilla del silencio', 'Molly', 'Santa Fake', 'Above Ground Level: Dubfire', 'Body at Brighton Rock', 'Postal', 'The Wind', 'Raatchasi', 'The Bright Side', 'Havenhurst', 'The Haunting of Margam Castle', 'The Last Man on the Moon', 'Love on the Slopes', 'Marie Curie, The Courage of Knowledge', 'Jolt', 'Vendhu Thanindhathu Kaadu', 'First Date', 'Polterheist', '365', 'Ananya', 'Haunted', 'The Runners', 'Slipaway', 'Aadai', '4:4:44', 'Death in Texas', 'Approaching Shadows', 'Good Night Oppy', 'Jack Lantern', 'Whiplash', 'Headgame', 'Loro 1', 'Cold Case', 'Hyena Road', 'Made Guys', \"There's Something About Mario\", 'Inheritance', 'Memory', 'Iron Mask', 'Beyond the Woods', 'Laddie: The Man Behind the Movies', 'COVID-21: Lethal Virus', 'The Map of Tiny Perfect Things', 'Bayou Caviar', 'The Greasy Hands Preachers', 'Zebra Girl', 'Peterloo', \"Potter's Ground\", 'Batla House', 'A Cure for Wellness', 'The Appearance', 'The Sonata', 'The Diabolical', 'Escape from Mogadishu', 'Putham Pudhu Kaalai', 'Looks That Kill', 'The Rest of Us', 'Last Rampage', 'Killing Gunther', 'All Nighter', 'Run', 'Boulevard', 'Velvet', 'Unda', 'Zoolander 2', 'Big Legend', \"Never Goin' Back\", 'Come to Harm', 'Follow Me', 'Dead Man Down', 'DannyBoy', 'The Burying Party', 'The Damned', '48 Christmas Wishes', 'Sarpatta Parambarai', 'Cardboard Gangsters', 'Hunt vs Lauda: The Next Generation', 'First Born', 'The Convent', 'Project Ithaca', 'Farmer of the Year', 'Portals', 'Ripper Untold', 'Triple Threat', 'Robert Reborn', 'Shane', 'The Dark Tower', 'Aloha', 'Penguin', 'Hustle', 'Knocking', 'Grave Intentions', 'The Man in the Hat', 'The Furnace', 'One Night Off', 'Rogue Warfare', 'Radhe Shyam', 'The Brave', 'Evanescence: Embracing the Bitter Truth', \"Fisherman's Friends: One and All\", 'Crossfire', 'Gatham', 'Hytte', 'Bumperkleef', \"Zoey's Extraordinary Christmas\", 'Clara', 'Lowlife', 'On the Line', \"Maussan's UFO Files\", 'Swim', 'Snowkissed', \"The Eagle's Nest\", 'Boy in the Corner', 'Pass Over', 'Digging to Death', 'Mad to Be Normal', 'Rage', 'Bloodline', 'The Livingston Gardener', 'Escape Room', 'Beyond White Space', 'Light in the Dark', 'The Saturn V Story', 'The Broken Hearts Gallery', 'School of the Damned', 'Antrum', 'Valley Girl', \"While We're Young\", 'Ashes in the Snow', 'City of Tiny Lights', 'Boy Meets Girl', 'Master Z: Ip Man Legacy', 'The Worst Thing', 'Parallel', 'Woodland', 'Seven Weeks', 'Deep Hatred', 'About Fate', 'Brexitannia', 'Darbar', 'Women', 'Bad Match', 'Dave Made a Maze', 'Peace Officer', 'Most Beautiful Island', 'The Hatred', 'Victor Crowley', \"The Watchmaker's Apprentice\", 'The Courier', 'Papillon', 'Kajaki', 'SGT. Will Gardner', 'Bharat', \"Tom Clancy's Without Remorse\", 'Samrat Prithviraj', 'The Haunting of Sharon Tate', 'The Aeronauts', 'Dragon Knight', 'Never Surrender: A Galaxy Quest Documentary', 'Hidden Turkey', 'D-Railed', 'Mayday', 'Tokyo Rising', 'W/O Ram', 'Nerve', 'Killer Legends', 'Mendarat Darurat', 'Encounter', 'When Jeff Tried to Save the World', 'Myth: Bigfoot Hunters', 'Gold', 'True Story', 'Death Alley', 'Crown Heights', 'Pale Star', 'The Fourth Musketeer', 'RiffTrax: Lycan Colony', 'I Write My Life', 'Blackway', 'Cassette: A Documentary Mixtape', 'The Wee Man', '2149: The Aftermath', 'Sound of Metal', 'Aura', \"Kendrick Lamar's The Big Steppers Tour: Live from Paris\", 'Witches in the Woods', 'Found.', 'Dragonfly', 'Eternal Winter', 'Raja the Great', 'Rocketry: The Nambi Effect', 'Forte', 'Yashoda', 'Sidelined', 'The Utah Cabin Murders', 'Bachchhan Paandey', 'The Lie', 'Jolsobi', 'Killerman', 'Nerdland', 'Behind You', 'Spy Intervention', 'Shylock', 'The Way You Look Tonight', 'The Atoning', 'Irrefutable Proof', 'Country Hard', 'Phantom', 'Ride', 'Assassinaut', 'Kick Like Tayla', 'Stallone: Frank, That Is', '3022', \"Straight A's\", \"Daylight's End\", 'Break Every Chain', 'All Eyes on You', 'Marcus', 'Good Newwz', 'HoneyBee', 'Hoodman', '93 Days', 'K. D.', 'Lore', 'Chronically Metropolitan', 'What Lies Below', 'Vengeance Is Mine', 'Bully', 'Sold Out', 'D.L. Hughley: Clear', 'Dabangg 3', 'The Last Conception', 'The Rental', 'Dementamania', 'Wildlife', 'Kin Dread', 'Chick Fight', 'Inherit the Viper', 'Backfire', 'Captain Sabertooth and the Treasure of Lama Rama', 'Monster High: The Movie', 'Beyond the Law', 'Deadware', 'Rolling Stone: Life and Death of Brian Jones', 'Cobra', 'Payday', 'Back in the Day', \"Henry Gamble's Birthday Party\", 'Tammy', 'Thorp', 'Unit Eleven', 'Beaus of Holly', 'Witch Hunt', 'Make Us Dream', 'Dachau Liberation', 'The Dissident', 'Six Three Times', 'Man of the Match', 'A Haunting on Dice Road: The Hell House', 'Incarnation', 'The Arbitration', 'Mary Loss of Soul', 'It Takes Three', 'Mayor Pete', 'Wanted - Matloubin', 'Day of Reckoning', 'Rebel in the Rye', 'Silence Patton', 'Romance Retreat', 'Honest Thief', 'Miles Jupp: Fibber in the Heat', 'I Love America', 'White Island', 'Darken', 'Songbirds', 'Rachel Feinstein: Only Whores Wear Purple', 'Coldwater', 'The Witch of Kings Cross', 'QT8: The First Eight', 'Brakes', 'The Sound of 007', 'Dying of the Light', 'Thriller', 'The Last Survivors', 'OtherLife', 'Ishq Brandy', 'Mo', 'Bingo Hell', 'Historias lamentables', 'The Nest', 'Koi Jaane Na', 'Pyewacket', 'Luz: The Flower of Evil', 'Perfect Sisters', 'You Are My Problem', 'Greener Grass', 'Ice Guardians', 'The Weight of Gold', 'Paradise Cove', 'Samaritan', 'Tom Segura: Completely Normal', 'The Black Book', 'Sir Alex Ferguson: Never Give In', 'Tucked', 'Kuruthi', 'Maverick: Manhunt Brazil', 'Ammu', 'Super Duper Alice Cooper', 'Gehraiyaan', 'Thank God', 'The Accidental Spy', 'A Brixton Tale', 'When Love Happens', 'The Santa Box', 'Venky Mama', '3 Hearts', 'Crazy, Rich and Deadly', 'Werewolf Castle', 'The Heiress', 'Eye of the Beholder: The Art of Dungeons & Dragons', 'Baked in Brooklyn', 'Unknown Visitor', 'Meppadiyan', 'Kadaram Kondan', 'Elephant Song', \"Don't Go\", 'CT Fletcher: My Magnificent Obsession', 'IPC 376', 'Plan A', 'Incoming', 'The Frame', 'The Other Wife', 'Wedding Doll', 'The Last Descent', 'Karnan', 'Savyasachi', 'Generation Wealth', 'Marry Me at Christmas', 'Seymour: An Introduction', 'Transference: Escape the Dark', 'Three Days in Havana', 'Kaleidoscope', 'Palestine', 'Saltwater: The Battle for Ramree Island', 'Detective Byomkesh Bakshy!', '7 Deadly Sins', 'Alien Outbreak', 'The Town that Dreaded Sundown', '13 Minutes', 'Girls Like Magic', 'The Drone', \"You've Been Trumped Too\", 'Gang Leader', 'Peripheral', 'The Bezonians', 'Amar Akbar Anthony', 'Alien Code', 'The Witch Files', 'Vangelis and the Journey To Ithaka', 'Sanctuary: Population One', 'Monster Island', 'Dybbuk: The Curse Is Real', 'Anuvab Pal: Alive at 40', 'Trace', 'The Ice Forest', 'About Us', 'Cherry Pop', 'Chal Mera Putt', 'Leopardi', \"Devil's Revenge\", 'The Shed', 'Still the Water', \"Don't Worry, He Won't Get Far on Foot\", 'WWII: The Long Road Home', 'The Cleansing', 'Incidental Characters', 'The Set Up', 'Infernum', 'Home Sweet Home', 'Drawn Into the Night', 'Shadow in the Cloud', 'Apache Stays Apache', 'Zane Lamprey: Tender Looks', 'Planet Dune', 'Ibiza Undead', 'Anonymous Animals', 'Helix', 'Pretty Little Stalker', 'Brighton', 'Up North', 'Big Kill', 'Lurking Woods', 'The Sand', 'Miami', 'Avatara Purusha: Part 1', 'Ted K', 'Saani Kaayidham', 'Trick', 'Easy Does It', 'Alistair1918', 'Benedict Arnold: Hero Betrayed', 'Shakuntala Devi', 'First Signal', 'Nanny', 'My Pet Dinosaur', 'Making Monsters', 'Coven', 'I Am Not a Serial Killer', 'Knuckle City', 'Alone', 'Concrete Blondes', '#UNFIT: The Psychology of Donald Trump', \"All'alba perderò\", 'Kingdom of the Dinosaurs', 'The Death of April', \"Devil's Island\", 'The Commuter', 'The Ice Cream Truck', 'Airaa', 'Love on the Sidelines', 'Cowboys vs. Dinosaurs', 'A Girl Like Grace', 'Honsla Rakh', 'RX 100', 'Stalled', 'Borealis', 'The Professor and the Madman', 'Mistaken', 'Pranaam', 'Meet Cute', \"You're Killing Me\", 'Gwen', 'All This Mayhem', 'Savaged', 'Noah', 'The Purge: Anarchy', 'Mind Games', 'Naane Varuvean', 'Souvenir', 'Wish You Well', 'Encounter', 'Crone Wood', 'Jekyll and Hyde', 'Open Windows', 'Samba', 'And They Say I Am the Crazy One', 'Head Count', 'Kaappaan', 'The House of Violent Desire', 'Drishyam 2', 'Mustang Saviors', 'Frances Ferguson', 'Arsène Wenger: Invincible', 'Walking Out', 'Evil Takes Root', 'Lullaby', 'Aurora', 'Untamed Romania', 'Triple Seat', 'Time', 'The Curse of Professor Zardonicus', 'A Reckoning', 'Bone Tomahawk', 'Redemption', 'Corrective Measures', 'Royal Jelly', 'The Manor', 'Rammstein: Paris', 'Conjoined', 'Goblin', 'From Us to Me', 'Gold Statue', \"Everyone's Going to Die\", 'Project Gutenberg', 'Blackwater', 'Teenage Ghost Punk', 'The Brawler', 'The Pagan King', 'Legendary: Tomb of the Dragon', \"I'm Dreaming of a White Doomsday\", 'Malik', 'Elizabeth: A Portrait in Part(s)', 'The Tent', 'The Architect', 'The Wicked', \"America's Forgotten\", 'Clownado', 'After the Pandemic', 'Infinity Chamber', 'Bigfoot Wars', 'Sarileru Neekevvaru', 'The Lotus', 'Ouija Hosts', 'The Passion of Augustine', 'Remnants of a Disaster', 'Yaanaa', 'Killers Anonymous', 'The Legend of the Christmas Witch', 'Laal Rang', 'The Boy from Medellín', 'All This Panic', 'CBGB', 'Go North', 'Suburra', 'Honey Boy', 'UPSIDEdown', 'The Eighth Clause', 'Forsaken', 'Sachertorte', 'Bridal Wave', 'Addicted to Sheep', 'The Weeknd x The Dawn FM Experience', 'Cold Ground', 'Two 4 One', 'Mission of Honor', 'Black Label Society: Unblackened', 'Mahaan', 'Dad Rocks', 'Jeruzalem', 'We Need to Do Something', 'Rogue Warfare: Death of a Nation', 'The Last Photograph', 'Hot Seat', 'Winter Brothers', 'Assault on VA-33', 'Pataakha', 'Burning', 'Wiener-Dog', 'Being the Ricardos', 'Phony', 'Collider', 'Bad Comments', 'Shershaah', 'Black Widows', 'Rachel Bradley: Alpha Chick', 'Non-Stop', 'Kids in Love', 'Fatal Beauty', \"Jeremy Scott: The People's Designer\", 'Saving Jaws', 'Secrets Exposed', 'Black Box', 'Dead Again', 'The Last Witness', 'Another You', 'Locked In', 'Wolves of War', 'We Still Steal the Old Way', 'Good After Bad', 'Jawaan', 'The Penalty', 'C U Soon', 'Chappaquiddick', 'Geetha', 'Fear and Loathing in Aspen', 'The Curse of Buckout Road', 'Animator', 'The Legend of Barney Thomson', 'Rabbit School: Guardians of the Golden Egg', 'King Arthur and the Knights of the Round Table', 'Sandeep Aur Pinky Faraar', 'The Book of Love', 'Ip Man 3', 'A Good Marriage', 'The Last Case of August T. Harrison', 'The Purge: Election Year', 'Killer Piñata', 'Bear-Like', 'Borealis', 'Kalank', 'Invasion', 'The Rise of the Krays', 'A Man Named Scott', 'The Division: Agent Origins', 'Better Days: The Story of UK Rave', 'All In: The Fight for Democracy', 'This Is Not a Movie: Robert Fisk and the Politics of Truth', 'West of Eden', 'Narappa', 'Kickboxer: Vengeance', 'In-Lawfully Yours', 'Dark Was the Night', 'Soundtrack to Sixteen', 'The 24th', 'Underwater Federica Pellegrini', 'Shepherd', 'Iruttu Araiyil Murattu Kuthu', 'Bigil', 'The Tender Bar', 'Love Dot Com: The Social Experiment', '10 Days In Sun City', 'Moonwalkers', 'Steven Wilson: Home Invasion - In Concert at the Royal Albert Hall', 'Beyond the Lights', 'I Want You Back', 'Into the Forest', 'Attack of the Lederhosen Zombies', 'Sherni', \"Let's Kill Ward's Wife\", 'What the Waters Left Behind', 'We Go in at Dawn', 'Sher Shivraj', 'The Boy Who Killed My Parents', \"Don't Hang Up\", 'Flesh City', '2025 Armageddon', 'Run Sweetheart Run', 'K.G.F: Chapter 1', 'Holmes & Watson', 'Sugar Mountain', 'Home Run', 'Viking Destiny', 'The Book of Daniel', 'Prassthanam', 'Gnaw', 'Desconectados', 'Givers of Death', 'The Jack in the Box', 'The Final Wish', \"You're Not Alone\", 'Rising Wolf', 'Juang', 'A Killer Next Door', 'The Grotto', 'Blaze', 'Abominable', 'A Rising Tide', 'Lost in the Living', 'Citizen K', 'Dune', \"Ryan James: I'm Fine\", 'Pada', '1BR', 'Human Animals', 'Dog Years', 'Dawn', 'The Real Taylor Swift: Wild Dreams', 'The Ice Road', 'Daddy', 'Bandit', 'The Sleep Experiment', 'Marcus', 'Alpha Code', 'The Orange Man', 'Surviving Gaza', 'Ambili', 'Abigail Haunting', 'Waiting for the Barbarians', 'Majili', 'Central Park', 'Broken Darkness', 'The Extraordinary Journey of the Fakir', 'The Island', 'Wait for Your Laugh', 'Lucifer', 'Bound to Vengeance', 'Blackstock Boneyard', 'Aruvi', 'Broil', 'Vintage Tomorrows', 'Youth in Oregon', 'Joji', 'The Last Shift', 'Little Tickles', 'Ashgrove', 'Legacy of Lies', 'Black Box', 'Bryan Callen: Complicated Apes', 'A Snapshot of Forever', 'The Courtship', 'Lavender', 'Skateshop', 'Shark Waters', 'AmeriGeddon', 'Pulling Push Doors', 'Chasing Gold', 'The Killing Field', 'Blurred Lines: Inside the Art World', 'Arjun Patiala', 'Sardaarji', 'Fall City', 'The Vast of Night', 'Jessica', 'Acts of Violence', 'Kannadi', 'Haunted 3: Spirits', 'The Last Letter', 'Mindcage', 'Chasing the Dragon', 'The Lodgers', \"Dancin' It's On!\", 'The Darkness', 'Goodnight Mommy', 'Higher Power', 'The Trials of Cate McCall', 'Instant Death', 'Inheritance', 'Way of the Cross', 'Pitbull', 'Playhouse', 'Echoes of Fear', 'The Witness', 'Bhoot: Part One - The Haunted Ship', 'Spoken', 'One Cut Two Cut', 'Men who wanted to climb a mountain over 8000 meters', 'Master', 'Super Size Me 2: Holy Chicken!', 'We Are Triathletes', 'Christmas Pen Pals', 'Bully', 'The Family', 'Dear Comrade', 'Eating Our Way to Extinction', 'Hello Charlie', 'Goodachari', 'Gold Dust', 'Soft Lad', 'Film Fest', 'Love, Kennedy', 'Finding Joy', 'Ash & Dust', 'Sita Ramam', 'The Street', 'Black Circle', 'Blood on Her Name', \"Anything's Possible\", 'How We Got Gay', 'Rammstein in Amerika', 'Operation Overlord', 'Electronic Dance Music - A Top Export from Germany', 'Devotion', 'Edge of Extinction', 'M.O.M. Mothers of Monsters', 'Against the Night', 'Sanctuary', \"Apollo Astronauts: Training NASA's Moon Men\", \"Everybody's Talking About Jamie\", 'Kaala', 'Hawa', 'Macho Macho Man', 'Time Freak', 'Golden Dawn Girls', 'The Dating List', 'A.I. Rising', 'Fuku-chan of FukuFuku Flats', 'McCanick', 'Grey Wolf: The Escape of Adolf Hitler', 'Lazarus', 'Scaffolding', 'The Sleeper by the River', 'Virus', 'Saunkan Saunkne', 'Tom Papa: Freaked Out', 'Doblemente Embarazada 2', 'Metal Heart', 'Behind the Curve', 'The Transparent Woman', 'Midnight Screening', 'Untitled Horror Movie', 'Christmas Incorporated', 'Sui Dhaaga - Made in India', 'Tom Papa: Human Mule', \"Hannah: Buddhism's Untold Journey\", 'Wildcat', 'Fucking Drama', 'Miss Juneteenth', 'Occupation: Rainfall', 'Theatre of Fear', 'Thank You', 'High Tech Airport', \"A Shoe Addict's Christmas\", 'Moms at War', 'Dauntless: The Battle of Midway', '2eleven', 'Human Zoo', '1 Buck', 'Gleason', 'Jackpot', 'Once Upon a Prince', 'Ghost', 'Meth Head', 'Shark Huntress', 'A Thousand Times Good Night', \"My Dad's Christmas Date\", 'House Shark', 'Yeh Jawaani Hai Deewani', 'Index Zero', 'Running for Good: The Fiona Oakes Documentary', 'Vikram Vedha', 'Suriname', 'The Surprise', 'Viking Blood', 'Jayeshbhai Jordaar', 'Soul to Keep', 'Blame', 'Nemesis', 'The Wedding Trip', 'Seven Devils', 'The Green Sea', 'Viking Quest', 'Haunted 2: Apparitions', 'Muddy', 'Marakkar: Lion of the Arabian Sea', 'Equilibrium', 'Rustum', 'Curse of the Nun', 'Maja Ma', 'The Protector', 'Ayyappanum Koshiyum', 'I Am Vengeance', 'Rose Plays Julie', 'Escape from Pretoria', 'Wasteland', 'Mitron', 'Doe', 'Jack N Jill', 'Chicken People', 'Vengeance', 'Saaho', 'Shivaay', 'Elon Musk: The Real Life Iron Man', 'Someone Marry Barry', 'Transfert', 'Sarkaru Vaari Paata', 'The Green Park', 'Incision', 'Dalida', 'Zoo', 'The Secret Life of the Cruise', 'Between the Devil and the Deep', \"Mary J. Blige's My Life\", 'Detective Knight: Rogue', 'F2: Fun and Frustration', 'Making Babies', 'Pink Wall', 'LAW', 'The Curse of Halloween Jack', 'The Blind Spot', 'Ash and Bone', 'Pablo', 'Evil Never Dies', 'Nails', 'A Death in the Gunj', 'The Class of ‘92', 'American Fighter', 'Pitching Tents', 'Cupid', 'Sultan', 'Twilight of the Yakuza', 'Boston2Philly', 'We Love Paleo', 'Banana Island Ghost', '33 & Beyond: The Royal Art of Freemasonry', 'Pink: All I Know So Far', 'Newlyweeds', 'Big Boys Don’t Cry', 'Max', 'Red Obsession', 'Hippi', 'Whisper', 'Iddari Lokam Okate', 'Down Dog', 'Keep On Keepin’ On', 'The Internship', 'Stevie D', 'Notebook', 'After We Fell', 'Hope Lost', 'Vellai Pookal', 'Sita', 'Power of Grayskull: The Definitive History of He-Man and the Masters of the Universe', 'Road', \"The Pilgrim's Progress\", 'HIT: The 2nd Case', 'Entourage', 'Ping Pong Summer', 'Somm: Into the Bottle', 'Dear Tenant', 'One Night in Miami...', 'Big Sur', 'Rise of the Footsoldier: Origins', \"The Demon's Waltz\", 'Jexi', 'Boys in the Trees', 'The Load', 'Transition', 'Let Me Fall', 'Another Forever', 'Dark Seduction', 'Ideal Home', 'Muirhouse', 'Halloweed', 'Christmas with a Crown', 'Island Songs', 'Untimely', 'Boar', 'Manikarnika: The Queen of Jhansi', 'Gulabo Sitabo', 'Listen', 'Concrete Plans', 'Blood Bags', 'Letters from Baghdad', 'Time Is Up', 'Lizzie', 'The Hungry', 'Death Factory', \"A Stork's Journey\", 'Barista', 'Golmaal Again', 'The Man Who Killed Hitler and Then the Bigfoot', 'A Sunday Horse', 'UFO Conspiracies: The Hidden Truth', 'Beast of Burden', 'The Forbidden Note', 'Fatal Instinct', 'Marvellous', 'Pathonpatham Noottandu', 'Then Came You', 'Shangri-La: Near Extinction', 'Prisoner of Love', 'Seven Stages to Achieve Eternal Bliss', 'Crawlspace', 'Waiting for You', 'The Clockwork Girl', 'We Still Say Grace', 'Barun Rai and the House on the Cliff', 'Yes, God, Yes', 'K.G.F: Chapter 2', 'Made in Italy', 'A Guide to Dating at the End of the World', 'Horizon Line', 'The Magical Christmas Tree', 'Bring Him Back Dead', 'Who Owns Nature?', 'SPiN', 'The Girl Who Believes in Miracles', 'The Last 24 Hours: Elvis Presley', 'Galwakdi', 'Heir', 'Come True', 'Vinaya Vidheya Rama', 'Beyond Bollywood', 'To Let', 'Terror on the Prairie', 'The Reunited States', 'Sharkwater Extinction', 'Little Lies', 'Thappad', 'Show Me What You Got', 'You Must Be Joking', 'Nizhal', 'A Great North Christmas', 'Kim Dotcom: Caught in the Web', 'Cold Skin', 'Lasso', 'Officer', 'Hot Guys with Guns', 'The Beauty of Love', 'Leslie Caron: The Reluctant Star', \"Brother's Day\", 'Katherine of Alexandria', 'Zakir Khan: Kaksha Gyarvi', 'Jawbone', 'By Light of Desert Night', 'The President', 'Nosferatu.com', 'Emergency', 'The Snail and the Whale', 'Bounty Killer', 'Flashback', 'It Felt Like Love', 'October', 'Ghajinikanth', 'Frequencies', 'Pailwaan', 'The Haunted', '14 Cameras', 'Fire Twister', 'The Tiger Who Came to Tea', 'Alvin and the Chipmunks: The Road Chip', 'Monica and Friends: Lessons', 'Cinderella', 'Homestay', 'Tiffany Haddish: She Ready! From the Hood to Hollywood!', 'Mamangam', 'Wildfire', 'Fossil', 'Weaponized', 'Woe', 'Kabullywood', 'Monster Portal', 'The Connection', 'Prey', 'Sye Raa Narasimha Reddy', 'Avane Srimannarayana', 'A Stranger in Paradise', 'Fair Play', 'Get Duked!', 'Hotel Limbo', 'Bleeding Steel', \"I'm Your Woman\", 'Promise at Dawn', \"H.P. Lovecraft's Witch House\", 'Alta Vista', 'King Cnut', 'Thiruchitrambalam', 'Bhaskar Oru Rascal', 'Deadly Crush', 'Christmas in the Highlands', 'East Side Sushi', 'Malayankunju', 'Murder RX', 'Delicious', 'The Ways of Man', 'Giddy Stratospheres', 'Late Night Double Feature', 'Tatu', 'Gali Guleiyan', 'Student of the Year 2', \"Yalla Aa'belkon: Single, Married, Divorced\", 'LIFE·LOVE·DOGS', 'Press Play', 'Andron', 'My Father, Die', 'Naradan', 'No No: A Dockumentary', 'Mosagallu', 'Kill Command', 'Thugs of Hindostan', 'Annabellum: The Curse of Salem', 'Inside the Dream', '20 Feet from Stardom', 'Love and Other Cults', 'Force of Nature', 'Hollower', 'Arjun Reddy', '31', 'Odd Couple', 'Init!ation', 'Sharknado 5: Global Swarming', 'After the Ball', 'My Days of Mercy', 'The Killing of Kenneth Chamberlain', 'Hairbrained', 'Obsession', 'Ayogya', '10', 'Meeting Mr. Christmas', 'Veerappan', 'Everything About Her', 'Yuddham Sharanam', 'The Alternate', 'The End of Meat', 'A Year in Champagne', 'Lost in London', 'Hatched', 'The Last Victims', \"Forever's End\", 'Christmas in the Heartland', 'Stiv', 'Perimortem', 'CODumentary', 'Tiger House', 'Jawaani Jaaneman', 'Redeeming Love', 'Land of Hope', 'Gimme Danger', 'Holy Hell', 'The Russian Bride', 'Summer Daydream', 'Anarchy Parlor', 'S.O.S. Mamis: La película', 'Laal Kaptaan', 'Buddymoon', 'Bobby Robson: More Than a Manager', 'Silencio', '47 Days', 'Jeem Boom Bhaa', 'Hushaaru', 'Welcome to Happiness', 'Joker', 'Velle', 'Chris Porter: A Man From Kansas', 'Sunny', 'Blue Mountain State: The Rise of Thadland', 'Ente Ummante Peru', 'Axone', \"Something from Tiffany's\", 'Momentum', 'Ophelia', 'The Resistance Fighter', 'Son of the South', 'Dum Laga Ke Haisha', 'Detective Chinatown', 'Barefoot', 'Control', 'Saina', 'Breakpoint: A Counter History of Progress', 'Untrapped: The Story of Lil Baby', 'Dark Signal', 'The Last Keepers', 'Fraud Saiyaan', 'Kotigobba 3', 'Sunshine Superman', 'Road to Hell', 'Kill Kane', 'Star', 'The Diabolical Schemes of Thadeus Jackson', 'Adventure Boyz', 'Chilling Visions: 5 Senses of Fear', 'Caged No More', 'Bastille ReOrchestrated', 'The Curse', 'Banjara: The Truck Driver', 'The Future of Work and Death', 'Margaret Cho: PsyCHO', 'Ikkat', 'Equals', 'Bliss', 'KevCoin: The Movie', 'Sacrifice', 'The Operative', 'Senior Moment', 'Maharshi', 'Alice Fades Away', 'Tribal Get Out Alive', 'Theeran Adhigaaram Ondru', 'Kaduva', 'The Dark Red', 'Mardaani 2', 'French Biriyani', 'Wall', 'Napoleon', 'Chhalaang', 'Touch Chesi Chudu', 'A Good American', 'FIR', 'The Scandalous Four', 'Satanic Panic', 'Boycie in Belgrade', 'Tomorrow Is Today', 'Once Upon A Holiday', \"Mariah Carey's All I Want for Christmas Is You\", 'Ek Mini Katha', 'My Son', 'Burn', 'The Report', 'Honeyspider', \"We're All Fruit Salad!: The Wiggles' Greatest Hits\", 'The Condemned 2', 'Love at First Child', 'Bull Shark', 'Vault', 'Patterns of Evidence: The Exodus', 'Break', 'The Ghazi Attack', 'The Unthinkable', 'V', 'Ghoster', 'Sharmaji Namkeen', 'The Great Father', 'Jalsa', 'Gurgaon', 'Hostile Border', 'Good Tidings', 'Casa Vita', 'Almost Mercy', 'Fight For Space', 'Witness Infection', 'Achmed Saves America', 'Greyson Family Christmas', 'Orange', 'The Sunset Six', 'Rogue', 'Broken Mile', 'Guardians', 'Brian Posehn: Posehn 25x2', 'A Alma de um Ciclista', 'Snoop Dogg: Uncaged', 'Clerks III', 'Horror Anthology Movie Volume 1', 'Santana IV - Live at The House of Blues, Las Vegas', 'The Bag Man', 'Anne of Green Gables', 'Ladyworld', 'Grace and Goliath', 'Whispers Behind the Wall', 'The Christmas Sitters', 'Becoming Cary Grant', 'Ishq', 'Yuvarathnaa', 'Sufiyum Sujatayum', 'Sivappu Manjal Pachai', '9 Ways to Hell', 'Lilith', 'And Then There Was Eve', '1986', 'Padi Padi Leche Manasu', 'Odu Raja Odu', 'Darkness Wakes', 'Home', 'Kanan Gill: Keep It Real', 'Honeytrap', 'Celeste', 'Sparks & Embers', 'Villager News: War', 'Dogged', 'The Last Secrets Of 9/11', 'A Seat at the Table', 'Sameer', 'New Money', 'Death of Me', 'The Wedding Year', 'Hagazussa', \"Anna Karenina. Vronsky's Story\", 'Never Let Go', 'Night of the Kings', 'Wolf Manor', 'The Big Lie: American Addict 2', 'Underdogs', 'Oh My Dog', \"Ephraim's Rescue\"]\n",
    "all_movie_genres = []\n",
    "\n",
    "# Iterate through the movie titles to get genres\n",
    "for title in movie_titles:\n",
    "    max_retries = 3\n",
    "    retry_count = 0\n",
    "    while retry_count < max_retries:\n",
    "        try:\n",
    "            genres = get_movie_genres(title)\n",
    "            all_movie_genres.append({'Movie Title': title, 'Genres': genres})\n",
    "            print(f\"{title}:\\nGenres: {genres}\")\n",
    "            break  # Exit the loop if successful\n",
    "        except Exception as e:\n",
    "            print(f\"Error: {e}\")\n",
    "            retry_count += 1\n",
    "            time.sleep(2)  # Wait for a few seconds before retrying\n",
    "\n",
    "# Create a DataFrame with genres for all movies\n",
    "df = pd.DataFrame(all_movie_genres)\n",
    "\n",
    "# Display the DataFrame\n",
    "print(\"\\nDataFrame with Genres:\")\n",
    "print(df)\n"
   ]
  },
  {
   "cell_type": "code",
   "execution_count": 41,
   "id": "d6f17eec",
   "metadata": {},
   "outputs": [],
   "source": [
    "df.to_csv('genres_amazon.csv', index = False)"
   ]
  },
  {
   "cell_type": "code",
   "execution_count": 43,
   "id": "a78fee5f",
   "metadata": {},
   "outputs": [
    {
     "data": {
      "text/html": [
       "<div>\n",
       "<style scoped>\n",
       "    .dataframe tbody tr th:only-of-type {\n",
       "        vertical-align: middle;\n",
       "    }\n",
       "\n",
       "    .dataframe tbody tr th {\n",
       "        vertical-align: top;\n",
       "    }\n",
       "\n",
       "    .dataframe thead th {\n",
       "        text-align: right;\n",
       "    }\n",
       "</style>\n",
       "<table border=\"1\" class=\"dataframe\">\n",
       "  <thead>\n",
       "    <tr style=\"text-align: right;\">\n",
       "      <th></th>\n",
       "      <th>Movie Title</th>\n",
       "      <th>Genres</th>\n",
       "    </tr>\n",
       "  </thead>\n",
       "  <tbody>\n",
       "    <tr>\n",
       "      <th>0</th>\n",
       "      <td>Hours</td>\n",
       "      <td>[Action, Drama, History, Thriller, War]</td>\n",
       "    </tr>\n",
       "    <tr>\n",
       "      <th>1</th>\n",
       "      <td>The Grinch</td>\n",
       "      <td>[Animation, Comedy, Family, Fantasy, Musical]</td>\n",
       "    </tr>\n",
       "    <tr>\n",
       "      <th>2</th>\n",
       "      <td>In a World...</td>\n",
       "      <td>[Comedy]</td>\n",
       "    </tr>\n",
       "    <tr>\n",
       "      <th>3</th>\n",
       "      <td>All the Money in the World</td>\n",
       "      <td>[Biography, Crime, Drama, Mystery, Thriller]</td>\n",
       "    </tr>\n",
       "    <tr>\n",
       "      <th>4</th>\n",
       "      <td>Relic</td>\n",
       "      <td>[Drama, Horror, Mystery, Thriller]</td>\n",
       "    </tr>\n",
       "    <tr>\n",
       "      <th>...</th>\n",
       "      <td>...</td>\n",
       "      <td>...</td>\n",
       "    </tr>\n",
       "    <tr>\n",
       "      <th>1891</th>\n",
       "      <td>Wolf Manor</td>\n",
       "      <td>[Horror]</td>\n",
       "    </tr>\n",
       "    <tr>\n",
       "      <th>1892</th>\n",
       "      <td>The Big Lie: American Addict 2</td>\n",
       "      <td>[Documentary]</td>\n",
       "    </tr>\n",
       "    <tr>\n",
       "      <th>1893</th>\n",
       "      <td>Underdogs</td>\n",
       "      <td>[Animation, Adventure, Comedy, Family, Fantasy...</td>\n",
       "    </tr>\n",
       "    <tr>\n",
       "      <th>1894</th>\n",
       "      <td>Oh My Dog</td>\n",
       "      <td>[Drama, Family]</td>\n",
       "    </tr>\n",
       "    <tr>\n",
       "      <th>1895</th>\n",
       "      <td>Ephraim's Rescue</td>\n",
       "      <td>[Adventure, Drama, History]</td>\n",
       "    </tr>\n",
       "  </tbody>\n",
       "</table>\n",
       "<p>1896 rows × 2 columns</p>\n",
       "</div>"
      ],
      "text/plain": [
       "                         Movie Title  \\\n",
       "0                              Hours   \n",
       "1                         The Grinch   \n",
       "2                      In a World...   \n",
       "3         All the Money in the World   \n",
       "4                              Relic   \n",
       "...                              ...   \n",
       "1891                      Wolf Manor   \n",
       "1892  The Big Lie: American Addict 2   \n",
       "1893                       Underdogs   \n",
       "1894                       Oh My Dog   \n",
       "1895                Ephraim's Rescue   \n",
       "\n",
       "                                                 Genres  \n",
       "0               [Action, Drama, History, Thriller, War]  \n",
       "1         [Animation, Comedy, Family, Fantasy, Musical]  \n",
       "2                                              [Comedy]  \n",
       "3          [Biography, Crime, Drama, Mystery, Thriller]  \n",
       "4                    [Drama, Horror, Mystery, Thriller]  \n",
       "...                                                 ...  \n",
       "1891                                           [Horror]  \n",
       "1892                                      [Documentary]  \n",
       "1893  [Animation, Adventure, Comedy, Family, Fantasy...  \n",
       "1894                                    [Drama, Family]  \n",
       "1895                        [Adventure, Drama, History]  \n",
       "\n",
       "[1896 rows x 2 columns]"
      ]
     },
     "execution_count": 43,
     "metadata": {},
     "output_type": "execute_result"
    }
   ],
   "source": [
    "df"
   ]
  },
  {
   "cell_type": "code",
   "execution_count": 44,
   "id": "2c71f3c2",
   "metadata": {},
   "outputs": [
    {
     "name": "stderr",
     "output_type": "stream",
     "text": [
      "2023-12-27 19:55:31,069 ERROR [imdbpy] /Users/mac/opt/anaconda3/lib/python3.9/site-packages/imdb/__init__.py:844: unknown information set \"certificates\"\n",
      "2023-12-27 19:55:41,302 ERROR [imdbpy] /Users/mac/opt/anaconda3/lib/python3.9/site-packages/imdb/__init__.py:844: unknown information set \"certificates\"\n",
      "2023-12-27 19:55:42,934 ERROR [imdbpy] /Users/mac/opt/anaconda3/lib/python3.9/site-packages/imdb/__init__.py:844: unknown information set \"certificates\"\n",
      "2023-12-27 19:55:49,887 ERROR [imdbpy] /Users/mac/opt/anaconda3/lib/python3.9/site-packages/imdb/__init__.py:844: unknown information set \"certificates\"\n"
     ]
    },
    {
     "name": "stdout",
     "output_type": "stream",
     "text": [
      "\n",
      "DataFrame with Selected Certifications:\n",
      "                  Movie Title Certification\n",
      "0                       Hours           14A\n",
      "1                  The Grinch             G\n",
      "2               In a World...           14A\n",
      "3  All the Money in the World           14A\n"
     ]
    }
   ],
   "source": [
    "import pandas as pd\n",
    "from imdb import IMDb\n",
    "from concurrent.futures import ThreadPoolExecutor\n",
    "import time\n",
    "\n",
    "def get_movie_certification_with_rating(movie_title):\n",
    "    ia = IMDb()\n",
    "    try:\n",
    "        movie = ia.search_movie(movie_title)[0]\n",
    "        ia.update(movie, info=['main', 'certificates'])\n",
    "\n",
    "        certifications = movie.get('certificates')\n",
    "        if certifications:\n",
    "            for cert in certifications:\n",
    "                if 'USA' in cert or 'UK' in cert or 'Canada' in cert:\n",
    "                    return extract_rating_from_certification(cert)\n",
    "\n",
    "            if certifications:\n",
    "                return extract_rating_from_certification(certifications[0])\n",
    "    except Exception as e:\n",
    "        print(f\"Error fetching data for {movie_title}: {e}\")\n",
    "\n",
    "    return f'Movie \"{movie_title}\" not found or certification with rating not found for USA, UK, or Canada'\n",
    "\n",
    "def extract_rating_from_certification(certification):\n",
    "    return certification.split('::')[0].split(':')[-1]\n",
    "\n",
    "def process_movie(title):\n",
    "    certification = get_movie_certification_with_rating(title)\n",
    "    return {'Movie Title': title, 'Certification': certification}\n",
    "\n",
    "# Example usage\n",
    "movie_titles = ['Hours', 'The Grinch', 'In a World...', 'All the Money in the World']\n",
    "\n",
    "# Use ThreadPoolExecutor for parallelization\n",
    "with ThreadPoolExecutor() as executor:\n",
    "    results = list(executor.map(process_movie, movie_titles))\n",
    "\n",
    "# Create a DataFrame from the list of results\n",
    "df_certifications = pd.DataFrame(results)\n",
    "\n",
    "# Display the DataFrame\n",
    "print(\"\\nDataFrame with Selected Certifications:\")\n",
    "print(df_certifications)\n"
   ]
  },
  {
   "cell_type": "code",
   "execution_count": null,
   "id": "39a980a9",
   "metadata": {},
   "outputs": [],
   "source": []
  }
 ],
 "metadata": {
  "kernelspec": {
   "display_name": "Python 3 (ipykernel)",
   "language": "python",
   "name": "python3"
  },
  "language_info": {
   "codemirror_mode": {
    "name": "ipython",
    "version": 3
   },
   "file_extension": ".py",
   "mimetype": "text/x-python",
   "name": "python",
   "nbconvert_exporter": "python",
   "pygments_lexer": "ipython3",
   "version": "3.9.7"
  }
 },
 "nbformat": 4,
 "nbformat_minor": 5
}
